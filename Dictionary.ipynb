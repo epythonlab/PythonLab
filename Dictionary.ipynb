{
 "cells": [
  {
   "cell_type": "markdown",
   "metadata": {},
   "source": [
    "# Dictionary in Python"
   ]
  },
  {
   "cell_type": "markdown",
   "metadata": {},
   "source": [
    "<hr style=\"height:2;\">"
   ]
  },
  {
   "cell_type": "markdown",
   "metadata": {},
   "source": [
    "**Python** provides a lot of data types like `integer`, `double`, `boolean`, `string`, `tuple`, and `list`\n",
    "\n",
    "It also provides another composite data type called **dictionary** which is similar to the **list** that it is a collection of objects.\n",
    "\n",
    "Python dictionary is **unordered**, **changeable**, **indexed** collection of items"
   ]
  },
  {
   "cell_type": "markdown",
   "metadata": {},
   "source": [
    "Like **lists dictionaries** can easily be\n",
    "- changed,\n",
    "- shrunk\n",
    "- and grown without the necessity of making copies"
   ]
  },
  {
   "cell_type": "markdown",
   "metadata": {},
   "source": [
    "<hr>"
   ]
  },
  {
   "cell_type": "markdown",
   "metadata": {},
   "source": [
    "## Lists Vs Dictionaries"
   ]
  },
  {
   "cell_type": "markdown",
   "metadata": {},
   "source": [
    "## Similarities\n",
    "\n",
    "- Both are mutable.\n",
    "- Both are dynamic.\n",
    "- They can grow and shrink as needed.\n",
    "- Both can be nested.\n",
    "- A list can contain another list.\n",
    "- A dictionary can contain another dictionary.\n",
    "- A dictionary can also contain a list, and vice versa."
   ]
  },
  {
   "cell_type": "markdown",
   "metadata": {},
   "source": [
    "## Differences\n",
    "- Lists are ordered sets while dictionaries are unordered sets of objects\n",
    "- Items in lists are accessed via thier positions while items in dictionaries are access via keys\n"
   ]
  },
  {
   "cell_type": "markdown",
   "metadata": {},
   "source": [
    "<hr>"
   ]
  },
  {
   "cell_type": "markdown",
   "metadata": {},
   "source": [
    "## Creating a dictionary"
   ]
  },
  {
   "cell_type": "markdown",
   "metadata": {},
   "source": [
    "`Syntax: d = {<key>: <value>, <key>: <value>, <key>: <value> }`"
   ]
  },
  {
   "cell_type": "markdown",
   "metadata": {},
   "source": [
    "Each key is\n",
    "- separated from its value by a colon `(:)`,\n",
    "- the items are separated by commas,\n",
    "- and the whole thing is enclosed in curly braces`{}`.\n",
    "- An empty dictionary without any items is written with\n",
    "- just two curly braces, like this: `{}`."
   ]
  },
  {
   "cell_type": "code",
   "execution_count": 1,
   "metadata": {},
   "outputs": [
    {
     "name": "stdout",
     "output_type": "stream",
     "text": [
      "{}\n"
     ]
    }
   ],
   "source": [
    "# Example: Create empty dictionary and print\n",
    "d = {}\n",
    "print(d)"
   ]
  },
  {
   "cell_type": "code",
   "execution_count": 7,
   "metadata": {},
   "outputs": [
    {
     "name": "stdout",
     "output_type": "stream",
     "text": [
      "{1: 'apple', 2: 'banana', 3: 'orange'}\n",
      "{'name': 'asibeh', 1: 3}\n",
      "{1: 'apple', 2: 'banaba', 3: 'orange'}\n"
     ]
    }
   ],
   "source": [
    "# Example 1: Create dictionary with integer keys and print\n",
    "d = {1:'apple', 2:'banana', 3:'orange'}\n",
    "print(d)\n",
    "\n",
    "# Example 2: Create dictionary with mixed keys and print\n",
    "d = {'name': 'asibeh', 1:3}\n",
    "print(d)\n",
    "\n",
    "# Example 3: Create dictionary using dict and print\n",
    "d = dict({1:'apple', 2:'banaba', 3:'orange'})\n",
    "print(d)"
   ]
  },
  {
   "cell_type": "markdown",
   "metadata": {},
   "source": [
    "**Note**: While values can be of any data type and can repeat, keys must be of **immutable type (string, number or\n",
    "tuple with immutable elements)** and must be **unique**."
   ]
  },
  {
   "cell_type": "markdown",
   "metadata": {},
   "source": [
    "<hr>"
   ]
  },
  {
   "cell_type": "markdown",
   "metadata": {},
   "source": [
    "## Accessing Dictionary Elements"
   ]
  },
  {
   "cell_type": "markdown",
   "metadata": {},
   "source": [
    "While **indexing** is used with other container types to access values, dictionary uses keys.\n",
    "Key can be used either inside square brackets or with\n",
    "the `get()` method.\n",
    "\n",
    "The difference while using `get()` is that it returns `None`\n",
    "instead of `KeyError`, if the key is `not found`."
   ]
  },
  {
   "cell_type": "code",
   "execution_count": 47,
   "metadata": {},
   "outputs": [
    {
     "name": "stdout",
     "output_type": "stream",
     "text": [
      "{'name': 'Asibeh', 'age': 32, 'home_town': 'Addis Ababa'}\n",
      "Asibeh\n",
      "32\n",
      "Asibeh\n",
      "Addis Ababa\n"
     ]
    }
   ],
   "source": [
    "# Example 1: Create student profile and print the result\n",
    "std = {'name': 'Asibeh', 'age':32, 'home_town':'Addis Ababa'}\n",
    "print(std)\n",
    "\n",
    "# Access element by using dictionary item\n",
    "print(std['name'])\n",
    "print(std['age'])\n",
    "# access element by using get() method\n",
    "print(std.get('name'))\n",
    "print(std.get('home_town'))"
   ]
  },
  {
   "cell_type": "code",
   "execution_count": 48,
   "metadata": {},
   "outputs": [
    {
     "name": "stdout",
     "output_type": "stream",
     "text": [
      "None\n"
     ]
    }
   ],
   "source": [
    "\n",
    "print(std.get('school'))"
   ]
  },
  {
   "cell_type": "code",
   "execution_count": 49,
   "metadata": {},
   "outputs": [
    {
     "name": "stdout",
     "output_type": "stream",
     "text": [
      "{'name': 'Asibeh', 'age': 32, 'home_town': 'Addis Ababa', 'school': 'EPYTHON LAB'}\n",
      "{'name': 'Asibeh', 'age': 30, 'home_town': 'Addis Ababa', 'school': 'EPYTHON LAB'}\n",
      "{'name': 'Asibeh', 'age': 30, 'home_town': 'Addis Ababa', 'school': 'EPYTHON LAB'}\n"
     ]
    }
   ],
   "source": [
    "std['school'] = 'EPYTHON LAB' # adding new entry in the dictionary\n",
    "print(std)\n",
    "# update the value of age to 30\n",
    "std['age'] = 30\n",
    "print(std)\n",
    "# update the dictionary item using update()\n",
    "# the age value to 28\n",
    "print(std)"
   ]
  },
  {
   "cell_type": "markdown",
   "metadata": {},
   "source": [
    "## Deleting dictionary elements\n",
    "\n",
    "- You can either remove individual dictionary elements or clear the entire contents of a dictionary using `clear()` function.\n",
    "\n",
    "- You can also delete entire dictionary in a single operation. To explicitly remove an entire dictionary, just use the `del` statement.\n",
    "- Other functions like `pop()` and `popitem()` can also be used for deleting specific values and arbitrary values from a Dictionary.\n"
   ]
  },
  {
   "cell_type": "code",
   "execution_count": 50,
   "metadata": {},
   "outputs": [
    {
     "name": "stdout",
     "output_type": "stream",
     "text": [
      "{'name': 'Asibeh', 'age': 30, 'home_town': 'Addis Ababa', 'school': 'EPYTHON LAB'}\n",
      "{'name': 'Asibeh', 'home_town': 'Addis Ababa', 'school': 'EPYTHON LAB'}\n",
      "('school', 'EPYTHON LAB')\n",
      "{'name': 'Asibeh', 'home_town': 'Addis Ababa'}\n"
     ]
    },
    {
     "ename": "NameError",
     "evalue": "name 'std' is not defined",
     "output_type": "error",
     "traceback": [
      "\u001b[0;31m---------------------------------------------------------------------------\u001b[0m",
      "\u001b[0;31mNameError\u001b[0m                                 Traceback (most recent call last)",
      "\u001b[0;32m<ipython-input-50-39d0fec91fcc>\u001b[0m in \u001b[0;36m<module>\u001b[0;34m\u001b[0m\n\u001b[1;32m     16\u001b[0m \u001b[0;31m#std.clear()\u001b[0m\u001b[0;34m\u001b[0m\u001b[0;34m\u001b[0m\u001b[0m\n\u001b[1;32m     17\u001b[0m \u001b[0;32mdel\u001b[0m \u001b[0mstd\u001b[0m\u001b[0;34m\u001b[0m\u001b[0;34m\u001b[0m\u001b[0m\n\u001b[0;32m---> 18\u001b[0;31m \u001b[0mprint\u001b[0m\u001b[0;34m(\u001b[0m\u001b[0mstd\u001b[0m\u001b[0;34m)\u001b[0m\u001b[0;34m\u001b[0m\u001b[0;34m\u001b[0m\u001b[0m\n\u001b[0m",
      "\u001b[0;31mNameError\u001b[0m: name 'std' is not defined"
     ]
    }
   ],
   "source": [
    "# Eample 1: remove entry with key name \n",
    "\n",
    "#del std['school']\n",
    "print(std)\n",
    "\n",
    "#\n",
    "# Example 2: Deleting a key using pop()\n",
    "std.pop('age')\n",
    "print(std)\n",
    "# Example 3: Deleting a key using popitem()\n",
    "print(std.popitem())\n",
    "print(std)\n",
    "\n",
    "# Example 4: Remove the entire dictionary using clear()\n",
    "\n",
    "#std.clear()\n",
    "del std\n",
    "print(std)"
   ]
  },
  {
   "cell_type": "markdown",
   "metadata": {},
   "source": [
    "## Accessing all elements using Loop\n",
    "You can loop through a dictionary by using a `for loop`.\n",
    "\n",
    "When looping through a dictionary,the return value are the keys of the dictionary, but there\n",
    "are methods to return the values as well."
   ]
  },
  {
   "cell_type": "code",
   "execution_count": 74,
   "metadata": {},
   "outputs": [
    {
     "name": "stdout",
     "output_type": "stream",
     "text": [
      "3\n",
      "4\n",
      "34\n",
      "Using values: 3\n",
      "Using values: 4\n",
      "Using values: 34\n",
      "3\n",
      "4\n",
      "34\n",
      "1 : 3\n",
      "2 : 4\n",
      "age : 34\n",
      "Yes\n"
     ]
    }
   ],
   "source": [
    "# Example 1 : Create new dictionary and print all keys in the dictionary \n",
    "\n",
    "my_dict = {1:3, 2:4, 'age': 34} #\n",
    "\n",
    "for key in my_dict:\n",
    "    print(my_dict.get(key))\n",
    "\n",
    "# Example 2: Print all values through a dictionary \n",
    "for value in my_dict.values():\n",
    "    print(\"Using values:\", value)\n",
    "\n",
    "# Example 3: Print all values through a dictionary using values() method\n",
    "for key in my_dict:\n",
    "    print(my_dict[key])\n",
    "\n",
    "# Example 4: Print all keys and values through a dictionary using items() method\n",
    "for key, value in my_dict.items():\n",
    "    print(key,\":\", value)\n",
    "\n",
    "if 1 in my_dict:\n",
    "    print(\"Yes\")\n",
    "else:\n",
    "    print(\"key not found\")"
   ]
  },
  {
   "cell_type": "markdown",
   "metadata": {},
   "source": [
    "## Nested Dictionary\n",
    "\n",
    "Nesting Dictionary means putting a dictionary inside another dictionary.\n",
    "\n",
    "Nesting is of great use as the kind of information we can\n",
    "model in programs is expanded greatly."
   ]
  },
  {
   "cell_type": "markdown",
   "metadata": {},
   "source": [
    "`nested_dict = { 'dict1': {'key_A': 'value_A'},\n",
    "'dict2': {'key_B': 'value_B'}}`\n",
    "                \n",
    "A Nested dictionary can be created by placing the comma-\n",
    "separated dictionaries enclosed withing braces."
   ]
  },
  {
   "cell_type": "code",
   "execution_count": 70,
   "metadata": {},
   "outputs": [
    {
     "name": "stdout",
     "output_type": "stream",
     "text": [
      "{}\n",
      "{'dict1': {}}\n",
      "{'dict1': {'name': 'asibeh'}}\n",
      "{'dict1': {'name': 'asibeh', 'age': 32}}\n",
      "asibeh\n",
      "asibeh\n",
      "32\n"
     ]
    }
   ],
   "source": [
    "# Example 1: Create empty dictionary dict1\n",
    "nested_dict = {}\n",
    "print(nested_dict)\n",
    "\n",
    "# Example 2: Create empty nested dictionary inside dict1\n",
    "nested_dict['dict1'] = {}\n",
    "\n",
    "print(nested_dict)\n",
    "\n",
    "# Example 3: Adding element one at a time\n",
    "nested_dict['dict1']['name'] = 'asibeh'\n",
    "print(nested_dict)\n",
    "\n",
    "# Example 4: Adding whole dictionary\n",
    "nested_dict['dict1'] = {'name': 'asibeh', 'age': 32}\n",
    "print(nested_dict)\n",
    "\n",
    "# access nested dictionary\n",
    "print(nested_dict['dict1']['name'])\n",
    "for key in nested_dict['dict1']:\n",
    "        print(nested_dict['dict1'][key])"
   ]
  },
  {
   "cell_type": "code",
   "execution_count": 73,
   "metadata": {},
   "outputs": [
    {
     "data": {
      "text/plain": [
       "dict_keys([1])"
      ]
     },
     "execution_count": 73,
     "metadata": {},
     "output_type": "execute_result"
    }
   ],
   "source": [
    "dict1 = {1:2}\n",
    "dict2 = {3:1, 4:2}\n",
    "dict1.keys()"
   ]
  },
  {
   "cell_type": "markdown",
   "metadata": {},
   "source": [
    "## Reading Assignment\n",
    "#### Additional Built-in dictionary Functions and Methods"
   ]
  },
  {
   "cell_type": "markdown",
   "metadata": {},
   "source": [
    "`cmp(dict1, dict2)`, `len(dict)`, `str(dict)`, `type(variable)`, `copy()`, `clear()`, `keys()`, `fromkeys`,  `Updates`, `setdefault()`"
   ]
  },
  {
   "cell_type": "markdown",
   "metadata": {},
   "source": [
    "<hr>"
   ]
  }
 ],
 "metadata": {
  "kernelspec": {
   "display_name": "Python 3",
   "language": "python",
   "name": "python3"
  },
  "language_info": {
   "codemirror_mode": {
    "name": "ipython",
    "version": 3
   },
   "file_extension": ".py",
   "mimetype": "text/x-python",
   "name": "python",
   "nbconvert_exporter": "python",
   "pygments_lexer": "ipython3",
   "version": "3.9.9"
  },
  "widgets": {
   "application/vnd.jupyter.widget-state+json": {
    "state": {},
    "version_major": 2,
    "version_minor": 0
   }
  }
 },
 "nbformat": 4,
 "nbformat_minor": 4
}
