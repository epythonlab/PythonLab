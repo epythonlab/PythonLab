{
 "cells": [
  {
   "cell_type": "markdown",
   "id": "33e3de1a-5631-4dcf-b0b7-2e78ff170c57",
   "metadata": {},
   "source": [
    "# Mean Absolute Error(MAE) and Mean Squared Error"
   ]
  },
  {
   "cell_type": "markdown",
   "id": "c6a03032-5583-4951-be10-f581b52f5b1d",
   "metadata": {},
   "source": [
    "What is Mean Absolute Error?"
   ]
  },
  {
   "cell_type": "markdown",
   "id": "249a6858-e6a4-4806-95b9-87210e454408",
   "metadata": {},
   "source": [
    "In statistics, mean absolute error `(MAE)` is a measure of errors between paired observations expressing the same phenomenon"
   ]
  },
  {
   "cell_type": "markdown",
   "id": "1a00e4c1-f3e4-4eac-afa8-4ad5ae51dcde",
   "metadata": {},
   "source": [
    "Examples of `Y` versus `X` include comparisons of predicted versus observed,"
   ]
  },
  {
   "cell_type": "markdown",
   "id": "ed3abee2-c214-4ee5-857c-58023a43e67b",
   "metadata": {},
   "source": [
    "![image](images/mae.png)"
   ]
  },
  {
   "cell_type": "code",
   "execution_count": 1,
   "id": "bc68ae66-2121-4423-9ed2-2a643747188b",
   "metadata": {
    "tags": []
   },
   "outputs": [
    {
     "name": "stdout",
     "output_type": "stream",
     "text": [
      "3.88\n"
     ]
    }
   ],
   "source": [
    "# Calculate mean absolute error without sklearn\n",
    "def mae(ytrue, yhat):\n",
    "    \n",
    "    try:\n",
    "        if len(ytrue) == len(yhat):\n",
    "            error = sum([abs(y-yh) for (y, yh) in zip(ytrue, yhat)])/len(ytrue)\n",
    "            return error\n",
    "        else:\n",
    "            return \"the shape is not equal\"\n",
    "            \n",
    "    except TypeError as e:\n",
    "        return e\n",
    "\n",
    "# testing the function\n",
    "# equation:\n",
    "points = [(2, -2), (5, 6), (-4, -4), (-7, 1), (8, 14)]\n",
    "ytrue = [p[1] for p in points]\n",
    "yhat = []\n",
    "\n",
    "for x in [p[0] for p in points]:\n",
    "    yhat.append(1.2*x+2)\n",
    "    \n",
    "print(mae(ytrue, yhat))\n"
   ]
  },
  {
   "cell_type": "markdown",
   "id": "908c8cd9-c390-4711-a22d-45c9656fd467",
   "metadata": {},
   "source": [
    "### Q: is a higher or lower MAE is better?"
   ]
  },
  {
   "cell_type": "markdown",
   "id": "79321a18-d39f-4ccf-aeee-963ec527e166",
   "metadata": {},
   "source": [
    "# Mean Squared Error(MSE)"
   ]
  },
  {
   "cell_type": "markdown",
   "id": "9daac4fd-2853-48d9-936a-ae9902d7a278",
   "metadata": {},
   "source": [
    "What is MSE?\n",
    "\n",
    "\n",
    "In statistics, the mean squared error or mean squared deviation of an estimator measures the average of the squares of the errors—that is, the average squared difference between the estimated values and the actual value. \n",
    "\n",
    "MSE is a risk function, corresponding to the expected value of the squared error loss."
   ]
  },
  {
   "cell_type": "markdown",
   "id": "f86be4d5-cd62-4de7-8fdb-cb58575938a8",
   "metadata": {},
   "source": [
    "![image.png](images/mse.png)"
   ]
  },
  {
   "cell_type": "code",
   "execution_count": 2,
   "id": "5d925d33-b513-4a54-ad59-2170d25b5597",
   "metadata": {
    "tags": []
   },
   "outputs": [
    {
     "name": "stdout",
     "output_type": "stream",
     "text": [
      "10.692000000000002\n"
     ]
    }
   ],
   "source": [
    "# Calculate mean squared error without sklearn\n",
    "def mse(ytrue, yhat):\n",
    "    # The difference between mae is that in mse\n",
    "    # we have to square the difference between the true and yhat points\n",
    "    # and double the dinominatortr\n",
    "    try:\n",
    "        if len(ytrue) == len(yhat):\n",
    "            error = sum([(y-yh)**2 for (y, yh) in zip(ytrue, yhat)])/(2*len(ytrue))\n",
    "            return error\n",
    "        else:\n",
    "            return \"the shape is not equal\"\n",
    "            \n",
    "    except Error as e:\n",
    "        print(e)\n",
    "\n",
    "# testing the function\n",
    "# equation:\n",
    "points = [(2, -2), (5, 6), (-4, -4), (-7, 1), (8, 14)]\n",
    "ytrue = [p[1] for p in points]\n",
    "yhat = []\n",
    "for x in [p[0] for p in points]:\n",
    "    yhat.append(1.2*x+2)\n",
    "    \n",
    "print(mse(ytrue, yhat))\n"
   ]
  },
  {
   "cell_type": "markdown",
   "id": "59feb2b9-1779-4b51-882c-dcba983d43e4",
   "metadata": {},
   "source": [
    "### Q: is a higher or lower MSE is better?"
   ]
  }
 ],
 "metadata": {
  "kernelspec": {
   "display_name": "Python 3",
   "language": "python",
   "name": "python3"
  },
  "language_info": {
   "codemirror_mode": {
    "name": "ipython",
    "version": 3
   },
   "file_extension": ".py",
   "mimetype": "text/x-python",
   "name": "python",
   "nbconvert_exporter": "python",
   "pygments_lexer": "ipython3",
   "version": "3.9.10"
  },
  "widgets": {
   "application/vnd.jupyter.widget-state+json": {
    "state": {},
    "version_major": 2,
    "version_minor": 0
   }
  }
 },
 "nbformat": 4,
 "nbformat_minor": 5
}
