{
 "cells": [
  {
   "cell_type": "markdown",
   "id": "0895de48-1e21-4ace-b8a2-8d600f9cc744",
   "metadata": {},
   "source": [
    "# Generate Dummy Data in Python"
   ]
  },
  {
   "cell_type": "markdown",
   "id": "ddcea9c3-aa1f-4235-98d7-55dc8f0071f3",
   "metadata": {},
   "source": [
    "If you want to fill your database with dummy data for testing, how you could generate dummy data?"
   ]
  },
  {
   "cell_type": "markdown",
   "id": "f4ee3a43-8674-4050-87f9-3c939270d6bc",
   "metadata": {},
   "source": [
    "In order to generate Fake data and fill the database, we will use Faker library in Python.\n",
    "\n",
    "Fake data is often used for testing or filling databases with some dummy data."
   ]
  },
  {
   "cell_type": "markdown",
   "id": "ef11e88e-faab-4455-8066-37ba16991472",
   "metadata": {},
   "source": [
    "### Let's Follow the following steps to generate dummy data"
   ]
  },
  {
   "cell_type": "markdown",
   "id": "ebad715d-838a-4da6-a4bb-5bba6098bb6a",
   "metadata": {},
   "source": [
    "#### 1. Install the Faker libray"
   ]
  },
  {
   "cell_type": "code",
   "execution_count": null,
   "id": "dbb1e282-35dd-4e3a-ae6d-52079cd3d4df",
   "metadata": {},
   "outputs": [],
   "source": [
    "# install faker library using the command pip on the command prompt\n",
    "pip install Faker\n"
   ]
  },
  {
   "cell_type": "markdown",
   "id": "a8b5ca6f-7b0b-4703-923d-206447be842f",
   "metadata": {},
   "source": [
    "2. Import the module "
   ]
  },
  {
   "cell_type": "code",
   "execution_count": 1,
   "id": "8ce1ec87-08ad-461f-b1d5-de66b4f571a8",
   "metadata": {},
   "outputs": [],
   "source": [
    "# import Faker\n",
    "from faker import Faker"
   ]
  },
  {
   "cell_type": "markdown",
   "id": "de7693ff-047b-421e-82dc-7ebef41a9e4b",
   "metadata": {},
   "source": [
    "3. Initialize the object\n"
   ]
  },
  {
   "cell_type": "code",
   "execution_count": 2,
   "id": "a775e58c-7e82-4d7c-a56f-752548f006dd",
   "metadata": {},
   "outputs": [],
   "source": [
    "faker = Faker()"
   ]
  },
  {
   "cell_type": "markdown",
   "id": "99f7a523-6c82-4be4-855b-abf57d3cab3d",
   "metadata": {},
   "source": [
    "4. Create dummy data\n"
   ]
  },
  {
   "cell_type": "markdown",
   "id": "af52c2fa-fa13-4e98-9ff5-3feafa48d9bd",
   "metadata": {},
   "source": [
    "let's create 10 Data which contains `Name, Email, and Country`"
   ]
  },
  {
   "cell_type": "code",
   "execution_count": 13,
   "id": "a288ce66-0a98-49c0-853d-e0e568972e67",
   "metadata": {},
   "outputs": [],
   "source": [
    "# create empty dictionary\n",
    "dummy_data = {'name': [], 'email':[], 'country':[]}\n",
    "# iterating over rows and append each data to the dict\n",
    "for i in range(10):\n",
    "    dummy_data['name'].append(faker.name())\n",
    "    dummy_data['email'].append(faker.email())\n",
    "    dummy_data['country'].append(faker.country())"
   ]
  },
  {
   "cell_type": "code",
   "execution_count": 14,
   "id": "e4aba0ed-739c-460a-9b0e-3c04554b0397",
   "metadata": {},
   "outputs": [
    {
     "data": {
      "text/plain": [
       "{'name': ['Mary Parker',\n",
       "  'Joan Middleton',\n",
       "  'Lisa Harris',\n",
       "  'Robert Gonzalez MD',\n",
       "  'Jordan Garcia',\n",
       "  'Logan Johnson',\n",
       "  'Dean Cruz',\n",
       "  'Joan Ritter',\n",
       "  'Andrew Garcia',\n",
       "  'Terry Barnes'],\n",
       " 'email': ['bethany26@michael.net',\n",
       "  'michellehale@singleton.com',\n",
       "  'isaacsaunders@hotmail.com',\n",
       "  'jerrygonzales@velasquez.com',\n",
       "  'olsensarah@lee.com',\n",
       "  'ubooth@gmail.com',\n",
       "  'fhayes@francis-hawkins.com',\n",
       "  'stephanie48@hall.info',\n",
       "  'zwerner@yahoo.com',\n",
       "  'kimwalker@gmail.com'],\n",
       " 'country': ['Nepal',\n",
       "  'Pakistan',\n",
       "  'Solomon Islands',\n",
       "  'Canada',\n",
       "  'Canada',\n",
       "  'Malta',\n",
       "  'Namibia',\n",
       "  'India',\n",
       "  'British Virgin Islands',\n",
       "  'Chad']}"
      ]
     },
     "execution_count": 14,
     "metadata": {},
     "output_type": "execute_result"
    }
   ],
   "source": [
    "dummy_data"
   ]
  },
  {
   "cell_type": "code",
   "execution_count": null,
   "id": "e06d826c-4ff0-4c62-b638-0be25058e505",
   "metadata": {},
   "outputs": [],
   "source": []
  }
 ],
 "metadata": {
  "kernelspec": {
   "display_name": "Python 3",
   "language": "python",
   "name": "python3"
  },
  "language_info": {
   "codemirror_mode": {
    "name": "ipython",
    "version": 3
   },
   "file_extension": ".py",
   "mimetype": "text/x-python",
   "name": "python",
   "nbconvert_exporter": "python",
   "pygments_lexer": "ipython3",
   "version": "3.9.10"
  },
  "widgets": {
   "application/vnd.jupyter.widget-state+json": {
    "state": {},
    "version_major": 2,
    "version_minor": 0
   }
  }
 },
 "nbformat": 4,
 "nbformat_minor": 5
}
