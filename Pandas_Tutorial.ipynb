{
  "nbformat": 4,
  "nbformat_minor": 0,
  "metadata": {
    "colab": {
      "private_outputs": true,
      "provenance": [],
      "authorship_tag": "ABX9TyOEF/HplrPrMyK02HHRYMbw",
      "include_colab_link": true
    },
    "kernelspec": {
      "name": "python3",
      "display_name": "Python 3"
    },
    "language_info": {
      "name": "python"
    }
  },
  "cells": [
    {
      "cell_type": "markdown",
      "metadata": {
        "id": "view-in-github",
        "colab_type": "text"
      },
      "source": [
        "<a href=\"https://colab.research.google.com/github/epythonlab/PythonLab/blob/master/Pandas_Tutorial.ipynb\" target=\"_parent\"><img src=\"https://colab.research.google.com/assets/colab-badge.svg\" alt=\"Open In Colab\"/></a>"
      ]
    },
    {
      "cell_type": "markdown",
      "source": [
        "# Beginner's Guide to Pandas: Data Manipulation and Analysis in Python"
      ],
      "metadata": {
        "id": "adcsxlEzVe3B"
      }
    },
    {
      "cell_type": "markdown",
      "source": [
        "## Description:"
      ],
      "metadata": {
        "id": "R4CE9RXLV8Yw"
      }
    },
    {
      "cell_type": "markdown",
      "source": [
        "\n",
        "\"Learn the fundamentals of Pandas, the powerful data manipulation and analysis library in Python. This beginner-friendly tutorial covers everything you need to know to get started with Pandas. Explore data structures, create and manipulate DataFrames, clean and preprocess data, perform aggregation and analysis, and visualize your findings. Gain essential skills for data analysis and unlock the full potential of Pandas in your projects. No prior experience required. Dive into the world of data with Pandas today!\"\n",
        "\n",
        "Keywords:\n",
        "\n",
        "Pandas tutorial,\n",
        "Data manipulation,\n",
        "Data analysis,\n",
        "Python data analysis,\n",
        "Data cleaning,\n",
        "Data preprocessing,\n",
        "DataFrame operations,\n",
        "Pandas Series,\n",
        "Data aggregation,\n",
        "Data visualization,\n",
        "Beginner's guide,\n",
        "Python programming,"
      ],
      "metadata": {
        "id": "_OFeofFdV6Bj"
      }
    },
    {
      "cell_type": "markdown",
      "source": [
        "## Introduction"
      ],
      "metadata": {
        "id": "DoDP2jySWhxr"
      }
    },
    {
      "cell_type": "markdown",
      "source": [
        "**Pandas** is a powerful library in Python designed for data manipulation and analysis. It provides easy-to-use and efficient data structures and functions that enable you to work with structured data effectively. Whether you're dealing with small or large datasets, **Pandas** offers a wide range of functionalities to handle common data-related tasks.\n",
        "\n",
        "One of the key advantages of **Pandas** is its integration with **NumPy**, another popular library for numerical computing in Python.\n",
        "\n",
        "**Pandas** is built on top of **NumPy**, harnessing its computational power and extending it with additional high-level data manipulation capabilities. This combination of Pandas and NumPy creates a powerful environment for working with data, allowing for efficient data processing, analysis, and transformation.\n",
        "\n",
        "The significance of Pandas in various data-related tasks cannot be overstated. Some of the key areas where Pandas excels include:\n",
        "\n",
        "* Data Cleaning and Preprocessing:\n",
        "\n",
        "  * Pandas provides functions and methods to handle missing data, remove duplicates, handle data type conversions, and perform other data cleaning tasks. It enables you to ensure data quality and consistency before analysis.\n",
        "\n",
        "* Data Transformation and Manipulation:\n",
        "  * Pandas offers powerful tools for transforming and manipulating data. You can perform operations such as filtering, sorting, grouping, merging, and reshaping data, making it easy to tailor the data to your specific needs.\n",
        "\n",
        "* Data Analysis and Aggregation:\n",
        "  * With Pandas, you can perform various statistical and mathematical operations on datasets. It allows for efficient data aggregation, summarization, and calculation of descriptive statistics. Pandas also integrates well with other libraries for advanced data analysis, such as machine learning and statistical modeling libraries.\n",
        "\n",
        "\n",
        "* Data Visualization:\n",
        "  * Pandas integrates seamlessly with visualization libraries like Matplotlib and Seaborn. It provides convenient methods to create plots, charts, and graphs from data stored in Series and DataFrames, making it easier to visualize and communicate insights.\n",
        "\n",
        "By leveraging the power of Pandas, data analysts, scientists, and researchers can streamline their workflow, reduce coding complexity, and focus on extracting valuable insights from data. Whether you're working with small datasets or large-scale data processing tasks, Pandas offers the tools and capabilities to efficiently handle data manipulation and analysis."
      ],
      "metadata": {
        "id": "ly8bi1OpWv2i"
      }
    },
    {
      "cell_type": "markdown",
      "source": [
        "## Step 1: Installation:"
      ],
      "metadata": {
        "id": "EU-c7hxWYmLD"
      }
    },
    {
      "cell_type": "code",
      "execution_count": null,
      "metadata": {
        "id": "BeCUYUvTVd0y"
      },
      "outputs": [],
      "source": [
        "pip install pandas\n",
        "pip install numpy"
      ]
    },
    {
      "cell_type": "markdown",
      "source": [
        "## Step 2: Importing Pandas"
      ],
      "metadata": {
        "id": "ck8EkWxNY4uI"
      }
    },
    {
      "cell_type": "code",
      "source": [
        "import pandas as pd\n",
        "import numpy as np"
      ],
      "metadata": {
        "id": "JbmWgrpQY4AC"
      },
      "execution_count": null,
      "outputs": []
    },
    {
      "cell_type": "markdown",
      "source": [
        "## Data Structures in Pandas\n",
        "\n",
        "There are two data structures in Pandas\n",
        "- pandas dataframe\n",
        "- pandas series"
      ],
      "metadata": {
        "id": "O2e_uN0GZIT_"
      }
    },
    {
      "cell_type": "markdown",
      "source": [
        "## 1. Series:\n"
      ],
      "metadata": {
        "id": "jPwghhY_Wqjp"
      }
    },
    {
      "cell_type": "markdown",
      "source": [
        "A Series is a one-dimensional labeled array capable of holding data of any type.\n",
        "* It is similar to a column in a spreadsheet or a one-dimensional NumPy array.\n",
        "* A Series consists of two main components:\n",
        "  * the data itself and\n",
        "  * a set of index labels that uniquely identify each element.\n",
        "\n",
        "Example:\n",
        "* Demonstrate different methods to create a Series."
      ],
      "metadata": {
        "id": "9DCUzJf3WvjK"
      }
    },
    {
      "cell_type": "code",
      "source": [
        "# Creating a Series from a list\n",
        "s = pd.Series([1, 3, 5, np.nan, 6, 8])\n",
        "\n",
        "# Creating a Series from a NumPy array\n",
        "arr = np.array([1, 2, 3, 4, 5])\n",
        "s = pd.Series(arr)\n",
        "\n",
        "# Creating a Series from a dictionary\n",
        "d = {'a': 1, 'b': 2, 'c': 3}\n",
        "s = pd.Series(d)\n"
      ],
      "metadata": {
        "id": "knZyJOgcZRC6"
      },
      "execution_count": null,
      "outputs": []
    },
    {
      "cell_type": "markdown",
      "source": [
        "In this example, I created a Series with values using different methods. The Series automatically assigns an index label to each value, starting from 0. So, the Series has index labels `[0, 1, 2, 3, 4]` associated with the values.\n",
        "\n"
      ],
      "metadata": {
        "id": "hX2D3Ko1WpF1"
      }
    },
    {
      "cell_type": "markdown",
      "source": [
        "## Accessing and Manipulating Data in a Series\n",
        "Example: Illustrate how to access and manipulate data in a Series."
      ],
      "metadata": {
        "id": "Gc6EMgYcZuAF"
      }
    },
    {
      "cell_type": "code",
      "source": [
        "# Accessing elements by index\n",
        "s[0]\n",
        "s[1:3]\n",
        "\n",
        "# Performing operations on Series\n",
        "s + 10\n",
        "s.mean()"
      ],
      "metadata": {
        "id": "oGjg4I5jZ3jp"
      },
      "execution_count": null,
      "outputs": []
    },
    {
      "cell_type": "markdown",
      "source": [
        "## Key Points:\n",
        "\n",
        "A Series is one-dimensional and can hold any data type (integer, float, string, etc.).\n",
        "It has both the data and the index labels, allowing for easy and efficient data access.\n",
        "Series operations and computations are aligned based on the index labels.\n"
      ],
      "metadata": {
        "id": "tn0Hsj4MZ4eA"
      }
    },
    {
      "cell_type": "markdown",
      "source": [
        "## DataFrame"
      ],
      "metadata": {
        "id": "DGIL0BMU9yWv"
      }
    },
    {
      "cell_type": "markdown",
      "source": [
        "A **DataFrame** is a two-dimensional labeled data structure, resembling a table or a spreadsheet. It consists of rows and columns, where each column can hold different types of data. A DataFrame provides a versatile and efficient way to work with structured data.\n",
        "\n",
        "Example:\n",
        "* Show different approaches to create a DataFrame"
      ],
      "metadata": {
        "id": "aeMxhrbI98ky"
      }
    },
    {
      "cell_type": "code",
      "source": [
        "# Creating a DataFrame from a dictionary\n",
        "data = {'Name': ['Asibeh', 'Tenager', 'Charlie'],\n",
        "        'Age': [25, 30, 35]}\n",
        "df = pd.DataFrame(data)\n",
        "\n",
        "# Creating a DataFrame from a NumPy array\n",
        "arr = np.array([[1, 2], [3, 4], [5, 6]])\n",
        "df = pd.DataFrame(arr, columns=['A', 'B'])\n",
        "\n",
        "# Loading data from a CSV file\n",
        "df = pd.read_csv('data.csv')"
      ],
      "metadata": {
        "id": "UBFZPNHYZ3xd"
      },
      "execution_count": null,
      "outputs": []
    },
    {
      "cell_type": "markdown",
      "source": [
        "In this example, I've created a DataFrame with two columns: 'Name' and 'Age'. Each column represents a Series, and together they form the DataFrame."
      ],
      "metadata": {
        "id": "kB58620L-kvA"
      }
    },
    {
      "cell_type": "markdown",
      "source": [
        "## Accessing and Manipulating Data in a DataFrame"
      ],
      "metadata": {
        "id": "4zaTzHPepON0"
      }
    },
    {
      "cell_type": "markdown",
      "source": [
        "Example:\n",
        "* Demonstrate various methods to access and manipulate data in a DataFrame."
      ],
      "metadata": {
        "id": "XTMj9IUWpMIP"
      }
    },
    {
      "cell_type": "code",
      "source": [
        "# Selecting columns\n",
        "df['Name']\n",
        "df[['Name', 'Age']]\n",
        "\n",
        "# Filtering rows based on conditions\n",
        "df[df['Age'] > 30]\n",
        "\n",
        "# Performing operations on DataFrame columns\n",
        "df['Age'] + 5\n",
        "df.mean()"
      ],
      "metadata": {
        "id": "j6vSZYgm-y3D"
      },
      "execution_count": null,
      "outputs": []
    },
    {
      "cell_type": "markdown",
      "source": [
        "## Data Cleaning and Preprocessing\n",
        "Example:\n",
        "* Discuss common data cleaning and preprocessing tasks."
      ],
      "metadata": {
        "id": "I2idU3mEqLXG"
      }
    },
    {
      "cell_type": "code",
      "source": [
        "import pandas as pd\n",
        "import numpy as np\n",
        "\n",
        "# Generate sales data\n",
        "categories = ['Electronics', 'Clothing', 'Home', 'Books']\n",
        "# Generate 100 sales data\n",
        "\n",
        "sales = np.random.randint(100, 1000, size=100).astype(float)\n",
        "\n",
        "# Fill at least 10 rows NaN\n",
        "sales[np.random.choice(range(100), size=10, replace=False)] = np.nan\n",
        "\n",
        "# Create DataFrame with 100 rows\n",
        "df = pd.DataFrame({'Category': np.random.choice(categories, size=100), 'Sales': sales})\n",
        "df"
      ],
      "metadata": {
        "id": "oGCXDymPqT8w"
      },
      "execution_count": null,
      "outputs": []
    },
    {
      "cell_type": "markdown",
      "source": [
        "## Exploring Data\n",
        "Once you have loaded the data, you can start exploring it. Pandas provides several methods to get an overview of the data. Here are a few commonly used methods:"
      ],
      "metadata": {
        "id": "LlL2KuFZzpiE"
      }
    },
    {
      "cell_type": "code",
      "source": [
        "# Display the first few rows of the DataFrame\n",
        "df.head()\n",
        "\n",
        "# Display the last few rows of the DataFrame\n",
        "df.tail()\n",
        "\n",
        "# Get basic information about the DataFrame\n",
        "df.info()\n",
        "\n",
        "# Get summary statistics of the DataFrame\n",
        "df.describe()"
      ],
      "metadata": {
        "id": "b2RaKLTfzvq0"
      },
      "execution_count": null,
      "outputs": []
    },
    {
      "cell_type": "markdown",
      "source": [
        "# Data Manipulation\n",
        "Pandas allows you to manipulate and transform data easily. Here are some common operations you can perform on a DataFrame:"
      ],
      "metadata": {
        "id": "_ppp6jfkz746"
      }
    },
    {
      "cell_type": "code",
      "source": [
        "# Selecting columns\n",
        "selected_columns = df[['Category', 'Sales']]\n",
        "\n",
        "# Filtering rows\n",
        "filtered_data = df[df['Sales'] > 300]\n",
        "\n",
        "# Sorting data\n",
        "sorted_data = df.sort_values('Sales')\n",
        "\n",
        "# Adding a new column\n",
        "df['Sales_mean'] = df['Sales'].mean(axis=0)\n",
        "\n",
        "# Removing a column\n",
        "df = df.drop('Sales_mean', axis=1)"
      ],
      "metadata": {
        "id": "g2qOl2z9z7Od"
      },
      "execution_count": null,
      "outputs": []
    },
    {
      "cell_type": "code",
      "source": [
        "# Determine the shapes of the data\n",
        "df.shape"
      ],
      "metadata": {
        "id": "SHi_rWCTxPX0"
      },
      "execution_count": null,
      "outputs": []
    },
    {
      "cell_type": "markdown",
      "source": [
        "In the above example, I generated 100 sales data using random numbers. However, I deliberately introduce 10 missing data points at randomly by assigning `np.nan` to those positions in the sales array.\n",
        "\n",
        "Now, let's explore common data cleaning and preprocessing tasks to handle the missing data:"
      ],
      "metadata": {
        "id": "4zRDIC-7vnWw"
      }
    },
    {
      "cell_type": "markdown",
      "source": [
        "## Checking for Missing Data:"
      ],
      "metadata": {
        "id": "quSdw5cYwGOh"
      }
    },
    {
      "cell_type": "code",
      "source": [
        "# Check for missing data\n",
        "print(df.isnull())"
      ],
      "metadata": {
        "id": "YTycPeWuwHw9"
      },
      "execution_count": null,
      "outputs": []
    },
    {
      "cell_type": "markdown",
      "source": [
        "This code snippet will display a DataFrame with boolean values indicating the presence of missing data (`True` for missing values, `False` otherwise)."
      ],
      "metadata": {
        "id": "gx14RJadwIjf"
      }
    },
    {
      "cell_type": "code",
      "source": [
        "# check how many data points are missing\n",
        "df.isnull().sum()"
      ],
      "metadata": {
        "id": "0kcUnZ9UwqWu"
      },
      "execution_count": null,
      "outputs": []
    },
    {
      "cell_type": "markdown",
      "source": [
        "## Removing Rows with Missing Data:"
      ],
      "metadata": {
        "id": "Y86EGk6ax40u"
      }
    },
    {
      "cell_type": "code",
      "source": [
        "# Remove rows with missing data\n",
        "df_cleaned = df.dropna()"
      ],
      "metadata": {
        "id": "I6GpQhnjx6S_"
      },
      "execution_count": null,
      "outputs": []
    },
    {
      "cell_type": "markdown",
      "source": [
        "The `dropna()` function removes rows with missing data. In this case, it would remove the rows with missing sales values."
      ],
      "metadata": {
        "id": "BLER7Bn0x92f"
      }
    },
    {
      "cell_type": "markdown",
      "source": [
        "## Filling Missing Data with a Specific Value:"
      ],
      "metadata": {
        "id": "dJCalCaGyIgZ"
      }
    },
    {
      "cell_type": "code",
      "source": [
        "# Fill missing data with a specific value (e.g., 0)\n",
        "df_filled = df.fillna(0)"
      ],
      "metadata": {
        "id": "_hHUxx2SyFHZ"
      },
      "execution_count": null,
      "outputs": []
    },
    {
      "cell_type": "markdown",
      "source": [
        "The `fillna()` function replaces missing data with a specific value. In this example, I fill the missing sales values with 0."
      ],
      "metadata": {
        "id": "oreiepiLyOEQ"
      }
    },
    {
      "cell_type": "markdown",
      "source": [
        "## Filling Missing Data with Mean or Median:"
      ],
      "metadata": {
        "id": "XNfp4--dyp6d"
      }
    },
    {
      "cell_type": "code",
      "source": [
        "# Fill missing data with the mean\n",
        "mean_sales = df['Sales'].mean()\n",
        "df_mean_filled = df.fillna(mean_sales)\n",
        "\n",
        "# Fill missing data with the median\n",
        "median_sales = df['Sales'].median()\n",
        "df_median_filled = df.fillna(median_sales)"
      ],
      "metadata": {
        "id": "t_O423XSyWIe"
      },
      "execution_count": null,
      "outputs": []
    },
    {
      "cell_type": "markdown",
      "source": [
        "In these examples, I fill the missing sales values with the mean or median of the existing sales values, respectively.\n",
        "\n",
        "These are just a few examples of how you can handle missing data using Pandas. Other techniques include interpolation, forward/backward filling, or advanced imputation methods. The choice of method depends on the nature of your data and the specific requirements of your analysis.\n",
        "\n",
        "Remember that data cleaning and preprocessing tasks are essential for ensuring data quality and accuracy before further analysis. Pandas provides a wide range of functions and methods to handle missing data and other data cleaning tasks efficiently, making it easier to work with real-world datasets."
      ],
      "metadata": {
        "id": "Lb_lPdH0y4io"
      }
    },
    {
      "cell_type": "markdown",
      "source": [
        "# Data Aggregation and Analysis\n",
        "Explain data aggregation and analysis techniques using Pandas.\n",
        "\n",
        " For example:"
      ],
      "metadata": {
        "id": "g6166ds502H6"
      }
    },
    {
      "cell_type": "code",
      "source": [
        "# Grouping data and calculating statistics\n",
        "df.groupby('Category')['Sales'].sum()\n",
        "df.groupby('Category')['Sales'].mean()\n",
        "\n",
        "# Applying custom functions\n",
        "def custom_function(x):\n",
        "    return x.max() - x.min()\n",
        "\n",
        "df.groupby('Category')['Sales'].apply(custom_function)"
      ],
      "metadata": {
        "id": "TcJWNHYl072Y"
      },
      "execution_count": null,
      "outputs": []
    },
    {
      "cell_type": "markdown",
      "source": [
        "# Data Visualization\n",
        "Highlight Pandas' integration with visualization libraries like Matplotlib and Seaborn. For example:\n",
        "\n",
        "\n"
      ],
      "metadata": {
        "id": "dDMcdfmb1JCn"
      }
    },
    {
      "cell_type": "code",
      "source": [
        "import matplotlib.pyplot as plt\n",
        "import seaborn as sns\n",
        "\n",
        "# Plotting data\n",
        "sns.barplot(data=df, x='Category', y='Sales', hue='Category')\n",
        "plt.show()"
      ],
      "metadata": {
        "id": "9P7qWGes1NDX"
      },
      "execution_count": null,
      "outputs": []
    },
    {
      "cell_type": "markdown",
      "source": [
        "## Key Points:\n",
        "\n"
      ],
      "metadata": {
        "id": "wQ98Ldsq-zFS"
      }
    },
    {
      "cell_type": "markdown",
      "source": [
        "A DataFrame is a tabular data structure with labeled rows and columns.\n",
        "It can hold heterogeneous data types in different columns.\n",
        "DataFrame allows easy manipulation, filtering, and analysis of structured data.\n",
        "It provides a variety of functionalities for data cleaning, preprocessing, aggregation, and more."
      ],
      "metadata": {
        "id": "Sgxnidnz-3kG"
      }
    }
  ]
}