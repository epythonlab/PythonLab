{
  "nbformat": 4,
  "nbformat_minor": 0,
  "metadata": {
    "colab": {
      "provenance": [],
      "include_colab_link": true
    },
    "kernelspec": {
      "name": "python3",
      "display_name": "Python 3"
    },
    "language_info": {
      "name": "python"
    }
  },
  "cells": [
    {
      "cell_type": "markdown",
      "metadata": {
        "id": "view-in-github",
        "colab_type": "text"
      },
      "source": [
        "<a href=\"https://colab.research.google.com/github/epythonlab/PythonLab/blob/master/Statistical_Hypothesis_Testing_Tutorial_using_SciPy.ipynb\" target=\"_parent\"><img src=\"https://colab.research.google.com/assets/colab-badge.svg\" alt=\"Open In Colab\"/></a>"
      ]
    },
    {
      "cell_type": "markdown",
      "source": [
        "# Statistical Hypothesis Testing Tutorial using SciPy\n",
        "\n",
        "\n",
        "\n"
      ],
      "metadata": {
        "id": "QvyMa0kz6Lof"
      }
    },
    {
      "cell_type": "markdown",
      "source": [
        "In this tutorial, I'll explore how to perform common hypothesis tests using the `scipy.stats` submodule. I'll cover `t-tests`, `ANOVA` (Analysis of Variance), and `chi-squared` tests. I'll explain the concepts behind these tests and provide step-by-step implementation examples."
      ],
      "metadata": {
        "id": "VZ4iz-6Y6WxT"
      }
    },
    {
      "cell_type": "markdown",
      "source": [
        "## Step 1: Importing Necessary Libraries\n",
        "First, let's import the required libraries and modules:\n"
      ],
      "metadata": {
        "id": "qi1OSfuF67rJ"
      }
    },
    {
      "cell_type": "code",
      "execution_count": null,
      "metadata": {
        "id": "vU1Eg7_D6KbJ"
      },
      "outputs": [],
      "source": [
        "import numpy as np\n",
        "from scipy import stats"
      ]
    },
    {
      "cell_type": "markdown",
      "source": [
        "In this step, I import the required libraries. `numpy` is used for generating sample data, and `scipy.stats` contains functions for performing statistical tests."
      ],
      "metadata": {
        "id": "B0xX2fcvyqAU"
      }
    },
    {
      "cell_type": "markdown",
      "source": [
        "## Step 2: Generating Sample Data\n",
        "\n"
      ],
      "metadata": {
        "id": "NkfUKlwv7lvK"
      }
    },
    {
      "cell_type": "markdown",
      "source": [
        "For the purpose of this tutorial, let's generate some sample data for our tests. I'll use NumPy to create arrays of sample observations."
      ],
      "metadata": {
        "id": "xfEe5oZn7q9l"
      }
    },
    {
      "cell_type": "markdown",
      "source": [],
      "metadata": {
        "id": "rTeL_Dwj7yjX"
      }
    },
    {
      "cell_type": "code",
      "source": [
        "# Generating sample data\n",
        "np.random.seed(42)  # For reproducibility\n",
        "group1 = np.random.normal(loc=10, scale=2, size=30)\n",
        "group2 = np.random.normal(loc=12, scale=2, size=30)\n",
        "group3 = np.random.normal(loc=15, scale=2, size=30)"
      ],
      "metadata": {
        "id": "6XxUlrYP7k9p"
      },
      "execution_count": null,
      "outputs": []
    },
    {
      "cell_type": "markdown",
      "source": [
        "Here, I generate sample data for my tests using `numpy`. I generate three groups of data `(group1, group2, and group3)` as normal distributions with different means (`loc`) and standard deviations (`scale`)."
      ],
      "metadata": {
        "id": "sVPRgESGy5zN"
      }
    },
    {
      "cell_type": "markdown",
      "source": [
        "## Step 3: T-Test\n",
        "\n"
      ],
      "metadata": {
        "id": "TnVrQ6ecwSEi"
      }
    },
    {
      "cell_type": "markdown",
      "source": [
        "The `t-test` is used to compare the means of two independent groups. It can be used for testing whether the means of two groups are significantly different from each other."
      ],
      "metadata": {
        "id": "a4_8cI9gwRbv"
      }
    },
    {
      "cell_type": "code",
      "source": [
        "# Performing a two-sample t-test\n",
        "t_statistic, p_value = stats.ttest_ind(group1, group2)\n",
        "print(\"T-Statistic:\", t_statistic)\n",
        "print(\"P-Value:\", p_value)\n",
        "\n",
        "alpha = 0.05  # Significance level\n",
        "if p_value < alpha:\n",
        "    print(\"Reject the null hypothesis: Means are significantly different.\")\n",
        "else:\n",
        "    print(\"Fail to reject the null hypothesis: Means are not significantly different.\")"
      ],
      "metadata": {
        "id": "kOjwPrhCwfme"
      },
      "execution_count": null,
      "outputs": []
    },
    {
      "cell_type": "markdown",
      "source": [
        "The `ttest_ind` function performs a two-sample independent `t-test`. It calculates the `t-statistic` and `p-value` to test whether the means of `group1` and `group2` are significantly different. A lower `p-value` suggests stronger evidence against the null hypothesis."
      ],
      "metadata": {
        "id": "8GowCHLezSRC"
      }
    },
    {
      "cell_type": "markdown",
      "source": [
        "## Step 4: ANOVA (Analysis of Variance)\n",
        "\n",
        "\n"
      ],
      "metadata": {
        "id": "zSOcvCH-wsw4"
      }
    },
    {
      "cell_type": "markdown",
      "source": [
        "`ANOVA` is used to compare the means of multiple groups. It helps us to determine if there are any statistically significant differences between the group means."
      ],
      "metadata": {
        "id": "M2IuZVg0wv5q"
      }
    },
    {
      "cell_type": "code",
      "source": [
        "# Performing one-way ANOVA\n",
        "f_statistic, p_value = stats.f_oneway(group1, group2, group3)\n",
        "print(\"F-Statistic:\", f_statistic)\n",
        "print(\"P-Value:\", p_value)\n",
        "\n",
        "if p_value < alpha:\n",
        "    print(\"Reject the null hypothesis: Group means are significantly different.\")\n",
        "else:\n",
        "    print(\"Fail to reject the null hypothesis: Group means are not significantly different.\")\n"
      ],
      "metadata": {
        "id": "etiwSjvzw2aU"
      },
      "execution_count": null,
      "outputs": []
    },
    {
      "cell_type": "markdown",
      "source": [
        "## Step 5: Chi-Squared Test\n",
        "\n"
      ],
      "metadata": {
        "id": "Kyu84L-_w9a6"
      }
    },
    {
      "cell_type": "markdown",
      "source": [
        "The `chi-squared` test is used to determine if there's a significant association between categorical variables."
      ],
      "metadata": {
        "id": "-hkg2ZKLxCIW"
      }
    },
    {
      "cell_type": "code",
      "source": [
        "# Creating a contingency table\n",
        "observed = np.array([[10, 20], [15, 25]])\n",
        "\n",
        "# Performing a chi-squared test\n",
        "chi2_statistic, p_value, dof, expected = stats.chi2_contingency(observed)\n",
        "print(\"Chi-Squared Statistic:\", chi2_statistic)\n",
        "print(\"P-Value:\", p_value)\n",
        "\n",
        "if p_value < alpha:\n",
        "    print(\"Reject the null hypothesis: There is a significant association.\")\n",
        "else:\n",
        "    print(\"Fail to reject the null hypothesis: There is no significant association.\")\n"
      ],
      "metadata": {
        "id": "aTMlXOeCxMew"
      },
      "execution_count": null,
      "outputs": []
    },
    {
      "cell_type": "markdown",
      "source": [
        "For the `chi-squared` test, I create a contingency table named `observed`. The `chi2_contingency` function computes the `chi-squared` `statistic`, `p-value`, degrees of freedom (`dof`), and expected frequencies. This test determines whether there's a significant association between the categorical variables represented by the table."
      ],
      "metadata": {
        "id": "yKkVPjql0k8S"
      }
    },
    {
      "cell_type": "markdown",
      "source": [
        "## Conclusion\n",
        "\n"
      ],
      "metadata": {
        "id": "LDreBnddxNVB"
      }
    },
    {
      "cell_type": "markdown",
      "source": [
        "In this tutorial, you've learned how to use the `scipy.stats` submodule to perform common hypothesis tests: `t-tests, ANOVA, and chi-squared` tests. You've also learned how to interpret the results and make informed decisions about rejecting or failing to reject the null hypothesis based on the `p-values` and chosen significance level. This knowledge will help you analyze and draw conclusions from data in various contexts."
      ],
      "metadata": {
        "id": "ntA_KOVOxRiD"
      }
    },
    {
      "cell_type": "markdown",
      "source": [
        "---"
      ],
      "metadata": {
        "id": "xm0JhZc-HfHT"
      }
    },
    {
      "cell_type": "markdown",
      "source": [
        "# Probability and Statistics"
      ],
      "metadata": {
        "id": "sXM3SIyVIwjE"
      }
    },
    {
      "cell_type": "markdown",
      "source": [
        "## What is mean?"
      ],
      "metadata": {
        "id": "KErmUeKOI22p"
      }
    },
    {
      "cell_type": "markdown",
      "source": [
        "In statistics, the **mean** is a measure of central tendency, often referred to as the average. It represents the sum of all values in a dataset divided by the total number of values in the dataset.\n",
        " The mean is one of the most fundamental and widely used statistical indicators, providing a single value that represents the entire dataset.\n",
        "\n"
      ],
      "metadata": {
        "id": "N-HEpq-oI6KK"
      }
    },
    {
      "cell_type": "markdown",
      "source": [
        "Mathematically, the mean of a dataset with `n` values `x1`, `x2`, ... `xn` is calculated as\n",
        "$mean = (x1 + x2 + ... xn) / n $\n"
      ],
      "metadata": {
        "id": "7uTh7EolJJ7j"
      }
    },
    {
      "cell_type": "markdown",
      "source": [
        "## Example: For example, if you have a dataset of numbers: 4, 5, 6, 7, and 8, the mean is calculated as:"
      ],
      "metadata": {
        "id": "LEC-92xLQkGf"
      }
    },
    {
      "cell_type": "markdown",
      "source": [
        "The **mean** is widely used in various fields, including mathematics, statistics, science, and everyday life, to understand the typical or average value of a dataset. It provides valuable insights into the central tendency of the data, allowing for easier comparison and analysis of different datasets."
      ],
      "metadata": {
        "id": "LD_l43cnJzVa"
      }
    },
    {
      "cell_type": "markdown",
      "source": [
        "### Example: Comparison of two datasets"
      ],
      "metadata": {
        "id": "6idcIk55Qqd9"
      }
    },
    {
      "cell_type": "code",
      "source": [
        "import numpy as np\n",
        "import matplotlib.pyplot as plt\n",
        "\n",
        "# Generating example datasets\n",
        "np.random.seed(0)\n",
        "dataset_A = np.random.normal(5, 2, 1000)  # Mean of 5 and standard deviation of 2\n",
        "dataset_B = np.random.normal(7, 1.5, 1000)  # Mean of 7 and standard deviation of 1.5\n",
        "\n",
        "# Calculating mean of datasets\n",
        "mean_A = np.mean(dataset_A)\n",
        "mean_B = np.mean(dataset_B)\n",
        "# Creating subplots\n",
        "fig, axs = plt.subplots(figsize=(6, 4))\n",
        "\n",
        "# Plotting the distribution of dataset A\n",
        "\n",
        "plt.hist(dataset_A, bins=30, alpha=0.7, color='skyblue', label=f'Dataset A Mean: {mean_A:.2f}')\n",
        "plt.axvline(mean_A, color='b', linestyle='dashed', linewidth=1.5)\n",
        "\n",
        "# Plotting the distribution of dataset B\n",
        "plt.hist(dataset_B, bins=30, alpha=0.7, color='salmon', label=f'Dataset B Mean: {mean_B:.2f}')\n",
        "plt.axvline(mean_B, color='r', linestyle='dashed', linewidth=1.5)\n",
        "\n",
        "# set title and labels\n",
        "plt.title('Dataset A vs Dataset B Distribution', fontsize=16)\n",
        "plt.xlabel('Value', fontsize=14)\n",
        "plt.ylabel('Frequency', fontsize=14)\n",
        "plt.legend()\n",
        "\n",
        "# Adjust layout\n",
        "plt.tight_layout()\n",
        "plt.show()\n"
      ],
      "metadata": {
        "id": "Nxsk7VHdKbAI",
        "outputId": "af00f28f-35ab-4209-e4d6-f38fc8102cff",
        "colab": {
          "base_uri": "https://localhost:8080/",
          "height": 407
        }
      },
      "execution_count": 24,
      "outputs": [
        {
          "output_type": "display_data",
          "data": {
            "text/plain": [
              "<Figure size 600x400 with 1 Axes>"
            ],
            "image/png": "[encoded data removed]"
          },
          "metadata": {}
        }
      ]
    },
    {
      "cell_type": "markdown",
      "source": [
        "## Conclusion"
      ],
      "metadata": {
        "id": "bepPFPRYPde3"
      }
    },
    {
      "cell_type": "markdown",
      "source": [
        "From this comparison, we can conclude that the average value of **Dataset B** is higher than that of** Dataset A**. This suggests that, on average, the values in **Dataset B** are higher than those in **Dataset A**.\n",
        "\n",
        "This comparison of means provides an initial understanding of the central tendency of the two datasets, indicating their respective average values. However, it is essential to consider other statistical measures and conduct a comprehensive analysis to gain a deeper understanding of the datasets."
      ],
      "metadata": {
        "id": "QDsEjeVqPJkB"
      }
    }
  ]
}