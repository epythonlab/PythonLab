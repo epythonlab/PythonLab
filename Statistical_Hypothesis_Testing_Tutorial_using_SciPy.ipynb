{
  "nbformat": 4,
  "nbformat_minor": 0,
  "metadata": {
    "colab": {
      "provenance": [],
      "include_colab_link": true
    },
    "kernelspec": {
      "name": "python3",
      "display_name": "Python 3"
    },
    "language_info": {
      "name": "python"
    }
  },
  "cells": [
    {
      "cell_type": "markdown",
      "metadata": {
        "id": "view-in-github",
        "colab_type": "text"
      },
      "source": [
        "<a href=\"https://colab.research.google.com/github/epythonlab/PythonLab/blob/master/Statistical_Hypothesis_Testing_Tutorial_using_SciPy.ipynb\" target=\"_parent\"><img src=\"https://colab.research.google.com/assets/colab-badge.svg\" alt=\"Open In Colab\"/></a>"
      ]
    },
    {
      "cell_type": "markdown",
      "source": [
        "# Statistical Hypothesis Testing Tutorial using SciPy\n",
        "\n",
        "\n",
        "\n"
      ],
      "metadata": {
        "id": "QvyMa0kz6Lof"
      }
    },
    {
      "cell_type": "markdown",
      "source": [
        "In this tutorial, I'll explore how to perform common hypothesis tests using the `scipy.stats` submodule. I'll cover `t-tests`, `ANOVA` (Analysis of Variance), and `chi-squared` tests. I'll explain the concepts behind these tests and provide step-by-step implementation examples."
      ],
      "metadata": {
        "id": "VZ4iz-6Y6WxT"
      }
    },
    {
      "cell_type": "markdown",
      "source": [
        "## Step 1: Importing Necessary Libraries\n",
        "First, let's import the required libraries and modules:\n"
      ],
      "metadata": {
        "id": "qi1OSfuF67rJ"
      }
    },
    {
      "cell_type": "code",
      "execution_count": null,
      "metadata": {
        "id": "vU1Eg7_D6KbJ"
      },
      "outputs": [],
      "source": [
        "import numpy as np\n",
        "from scipy import stats"
      ]
    },
    {
      "cell_type": "markdown",
      "source": [
        "In this step, I import the required libraries. `numpy` is used for generating sample data, and `scipy.stats` contains functions for performing statistical tests."
      ],
      "metadata": {
        "id": "B0xX2fcvyqAU"
      }
    },
    {
      "cell_type": "markdown",
      "source": [
        "## Step 2: Generating Sample Data\n",
        "\n"
      ],
      "metadata": {
        "id": "NkfUKlwv7lvK"
      }
    },
    {
      "cell_type": "markdown",
      "source": [
        "For the purpose of this tutorial, let's generate some sample data for our tests. I'll use NumPy to create arrays of sample observations."
      ],
      "metadata": {
        "id": "xfEe5oZn7q9l"
      }
    },
    {
      "cell_type": "markdown",
      "source": [],
      "metadata": {
        "id": "rTeL_Dwj7yjX"
      }
    },
    {
      "cell_type": "code",
      "source": [
        "# Generating sample data\n",
        "np.random.seed(42)  # For reproducibility\n",
        "group1 = np.random.normal(loc=10, scale=2, size=30)\n",
        "group2 = np.random.normal(loc=12, scale=2, size=30)\n",
        "group3 = np.random.normal(loc=15, scale=2, size=30)"
      ],
      "metadata": {
        "id": "6XxUlrYP7k9p"
      },
      "execution_count": null,
      "outputs": []
    },
    {
      "cell_type": "markdown",
      "source": [
        "Here, I generate sample data for my tests using `numpy`. I generate three groups of data `(group1, group2, and group3)` as normal distributions with different means (`loc`) and standard deviations (`scale`)."
      ],
      "metadata": {
        "id": "sVPRgESGy5zN"
      }
    },
    {
      "cell_type": "markdown",
      "source": [
        "## Step 3: T-Test\n",
        "\n"
      ],
      "metadata": {
        "id": "TnVrQ6ecwSEi"
      }
    },
    {
      "cell_type": "markdown",
      "source": [
        "The `t-test` is used to compare the means of two independent groups. It can be used for testing whether the means of two groups are significantly different from each other."
      ],
      "metadata": {
        "id": "a4_8cI9gwRbv"
      }
    },
    {
      "cell_type": "code",
      "source": [
        "# Performing a two-sample t-test\n",
        "t_statistic, p_value = stats.ttest_ind(group1, group2)\n",
        "print(\"T-Statistic:\", t_statistic)\n",
        "print(\"P-Value:\", p_value)\n",
        "\n",
        "alpha = 0.05  # Significance level\n",
        "if p_value < alpha:\n",
        "    print(\"Reject the null hypothesis: Means are significantly different.\")\n",
        "else:\n",
        "    print(\"Fail to reject the null hypothesis: Means are not significantly different.\")"
      ],
      "metadata": {
        "id": "kOjwPrhCwfme"
      },
      "execution_count": null,
      "outputs": []
    },
    {
      "cell_type": "markdown",
      "source": [
        "The `ttest_ind` function performs a two-sample independent `t-test`. It calculates the `t-statistic` and `p-value` to test whether the means of `group1` and `group2` are significantly different. A lower `p-value` suggests stronger evidence against the null hypothesis."
      ],
      "metadata": {
        "id": "8GowCHLezSRC"
      }
    },
    {
      "cell_type": "markdown",
      "source": [
        "## Step 4: ANOVA (Analysis of Variance)\n",
        "\n",
        "\n"
      ],
      "metadata": {
        "id": "zSOcvCH-wsw4"
      }
    },
    {
      "cell_type": "markdown",
      "source": [
        "`ANOVA` is used to compare the means of multiple groups. It helps us to determine if there are any statistically significant differences between the group means."
      ],
      "metadata": {
        "id": "M2IuZVg0wv5q"
      }
    },
    {
      "cell_type": "code",
      "source": [
        "# Performing one-way ANOVA\n",
        "f_statistic, p_value = stats.f_oneway(group1, group2, group3)\n",
        "print(\"F-Statistic:\", f_statistic)\n",
        "print(\"P-Value:\", p_value)\n",
        "\n",
        "if p_value < alpha:\n",
        "    print(\"Reject the null hypothesis: Group means are significantly different.\")\n",
        "else:\n",
        "    print(\"Fail to reject the null hypothesis: Group means are not significantly different.\")\n"
      ],
      "metadata": {
        "id": "etiwSjvzw2aU"
      },
      "execution_count": null,
      "outputs": []
    },
    {
      "cell_type": "markdown",
      "source": [
        "## Step 5: Chi-Squared Test\n",
        "\n"
      ],
      "metadata": {
        "id": "Kyu84L-_w9a6"
      }
    },
    {
      "cell_type": "markdown",
      "source": [
        "The `chi-squared` test is used to determine if there's a significant association between categorical variables."
      ],
      "metadata": {
        "id": "-hkg2ZKLxCIW"
      }
    },
    {
      "cell_type": "code",
      "source": [
        "# Creating a contingency table\n",
        "observed = np.array([[10, 20], [15, 25]])\n",
        "\n",
        "# Performing a chi-squared test\n",
        "chi2_statistic, p_value, dof, expected = stats.chi2_contingency(observed)\n",
        "print(\"Chi-Squared Statistic:\", chi2_statistic)\n",
        "print(\"P-Value:\", p_value)\n",
        "\n",
        "if p_value < alpha:\n",
        "    print(\"Reject the null hypothesis: There is a significant association.\")\n",
        "else:\n",
        "    print(\"Fail to reject the null hypothesis: There is no significant association.\")\n"
      ],
      "metadata": {
        "id": "aTMlXOeCxMew"
      },
      "execution_count": null,
      "outputs": []
    },
    {
      "cell_type": "markdown",
      "source": [
        "For the `chi-squared` test, I create a contingency table named `observed`. The `chi2_contingency` function computes the `chi-squared` `statistic`, `p-value`, degrees of freedom (`dof`), and expected frequencies. This test determines whether there's a significant association between the categorical variables represented by the table."
      ],
      "metadata": {
        "id": "yKkVPjql0k8S"
      }
    },
    {
      "cell_type": "markdown",
      "source": [
        "## Conclusion\n",
        "\n"
      ],
      "metadata": {
        "id": "LDreBnddxNVB"
      }
    },
    {
      "cell_type": "markdown",
      "source": [
        "In this tutorial, you've learned how to use the `scipy.stats` submodule to perform common hypothesis tests: `t-tests, ANOVA, and chi-squared` tests. You've also learned how to interpret the results and make informed decisions about rejecting or failing to reject the null hypothesis based on the `p-values` and chosen significance level. This knowledge will help you analyze and draw conclusions from data in various contexts."
      ],
      "metadata": {
        "id": "ntA_KOVOxRiD"
      }
    },
    {
      "cell_type": "markdown",
      "source": [
        "---"
      ],
      "metadata": {
        "id": "xm0JhZc-HfHT"
      }
    },
    {
      "cell_type": "markdown",
      "source": [
        "# Probability and Statistics"
      ],
      "metadata": {
        "id": "sXM3SIyVIwjE"
      }
    },
    {
      "cell_type": "markdown",
      "source": [
        "## Understanding Statistical Concepts with Python: Mean, Median, Mode, Variance, and Standard Deviation"
      ],
      "metadata": {
        "id": "UvAiQ1YyRHI2"
      }
    },
    {
      "cell_type": "markdown",
      "source": [
        "## What is mean?"
      ],
      "metadata": {
        "id": "KErmUeKOI22p"
      }
    },
    {
      "cell_type": "markdown",
      "source": [
        "In statistics, the **mean** is a measure of central tendency, often referred to as the average. It represents the sum of all values in a dataset divided by the total number of values in the dataset.\n",
        " The mean is one of the most fundamental and widely used statistical indicators, providing a single value that represents the entire dataset.\n",
        "\n"
      ],
      "metadata": {
        "id": "N-HEpq-oI6KK"
      }
    },
    {
      "cell_type": "markdown",
      "source": [
        "Mathematically, the mean of a dataset with `n` values `x1`, `x2`, ... `xn` is calculated as\n",
        "$mean = (x1 + x2 + ... xn) / n $\n"
      ],
      "metadata": {
        "id": "7uTh7EolJJ7j"
      }
    },
    {
      "cell_type": "markdown",
      "source": [
        "## Example: For example, if you have a dataset of numbers: 4, 5, 6, 7, and 8, the mean is calculated as:"
      ],
      "metadata": {
        "id": "LEC-92xLQkGf"
      }
    },
    {
      "cell_type": "markdown",
      "source": [
        "The **mean** is widely used in various fields, including mathematics, statistics, science, and everyday life, to understand the typical or average value of a dataset. It provides valuable insights into the central tendency of the data, allowing for easier comparison and analysis of different datasets."
      ],
      "metadata": {
        "id": "LD_l43cnJzVa"
      }
    },
    {
      "cell_type": "markdown",
      "source": [
        "### Example: Comparison of two datasets"
      ],
      "metadata": {
        "id": "6idcIk55Qqd9"
      }
    },
    {
      "cell_type": "code",
      "source": [
        "import numpy as np\n",
        "import matplotlib.pyplot as plt\n",
        "\n",
        "# Generating example datasets\n",
        "np.random.seed(0)\n",
        "dataset_A = np.random.normal(5, 2, 1000)  # Mean of 5 and standard deviation of 2\n",
        "dataset_B = np.random.normal(7, 1.5, 1000)  # Mean of 7 and standard deviation of 1.5\n",
        "\n",
        "# Calculating mean of datasets\n",
        "mean_A = np.mean(dataset_A)\n",
        "mean_B = np.mean(dataset_B)\n",
        "# Creating subplots\n",
        "fig, axs = plt.subplots(figsize=(6, 4))\n",
        "\n",
        "# Plotting the distribution of dataset A\n",
        "\n",
        "plt.hist(dataset_A, bins=30, alpha=0.7, color='skyblue', label=f'Dataset A Mean: {mean_A:.2f}')\n",
        "plt.axvline(mean_A, color='b', linestyle='dashed', linewidth=1.5)\n",
        "\n",
        "# Plotting the distribution of dataset B\n",
        "plt.hist(dataset_B, bins=30, alpha=0.7, color='salmon', label=f'Dataset B Mean: {mean_B:.2f}')\n",
        "plt.axvline(mean_B, color='r', linestyle='dashed', linewidth=1.5)\n",
        "\n",
        "# set title and labels\n",
        "plt.title('Dataset A vs Dataset B Distribution', fontsize=16)\n",
        "plt.xlabel('Value', fontsize=14)\n",
        "plt.ylabel('Frequency', fontsize=14)\n",
        "plt.legend()\n",
        "\n",
        "# Adjust layout\n",
        "plt.tight_layout()\n",
        "plt.show()\n"
      ],
      "metadata": {
        "colab": {
          "base_uri": "https://localhost:8080/",
          "height": 407
        },
        "id": "Nxsk7VHdKbAI",
        "outputId": "af00f28f-35ab-4209-e4d6-f38fc8102cff"
      },
      "execution_count": null,
      "outputs": [
        {
          "output_type": "display_data",
          "data": {
            "text/plain": [
              "<Figure size 600x400 with 1 Axes>"
            ],
            "image/png": "[encoded data removed]"
          },
          "metadata": {}
        }
      ]
    },
    {
      "cell_type": "markdown",
      "source": [
        "## Conclusion"
      ],
      "metadata": {
        "id": "bepPFPRYPde3"
      }
    },
    {
      "cell_type": "markdown",
      "source": [
        "From this comparison, we can conclude that the average value of **Dataset B** is higher than that of** Dataset A**. This suggests that, on average, the values in **Dataset B** are higher than those in **Dataset A**.\n",
        "\n",
        "This comparison of means provides an initial understanding of the central tendency of the two datasets, indicating their respective average values. However, it is essential to consider other statistical measures and conduct a comprehensive analysis to gain a deeper understanding of the datasets."
      ],
      "metadata": {
        "id": "QDsEjeVqPJkB"
      }
    },
    {
      "cell_type": "markdown",
      "source": [
        "---\n"
      ],
      "metadata": {
        "id": "1ZypqwpZy5IG"
      }
    },
    {
      "cell_type": "markdown",
      "source": [
        "# Understanding Skewed Distributions: Exploring Asymmetry in Data"
      ],
      "metadata": {
        "id": "MHRiw-OZy6sM"
      }
    },
    {
      "cell_type": "markdown",
      "source": [
        "## Introduction"
      ],
      "metadata": {
        "id": "sNVQvrw4zAvB"
      }
    },
    {
      "cell_type": "markdown",
      "source": [
        "Data analysis often involves examining the distribution of data points, and one crucial aspect to consider is skewness. Skewed distributions provide essential insights into the asymmetry of data, revealing patterns that might not be apparent at first glance. Understanding the characteristics of positively and negatively skewed distributions is fundamental for interpreting data accurately and making informed decisions.\n",
        "\n",
        "In this tutorial, I will delve into the concept of skewed distributions, exploring both positive and negative skewness with real-world examples and corresponding visualizations. By the end of this tutorial, you will have a comprehensive understanding of how to identify, interpret, and analyze skewed data, empowering you to navigate complex datasets with confidence.\n",
        "\n"
      ],
      "metadata": {
        "id": "AGndEjlEzDHe"
      }
    },
    {
      "cell_type": "markdown",
      "source": [
        "## What is skewed distribution?"
      ],
      "metadata": {
        "id": "l_bJ9VjVzuZ3"
      }
    },
    {
      "cell_type": "markdown",
      "source": [
        "**A skewed distribution**, in statistics, refers to the lack of symmetry in a probability distribution. It indicates that the data is not evenly distributed around the mean, resulting in a longer tail on one side of the distribution than on the other."
      ],
      "metadata": {
        "id": "p0CC8qZmz1J-"
      }
    },
    {
      "cell_type": "markdown",
      "source": [
        "### Types of Skewness"
      ],
      "metadata": {
        "id": "RNwM6dNlz_fW"
      }
    },
    {
      "cell_type": "markdown",
      "source": [
        "There are two main types of skewness:"
      ],
      "metadata": {
        "id": "0FhdVLMf0Dp8"
      }
    },
    {
      "cell_type": "markdown",
      "source": [
        "### **1. Positive Skewness:**\n",
        "Also known as right-skewed distribution, it occurs when the tail on the right side of the distribution is longer or fatter than the left side. In other words, the mean is typically greater than the median."
      ],
      "metadata": {
        "id": "ULgIOjvJ0Hv-"
      }
    },
    {
      "cell_type": "markdown",
      "source": [
        "### Example 1: Positive Skewness (Right-skewed distribution):"
      ],
      "metadata": {
        "id": "89gfyIQU1gHv"
      }
    },
    {
      "cell_type": "code",
      "source": [
        "import numpy as np\n",
        "import matplotlib.pyplot as plt\n",
        "\n",
        "# Generating right-skewed data\n",
        "data_positive_skew = np.random.exponential(scale=2, size=1000)\n",
        "\n",
        "# Find the mean and median\n",
        "mean = np.mean(data_positive_skew)\n",
        "median = np.median(data_positive_skew)\n",
        "# Plotting the data\n",
        "plt.figure(figsize=(6, 4))\n",
        "plt.hist(data_positive_skew, bins=30, color='skyblue', edgecolor='black', alpha=0.7)\n",
        "# plot the mean and median\n",
        "plt.axvline(mean, color='r', linestyle='dashed', linewidth=1.5, label=f'Mean: {mean:.2f}')\n",
        "plt.axvline(median, color='b', linestyle='dashed', linewidth=1.5, label=f'Median:{median:.2f}')\n",
        "\n",
        "plt.title('Positive Skewness (Right-skewed Distribution)', fontsize=15)\n",
        "plt.xlabel('Value', fontsize=12)\n",
        "plt.ylabel('Frequency', fontsize=12)\n",
        "plt.legend()\n",
        "plt.show()\n"
      ],
      "metadata": {
        "id": "QWdIIe0T1i1h",
        "outputId": "bf2549b5-06d2-49d0-e072-11343d28be2c",
        "colab": {
          "base_uri": "https://localhost:8080/",
          "height": 416
        }
      },
      "execution_count": null,
      "outputs": [
        {
          "output_type": "display_data",
          "data": {
            "text/plain": [
              "<Figure size 600x400 with 1 Axes>"
            ],
            "image/png": "[encoded data removed]"
          },
          "metadata": {}
        }
      ]
    },
    {
      "cell_type": "markdown",
      "source": [
        "#### Code explanation:"
      ],
      "metadata": {
        "id": "VOQGJdrL6sH5"
      }
    },
    {
      "cell_type": "markdown",
      "source": [
        "In the context of creating histograms, the `bins` parameter specifies the number of bins or intervals that the data is divided into. A histogram represents the distribution of a dataset by dividing it into a series of intervals and then counting the number of observations that fall into each interval.\n",
        "\n",
        "Setting the `alpha` parameter to `0.7` in the `plt.hist()` function will make the bars slightly transparent in both plots, allowing for better visualization of overlapping data points if present. Adjust the alpha value as needed to achieve the desired level of transparency."
      ],
      "metadata": {
        "id": "MU3ZlGbZ6ur2"
      }
    },
    {
      "cell_type": "markdown",
      "source": [
        "### **2. Negative Skewness:**\n",
        "\n",
        "Also known as left-skewed distribution, it occurs when the tail on the left side of the distribution is longer or fatter than the right side. In this case, the mean is typically less than the median."
      ],
      "metadata": {
        "id": "vJJKflY30K-V"
      }
    },
    {
      "cell_type": "markdown",
      "source": [
        "### Example 2: Negative Skewness (Left-skewed distribution):"
      ],
      "metadata": {
        "id": "6R7N-uHD3sJq"
      }
    },
    {
      "cell_type": "code",
      "source": [
        "# Generating left-skewed data\n",
        "data_negative_skew = -np.random.exponential(scale=2, size=1000)\n",
        "\n",
        "# Calculate mean and median\n",
        "mean = np.mean(data_negative_skew)\n",
        "median = np.median(data_negative_skew)\n",
        "\n",
        "# Plotting the data\n",
        "plt.figure(figsize=(6, 4))\n",
        "\n",
        "plt.hist(data_negative_skew, bins=30, color='lightcoral', edgecolor='black', alpha=0.7)\n",
        "plt.title('Negative Skewness (Left-skewed Distribution)', fontsize=15)\n",
        "plt.xlabel('Value', fontsize=12)\n",
        "plt.ylabel('Frequency', fontsize=12)\n",
        "plt.axvline(mean, color='r', linestyle='dashed', linewidth=2, label=f'Mean: {mean:.2f}')\n",
        "plt.axvline(median, color='g', linestyle='dashed', linewidth=2, label=f'Median: {median:.2f}')\n",
        "\n",
        "plt.legend()\n",
        "plt.show()\n"
      ],
      "metadata": {
        "id": "P4yV5RJM33YF",
        "outputId": "96ad24a1-8e70-4682-db4a-bc5e67fb49fb",
        "colab": {
          "base_uri": "https://localhost:8080/",
          "height": 416
        }
      },
      "execution_count": 22,
      "outputs": [
        {
          "output_type": "display_data",
          "data": {
            "text/plain": [
              "<Figure size 600x400 with 1 Axes>"
            ],
            "image/png": "[encoded data removed]"
          },
          "metadata": {}
        }
      ]
    },
    {
      "cell_type": "markdown",
      "source": [
        "### Applications of skewness\n"
      ],
      "metadata": {
        "id": "U3-PqNDZ4wsN"
      }
    },
    {
      "cell_type": "markdown",
      "source": [
        "Skewness can be used in a variety of ways, including:\n",
        "\n",
        "\n",
        "\n"
      ],
      "metadata": {
        "id": "xSDPklOc40Er"
      }
    },
    {
      "cell_type": "markdown",
      "source": [
        "#### Identifying outliers:"
      ],
      "metadata": {
        "id": "g49I-mg-42on"
      }
    },
    {
      "cell_type": "markdown",
      "source": [
        " Skewness can be used to identify outliers in a data distribution. Outliers are data points that are significantly different from the rest of the data. They can be caused by errors in data collection or measurement, or they may be genuine data points that are simply different from the rest of the data."
      ],
      "metadata": {
        "id": "Uu8EFZYq5Azt"
      }
    },
    {
      "cell_type": "markdown",
      "source": [
        "#### Assessing risk:"
      ],
      "metadata": {
        "id": "K8lcIzDr5IaF"
      }
    },
    {
      "cell_type": "markdown",
      "source": [
        " Skewness can be used to assess risk in financial markets. For example, a stock with a positively skewed distribution is considered to be riskier than a stock with a normally distributed return."
      ],
      "metadata": {
        "id": "lpqeTSCq5TGj"
      }
    },
    {
      "cell_type": "markdown",
      "source": [
        "#### Improving machine learning models:"
      ],
      "metadata": {
        "id": "rD3VQihA5XAP"
      }
    },
    {
      "cell_type": "markdown",
      "source": [
        "Skewness can be used to improve the performance of machine learning models. For example, a machine learning model that is trained on skewed data may not perform well on new data that is not skewed. By transforming the data to reduce skewness, we can improve the performance of the machine learning model."
      ],
      "metadata": {
        "id": "HQj6ILSs5ZSV"
      }
    },
    {
      "cell_type": "markdown",
      "source": [
        "## Conclusion"
      ],
      "metadata": {
        "id": "sDiHEYUKzpvW"
      }
    },
    {
      "cell_type": "markdown",
      "source": [
        "Overall, skewness is a valuable tool for understanding and describing data distributions. It can be used in a variety of applications, including identifying outliers, assessing risk, and improving machine learning models.\n",
        "\n",
        "Being able to recognize and interpret skewed data enables researchers, analysts, and decision-makers to derive meaningful insights and make informed choices. By understanding the implications of skewness, you can unlock a deeper understanding of data distributions, leading to more accurate analyses and informed decision-making in your respective fields."
      ],
      "metadata": {
        "id": "KXCFUAw5zr7s"
      }
    }
  ]
}