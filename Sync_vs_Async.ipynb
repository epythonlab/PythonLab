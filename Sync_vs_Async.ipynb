{
  "nbformat": 4,
  "nbformat_minor": 0,
  "metadata": {
    "colab": {
      "provenance": [],
      "authorship_tag": "ABX9TyMxQuWuag8T+2HfKRsACyDv",
      "include_colab_link": true
    },
    "kernelspec": {
      "name": "python3",
      "display_name": "Python 3"
    },
    "language_info": {
      "name": "python"
    }
  },
  "cells": [
    {
      "cell_type": "markdown",
      "metadata": {
        "id": "view-in-github",
        "colab_type": "text"
      },
      "source": [
        "<a href=\"https://colab.research.google.com/github/epythonlab/PythonLab/blob/master/Sync_vs_Async.ipynb\" target=\"_parent\"><img src=\"https://colab.research.google.com/assets/colab-badge.svg\" alt=\"Open In Colab\"/></a>"
      ]
    },
    {
      "cell_type": "markdown",
      "source": [
        "# Understanding Synchronous Programming"
      ],
      "metadata": {
        "id": "eBTmJLo_m6lI"
      }
    },
    {
      "cell_type": "markdown",
      "source": [
        "## Introduction"
      ],
      "metadata": {
        "id": "EptHKM2HzJ8V"
      }
    },
    {
      "cell_type": "markdown",
      "source": [
        "- **Synchronous** programming executes tasks sequentially.\n",
        "- Tasks block further execution until completed."
      ],
      "metadata": {
        "id": "YTxQmNnum9k8"
      }
    },
    {
      "cell_type": "markdown",
      "source": [
        "## Code Example"
      ],
      "metadata": {
        "id": "W-j2Ns9_nd3d"
      }
    },
    {
      "cell_type": "markdown",
      "source": [
        "- Code Example - Synchronous Execution"
      ],
      "metadata": {
        "id": "rbEwAzlengTw"
      }
    },
    {
      "cell_type": "code",
      "execution_count": 3,
      "metadata": {
        "colab": {
          "base_uri": "https://localhost:8080/"
        },
        "id": "FIaOLC6QmyAa",
        "outputId": "71396377-17cd-40dd-87cf-9bf803323475"
      },
      "outputs": [
        {
          "output_type": "stream",
          "name": "stdout",
          "text": [
            "Starting synchronous task\n",
            "Processing synchronous task 1\n",
            "Processing synchronous task 2\n",
            "Processing synchronous task 3\n",
            "Processing synchronous task 4\n",
            "Synchronous task completed\n"
          ]
        }
      ],
      "source": [
        "# Synchronous code example\n",
        "def synchronous_task():\n",
        "    print(\"Starting synchronous task\")\n",
        "    for i in range(1, 5):\n",
        "        print(f\"Processing synchronous task {i}\")\n",
        "    print(\"Synchronous task completed\")\n",
        "\n",
        "synchronous_task()\n"
      ]
    },
    {
      "cell_type": "markdown",
      "source": [
        "## Advantages and Limitations"
      ],
      "metadata": {
        "id": "iw6y5GrFzT_a"
      }
    },
    {
      "cell_type": "markdown",
      "source": [
        "- Synchronous programming offers simplicity and predictability\n",
        "-  But can lead to blocking, especially in situations where tasks take a long time to complete."
      ],
      "metadata": {
        "id": "gtTTJhbbzZfT"
      }
    },
    {
      "cell_type": "markdown",
      "source": [
        "## Real-World Examples"
      ],
      "metadata": {
        "id": "HmJCx4BFznzY"
      }
    },
    {
      "cell_type": "markdown",
      "source": [
        "File Conversion Script:\n",
        "\n",
        "- Purpose: Converts files from one format to another (e.g., CSV to JSON).\n",
        "- Description: Reads data from a source file, performs necessary conversions, and writes the transformed data to a target file.\n",
        "- Synchronous Approach: Processes files sequentially, ensuring each file is converted before moving on to the next one."
      ],
      "metadata": {
        "id": "LCzVTw0Izoxj"
      }
    },
    {
      "cell_type": "code",
      "source": [
        "import csv\n",
        "import json\n",
        "\n",
        "def convert_csv_to_json(source_file, target_file):\n",
        "    with open(source_file, 'r') as csv_file:\n",
        "        csv_data = csv.reader(csv_file)\n",
        "        data = [row for row in csv_data]\n",
        "\n",
        "    json_data = json.dumps(data, indent=4)\n",
        "\n",
        "    with open(target_file, 'w') as json_file:\n",
        "        json_file.write(json_data)\n",
        "\n",
        "if __name__ == \"__main__\":\n",
        "    source_file = input(\"Enter the path to the CSV file: \")\n",
        "    target_file = input(\"Enter the path to the target JSON file: \")\n",
        "    convert_csv_to_json(source_file, target_file)\n"
      ],
      "metadata": {
        "id": "aNczPjtC1neb"
      },
      "execution_count": null,
      "outputs": []
    },
    {
      "cell_type": "markdown",
      "source": [
        "## Conclusion"
      ],
      "metadata": {
        "id": "2l4R5CUanp-i"
      }
    },
    {
      "cell_type": "markdown",
      "source": [
        "- **Synchronous** programming is straightforward but may lead to potential delays.\n",
        "- Next, I will explore **asynchronous** programming for improved performance."
      ],
      "metadata": {
        "id": "NplhNwqantyr"
      }
    },
    {
      "cell_type": "markdown",
      "source": [
        "# Uderstanding Asynchronous Programming"
      ],
      "metadata": {
        "id": "eW0HidZ85c8-"
      }
    },
    {
      "cell_type": "markdown",
      "source": [
        "## Introduction"
      ],
      "metadata": {
        "id": "bd98LKod7Xdj"
      }
    },
    {
      "cell_type": "markdown",
      "source": [
        "- **Asynchronous** programming allows tasks to run concurrently, without blocking the main program's execution.\n",
        "- Importance of understanding asynchronous programming for writing efficient and responsive code."
      ],
      "metadata": {
        "id": "0vgb7Xea7Zdy"
      }
    },
    {
      "cell_type": "markdown",
      "source": [
        "## Code example"
      ],
      "metadata": {
        "id": "tANtaBaW7f_T"
      }
    },
    {
      "cell_type": "code",
      "source": [
        "import asyncio\n",
        "\n",
        "async def say_hello():\n",
        "    print(\"Hello\")\n",
        "    await asyncio.sleep(1)\n",
        "    print(\"World!\")\n",
        "\n",
        "async def main():\n",
        "    await asyncio.gather(say_hello(), say_hello(), say_hello())\n",
        "\n",
        "asyncio.run(main())\n"
      ],
      "metadata": {
        "id": "8rT59sHg7hxw"
      },
      "execution_count": null,
      "outputs": []
    },
    {
      "cell_type": "markdown",
      "source": [
        "## Real-World Examples of Asynchronous Programming"
      ],
      "metadata": {
        "id": "Q4eqg1jv-BPZ"
      }
    },
    {
      "cell_type": "code",
      "source": [
        "import aiohttp\n",
        "import asyncio\n",
        "\n",
        "async def fetch_url(session, url):\n",
        "    async with session.get(url) as response:\n",
        "        return await response.text()\n",
        "\n",
        "async def main():\n",
        "    urls = [\n",
        "        'https://example.com/page1',\n",
        "        'https://example.com/page2',\n",
        "        'https://example.com/page3'\n",
        "    ]\n",
        "    async with aiohttp.ClientSession() as session:\n",
        "        tasks = [fetch_url(session, url) for url in urls]\n",
        "        results = await asyncio.gather(*tasks)\n",
        "        for result in results:\n",
        "            print(result)\n",
        "\n",
        "if __name__ == \"__main__\":\n",
        "    asyncio.run(main())\n"
      ],
      "metadata": {
        "id": "QHvhKjRa-Mhz"
      },
      "execution_count": null,
      "outputs": []
    },
    {
      "cell_type": "markdown",
      "source": [
        "## Advantages and Challenges"
      ],
      "metadata": {
        "id": "mUCpLzWO-Xrt"
      }
    },
    {
      "cell_type": "markdown",
      "source": [
        "- Advantages: improved performance and responsiveness.\n",
        "- Challenges: debugging, error handling, and complexity."
      ],
      "metadata": {
        "id": "-ld1L6sm-dI8"
      }
    },
    {
      "cell_type": "markdown",
      "source": [
        "## Comparison with Synchronous Programming"
      ],
      "metadata": {
        "id": "hP4MJp36-k1V"
      }
    },
    {
      "cell_type": "code",
      "source": [
        "# Synchronous File I/O\n",
        "def read_file_synchronously(filename):\n",
        "    with open(filename, 'r') as file:\n",
        "        data = file.read()\n",
        "        print(f\"Read {len(data)} bytes from {filename}\")\n",
        "\n",
        "def main_sync():\n",
        "    files = ['file1.txt', 'file2.txt', 'file3.txt']\n",
        "    for file in files:\n",
        "        read_file_synchronously(file)\n",
        "\n",
        "# Asynchronous File I/O\n",
        "async def read_file_asynchronously(filename):\n",
        "    with open(filename, 'r') as file:\n",
        "        data = await file.read()\n",
        "        print(f\"Read {len(data)} bytes from {filename}\")\n",
        "\n",
        "async def main_async():\n",
        "    files = ['file1.txt', 'file2.txt', 'file3.txt']\n",
        "    await asyncio.gather(*[read_file_asynchronously(file) for file in files])\n",
        "\n",
        "# Call both synchronous and asynchronous functions\n",
        "if __name__ == \"__main__\":\n",
        "    main_sync()\n",
        "    asyncio.run(main_async())\n"
      ],
      "metadata": {
        "id": "IC4qnj3o-sAR"
      },
      "execution_count": null,
      "outputs": []
    }
  ]
}