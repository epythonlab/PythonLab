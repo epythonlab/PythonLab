{
 "cells": [
  {
   "cell_type": "markdown",
   "id": "9f12451f-323c-49d3-ad3c-9af426c3c60a",
   "metadata": {
    "tags": []
   },
   "source": [
    "# Membership Operators"
   ]
  },
  {
   "cell_type": "markdown",
   "id": "8772bf5d-0a6d-43ef-a253-1feb2db81df9",
   "metadata": {
    "tags": []
   },
   "source": [
    "A Membership Operator in Python can be defined as being an operator that is used to validate the membership of a value.\n",
    "\n",
    "\n",
    "We use membership operators to check the presence of a value or variable in a seuqnce such as:\n",
    "- `string, list, tuples, sets, dictionary`\n",
    "\n",
    "This operator checks whether a value or variable exists in a sequence or not."
   ]
  },
  {
   "cell_type": "markdown",
   "id": "27d5b3c3-6acf-479c-b1db-cea01a859a85",
   "metadata": {
    "tags": []
   },
   "source": [
    "### In Python, there are two membership operators"
   ]
  },
  {
   "cell_type": "markdown",
   "id": "4adb0d39-0def-4e7c-88a6-cada65f8176d",
   "metadata": {
    "tags": []
   },
   "source": [
    "<table background='blue'>\n",
    "    <th> Operator</th>\n",
    "    <th> Description</th>\n",
    "    <th> Example </th>\n",
    "   <tr>\n",
    "       <td> <code style='color:red';> in</code> </td>\n",
    "       <td> Returns <code>True</code> if a sequence with the specified value is present in the object.</td>\n",
    "       <td> <code style='color:blue';>'p' in 'Epythonlab'</code> </td>\n",
    "   </tr>\n",
    "   <tr>\n",
    "     <td> <code style='color:red';> not in</code> </td>\n",
    "    <td> Returns<code> True</code> if a sequence with the specified value is not present in the object. </td>\n",
    "    <td> <code style='color:blue';> 's' not in 'epythonlab'</code></td>\n",
    "  </tr>\n",
    "</table>    \n"
   ]
  },
  {
   "cell_type": "code",
   "execution_count": 3,
   "id": "6e61f5b9-5123-4f46-b6cf-7e24d57c82b2",
   "metadata": {},
   "outputs": [
    {
     "data": {
      "text/plain": [
       "True"
      ]
     },
     "execution_count": 3,
     "metadata": {},
     "output_type": "execute_result"
    }
   ],
   "source": [
    "'s' not in 'epyythonlab'"
   ]
  },
  {
   "cell_type": "markdown",
   "id": "e870640a-1b13-481e-9728-14537016beb8",
   "metadata": {
    "tags": []
   },
   "source": [
    "## Example 1:\n",
    "Check username and password"
   ]
  },
  {
   "cell_type": "code",
   "execution_count": 5,
   "id": "f8fe917b-51c4-4c43-927b-c773cbe9d1c8",
   "metadata": {},
   "outputs": [
    {
     "name": "stdin",
     "output_type": "stream",
     "text": [
      "Enter username asibeh\n",
      "Enter password hdkjd\n"
     ]
    },
    {
     "name": "stdout",
     "output_type": "stream",
     "text": [
      "Wrong username or password.\n"
     ]
    }
   ],
   "source": [
    "# list of users\n",
    "users = [('asibeh', 'secret'), ('tenager', 'secret')]\n",
    "\n",
    "# accept username and password\n",
    "username = input('Enter username')\n",
    "password = input('Enter password')\n",
    "\n",
    "# check the availability of the username and password in the users list\n",
    "\n",
    "if (username, password) in users:\n",
    "    print(f\"Hi {username}, you're logged in\")\n",
    "else:\n",
    "    print(\"Wrong username or password.\")\n",
    "\n"
   ]
  },
  {
   "cell_type": "markdown",
   "id": "d5bc7b44-9fd9-4ee6-bfbf-4f8e679e4084",
   "metadata": {
    "tags": []
   },
   "source": [
    "## Example 2\n",
    "\n",
    "Let's assume you have a sales database that contains sales information and you are asked to filter list of  customer names with their names that do not start with vowels. In this case, you may use `not in` operator to do this task."
   ]
  },
  {
   "cell_type": "code",
   "execution_count": 6,
   "id": "44c21584-1cab-4693-99bf-a851b587c4a8",
   "metadata": {},
   "outputs": [
    {
     "data": {
      "text/html": [
       "<div>\n",
       "<style scoped>\n",
       "    .dataframe tbody tr th:only-of-type {\n",
       "        vertical-align: middle;\n",
       "    }\n",
       "\n",
       "    .dataframe tbody tr th {\n",
       "        vertical-align: top;\n",
       "    }\n",
       "\n",
       "    .dataframe thead th {\n",
       "        text-align: right;\n",
       "    }\n",
       "</style>\n",
       "<table border=\"1\" class=\"dataframe\">\n",
       "  <thead>\n",
       "    <tr style=\"text-align: right;\">\n",
       "      <th></th>\n",
       "      <th>name</th>\n",
       "      <th>email</th>\n",
       "      <th>date</th>\n",
       "      <th>price</th>\n",
       "    </tr>\n",
       "  </thead>\n",
       "  <tbody>\n",
       "    <tr>\n",
       "      <th>0</th>\n",
       "      <td>Asibeh Tenager</td>\n",
       "      <td>asibeh@gmail.com</td>\n",
       "      <td>2022-01-02</td>\n",
       "      <td>214.00</td>\n",
       "    </tr>\n",
       "    <tr>\n",
       "      <th>1</th>\n",
       "      <td>Tenager Asibeh</td>\n",
       "      <td>tenager@gmail.com</td>\n",
       "      <td>2022-02-04</td>\n",
       "      <td>2334.00</td>\n",
       "    </tr>\n",
       "    <tr>\n",
       "      <th>2</th>\n",
       "      <td>Elsa John</td>\n",
       "      <td>elsa@gmail.com</td>\n",
       "      <td>2022-04-14</td>\n",
       "      <td>455.00</td>\n",
       "    </tr>\n",
       "    <tr>\n",
       "      <th>3</th>\n",
       "      <td>John Daniel</td>\n",
       "      <td>john@yahoo.com</td>\n",
       "      <td>2022-06-29</td>\n",
       "      <td>123.40</td>\n",
       "    </tr>\n",
       "    <tr>\n",
       "      <th>4</th>\n",
       "      <td>Smith Daniel</td>\n",
       "      <td>smith@yahoo.com</td>\n",
       "      <td>2022-5-16</td>\n",
       "      <td>2334.50</td>\n",
       "    </tr>\n",
       "    <tr>\n",
       "      <th>5</th>\n",
       "      <td>Erdogan Erdogan</td>\n",
       "      <td>erdogan@gmail.com</td>\n",
       "      <td>2022-09-13</td>\n",
       "      <td>454.45</td>\n",
       "    </tr>\n",
       "    <tr>\n",
       "      <th>6</th>\n",
       "      <td>Putin Russia</td>\n",
       "      <td>putin@gmail.com</td>\n",
       "      <td>2022-06-12</td>\n",
       "      <td>232.34</td>\n",
       "    </tr>\n",
       "  </tbody>\n",
       "</table>\n",
       "</div>"
      ],
      "text/plain": [
       "              name              email        date    price\n",
       "0   Asibeh Tenager   asibeh@gmail.com  2022-01-02   214.00\n",
       "1   Tenager Asibeh  tenager@gmail.com  2022-02-04  2334.00\n",
       "2        Elsa John     elsa@gmail.com  2022-04-14   455.00\n",
       "3      John Daniel     john@yahoo.com  2022-06-29   123.40\n",
       "4     Smith Daniel    smith@yahoo.com   2022-5-16  2334.50\n",
       "5  Erdogan Erdogan  erdogan@gmail.com  2022-09-13   454.45\n",
       "6     Putin Russia    putin@gmail.com  2022-06-12   232.34"
      ]
     },
     "execution_count": 6,
     "metadata": {},
     "output_type": "execute_result"
    }
   ],
   "source": [
    "# create demmy data\n",
    "import pandas as pd\n",
    "\n",
    "data = {'name': ['Asibeh Tenager', 'Tenager Asibeh', 'Elsa John', 'John Daniel', \n",
    "                 'Smith Daniel', 'Erdogan Erdogan', 'Putin Russia'],\n",
    "        'email': ['asibeh@gmail.com', 'tenager@gmail.com', 'elsa@gmail.com', 'john@yahoo.com', \n",
    "                  'smith@yahoo.com', 'erdogan@gmail.com', 'putin@gmail.com'],\n",
    "        'date': ['2022-01-02', '2022-02-04', '2022-04-14', '2022-06-29', \n",
    "                 '2022-5-16', '2022-09-13', '2022-06-12'],\n",
    "        'price': [214, 2334, 455, 123.4, 2334.5, 454.45, 232.34]\n",
    "       }\n",
    "df = pd.DataFrame(data)\n",
    "df"
   ]
  },
  {
   "cell_type": "code",
   "execution_count": 7,
   "id": "559ff1b6-3f95-427b-819c-3425a5be2cef",
   "metadata": {},
   "outputs": [
    {
     "name": "stdout",
     "output_type": "stream",
     "text": [
      "['Tenager Asibeh', 'John Daniel', 'Smith Daniel', 'Putin Russia']\n"
     ]
    }
   ],
   "source": [
    "# let's define a function \n",
    "def filter_customer(df, vowels):\n",
    "    # best solution\n",
    "    name_list = [name for name in df.name if name[0].lower() not in vowels]\n",
    "    \n",
    "    # alternative solution\n",
    "    '''\n",
    "    for name in df.name:\n",
    "        if name[0].lower() not in vowels:\n",
    "            name_list.append(name)\n",
    "    \n",
    "    '''\n",
    "    return name_list\n",
    "    \n",
    "# testing code\n",
    "vowels = ['a', 'e', 'i', 'o', 'u']\n",
    "\n",
    "print(filter_customer(df, vowels))"
   ]
  },
  {
   "cell_type": "code",
   "execution_count": 4,
   "id": "a8a8078f-fc0b-4645-b3a7-c4dfa461d412",
   "metadata": {},
   "outputs": [
    {
     "name": "stdout",
     "output_type": "stream",
     "text": [
      "you're a member of  group1, ['s1', 's2', 's3']\n"
     ]
    }
   ],
   "source": [
    "d = {'group1': ['s1', 's2', 's3'],\n",
    "    'group2': ['s4', 's5', 's6'],\n",
    "    'group3': ['s7', 's8', 's9']}\n",
    "\n",
    "for k, v in d.items():\n",
    "    if 's1' in v:\n",
    "        print(f\"you're a member of  {k}, {v}\")"
   ]
  },
  {
   "cell_type": "code",
   "execution_count": null,
   "id": "5b6ee494-ce03-4737-8c61-95b6aa8e14d9",
   "metadata": {},
   "outputs": [],
   "source": []
  }
 ],
 "metadata": {
  "kernelspec": {
   "display_name": "Python 3",
   "language": "python",
   "name": "python3"
  },
  "language_info": {
   "codemirror_mode": {
    "name": "ipython",
    "version": 3
   },
   "file_extension": ".py",
   "mimetype": "text/x-python",
   "name": "python",
   "nbconvert_exporter": "python",
   "pygments_lexer": "ipython3",
   "version": "3.10.8"
  },
  "widgets": {
   "application/vnd.jupyter.widget-state+json": {
    "state": {},
    "version_major": 2,
    "version_minor": 0
   }
  }
 },
 "nbformat": 4,
 "nbformat_minor": 5
}
