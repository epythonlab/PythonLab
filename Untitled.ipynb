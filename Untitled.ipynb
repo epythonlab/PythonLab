{
 "cells": [
  {
   "cell_type": "markdown",
   "id": "5fdbb1a5-d195-4ab6-ba93-08d94e8f40b4",
   "metadata": {},
   "source": [
    "# Web Scraping with BeautifulSoup in Python"
   ]
  },
  {
   "cell_type": "code",
   "execution_count": null,
   "id": "78420917-136c-41eb-af45-fc212cb46df0",
   "metadata": {},
   "outputs": [],
   "source": [
    "!pip install bs4"
   ]
  },
  {
   "cell_type": "code",
   "execution_count": 96,
   "id": "9fc65c1e-e3d8-4287-9e80-5316e96acf0a",
   "metadata": {},
   "outputs": [],
   "source": [
    "# import libraries \n",
    "import requests\n",
    "from bs4 import BeautifulSoup as bs\n",
    "import pandas as pd"
   ]
  },
  {
   "cell_type": "code",
   "execution_count": 97,
   "id": "e5e8a4e1-0736-410a-ac55-35629c7a3142",
   "metadata": {},
   "outputs": [],
   "source": [
    "# url for scraping \n",
    "url = \"https://www.ebay.com/sch/i.html?_from=R40&_nkw=laptop&_sacat=175672&_ipg=60&_pgn=\""
   ]
  },
  {
   "cell_type": "code",
   "execution_count": 98,
   "id": "d0b4bc69-760d-4a7e-ba9e-caa810663cde",
   "metadata": {},
   "outputs": [],
   "source": [
    "# define function to get content per page\n",
    "def get_content_per_page(url, pages):\n",
    "    \n",
    "    html_contents = []\n",
    "    for i in pages:\n",
    "        webpage_response = requests.get(url+\"{}\".format(i))\n",
    "        \n",
    "        soup = bs(webpage_response.content, \"html.parser\")\n",
    "        \n",
    "        html_contents.append(soup)\n",
    "        \n",
    "\n",
    "        \n",
    "    return html_contents\n"
   ]
  },
  {
   "cell_type": "code",
   "execution_count": 99,
   "id": "d877db67-5d70-4a4d-801e-caafe9017d4a",
   "metadata": {},
   "outputs": [],
   "source": [
    "# call the function and pass arguments\n",
    "contents = get_content_per_page(url, [1, 2, 3, 4])"
   ]
  },
  {
   "cell_type": "code",
   "execution_count": 102,
   "id": "a4d71eb1-47af-4216-98bc-14789230c207",
   "metadata": {},
   "outputs": [],
   "source": [
    "#print(contents)"
   ]
  },
  {
   "cell_type": "code",
   "execution_count": null,
   "id": "070b5c93-707c-450e-aa8a-9f51b2da9c01",
   "metadata": {},
   "outputs": [],
   "source": []
  },
  {
   "cell_type": "code",
   "execution_count": 105,
   "id": "52b5ce0f-2cb6-4df2-816d-7b293ff11aeb",
   "metadata": {},
   "outputs": [],
   "source": [
    "# define function to get data per page\n",
    "def get_data_per_page(contents=contents):\n",
    "    \n",
    "    ebay_data = {\"title\":[], \"price\":[], \"location\":[]}\n",
    "    \n",
    "    for content in contents:\n",
    "        \n",
    "        for i in range(1, 61):\n",
    "            \n",
    "            ul_entity = content.find(\"ul\", \n",
    "                                     {\"class\":\"srp-results srp-list clearfix\"}).find_all(\"li\", {\"data-view\":\"mi:1686|iid:{}\".format(i)})\n",
    "            \n",
    "            for li in ul_entity:\n",
    "                title = li.find(\"div\", {\"class\":\"s-item__info clearfix\"}).find(\"h3\", {\"class\":\"s-item__title\"}).text\n",
    "                price = li.find(\"div\", {\"class\":\"s-item__detail s-item__detail--primary\"}).find(\"span\",{\"class\":\"s-item__price\"}).text\n",
    "                location = li.find(\"span\",{\"class\":\"s-item__location s-item__itemLocation\"}).text\n",
    "                \n",
    "                ebay_data['title'].append(title.strip())\n",
    "                ebay_data['price'].append(price.strip())\n",
    "                ebay_data['location'].append(location.strip())\n",
    "                \n",
    "    \n",
    "    return ebay_data"
   ]
  },
  {
   "cell_type": "code",
   "execution_count": 106,
   "id": "f6716649-9675-47c3-bf51-fc217e704fbc",
   "metadata": {},
   "outputs": [],
   "source": [
    "# call the function\n",
    "data = get_data_per_page()\n"
   ]
  },
  {
   "cell_type": "code",
   "execution_count": null,
   "id": "99851ef9-1890-40ee-a292-24aa7a712133",
   "metadata": {},
   "outputs": [],
   "source": []
  },
  {
   "cell_type": "code",
   "execution_count": 109,
   "id": "8a8f7d97-caba-4faf-aab6-bc7d18932ee2",
   "metadata": {},
   "outputs": [],
   "source": [
    "# convert to pandas\n",
    "df = pd.DataFrame(data)\n"
   ]
  },
  {
   "cell_type": "code",
   "execution_count": 110,
   "id": "6d331d5c-6171-4fa6-9e27-55642aae632b",
   "metadata": {},
   "outputs": [
    {
     "data": {
      "text/html": [
       "<div>\n",
       "<style scoped>\n",
       "    .dataframe tbody tr th:only-of-type {\n",
       "        vertical-align: middle;\n",
       "    }\n",
       "\n",
       "    .dataframe tbody tr th {\n",
       "        vertical-align: top;\n",
       "    }\n",
       "\n",
       "    .dataframe thead th {\n",
       "        text-align: right;\n",
       "    }\n",
       "</style>\n",
       "<table border=\"1\" class=\"dataframe\">\n",
       "  <thead>\n",
       "    <tr style=\"text-align: right;\">\n",
       "      <th></th>\n",
       "      <th>title</th>\n",
       "      <th>price</th>\n",
       "      <th>location</th>\n",
       "    </tr>\n",
       "  </thead>\n",
       "  <tbody>\n",
       "    <tr>\n",
       "      <th>0</th>\n",
       "      <td>Dell Chromebook 11 3189 11.6\" 2in1 Touchscreen...</td>\n",
       "      <td>$59.00</td>\n",
       "      <td>from United States</td>\n",
       "    </tr>\n",
       "    <tr>\n",
       "      <th>1</th>\n",
       "      <td>NEW Gateway (Acer) 15.6 FHD Intel 128GB SSD 4G...</td>\n",
       "      <td>$229.99</td>\n",
       "      <td>from United States</td>\n",
       "    </tr>\n",
       "    <tr>\n",
       "      <th>2</th>\n",
       "      <td>Dell Chromebook 3120 11.6\" 11 Laptop Intel Cel...</td>\n",
       "      <td>$49.95</td>\n",
       "      <td>from United States</td>\n",
       "    </tr>\n",
       "    <tr>\n",
       "      <th>3</th>\n",
       "      <td>Lenovo Notebook PC Laptop 15,6\"amd a6, RAM 8gb...</td>\n",
       "      <td>$371.90</td>\n",
       "      <td>from Italy</td>\n",
       "    </tr>\n",
       "    <tr>\n",
       "      <th>4</th>\n",
       "      <td>New ListingMicrosoft Surface Pro 7 12.3\" 128GB...</td>\n",
       "      <td>$369.00</td>\n",
       "      <td>from United States</td>\n",
       "    </tr>\n",
       "    <tr>\n",
       "      <th>...</th>\n",
       "      <td>...</td>\n",
       "      <td>...</td>\n",
       "      <td>...</td>\n",
       "    </tr>\n",
       "    <tr>\n",
       "      <th>235</th>\n",
       "      <td>New ListingDell Latitude 7480 14\" Intel Core i...</td>\n",
       "      <td>$239.99</td>\n",
       "      <td>from United States</td>\n",
       "    </tr>\n",
       "    <tr>\n",
       "      <th>236</th>\n",
       "      <td>New ListingASUS L210 11.6in Ultra thin Laptop ...</td>\n",
       "      <td>$137.00</td>\n",
       "      <td>from United States</td>\n",
       "    </tr>\n",
       "    <tr>\n",
       "      <th>237</th>\n",
       "      <td>Lenovo ThinkPad L13 Yoga G2 20VK0019US 13.3\" N...</td>\n",
       "      <td>$1,559.99</td>\n",
       "      <td>from United States</td>\n",
       "    </tr>\n",
       "    <tr>\n",
       "      <th>238</th>\n",
       "      <td>New ListingLenovo ThinkPad X1 Extreme Gen 4 16...</td>\n",
       "      <td>$1,700.00</td>\n",
       "      <td>from United States</td>\n",
       "    </tr>\n",
       "    <tr>\n",
       "      <th>239</th>\n",
       "      <td>New ListingDELL XPS 17•W10P•16GBGB•Silver•Inte...</td>\n",
       "      <td>$2,388.19</td>\n",
       "      <td>from United States</td>\n",
       "    </tr>\n",
       "  </tbody>\n",
       "</table>\n",
       "<p>240 rows × 3 columns</p>\n",
       "</div>"
      ],
      "text/plain": [
       "                                                 title      price  \\\n",
       "0    Dell Chromebook 11 3189 11.6\" 2in1 Touchscreen...     $59.00   \n",
       "1    NEW Gateway (Acer) 15.6 FHD Intel 128GB SSD 4G...    $229.99   \n",
       "2    Dell Chromebook 3120 11.6\" 11 Laptop Intel Cel...     $49.95   \n",
       "3    Lenovo Notebook PC Laptop 15,6\"amd a6, RAM 8gb...    $371.90   \n",
       "4    New ListingMicrosoft Surface Pro 7 12.3\" 128GB...    $369.00   \n",
       "..                                                 ...        ...   \n",
       "235  New ListingDell Latitude 7480 14\" Intel Core i...    $239.99   \n",
       "236  New ListingASUS L210 11.6in Ultra thin Laptop ...    $137.00   \n",
       "237  Lenovo ThinkPad L13 Yoga G2 20VK0019US 13.3\" N...  $1,559.99   \n",
       "238  New ListingLenovo ThinkPad X1 Extreme Gen 4 16...  $1,700.00   \n",
       "239  New ListingDELL XPS 17•W10P•16GBGB•Silver•Inte...  $2,388.19   \n",
       "\n",
       "               location  \n",
       "0    from United States  \n",
       "1    from United States  \n",
       "2    from United States  \n",
       "3            from Italy  \n",
       "4    from United States  \n",
       "..                  ...  \n",
       "235  from United States  \n",
       "236  from United States  \n",
       "237  from United States  \n",
       "238  from United States  \n",
       "239  from United States  \n",
       "\n",
       "[240 rows x 3 columns]"
      ]
     },
     "execution_count": 110,
     "metadata": {},
     "output_type": "execute_result"
    }
   ],
   "source": [
    "df"
   ]
  },
  {
   "cell_type": "code",
   "execution_count": 111,
   "id": "22577877-b48e-4e4d-8cfc-269d81ff118d",
   "metadata": {},
   "outputs": [],
   "source": [
    "df.to_csv(\"ebayproductinfo.csv\", index = False)"
   ]
  },
  {
   "cell_type": "code",
   "execution_count": null,
   "id": "008ae1e3-7dc7-4649-94e8-d6e9a82a2c71",
   "metadata": {},
   "outputs": [],
   "source": []
  }
 ],
 "metadata": {
  "kernelspec": {
   "display_name": "Python 3",
   "language": "python",
   "name": "python3"
  },
  "language_info": {
   "codemirror_mode": {
    "name": "ipython",
    "version": 3
   },
   "file_extension": ".py",
   "mimetype": "text/x-python",
   "name": "python",
   "nbconvert_exporter": "python",
   "pygments_lexer": "ipython3",
   "version": "3.9.10"
  },
  "widgets": {
   "application/vnd.jupyter.widget-state+json": {
    "state": {},
    "version_major": 2,
    "version_minor": 0
   }
  }
 },
 "nbformat": 4,
 "nbformat_minor": 5
}
