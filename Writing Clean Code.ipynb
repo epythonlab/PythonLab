{
 "cells": [
  {
   "cell_type": "markdown",
   "id": "e9420e96-909b-4840-b020-20ff6043b100",
   "metadata": {},
   "source": [
    "# How to Write Clean Code?\n",
    "### Simple, Clean, Concise "
   ]
  },
  {
   "cell_type": "markdown",
   "id": "41ca846f-edcf-4a04-9f4b-0b77145742c8",
   "metadata": {},
   "source": [
    "### 1. Comment"
   ]
  },
  {
   "cell_type": "code",
   "execution_count": null,
   "id": "bd9ee027-7c10-4987-86c6-ff04aaa61b24",
   "metadata": {
    "tags": []
   },
   "outputs": [],
   "source": [
    "s = [80, 67, 78, 89] # list of student test scores\n",
    "print(sum(s)/len(s)) # print mean of test scores\n",
    "\n",
    "s1 = [x ** 0.5 * 10 for x in s] # curve scores with square root method and store in new list\n",
    "print(sum(s1)/len(s1)) # print mean of curved test scores\n"
   ]
  },
  {
   "cell_type": "markdown",
   "id": "dfe5a24c-dced-4d4f-9ee0-583f9443daae",
   "metadata": {},
   "source": [
    "We also use the function with a descriptive name, mean, instead of running a calculation each time.\n",
    "- this not only help us readability, but follows the DRY principle or don't repeat yourself."
   ]
  },
  {
   "cell_type": "code",
   "execution_count": null,
   "id": "d2eb715a-e76a-436a-b710-21a7d75cd09f",
   "metadata": {
    "tags": []
   },
   "outputs": [],
   "source": [
    "import math\n",
    "import numpy as np\n",
    "\n",
    "test_scores = [80, 67, 78, 89]\n",
    "print(np.mean(test_scores))\n",
    "\n",
    "curved_test_scores = [math.sqrt(score) * 10 for score in test_scores]\n",
    "\n",
    "print(np.mean(curved_test_scores))"
   ]
  },
  {
   "cell_type": "markdown",
   "id": "b7898a77-c2d3-404f-8fbb-dcea0f35adae",
   "metadata": {},
   "source": [
    "### 2. Use meanigful names\n",
    "- Be descriptive and imply types\n",
    "\n",
    " example: for boolean, you can prefix with `is_` or `has_`\n",
    " - use parts of speech to imply types, like verbs for functions and nouns for variables"
   ]
  },
  {
   "cell_type": "markdown",
   "id": "3e5c745c-0bfb-440c-b980-4b2efdbb0a6d",
   "metadata": {},
   "source": [
    "- Be consistent but clearly differentiate: `age_list` and `age` is easier to differentiate than `ages` and `age`."
   ]
  },
  {
   "cell_type": "code",
   "execution_count": null,
   "id": "7b802862-8e31-48c7-8bf2-c67b5bb91a88",
   "metadata": {
    "tags": []
   },
   "outputs": [],
   "source": [
    "age_list = [14, 15, 20, 25]\n",
    "for i, age enumerate(age_list):\n",
    "    if age < 18:\n",
    "        is_minor = True\n",
    "        age_list[i] = 'minor'\n",
    "        \n",
    "    # some other code here"
   ]
  },
  {
   "cell_type": "markdown",
   "id": "a6e038bc-2d9c-4ed0-8025-909eb0d635de",
   "metadata": {},
   "source": [
    "- Avoid abbreviations and single letters"
   ]
  },
  {
   "cell_type": "markdown",
   "id": "7daeee3f-c67d-4209-ada9-021b310e5ddb",
   "metadata": {},
   "source": [
    "- Long names aren't the same as descriptive names"
   ]
  },
  {
   "cell_type": "code",
   "execution_count": null,
   "id": "556742c3-d0b1-45e2-a615-4540c738371e",
   "metadata": {
    "tags": []
   },
   "outputs": [],
   "source": [
    "# bad \n",
    "def count_unique_values_of_names_list_with_set(names_list):\n",
    "    return len(set(names_list))\n",
    "\n",
    "# better\n",
    "def count_unique_values(arr):\n",
    "    \n",
    "    return len(set(arr))"
   ]
  },
  {
   "cell_type": "markdown",
   "id": "fd99023d-8f3d-4c45-badd-4e3d6b786e57",
   "metadata": {},
   "source": [
    "### 3. Nice whitespace"
   ]
  },
  {
   "cell_type": "markdown",
   "id": "0a90b221-d31a-472f-bf59-2b688e15e556",
   "metadata": {},
   "source": [
    "Use whitespace properly.\n",
    "\n",
    "- Organize your code with consistent indentation: the standard is to use four spaces for each indent. You can make this a default in your text editor.\n",
    "- Separate sections with blank lines to keep your code well organized and readable.\n",
    "- Try to limit your lines to around 79 characters, which is the guideline given in the `PEP 8`What are the steps to write clean code style guide. In many good text editors, there is a setting to display a subtle line that indicates where the 79 character limit is."
   ]
  }
 ],
 "metadata": {
  "kernelspec": {
   "display_name": "Python 3",
   "language": "python",
   "name": "python3"
  },
  "language_info": {
   "codemirror_mode": {
    "name": "ipython",
    "version": 3
   },
   "file_extension": ".py",
   "mimetype": "text/x-python",
   "name": "python",
   "nbconvert_exporter": "python",
   "pygments_lexer": "ipython3",
   "version": "3.9.10"
  },
  "widgets": {
   "application/vnd.jupyter.widget-state+json": {
    "state": {},
    "version_major": 2,
    "version_minor": 0
   }
  }
 },
 "nbformat": 4,
 "nbformat_minor": 5
}
