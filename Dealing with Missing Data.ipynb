{
 "cells": [
  {
   "cell_type": "markdown",
   "id": "df8cddd8-ddb5-45e1-ab19-ca78e89ea336",
   "metadata": {},
   "source": [
    "# Data Cleansing Part 2\n",
    "\n",
    "## How to Deal with Missing Data?"
   ]
  },
  {
   "cell_type": "markdown",
   "id": "32058647-1718-4ea9-8504-6d3130f1a4cc",
   "metadata": {},
   "source": [
    "### Read the dataset|"
   ]
  },
  {
   "cell_type": "code",
   "execution_count": 2,
   "id": "f68081a4-da84-4629-8e3e-17f59d75f16c",
   "metadata": {},
   "outputs": [],
   "source": [
    "# import libraries\n",
    "import pandas as pd\n",
    "import numpy as np\n"
   ]
  },
  {
   "cell_type": "code",
   "execution_count": 40,
   "id": "f1e81a98-5055-45ba-a92d-b81dc2bc31d0",
   "metadata": {},
   "outputs": [],
   "source": [
    "# read the dataset\n",
    "df = pd.read_excel('credit-data-training.xlsx')"
   ]
  },
  {
   "cell_type": "code",
   "execution_count": 53,
   "id": "b9858279-168b-4fd2-92da-a9763f85ca45",
   "metadata": {},
   "outputs": [
    {
     "data": {
      "text/html": [
       "<div>\n",
       "<style scoped>\n",
       "    .dataframe tbody tr th:only-of-type {\n",
       "        vertical-align: middle;\n",
       "    }\n",
       "\n",
       "    .dataframe tbody tr th {\n",
       "        vertical-align: top;\n",
       "    }\n",
       "\n",
       "    .dataframe thead th {\n",
       "        text-align: right;\n",
       "    }\n",
       "</style>\n",
       "<table border=\"1\" class=\"dataframe\">\n",
       "  <thead>\n",
       "    <tr style=\"text-align: right;\">\n",
       "      <th></th>\n",
       "      <th>Credit-Application-Result</th>\n",
       "      <th>Account-Balance</th>\n",
       "      <th>Duration-of-Credit-Month</th>\n",
       "      <th>Payment-Status-of-Previous-Credit</th>\n",
       "      <th>Purpose</th>\n",
       "      <th>Credit-Amount</th>\n",
       "      <th>Value-Savings-Stocks</th>\n",
       "      <th>Length-of-current-employment</th>\n",
       "      <th>Instalment-per-cent</th>\n",
       "      <th>Guarantors</th>\n",
       "      <th>Duration-in-Current-address</th>\n",
       "      <th>Most-valuable-available-asset</th>\n",
       "      <th>Age-years</th>\n",
       "      <th>Concurrent-Credits</th>\n",
       "      <th>Type-of-apartment</th>\n",
       "      <th>No-of-Credits-at-this-Bank</th>\n",
       "      <th>Occupation</th>\n",
       "      <th>No-of-dependents</th>\n",
       "      <th>Telephone</th>\n",
       "      <th>Foreign-Worker</th>\n",
       "    </tr>\n",
       "  </thead>\n",
       "  <tbody>\n",
       "    <tr>\n",
       "      <th>0</th>\n",
       "      <td>Creditworthy</td>\n",
       "      <td>Some Balance</td>\n",
       "      <td>4</td>\n",
       "      <td>Paid Up</td>\n",
       "      <td>Other</td>\n",
       "      <td>1494</td>\n",
       "      <td>£100-£1000</td>\n",
       "      <td>&lt; 1yr</td>\n",
       "      <td>1</td>\n",
       "      <td>None</td>\n",
       "      <td>2.0</td>\n",
       "      <td>1</td>\n",
       "      <td>NaN</td>\n",
       "      <td>Other Banks/Depts</td>\n",
       "      <td>2</td>\n",
       "      <td>1</td>\n",
       "      <td>1</td>\n",
       "      <td>2</td>\n",
       "      <td>1</td>\n",
       "      <td>2</td>\n",
       "    </tr>\n",
       "    <tr>\n",
       "      <th>1</th>\n",
       "      <td>Creditworthy</td>\n",
       "      <td>Some Balance</td>\n",
       "      <td>4</td>\n",
       "      <td>Paid Up</td>\n",
       "      <td>Home Related</td>\n",
       "      <td>1494</td>\n",
       "      <td>£100-£1000</td>\n",
       "      <td>&lt; 1yr</td>\n",
       "      <td>1</td>\n",
       "      <td>None</td>\n",
       "      <td>2.0</td>\n",
       "      <td>1</td>\n",
       "      <td>29.0</td>\n",
       "      <td>Other Banks/Depts</td>\n",
       "      <td>2</td>\n",
       "      <td>1</td>\n",
       "      <td>1</td>\n",
       "      <td>2</td>\n",
       "      <td>1</td>\n",
       "      <td>2</td>\n",
       "    </tr>\n",
       "    <tr>\n",
       "      <th>2</th>\n",
       "      <td>Creditworthy</td>\n",
       "      <td>Some Balance</td>\n",
       "      <td>4</td>\n",
       "      <td>No Problems (in this bank)</td>\n",
       "      <td>Home Related</td>\n",
       "      <td>1544</td>\n",
       "      <td>None</td>\n",
       "      <td>1-4 yrs</td>\n",
       "      <td>2</td>\n",
       "      <td>None</td>\n",
       "      <td>1.0</td>\n",
       "      <td>1</td>\n",
       "      <td>42.0</td>\n",
       "      <td>Other Banks/Depts</td>\n",
       "      <td>2</td>\n",
       "      <td>More than 1</td>\n",
       "      <td>1</td>\n",
       "      <td>2</td>\n",
       "      <td>1</td>\n",
       "      <td>1</td>\n",
       "    </tr>\n",
       "    <tr>\n",
       "      <th>3</th>\n",
       "      <td>Creditworthy</td>\n",
       "      <td>Some Balance</td>\n",
       "      <td>4</td>\n",
       "      <td>No Problems (in this bank)</td>\n",
       "      <td>Home Related</td>\n",
       "      <td>3380</td>\n",
       "      <td>None</td>\n",
       "      <td>1-4 yrs</td>\n",
       "      <td>1</td>\n",
       "      <td>None</td>\n",
       "      <td>1.0</td>\n",
       "      <td>1</td>\n",
       "      <td>37.0</td>\n",
       "      <td>Other Banks/Depts</td>\n",
       "      <td>2</td>\n",
       "      <td>1</td>\n",
       "      <td>1</td>\n",
       "      <td>2</td>\n",
       "      <td>1</td>\n",
       "      <td>1</td>\n",
       "    </tr>\n",
       "    <tr>\n",
       "      <th>4</th>\n",
       "      <td>Creditworthy</td>\n",
       "      <td>No Account</td>\n",
       "      <td>6</td>\n",
       "      <td>Paid Up</td>\n",
       "      <td>Home Related</td>\n",
       "      <td>343</td>\n",
       "      <td>None</td>\n",
       "      <td>&lt; 1yr</td>\n",
       "      <td>4</td>\n",
       "      <td>None</td>\n",
       "      <td>1.0</td>\n",
       "      <td>1</td>\n",
       "      <td>27.0</td>\n",
       "      <td>Other Banks/Depts</td>\n",
       "      <td>2</td>\n",
       "      <td>1</td>\n",
       "      <td>1</td>\n",
       "      <td>1</td>\n",
       "      <td>1</td>\n",
       "      <td>1</td>\n",
       "    </tr>\n",
       "  </tbody>\n",
       "</table>\n",
       "</div>"
      ],
      "text/plain": [
       "  Credit-Application-Result Account-Balance  Duration-of-Credit-Month  \\\n",
       "0              Creditworthy    Some Balance                         4   \n",
       "1              Creditworthy    Some Balance                         4   \n",
       "2              Creditworthy    Some Balance                         4   \n",
       "3              Creditworthy    Some Balance                         4   \n",
       "4              Creditworthy      No Account                         6   \n",
       "\n",
       "  Payment-Status-of-Previous-Credit       Purpose  Credit-Amount  \\\n",
       "0                           Paid Up         Other           1494   \n",
       "1                           Paid Up  Home Related           1494   \n",
       "2        No Problems (in this bank)  Home Related           1544   \n",
       "3        No Problems (in this bank)  Home Related           3380   \n",
       "4                           Paid Up  Home Related            343   \n",
       "\n",
       "  Value-Savings-Stocks Length-of-current-employment  Instalment-per-cent  \\\n",
       "0           £100-£1000                        < 1yr                    1   \n",
       "1           £100-£1000                        < 1yr                    1   \n",
       "2                 None                      1-4 yrs                    2   \n",
       "3                 None                      1-4 yrs                    1   \n",
       "4                 None                        < 1yr                    4   \n",
       "\n",
       "  Guarantors  Duration-in-Current-address  Most-valuable-available-asset  \\\n",
       "0       None                          2.0                              1   \n",
       "1       None                          2.0                              1   \n",
       "2       None                          1.0                              1   \n",
       "3       None                          1.0                              1   \n",
       "4       None                          1.0                              1   \n",
       "\n",
       "   Age-years Concurrent-Credits  Type-of-apartment No-of-Credits-at-this-Bank  \\\n",
       "0        NaN  Other Banks/Depts                  2                          1   \n",
       "1       29.0  Other Banks/Depts                  2                          1   \n",
       "2       42.0  Other Banks/Depts                  2                More than 1   \n",
       "3       37.0  Other Banks/Depts                  2                          1   \n",
       "4       27.0  Other Banks/Depts                  2                          1   \n",
       "\n",
       "   Occupation  No-of-dependents  Telephone  Foreign-Worker  \n",
       "0           1                 2          1               2  \n",
       "1           1                 2          1               2  \n",
       "2           1                 2          1               1  \n",
       "3           1                 2          1               1  \n",
       "4           1                 1          1               1  "
      ]
     },
     "execution_count": 53,
     "metadata": {},
     "output_type": "execute_result"
    }
   ],
   "source": [
    "# explore the data\n",
    "df.head()"
   ]
  },
  {
   "cell_type": "code",
   "execution_count": 54,
   "id": "7693b4ee-a880-4944-8b40-53dc9c0bc907",
   "metadata": {},
   "outputs": [
    {
     "data": {
      "text/plain": [
       "(500, 20)"
      ]
     },
     "execution_count": 54,
     "metadata": {},
     "output_type": "execute_result"
    }
   ],
   "source": [
    "# check the dimensions of the data\n",
    "df.shape"
   ]
  },
  {
   "cell_type": "markdown",
   "id": "298baad7-0b95-4ad8-817f-56becf91fc97",
   "metadata": {},
   "source": [
    "## Let's check and calculate the missing data"
   ]
  },
  {
   "cell_type": "code",
   "execution_count": 55,
   "id": "f8d67ab1-4353-43d1-bd3b-4aadad3c6906",
   "metadata": {},
   "outputs": [],
   "source": [
    "# let's calculate missing values\n",
    "total = df.isnull().sum().sort_values(ascending=False)\n",
    "# let's calculate the percentage of missing values\n",
    "percent = df.isnull().sum() / df.isnull().count() * 100\n",
    "# round the percentage into 1 digit after decimal\n",
    "percent_rounded = (round(percent, 1)).sort_values(ascending=False)\n",
    "\n",
    "# concatenate the total and percentage \n",
    "missing_data = pd.concat([total, percent_rounded], axis=1, keys=['Total', '%'])\n",
    "\n",
    "# let's get missing data which is total values greater than 0\n",
    "\n",
    "missing_data = missing_data[missing_data['Total']>0]\n"
   ]
  },
  {
   "cell_type": "code",
   "execution_count": 56,
   "id": "6bcf8212-318a-455a-b236-04663b446c82",
   "metadata": {},
   "outputs": [
    {
     "data": {
      "text/html": [
       "<div>\n",
       "<style scoped>\n",
       "    .dataframe tbody tr th:only-of-type {\n",
       "        vertical-align: middle;\n",
       "    }\n",
       "\n",
       "    .dataframe tbody tr th {\n",
       "        vertical-align: top;\n",
       "    }\n",
       "\n",
       "    .dataframe thead th {\n",
       "        text-align: right;\n",
       "    }\n",
       "</style>\n",
       "<table border=\"1\" class=\"dataframe\">\n",
       "  <thead>\n",
       "    <tr style=\"text-align: right;\">\n",
       "      <th></th>\n",
       "      <th>Total</th>\n",
       "      <th>%</th>\n",
       "    </tr>\n",
       "  </thead>\n",
       "  <tbody>\n",
       "    <tr>\n",
       "      <th>Duration-in-Current-address</th>\n",
       "      <td>344</td>\n",
       "      <td>68.8</td>\n",
       "    </tr>\n",
       "    <tr>\n",
       "      <th>Age-years</th>\n",
       "      <td>12</td>\n",
       "      <td>2.4</td>\n",
       "    </tr>\n",
       "  </tbody>\n",
       "</table>\n",
       "</div>"
      ],
      "text/plain": [
       "                             Total     %\n",
       "Duration-in-Current-address    344  68.8\n",
       "Age-years                       12   2.4"
      ]
     },
     "execution_count": 56,
     "metadata": {},
     "output_type": "execute_result"
    }
   ],
   "source": [
    "# display the result\n",
    "missing_data"
   ]
  },
  {
   "cell_type": "code",
   "execution_count": 57,
   "id": "fa920a6c-2181-4ae7-a7eb-00b738a6e539",
   "metadata": {},
   "outputs": [],
   "source": [
    "# drop the duration-in-current-address\n",
    "df.drop(columns='Duration-in-Current-address', axis=1, inplace=True)"
   ]
  },
  {
   "cell_type": "code",
   "execution_count": 58,
   "id": "177d7d24-4292-4971-9ad1-55dc2d5a59b5",
   "metadata": {},
   "outputs": [],
   "source": [
    "# compare the mean and median \n",
    "age_mean = df['Age-years'].mean()\n",
    "age_median = df['Age-years'].median()"
   ]
  },
  {
   "cell_type": "code",
   "execution_count": 59,
   "id": "0054dcc3-f27a-480e-9b64-de7712e146f0",
   "metadata": {},
   "outputs": [
    {
     "name": "stdout",
     "output_type": "stream",
     "text": [
      "The mean of Age-years: 35.63729508196721\n",
      "The median of Age-years 33.0\n"
     ]
    }
   ],
   "source": [
    "# print the result\n",
    "print(\"The mean of Age-years:\", age_mean)\n",
    "print(\"The median of Age-years\", age_median)"
   ]
  },
  {
   "cell_type": "code",
   "execution_count": 51,
   "id": "d2987865-76fb-4461-8fd8-da1dc148b334",
   "metadata": {},
   "outputs": [],
   "source": [
    "# Import SimpleImputer Object from the sklearn\n",
    "from sklearn.impute import SimpleImputer"
   ]
  },
  {
   "cell_type": "code",
   "execution_count": 60,
   "id": "91944f4f-4614-4287-a4ae-3c6fd189c9f2",
   "metadata": {},
   "outputs": [],
   "source": [
    "# let's impute the missing value of age-years with median as a strategy\n",
    "\n",
    "# create impute object\n",
    "imp = SimpleImputer(missing_values=np.nan, strategy='median')\n",
    "\n",
    "# get the values of Age-years and reshape into 2D array\n",
    "age_t = df['Age-years'].values\n",
    "\n",
    "# transform the age values\n",
    "df['Age-years'] = imp.fit_transform(age_t.reshape(-1, 1))"
   ]
  },
  {
   "cell_type": "code",
   "execution_count": 61,
   "id": "1adb24d5-49b6-41a7-a735-c02e5b341704",
   "metadata": {},
   "outputs": [
    {
     "data": {
      "text/plain": [
       "Credit-Application-Result            0\n",
       "Account-Balance                      0\n",
       "Duration-of-Credit-Month             0\n",
       "Payment-Status-of-Previous-Credit    0\n",
       "Purpose                              0\n",
       "Credit-Amount                        0\n",
       "Value-Savings-Stocks                 0\n",
       "Length-of-current-employment         0\n",
       "Instalment-per-cent                  0\n",
       "Guarantors                           0\n",
       "Most-valuable-available-asset        0\n",
       "Age-years                            0\n",
       "Concurrent-Credits                   0\n",
       "Type-of-apartment                    0\n",
       "No-of-Credits-at-this-Bank           0\n",
       "Occupation                           0\n",
       "No-of-dependents                     0\n",
       "Telephone                            0\n",
       "Foreign-Worker                       0\n",
       "dtype: int64"
      ]
     },
     "execution_count": 61,
     "metadata": {},
     "output_type": "execute_result"
    }
   ],
   "source": [
    "# check the missing data again\n",
    "df.isnull().sum()"
   ]
  },
  {
   "cell_type": "code",
   "execution_count": 62,
   "id": "31293bd0-43cb-4687-9015-936f322396a3",
   "metadata": {},
   "outputs": [
    {
     "data": {
      "text/html": [
       "<div>\n",
       "<style scoped>\n",
       "    .dataframe tbody tr th:only-of-type {\n",
       "        vertical-align: middle;\n",
       "    }\n",
       "\n",
       "    .dataframe tbody tr th {\n",
       "        vertical-align: top;\n",
       "    }\n",
       "\n",
       "    .dataframe thead th {\n",
       "        text-align: right;\n",
       "    }\n",
       "</style>\n",
       "<table border=\"1\" class=\"dataframe\">\n",
       "  <thead>\n",
       "    <tr style=\"text-align: right;\">\n",
       "      <th></th>\n",
       "      <th>Credit-Application-Result</th>\n",
       "      <th>Account-Balance</th>\n",
       "      <th>Duration-of-Credit-Month</th>\n",
       "      <th>Payment-Status-of-Previous-Credit</th>\n",
       "      <th>Purpose</th>\n",
       "      <th>Credit-Amount</th>\n",
       "      <th>Value-Savings-Stocks</th>\n",
       "      <th>Length-of-current-employment</th>\n",
       "      <th>Instalment-per-cent</th>\n",
       "      <th>Guarantors</th>\n",
       "      <th>Most-valuable-available-asset</th>\n",
       "      <th>Age-years</th>\n",
       "      <th>Concurrent-Credits</th>\n",
       "      <th>Type-of-apartment</th>\n",
       "      <th>No-of-Credits-at-this-Bank</th>\n",
       "      <th>Occupation</th>\n",
       "      <th>No-of-dependents</th>\n",
       "      <th>Telephone</th>\n",
       "      <th>Foreign-Worker</th>\n",
       "    </tr>\n",
       "  </thead>\n",
       "  <tbody>\n",
       "    <tr>\n",
       "      <th>0</th>\n",
       "      <td>Creditworthy</td>\n",
       "      <td>Some Balance</td>\n",
       "      <td>4</td>\n",
       "      <td>Paid Up</td>\n",
       "      <td>Other</td>\n",
       "      <td>1494</td>\n",
       "      <td>£100-£1000</td>\n",
       "      <td>&lt; 1yr</td>\n",
       "      <td>1</td>\n",
       "      <td>None</td>\n",
       "      <td>1</td>\n",
       "      <td>33.0</td>\n",
       "      <td>Other Banks/Depts</td>\n",
       "      <td>2</td>\n",
       "      <td>1</td>\n",
       "      <td>1</td>\n",
       "      <td>2</td>\n",
       "      <td>1</td>\n",
       "      <td>2</td>\n",
       "    </tr>\n",
       "    <tr>\n",
       "      <th>1</th>\n",
       "      <td>Creditworthy</td>\n",
       "      <td>Some Balance</td>\n",
       "      <td>4</td>\n",
       "      <td>Paid Up</td>\n",
       "      <td>Home Related</td>\n",
       "      <td>1494</td>\n",
       "      <td>£100-£1000</td>\n",
       "      <td>&lt; 1yr</td>\n",
       "      <td>1</td>\n",
       "      <td>None</td>\n",
       "      <td>1</td>\n",
       "      <td>29.0</td>\n",
       "      <td>Other Banks/Depts</td>\n",
       "      <td>2</td>\n",
       "      <td>1</td>\n",
       "      <td>1</td>\n",
       "      <td>2</td>\n",
       "      <td>1</td>\n",
       "      <td>2</td>\n",
       "    </tr>\n",
       "    <tr>\n",
       "      <th>2</th>\n",
       "      <td>Creditworthy</td>\n",
       "      <td>Some Balance</td>\n",
       "      <td>4</td>\n",
       "      <td>No Problems (in this bank)</td>\n",
       "      <td>Home Related</td>\n",
       "      <td>1544</td>\n",
       "      <td>None</td>\n",
       "      <td>1-4 yrs</td>\n",
       "      <td>2</td>\n",
       "      <td>None</td>\n",
       "      <td>1</td>\n",
       "      <td>42.0</td>\n",
       "      <td>Other Banks/Depts</td>\n",
       "      <td>2</td>\n",
       "      <td>More than 1</td>\n",
       "      <td>1</td>\n",
       "      <td>2</td>\n",
       "      <td>1</td>\n",
       "      <td>1</td>\n",
       "    </tr>\n",
       "    <tr>\n",
       "      <th>3</th>\n",
       "      <td>Creditworthy</td>\n",
       "      <td>Some Balance</td>\n",
       "      <td>4</td>\n",
       "      <td>No Problems (in this bank)</td>\n",
       "      <td>Home Related</td>\n",
       "      <td>3380</td>\n",
       "      <td>None</td>\n",
       "      <td>1-4 yrs</td>\n",
       "      <td>1</td>\n",
       "      <td>None</td>\n",
       "      <td>1</td>\n",
       "      <td>37.0</td>\n",
       "      <td>Other Banks/Depts</td>\n",
       "      <td>2</td>\n",
       "      <td>1</td>\n",
       "      <td>1</td>\n",
       "      <td>2</td>\n",
       "      <td>1</td>\n",
       "      <td>1</td>\n",
       "    </tr>\n",
       "    <tr>\n",
       "      <th>4</th>\n",
       "      <td>Creditworthy</td>\n",
       "      <td>No Account</td>\n",
       "      <td>6</td>\n",
       "      <td>Paid Up</td>\n",
       "      <td>Home Related</td>\n",
       "      <td>343</td>\n",
       "      <td>None</td>\n",
       "      <td>&lt; 1yr</td>\n",
       "      <td>4</td>\n",
       "      <td>None</td>\n",
       "      <td>1</td>\n",
       "      <td>27.0</td>\n",
       "      <td>Other Banks/Depts</td>\n",
       "      <td>2</td>\n",
       "      <td>1</td>\n",
       "      <td>1</td>\n",
       "      <td>1</td>\n",
       "      <td>1</td>\n",
       "      <td>1</td>\n",
       "    </tr>\n",
       "  </tbody>\n",
       "</table>\n",
       "</div>"
      ],
      "text/plain": [
       "  Credit-Application-Result Account-Balance  Duration-of-Credit-Month  \\\n",
       "0              Creditworthy    Some Balance                         4   \n",
       "1              Creditworthy    Some Balance                         4   \n",
       "2              Creditworthy    Some Balance                         4   \n",
       "3              Creditworthy    Some Balance                         4   \n",
       "4              Creditworthy      No Account                         6   \n",
       "\n",
       "  Payment-Status-of-Previous-Credit       Purpose  Credit-Amount  \\\n",
       "0                           Paid Up         Other           1494   \n",
       "1                           Paid Up  Home Related           1494   \n",
       "2        No Problems (in this bank)  Home Related           1544   \n",
       "3        No Problems (in this bank)  Home Related           3380   \n",
       "4                           Paid Up  Home Related            343   \n",
       "\n",
       "  Value-Savings-Stocks Length-of-current-employment  Instalment-per-cent  \\\n",
       "0           £100-£1000                        < 1yr                    1   \n",
       "1           £100-£1000                        < 1yr                    1   \n",
       "2                 None                      1-4 yrs                    2   \n",
       "3                 None                      1-4 yrs                    1   \n",
       "4                 None                        < 1yr                    4   \n",
       "\n",
       "  Guarantors  Most-valuable-available-asset  Age-years Concurrent-Credits  \\\n",
       "0       None                              1       33.0  Other Banks/Depts   \n",
       "1       None                              1       29.0  Other Banks/Depts   \n",
       "2       None                              1       42.0  Other Banks/Depts   \n",
       "3       None                              1       37.0  Other Banks/Depts   \n",
       "4       None                              1       27.0  Other Banks/Depts   \n",
       "\n",
       "   Type-of-apartment No-of-Credits-at-this-Bank  Occupation  No-of-dependents  \\\n",
       "0                  2                          1           1                 2   \n",
       "1                  2                          1           1                 2   \n",
       "2                  2                More than 1           1                 2   \n",
       "3                  2                          1           1                 2   \n",
       "4                  2                          1           1                 1   \n",
       "\n",
       "   Telephone  Foreign-Worker  \n",
       "0          1               2  \n",
       "1          1               2  \n",
       "2          1               1  \n",
       "3          1               1  \n",
       "4          1               1  "
      ]
     },
     "execution_count": 62,
     "metadata": {},
     "output_type": "execute_result"
    }
   ],
   "source": [
    "df.head()"
   ]
  },
  {
   "cell_type": "markdown",
   "id": "1c6954a2-2be4-4f71-90cc-cb45d4be00bb",
   "metadata": {},
   "source": [
    "----"
   ]
  },
  {
   "cell_type": "markdown",
   "id": "0681441e-a007-4003-b686-3bc6a0c90b30",
   "metadata": {},
   "source": [
    "# How to Detect and Remove Outliers using Boxplot"
   ]
  },
  {
   "cell_type": "markdown",
   "id": "2f54880c-b213-4a69-91b9-4ffad985526e",
   "metadata": {},
   "source": [
    "What is Outlier?\n",
    "> an outlier is a data point that differs significantly from other observations.\n",
    "\n",
    "> An outlier may be due to variability in the measurement or it may indicate experimental error\n",
    "\n",
    "> Outliers can occur by chance in any distribution, but they often indicate either measurement error or that the population has a heavy-tailed distribution."
   ]
  },
  {
   "cell_type": "markdown",
   "id": "00386bad-13f3-48f0-8e55-10987d48f8f3",
   "metadata": {},
   "source": [
    "## Let's read and explore the dataset"
   ]
  },
  {
   "cell_type": "code",
   "execution_count": 1,
   "id": "3fe65176-ad36-4304-b54e-379da6101aa3",
   "metadata": {},
   "outputs": [],
   "source": [
    "# import some manipulation libraries\n",
    "import pandas as pd\n",
    "from matplotlib import pyplot as plt\n",
    "import seaborn as sns\n"
   ]
  },
  {
   "cell_type": "code",
   "execution_count": 67,
   "id": "1edbf6cc-d133-43e7-a816-72e2932ee0e5",
   "metadata": {},
   "outputs": [],
   "source": [
    "# read the dataset\n",
    "train_data = pd.read_csv(\"train.csv\")"
   ]
  },
  {
   "cell_type": "code",
   "execution_count": 68,
   "id": "11e223bb-1215-423f-a420-9fccfe553938",
   "metadata": {},
   "outputs": [
    {
     "data": {
      "text/html": [
       "<div>\n",
       "<style scoped>\n",
       "    .dataframe tbody tr th:only-of-type {\n",
       "        vertical-align: middle;\n",
       "    }\n",
       "\n",
       "    .dataframe tbody tr th {\n",
       "        vertical-align: top;\n",
       "    }\n",
       "\n",
       "    .dataframe thead th {\n",
       "        text-align: right;\n",
       "    }\n",
       "</style>\n",
       "<table border=\"1\" class=\"dataframe\">\n",
       "  <thead>\n",
       "    <tr style=\"text-align: right;\">\n",
       "      <th></th>\n",
       "      <th>2010 Census Population</th>\n",
       "      <th>City</th>\n",
       "      <th>Land Area</th>\n",
       "      <th>Households with Under 18</th>\n",
       "      <th>Population Density</th>\n",
       "      <th>Total Families</th>\n",
       "      <th>Total Pawdacity Sales</th>\n",
       "    </tr>\n",
       "  </thead>\n",
       "  <tbody>\n",
       "    <tr>\n",
       "      <th>0</th>\n",
       "      <td>4585</td>\n",
       "      <td>Buffalo</td>\n",
       "      <td>3115.50750</td>\n",
       "      <td>746</td>\n",
       "      <td>1.55</td>\n",
       "      <td>1819.50</td>\n",
       "      <td>185328</td>\n",
       "    </tr>\n",
       "    <tr>\n",
       "      <th>1</th>\n",
       "      <td>35316</td>\n",
       "      <td>Casper</td>\n",
       "      <td>3894.30910</td>\n",
       "      <td>7788</td>\n",
       "      <td>11.16</td>\n",
       "      <td>8756.32</td>\n",
       "      <td>317736</td>\n",
       "    </tr>\n",
       "    <tr>\n",
       "      <th>2</th>\n",
       "      <td>59466</td>\n",
       "      <td>Cheyenne</td>\n",
       "      <td>1500.17840</td>\n",
       "      <td>7158</td>\n",
       "      <td>20.34</td>\n",
       "      <td>14612.64</td>\n",
       "      <td>917892</td>\n",
       "    </tr>\n",
       "    <tr>\n",
       "      <th>3</th>\n",
       "      <td>9520</td>\n",
       "      <td>Cody</td>\n",
       "      <td>2998.95696</td>\n",
       "      <td>1403</td>\n",
       "      <td>1.82</td>\n",
       "      <td>3515.62</td>\n",
       "      <td>218376</td>\n",
       "    </tr>\n",
       "    <tr>\n",
       "      <th>4</th>\n",
       "      <td>6120</td>\n",
       "      <td>Douglas</td>\n",
       "      <td>1829.46510</td>\n",
       "      <td>832</td>\n",
       "      <td>1.46</td>\n",
       "      <td>1744.08</td>\n",
       "      <td>208008</td>\n",
       "    </tr>\n",
       "  </tbody>\n",
       "</table>\n",
       "</div>"
      ],
      "text/plain": [
       "   2010 Census Population      City   Land Area  Households with Under 18  \\\n",
       "0                    4585   Buffalo  3115.50750                       746   \n",
       "1                   35316    Casper  3894.30910                      7788   \n",
       "2                   59466  Cheyenne  1500.17840                      7158   \n",
       "3                    9520      Cody  2998.95696                      1403   \n",
       "4                    6120   Douglas  1829.46510                       832   \n",
       "\n",
       "   Population Density  Total Families  Total Pawdacity Sales  \n",
       "0                1.55         1819.50                 185328  \n",
       "1               11.16         8756.32                 317736  \n",
       "2               20.34        14612.64                 917892  \n",
       "3                1.82         3515.62                 218376  \n",
       "4                1.46         1744.08                 208008  "
      ]
     },
     "execution_count": 68,
     "metadata": {},
     "output_type": "execute_result"
    }
   ],
   "source": [
    "# explore the dataset\n",
    "train_data.head()"
   ]
  },
  {
   "cell_type": "code",
   "execution_count": 69,
   "id": "23801ed5-9568-495b-910d-bb411913b817",
   "metadata": {},
   "outputs": [
    {
     "data": {
      "text/plain": [
       "2010 Census Population      0\n",
       "City                        0\n",
       "Land Area                   0\n",
       "Households with Under 18    0\n",
       "Population Density          0\n",
       "Total Families              0\n",
       "Total Pawdacity Sales       0\n",
       "dtype: int64"
      ]
     },
     "execution_count": 69,
     "metadata": {},
     "output_type": "execute_result"
    }
   ],
   "source": [
    "# check the missing values\n",
    "train_data.isnull().sum()"
   ]
  },
  {
   "cell_type": "code",
   "execution_count": 70,
   "id": "6f275d04-9e4d-45f2-81d9-8fbd587b8770",
   "metadata": {},
   "outputs": [
    {
     "data": {
      "text/plain": [
       "(10, 7)"
      ]
     },
     "execution_count": 70,
     "metadata": {},
     "output_type": "execute_result"
    }
   ],
   "source": [
    "# check the shape of the data\n",
    "train_data.shape\n"
   ]
  },
  {
   "cell_type": "code",
   "execution_count": 73,
   "id": "0f7842e6-363a-40c6-8ad4-e62201defe72",
   "metadata": {},
   "outputs": [
    {
     "data": {
      "text/plain": [
       "Index(['2010 Census Population', 'Land Area', 'Households with Under 18',\n",
       "       'Population Density', 'Total Families', 'Total Pawdacity Sales'],\n",
       "      dtype='object')"
      ]
     },
     "execution_count": 73,
     "metadata": {},
     "output_type": "execute_result"
    }
   ],
   "source": [
    "# get numerical columns\n",
    "num_cols = train_data.describe(exclude='object')\n",
    "col_names = num_cols.columns\n",
    "col_names"
   ]
  },
  {
   "cell_type": "markdown",
   "id": "91ab0254-50e4-4ff4-b28c-fd36825301f4",
   "metadata": {},
   "source": [
    "## Let's Plot the boxplot to visualize the distribution of the data\n"
   ]
  },
  {
   "cell_type": "code",
   "execution_count": 75,
   "id": "8f4685b1-8d4e-46e2-801e-3983ed655e81",
   "metadata": {},
   "outputs": [
    {
     "data": {
      "image/png": "[encoded data removed]",
      "text/plain": [
       "<Figure size 1000x700 with 6 Axes>"
      ]
     },
     "metadata": {},
     "output_type": "display_data"
    }
   ],
   "source": [
    "\"\"\"\n",
    "solution\n",
    "\"\"\"\n",
    "fig = plt.figure(figsize=(10, 7))\n",
    "\n",
    "for i in range(6):\n",
    "    fig.tight_layout()\n",
    "    \n",
    "    grid_col = \"32{}\".format(i+1)\n",
    "    \n",
    "    ax = fig.add_subplot(int(grid_col))\n",
    "    \n",
    "    sns.boxplot(data=train_data, x=col_names[i], ax=ax)\n",
    "\n",
    "plt.show()"
   ]
  },
  {
   "cell_type": "markdown",
   "id": "169dbcc1-2cfd-4e5a-a757-be72522ca75d",
   "metadata": {},
   "source": [
    "---"
   ]
  },
  {
   "cell_type": "markdown",
   "id": "ed6df225-d686-40d8-8170-9b8212e036d6",
   "metadata": {},
   "source": [
    "# How to Detect and Remove Outliers using Interquantile Range(IQR)"
   ]
  },
  {
   "cell_type": "markdown",
   "id": "b9718949-da88-4c22-a106-35034caa1a47",
   "metadata": {},
   "source": [
    "## Read and Explore the dataset"
   ]
  },
  {
   "cell_type": "code",
   "execution_count": 30,
   "id": "d91a127c-f657-4734-bdb7-b1adee1f6006",
   "metadata": {},
   "outputs": [],
   "source": [
    "# import some manipulation libraries\n",
    "import pandas as pd\n",
    "import numpy as np"
   ]
  },
  {
   "cell_type": "code",
   "execution_count": 2,
   "id": "8683e2ad-8152-47d1-abda-a864ec6973cb",
   "metadata": {},
   "outputs": [],
   "source": [
    "# read the dataset\n",
    "train = pd.read_csv('../train.csv')"
   ]
  },
  {
   "cell_type": "code",
   "execution_count": 31,
   "id": "decf14de-743c-4e6d-afa3-17ade7819639",
   "metadata": {},
   "outputs": [
    {
     "data": {
      "text/html": [
       "<div>\n",
       "<style scoped>\n",
       "    .dataframe tbody tr th:only-of-type {\n",
       "        vertical-align: middle;\n",
       "    }\n",
       "\n",
       "    .dataframe tbody tr th {\n",
       "        vertical-align: top;\n",
       "    }\n",
       "\n",
       "    .dataframe thead th {\n",
       "        text-align: right;\n",
       "    }\n",
       "</style>\n",
       "<table border=\"1\" class=\"dataframe\">\n",
       "  <thead>\n",
       "    <tr style=\"text-align: right;\">\n",
       "      <th></th>\n",
       "      <th>2010 Census Population</th>\n",
       "      <th>City</th>\n",
       "      <th>Land Area</th>\n",
       "      <th>Households with Under 18</th>\n",
       "      <th>Population Density</th>\n",
       "      <th>Total Families</th>\n",
       "      <th>Total Pawdacity Sales</th>\n",
       "    </tr>\n",
       "  </thead>\n",
       "  <tbody>\n",
       "    <tr>\n",
       "      <th>0</th>\n",
       "      <td>4585</td>\n",
       "      <td>Buffalo</td>\n",
       "      <td>3115.50750</td>\n",
       "      <td>746</td>\n",
       "      <td>1.55</td>\n",
       "      <td>1819.50</td>\n",
       "      <td>185328</td>\n",
       "    </tr>\n",
       "    <tr>\n",
       "      <th>1</th>\n",
       "      <td>35316</td>\n",
       "      <td>Casper</td>\n",
       "      <td>3894.30910</td>\n",
       "      <td>7788</td>\n",
       "      <td>11.16</td>\n",
       "      <td>8756.32</td>\n",
       "      <td>317736</td>\n",
       "    </tr>\n",
       "    <tr>\n",
       "      <th>2</th>\n",
       "      <td>59466</td>\n",
       "      <td>Cheyenne</td>\n",
       "      <td>1500.17840</td>\n",
       "      <td>7158</td>\n",
       "      <td>20.34</td>\n",
       "      <td>14612.64</td>\n",
       "      <td>917892</td>\n",
       "    </tr>\n",
       "    <tr>\n",
       "      <th>3</th>\n",
       "      <td>9520</td>\n",
       "      <td>Cody</td>\n",
       "      <td>2998.95696</td>\n",
       "      <td>1403</td>\n",
       "      <td>1.82</td>\n",
       "      <td>3515.62</td>\n",
       "      <td>218376</td>\n",
       "    </tr>\n",
       "    <tr>\n",
       "      <th>4</th>\n",
       "      <td>6120</td>\n",
       "      <td>Douglas</td>\n",
       "      <td>1829.46510</td>\n",
       "      <td>832</td>\n",
       "      <td>1.46</td>\n",
       "      <td>1744.08</td>\n",
       "      <td>208008</td>\n",
       "    </tr>\n",
       "  </tbody>\n",
       "</table>\n",
       "</div>"
      ],
      "text/plain": [
       "   2010 Census Population      City   Land Area  Households with Under 18  \\\n",
       "0                    4585   Buffalo  3115.50750                       746   \n",
       "1                   35316    Casper  3894.30910                      7788   \n",
       "2                   59466  Cheyenne  1500.17840                      7158   \n",
       "3                    9520      Cody  2998.95696                      1403   \n",
       "4                    6120   Douglas  1829.46510                       832   \n",
       "\n",
       "   Population Density  Total Families  Total Pawdacity Sales  \n",
       "0                1.55         1819.50                 185328  \n",
       "1               11.16         8756.32                 317736  \n",
       "2               20.34        14612.64                 917892  \n",
       "3                1.82         3515.62                 218376  \n",
       "4                1.46         1744.08                 208008  "
      ]
     },
     "execution_count": 31,
     "metadata": {},
     "output_type": "execute_result"
    }
   ],
   "source": [
    "# Explore the dataset\n",
    "train.head()"
   ]
  },
  {
   "cell_type": "code",
   "execution_count": 32,
   "id": "f589b880-e5b1-4ec6-b24c-b7a5fb22eb6f",
   "metadata": {},
   "outputs": [
    {
     "data": {
      "text/plain": [
       "2010 Census Population      0\n",
       "City                        0\n",
       "Land Area                   0\n",
       "Households with Under 18    0\n",
       "Population Density          0\n",
       "Total Families              0\n",
       "Total Pawdacity Sales       0\n",
       "dtype: int64"
      ]
     },
     "execution_count": 32,
     "metadata": {},
     "output_type": "execute_result"
    }
   ],
   "source": [
    "# Check missing values\n",
    "train.isnull().sum()"
   ]
  },
  {
   "cell_type": "code",
   "execution_count": 33,
   "id": "1adad5f4-acfd-4a19-ba13-c25286b3edf7",
   "metadata": {},
   "outputs": [
    {
     "data": {
      "text/plain": [
       "(10, 7)"
      ]
     },
     "execution_count": 33,
     "metadata": {},
     "output_type": "execute_result"
    }
   ],
   "source": [
    "# Check the shape of the dataset\n",
    "train.shape"
   ]
  },
  {
   "cell_type": "code",
   "execution_count": 34,
   "id": "d92a79e3-d54c-41de-a0b3-76c58fdc8d16",
   "metadata": {},
   "outputs": [
    {
     "data": {
      "text/plain": [
       "Index(['2010 Census Population', 'Land Area', 'Households with Under 18',\n",
       "       'Population Density', 'Total Families', 'Total Pawdacity Sales'],\n",
       "      dtype='object')"
      ]
     },
     "execution_count": 34,
     "metadata": {},
     "output_type": "execute_result"
    }
   ],
   "source": [
    "# Get the numerical columns\n",
    "num_cols = train.describe(exclude=\"object\")\n",
    "col_names = num_cols.columns\n",
    "col_names"
   ]
  },
  {
   "cell_type": "code",
   "execution_count": 39,
   "id": "fa980011-6cf6-474a-b6bd-d738c55c5a2f",
   "metadata": {},
   "outputs": [],
   "source": [
    "# Define the function to detect outlier\n",
    "def detect_outlier(df, cols):\n",
    "    \n",
    "    # create an empty dict\n",
    "    outlier_dict = {}\n",
    "    \n",
    "    for col in cols:\n",
    "        \n",
    "        # claculate q1, q3, iqr\n",
    "        \n",
    "        q1 = np.quantile(df[col], 0.25)\n",
    "        \n",
    "        q3 = np.quantile(df[col], 0.75)\n",
    "        \n",
    "        iqr = q3 - q1\n",
    "        \n",
    "        # find upper fence and lower fence\n",
    "        upper_fence = q3 + (1.5 * iqr)\n",
    "        \n",
    "        lower_fence = q1 - (1.5*iqr)\n",
    "        \n",
    "        \n",
    "        outlier = df.loc[((df[col]<=lower_fence)|(df[col]>=upper_fence))][[col]]\n",
    "        \n",
    "        outlier_dict[col] = [q1, q3, iqr, upper_fence, lower_fence, outlier.values]\n",
    "    \n",
    "    \n",
    "    return outlier_dict\n"
   ]
  },
  {
   "cell_type": "code",
   "execution_count": 40,
   "id": "203593b6-dc71-4545-9728-f02996cff10f",
   "metadata": {},
   "outputs": [],
   "source": [
    "# call the function and create dataframe\n",
    "\n",
    "outlier = detect_outlier(train, col_names)"
   ]
  },
  {
   "cell_type": "code",
   "execution_count": 41,
   "id": "56d0fb27-1e0d-43c1-9654-3341a0bbdd12",
   "metadata": {},
   "outputs": [],
   "source": [
    "df = pd.DataFrame(outlier).set_index(pd.Index(['q1', 'q3', 'iqr', 'upper_fence', 'lower fence','outlier']))"
   ]
  },
  {
   "cell_type": "code",
   "execution_count": 42,
   "id": "e3f6857f-d103-4368-b6ab-b47b30f40df6",
   "metadata": {},
   "outputs": [
    {
     "data": {
      "text/html": [
       "<div>\n",
       "<style scoped>\n",
       "    .dataframe tbody tr th:only-of-type {\n",
       "        vertical-align: middle;\n",
       "    }\n",
       "\n",
       "    .dataframe tbody tr th {\n",
       "        vertical-align: top;\n",
       "    }\n",
       "\n",
       "    .dataframe thead th {\n",
       "        text-align: right;\n",
       "    }\n",
       "</style>\n",
       "<table border=\"1\" class=\"dataframe\">\n",
       "  <thead>\n",
       "    <tr style=\"text-align: right;\">\n",
       "      <th></th>\n",
       "      <th>2010 Census Population</th>\n",
       "      <th>Land Area</th>\n",
       "      <th>Households with Under 18</th>\n",
       "      <th>Population Density</th>\n",
       "      <th>Total Families</th>\n",
       "      <th>Total Pawdacity Sales</th>\n",
       "    </tr>\n",
       "  </thead>\n",
       "  <tbody>\n",
       "    <tr>\n",
       "      <th>q1</th>\n",
       "      <td>7115.50</td>\n",
       "      <td>1845.593087</td>\n",
       "      <td>1289.00</td>\n",
       "      <td>1.67000</td>\n",
       "      <td>2818.02500</td>\n",
       "      <td>222264.0</td>\n",
       "    </tr>\n",
       "    <tr>\n",
       "      <th>q3</th>\n",
       "      <td>21638.00</td>\n",
       "      <td>3699.608700</td>\n",
       "      <td>3686.50</td>\n",
       "      <td>7.97250</td>\n",
       "      <td>7189.06250</td>\n",
       "      <td>306990.0</td>\n",
       "    </tr>\n",
       "    <tr>\n",
       "      <th>iqr</th>\n",
       "      <td>14522.50</td>\n",
       "      <td>1854.015613</td>\n",
       "      <td>2397.50</td>\n",
       "      <td>6.30250</td>\n",
       "      <td>4371.03750</td>\n",
       "      <td>84726.0</td>\n",
       "    </tr>\n",
       "    <tr>\n",
       "      <th>upper_fence</th>\n",
       "      <td>43421.75</td>\n",
       "      <td>6480.632120</td>\n",
       "      <td>7282.75</td>\n",
       "      <td>17.42625</td>\n",
       "      <td>13745.61875</td>\n",
       "      <td>434079.0</td>\n",
       "    </tr>\n",
       "    <tr>\n",
       "      <th>lower fence</th>\n",
       "      <td>-14668.25</td>\n",
       "      <td>-935.430332</td>\n",
       "      <td>-2307.25</td>\n",
       "      <td>-7.78375</td>\n",
       "      <td>-3738.53125</td>\n",
       "      <td>95175.0</td>\n",
       "    </tr>\n",
       "    <tr>\n",
       "      <th>outlier</th>\n",
       "      <td>[[59466]]</td>\n",
       "      <td>[[6620.201916]]</td>\n",
       "      <td>[[7788]]</td>\n",
       "      <td>[[20.34]]</td>\n",
       "      <td>[[14612.64]]</td>\n",
       "      <td>[[917892]]</td>\n",
       "    </tr>\n",
       "  </tbody>\n",
       "</table>\n",
       "</div>"
      ],
      "text/plain": [
       "            2010 Census Population        Land Area Households with Under 18  \\\n",
       "q1                         7115.50      1845.593087                  1289.00   \n",
       "q3                        21638.00      3699.608700                  3686.50   \n",
       "iqr                       14522.50      1854.015613                  2397.50   \n",
       "upper_fence               43421.75      6480.632120                  7282.75   \n",
       "lower fence              -14668.25      -935.430332                 -2307.25   \n",
       "outlier                  [[59466]]  [[6620.201916]]                 [[7788]]   \n",
       "\n",
       "            Population Density Total Families Total Pawdacity Sales  \n",
       "q1                     1.67000     2818.02500              222264.0  \n",
       "q3                     7.97250     7189.06250              306990.0  \n",
       "iqr                    6.30250     4371.03750               84726.0  \n",
       "upper_fence           17.42625    13745.61875              434079.0  \n",
       "lower fence           -7.78375    -3738.53125               95175.0  \n",
       "outlier              [[20.34]]   [[14612.64]]            [[917892]]  "
      ]
     },
     "execution_count": 42,
     "metadata": {},
     "output_type": "execute_result"
    }
   ],
   "source": [
    "df"
   ]
  },
  {
   "cell_type": "code",
   "execution_count": null,
   "id": "e13a5f47-51cc-4012-a662-e8c14c760772",
   "metadata": {},
   "outputs": [],
   "source": []
  }
 ],
 "metadata": {
  "kernelspec": {
   "display_name": "Python 3",
   "language": "python",
   "name": "python3"
  },
  "language_info": {
   "codemirror_mode": {
    "name": "ipython",
    "version": 3
   },
   "file_extension": ".py",
   "mimetype": "text/x-python",
   "name": "python",
   "nbconvert_exporter": "python",
   "pygments_lexer": "ipython3",
   "version": "3.9.10"
  },
  "widgets": {
   "application/vnd.jupyter.widget-state+json": {
    "state": {},
    "version_major": 2,
    "version_minor": 0
   }
  }
 },
 "nbformat": 4,
 "nbformat_minor": 5
}
