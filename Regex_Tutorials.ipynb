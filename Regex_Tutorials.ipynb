{
  "nbformat": 4,
  "nbformat_minor": 0,
  "metadata": {
    "colab": {
      "private_outputs": true,
      "provenance": [],
      "authorship_tag": "ABX9TyNAX193ZYBE2+zd3iv/Vu8I",
      "include_colab_link": true
    },
    "kernelspec": {
      "name": "python3",
      "display_name": "Python 3"
    },
    "language_info": {
      "name": "python"
    }
  },
  "cells": [
    {
      "cell_type": "markdown",
      "metadata": {
        "id": "view-in-github",
        "colab_type": "text"
      },
      "source": [
        "<a href=\"https://colab.research.google.com/github/epythonlab/PythonLab/blob/master/Regex_Tutorials.ipynb\" target=\"_parent\"><img src=\"https://colab.research.google.com/assets/colab-badge.svg\" alt=\"Open In Colab\"/></a>"
      ]
    },
    {
      "cell_type": "markdown",
      "source": [
        "# Learn Regular Expressions from Beginner to Advanced"
      ],
      "metadata": {
        "id": "vm3W_EvQn88u"
      }
    },
    {
      "cell_type": "markdown",
      "source": [
        "# Description:"
      ],
      "metadata": {
        "id": "fRUptFrZoFLG"
      }
    },
    {
      "cell_type": "markdown",
      "source": [
        "In this tutorial, you will learn everything you need to know about regular expressions, from beginner to advanced. I will cover the basics of regular expressions, as well as more advanced topics with practical examples. By the end of this tutorial, you will be able to use regular expressions to solve a variety of problems.\n",
        "\n",
        "Keywords\n",
        "\n",
        "regular expressions, regex, beginner, advanced, Python, programming, tutorial, regex tutorial, regular expressions tutorial, regex examples, regex exercises, beginner regex, advanced regex"
      ],
      "metadata": {
        "id": "w0476gLZoLms"
      }
    },
    {
      "cell_type": "markdown",
      "source": [
        " # I. Introduction to Regular Expressions\n"
      ],
      "metadata": {
        "id": "6-we6O_KoTk_"
      }
    },
    {
      "cell_type": "markdown",
      "source": [
        "A. What are regular expressions?\n",
        "- Regular expressions `(regex)` are sequences of characters that define a search pattern.\n",
        "- They are widely used for pattern matching and text manipulation tasks.\n",
        "\n",
        "B. Why are regular expressions useful?\n",
        "- Regular expressions offer a powerful and flexible way to search, validate, and manipulate text data.\n",
        "- They can be applied in various programming languages, text editors, and command-line tools.\n",
        "\n",
        "C. How are regular expressions applied in various fields?\n",
        "- Regular expressions find applications in fields like data validation, web scraping, text mining, log analysis, search and replace operations, and more."
      ],
      "metadata": {
        "id": "SofuEK09oo2e"
      }
    },
    {
      "cell_type": "markdown",
      "source": [
        "# II. Regex Basics\n"
      ],
      "metadata": {
        "id": "uQ3XXEabpUnX"
      }
    },
    {
      "cell_type": "markdown",
      "source": [
        "Importing the `re` Module\n",
        "\n",
        "In Python, regular expressions are handled using the built-in `re` module. Before using regular expressions, you need to import this module"
      ],
      "metadata": {
        "id": "O_nI9p-KKTXF"
      }
    },
    {
      "cell_type": "code",
      "source": [
        "import re"
      ],
      "metadata": {
        "id": "aNVVbxkmKgpE"
      },
      "execution_count": null,
      "outputs": []
    },
    {
      "cell_type": "markdown",
      "source": [
        "A. Literal Matches\n",
        "- Matching literal characters directly.\n",
        "\n",
        "## Example:\n",
        "- The regex pattern `cat` matches the word \"cat\" in the input text."
      ],
      "metadata": {
        "id": "-xX36D_UKaLR"
      }
    },
    {
      "cell_type": "code",
      "source": [
        "text = \"The cat is on the mat.\"\n",
        "pattern = \"cat\"\n",
        "\n",
        "result = re.findall(pattern, text)\n",
        "print(result)  # Output: ['cat']"
      ],
      "metadata": {
        "id": "Qu89KG2lo-8y"
      },
      "execution_count": null,
      "outputs": []
    },
    {
      "cell_type": "markdown",
      "source": [
        "- `re.findall(pattern, string)`: Returns all non-overlapping matches of the pattern in the string as a list."
      ],
      "metadata": {
        "id": "V4kcFIXaMcwr"
      }
    },
    {
      "cell_type": "markdown",
      "source": [
        "B. Metacharacters and Escaping\n",
        "- Special characters in regex that have a predefined meaning. Escaping them allows treating them as literal characters.\n",
        "## Example:\n",
        "- To match a dot `(.)`, you need to escape it like `\\.`"
      ],
      "metadata": {
        "id": "YCeRQDiAqLiS"
      }
    },
    {
      "cell_type": "code",
      "source": [
        "text = \"I have a dot in my sentence.\"\n",
        "pattern = r\"\\.\"\n",
        "\n",
        "result = re.findall(pattern, text)\n",
        "print(result)  # Output: ['.']"
      ],
      "metadata": {
        "id": "GC8uaiQjqY27"
      },
      "execution_count": null,
      "outputs": []
    },
    {
      "cell_type": "markdown",
      "source": [
        "- `. (dot)`: Matches any single character except a newline."
      ],
      "metadata": {
        "id": "2FfF73yjMpqa"
      }
    },
    {
      "cell_type": "markdown",
      "source": [
        "C. Character Classes and Ranges\n",
        "- Matching a specific set of characters or ranges.\n",
        "## Example:\n",
        "- The regex pattern `[aeiou]` matches any vowel in the input text."
      ],
      "metadata": {
        "id": "Wb8M8LjtqZhW"
      }
    },
    {
      "cell_type": "code",
      "source": [
        "text = \"I love apples and oranges.\"\n",
        "pattern = \"[aeiou]\"\n",
        "\n",
        "result = re.findall(pattern, text)\n",
        "print(result)  # Output: ['o', 'e', 'a', 'e', 'o', 'a', 'o', 'e']"
      ],
      "metadata": {
        "id": "uyOS4fhlqlPS"
      },
      "execution_count": null,
      "outputs": []
    },
    {
      "cell_type": "markdown",
      "source": [
        "D. Quantifiers\n",
        "- Specifying the number of occurrences of a character or group.\n",
        "## Example:\n",
        "- The regex pattern `a{2,4}` matches \"aa,\" \"aaa,\" or \"aaaa.\"\n"
      ],
      "metadata": {
        "id": "_syGOUuuqvmn"
      }
    },
    {
      "cell_type": "code",
      "source": [
        "text = \"aaa ab aab aaab\"\n",
        "pattern = \"a{2,4}b\"\n",
        "\n",
        "result = re.findall(pattern, text)\n",
        "print(result)  # Output: ['aab', 'aaab']"
      ],
      "metadata": {
        "id": "6vAzaP_Aq4F0"
      },
      "execution_count": null,
      "outputs": []
    },
    {
      "cell_type": "markdown",
      "source": [
        "- `a{2,4}`: Matches the character \"a\" repeated 2 to 4 times consecutively.\n",
        "- `b`: Matches the character \"b\" immediately following the \"a\" sequence.\n",
        "Here's a breakdown of the pattern:\n",
        "\n",
        "- `a{2,4}`: The curly braces `{2,4}` indicate a quantifier.\n",
        " In this case, it specifies that the preceding character \"a\" should occur between 2 and 4 times. So, it will match patterns like \"aa\", \"aaa\", or \"aaaa\", but not \"a\" or \"aaaaa\".\n",
        "- `b`: Matches the character \"b\" immediately following the \"a\" sequence. It ensures that the pattern ends with the character \"b\"."
      ],
      "metadata": {
        "id": "Q6yH_V0CNeIH"
      }
    },
    {
      "cell_type": "markdown",
      "source": [
        "E. Anchors\n",
        "- Matching specific positions in the input text.\n",
        "## Example:\n",
        "- The regex pattern `^start` matches \"start\" at the beginning of a line."
      ],
      "metadata": {
        "id": "LjXGGSd6q4xk"
      }
    },
    {
      "cell_type": "code",
      "source": [
        "text = \"Start with a newline\\nstart with a word\"\n",
        "pattern = \"^start\"\n",
        "\n",
        "result = re.findall(pattern, text, re.MULTILINE)\n",
        "print(result)  # Output: ['start']"
      ],
      "metadata": {
        "id": "vQeAUZqVq-xo"
      },
      "execution_count": null,
      "outputs": []
    },
    {
      "cell_type": "markdown",
      "source": [
        "# III. Intermediate Regex Concepts\n"
      ],
      "metadata": {
        "id": "Ld0TfSawsMFk"
      }
    },
    {
      "cell_type": "markdown",
      "source": [
        "A. Alternation\n",
        "- Matching multiple alternatives using the OR operator `(|)`.\n",
        "## Example:\n",
        "- The regex pattern `apple|orange` matches either \"apple\" or \"orange.\"\n"
      ],
      "metadata": {
        "id": "GLSKSkHQsQwE"
      }
    },
    {
      "cell_type": "code",
      "source": [
        "text = \"I have an apple and an orange.\"\n",
        "pattern = \"apple|orange\"\n",
        "\n",
        "result = re.findall(pattern, text)\n",
        "print(result)  # Output: ['apple', 'orange']"
      ],
      "metadata": {
        "id": "j4V68xqGsZrc"
      },
      "execution_count": null,
      "outputs": []
    },
    {
      "cell_type": "markdown",
      "source": [
        "B. Grouping and Capturing\n",
        "-  Grouping parts of a regex pattern and capturing matched substrings.\n",
        "##  Example:\n",
        "- The regex pattern `(ab)+` matches \"ab,\" \"abab,\" or \"ababab.\"\n"
      ],
      "metadata": {
        "id": "6t2bnGgrsZ_8"
      }
    },
    {
      "cell_type": "code",
      "source": [
        "text = \"abab abc ab\"\n",
        "pattern = \"(ab)+\"\n",
        "\n",
        "result = re.findall(pattern, text)\n",
        "print(result)  # Output: ['ab', 'ab', 'ab']"
      ],
      "metadata": {
        "id": "OAQBO8lWsgXl"
      },
      "execution_count": null,
      "outputs": []
    },
    {
      "cell_type": "markdown",
      "source": [
        "C. Backreferences\n",
        "-  Referring to previously captured groups within the same regex pattern.\n",
        "## Example:\n",
        "- The regex pattern `(\\d{2})-\\1` matches \"22-22\" but not \"22-33.\"\n"
      ],
      "metadata": {
        "id": "IYSfPJJusgk7"
      }
    },
    {
      "cell_type": "code",
      "source": [
        "text = \"22-22 22-33\"\n",
        "pattern = r\"(\\d{2})-\\1\"\n",
        "\n",
        "result = re.findall(pattern, text)\n",
        "print(result)  # Output: ['22']"
      ],
      "metadata": {
        "id": "4VAjF5WsssJh"
      },
      "execution_count": null,
      "outputs": []
    },
    {
      "cell_type": "markdown",
      "source": [
        "D. Lookaheads and Lookbehinds\n",
        "- Matching based on the presence or absence of certain patterns ahead or behind the current position.\n",
        "## Example:\n",
        "- The regex pattern `(?<=prefix)\\w+` matches a word preceded by the word \"prefix.\"\n"
      ],
      "metadata": {
        "id": "cFyIaa2UssVz"
      }
    },
    {
      "cell_type": "code",
      "source": [
        "text = \"prefixword suffix\"\n",
        "pattern = r\"\\w+(?<=prefix)\"\n",
        "\n",
        "result = re.findall(pattern, text)\n",
        "print(result)  # Output: ['word']"
      ],
      "metadata": {
        "id": "o7LMrF1ZsyRD"
      },
      "execution_count": null,
      "outputs": []
    },
    {
      "cell_type": "markdown",
      "source": [
        "E. Greedy vs. Lazy Matching\n",
        "- Controlling the matching behavior to be either greedy `(`matches as much as possible`)` or lazy `(`matches as little as possible`)`.\n",
        "## Example:\n",
        "- The regex pattern `a.+b` matches \"aabbbb\" in \"aaabbbbbaabbbb\" greedily, but \"aab\" lazily."
      ],
      "metadata": {
        "id": "bojCZGFRsypE"
      }
    },
    {
      "cell_type": "code",
      "source": [
        "text = \"aaabbbbbaabbbb\"\n",
        "pattern = r\"a.+b\"\n",
        "\n",
        "result = re.findall(pattern, text)\n",
        "print(result)  # Output: ['aabbbbbaabbbb']\n",
        "\n",
        "pattern = r\"a.+?b\"\n",
        "\n",
        "result = re.findall(pattern, text)\n",
        "print(result)  # Output: ['aab']"
      ],
      "metadata": {
        "id": "xSauOGn0s8Rj"
      },
      "execution_count": null,
      "outputs": []
    },
    {
      "cell_type": "markdown",
      "source": [
        "# IV. Advanced Regex Techniques\n"
      ],
      "metadata": {
        "id": "WtdxD7SOs8gH"
      }
    },
    {
      "cell_type": "markdown",
      "source": [
        "A. Advanced Character Classes\n",
        "- Utilizing advanced character class constructs for matching specific character types.\n",
        "## Example:\n",
        "-The regex pattern `\\p{L}` matches any Unicode letter.\n"
      ],
      "metadata": {
        "id": "id7WlQD105Ie"
      }
    },
    {
      "cell_type": "code",
      "source": [
        "text = \"Hello, こんにちは, مرحبًا\"\n",
        "pattern = r\"\\p{L}\"\n",
        "\n",
        "result = re.findall(pattern, text, re.UNICODE)\n",
        "print(result)  # Output: ['H', 'e', 'l', 'l', 'o', 'こ', 'ん', 'に', 'ち', 'は', 'م', 'ر', 'ح', 'ب', 'ا']\n"
      ],
      "metadata": {
        "id": "O5TRndQ41BFz"
      },
      "execution_count": null,
      "outputs": []
    },
    {
      "cell_type": "markdown",
      "source": [
        "B. Modifiers and Flags\n",
        "- Adding modifiers or flags to change regex behavior (e.g., case-insensitive matching).\n",
        "## Example:\n",
        "- The regex pattern `pattern(?i)` matches \"pattern\" case-insensitively.\n"
      ],
      "metadata": {
        "id": "iZOhxLKy1BaI"
      }
    },
    {
      "cell_type": "code",
      "source": [
        "text = \"Pattern matching is case-insensitive.\"\n",
        "pattern = r\"pattern(?i)\"\n",
        "\n",
        "result = re.findall(pattern, text)\n",
        "print(result)  # Output: ['Pattern']"
      ],
      "metadata": {
        "id": "x--lqu-31MYz"
      },
      "execution_count": null,
      "outputs": []
    },
    {
      "cell_type": "markdown",
      "source": [
        "C. Conditional Matching\n",
        "-  Matching patterns conditionally based on certain criteria.\n",
        "## Example:\n",
        "- The regex pattern `(?(expression)true|false)` matches \"true\" if the expression is satisfied; otherwise, it matches \"false.\"\n"
      ],
      "metadata": {
        "id": "5-MAKMQx1MzL"
      }
    },
    {
      "cell_type": "code",
      "source": [
        "text = \"There are 10 items.\"\n",
        "pattern = r\"(?(10)true|false)\"\n",
        "\n",
        "result = re.findall(pattern, text)\n",
        "print(result)  # Output: ['true']"
      ],
      "metadata": {
        "id": "o4_Lyxes1UA7"
      },
      "execution_count": null,
      "outputs": []
    },
    {
      "cell_type": "markdown",
      "source": [
        "D. Recursive Patterns\n",
        "-  Creating patterns that can match nested or repetitive structures.\n",
        "## Example:\n",
        "- The regex pattern `(?R)` matches the entire pattern recursively.\n"
      ],
      "metadata": {
        "id": "1CjFfYDi1UPL"
      }
    },
    {
      "cell_type": "code",
      "source": [
        "text = \"Nested brackets: (((text)))\"\n",
        "pattern = r\"(\\(((?>[^()]+|(?1))*)\\))\"\n",
        "\n",
        "result = re.findall(pattern, text)\n",
        "print(result)  # Output: [('(((text)))', 'text')]"
      ],
      "metadata": {
        "id": "0utJ-_rA1aQv"
      },
      "execution_count": null,
      "outputs": []
    },
    {
      "cell_type": "markdown",
      "source": [
        "E. Assertions\n",
        "-  Making assertions about the surrounding text without including it in the actual match.\n",
        "## Example:\n",
        "- The regex pattern `word(?=\\W|$)` matches \"word\" only if it's followed by a non-word character or end of line."
      ],
      "metadata": {
        "id": "5sHJP3UG1ad8"
      }
    },
    {
      "cell_type": "code",
      "source": [
        "text = \"word, word1, word2\"\n",
        "pattern = r\"word(?=\\W|$)\"\n",
        "\n",
        "result = re.findall(pattern, text)\n",
        "print(result)  # Output: ['word', 'word']"
      ],
      "metadata": {
        "id": "zPMTrX3D1gTO"
      },
      "execution_count": null,
      "outputs": []
    },
    {
      "cell_type": "markdown",
      "source": [
        "# V. Practical Examples and Demo Exercises\n"
      ],
      "metadata": {
        "id": "iObKT17y1go0"
      }
    },
    {
      "cell_type": "markdown",
      "source": [
        "A. Validating Email Addresses\n",
        "- Using regex to validate the format of an email address.\n",
        "## Exercise:\n",
        "- Write a regex pattern to validate email addresses with the format \"username@epythonlab.com.\"\n"
      ],
      "metadata": {
        "id": "1lZ16eeOG05k"
      }
    },
    {
      "cell_type": "code",
      "source": [
        "email = \"example@example.com\"\n",
        "pattern = r\"^\\w+@[a-zA-Z_]+?\\.[a-zA-Z]{2,3}$\"\n",
        "\n",
        "result = re.match(pattern, email)\n",
        "if result:\n",
        "    print(\"Valid email address.\")\n",
        "else:\n",
        "    print(\"Invalid email address.\")"
      ],
      "metadata": {
        "id": "vCFN8XkTG_T9"
      },
      "execution_count": null,
      "outputs": []
    },
    {
      "cell_type": "markdown",
      "source": [
        "B. Extracting URLs from Text\n",
        "- Extracting URLs from a text document using regex.\n",
        "## Exercise:\n",
        "- Write a regex pattern to extract URLs from a given text input.\n"
      ],
      "metadata": {
        "id": "2nDPa9_CG_gT"
      }
    },
    {
      "cell_type": "code",
      "source": [
        "text = \"Visit my website at https://www.example.com\"\n",
        "pattern = r\"https?://[\\w./-]+\"\n",
        "\n",
        "result = re.findall(pattern, text)\n",
        "print(result)  # Output: ['https://www.example.com']"
      ],
      "metadata": {
        "id": "p6UMnWsyHEZF"
      },
      "execution_count": null,
      "outputs": []
    },
    {
      "cell_type": "markdown",
      "source": [
        "C. Parsing HTML/XML Tags\n",
        "- Parsing and extracting information from HTML/XML tags using regex.\n",
        "## Exercise:\n",
        "- Write a regex pattern to extract the content within HTML `<title>` tags.\n"
      ],
      "metadata": {
        "id": "_Xd1Y1SwHEr_"
      }
    },
    {
      "cell_type": "code",
      "source": [
        "html = \"<title>Regex Tutorial</title>\"\n",
        "pattern = r\"<title>(.*?)<\\/title>\"\n",
        "\n",
        "result = re.findall(pattern, html)\n",
        "print(result)  # Output: ['Regex Tutorial']"
      ],
      "metadata": {
        "id": "ecKYz-wvHLnO"
      },
      "execution_count": null,
      "outputs": []
    },
    {
      "cell_type": "markdown",
      "source": [
        "D. Formatting and Manipulating Text\n",
        "- Using regex to format and manipulate text strings.\n",
        "## Exercise:\n",
        "- Write a regex pattern to remove all non-alphanumeric characters from a given text.\n"
      ],
      "metadata": {
        "id": "SZfimdK4HLyu"
      }
    },
    {
      "cell_type": "code",
      "source": [
        "text = \"Remove!@#$non-alphanumeric%^characters\"\n",
        "pattern = r\"\\W+\"\n",
        "\n",
        "result = re.sub(pattern, \"\", text)\n",
        "print(result)  # Output: 'Removenonalphanumericcharacters'"
      ],
      "metadata": {
        "id": "kEmbaYOrHQB7"
      },
      "execution_count": null,
      "outputs": []
    },
    {
      "cell_type": "markdown",
      "source": [
        "E. Data Extraction and Transformation\n",
        "-  Applying regex to extract and transform data from structured or semi-structured text.\n",
        "## Exercise:\n",
        "- Write a regex pattern to extract phone numbers from a text document."
      ],
      "metadata": {
        "id": "HG6WB7YRHQNs"
      }
    },
    {
      "cell_type": "code",
      "source": [
        "text = \"Contact us at: Phone: 123-456-7890 Email: info@example.com\"\n",
        "    pattern = r\"Phone: (\\d{3}-\\d{3}-\\d{4}) Email: (\\w+@\\w+\\.\\w+)\"\n",
        "\n",
        "    result = re.findall(pattern, text)\n",
        "    print(result)  # Output: [('123-456-7890', 'info@example.com')]"
      ],
      "metadata": {
        "id": "tp9AmyQWHUgu"
      },
      "execution_count": null,
      "outputs": []
    },
    {
      "cell_type": "markdown",
      "source": [
        "# Conclusion:"
      ],
      "metadata": {
        "id": "j_Kd7syyJObZ"
      }
    },
    {
      "cell_type": "markdown",
      "source": [
        "\n",
        "In conclusion, this comprehensive regex tutorial covered various topics from basics to advanced techniques. You learned how regex empowers you to tackle pattern matching and text manipulation tasks. With practical examples and exercises, you gained hands-on experience. Keep practicing and exploring the vast world of regex for endless possibilities in text-related problem-solving."
      ],
      "metadata": {
        "id": "zoyhbg_DIUQu"
      }
    },
    {
      "cell_type": "markdown",
      "source": [
        "## Join [Epythonlab](https://telegram.me/epythonlab/)"
      ],
      "metadata": {
        "id": "uIMGnhbwHUsO"
      }
    }
  ]
}