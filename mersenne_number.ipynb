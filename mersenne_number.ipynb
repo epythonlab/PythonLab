{
 "cells": [
  {
   "cell_type": "markdown",
   "metadata": {},
   "source": [
    "## DATA STRUCTURE AND ALGORITHM PROBLEMS\n",
    "## Find the mersenne numbers\n",
    "\n",
    "In mathematics, a **Mersenne prime** is a prime number that is one less than a power of two."
   ]
  },
  {
   "cell_type": "markdown",
   "metadata": {},
   "source": [
    "A Mersenne number is any number that can be written as `2^p - 1` for some `p`, Where `p` is a prime exponent.\n",
    "\n"
   ]
  },
  {
   "cell_type": "markdown",
   "metadata": {},
   "source": [
    "Equation: $$m(n) = 2^n-1$$\n",
    "\n",
    "For example, 3 is a Mersenne number\n",
    "$$2^2 - 1 = 4-1 = 3$$\n",
    "$$2^3 -1 = 8-1 = 7   $$\n",
    "\n",
    "$$2^4 -1 = 16-1 = 15?$$ \n",
    "\n",
    "$$2^5 - 1 = 32-1 = 31$$\n",
    "\n",
    "\n",
    "`15` is not a mersenne number because the exponent `4`  is  not a prime."
   ]
  },
  {
   "cell_type": "markdown",
   "metadata": {},
   "source": [
    "**Q**: What is prime number?"
   ]
  },
  {
   "cell_type": "markdown",
   "metadata": {},
   "source": [
    "**A prime number** is a natural number greater than `1` that is not a product of two smaller natural numbers. A natural number greater than `1` that is not prime is called a **composite number**. \n",
    "\n",
    "For example, `5` is prime because the only ways of writing it as a product, `1 × 5 or 5 × 1`, involve 5 itself."
   ]
  },
  {
   "cell_type": "markdown",
   "metadata": {},
   "source": [
    "**Prime numbers** are numbers that have only `2` factors: `1` and themselves.\n",
    "\n",
    "For example, the first `5` prime numbers are `2`, `3`, `5`, `7`, and `11`.\n",
    "\n",
    "By contrast, numbers with more than `2` factors are called `composite numbers`."
   ]
  },
  {
   "cell_type": "markdown",
   "metadata": {},
   "source": [
    "**Coding Problem:** Write a function that accepts an exponent `p` and returns the corresponding Mersenne number.\n",
    "\n",
    "\n",
    "Make a list of the Mersenne numbers for all primes `p` between `3 and 65` (there should be 17 of them)."
   ]
  },
  {
   "cell_type": "markdown",
   "metadata": {},
   "source": [
    "**Hint**: It may be useful to define the `is_prime` and `get_primes` functions  for use in this problem."
   ]
  },
  {
   "cell_type": "code",
   "execution_count": 24,
   "metadata": {},
   "outputs": [],
   "source": [
    "# Define is_prime(number) function to check the number is prime or note\n",
    "# Which accept a parameter number \n",
    "def is_prime(number):\n",
    "    if number < 2:\n",
    "        return False\n",
    "    for i in range(2, number):\n",
    "        if number % i == 0:\n",
    "            return False\n",
    "    return True\n",
    "# Define get_primes(n_start, n_end) function which accepts two parameters\n",
    "# and prints the list of prime numbers\n",
    "def get_primes(n_start, n_end):\n",
    "    return [i for i in range(n_start, n_end) if is_prime(i)]"
   ]
  },
  {
   "cell_type": "code",
   "execution_count": 25,
   "metadata": {},
   "outputs": [
    {
     "data": {
      "text/plain": [
       "[2, 3, 5, 7]"
      ]
     },
     "execution_count": 25,
     "metadata": {},
     "output_type": "execute_result"
    }
   ],
   "source": [
    "# 2, 10 => 2, 3, 5, 7\n",
    "get_primes(2, 10)"
   ]
  },
  {
   "cell_type": "code",
   "execution_count": 28,
   "metadata": {},
   "outputs": [],
   "source": [
    "# Define mersenne_number(p) function which accept an exponent p \n",
    "# as a parameter and returns the list of corresponding mersenne numbers\n",
    "def mersenne_number(p):\n",
    "    return [(2**i -1) for i in p]"
   ]
  },
  {
   "cell_type": "code",
   "execution_count": 29,
   "metadata": {},
   "outputs": [
    {
     "data": {
      "text/plain": [
       "[3, 7, 31, 127]"
      ]
     },
     "execution_count": 29,
     "metadata": {},
     "output_type": "execute_result"
    }
   ],
   "source": [
    "mersenne_number(get_primes(2, 10))"
   ]
  },
  {
   "cell_type": "code",
   "execution_count": 30,
   "metadata": {},
   "outputs": [
    {
     "data": {
      "text/plain": [
       "[3, 5, 7, 11, 13, 17, 19, 23, 29, 31, 37, 41, 43, 47, 53, 59, 61]"
      ]
     },
     "execution_count": 30,
     "metadata": {},
     "output_type": "execute_result"
    }
   ],
   "source": [
    "get_primes(3, 65)"
   ]
  },
  {
   "cell_type": "code",
   "execution_count": 31,
   "metadata": {},
   "outputs": [
    {
     "data": {
      "text/plain": [
       "[7,\n",
       " 31,\n",
       " 127,\n",
       " 2047,\n",
       " 8191,\n",
       " 131071,\n",
       " 524287,\n",
       " 8388607,\n",
       " 536870911,\n",
       " 2147483647,\n",
       " 137438953471,\n",
       " 2199023255551,\n",
       " 8796093022207,\n",
       " 140737488355327,\n",
       " 9007199254740991,\n",
       " 576460752303423487,\n",
       " 2305843009213693951]"
      ]
     },
     "execution_count": 31,
     "metadata": {},
     "output_type": "execute_result"
    }
   ],
   "source": [
    "mersenne_number(get_primes(3, 65))"
   ]
  }
 ],
 "metadata": {
  "kernelspec": {
   "display_name": "Python 3",
   "language": "python",
   "name": "python3"
  },
  "language_info": {
   "codemirror_mode": {
    "name": "ipython",
    "version": 3
   },
   "file_extension": ".py",
   "mimetype": "text/x-python",
   "name": "python",
   "nbconvert_exporter": "python",
   "pygments_lexer": "ipython3",
   "version": "3.8.3"
  }
 },
 "nbformat": 4,
 "nbformat_minor": 4
}
