{
  "nbformat": 4,
  "nbformat_minor": 0,
  "metadata": {
    "colab": {
      "provenance": [],
      "authorship_tag": "ABX9TyMFDoj+A/qNPn14bxM7IIXI",
      "include_colab_link": true
    },
    "kernelspec": {
      "name": "python3",
      "display_name": "Python 3"
    },
    "language_info": {
      "name": "python"
    }
  },
  "cells": [
    {
      "cell_type": "markdown",
      "metadata": {
        "id": "view-in-github",
        "colab_type": "text"
      },
      "source": [
        "<a href=\"https://colab.research.google.com/github/epythonlab/PythonLab/blob/master/10_Essential_Python_Built_in_Modules_for_Beginners.ipynb\" target=\"_parent\"><img src=\"https://colab.research.google.com/assets/colab-badge.svg\" alt=\"Open In Colab\"/></a>"
      ]
    },
    {
      "cell_type": "markdown",
      "source": [
        "  # 10 - Essential Python Built-in Modules for Beginners"
      ],
      "metadata": {
        "id": "NJMFXhlOMTvu"
      }
    },
    {
      "cell_type": "markdown",
      "source": [
        "## Introduction"
      ],
      "metadata": {
        "id": "9t7bSdgoM0Km"
      }
    },
    {
      "cell_type": "markdown",
      "source": [
        "Embark on your Python programming journey with this comprehensive guide to essential built-in modules. Discover how to utilize these powerful tools to solve a wide range of programming problems, from mathematical calculations to data manipulation and web scraping. This guide is tailored for beginners, providing clear explanations and practical examples to help you master these essential modules and unlock the full potential of Python."
      ],
      "metadata": {
        "id": "3DJN7YDjMfDH"
      }
    },
    {
      "cell_type": "markdown",
      "source": [
        "## math:\n",
        "- This module provides mathematical functions such as `sin`, `cos`, `tan`, `log`, and `sqrt`."
      ],
      "metadata": {
        "id": "LrP3OrJwM3ZJ"
      }
    },
    {
      "cell_type": "markdown",
      "source": [
        "- Use the `math` module to calculate the area of a circle:"
      ],
      "metadata": {
        "id": "6w-0UUV2N2t_"
      }
    },
    {
      "cell_type": "code",
      "execution_count": 2,
      "metadata": {
        "colab": {
          "base_uri": "https://localhost:8080/"
        },
        "id": "ae7cbOj1MMKs",
        "outputId": "79b91fd4-1d4b-442e-e8bd-2e0e57348af1"
      },
      "outputs": [
        {
          "output_type": "stream",
          "name": "stdout",
          "text": [
            "Area of circle: 78.53981633974483\n"
          ]
        }
      ],
      "source": [
        "import math\n",
        "\n",
        "radius = 5\n",
        "area = math.pi * radius * radius\n",
        "print(\"Area of circle:\", area)"
      ]
    },
    {
      "cell_type": "code",
      "source": [
        "# square root of the number n\n",
        "sqrt = math.sqrt(4)\n",
        "sqrt"
      ],
      "metadata": {
        "colab": {
          "base_uri": "https://localhost:8080/"
        },
        "id": "tjw8qj1JNi85",
        "outputId": "0197aecf-ecb6-4296-f5eb-4ad093ce6dcd"
      },
      "execution_count": 3,
      "outputs": [
        {
          "output_type": "execute_result",
          "data": {
            "text/plain": [
              "2.0"
            ]
          },
          "metadata": {},
          "execution_count": 3
        }
      ]
    },
    {
      "cell_type": "markdown",
      "source": [
        "## random: -\n",
        "- This module provides functions for generating random numbers and selecting random items from a sequence."
      ],
      "metadata": {
        "id": "HAbJBLWGNDNL"
      }
    },
    {
      "cell_type": "markdown",
      "source": [
        "- Use the `random` module to generate a random number between `1` and `10`"
      ],
      "metadata": {
        "id": "XarjEPSRN7hf"
      }
    },
    {
      "cell_type": "code",
      "source": [
        "import random\n",
        "\n",
        "random_number = random.randint(1, 10)\n",
        "print(\"Random number:\", random_number)"
      ],
      "metadata": {
        "id": "JOvBw3a0Na00"
      },
      "execution_count": null,
      "outputs": []
    },
    {
      "cell_type": "markdown",
      "source": [
        "## datetime:\n",
        "- This module provides functions for working with dates and times, including creating, formatting, and parsing date and time objects.\n",
        "\n"
      ],
      "metadata": {
        "id": "8sYMHR9kNbLl"
      }
    },
    {
      "cell_type": "markdown",
      "source": [
        "- Use the `datetime` module to get the current date and time:"
      ],
      "metadata": {
        "id": "4-n3RrIOOC6L"
      }
    },
    {
      "cell_type": "code",
      "source": [
        "import datetime\n",
        "\n",
        "current_date_time = datetime.datetime.now()\n",
        "print(\"Current date and time:\", current_date_time)"
      ],
      "metadata": {
        "id": "c7qpcBS9OGL3"
      },
      "execution_count": null,
      "outputs": []
    },
    {
      "cell_type": "markdown",
      "source": [
        "There are also other built-in modules such as\n",
        "\n",
        "- **os**: This module provides functions for interacting with the operating system, such as opening and closing files, reading and writing to files, and executing external programs.\n",
        "\n",
        "- **sys**: This module provides information about the Python system, such as the current version of Python and the command-line arguments.\n",
        "\n",
        "- **string**: This module provides functions for working with strings, such as finding substrings, replacing characters, and converting between uppercase and lowercase.\n",
        "\n",
        "- **re**: This module provides functions for regular expression matching and manipulation.\n",
        "\n",
        "- **collections**: This module provides a variety of collection data structures, such as lists, dictionaries, sets, and queues.\n",
        "\n",
        "- **json**: This module provides functions for parsing and generating JSON data.\n",
        "\n",
        "- **urllib**.request: This module provides functions for making HTTP requests, which are used to fetch data from websites.\n",
        "\n"
      ],
      "metadata": {
        "id": "qbHX1QFNOOAF"
      }
    },
    {
      "cell_type": "markdown",
      "source": [
        "## Conclusion\n",
        "\n",
        "These built-in modules provide a wide range of functionality that can be used to solve a variety of programming problems. As you learn more Python, you will find that these modules are essential for writing effective and efficient code."
      ],
      "metadata": {
        "id": "4lAqPWtcOhxQ"
      }
    }
  ]
}