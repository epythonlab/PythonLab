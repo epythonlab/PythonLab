{
 "cells": [
  {
   "cell_type": "markdown",
   "id": "caa1681d-822a-494c-8a5d-1d007f302884",
   "metadata": {},
   "source": [
    "# Create list of lists"
   ]
  },
  {
   "cell_type": "markdown",
   "id": "8bc9c5c3-77ca-4fe1-8d39-45b7347e72c7",
   "metadata": {},
   "source": [
    "## Zip\n",
    "\n",
    ">If you wanted to create a list of lists that paired each other, we could use the command **zip**. **zip** takes two (or more) lists as inputs and returns an object that contains a list of pairs. \n",
    "\n",
    "Each pair contains one element from each of the inputs. You won’t be able to see much about this object from just printing it:"
   ]
  },
  {
   "cell_type": "markdown",
   "id": "062a9377-d4b5-46f0-b518-43226bed862e",
   "metadata": {},
   "source": [
    "**Syntax**: `output_object = zip(list1, list2)`"
   ]
  },
  {
   "cell_type": "markdown",
   "id": "82b3fd56-5331-4d18-80af-6e88fcd70138",
   "metadata": {},
   "source": [
    "When you print, it will return the location of this object in memory. Output would look something like this:\n",
    "`<zip object at 0x7f1631e86b48>`\n"
   ]
  },
  {
   "cell_type": "markdown",
   "id": "27d4bc04-4c38-4133-a367-0ea31522bf60",
   "metadata": {},
   "source": [
    "To see the nested lists, you can convert the zip object to a list first:"
   ]
  },
  {
   "cell_type": "markdown",
   "id": "44ffbf9f-bd75-4629-baf5-0a95cc47b5b7",
   "metadata": {},
   "source": [
    "### Example:"
   ]
  },
  {
   "cell_type": "markdown",
   "id": "8d369709-960f-4f54-b38a-cd257aabc987",
   "metadata": {},
   "source": [
    "You are a student and you are trying to organize your subjects and grades using Python.\n",
    "\n",
    " 1.Create a list called `subjects` and fill it with the classes you are taking:\n",
    " \n",
    "    • \"Linear Algebra\" \n",
    "    • \"Calculus\" \n",
    "    • \"Statistics and Probability\" \n",
    "    • \"Machine Learning\" "
   ]
  },
  {
   "cell_type": "code",
   "execution_count": 1,
   "id": "002e3a38-20cc-4125-bf58-8f7af96f2816",
   "metadata": {},
   "outputs": [],
   "source": [
    "# write your code here\n",
    "subjects = ['Linear Algebra', 'Calculus', \n",
    "            'Statistics and Probability', \n",
    "            'Machine Learning']"
   ]
  },
  {
   "cell_type": "markdown",
   "id": "4a3454a9-4bf6-4131-81f2-36bd3e3e2e4b",
   "metadata": {},
   "source": [
    "2.Create a list called `grades` and fill it with your scores:\n",
    "\n",
    "    • 98 \n",
    "    • 97 \n",
    "    • 85 \n",
    "    • 88 "
   ]
  },
  {
   "cell_type": "code",
   "execution_count": 2,
   "id": "7666bd4b-6df8-458b-87b5-880ede26f038",
   "metadata": {},
   "outputs": [],
   "source": [
    "# write your code here\n",
    "grades = [98, 97, 85, 88]"
   ]
  },
  {
   "cell_type": "markdown",
   "id": "01cd62cd-6e29-4627-83c3-ec72fe059386",
   "metadata": {},
   "source": [
    "3. Use the `zip()` function to combine subjects and grades. \n",
    "\n",
    "Save this zip object as a list into a variable called `gradebook`. \n"
   ]
  },
  {
   "cell_type": "code",
   "execution_count": 3,
   "id": "b8a80e15-6cc3-4df9-867c-9665eac8fe0c",
   "metadata": {},
   "outputs": [],
   "source": [
    "# write your code here\n",
    "gradebooks = zip(subjects, grades)"
   ]
  },
  {
   "cell_type": "markdown",
   "id": "ac74e238-68b7-4e3f-9428-bff1ef2f5ada",
   "metadata": {},
   "source": [
    "4. Print gradebook. "
   ]
  },
  {
   "cell_type": "code",
   "execution_count": 4,
   "id": "0e7f8769-9c86-4174-a7bd-f48a56c4b888",
   "metadata": {},
   "outputs": [
    {
     "name": "stdout",
     "output_type": "stream",
     "text": [
      "<zip object at 0x7f3aa8508d80>\n"
     ]
    }
   ],
   "source": [
    "# youre code here\n",
    "print(gradebooks)"
   ]
  },
  {
   "cell_type": "markdown",
   "id": "0db451b3-08e9-4b04-9916-602f87080958",
   "metadata": {},
   "source": [
    "5. Convert the zip object to list\n"
   ]
  },
  {
   "cell_type": "code",
   "execution_count": 5,
   "id": "3cd066d8-781f-4c54-8ef6-c4d7d7453a9a",
   "metadata": {},
   "outputs": [],
   "source": [
    "# your code here\n",
    "list_pairs = list(gradebooks)"
   ]
  },
  {
   "cell_type": "code",
   "execution_count": 6,
   "id": "e77738a1-22a4-4875-b364-2da9fcfc366a",
   "metadata": {},
   "outputs": [
    {
     "name": "stdout",
     "output_type": "stream",
     "text": [
      "[('Linear Aljebra', 98), ('Calculus', 97), ('Statistics and Probability', 85), ('Machine Learning', 88)]\n"
     ]
    }
   ],
   "source": [
    "print(list_pairs)"
   ]
  },
  {
   "cell_type": "code",
   "execution_count": null,
   "id": "9ad89782-f8f0-4112-b69f-9ea3f8b350e0",
   "metadata": {},
   "outputs": [],
   "source": []
  }
 ],
 "metadata": {
  "kernelspec": {
   "display_name": "Python 3",
   "language": "python",
   "name": "python3"
  },
  "language_info": {
   "codemirror_mode": {
    "name": "ipython",
    "version": 3
   },
   "file_extension": ".py",
   "mimetype": "text/x-python",
   "name": "python",
   "nbconvert_exporter": "python",
   "pygments_lexer": "ipython3",
   "version": "3.9.10"
  },
  "widgets": {
   "application/vnd.jupyter.widget-state+json": {
    "state": {},
    "version_major": 2,
    "version_minor": 0
   }
  }
 },
 "nbformat": 4,
 "nbformat_minor": 5
}
