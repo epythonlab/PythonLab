{
 "cells": [
  {
   "cell_type": "markdown",
   "metadata": {
    "init_cell": true
   },
   "source": [
    "<center>\n",
    "    <img src=\"images/logo.jpg\" width=\"150\" alt=\"EPYTHON LAB logo\"  />\n",
    "</center>\n",
    "<hr>\n",
    "\n",
    "<h2 id='string' align='center'>Functions </h2>"
   ]
  },
  {
   "cell_type": "markdown",
   "metadata": {},
   "source": [
    "## Objectives\n",
    "\n",
    "After completing this topic you will be able to:\n",
    "\n",
    "-   Work with functions    \n",
    "-   Work with different built-in functions\n",
    "-  Define the difference between user-defined function and built-in functions\n"
   ]
  },
  {
   "cell_type": "markdown",
   "metadata": {},
   "source": [
    "## Functions\n",
    "\n",
    "Many programs react to user input. Functions allow us to define a task we would like the computer to carry out based on input. A simple function in Python might look like this:"
   ]
  },
  {
   "cell_type": "markdown",
   "metadata": {},
   "source": [
    "$$ f(x) = 3x + 2 $$\n",
    "$$ f(6) = 20 $$\n",
    "$$ y = 2 $$\n",
    "$$ f(y) = 8 $$\n"
   ]
  },
  {
   "cell_type": "markdown",
   "metadata": {},
   "source": [
    "## What is Function?\n",
    "<p>A function is a block of code which only runs when it is called. You can pass data, known as <strong>parameters</strong>, into a function. A function can return data as a result.</p>\n",
    "\n",
    "<p> A function is a block of organized, reusable code that is used to perform a single, related action. As you already know, Python gives you many built-in functions like <code>print()</code>, etc. but you can also create your own functions.</p>"
   ]
  },
  {
   "cell_type": "markdown",
   "metadata": {},
   "source": [
    "There are two types of functions:-\n",
    "- user-defined function\n",
    "- built-in function\n"
   ]
  },
  {
   "cell_type": "markdown",
   "metadata": {},
   "source": [
    "<code>general syntax </code>\n",
    "\n",
    "<code>def function_name(parameters): </code>\n",
    "\n",
    " ......<code>block of statements </code>"
   ]
  },
  {
   "cell_type": "markdown",
   "metadata": {},
   "source": [
    "Let's define the function for this mathematical function $$f(x)=x^2$$"
   ]
  },
  {
   "cell_type": "code",
   "execution_count": 15,
   "metadata": {},
   "outputs": [
    {
     "name": "stdout",
     "output_type": "stream",
     "text": [
      "4\n"
     ]
    }
   ],
   "source": [
    "def sq(x):\n",
    "    return x**2\n",
    "\n",
    "\n",
    "square = sq(2)\n",
    "print(square)\n",
    "    \n"
   ]
  },
  {
   "cell_type": "markdown",
   "metadata": {},
   "source": [
    "<p>We define functions using the <code>def</code> keyword. Next comes the name of the function, which in this case is <code>square</code>. We then enclose the function's input in parentheses, in this case <code>x</code>. We use </code>:</code> to tell Python we're ready to write the body of the function.</p>\n",
    "\n",
    "<p>In this case the body of the function is very simple; we return the square of <code>x</code> (we use <code>**</code> for exponents in Python). The keyword <code>return</code> signals that the function will generate some output. Not every function will have a <code>return</code> statement, but many will. A <code>return</code> statement ends a function.</p>\n",
    "\n",
    "Let's see our function in action:"
   ]
  },
  {
   "cell_type": "markdown",
   "metadata": {},
   "source": [
    "<hr/>\n",
    "<div class=\"alert alert-success alertsuccess\" style=\"margin-top: 30px\">\n",
    "[Tip]: Indentation refers to the spaces at the beginning of a code line. Where in other programming languages the indentation in code is for readability only, the indentation in Python is very important. Python uses indentation to indicate a block of code..\n",
    "</div>\n",
    "<hr/>"
   ]
  },
  {
   "cell_type": "markdown",
   "metadata": {},
   "source": [
    "### Function call"
   ]
  },
  {
   "cell_type": "code",
   "execution_count": 9,
   "metadata": {},
   "outputs": [
    {
     "name": "stdout",
     "output_type": "stream",
     "text": [
      "30.25\n",
      "36\n"
     ]
    }
   ],
   "source": [
    "# we can store function output in variables\n",
    "squared = square(5.5)\n",
    "\n",
    "print(squared)\n",
    "\n",
    "my_number = 6\n",
    "# we can also use variables as function input\n",
    "print(square(my_number))"
   ]
  },
  {
   "cell_type": "markdown",
   "metadata": {},
   "source": [
    "We can pass different input to the `square` function, including variables. When we passed a float to `square`, it returned a float. When we passed an integer, `square` returned an integer. In both cases the input was interpreted by the function as the argument `x`.\n",
    "\n",
    "Not all possible inputs are valid."
   ]
  },
  {
   "cell_type": "code",
   "execution_count": 9,
   "metadata": {},
   "outputs": [
    {
     "name": "stderr",
     "output_type": "stream",
     "text": [
      "UsageError: Cell magic `%%expect_exception` not found.\n"
     ]
    }
   ],
   "source": [
    "%%expect_exception TypeError\n",
    "\n",
    "print(square('banana'))"
   ]
  },
  {
   "cell_type": "markdown",
   "metadata": {},
   "source": [
    "We ran into an error because `'banana'` is a string, not a number. We should be careful to make sure that the input for a function makes sense for that function's purpose. We'll talk more about errors like this one later on.\n",
    "\n",
    "### Exercises\n",
    "\n",
    "1. Write a function to cube a number. $$f(x) = x^3$$\n",
    "2. Write a function, `say_hello` which takes in a name variable and print out \"Hello you name\".  `say_hello(\"Asibeh\")` should print `\"Hello Asibeh\"`.\n"
   ]
  },
  {
   "cell_type": "markdown",
   "metadata": {},
   "source": [
    "### Solution"
   ]
  },
  {
   "cell_type": "code",
   "execution_count": 17,
   "metadata": {},
   "outputs": [],
   "source": [
    "def cube(x):\n",
    "    return x**3"
   ]
  },
  {
   "cell_type": "code",
   "execution_count": 18,
   "metadata": {},
   "outputs": [
    {
     "data": {
      "text/plain": [
       "27"
      ]
     },
     "execution_count": 18,
     "metadata": {},
     "output_type": "execute_result"
    }
   ],
   "source": [
    "cube(3)"
   ]
  },
  {
   "cell_type": "code",
   "execution_count": 19,
   "metadata": {},
   "outputs": [
    {
     "data": {
      "text/plain": [
       "64"
      ]
     },
     "execution_count": 19,
     "metadata": {},
     "output_type": "execute_result"
    }
   ],
   "source": [
    "cube(4)"
   ]
  },
  {
   "cell_type": "code",
   "execution_count": 22,
   "metadata": {},
   "outputs": [],
   "source": [
    "assert cube(4) == 64"
   ]
  },
  {
   "cell_type": "code",
   "execution_count": 23,
   "metadata": {},
   "outputs": [],
   "source": [
    "def say_hello(first_name, last_name):\n",
    "    print(\"Hello {} {}\".format(first_name, last_name))\n"
   ]
  },
  {
   "cell_type": "code",
   "execution_count": 26,
   "metadata": {},
   "outputs": [
    {
     "name": "stdout",
     "output_type": "stream",
     "text": [
      "Hello Asibeh Tenager\n"
     ]
    }
   ],
   "source": [
    "say_hello(\"Asibeh\", 'Tenager')"
   ]
  },
  {
   "cell_type": "markdown",
   "metadata": {},
   "source": [
    "### Why Functions?\n",
    "We can see that functions are useful for handling user input, but they also come in handy in numerous other cases.  One example is when we want to perform an action multiple times on different input.  If I want to square a bunch of numbers, in particular the numbers between 1 and 10, I can do this pretty easily (later we will learn about iteration which will make this even easier!)"
   ]
  },
  {
   "cell_type": "code",
   "execution_count": 27,
   "metadata": {},
   "outputs": [
    {
     "data": {
      "text/plain": [
       "81"
      ]
     },
     "execution_count": 27,
     "metadata": {},
     "output_type": "execute_result"
    }
   ],
   "source": [
    "1**2\n",
    "2**2\n",
    "3**2\n",
    "4**2\n",
    "5**2\n",
    "6**2\n",
    "7**2\n",
    "8**2\n",
    "9**2"
   ]
  },
  {
   "cell_type": "markdown",
   "metadata": {},
   "source": [
    "It seems I forgot to save the answers or at least print them.  This is easy:"
   ]
  },
  {
   "cell_type": "code",
   "execution_count": 28,
   "metadata": {},
   "outputs": [
    {
     "name": "stdout",
     "output_type": "stream",
     "text": [
      "1\n",
      "4\n",
      "9\n",
      "16\n",
      "25\n",
      "36\n",
      "49\n",
      "64\n",
      "81\n"
     ]
    }
   ],
   "source": [
    "print(1**2)\n",
    "print(2**2)\n",
    "print(3**2)\n",
    "print(4**2)\n",
    "print(5**2)\n",
    "print(6**2)\n",
    "print(7**2)\n",
    "print(8**2)\n",
    "print(9**2)"
   ]
  },
  {
   "cell_type": "markdown",
   "metadata": {},
   "source": [
    "That worked!  However, what if I now want to go back and add two to all the answers?  Clearly changing each instance is not the right way to do it.  Lets instead define a function to do the work for us."
   ]
  },
  {
   "cell_type": "code",
   "execution_count": 31,
   "metadata": {},
   "outputs": [],
   "source": [
    "def do_it(x):\n",
    "    return (x**2 + 2)"
   ]
  },
  {
   "cell_type": "markdown",
   "metadata": {},
   "source": [
    "Now we can just call the function on every element.  If we want to change the output, we just need to change the function in one place, not in all places we want to use the function!"
   ]
  },
  {
   "cell_type": "code",
   "execution_count": 33,
   "metadata": {},
   "outputs": [
    {
     "name": "stdout",
     "output_type": "stream",
     "text": [
      "3\n",
      "6\n"
     ]
    },
    {
     "data": {
      "text/plain": [
       "83"
      ]
     },
     "execution_count": 33,
     "metadata": {},
     "output_type": "execute_result"
    }
   ],
   "source": [
    "print(do_it(1))\n",
    "print(do_it(2))\n",
    "do_it(3)\n",
    "do_it(4)\n",
    "do_it(5)\n",
    "do_it(6)\n",
    "do_it(7)\n",
    "do_it(8)\n",
    "do_it(9)"
   ]
  },
  {
   "cell_type": "markdown",
   "metadata": {},
   "source": [
    "Splitting out the work into functions is often a way to make code more modular and understandable.  It also helps ensure your code is correct.  If we write a function and test it to be correct, we know it will be correct every time we use it.  If we don't break out code into a function, it is very easy to make typos or other errors which will cause our programs to break.  \n",
    "\n",
    "### Exercises\n",
    "\n",
    "1. Modify the `do_it` function to print the square of the value it currently prints."
   ]
  },
  {
   "cell_type": "markdown",
   "metadata": {},
   "source": [
    "### Solution"
   ]
  },
  {
   "cell_type": "code",
   "execution_count": 34,
   "metadata": {},
   "outputs": [],
   "source": [
    "def do_it(x):\n",
    "    print((x**2 + 2)**2)"
   ]
  },
  {
   "cell_type": "code",
   "execution_count": 35,
   "metadata": {},
   "outputs": [
    {
     "name": "stdout",
     "output_type": "stream",
     "text": [
      "9\n"
     ]
    }
   ],
   "source": [
    "do_it(1)"
   ]
  },
  {
   "cell_type": "code",
   "execution_count": 36,
   "metadata": {},
   "outputs": [
    {
     "name": "stdout",
     "output_type": "stream",
     "text": [
      "6889\n"
     ]
    }
   ],
   "source": [
    "do_it(9)"
   ]
  },
  {
   "cell_type": "markdown",
   "metadata": {},
   "source": [
    "## Syntax\n",
    "\n",
    "As our instructions to the computer become more complicated, we will need to organize them in a way the computer understands. We've already seen an example of this with our `square` function. There was a specific order to the words and specific symbols we had to use to let Python know which part of the function was the definition and which part was the body, or which part was the name of the function and which part was the argument. We call the rules for organizing code the programming language's **syntax**.\n",
    "\n",
    "Python's syntax is very streamlined so that code is readable and intuitive. Python accomplishes this by using whitespace to organize code. Let's look at some examples."
   ]
  },
  {
   "cell_type": "code",
   "execution_count": 37,
   "metadata": {},
   "outputs": [
    {
     "name": "stdout",
     "output_type": "stream",
     "text": [
      "example_a is running\n",
      "returning value \"a\"\n"
     ]
    },
    {
     "data": {
      "text/plain": [
       "'a'"
      ]
     },
     "execution_count": 37,
     "metadata": {},
     "output_type": "execute_result"
    }
   ],
   "source": [
    "def example_a():\n",
    "    print('example_a is running')\n",
    "    print('returning value \"a\"')\n",
    "    return 'a'\n",
    "\n",
    "    \n",
    "\n",
    "example_a()"
   ]
  },
  {
   "cell_type": "code",
   "execution_count": 38,
   "metadata": {},
   "outputs": [
    {
     "name": "stdout",
     "output_type": "stream",
     "text": [
      "Not part of the function\n",
      "example_b is running\n",
      "exiting without returning a value\n"
     ]
    }
   ],
   "source": [
    "def example_b():\n",
    "    print('example_b is running')\n",
    "    print('exiting without returning a value')\n",
    "\n",
    "print(\"Not part of the function\")   \n",
    "example_b()"
   ]
  },
  {
   "cell_type": "markdown",
   "metadata": {},
   "source": [
    "<p>The function <code>example_a</code> ends with a return statement, but <code>example_b</code> has no return statement. How does Python know where <code>example_b</code> ends? We use indentation to indicate which lines are part of the function and which aren't. The indented lines are all grouped together under the function definition. We'll see this format again for controlling whether certain sections of code execute.</p>"
   ]
  },
  {
   "cell_type": "markdown",
   "metadata": {},
   "source": [
    "### More About Functions"
   ]
  },
  {
   "cell_type": "markdown",
   "metadata": {},
   "source": [
    "### 1. Function Scope"
   ]
  },
  {
   "cell_type": "markdown",
   "metadata": {},
   "source": [
    "<p><strong>Local (or function) scope</strong> is the code block or body of any Python function or <code>lambda expression</code>. This Python scope contains the names that you define inside the function. If the local scope is an inner or nested function, then the enclosing scope is the scope of the outer or enclosing function."
   ]
  },
  {
   "cell_type": "markdown",
   "metadata": {},
   "source": [
    "<p>Function provides a nested namespace(sometimes called a <strong>scope</strong>)</p>\n",
    "\n",
    "<p>A variable is only available from inside the region it is created. This is called <strong>scope</strong>."
   ]
  },
  {
   "cell_type": "markdown",
   "metadata": {},
   "source": [
    "#### A. Local Scope\n",
    "\n",
    "<p>A variable created inside a function belongs to the local scope of that function, and can only be used inside that function.</p>"
   ]
  },
  {
   "cell_type": "markdown",
   "metadata": {},
   "source": [
    "### Example:\n",
    "A variable created inside a function is only available inside that function."
   ]
  },
  {
   "cell_type": "code",
   "execution_count": 39,
   "metadata": {},
   "outputs": [
    {
     "data": {
      "text/plain": [
       "16"
      ]
     },
     "execution_count": 39,
     "metadata": {},
     "output_type": "execute_result"
    }
   ],
   "source": [
    "# An example to calculate the square of the x=4\n",
    "# Define the function square\n",
    "def square():\n",
    "    x = 4 # Creates a local variable\n",
    "    return x**2\n",
    "# call the function\n",
    "square()"
   ]
  },
  {
   "cell_type": "markdown",
   "metadata": {},
   "source": [
    "### B. Function inside function\n",
    "<p>As I explained in the example above, the variable <code>x</code> is not available outside the function, but it is available for any function inside the function:"
   ]
  },
  {
   "cell_type": "markdown",
   "metadata": {},
   "source": [
    "### Example:\n",
    "A variable can be accessed from a function inside a function:"
   ]
  },
  {
   "cell_type": "code",
   "execution_count": 40,
   "metadata": {},
   "outputs": [
    {
     "name": "stdout",
     "output_type": "stream",
     "text": [
      "The square of 4 is 16\n",
      "The cube of 4 is 64\n"
     ]
    }
   ],
   "source": [
    "# define the outer function\n",
    "def square():\n",
    "    x = 4 # creates a local variable\n",
    "    s = x**2\n",
    "    print(\"The square of {} is {}\".format(x, s))\n",
    "    \n",
    "    # define another function inside a function\n",
    "    def cube():\n",
    "        c = x**3 # access the local varibale inside the inner function\n",
    "        print(\"The cube of {} is {}\" .format(x, c))\n",
    "        \n",
    "        \n",
    "    # call the inner function\n",
    "    cube()\n",
    "\n",
    "# Call the outer function       \n",
    "square() "
   ]
  },
  {
   "cell_type": "markdown",
   "metadata": {},
   "source": [
    "### C. Global Scope\n",
    "\n",
    "<p>A variable created in the main body of the Python code is a global variable and belongs to the global scope. Global variables are available from within any scope, <strong>global and local</strong>.</p>\n"
   ]
  },
  {
   "cell_type": "markdown",
   "metadata": {},
   "source": [
    "### Example\n",
    "\n",
    "A variable created outside of a function is global and can be used by anyone:"
   ]
  },
  {
   "cell_type": "code",
   "execution_count": 13,
   "metadata": {},
   "outputs": [
    {
     "name": "stdout",
     "output_type": "stream",
     "text": [
      "x: 4\n",
      "18\n"
     ]
    }
   ],
   "source": [
    "# create a global variable\n",
    "x = 4\n",
    "def do_it():\n",
    "    # use the varibale and return the result\n",
    "    result = (x**2)+2\n",
    "    return result\n",
    "# call the function\n",
    "func = do_it()\n",
    "\n",
    "print(\"x:\", x)\n",
    "\n",
    "print(func)"
   ]
  },
  {
   "cell_type": "markdown",
   "metadata": {},
   "source": [
    "### Example\n",
    "\n",
    "The function will return the local <code>x</code>, and then the code will print the global <code>x</code>:"
   ]
  },
  {
   "cell_type": "code",
   "execution_count": 49,
   "metadata": {},
   "outputs": [
    {
     "name": "stdout",
     "output_type": "stream",
     "text": [
      "glocal scope: 10\n",
      "Local scope: 10\n"
     ]
    }
   ],
   "source": [
    "# global variable\n",
    "\n",
    "def scope():\n",
    "    y = 10 # local variable\n",
    "    return y\n",
    "print(\"glocal scope:\", y)\n",
    "print(\"Local scope:\", scope())"
   ]
  },
  {
   "cell_type": "markdown",
   "metadata": {},
   "source": [
    "### Global Keyword\n",
    "\n",
    "If you need to create a global variable, but are stuck in the local scope, you can use the <code>global</code> keyword.\n",
    "\n",
    "The global keyword makes the variable global."
   ]
  },
  {
   "cell_type": "markdown",
   "metadata": {},
   "source": [
    "### Example\n",
    "\n",
    "If you use the <code>global</code> keyword, the variable belongs to the global scope:"
   ]
  },
  {
   "cell_type": "code",
   "execution_count": 21,
   "metadata": {},
   "outputs": [
    {
     "name": "stdout",
     "output_type": "stream",
     "text": [
      "20\n",
      "20\n"
     ]
    }
   ],
   "source": [
    "def global_scope():\n",
    "    global x \n",
    "    x = 20 # create global variable using global keyword\n",
    "    return x\n",
    "print(global_scope())\n",
    "print(x)"
   ]
  },
  {
   "cell_type": "markdown",
   "metadata": {},
   "source": [
    "Also, use the <code>global</code> keyword if you want to make a change to a global variable inside a function."
   ]
  },
  {
   "cell_type": "code",
   "execution_count": 50,
   "metadata": {},
   "outputs": [
    {
     "name": "stdout",
     "output_type": "stream",
     "text": [
      "Global variable after change: 300\n"
     ]
    }
   ],
   "source": [
    "x = 200 # global varibale\n",
    "def change_scope():\n",
    "    global x # to change the value of the global variable inside the function\n",
    "    x = 300 \n",
    "    return x\n",
    "\n",
    "# call function\n",
    "g = change_scope()\n",
    "print(\"Global variable after change: {}\".format(g))"
   ]
  },
  {
   "cell_type": "markdown",
   "metadata": {},
   "source": [
    "\n",
    "\n",
    "## Return, Pass,Parameters Vs Arguments"
   ]
  },
  {
   "cell_type": "markdown",
   "metadata": {},
   "source": [
    "### Return Values\n",
    "\n",
    "To let a function return a value, use the `return` statement:"
   ]
  },
  {
   "cell_type": "markdown",
   "metadata": {},
   "source": [
    "### The `pass` Statement\n",
    "\n",
    "`function` definitions cannot be empty, but if you for some reason have a function definition with no content, put in the `pass` statement to avoid getting an error."
   ]
  },
  {
   "cell_type": "code",
   "execution_count": 52,
   "metadata": {},
   "outputs": [],
   "source": [
    "def my_func():\n",
    "    pass"
   ]
  },
  {
   "cell_type": "markdown",
   "metadata": {},
   "source": [
    "### 2. Function Parameters or Arguments?\n",
    "\n",
    "<p>The terms parameter and argument can be used for the same thing: information that are passed into a function.</p>\n",
    "\n",
    "### Parameters\n",
    "<p>A parameter is the variable listed inside the parentheses in the function definition.</p>\n"
   ]
  },
  {
   "cell_type": "code",
   "execution_count": 6,
   "metadata": {},
   "outputs": [
    {
     "data": {
      "text/plain": [
       "12"
      ]
     },
     "execution_count": 6,
     "metadata": {},
     "output_type": "execute_result"
    }
   ],
   "source": [
    "def x(a, b, c): # a b c are parameters\n",
    "    return a+b+c\n",
    "x(3, 4, 5) # 3, 4, 5 are arguments"
   ]
  },
  {
   "cell_type": "markdown",
   "metadata": {},
   "source": [
    "### Arguments"
   ]
  },
  {
   "cell_type": "markdown",
   "metadata": {},
   "source": [
    "<p>An argument is the value that is sent to the function when it is called.</p>"
   ]
  },
  {
   "cell_type": "markdown",
   "metadata": {},
   "source": [
    "Postional Arguments(Mandatory parameters)\n",
    "\n",
    "Example:"
   ]
  },
  {
   "cell_type": "code",
   "execution_count": 54,
   "metadata": {},
   "outputs": [
    {
     "name": "stdout",
     "output_type": "stream",
     "text": [
      "18\n"
     ]
    }
   ],
   "source": [
    "# Example: Mandatory parameters\n",
    "def triple_it(x, y):\n",
    "    return x*y\n",
    "\n",
    "# Call function\n",
    "tr = triple_it(3, 6)\n",
    "print(tr)"
   ]
  },
  {
   "cell_type": "code",
   "execution_count": 1,
   "metadata": {},
   "outputs": [],
   "source": [
    "# call the function without passing value\n",
    "#triple_it()"
   ]
  },
  {
   "cell_type": "markdown",
   "metadata": {},
   "source": [
    "### Number of Arguments\n",
    "\n",
    "<p>By default, a function must be called with the correct number of arguments. Meaning that if your function expects 2 arguments, you have to call the function with 2 arguments, not more, and not less.</p> \n",
    "\n",
    "Example:\n"
   ]
  },
  {
   "cell_type": "code",
   "execution_count": 15,
   "metadata": {},
   "outputs": [
    {
     "name": "stdout",
     "output_type": "stream",
     "text": [
      "3\n"
     ]
    }
   ],
   "source": [
    "def calc(x, y, z):\n",
    "    result = x +(y-z)**x\n",
    "    return result\n",
    "cal = calc(2, 3, 4)\n",
    "print(cal)"
   ]
  },
  {
   "cell_type": "markdown",
   "metadata": {},
   "source": [
    "### Defualt Arguments\n",
    "\n",
    "Default arguments allow you to specify default values.\n",
    "We can provide a default value to an argument by using the assignment operator (=).\n",
    "Example: "
   ]
  },
  {
   "cell_type": "code",
   "execution_count": 56,
   "metadata": {},
   "outputs": [
    {
     "name": "stdout",
     "output_type": "stream",
     "text": [
      "8\n"
     ]
    }
   ],
   "source": [
    "# Example: Optional parameters\n",
    "def double_it(x=4):\n",
    "    #x = 6\n",
    "    return x*2\n",
    "# Call function\n",
    "db1 = double_it()\n",
    "print(db1)"
   ]
  },
  {
   "cell_type": "markdown",
   "metadata": {},
   "source": [
    "<p background=\"red\">Default values are evaluated when the function is defined, not when it is called. This can be problematic when using mutable types (e.g. dictionary or list) and modifying them in the function body, since the modifications will be persistent across invocations of the function.\n",
    "</p>"
   ]
  },
  {
   "cell_type": "code",
   "execution_count": 57,
   "metadata": {},
   "outputs": [
    {
     "name": "stdout",
     "output_type": "stream",
     "text": [
      "10\n"
     ]
    }
   ],
   "source": [
    "# Modify the default value\n",
    "db2 = double_it(5)\n",
    "print(db2)"
   ]
  },
  {
   "cell_type": "markdown",
   "metadata": {},
   "source": [
    "### Arbitrary Arguments, *args\n",
    "\n",
    "<p>If you do not know how many arguments that will be passed into your function, add a <code>*</code> before the parameter name in the function definition.</p>\n",
    "\n",
    "<p>This way the function will receive a tuple of arguments, and can access the items accordingly:</p>\n",
    "\n",
    "Example:\n",
    "If the number of arguments is unknown, add a <code>*</code> before the parameter name:"
   ]
  },
  {
   "cell_type": "code",
   "execution_count": 59,
   "metadata": {},
   "outputs": [
    {
     "name": "stdout",
     "output_type": "stream",
     "text": [
      "2 4 Asibeh\n"
     ]
    }
   ],
   "source": [
    "# Example: with *args\n",
    "def unkown_param(*p):\n",
    "    print(*p)\n",
    "unkown_param(2, 4, \"Asibeh\")"
   ]
  },
  {
   "cell_type": "markdown",
   "metadata": {},
   "source": [
    "Arbitrary Arguments are often shortened to <code>*args</code> in Python documentations."
   ]
  },
  {
   "cell_type": "markdown",
   "metadata": {},
   "source": [
    "### Keyword Arguments\n",
    "\n",
    "You can also send arguments with the <code>key = value</code> syntax.\n",
    "\n",
    "This way the order of the arguments does not matter.\n",
    "\n",
    "\n",
    "Example:"
   ]
  },
  {
   "cell_type": "code",
   "execution_count": 64,
   "metadata": {},
   "outputs": [
    {
     "name": "stdout",
     "output_type": "stream",
     "text": [
      "Hello! Welcome Asibeh 20.\n"
     ]
    }
   ],
   "source": [
    "# Example: Keyword arguments\n",
    "def keyword_args(age, f_name):\n",
    "    print(\"Hello! Welcome {} {}.\".format(f_name, age))\n",
    "\n",
    "# call function\n",
    "keyword_args(f_name=\"Asibeh\", age=20)"
   ]
  },
  {
   "cell_type": "markdown",
   "metadata": {},
   "source": [
    "When we call a function with some values, these values get assigned to the arguments according to their position."
   ]
  },
  {
   "cell_type": "markdown",
   "metadata": {},
   "source": [
    "## Summary:\n",
    "- We learned about functions and function definition\n",
    "- Function Scope:-local and global variables\n",
    "- Return statement\n",
    "- Pass statement\n",
    "- Parameters and arguments\n"
   ]
  },
  {
   "cell_type": "markdown",
   "metadata": {},
   "source": [
    "## Exercise: Fibonacci sequence\n",
    "\n",
    "Write a function that displays the `n` first terms of the `Fibonacci sequence`, defined by:\n",
    "\n",
    "$$\\left\\{ \\begin{array}{ll} U_{0} = 0 \\\\ U_{1} = 1 \\\\ U_{n+2} = U_{n+1} + U_{n} \\end{array} \\right.$$\n"
   ]
  },
  {
   "cell_type": "markdown",
   "metadata": {},
   "source": [
    "<hr>\n",
    "\n",
    "*Copyright &copy; 2021 EPYTHON LAB.  All rights reserved.*"
   ]
  }
 ],
 "metadata": {
  "kernelspec": {
   "display_name": "Python 3",
   "language": "python",
   "name": "python3"
  },
  "language_info": {
   "codemirror_mode": {
    "name": "ipython",
    "version": 3
   },
   "file_extension": ".py",
   "mimetype": "text/x-python",
   "name": "python",
   "nbconvert_exporter": "python",
   "pygments_lexer": "ipython3",
   "version": "3.9.10"
  },
  "nbclean": true,
  "widgets": {
   "application/vnd.jupyter.widget-state+json": {
    "state": {},
    "version_major": 2,
    "version_minor": 0
   }
  }
 },
 "nbformat": 4,
 "nbformat_minor": 4
}
