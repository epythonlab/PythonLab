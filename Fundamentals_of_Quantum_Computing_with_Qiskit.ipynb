{
  "nbformat": 4,
  "nbformat_minor": 0,
  "metadata": {
    "colab": {
      "provenance": [],
      "authorship_tag": "ABX9TyOODE1Sy4I1kY/x+DXshdU6",
      "include_colab_link": true
    },
    "kernelspec": {
      "name": "python3",
      "display_name": "Python 3"
    },
    "language_info": {
      "name": "python"
    }
  },
  "cells": [
    {
      "cell_type": "markdown",
      "metadata": {
        "id": "view-in-github",
        "colab_type": "text"
      },
      "source": [
        "<a href=\"https://colab.research.google.com/github/epythonlab/PythonLab/blob/master/Fundamentals_of_Quantum_Computing_with_Qiskit.ipynb\" target=\"_parent\"><img src=\"https://colab.research.google.com/assets/colab-badge.svg\" alt=\"Open In Colab\"/></a>"
      ]
    },
    {
      "cell_type": "markdown",
      "source": [
        "# Fundamentals Quantum Computation using Qiskit"
      ],
      "metadata": {
        "id": "k_u9cfWBGWQq"
      }
    },
    {
      "cell_type": "markdown",
      "source": [
        "# Day 1: Introduction to Quantum Circuits with Qiskit"
      ],
      "metadata": {
        "id": "cDFLjU0yGgmb"
      }
    },
    {
      "cell_type": "markdown",
      "source": [
        "## Introduction"
      ],
      "metadata": {
        "id": "TqBhUKgrGrIC"
      }
    },
    {
      "cell_type": "markdown",
      "source": [
        "Hey everyone, and welcome to this tutorial on quantum circuits with Qiskit! In this tutorial, you will learn how to construct multi-qubit quantum registers, measure quantum circuits in classical registers, use single-qubit and multi-qubit gates, use barrier operations, return the circuit depth, extend quantum circuits, and return the OpenQASM string for a circuit.\n",
        "\n",
        "Qiskit is an open-source software development kit for quantum computing. It provides a high-level Python interface for constructing and running quantum circuits on a variety of backends, including real quantum devices.\n",
        "\n",
        "Quantum circuits are a way of representing quantum programs. They are made up of a series of gates that operate on quantum registers. Quantum registers are collections of qubits, which are the basic units of information in quantum computing.\n",
        "\n",
        "In this tutorial, you will learn how to use Qiskit to construct and run simple quantum circuits. You will also learn about some of the key concepts in quantum computing, such as superposition, entanglement, and measurement.\n",
        "\n",
        "If you are interested in learning more about quantum computing, I encourage you to watch this tutorial!"
      ],
      "metadata": {
        "id": "IlHJ3Dh4G0xK"
      }
    },
    {
      "cell_type": "markdown",
      "source": [
        "Keywords:\n",
        "\n",
        "quantum computing,\n",
        "Qiskit,\n",
        "quantum circuits,\n",
        "multi-qubit registers,\n",
        "classical registers,\n",
        "single-qubit gates,\n",
        "multi-qubit gates,\n",
        "barrier operations,\n",
        "circuit depth,\n",
        "OpenQASM,"
      ],
      "metadata": {
        "id": "q37lco0FIBoX"
      }
    },
    {
      "cell_type": "markdown",
      "source": [
        "---"
      ],
      "metadata": {
        "id": "rqhoBcJoGXmx"
      }
    },
    {
      "cell_type": "markdown",
      "source": [
        "## Topics to be covered:\n"
      ],
      "metadata": {
        "id": "OEETDHuHHRnp"
      }
    },
    {
      "cell_type": "markdown",
      "source": [
        "- Construct multi-qubit quantum registers\n",
        "- Measure quantum circuits in classical registers\n",
        "- Use single-qubit gates\n",
        "- Use multi-qubit gates\n",
        "- Use barrier operations\n",
        "- Return the circuit depth\n",
        "- Extend quantum circuits\n",
        "- Return the OpenQASM string for a circuit\n",
        "with qiskit examples"
      ],
      "metadata": {
        "id": "k0A-UP_NHicY"
      }
    },
    {
      "cell_type": "markdown",
      "source": [
        "### 1. Construct multi-qubit quantum registers"
      ],
      "metadata": {
        "id": "mYRGg0h7IkZ2"
      }
    },
    {
      "cell_type": "markdown",
      "source": [
        "#### Import all necessary modules from qiskit"
      ],
      "metadata": {
        "id": "C1Z3VR_eIypw"
      }
    },
    {
      "cell_type": "code",
      "source": [
        "# Install qiskit framework, if you are not installed yet\n",
        "# !pip install qiskit"
      ],
      "metadata": {
        "id": "PorR2qsXJGHj"
      },
      "execution_count": 34,
      "outputs": []
    },
    {
      "cell_type": "code",
      "source": [
        "from qiskit import QuantumCircuit, QuantumRegister, ClassicalRegister"
      ],
      "metadata": {
        "id": "1Nry4d6HLV1R"
      },
      "execution_count": 31,
      "outputs": []
    },
    {
      "cell_type": "markdown",
      "source": [
        "To construct a multi-qubit quantum register, you can use the QuantumRegister class. For example, to create a quantum register with 2 qubits, you would do the following:"
      ],
      "metadata": {
        "id": "uMfw7w0OQdrP"
      }
    },
    {
      "cell_type": "code",
      "source": [
        "# Create a quantum register with  qubits\n",
        "qr = QuantumRegister(2, 'qr')"
      ],
      "metadata": {
        "id": "V0YrmRyCLuiJ"
      },
      "execution_count": 60,
      "outputs": []
    },
    {
      "cell_type": "markdown",
      "source": [
        "#### Code explanation:\n",
        "\n"
      ],
      "metadata": {
        "id": "Pgrcp0HJXIuX"
      }
    },
    {
      "cell_type": "markdown",
      "source": [
        "`QuantumRegister(3, 'qr')` creates a quantum register named 'qr' with three qubits. This register serves as a container for the qubits in a quantum circuit, enabling the implementation of quantum operations and computations on the qubits within the circuit."
      ],
      "metadata": {
        "id": "LoyRSjkGXMhm"
      }
    },
    {
      "cell_type": "markdown",
      "source": [
        "#### 2. Measure quantum circuits in classical registers"
      ],
      "metadata": {
        "id": "paGOztBvMYgb"
      }
    },
    {
      "cell_type": "code",
      "source": [
        "cr = ClassicalRegister(2, 'c')"
      ],
      "metadata": {
        "id": "-sNk5jrCV4f7"
      },
      "execution_count": 71,
      "outputs": []
    },
    {
      "cell_type": "markdown",
      "source": [
        "#### Code explanation:"
      ],
      "metadata": {
        "id": "iC-7xSHaV2_0"
      }
    },
    {
      "cell_type": "markdown",
      "source": [
        "In the code`cr = ClassicalRegister(2, 'c')`, a classical register with two bits is being created. This classical register is used to store and hold the measurement results obtained from the quantum circuit's qubits. In this case, the classical register has two bits, which means it can store the measurement results of two qubits.\n",
        "\n",
        "\n",
        "`2:` This parameter specifies the number of bits in the classical register. In this case, it's set to 2, meaning the classical register can hold the measurement results of two qubits.\n",
        "\n",
        "`'c':` This parameter represents the name of the classical register, which can be used to identify the register within the context of the quantum circuit. In this case, the name is set to 'c'.\n",
        "\n",
        "Once the classical register is created, it can be associated with the quantum circuit for measuring the qubits. The measure method is used to associate specific qubits with specific bits in the classical register, allowing the measurement results of the qubits to be stored in the classical bits for further analysis and processing."
      ],
      "metadata": {
        "id": "CxYcspwOV7Pp"
      }
    },
    {
      "cell_type": "markdown",
      "source": [
        "#### Step 3: Create a Quantum Circuit"
      ],
      "metadata": {
        "id": "8SBzJt9NYD_w"
      }
    },
    {
      "cell_type": "code",
      "source": [
        "# Create a quantum circuit\n",
        "circuit = QuantumCircuit(qr, cr)"
      ],
      "metadata": {
        "id": "URNHNQASYIL2"
      },
      "execution_count": 72,
      "outputs": []
    },
    {
      "cell_type": "markdown",
      "source": [
        "#### Code explanation:"
      ],
      "metadata": {
        "id": "DgsfSVGVgel3"
      }
    },
    {
      "cell_type": "markdown",
      "source": [
        "In this code, `circuit = QuantumCircuit(qr, cr)`, a quantum circuit is being created. The `QuantumCircuit` function is used to create a new quantum circuit and is provided with a quantum register `(qr)` and a classical register `(cr)` as arguments. This quantum circuit will operate on the qubits from the quantum register and store the measurement results in the classical register. It serves as the canvas for applying quantum gates and executing quantum algorithms."
      ],
      "metadata": {
        "id": "nlMZYdjIZXmk"
      }
    },
    {
      "cell_type": "markdown",
      "source": [
        "### Step 4: Use Single Qubits"
      ],
      "metadata": {
        "id": "sJjCz0pZXq1W"
      }
    },
    {
      "cell_type": "code",
      "source": [
        "# Use single-qubit gates\n",
        "circuit.h(qr[0])\n",
        "circuit.x(qr[1])"
      ],
      "metadata": {
        "colab": {
          "base_uri": "https://localhost:8080/"
        },
        "id": "F4f7p8x5XvnX",
        "outputId": "77c93d1b-e7d5-436e-a023-052eb3222815"
      },
      "execution_count": 63,
      "outputs": [
        {
          "output_type": "execute_result",
          "data": {
            "text/plain": [
              "<qiskit.circuit.instructionset.InstructionSet at 0x7aefd5813190>"
            ]
          },
          "metadata": {},
          "execution_count": 63
        }
      ]
    },
    {
      "cell_type": "markdown",
      "source": [
        "### Code explanation:"
      ],
      "metadata": {
        "id": "K5DPybJte4ok"
      }
    },
    {
      "cell_type": "markdown",
      "source": [
        "`circuit.h(qr[0])` applies a Hadamard gate (H-gate) to the qubit stored in the first index of the quantum register qr. The Hadamard gate is commonly used in quantum computing to create superposition, an essential concept in quantum algorithms.\n",
        "\n",
        "`circuit.x(qr[1])` applies a Pauli-X gate (X-gate) to the qubit stored in the second index of the quantum register `qr`. The Pauli-X gate is a fundamental single-qubit gate that corresponds to a classical bit-flip operation and is often used for simple quantum manipulations and demonstrations."
      ],
      "metadata": {
        "id": "g4YYlgfke8AW"
      }
    },
    {
      "cell_type": "markdown",
      "source": [
        "### Step 5: Use multi-qubit gates"
      ],
      "metadata": {
        "id": "T12uLkCaZtlR"
      }
    },
    {
      "cell_type": "code",
      "source": [
        "# Use multi-qubit gates - controlled NOT(CNOT)\n",
        "circuit.cx(qr[0], qr[1])"
      ],
      "metadata": {
        "colab": {
          "base_uri": "https://localhost:8080/"
        },
        "id": "kOmAL_D0Z5fB",
        "outputId": "b52f6b84-9617-42f0-9ad2-b837c4f50f41"
      },
      "execution_count": 64,
      "outputs": [
        {
          "output_type": "execute_result",
          "data": {
            "text/plain": [
              "<qiskit.circuit.instructionset.InstructionSet at 0x7aefd5812f20>"
            ]
          },
          "metadata": {},
          "execution_count": 64
        }
      ]
    },
    {
      "cell_type": "markdown",
      "source": [
        "#### Code explanation:"
      ],
      "metadata": {
        "id": "frVVP7kOeUg1"
      }
    },
    {
      "cell_type": "markdown",
      "source": [
        "`circuit.cx(qr[0], qr[1])` applies a `controlled-NOT (CNOT)` gate to the qubits stored in the quantum register qr. The CNOT gate is a fundamental two-qubit gate in quantum computing that performs an operation on a target qubit based on the state of a control qubit. In this case, the qubit at index 0 is used as the control qubit, while the qubit at index 1 is the target qubit. The application of the CNOT gate can create entanglement between the qubits and is essential in building various quantum circuits and algorithms, including quantum error correction and quantum teleportation."
      ],
      "metadata": {
        "id": "tA2lTbtieXtW"
      }
    },
    {
      "cell_type": "markdown",
      "source": [
        "### Step 6: Use barrier iprations"
      ],
      "metadata": {
        "id": "tk6c3OBVZ-ya"
      }
    },
    {
      "cell_type": "code",
      "source": [
        "# Use barrier operations\n",
        "circuit.barrier()"
      ],
      "metadata": {
        "colab": {
          "base_uri": "https://localhost:8080/"
        },
        "id": "4eSaZ-1qaFnE",
        "outputId": "d7afacfc-9932-4772-c66d-06ab862c9199"
      },
      "execution_count": 65,
      "outputs": [
        {
          "output_type": "execute_result",
          "data": {
            "text/plain": [
              "<qiskit.circuit.instructionset.InstructionSet at 0x7aefd58136a0>"
            ]
          },
          "metadata": {},
          "execution_count": 65
        }
      ]
    },
    {
      "cell_type": "markdown",
      "source": [
        "#### Code explanation:"
      ],
      "metadata": {
        "id": "oLZg4OtGdQfW"
      }
    },
    {
      "cell_type": "markdown",
      "source": [
        "`circuit.barrier()` is a command that inserts a barrier in the quantum circuit. It's a visual aid and does not affect the quantum computation itself. The barrier separates the operations before and after it, helping to organize and visualize different stages of the quantum algorithm or circui"
      ],
      "metadata": {
        "id": "yxtm2LZydSZu"
      }
    },
    {
      "cell_type": "markdown",
      "source": [
        "### Step 7:Measure the qubits"
      ],
      "metadata": {
        "id": "G53H0DSDgJjJ"
      }
    },
    {
      "cell_type": "code",
      "source": [
        "# Measure the qubits\n",
        "circuit.measure(qr, cr)"
      ],
      "metadata": {
        "colab": {
          "base_uri": "https://localhost:8080/"
        },
        "id": "btz0OGcSgNld",
        "outputId": "a46f7bf5-c751-4c1a-a021-aaa070fa3d01"
      },
      "execution_count": 73,
      "outputs": [
        {
          "output_type": "execute_result",
          "data": {
            "text/plain": [
              "<qiskit.circuit.instructionset.InstructionSet at 0x7aefd4a17a90>"
            ]
          },
          "metadata": {},
          "execution_count": 73
        }
      ]
    },
    {
      "cell_type": "markdown",
      "source": [
        "#### Code explanation:"
      ],
      "metadata": {
        "id": "oS7YVt8wiNzX"
      }
    },
    {
      "cell_type": "markdown",
      "source": [
        "The `circuit.measure(qr, cr)` method in **Qiskit** associates the qubits in the quantum register **qr** with the classical bits in the classical register **cr** for measurement. This operation measures the qubits and stores the measurement results in the classical bits.\n",
        "\n",
        "The measurement results represent the state of the qubits after the quantum computation, and they are crucial for retrieving classical information from the quantum computation."
      ],
      "metadata": {
        "id": "ebXcs8MziQeO"
      }
    },
    {
      "cell_type": "markdown",
      "source": [
        "### Step 8: Return the circuit depth"
      ],
      "metadata": {
        "id": "LUXnl9mcataZ"
      }
    },
    {
      "cell_type": "code",
      "source": [
        "# Return the circuit depth\n",
        "print(f\"Circuit depth: {circuit.depth()}\")"
      ],
      "metadata": {
        "colab": {
          "base_uri": "https://localhost:8080/"
        },
        "id": "iBPH0qMKa1mq",
        "outputId": "1cfd6f0f-d160-4ad1-f627-4e17fa56a6c1"
      },
      "execution_count": 68,
      "outputs": [
        {
          "output_type": "stream",
          "name": "stdout",
          "text": [
            "Circuit depth: 3\n"
          ]
        }
      ]
    },
    {
      "cell_type": "markdown",
      "source": [
        "#### Code explanation:"
      ],
      "metadata": {
        "id": "Yz6QW0xFfXE3"
      }
    },
    {
      "cell_type": "markdown",
      "source": [
        "`circuit.depth()` in **Qiskit** returns an integer representing the depth of the quantum circuit, indicating the length of the critical path, or the longest sequence of quantum operations in the circuit."
      ],
      "metadata": {
        "id": "rYWRe40ufZhC"
      }
    },
    {
      "cell_type": "markdown",
      "source": [
        "### Step 9: Extend quantum circuits"
      ],
      "metadata": {
        "id": "KjNcdcDqa6j0"
      }
    },
    {
      "cell_type": "code",
      "source": [
        "# Extend the quantum circuit\n",
        "qr2 = QuantumRegister(1, 'q2')\n",
        "circuit.add_register(qr2)\n",
        "circuit.h(qr2[0])"
      ],
      "metadata": {
        "colab": {
          "base_uri": "https://localhost:8080/"
        },
        "id": "nV84Dq5YbD6j",
        "outputId": "ba9ba136-2cc9-4966-d82f-53bdba57f1ef"
      },
      "execution_count": 69,
      "outputs": [
        {
          "output_type": "execute_result",
          "data": {
            "text/plain": [
              "<qiskit.circuit.instructionset.InstructionSet at 0x7aefd4a16230>"
            ]
          },
          "metadata": {},
          "execution_count": 69
        }
      ]
    },
    {
      "cell_type": "markdown",
      "source": [
        "#### Code explanation:"
      ],
      "metadata": {
        "id": "NQRKnzo7doVD"
      }
    },
    {
      "cell_type": "markdown",
      "source": [
        "`qr2 = QuantumRegister(1, 'q2')` creates a new quantum register named `'q2'` that contains one qubit.\n",
        "\n",
        "`circuit.add_register(qr2)` adds the newly created quantum register `'qr2'` to the existing quantum circuit, enabling the use of the qubit in the quantum operations of the circuit.\n",
        "\n",
        "`circuit.h(qr2[0])` applies the Hadamard gate (**H-gate**) to the qubit stored in the quantum register 'qr2'. The Hadamard gate is a single-qubit quantum gate that creates superposition, a key concept in quantum computing, and is often used as the initial step in various quantum algorithms."
      ],
      "metadata": {
        "id": "sdD8gwiNdqUn"
      }
    },
    {
      "cell_type": "markdown",
      "source": [
        "### Step 10: Return the OpenQASM string for a circuit"
      ],
      "metadata": {
        "id": "ijJpPipcbKVU"
      }
    },
    {
      "cell_type": "code",
      "source": [
        "# Get the OpenQASM string for the circuit\n",
        "print(circuit.qasm())"
      ],
      "metadata": {
        "colab": {
          "base_uri": "https://localhost:8080/"
        },
        "id": "rkyxyRWybQB9",
        "outputId": "75a5c628-b31b-44ff-9224-865301e32321"
      },
      "execution_count": 70,
      "outputs": [
        {
          "output_type": "stream",
          "name": "stdout",
          "text": [
            "OPENQASM 2.0;\n",
            "include \"qelib1.inc\";\n",
            "qreg qr[2];\n",
            "qreg q2[1];\n",
            "creg c[2];\n",
            "h qr[0];\n",
            "x qr[1];\n",
            "cx qr[0],qr[1];\n",
            "barrier qr[0],qr[1];\n",
            "measure qr[0] -> c[0];\n",
            "measure qr[1] -> c[1];\n",
            "h q2[0];\n",
            "\n"
          ]
        }
      ]
    },
    {
      "cell_type": "markdown",
      "source": [
        "#### Code explanation:"
      ],
      "metadata": {
        "id": "b1aSQfjDftQP"
      }
    },
    {
      "cell_type": "markdown",
      "source": [
        "the` circuit.qasm()` method returns the **OpenQASM** (Open Quantum Assembly Language) representation of the constructed quantum circuit. This **OpenQASM** representation provides a human-readable form of the quantum circuit's operations, allowing users to inspect the underlying quantum operations and structure of the circuit."
      ],
      "metadata": {
        "id": "GHMUY6B8fvUG"
      }
    },
    {
      "cell_type": "markdown",
      "source": [
        "## Conclusion"
      ],
      "metadata": {
        "id": "t7rLHLtZHshR"
      }
    },
    {
      "cell_type": "markdown",
      "source": [
        "I hope you enjoyed this tutorial and learned something new. If you have any questions, please leave them in the comments below.\n",
        "\n",
        "Subscribe to my channel for more tutorials on quantum computing and other AI topics!\n",
        "\n",
        "Thanks again for watching!"
      ],
      "metadata": {
        "id": "VhU42O2GIiFt"
      }
    },
    {
      "cell_type": "markdown",
      "source": [
        "---"
      ],
      "metadata": {
        "id": "lqoX5d4AHrds"
      }
    },
    {
      "cell_type": "markdown",
      "source": [
        "# How to Programming Quantum Cat Swarm Optimization Algorithm"
      ],
      "metadata": {
        "id": "r3mTLOjITBGa"
      }
    },
    {
      "cell_type": "markdown",
      "source": [],
      "metadata": {
        "id": "PVWU52GVGOb4"
      }
    },
    {
      "cell_type": "markdown",
      "source": [
        "## Steps of the algorithm\n"
      ],
      "metadata": {
        "id": "hoQlYxPFTaHF"
      }
    },
    {
      "cell_type": "markdown",
      "source": [
        "1. Define the problem\n",
        "2. Initialize the cat swarm\n",
        "3. Update the cat positions\n",
        "4. Evaluate the objective function for each cat\n",
        "5. Update the global best position\n",
        "6. Repeat steps 3-5 until a termination criterion is met"
      ],
      "metadata": {
        "id": "ynn2rGwBTfKK"
      }
    },
    {
      "cell_type": "code",
      "execution_count": null,
      "metadata": {
        "colab": {
          "base_uri": "https://localhost:8080/"
        },
        "id": "7ma1NZ2lR-7o",
        "outputId": "700590b7-b1bf-4abb-aaa6-d98fc5a90b70"
      },
      "outputs": [
        {
          "output_type": "stream",
          "name": "stdout",
          "text": [
            "Cat 0: Position: [4.45603283e-171 1.01729661e-172], Fitness: 0.0\n",
            "Cat 1: Position: [3.27653639e-171 6.15878008e-171], Fitness: 0.0\n",
            "Cat 2: Position: [6.63932245e-171 1.82160956e-171], Fitness: 0.0\n",
            "Cat 3: Position: [1.08033876e-170 5.75400370e-171], Fitness: 0.0\n",
            "Cat 4: Position: [2.26455145e-171 4.24351313e-171], Fitness: 0.0\n"
          ]
        }
      ],
      "source": [
        "import numpy as np\n",
        "\n",
        "# Function to omptimize -\n",
        "def fitness_function(x):\n",
        "  return sum([i**2 for i in x])\n",
        "\n",
        "# Defines parameters\n",
        "n_iterations = 100\n",
        "n_cats = 5\n",
        "n_dimensions = 2\n",
        "h_bar = 1.0545718e-34\n",
        "\n",
        "# Intilizie the position of the cats\n",
        "cats = np.random.random((n_cats, n_dimensions))\n",
        "\n",
        "# Initialize the best known positions and fitness values\n",
        "best_positions = cats.copy()\n",
        "best_fitness = np.array([fitness_function(c) for c in cats])\n",
        "\n",
        "# Main optimization loop\n",
        "for _ in range(n_iterations):\n",
        "  for i in range(n_cats):\n",
        "    # Quntum-inspired update rule\n",
        "    cats[i] = np.sin(h_bar * cats[i])\n",
        "\n",
        "    # Upfate the position if the fitness improves\n",
        "    current_fitness = fitness_function(cats[i])\n",
        "    if current_fitness < best_fitness[i]:\n",
        "      best_positions[i] = cats[i]\n",
        "      best_fitness[i] = current_fitness\n",
        "\n",
        "\n",
        "# print the best positions and fitness values\n",
        "for i in range(n_cats):\n",
        "  print(f\"Cat {i}: Position: {best_positions[i]}, Fitness: {best_fitness[i]}\")\n",
        "\n"
      ]
    }
  ]
}