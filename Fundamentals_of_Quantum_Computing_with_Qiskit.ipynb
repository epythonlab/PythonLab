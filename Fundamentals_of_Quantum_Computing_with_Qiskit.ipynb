{
  "nbformat": 4,
  "nbformat_minor": 0,
  "metadata": {
    "colab": {
      "provenance": [],
      "collapsed_sections": [
        "TqBhUKgrGrIC",
        "Pgrcp0HJXIuX",
        "iC-7xSHaV2_0",
        "DgsfSVGVgel3",
        "K5DPybJte4ok",
        "frVVP7kOeUg1",
        "oLZg4OtGdQfW",
        "oS7YVt8wiNzX",
        "Yz6QW0xFfXE3",
        "NQRKnzo7doVD",
        "b1aSQfjDftQP",
        "t7rLHLtZHshR"
      ],
      "authorship_tag": "ABX9TyPObW99mkU+IS5HJjY4tjVf",
      "include_colab_link": true
    },
    "kernelspec": {
      "name": "python3",
      "display_name": "Python 3"
    },
    "language_info": {
      "name": "python"
    }
  },
  "cells": [
    {
      "cell_type": "markdown",
      "metadata": {
        "id": "view-in-github",
        "colab_type": "text"
      },
      "source": [
        "<a href=\"https://colab.research.google.com/github/epythonlab/PythonLab/blob/master/Fundamentals_of_Quantum_Computing_with_Qiskit.ipynb\" target=\"_parent\"><img src=\"https://colab.research.google.com/assets/colab-badge.svg\" alt=\"Open In Colab\"/></a>"
      ]
    },
    {
      "cell_type": "markdown",
      "source": [
        "# Fundamentals Quantum Computation using Qiskit"
      ],
      "metadata": {
        "id": "k_u9cfWBGWQq"
      }
    },
    {
      "cell_type": "markdown",
      "source": [
        "# Day 1: Introduction to Quantum Circuits with Qiskit"
      ],
      "metadata": {
        "id": "cDFLjU0yGgmb"
      }
    },
    {
      "cell_type": "markdown",
      "source": [
        "## Introduction"
      ],
      "metadata": {
        "id": "TqBhUKgrGrIC"
      }
    },
    {
      "cell_type": "markdown",
      "source": [
        "Hey everyone, and welcome to this tutorial on quantum circuits with Qiskit! In this tutorial, you will learn how to construct multi-qubit quantum registers, measure quantum circuits in classical registers, use single-qubit and multi-qubit gates, use barrier operations, return the circuit depth, extend quantum circuits, and return the OpenQASM string for a circuit.\n",
        "\n",
        "Qiskit is an open-source software development kit for quantum computing. It provides a high-level Python interface for constructing and running quantum circuits on a variety of backends, including real quantum devices.\n",
        "\n",
        "Quantum circuits are a way of representing quantum programs. They are made up of a series of gates that operate on quantum registers. Quantum registers are collections of qubits, which are the basic units of information in quantum computing.\n",
        "\n",
        "In this tutorial, you will learn how to use Qiskit to construct and run simple quantum circuits. You will also learn about some of the key concepts in quantum computing, such as superposition, entanglement, and measurement.\n",
        "\n",
        "If you are interested in learning more about quantum computing, I encourage you to watch this tutorial!"
      ],
      "metadata": {
        "id": "IlHJ3Dh4G0xK"
      }
    },
    {
      "cell_type": "markdown",
      "source": [
        "Keywords:\n",
        "\n",
        "quantum computing,\n",
        "Qiskit,\n",
        "quantum circuits,\n",
        "multi-qubit registers,\n",
        "classical registers,\n",
        "single-qubit gates,\n",
        "multi-qubit gates,\n",
        "barrier operations,\n",
        "circuit depth,\n",
        "OpenQASM,"
      ],
      "metadata": {
        "id": "q37lco0FIBoX"
      }
    },
    {
      "cell_type": "markdown",
      "source": [
        "---"
      ],
      "metadata": {
        "id": "rqhoBcJoGXmx"
      }
    },
    {
      "cell_type": "markdown",
      "source": [
        "## Topics to be covered:\n"
      ],
      "metadata": {
        "id": "OEETDHuHHRnp"
      }
    },
    {
      "cell_type": "markdown",
      "source": [
        "- Construct multi-qubit quantum registers\n",
        "- Measure quantum circuits in classical registers\n",
        "- Use single-qubit gates\n",
        "- Use multi-qubit gates\n",
        "- Use barrier operations\n",
        "- Return the circuit depth\n",
        "- Extend quantum circuits\n",
        "- Return the OpenQASM string for a circuit\n",
        "with qiskit examples"
      ],
      "metadata": {
        "id": "k0A-UP_NHicY"
      }
    },
    {
      "cell_type": "markdown",
      "source": [
        "### 1. Construct multi-qubit quantum registers"
      ],
      "metadata": {
        "id": "mYRGg0h7IkZ2"
      }
    },
    {
      "cell_type": "markdown",
      "source": [
        "#### Import all necessary modules from qiskit"
      ],
      "metadata": {
        "id": "C1Z3VR_eIypw"
      }
    },
    {
      "cell_type": "code",
      "source": [
        "# Install qiskit framework, if you are not installed yet\n",
        "# !pip install qiskit"
      ],
      "metadata": {
        "id": "PorR2qsXJGHj"
      },
      "execution_count": null,
      "outputs": []
    },
    {
      "cell_type": "code",
      "source": [
        "from qiskit import QuantumCircuit, QuantumRegister, ClassicalRegister"
      ],
      "metadata": {
        "id": "1Nry4d6HLV1R"
      },
      "execution_count": null,
      "outputs": []
    },
    {
      "cell_type": "markdown",
      "source": [
        "To construct a multi-qubit quantum register, you can use the QuantumRegister class. For example, to create a quantum register with 2 qubits, you would do the following:"
      ],
      "metadata": {
        "id": "uMfw7w0OQdrP"
      }
    },
    {
      "cell_type": "code",
      "source": [
        "qr = QuantumRegister(2, 'qr')"
      ],
      "metadata": {
        "id": "V0YrmRyCLuiJ"
      },
      "execution_count": null,
      "outputs": []
    },
    {
      "cell_type": "markdown",
      "source": [
        "#### Code explanation:\n",
        "\n"
      ],
      "metadata": {
        "id": "Pgrcp0HJXIuX"
      }
    },
    {
      "cell_type": "markdown",
      "source": [
        "`QuantumRegister(3, 'qr')` creates a quantum register named 'qr' with three qubits. This register serves as a container for the qubits in a quantum circuit, enabling the implementation of quantum operations and computations on the qubits within the circuit."
      ],
      "metadata": {
        "id": "LoyRSjkGXMhm"
      }
    },
    {
      "cell_type": "markdown",
      "source": [
        "#### 2. Measure quantum circuits in classical registers"
      ],
      "metadata": {
        "id": "paGOztBvMYgb"
      }
    },
    {
      "cell_type": "code",
      "source": [
        "cr = ClassicalRegister(2, 'c')"
      ],
      "metadata": {
        "id": "-sNk5jrCV4f7"
      },
      "execution_count": null,
      "outputs": []
    },
    {
      "cell_type": "markdown",
      "source": [
        "#### Code explanation:"
      ],
      "metadata": {
        "id": "iC-7xSHaV2_0"
      }
    },
    {
      "cell_type": "markdown",
      "source": [
        "In the code`cr = ClassicalRegister(2, 'c')`, a classical register with two bits is being created. This classical register is used to store and hold the measurement results obtained from the quantum circuit's qubits. In this case, the classical register has two bits, which means it can store the measurement results of two qubits.\n",
        "\n",
        "\n",
        "`2:` This parameter specifies the number of bits in the classical register. In this case, it's set to 2, meaning the classical register can hold the measurement results of two qubits.\n",
        "\n",
        "`'c':` This parameter represents the name of the classical register, which can be used to identify the register within the context of the quantum circuit. In this case, the name is set to 'c'.\n",
        "\n",
        "Once the classical register is created, it can be associated with the quantum circuit for measuring the qubits. The measure method is used to associate specific qubits with specific bits in the classical register, allowing the measurement results of the qubits to be stored in the classical bits for further analysis and processing."
      ],
      "metadata": {
        "id": "CxYcspwOV7Pp"
      }
    },
    {
      "cell_type": "markdown",
      "source": [
        "#### Step 3: Create a Quantum Circuit"
      ],
      "metadata": {
        "id": "8SBzJt9NYD_w"
      }
    },
    {
      "cell_type": "code",
      "source": [
        "circuit = QuantumCircuit(qr, cr)"
      ],
      "metadata": {
        "id": "URNHNQASYIL2"
      },
      "execution_count": null,
      "outputs": []
    },
    {
      "cell_type": "markdown",
      "source": [
        "#### Code explanation:"
      ],
      "metadata": {
        "id": "DgsfSVGVgel3"
      }
    },
    {
      "cell_type": "markdown",
      "source": [
        "In this code, `circuit = QuantumCircuit(qr, cr)`, a quantum circuit is being created. The `QuantumCircuit` function is used to create a new quantum circuit and is provided with a quantum register `(qr)` and a classical register `(cr)` as arguments. This quantum circuit will operate on the qubits from the quantum register and store the measurement results in the classical register. It serves as the canvas for applying quantum gates and executing quantum algorithms."
      ],
      "metadata": {
        "id": "nlMZYdjIZXmk"
      }
    },
    {
      "cell_type": "markdown",
      "source": [
        "### Step 4: Use Single Qubits"
      ],
      "metadata": {
        "id": "sJjCz0pZXq1W"
      }
    },
    {
      "cell_type": "code",
      "source": [
        "circuit.h(qr[0]) # Hamadard Gate(H-gate)\n",
        "circuit.x(qr[1]) # Pauli-X Gate(X-gate) - superposition"
      ],
      "metadata": {
        "colab": {
          "base_uri": "https://localhost:8080/"
        },
        "id": "F4f7p8x5XvnX",
        "outputId": "0ddf8052-7942-4cc9-8625-a0f79c9b830f"
      },
      "execution_count": null,
      "outputs": [
        {
          "output_type": "execute_result",
          "data": {
            "text/plain": [
              "<qiskit.circuit.instructionset.InstructionSet at 0x7880973ef940>"
            ]
          },
          "metadata": {},
          "execution_count": 8
        }
      ]
    },
    {
      "cell_type": "markdown",
      "source": [
        "### Code explanation:"
      ],
      "metadata": {
        "id": "K5DPybJte4ok"
      }
    },
    {
      "cell_type": "markdown",
      "source": [
        "`circuit.h(qr[0])` applies a Hadamard gate (H-gate) to the qubit stored in the first index of the quantum register qr. The Hadamard gate is commonly used in quantum computing to create superposition, an essential concept in quantum algorithms.\n",
        "\n",
        "`circuit.x(qr[1])` applies a Pauli-X gate (X-gate) to the qubit stored in the second index of the quantum register `qr`. The Pauli-X gate is a fundamental single-qubit gate that corresponds to a classical bit-flip operation and is often used for simple quantum manipulations and demonstrations."
      ],
      "metadata": {
        "id": "g4YYlgfke8AW"
      }
    },
    {
      "cell_type": "markdown",
      "source": [
        "### Step 5: Use multi-qubit gates"
      ],
      "metadata": {
        "id": "T12uLkCaZtlR"
      }
    },
    {
      "cell_type": "code",
      "source": [
        "circuit.cx(qr[0], qr[1]) # CNOT Gate -entalgement"
      ],
      "metadata": {
        "colab": {
          "base_uri": "https://localhost:8080/"
        },
        "id": "kOmAL_D0Z5fB",
        "outputId": "2948d496-4de6-4f45-9afe-f35b596b2b02"
      },
      "execution_count": null,
      "outputs": [
        {
          "output_type": "execute_result",
          "data": {
            "text/plain": [
              "<qiskit.circuit.instructionset.InstructionSet at 0x7880973eee00>"
            ]
          },
          "metadata": {},
          "execution_count": 10
        }
      ]
    },
    {
      "cell_type": "markdown",
      "source": [
        "#### Code explanation:"
      ],
      "metadata": {
        "id": "frVVP7kOeUg1"
      }
    },
    {
      "cell_type": "markdown",
      "source": [
        "`circuit.cx(qr[0], qr[1])` applies a `controlled-NOT (CNOT)` gate to the qubits stored in the quantum register qr. The CNOT gate is a fundamental two-qubit gate in quantum computing that performs an operation on a target qubit based on the state of a control qubit. In this case, the qubit at index 0 is used as the control qubit, while the qubit at index 1 is the target qubit. The application of the CNOT gate can create entanglement between the qubits and is essential in building various quantum circuits and algorithms, including quantum error correction and quantum teleportation."
      ],
      "metadata": {
        "id": "tA2lTbtieXtW"
      }
    },
    {
      "cell_type": "markdown",
      "source": [
        "### Step 6: Use barrier operations"
      ],
      "metadata": {
        "id": "tk6c3OBVZ-ya"
      }
    },
    {
      "cell_type": "code",
      "source": [
        "circuit.barrier()"
      ],
      "metadata": {
        "colab": {
          "base_uri": "https://localhost:8080/"
        },
        "id": "4eSaZ-1qaFnE",
        "outputId": "41152bbe-5bf0-4f5f-c719-c0da05b765c1"
      },
      "execution_count": null,
      "outputs": [
        {
          "output_type": "execute_result",
          "data": {
            "text/plain": [
              "<qiskit.circuit.instructionset.InstructionSet at 0x78805d462da0>"
            ]
          },
          "metadata": {},
          "execution_count": 11
        }
      ]
    },
    {
      "cell_type": "markdown",
      "source": [
        "#### Code explanation:"
      ],
      "metadata": {
        "id": "oLZg4OtGdQfW"
      }
    },
    {
      "cell_type": "markdown",
      "source": [
        "`circuit.barrier()` is a command that inserts a barrier in the quantum circuit. It's a visual aid and does not affect the quantum computation itself. The barrier separates the operations before and after it, helping to organize and visualize different stages of the quantum algorithm or circui"
      ],
      "metadata": {
        "id": "yxtm2LZydSZu"
      }
    },
    {
      "cell_type": "markdown",
      "source": [
        "### Step 7:Measure the qubits"
      ],
      "metadata": {
        "id": "G53H0DSDgJjJ"
      }
    },
    {
      "cell_type": "code",
      "source": [
        "circuit.measure(qr, cr)"
      ],
      "metadata": {
        "colab": {
          "base_uri": "https://localhost:8080/"
        },
        "id": "btz0OGcSgNld",
        "outputId": "6ba2d815-793d-4db3-ce5c-b9db96864782"
      },
      "execution_count": null,
      "outputs": [
        {
          "output_type": "execute_result",
          "data": {
            "text/plain": [
              "<qiskit.circuit.instructionset.InstructionSet at 0x7880973eec80>"
            ]
          },
          "metadata": {},
          "execution_count": 12
        }
      ]
    },
    {
      "cell_type": "markdown",
      "source": [
        "#### Code explanation:"
      ],
      "metadata": {
        "id": "oS7YVt8wiNzX"
      }
    },
    {
      "cell_type": "markdown",
      "source": [
        "The `circuit.measure(qr, cr)` method in **Qiskit** associates the qubits in the quantum register **qr** with the classical bits in the classical register **cr** for measurement. This operation measures the qubits and stores the measurement results in the classical bits.\n",
        "\n",
        "The measurement results represent the state of the qubits after the quantum computation, and they are crucial for retrieving classical information from the quantum computation."
      ],
      "metadata": {
        "id": "ebXcs8MziQeO"
      }
    },
    {
      "cell_type": "markdown",
      "source": [
        "### Step 8: Return the circuit depth"
      ],
      "metadata": {
        "id": "LUXnl9mcataZ"
      }
    },
    {
      "cell_type": "code",
      "source": [
        "print(f'Circuit depth:{circuit.depth()}')"
      ],
      "metadata": {
        "colab": {
          "base_uri": "https://localhost:8080/"
        },
        "id": "iBPH0qMKa1mq",
        "outputId": "3a746bcb-3985-48d0-d9ce-836ec96af60b"
      },
      "execution_count": null,
      "outputs": [
        {
          "output_type": "stream",
          "name": "stdout",
          "text": [
            "Circuit depth:4\n"
          ]
        }
      ]
    },
    {
      "cell_type": "markdown",
      "source": [
        "#### Code explanation:"
      ],
      "metadata": {
        "id": "Yz6QW0xFfXE3"
      }
    },
    {
      "cell_type": "markdown",
      "source": [
        "`circuit.depth()` in **Qiskit** returns an integer representing the depth of the quantum circuit, indicating the length of the critical path, or the longest sequence of quantum operations in the circuit."
      ],
      "metadata": {
        "id": "rYWRe40ufZhC"
      }
    },
    {
      "cell_type": "markdown",
      "source": [
        "### Step 9: Extend quantum circuits"
      ],
      "metadata": {
        "id": "KjNcdcDqa6j0"
      }
    },
    {
      "cell_type": "code",
      "source": [
        "qr2 = QuantumRegister(1, 'q2')"
      ],
      "metadata": {
        "id": "nV84Dq5YbD6j"
      },
      "execution_count": null,
      "outputs": []
    },
    {
      "cell_type": "code",
      "source": [
        "circuit.add_register(qr2)"
      ],
      "metadata": {
        "id": "bF7BCZgrGido"
      },
      "execution_count": null,
      "outputs": []
    },
    {
      "cell_type": "code",
      "source": [
        "circuit.h(qr2[0])"
      ],
      "metadata": {
        "colab": {
          "base_uri": "https://localhost:8080/"
        },
        "id": "u-sqXhYLGmz0",
        "outputId": "321c2974-2d70-4267-d360-cfd536fc6426"
      },
      "execution_count": null,
      "outputs": [
        {
          "output_type": "execute_result",
          "data": {
            "text/plain": [
              "<qiskit.circuit.instructionset.InstructionSet at 0x78805d460d90>"
            ]
          },
          "metadata": {},
          "execution_count": 16
        }
      ]
    },
    {
      "cell_type": "markdown",
      "source": [
        "#### Code explanation:"
      ],
      "metadata": {
        "id": "NQRKnzo7doVD"
      }
    },
    {
      "cell_type": "markdown",
      "source": [
        "`qr2 = QuantumRegister(1, 'q2')` creates a new quantum register named `'q2'` that contains one qubit.\n",
        "\n",
        "`circuit.add_register(qr2)` adds the newly created quantum register `'qr2'` to the existing quantum circuit, enabling the use of the qubit in the quantum operations of the circuit.\n",
        "\n",
        "`circuit.h(qr2[0])` applies the Hadamard gate (**H-gate**) to the qubit stored in the quantum register 'qr2'. The Hadamard gate is a single-qubit quantum gate that creates superposition, a key concept in quantum computing, and is often used as the initial step in various quantum algorithms."
      ],
      "metadata": {
        "id": "sdD8gwiNdqUn"
      }
    },
    {
      "cell_type": "markdown",
      "source": [
        "### Step 10: Return the OpenQASM string for a circuit"
      ],
      "metadata": {
        "id": "ijJpPipcbKVU"
      }
    },
    {
      "cell_type": "code",
      "source": [
        "print(circuit.qasm())"
      ],
      "metadata": {
        "colab": {
          "base_uri": "https://localhost:8080/"
        },
        "id": "rkyxyRWybQB9",
        "outputId": "595a4cb4-09d4-4c3e-ce62-cd1bfdc560c5"
      },
      "execution_count": null,
      "outputs": [
        {
          "output_type": "stream",
          "name": "stdout",
          "text": [
            "OPENQASM 2.0;\n",
            "include \"qelib1.inc\";\n",
            "qreg qr[2];\n",
            "qreg q2[1];\n",
            "creg c[2];\n",
            "h qr[0];\n",
            "x qr[1];\n",
            "cx qr[0],qr[1];\n",
            "cx qr[0],qr[1];\n",
            "barrier qr[0],qr[1];\n",
            "measure qr[0] -> c[0];\n",
            "measure qr[1] -> c[1];\n",
            "h q2[0];\n",
            "\n"
          ]
        }
      ]
    },
    {
      "cell_type": "markdown",
      "source": [
        "#### Code explanation:"
      ],
      "metadata": {
        "id": "b1aSQfjDftQP"
      }
    },
    {
      "cell_type": "markdown",
      "source": [
        "the` circuit.qasm()` method returns the **OpenQASM** (Open Quantum Assembly Language) representation of the constructed quantum circuit. This **OpenQASM** representation provides a human-readable form of the quantum circuit's operations, allowing users to inspect the underlying quantum operations and structure of the circuit."
      ],
      "metadata": {
        "id": "GHMUY6B8fvUG"
      }
    },
    {
      "cell_type": "markdown",
      "source": [
        "## Conclusion"
      ],
      "metadata": {
        "id": "t7rLHLtZHshR"
      }
    },
    {
      "cell_type": "markdown",
      "source": [
        "\n",
        "\n",
        "Your feedback matters! If you found this tutorial helpful, please like, share, and subscribe. Leave your questions in the comments below. Stay tuned for more quantum computing and AI tutorials by subscribing to my channel. Thank you for watching!"
      ],
      "metadata": {
        "id": "VhU42O2GIiFt"
      }
    },
    {
      "cell_type": "markdown",
      "source": [
        "---"
      ],
      "metadata": {
        "id": "lqoX5d4AHrds"
      }
    },
    {
      "cell_type": "markdown",
      "source": [
        "# Executing Quantum Circuits with Qiskit"
      ],
      "metadata": {
        "id": "u45IYF_nJk5f"
      }
    },
    {
      "cell_type": "markdown",
      "source": [
        "## Introduction"
      ],
      "metadata": {
        "id": "1Dtnz5e4JtU_"
      }
    },
    {
      "cell_type": "markdown",
      "source": [
        "Hey everyone and welcome to this tutorial on Fundamentals of Quantum Computing with Qiskit. In this tutorial, you will learn how to execute quantum circuit with Qiskit in Python.\n",
        "\n",
        "`Quantum computing` represents a revolutionary paradigm with the potential to solve complex problems that are intractable for classical computers. One of the primary platforms for quantum computing development and simulation is Qiskit, an open-source quantum computing software development framework from IBM. With its powerful features, Qiskit enables users to create, manipulate, and execute quantum circuits on simulators or real quantum devices.\n",
        "\n",
        "Your feedback matters! If you found this tutorial helpful, please like, share, and subscribe for more Quantum Computing and AI topics. Leave your questions in the comments below."
      ],
      "metadata": {
        "id": "WAnw7mYWJxyf"
      }
    },
    {
      "cell_type": "markdown",
      "source": [
        "## By the end of this tutorial, you will be able to:"
      ],
      "metadata": {
        "id": "aluRwlv0K04z"
      }
    },
    {
      "cell_type": "markdown",
      "source": [
        "- Understand Quantum Circuit Execution\n",
        "\n",
        "- Build a Simple Quantum Circuit\n",
        "\n",
        "- Choose the Right Backend simulator\n",
        "\n",
        "\n",
        "- Execute the Quantum Circuit\n",
        "\n",
        "- Analyze the Results\n"
      ],
      "metadata": {
        "id": "gtB3LIbRK32g"
      }
    },
    {
      "cell_type": "markdown",
      "source": [
        "## Example:"
      ],
      "metadata": {
        "id": "8nnWI4UJRHmA"
      }
    },
    {
      "cell_type": "markdown",
      "source": [
        "#### Install qiskit-aer, if you are not already installed"
      ],
      "metadata": {
        "id": "dn3jDUF5RUDm"
      }
    },
    {
      "cell_type": "code",
      "source": [
        "#!pip install qiskit-aer"
      ],
      "metadata": {
        "id": "qkY4oL5RRbnC"
      },
      "execution_count": 3,
      "outputs": []
    },
    {
      "cell_type": "markdown",
      "source": [
        "### Import the module classes"
      ],
      "metadata": {
        "id": "T-7D0fvVRhdh"
      }
    },
    {
      "cell_type": "code",
      "source": [
        "from qiskit import Aer, execute, QuantumCircuit"
      ],
      "metadata": {
        "id": "9qERWr4LRkRH"
      },
      "execution_count": 2,
      "outputs": []
    },
    {
      "cell_type": "markdown",
      "source": [
        "### Create and execute simple quantum circuit"
      ],
      "metadata": {
        "id": "4EsbADcPUBcJ"
      }
    },
    {
      "cell_type": "code",
      "source": [
        "# Create a simple quantum circuit\n",
        "qc = QuantumCircuit(2, 2)  # 2 qubits, 2 classical bits\n",
        "qc.h(0)\n",
        "qc.cx(0, 1)\n",
        "qc.measure([0, 1], [0, 1])\n",
        "\n",
        "# Choose the Aer simulator backend\n",
        "simulator = Aer.get_backend('qasm_simulator')\n",
        "\n",
        "# Execute the circuit on the simulator\n",
        "job = execute(qc, simulator, shots=1024)\n",
        "\n",
        "# Get the result counts\n",
        "result = job.result().get_counts(qc)\n",
        "print(result)"
      ],
      "metadata": {
        "colab": {
          "base_uri": "https://localhost:8080/"
        },
        "id": "t-j7ooG1RssV",
        "outputId": "76df8ea7-c884-4624-d3b0-5e0dcb9b91dc"
      },
      "execution_count": 5,
      "outputs": [
        {
          "output_type": "stream",
          "name": "stdout",
          "text": [
            "{'00': 510, '11': 514}\n"
          ]
        }
      ]
    },
    {
      "cell_type": "markdown",
      "source": [
        "#### Code explanation:"
      ],
      "metadata": {
        "id": "S3oK-b0VR7Cc"
      }
    },
    {
      "cell_type": "markdown",
      "source": [
        "In this example:\n",
        "\n",
        "I created a simple quantum circuit that includes a **Hadamard gate (h)**, a **controlled-NOT gate (cx)**, and a measurement operation (**measure**).\n",
        "\n",
        "I choose the **QASM** simulator as the backend for simulation using `Aer.get_backend('qasm_simulator')`.\n",
        "\n",
        "I then execute the quantum circuit on the chosen simulator using the `execute` function.\n",
        "\n",
        "The `shots` parameter specifies the number of times the circuit is executed to collect statistics.\n",
        "\n",
        "I retrieved the result **counts** using the `get_counts` method and print the results."
      ],
      "metadata": {
        "id": "ykCWAEuRR9g5"
      }
    },
    {
      "cell_type": "markdown",
      "source": [
        "**Output:**\n",
        "\n",
        "The keys, `'00'` and `'11'`, represent the possible measurement outcomes. In quantum computing,` '00'` can signify that both qubits were measured as the state `|0>`, and `'11'` can represent that both qubits were measured as the state `|1>`.\n",
        "\n",
        "The values, `503` and `521`, indicate the frequency or count of each measurement outcome. Therefore, `'00'` was observed `503` times, and `'11'` was observed `521` times during the execution of the quantum circuit"
      ],
      "metadata": {
        "id": "IOLR1dYrTqlK"
      }
    },
    {
      "cell_type": "markdown",
      "source": [
        "## Conclusion:"
      ],
      "metadata": {
        "id": "btHp7AheLLmP"
      }
    },
    {
      "cell_type": "markdown",
      "source": [
        "By leveraging the capabilities of **Qiskit**, you can gain valuable insights into the principles of quantum computing through the execution of quantum circuits. This practical engagement serves as an essential starting point for comprehending the potential of quantum computing and its applications in various fields such as optimization, cryptography, machine learning, and AI.\n",
        "\n",
        "\n",
        "Your feedback is invaluable! If you found this tutorial helpful, please like, share, and subscribe. Leave your questions in the comments below. Stay tuned for more quantum computing and AI tutorials by subscribing to my channel. Thank you for watching!"
      ],
      "metadata": {
        "id": "AS5pDT3MLNaJ"
      }
    },
    {
      "cell_type": "markdown",
      "source": [
        "---"
      ],
      "metadata": {
        "id": "bZh62XfMJtdG"
      }
    },
    {
      "cell_type": "markdown",
      "source": [
        "# How to Programming Quantum Cat Swarm Optimization Algorithm"
      ],
      "metadata": {
        "id": "r3mTLOjITBGa"
      }
    },
    {
      "cell_type": "markdown",
      "source": [],
      "metadata": {
        "id": "PVWU52GVGOb4"
      }
    },
    {
      "cell_type": "markdown",
      "source": [
        "## Steps of the algorithm\n"
      ],
      "metadata": {
        "id": "hoQlYxPFTaHF"
      }
    },
    {
      "cell_type": "markdown",
      "source": [
        "1. Define the problem\n",
        "2. Initialize the cat swarm\n",
        "3. Update the cat positions\n",
        "4. Evaluate the objective function for each cat\n",
        "5. Update the global best position\n",
        "6. Repeat steps 3-5 until a termination criterion is met"
      ],
      "metadata": {
        "id": "ynn2rGwBTfKK"
      }
    },
    {
      "cell_type": "code",
      "execution_count": null,
      "metadata": {
        "colab": {
          "base_uri": "https://localhost:8080/"
        },
        "id": "7ma1NZ2lR-7o",
        "outputId": "700590b7-b1bf-4abb-aaa6-d98fc5a90b70"
      },
      "outputs": [
        {
          "output_type": "stream",
          "name": "stdout",
          "text": [
            "Cat 0: Position: [4.45603283e-171 1.01729661e-172], Fitness: 0.0\n",
            "Cat 1: Position: [3.27653639e-171 6.15878008e-171], Fitness: 0.0\n",
            "Cat 2: Position: [6.63932245e-171 1.82160956e-171], Fitness: 0.0\n",
            "Cat 3: Position: [1.08033876e-170 5.75400370e-171], Fitness: 0.0\n",
            "Cat 4: Position: [2.26455145e-171 4.24351313e-171], Fitness: 0.0\n"
          ]
        }
      ],
      "source": [
        "import numpy as np\n",
        "\n",
        "# Function to omptimize -\n",
        "def fitness_function(x):\n",
        "  return sum([i**2 for i in x])\n",
        "\n",
        "# Defines parameters\n",
        "n_iterations = 100\n",
        "n_cats = 5\n",
        "n_dimensions = 2\n",
        "h_bar = 1.0545718e-34\n",
        "\n",
        "# Intilizie the position of the cats\n",
        "cats = np.random.random((n_cats, n_dimensions))\n",
        "\n",
        "# Initialize the best known positions and fitness values\n",
        "best_positions = cats.copy()\n",
        "best_fitness = np.array([fitness_function(c) for c in cats])\n",
        "\n",
        "# Main optimization loop\n",
        "for _ in range(n_iterations):\n",
        "  for i in range(n_cats):\n",
        "    # Quntum-inspired update rule\n",
        "    cats[i] = np.sin(h_bar * cats[i])\n",
        "\n",
        "    # Upfate the position if the fitness improves\n",
        "    current_fitness = fitness_function(cats[i])\n",
        "    if current_fitness < best_fitness[i]:\n",
        "      best_positions[i] = cats[i]\n",
        "      best_fitness[i] = current_fitness\n",
        "\n",
        "\n",
        "# print the best positions and fitness values\n",
        "for i in range(n_cats):\n",
        "  print(f\"Cat {i}: Position: {best_positions[i]}, Fitness: {best_fitness[i]}\")\n",
        "\n"
      ]
    }
  ]
}