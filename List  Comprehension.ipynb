{
  "cells": [
    {
      "cell_type": "markdown",
      "metadata": {
        "init_cell": true,
        "id": "L41iLI8UTw-s"
      },
      "source": [
        "<center>\n",
        "    <img src=\"https://github.com/epythonlab/PythonLab/blob/master/images/logo.jpg?raw=1\" width=\"150\" alt=\"EPYTHON LAB logo\"  />\n",
        "</center>\n",
        "<hr>\n",
        "\n",
        "<h2 id='string' align='center'>List Comprehension </h2>"
      ]
    },
    {
      "cell_type": "markdown",
      "metadata": {
        "id": "w5b9kmiNTw-x"
      },
      "source": [
        "# List Comprehension\n",
        "\n",
        "List comprehensions provide a concise way to create lists. Common applications are to make new lists where each element is the result of some operations applied to each member of another sequence or iterable, or to create a subsequence of those elements that satisfy a certain condition.\n",
        "\n"
      ]
    },
    {
      "cell_type": "markdown",
      "metadata": {
        "id": "zNedchW9Tw-y"
      },
      "source": [
        "**For example, assume we want to create a list of squares, like:**\n",
        "\n",
        "Based on the list of numbers, we want a new list with contains the square of the number of each number in a list.\n",
        "The first thing that comes in mind would be `for loop`."
      ]
    },
    {
      "cell_type": "markdown",
      "metadata": {
        "id": "XQpV6TmQTw-z"
      },
      "source": [
        "Let's solve this problem without list comprehension we'll have to write a for statement.\n"
      ]
    },
    {
      "cell_type": "code",
      "execution_count": 3,
      "metadata": {
        "id": "sMP5Vz7fTw-0"
      },
      "outputs": [],
      "source": [
        "squares = [] # empty list\n",
        "\n",
        "# for loop\n",
        "for i in range(10):\n",
        "    squares.append(i**2)"
      ]
    },
    {
      "cell_type": "code",
      "execution_count": 4,
      "metadata": {
        "id": "gdRSsb_NTw-2",
        "outputId": "34517c3a-f694-425c-d63c-5df91827c2b6",
        "colab": {
          "base_uri": "https://localhost:8080/"
        }
      },
      "outputs": [
        {
          "output_type": "execute_result",
          "data": {
            "text/plain": [
              "[0, 1, 4, 9, 16, 25, 36, 49, 64, 81]"
            ]
          },
          "metadata": {},
          "execution_count": 4
        }
      ],
      "source": [
        "squares"
      ]
    },
    {
      "cell_type": "markdown",
      "metadata": {
        "id": "z4zrn2EcTw-4"
      },
      "source": [
        "<br>"
      ]
    },
    {
      "cell_type": "markdown",
      "source": [
        "Note that this creates (or overwrites) a variable named `i` that still exists after the loop completes. We can calculate the list of squares without any side effects using:"
      ],
      "metadata": {
        "id": "_aegbT7EUuHC"
      }
    },
    {
      "cell_type": "code",
      "source": [
        "squares = list(map(lambda i: i**2, range(10)))\n",
        "squares"
      ],
      "metadata": {
        "id": "LwtWJ5KqVVZk",
        "outputId": "366f7c03-fb2a-4781-df9e-01e5a1baeee8",
        "colab": {
          "base_uri": "https://localhost:8080/"
        }
      },
      "execution_count": 8,
      "outputs": [
        {
          "output_type": "execute_result",
          "data": {
            "text/plain": [
              "[0, 1, 4, 9, 16, 25, 36, 49, 64, 81]"
            ]
          },
          "metadata": {},
          "execution_count": 8
        }
      ]
    },
    {
      "cell_type": "markdown",
      "metadata": {
        "id": "tVnD7psXTw-5"
      },
      "source": [
        "\n",
        "However, Python has an easier way to solve this issue using `List Comprehension`. List comprehension is an elegant way to define and create lists based on existing lists."
      ]
    },
    {
      "cell_type": "markdown",
      "metadata": {
        "id": "QELYWZhnTw-6"
      },
      "source": [
        "`syntax`:\n",
        "`[expression for item in list]`"
      ]
    },
    {
      "cell_type": "markdown",
      "metadata": {
        "id": "-TJ5eBSeTw-6"
      },
      "source": [
        "Let’s see how the above code can be written using list comprehensions."
      ]
    },
    {
      "cell_type": "code",
      "execution_count": 5,
      "metadata": {
        "id": "hsWk8qkOTw-7"
      },
      "outputs": [],
      "source": [
        "# write your code here\n",
        "squares = [i**2 for i in range(10)]"
      ]
    },
    {
      "cell_type": "code",
      "execution_count": 6,
      "metadata": {
        "id": "La6ZYUviTw-8",
        "outputId": "14b93f6f-3565-433c-ca6c-c1bd0802929e",
        "colab": {
          "base_uri": "https://localhost:8080/"
        }
      },
      "outputs": [
        {
          "output_type": "execute_result",
          "data": {
            "text/plain": [
              "[0, 1, 4, 9, 16, 25, 36, 49, 64, 81]"
            ]
          },
          "metadata": {},
          "execution_count": 6
        }
      ],
      "source": [
        "squares"
      ]
    },
    {
      "cell_type": "markdown",
      "metadata": {
        "id": "4OyneAAaTw-8"
      },
      "source": [
        "**Note**: List Comprehension is considerably faster than processing a list using the for loop.\n",
        "\n",
        "which is more concise and readable."
      ]
    },
    {
      "cell_type": "markdown",
      "source": [
        "A list comprehension consists of brackets containing an expression followed by a for clause, then zero or more for or if clauses. The result will be a new list resulting from evaluating the expression in the context of the for and if clauses which follow it. For example, this listcomp combines the elements of two lists if they are not equal:"
      ],
      "metadata": {
        "id": "PC2LFTNcV8J-"
      }
    },
    {
      "cell_type": "code",
      "source": [
        "[(x, y) for x in [1,2,3] for y in [3,1,4] if x != y]\n",
        "#[(1, 3), (1, 4), (2, 3), (2, 1), (2, 4), (3, 1), (3, 4)]"
      ],
      "metadata": {
        "id": "MELauiEEV7jn",
        "outputId": "c3ecf465-3ce7-4e7f-ecab-f13606b84842",
        "colab": {
          "base_uri": "https://localhost:8080/"
        }
      },
      "execution_count": 9,
      "outputs": [
        {
          "output_type": "execute_result",
          "data": {
            "text/plain": [
              "[(1, 3), (1, 4), (2, 3), (2, 1), (2, 4), (3, 1), (3, 4)]"
            ]
          },
          "metadata": {},
          "execution_count": 9
        }
      ]
    },
    {
      "cell_type": "markdown",
      "source": [
        "is equavalent to:"
      ],
      "metadata": {
        "id": "2fcLHWAoWWoA"
      }
    },
    {
      "cell_type": "code",
      "source": [
        "combs = []\n",
        "for x in [1,2,3]:\n",
        "    for y in [3,1,4]:\n",
        "        if x != y:\n",
        "            combs.append((x, y))"
      ],
      "metadata": {
        "id": "ri_8mLrkWUZx"
      },
      "execution_count": 10,
      "outputs": []
    },
    {
      "cell_type": "markdown",
      "metadata": {
        "id": "0huJoW0kTw-8"
      },
      "source": [
        "## if statement in List Comprehension\n",
        "\n",
        "List comprehensions can utilize conditional statement to modify existing list (or other tuples)."
      ]
    },
    {
      "cell_type": "markdown",
      "metadata": {
        "id": "wxRMDR7fTw-8"
      },
      "source": [
        "**Example:**\n",
        "\n",
        "Based on a list of `fruits`, we want a new list, containing only the fruits with the letter `n` in the name. The first thing that comes in mind would be using `for loop`\n",
        "\n",
        "Without list comprehension we'll have to write a `for statement` with a `conditional test` inside:"
      ]
    },
    {
      "cell_type": "code",
      "execution_count": null,
      "metadata": {
        "id": "cXSYi0TCTw-9"
      },
      "outputs": [],
      "source": [
        "fruits = ['Apple', 'Banana', 'Orange', 'Mango', 'Avocado', 'Ananas', 'Strawberry' ]"
      ]
    },
    {
      "cell_type": "code",
      "execution_count": null,
      "metadata": {
        "id": "XmXLiPvmTw-9"
      },
      "outputs": [],
      "source": [
        "# Using for loop\n",
        "\n",
        "new_fruit = []\n",
        "for fruit in fruits:\n",
        "    if 'n' in fruit:\n",
        "        new_fruit.append(fruit)\n",
        ""
      ]
    },
    {
      "cell_type": "code",
      "execution_count": null,
      "metadata": {
        "id": "rg2EEMY6Tw-9",
        "outputId": "2bde55c4-9073-4ef9-bc3a-876385a35a37"
      },
      "outputs": [
        {
          "data": {
            "text/plain": [
              "['Banana', 'Orange', 'Mango', 'Ananas']"
            ]
          },
          "execution_count": 8,
          "metadata": {},
          "output_type": "execute_result"
        }
      ],
      "source": [
        "new_fruit"
      ]
    },
    {
      "cell_type": "markdown",
      "source": [
        "is equavalent to:"
      ],
      "metadata": {
        "id": "eE3SiN0fWahT"
      }
    },
    {
      "cell_type": "markdown",
      "metadata": {
        "id": "fJx1x2X_Tw--"
      },
      "source": [
        "Let's see the above code with List compression and conditional statement"
      ]
    },
    {
      "cell_type": "code",
      "execution_count": null,
      "metadata": {
        "id": "tly1IAlFTw--"
      },
      "outputs": [],
      "source": [
        "# write your code here using list comprehension\n",
        "new_fruit = [fruit for fruit in fruits if 'n' in fruit]"
      ]
    },
    {
      "cell_type": "code",
      "execution_count": null,
      "metadata": {
        "id": "4HSp_FfjTw--",
        "outputId": "c6311a20-a63c-4ff9-f4f1-e78979b071f6"
      },
      "outputs": [
        {
          "data": {
            "text/plain": [
              "['Banana', 'Orange', 'Mango', 'Ananas']"
            ]
          },
          "execution_count": 10,
          "metadata": {},
          "output_type": "execute_result"
        }
      ],
      "source": [
        "new_fruit"
      ]
    },
    {
      "cell_type": "markdown",
      "source": [
        "## Nested List Comprehensions"
      ],
      "metadata": {
        "id": "j5LlaqQnWfPC"
      }
    },
    {
      "cell_type": "markdown",
      "source": [
        "The initial expression in a list comprehension can be any arbitrary expression, including another list comprehension.\n",
        "\n",
        "Consider the following example of a` 3x4` matrix implemented as a list of 3 lists of length 4:"
      ],
      "metadata": {
        "id": "E4-yI0ecWvKv"
      }
    },
    {
      "cell_type": "code",
      "source": [
        "matrix = [\n",
        "    [1, 2, 3, 4],\n",
        "    [5, 6, 7, 8],\n",
        "    [9, 10, 11, 12],\n",
        "]"
      ],
      "metadata": {
        "id": "qO7NFgMbWt5U"
      },
      "execution_count": 13,
      "outputs": []
    },
    {
      "cell_type": "markdown",
      "source": [
        "The following list comprehension will transpose rows and columns:"
      ],
      "metadata": {
        "id": "29UwwwcBW2ai"
      }
    },
    {
      "cell_type": "code",
      "source": [
        "[[row[i] for row in matrix] for i in range(4)]\n",
        "#[[1, 5, 9], [2, 6, 10], [3, 7, 11], [4, 8, 12]]"
      ],
      "metadata": {
        "id": "twMo52LZW5ui",
        "outputId": "527bf0fd-56b0-404d-c059-5ae037fe49e9",
        "colab": {
          "base_uri": "https://localhost:8080/"
        }
      },
      "execution_count": 14,
      "outputs": [
        {
          "output_type": "execute_result",
          "data": {
            "text/plain": [
              "[[1, 5, 9], [2, 6, 10], [3, 7, 11], [4, 8, 12]]"
            ]
          },
          "metadata": {},
          "execution_count": 14
        }
      ]
    },
    {
      "cell_type": "markdown",
      "source": [
        "As we saw in the previous section, the inner list comprehension is evaluated in the context of the for that follows it, so this example is equivalent to:"
      ],
      "metadata": {
        "id": "M7EtZZLcXIml"
      }
    },
    {
      "cell_type": "code",
      "source": [
        "transposed = []\n",
        "for i in range(4):\n",
        "    transposed.append([row[i] for row in matrix])\n",
        "\n",
        "transposed\n",
        "#[[1, 5, 9], [2, 6, 10], [3, 7, 11], [4, 8, 12]]"
      ],
      "metadata": {
        "id": "MoWKbdmyXLXu",
        "outputId": "5f5daace-3c60-419a-ddfc-2a9646ce3818",
        "colab": {
          "base_uri": "https://localhost:8080/"
        }
      },
      "execution_count": 15,
      "outputs": [
        {
          "output_type": "execute_result",
          "data": {
            "text/plain": [
              "[[1, 5, 9], [2, 6, 10], [3, 7, 11], [4, 8, 12]]"
            ]
          },
          "metadata": {},
          "execution_count": 15
        }
      ]
    },
    {
      "cell_type": "markdown",
      "source": [
        "which, in turn, is the same as:"
      ],
      "metadata": {
        "id": "CI331UfzXUSJ"
      }
    },
    {
      "cell_type": "code",
      "source": [
        "transposed = []\n",
        "for i in range(4):\n",
        "    # the following 3 lines implement the nested listcomp\n",
        "    transposed_row = []\n",
        "    for row in matrix:\n",
        "        transposed_row.append(row[i])\n",
        "    transposed.append(transposed_row)\n",
        "\n",
        "transposed\n",
        "[[1, 5, 9], [2, 6, 10], [3, 7, 11], [4, 8, 12]]"
      ],
      "metadata": {
        "id": "XXB5XYWDXRTd"
      },
      "execution_count": null,
      "outputs": []
    },
    {
      "cell_type": "markdown",
      "source": [
        "In the real world, you should prefer built-in functions to complex flow statements. The `zip()` function would do a great job for this use case:"
      ],
      "metadata": {
        "id": "fNYgR9NXXY6_"
      }
    },
    {
      "cell_type": "code",
      "source": [
        "list(zip(*matrix))\n",
        "# [(1, 5, 9), (2, 6, 10), (3, 7, 11), (4, 8, 12)]"
      ],
      "metadata": {
        "id": "GyJ5X0C0XcYp",
        "outputId": "3631d502-7490-4815-d5a9-a3e9aec778b8",
        "colab": {
          "base_uri": "https://localhost:8080/"
        }
      },
      "execution_count": 16,
      "outputs": [
        {
          "output_type": "execute_result",
          "data": {
            "text/plain": [
              "[(1, 5, 9), (2, 6, 10), (3, 7, 11), (4, 8, 12)]"
            ]
          },
          "metadata": {},
          "execution_count": 16
        }
      ]
    },
    {
      "cell_type": "markdown",
      "metadata": {
        "id": "aYfn0t04Tw-_"
      },
      "source": [
        "<hr>\n",
        "<div class=\"alert alert-success alertsuccess\" style=\"margin-top: 30px\">\n",
        " [N.B]: We can also implement comprehension machanism other than lists like Dictionary and set.\n",
        "</div>\n"
      ]
    },
    {
      "cell_type": "markdown",
      "metadata": {
        "id": "UxAV2MtiTw-_"
      },
      "source": [
        "<hr>\n",
        "\n",
        "*Copyright &copy; 2021 <a href=\"https://yooutube.com/c/epythonlab\">EPYTHON LAB</a>.  All rights reserved.*"
      ]
    }
  ],
  "metadata": {
    "kernelspec": {
      "display_name": "Python 3",
      "language": "python",
      "name": "python3"
    },
    "language_info": {
      "codemirror_mode": {
        "name": "ipython",
        "version": 3
      },
      "file_extension": ".py",
      "mimetype": "text/x-python",
      "name": "python",
      "nbconvert_exporter": "python",
      "pygments_lexer": "ipython3",
      "version": "3.9.10"
    },
    "colab": {
      "provenance": []
    }
  },
  "nbformat": 4,
  "nbformat_minor": 0
}