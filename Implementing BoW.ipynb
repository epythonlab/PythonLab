{
 "cells": [
  {
   "cell_type": "markdown",
   "id": "2317e5dc-e700-4873-a86e-58d171861bf5",
   "metadata": {},
   "source": [
    "# Machine Learning Project : Implementing Bag of Words(BoW) without using sklearn Library"
   ]
  },
  {
   "cell_type": "markdown",
   "id": "54a43f52-9ae4-481d-9f90-9cfb14d74454",
   "metadata": {},
   "source": [
    "-------------------------------------------------"
   ]
  },
  {
   "cell_type": "markdown",
   "id": "528a80b1-05dc-4b99-a8b9-95dc09e44399",
   "metadata": {},
   "source": [
    "## Step 1: Convert all strings into thier lower case form"
   ]
  },
  {
   "cell_type": "code",
   "execution_count": 2,
   "id": "c12c7970-3d39-495e-83f6-b57d719ef5e7",
   "metadata": {},
   "outputs": [],
   "source": [
    "# the documents\n",
    "documents = [\"Hello\", \"How are you!\",\n",
    "            \"Wine money, win from home.\",\n",
    "            \"Call me now.\", \"Hello, Call hello you tomorrow?\"]"
   ]
  },
  {
   "cell_type": "code",
   "execution_count": 3,
   "id": "5b2fc1ad-c983-45d8-afb4-f8dbd443de23",
   "metadata": {
    "slideshow": {
     "slide_type": "slide"
    },
    "tags": []
   },
   "outputs": [],
   "source": [
    "lower_case_documents = [document.lower() for document in documents]"
   ]
  },
  {
   "cell_type": "code",
   "execution_count": 4,
   "id": "2635324a-8991-4aff-b5b6-bcca386cfbe7",
   "metadata": {},
   "outputs": [
    {
     "name": "stdout",
     "output_type": "stream",
     "text": [
      "['hello', 'how are you!', 'wine money, win from home.', 'call me now.', 'hello, call hello you tomorrow?']\n"
     ]
    }
   ],
   "source": [
    "print(lower_case_documents)"
   ]
  },
  {
   "cell_type": "markdown",
   "id": "ac3f5b41-f1eb-46b8-be78-b80064cba58b",
   "metadata": {},
   "source": [
    "----"
   ]
  },
  {
   "cell_type": "markdown",
   "id": "2070a8e9-9d23-4d28-9e77-2ecb6775f07c",
   "metadata": {},
   "source": [
    "## Step 2: Remove all Punctuation\n",
    "\n",
    "**Instructions:** Remove all punctuation from the strings in the document set. Save the strings into a list called `punctuation_documents`. "
   ]
  },
  {
   "cell_type": "code",
   "execution_count": 9,
   "id": "c3a9421c-bb58-45f4-b178-35f2fc8699ef",
   "metadata": {},
   "outputs": [],
   "source": [
    "'''\n",
    "Solution\n",
    "'''\n",
    "import string\n",
    "\n",
    "punctuation_documents = []\n",
    "\n",
    "for i in lower_case_documents:\n",
    "    \n",
    "    punctuation_documents.append(i.translate(str.maketrans('','', string.punctuation)))\n",
    "    \n",
    "    "
   ]
  },
  {
   "cell_type": "code",
   "execution_count": 10,
   "id": "29e82e2e-2406-4995-a150-29d82fe25cf1",
   "metadata": {},
   "outputs": [
    {
     "name": "stdout",
     "output_type": "stream",
     "text": [
      "['hello', 'how are you', 'wine money win from home', 'call me now', 'hello call hello you tomorrow']\n"
     ]
    }
   ],
   "source": [
    "print(punctuation_documents)"
   ]
  },
  {
   "cell_type": "markdown",
   "id": "bb704090-ad33-449d-bfdf-06e32ddde11f",
   "metadata": {},
   "source": [
    "-----"
   ]
  },
  {
   "cell_type": "markdown",
   "id": "a79b0b4d-a1a7-4fb6-b62e-9a5410659dd3",
   "metadata": {},
   "source": [
    "## Step 3: Tokenizing\n",
    "**Instructions:** Tokenize the strings stored in `punctuation_documents` using the `split()` method. Store the final document set in a list called `preprocessed_documents`."
   ]
  },
  {
   "cell_type": "code",
   "execution_count": 11,
   "id": "59885c95-d864-4b43-b736-33c6a1bee8d5",
   "metadata": {},
   "outputs": [],
   "source": [
    "'''\n",
    "solution\n",
    "'''\n",
    "preprocessed_documents = [i.split(' ') for i in punctuation_documents]\n"
   ]
  },
  {
   "cell_type": "code",
   "execution_count": 12,
   "id": "1747e560-8c50-4618-a888-c785f62c4c93",
   "metadata": {},
   "outputs": [
    {
     "name": "stdout",
     "output_type": "stream",
     "text": [
      "[['hello'], ['how', 'are', 'you'], ['wine', 'money', 'win', 'from', 'home'], ['call', 'me', 'now'], ['hello', 'call', 'hello', 'you', 'tomorrow']]\n"
     ]
    }
   ],
   "source": [
    "print(preprocessed_documents)"
   ]
  },
  {
   "cell_type": "markdown",
   "id": "101dedfd-2bdd-47fa-8e5a-b93a4ecd8bdd",
   "metadata": {},
   "source": [
    "---"
   ]
  },
  {
   "cell_type": "markdown",
   "id": "575b6ea4-33b4-4b1e-8eea-f51f68098b6f",
   "metadata": {},
   "source": [
    "## Step 4 and the last step: Count frequencies\n",
    "**Instructions:** Using the `Counter()` method and `preprocessed_documents` as the input, create a dictionary with the keys being each word in each document and the corresponding values being the frequency of occurrence of that word. Save each Counter dictionary as an item in a list called `frequency_list`."
   ]
  },
  {
   "cell_type": "code",
   "execution_count": 14,
   "id": "591bbd89-76c0-43af-99b5-d43f582b7fab",
   "metadata": {},
   "outputs": [],
   "source": [
    "'''\n",
    "Solution\n",
    "'''\n",
    "from collections import Counter\n",
    "import pprint\n",
    "\n",
    "frequency_list = []\n",
    "\n",
    "for i in preprocessed_documents:\n",
    "    frequency_count = Counter(i)\n",
    "    frequency_list.append(frequency_count)\n"
   ]
  },
  {
   "cell_type": "code",
   "execution_count": 16,
   "id": "7f10b894-bce3-4021-bcb1-ab185a6f8276",
   "metadata": {},
   "outputs": [
    {
     "name": "stdout",
     "output_type": "stream",
     "text": [
      "[Counter({'hello': 1}), Counter({'how': 1, 'are': 1, 'you': 1}), Counter({'wine': 1, 'money': 1, 'win': 1, 'from': 1, 'home': 1}), Counter({'call': 1, 'me': 1, 'now': 1}), Counter({'hello': 2, 'call': 1, 'you': 1, 'tomorrow': 1})]\n"
     ]
    }
   ],
   "source": [
    "print(frequency_list)"
   ]
  },
  {
   "cell_type": "code",
   "execution_count": 39,
   "id": "7a065b4a-080b-40a7-ad5e-6cbdce4d413e",
   "metadata": {},
   "outputs": [],
   "source": [
    "import re"
   ]
  },
  {
   "cell_type": "code",
   "execution_count": 55,
   "id": "3505eca5-5a8c-4e14-a26b-51f14ed3b5bd",
   "metadata": {},
   "outputs": [],
   "source": [
    "string = ['\"0010409945\"','\"\"RED ROBIN INTERNATIONAL, INC\"\"','\"\"']\n",
    "\n",
    "lst = []\n",
    "for i in string:\n",
    "    st = re.sub(r'\"','', i)\n",
    "    lst.append(st)"
   ]
  },
  {
   "cell_type": "code",
   "execution_count": 56,
   "id": "5c76b01f-464e-4a3d-a6fd-bae8e603b951",
   "metadata": {},
   "outputs": [
    {
     "data": {
      "text/plain": [
       "['0010409945', 'RED ROBIN INTERNATIONAL, INC', '']"
      ]
     },
     "execution_count": 56,
     "metadata": {},
     "output_type": "execute_result"
    }
   ],
   "source": [
    "lst"
   ]
  },
  {
   "cell_type": "code",
   "execution_count": null,
   "id": "4120a770-0e35-4e59-92f9-3e7a462e178a",
   "metadata": {},
   "outputs": [],
   "source": []
  }
 ],
 "metadata": {
  "kernelspec": {
   "display_name": "Python 3",
   "language": "python",
   "name": "python3"
  },
  "language_info": {
   "codemirror_mode": {
    "name": "ipython",
    "version": 3
   },
   "file_extension": ".py",
   "mimetype": "text/x-python",
   "name": "python",
   "nbconvert_exporter": "python",
   "pygments_lexer": "ipython3",
   "version": "3.9.10"
  },
  "widgets": {
   "application/vnd.jupyter.widget-state+json": {
    "state": {},
    "version_major": 2,
    "version_minor": 0
   }
  }
 },
 "nbformat": 4,
 "nbformat_minor": 5
}
