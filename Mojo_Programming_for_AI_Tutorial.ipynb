{
  "nbformat": 4,
  "nbformat_minor": 0,
  "metadata": {
    "colab": {
      "provenance": [],
      "authorship_tag": "ABX9TyNT+SD7YHPHHik87vytX0PT",
      "include_colab_link": true
    },
    "kernelspec": {
      "name": "python3",
      "display_name": "Python 3"
    },
    "language_info": {
      "name": "python"
    }
  },
  "cells": [
    {
      "cell_type": "markdown",
      "metadata": {
        "id": "view-in-github",
        "colab_type": "text"
      },
      "source": [
        "<a href=\"https://colab.research.google.com/github/epythonlab/PythonLab/blob/master/Mojo_Programming_for_AI_Tutorial.ipynb\" target=\"_parent\"><img src=\"https://colab.research.google.com/assets/colab-badge.svg\" alt=\"Open In Colab\"/></a>"
      ]
    },
    {
      "cell_type": "markdown",
      "source": [
        "#  Basic Mojo Programming Tutorial\n",
        "- Introduction\n",
        "- Variables\n",
        "- Data Types\n",
        "- Functions"
      ],
      "metadata": {
        "id": "gHg4r_fB-qBW"
      }
    },
    {
      "cell_type": "markdown",
      "source": [
        "## Introduction:"
      ],
      "metadata": {
        "id": "roFlLGkZRluL"
      }
    },
    {
      "cell_type": "markdown",
      "source": [
        "**Mojo** is a systems programming language designed for performance and efficiency.\n",
        "\n",
        "It is a statically typed language, which means that the compiler can check for many errors at compile time, rather than waiting for the program to run.\n",
        "\n",
        " **Mojo** also has a number of features that make it well-suited for writing high-performance code, such as **zero-cost abstractions** and **low-level** control over memory management."
      ],
      "metadata": {
        "id": "kX842MEXRqzm"
      }
    },
    {
      "cell_type": "markdown",
      "source": [
        "**Mojo** is as easy to use as Python but with the performance of **C++ and Rus**t. Furthermore, Mojo provides the ability to leverage the entire Python library ecosystem."
      ],
      "metadata": {
        "id": "QTBHcf5BSlzo"
      }
    },
    {
      "cell_type": "markdown",
      "source": [
        "More importantly, **Mojo** allows you to leverage the entire Python ecosystem so you can continue to use tools you are familiar with.\n",
        "\n",
        "**Mojo** is designed to become a superset of **Python** over time by preserving Python’s dynamic features while adding new primitives for **systems programming**."
      ],
      "metadata": {
        "id": "pXElQRqQUSho"
      }
    },
    {
      "cell_type": "markdown",
      "source": [
        "## Using the Mojo compiler\n",
        "\n",
        "With the **Mojo SDK**, you can run a Mojo program from a terminal just like you can with Python.\n",
        "\n",
        "So if you have a file named **hello.mojo** (or **hello.🔥**—yes, the file extension can be an **emoji**!), just type **mojo hello.mojo**:"
      ],
      "metadata": {
        "id": "HZAbCNB0UmOE"
      }
    },
    {
      "cell_type": "code",
      "source": [
        "# $ cat hello.🔥\n",
        "def main():\n",
        "    print(\"hello world\")\n",
        "    # for x in range(9, 0, -3):\n",
        "    #     print(x)\n",
        "# $ mojo hello.🔥\n",
        "# hello world\n",
        "# 9\n",
        "# 6\n",
        "# 3"
      ],
      "metadata": {
        "id": "kw1oXrLpVAJL"
      },
      "execution_count": null,
      "outputs": []
    },
    {
      "cell_type": "markdown",
      "source": [
        "But, **Mojo** has `fn` keyword to define a function instead of `def` keyword\n",
        "- Both actually work in **Mojo**, but using **fn** behaves a bit differently"
      ],
      "metadata": {
        "id": "yK4-dJmZteC_"
      }
    },
    {
      "cell_type": "code",
      "source": [
        "'''\n",
        "fn main():\n",
        "  print(\"hellow, world\")\n",
        "  '''"
      ],
      "metadata": {
        "id": "77bXoSQvtdgP"
      },
      "execution_count": null,
      "outputs": []
    },
    {
      "cell_type": "markdown",
      "source": [
        "## Syntax and semantics"
      ],
      "metadata": {
        "id": "PSVci2STusKd"
      }
    },
    {
      "cell_type": "markdown",
      "source": [
        "**Mojo** supports (or will support) all of Python’s syntax and semantics. If you’re not familiar with Python syntax, you can find python basic tutorial playlist in my channel and learn from it."
      ],
      "metadata": {
        "id": "AK94crQiuxTG"
      }
    },
    {
      "cell_type": "markdown",
      "source": [
        " Like **Python**, **Mojo** uses\n",
        " - line breaks and indentation to define code blocks (not curly braces),\n",
        " - and Mojo supports all of Python’s control-flow syntax such as  \n",
        "    - if conditions and for loops."
      ],
      "metadata": {
        "id": "2LmDLv00vRl0"
      }
    },
    {
      "cell_type": "markdown",
      "source": [
        "However, Mojo is still under development, so there are some things from Python that aren’t implemented in Mojo yet. All the missing Python features will arrive in time, but Mojo already includes many features and capabilities beyond what’s available in Python.\n"
      ],
      "metadata": {
        "id": "NijMdQM2wIA4"
      }
    },
    {
      "cell_type": "markdown",
      "source": [
        "## Functions\n",
        "**Mojo** functions can be declared with either `fn` (shown above) or `def` (as in Python).\n",
        "- The `fn` declaration enforces strongly-typed and memory-safe behaviors, while `def` provides Python-style dynamic behaviors.\n",
        "\n",
        "- Both `fn` and `def` functions have their value, and it’s important that you learn them both. However, for the purposes of this tutorial, I am going to focus on `fn` functions only.\n",
        "\n"
      ],
      "metadata": {
        "id": "_L6MFZxxxfR7"
      }
    },
    {
      "cell_type": "markdown",
      "source": [
        "## Variables and Types"
      ],
      "metadata": {
        "id": "gqm88h9nYEo0"
      }
    },
    {
      "cell_type": "markdown",
      "source": [
        "You can declare variables with `var` to create a mutable value, or with `let` to create an immutable value."
      ],
      "metadata": {
        "id": "LFpQg_obq7vY"
      }
    },
    {
      "cell_type": "markdown",
      "source": [
        "To declare a variable in **Mojo**, you use the `var` or `let` keyword.\n",
        "\n"
      ],
      "metadata": {
        "id": "DRZ1NWblYccA"
      }
    },
    {
      "cell_type": "code",
      "source": [
        "'''\n",
        "fn main():\n",
        "    var x = 1\n",
        "    x += 1\n",
        "    print(x)\n",
        "'''\n"
      ],
      "metadata": {
        "id": "GynKHmQ_yxDc"
      },
      "execution_count": null,
      "outputs": []
    },
    {
      "cell_type": "markdown",
      "source": [
        "If you change `var` to `let` in the `main()` function above and run it, you’ll get a compiler error like this:"
      ],
      "metadata": {
        "id": "swjdUUdtzAQI"
      }
    },
    {
      "cell_type": "markdown",
      "source": [
        "`error: Expression [15]:7:5: expression must be mutable for in-place operator destination\n",
        "    x += 1\n",
        "    ^\n",
        "  `"
      ],
      "metadata": {
        "id": "j--1-8wszHcT"
      }
    },
    {
      "cell_type": "markdown",
      "source": [
        "Example using `var`:"
      ],
      "metadata": {
        "id": "U3CaGofpYuGS"
      }
    },
    {
      "cell_type": "code",
      "source": [
        "'''\n",
        "def main(a, b):\n",
        "    var c = a\n",
        "    c = b  # no error: c is mutable\n",
        "\n",
        "    if c != b:\n",
        "        var d = b\n",
        "        print(d)\n",
        "\n",
        "main(2, 3)\n",
        "'''"
      ],
      "metadata": {
        "id": "ZDvpECMxYsKq"
      },
      "execution_count": null,
      "outputs": []
    },
    {
      "cell_type": "markdown",
      "source": [
        "If you delete `var` completely, you’ll get an error because `fn` functions require explicit variable declarations (unlike Python-style `def` functions)."
      ],
      "metadata": {
        "id": "OIUzHfl76rVb"
      }
    },
    {
      "cell_type": "markdown",
      "source": [
        "Example using `let`:"
      ],
      "metadata": {
        "id": "1miTwL7IZst9"
      }
    },
    {
      "cell_type": "code",
      "source": [
        "'''\n",
        "fn main(a, b):\n",
        "    let c = a\n",
        "    # Uncomment to see an error:\n",
        "    # c = b  # error: c is immutable\n",
        "\n",
        "    if c != b:\n",
        "        let d = b\n",
        "        print(d)\n",
        "\n",
        "main(2, 3)\n",
        "'''"
      ],
      "metadata": {
        "id": "WV2cvynuYxYz"
      },
      "execution_count": null,
      "outputs": []
    },
    {
      "cell_type": "markdown",
      "source": [
        "-  `var` variables are mutable, meaning that their value can be changed.\n",
        "\n",
        "- `let` variables are immutable, meaning that their value cannot be changed once they are initialized.\n"
      ],
      "metadata": {
        "id": "ElXxmJ2MYspN"
      }
    },
    {
      "cell_type": "markdown",
      "source": [
        "## Data Types"
      ],
      "metadata": {
        "id": "EzpqTZam3tTD"
      }
    },
    {
      "cell_type": "markdown",
      "source": [
        "**Mojo** has a variety of built-in data types, including `integers`, `floats`, `strings`, and `booleans`."
      ],
      "metadata": {
        "id": "Om3218VT3wKW"
      }
    },
    {
      "cell_type": "markdown",
      "source": [
        "For example, to declare mutable integer variable, you would use the following code:"
      ],
      "metadata": {
        "id": "BJ7jEf3R6YOI"
      }
    },
    {
      "cell_type": "code",
      "source": [
        "'''\n",
        "fn main():\n",
        "    var x: Int = 1\n",
        "    x += 1\n",
        "    print(x)\n",
        "'''"
      ],
      "metadata": {
        "id": "aOmuuAL36S8C"
      },
      "execution_count": null,
      "outputs": []
    },
    {
      "cell_type": "markdown",
      "source": [
        "For example, to declare an immutable integer variable, you would use the following code:"
      ],
      "metadata": {
        "id": "0kqrZnsk562D"
      }
    },
    {
      "cell_type": "code",
      "source": [
        "'''\n",
        "fn main():\n",
        "    let x: Int = 1\n",
        "    x += 1\n",
        "    print(x)\n",
        "'''"
      ],
      "metadata": {
        "id": "I1K4bQfmVLvD"
      },
      "execution_count": null,
      "outputs": []
    },
    {
      "cell_type": "markdown",
      "source": [
        "This is an explicit variable type declaration.\n",
        "\n",
        " Declaring the type is not required for variables in `fn`, but it is desirable sometimes.\n",
        "\n",
        "If you omit it, `Mojo` infers the type, as shown here:"
      ],
      "metadata": {
        "id": "JtkXJ4Oh7CUo"
      }
    },
    {
      "cell_type": "code",
      "source": [
        "'''\n",
        "fn do_math():\n",
        "    let x: Int = 1\n",
        "    let y = 2\n",
        "    print(x + y)\n",
        "\n",
        "do_math()\n",
        "'''"
      ],
      "metadata": {
        "id": "1TXqVw3n7UTw"
      },
      "execution_count": null,
      "outputs": []
    },
    {
      "cell_type": "markdown",
      "source": [
        "# Day 3: Functions in Mojo Programming"
      ],
      "metadata": {
        "id": "XRjvO-QGUUrz"
      }
    },
    {
      "cell_type": "markdown",
      "source": [
        "- Functions\n",
        "- Function arguments and return\n",
        "- Optional arguments and keyword arguments\n",
        "- Argument mutability and ownership"
      ],
      "metadata": {
        "id": "-cfGH1NSVAXI"
      }
    },
    {
      "cell_type": "markdown",
      "source": [
        "## Introduction"
      ],
      "metadata": {
        "id": "wu1Y9kfhVRcr"
      }
    },
    {
      "cell_type": "markdown",
      "source": [
        "A **function** in Mojo programming is a block of code that can be reused multiple times.\n",
        "- It can take arguments and return values."
      ],
      "metadata": {
        "id": "yMbqghn7VTUM"
      }
    },
    {
      "cell_type": "markdown",
      "source": [
        "## Example:"
      ],
      "metadata": {
        "id": "x2LX91OrVdjm"
      }
    },
    {
      "cell_type": "markdown",
      "source": [
        "- To define a function in Mojo, you use the `fn` keyword."
      ],
      "metadata": {
        "id": "nTsJfAuJVcCh"
      }
    },
    {
      "cell_type": "code",
      "source": [
        "fn do_math():\n",
        "   let x = 10\n",
        "   let y = 5\n",
        "   let res = x + y\n",
        "   print(res)\n",
        "\n",
        "fn main():\n",
        "    # call the function\n",
        "    do_math()"
      ],
      "metadata": {
        "id": "jkT-gbGiVkOV"
      },
      "execution_count": null,
      "outputs": []
    },
    {
      "cell_type": "markdown",
      "source": [
        "Like other compiled languages, **Mojo** programs (.mojo or .🔥 files) require a `main()\\` function as the entry point to the program."
      ],
      "metadata": {
        "id": "8WLh_ny5vys4"
      }
    },
    {
      "cell_type": "markdown",
      "source": [
        "## Function arguments and returns"
      ],
      "metadata": {
        "id": "1nAR9yzxWqOz"
      }
    },
    {
      "cell_type": "markdown",
      "source": [
        "Although types aren’t required for variables declared in the function body, they are required for arguments and return values for an `fn` function."
      ],
      "metadata": {
        "id": "Iq6Qb2RbWruQ"
      }
    },
    {
      "cell_type": "markdown",
      "source": [
        "For example, here’s how to declare `Int` as the type for function arguments and the return value:"
      ],
      "metadata": {
        "id": "Y-g3gfzIZfbV"
      }
    },
    {
      "cell_type": "code",
      "source": [
        "fn add(x: Int, y: Int) -> Int:\n",
        "    return x + y\n",
        "\n",
        "z = add(1, 2)\n",
        "print(z)\n"
      ],
      "metadata": {
        "id": "HVqkC2KtZj2k"
      },
      "execution_count": null,
      "outputs": []
    },
    {
      "cell_type": "markdown",
      "source": [
        "## Optional arguments and keyword arguments\n",
        "You can also specify argument default values (also known as **optional arguments**), and pass values with keyword argument names.\n",
        "\n",
        "For example:\n",
        "\n"
      ],
      "metadata": {
        "id": "MsiTXQ1uaGYW"
      }
    },
    {
      "cell_type": "code",
      "source": [
        "fn pow(base: Int, exp: Int = 2) -> Int:\n",
        "    return base ** exp\n",
        "\n",
        "# Uses default value for `exp`\n",
        "z = pow(3)\n",
        "print(z)\n",
        "\n",
        "# Uses keyword argument names (with order reversed)\n",
        "z = pow(exp=3, base=2)\n",
        "print(z)"
      ],
      "metadata": {
        "id": "4DEc6UyxaNmf"
      },
      "execution_count": null,
      "outputs": []
    },
    {
      "cell_type": "markdown",
      "source": [
        "<hr/>\n",
        "<div class=\"alert alert-success alertsuccess\" style=\"margin-top: 20px\">\n",
        "[Note]: Mojo currently includes only partial support for keyword arguments, so some features such as keyword-only arguments and variadic keyword arguments (e.g. **kwargs) are not supported yet.</div>\n",
        "<hr/>"
      ],
      "metadata": {
        "id": "b0IGXDV1ai9s"
      }
    },
    {
      "cell_type": "markdown",
      "source": [
        "## Argument mutability and ownership"
      ],
      "metadata": {
        "id": "eMGbzsIhewcP"
      }
    },
    {
      "cell_type": "markdown",
      "source": [
        "Mojo allows you to share references to values (instead of making a copy every time you pass a value to a function), but you need to follow Mojo's ownership rules."
      ],
      "metadata": {
        "id": "b3udWLUEew7_"
      }
    },
    {
      "cell_type": "markdown",
      "source": [
        "## Borrowed Arguments"
      ],
      "metadata": {
        "id": "CXXASr2dmkSs"
      }
    },
    {
      "cell_type": "markdown",
      "source": [
        "For example the following, `add()` doesn’t modify `x` or `y`, it only reads the values.\n",
        "\n",
        "- because `fn` arguments are **immutable** references by default.\n",
        "- This ensures memory safety (no surprise changes to the data) while also avoiding a copy (which could be a performance hit)."
      ],
      "metadata": {
        "id": "IdbLqbfyiQVb"
      }
    },
    {
      "cell_type": "code",
      "source": [
        "fn add(x: Int, y: Int) -> Int:\n",
        "    return x + y\n",
        "\n",
        "z = add(1, 2)\n",
        "print"
      ],
      "metadata": {
        "id": "4_Hccz-WiMik"
      },
      "execution_count": null,
      "outputs": []
    },
    {
      "cell_type": "markdown",
      "source": [
        "This is so called **borrowed** arguments.\n",
        "\n",
        "- you can make it explicit with the **borrowed** declaration like this (this behaves exactly the same as the `add()` above):"
      ],
      "metadata": {
        "id": "msUiQxIEi4rZ"
      }
    },
    {
      "cell_type": "code",
      "source": [
        "fn add(borrowed x: Int, borrowed y: Int) -> Int:\n",
        "    return x + y"
      ],
      "metadata": {
        "id": "j-BT_Q5pjLnJ"
      },
      "execution_count": null,
      "outputs": []
    },
    {
      "cell_type": "markdown",
      "source": [
        "## Inout arguments"
      ],
      "metadata": {
        "id": "5CF75REZmaO0"
      }
    },
    {
      "cell_type": "markdown",
      "source": [
        "But, if you want the arguments to be **mutable**, you need to declare each argument convention as `inout`.\n",
        "- This means that changes made to the arguments inside the function are visible **outside** the function."
      ],
      "metadata": {
        "id": "sm_iOCw2jA6Y"
      }
    },
    {
      "cell_type": "markdown",
      "source": [
        "For example, this function is able to modify the original variables:"
      ],
      "metadata": {
        "id": "l57IpfK6jrK0"
      }
    },
    {
      "cell_type": "code",
      "source": [
        "fn add(inout x: Int, inout y: Int) -> Int:\n",
        "    x += 1\n",
        "    y += 1\n",
        "    return x + y\n",
        "\n",
        "var a = 1\n",
        "var b = 2\n",
        "c = add(a, b)\n",
        "print(a)\n",
        "print(b)\n",
        "print(c)"
      ],
      "metadata": {
        "id": "rXiuZX8-jtGe"
      },
      "execution_count": null,
      "outputs": []
    },
    {
      "cell_type": "markdown",
      "source": [
        "## Owned arguments"
      ],
      "metadata": {
        "id": "7W8xpOyImSfv"
      }
    },
    {
      "cell_type": "markdown",
      "source": [
        "Another option is to declare the argument as **owned**, which provides the function full ownership of the value (it’s mutable and guaranteed unique).\n",
        "\n",
        "This way, the function can modify the value and not worry about affecting variables outside the function.\n",
        "\n",
        "For example:"
      ],
      "metadata": {
        "id": "gCLnQZuUkIAy"
      }
    },
    {
      "cell_type": "code",
      "source": [
        "fn set_fire(owned text: String) -> String:\n",
        "    text += \"🔥\"\n",
        "    return text\n",
        "\n",
        "fn mojo():\n",
        "    let a: String = \"mojo\"\n",
        "    let b = set_fire(a)\n",
        "    print(a)\n",
        "    print(b)\n",
        "\n",
        "mojo()"
      ],
      "metadata": {
        "id": "WbHj9DbamNrZ"
      },
      "execution_count": null,
      "outputs": []
    },
    {
      "cell_type": "markdown",
      "source": [
        "In this example, the `set_fire()` function takes one **owned** argument, `text`.\n",
        "- This means that the function takes full ownership of the `text` variable.\n",
        "- This allows the function to modify the value of `text` and not worry about affecting the original variable."
      ],
      "metadata": {
        "id": "69RDQAPTm36y"
      }
    },
    {
      "cell_type": "markdown",
      "source": [
        "In this case, Mojo makes a copy of `a` and passes it as the `text` argument. The original `a` string is still alive and well.\n",
        "\n"
      ],
      "metadata": {
        "id": "vIRHQtxznth4"
      }
    },
    {
      "cell_type": "markdown",
      "source": [
        "But in some types, this can be an expensive operation.\n",
        "\n",
        "So you can use  `^` \"transfer\" operator to transfer ownership of the` a` variable to the `set_fire()` function.\n",
        "-  This means that the `a` variable is no longer accessible after the `set_fire()` function is called."
      ],
      "metadata": {
        "id": "bEcp0TTZn870"
      }
    },
    {
      "cell_type": "code",
      "source": [
        "fn set_fire(owned text: String) -> String:\n",
        "    text += \"🔥\"\n",
        "    return text\n",
        "\n",
        "# Usage:\n",
        "let a = \"mojo\"\n",
        "let b = set_fire(a^)"
      ],
      "metadata": {
        "id": "b7hYXn-Dp-J3"
      },
      "execution_count": null,
      "outputs": []
    },
    {
      "cell_type": "markdown",
      "source": [
        "## Conclusion:"
      ],
      "metadata": {
        "id": "1rcArVGbpAIk"
      }
    },
    {
      "cell_type": "markdown",
      "source": [
        "Overall, these examples showcase how `Mojo's` various argument conventions allow for flexible and controlled memory management, contributing to a robust and secure programming environment."
      ],
      "metadata": {
        "id": "uiHmbfIGpCPz"
      }
    },
    {
      "cell_type": "markdown",
      "source": [
        "<hr>\n",
        "\n",
        "*Copyright &copy; 2023 <a href='https://youtube.com/@epythonlab'>Epython Lab</a>.  All rights reserved.*"
      ],
      "metadata": {
        "id": "vqVEy67Ubl_c"
      }
    }
  ]
}