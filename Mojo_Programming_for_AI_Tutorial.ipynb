{
  "nbformat": 4,
  "nbformat_minor": 0,
  "metadata": {
    "colab": {
      "provenance": [],
      "authorship_tag": "ABX9TyNKVoAmS/fZUhILQ59I4wHI",
      "include_colab_link": true
    },
    "kernelspec": {
      "name": "python3",
      "display_name": "Python 3"
    },
    "language_info": {
      "name": "python"
    }
  },
  "cells": [
    {
      "cell_type": "markdown",
      "metadata": {
        "id": "view-in-github",
        "colab_type": "text"
      },
      "source": [
        "<a href=\"https://colab.research.google.com/github/epythonlab/PythonLab/blob/master/Mojo_Programming_for_AI_Tutorial.ipynb\" target=\"_parent\"><img src=\"https://colab.research.google.com/assets/colab-badge.svg\" alt=\"Open In Colab\"/></a>"
      ]
    },
    {
      "cell_type": "markdown",
      "source": [
        "#  Basic Mojo Programming Tutorial\n",
        "- Introduction\n",
        "- Variables\n",
        "- Data Types\n",
        "- function"
      ],
      "metadata": {
        "id": "gHg4r_fB-qBW"
      }
    },
    {
      "cell_type": "markdown",
      "source": [
        "## Introduction:"
      ],
      "metadata": {
        "id": "roFlLGkZRluL"
      }
    },
    {
      "cell_type": "markdown",
      "source": [
        "**Mojo** is a systems programming language designed for performance and efficiency.\n",
        "\n",
        "It is a statically typed language, which means that the compiler can check for many errors at compile time, rather than waiting for the program to run.\n",
        "\n",
        " **Mojo** also has a number of features that make it well-suited for writing high-performance code, such as **zero-cost abstractions** and **low-level** control over memory management."
      ],
      "metadata": {
        "id": "kX842MEXRqzm"
      }
    },
    {
      "cell_type": "markdown",
      "source": [
        "**Mojo** is as easy to use as Python but with the performance of **C++ and Rus**t. Furthermore, Mojo provides the ability to leverage the entire Python library ecosystem."
      ],
      "metadata": {
        "id": "QTBHcf5BSlzo"
      }
    },
    {
      "cell_type": "markdown",
      "source": [
        "More importantly, **Mojo** allows you to leverage the entire Python ecosystem so you can continue to use tools you are familiar with.\n",
        "\n",
        "**Mojo** is designed to become a superset of **Python** over time by preserving Python’s dynamic features while adding new primitives for **systems programming**."
      ],
      "metadata": {
        "id": "pXElQRqQUSho"
      }
    },
    {
      "cell_type": "markdown",
      "source": [
        "## Using the Mojo compiler\n",
        "\n",
        "With the **Mojo SDK**, you can run a Mojo program from a terminal just like you can with Python.\n",
        "\n",
        "So if you have a file named **hello.mojo** (or **hello.🔥**—yes, the file extension can be an **emoji**!), just type **mojo hello.mojo**:"
      ],
      "metadata": {
        "id": "HZAbCNB0UmOE"
      }
    },
    {
      "cell_type": "code",
      "source": [
        "# $ cat hello.🔥\n",
        "def main():\n",
        "    print(\"hello world\")\n",
        "    for x in range(9, 0, -3):\n",
        "        print(x)\n",
        "# $ mojo hello.🔥\n",
        "# hello world\n",
        "# 9\n",
        "# 6\n",
        "# 3"
      ],
      "metadata": {
        "id": "kw1oXrLpVAJL"
      },
      "execution_count": 1,
      "outputs": []
    },
    {
      "cell_type": "code",
      "source": [],
      "metadata": {
        "id": "I1K4bQfmVLvD"
      },
      "execution_count": null,
      "outputs": []
    }
  ]
}