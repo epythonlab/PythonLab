{
  "nbformat": 4,
  "nbformat_minor": 0,
  "metadata": {
    "colab": {
      "provenance": [],
      "collapsed_sections": [
        "gHg4r_fB-qBW",
        "XRjvO-QGUUrz",
        "-hGnJTTK0axG"
      ],
      "authorship_tag": "ABX9TyPe2ytZ6gp581dspOIatyFv",
      "include_colab_link": true
    },
    "kernelspec": {
      "name": "python3",
      "display_name": "Python 3"
    },
    "language_info": {
      "name": "python"
    }
  },
  "cells": [
    {
      "cell_type": "markdown",
      "metadata": {
        "id": "view-in-github",
        "colab_type": "text"
      },
      "source": [
        "<a href=\"https://colab.research.google.com/github/epythonlab/PythonLab/blob/master/Mojo_Programming_for_AI_Tutorial.ipynb\" target=\"_parent\"><img src=\"https://colab.research.google.com/assets/colab-badge.svg\" alt=\"Open In Colab\"/></a>"
      ]
    },
    {
      "cell_type": "markdown",
      "source": [
        "# Day 2: Basics of Mojo Programming\n",
        "- Introduction\n",
        "- Variables\n",
        "- Data Types\n",
        "- Functions"
      ],
      "metadata": {
        "id": "gHg4r_fB-qBW"
      }
    },
    {
      "cell_type": "markdown",
      "source": [
        "## Introduction:"
      ],
      "metadata": {
        "id": "roFlLGkZRluL"
      }
    },
    {
      "cell_type": "markdown",
      "source": [
        "**Mojo** is a systems programming language designed for performance and efficiency.\n",
        "\n",
        "It is a statically typed language, which means that the compiler can check for many errors at compile time, rather than waiting for the program to run.\n",
        "\n",
        " **Mojo** also has a number of features that make it well-suited for writing high-performance code, such as **zero-cost abstractions** and **low-level** control over memory management."
      ],
      "metadata": {
        "id": "kX842MEXRqzm"
      }
    },
    {
      "cell_type": "markdown",
      "source": [
        "**Mojo** is as easy to use as Python but with the performance of **C++ and Rus**t. Furthermore, Mojo provides the ability to leverage the entire Python library ecosystem."
      ],
      "metadata": {
        "id": "QTBHcf5BSlzo"
      }
    },
    {
      "cell_type": "markdown",
      "source": [
        "More importantly, **Mojo** allows you to leverage the entire Python ecosystem so you can continue to use tools you are familiar with.\n",
        "\n",
        "**Mojo** is designed to become a superset of **Python** over time by preserving Python’s dynamic features while adding new primitives for **systems programming**."
      ],
      "metadata": {
        "id": "pXElQRqQUSho"
      }
    },
    {
      "cell_type": "markdown",
      "source": [
        "## Using the Mojo compiler\n",
        "\n",
        "With the **Mojo SDK**, you can run a Mojo program from a terminal just like you can with Python.\n",
        "\n",
        "So if you have a file named **hello.mojo** (or **hello.🔥**—yes, the file extension can be an **emoji**!), just type **mojo hello.mojo**:"
      ],
      "metadata": {
        "id": "HZAbCNB0UmOE"
      }
    },
    {
      "cell_type": "code",
      "source": [
        "# $ cat hello.🔥\n",
        "def main():\n",
        "    print(\"hello world\")\n",
        "    # for x in range(9, 0, -3):\n",
        "    #     print(x)\n",
        "# $ mojo hello.🔥\n",
        "# hello world\n",
        "# 9\n",
        "# 6\n",
        "# 3"
      ],
      "metadata": {
        "id": "kw1oXrLpVAJL"
      },
      "execution_count": null,
      "outputs": []
    },
    {
      "cell_type": "markdown",
      "source": [
        "But, **Mojo** has `fn` keyword to define a function instead of `def` keyword\n",
        "- Both actually work in **Mojo**, but using **fn** behaves a bit differently"
      ],
      "metadata": {
        "id": "yK4-dJmZteC_"
      }
    },
    {
      "cell_type": "code",
      "source": [
        "'''\n",
        "fn main():\n",
        "  print(\"hellow, world\")\n",
        "  '''"
      ],
      "metadata": {
        "id": "77bXoSQvtdgP"
      },
      "execution_count": null,
      "outputs": []
    },
    {
      "cell_type": "markdown",
      "source": [
        "## Syntax and semantics"
      ],
      "metadata": {
        "id": "PSVci2STusKd"
      }
    },
    {
      "cell_type": "markdown",
      "source": [
        "**Mojo** supports (or will support) all of Python’s syntax and semantics. If you’re not familiar with Python syntax, you can find python basic tutorial playlist in my channel and learn from it."
      ],
      "metadata": {
        "id": "AK94crQiuxTG"
      }
    },
    {
      "cell_type": "markdown",
      "source": [
        " Like **Python**, **Mojo** uses\n",
        " - line breaks and indentation to define code blocks (not curly braces),\n",
        " - and Mojo supports all of Python’s control-flow syntax such as  \n",
        "    - if conditions and for loops."
      ],
      "metadata": {
        "id": "2LmDLv00vRl0"
      }
    },
    {
      "cell_type": "markdown",
      "source": [
        "However, Mojo is still under development, so there are some things from Python that aren’t implemented in Mojo yet. All the missing Python features will arrive in time, but Mojo already includes many features and capabilities beyond what’s available in Python.\n"
      ],
      "metadata": {
        "id": "NijMdQM2wIA4"
      }
    },
    {
      "cell_type": "markdown",
      "source": [
        "## Functions\n",
        "**Mojo** functions can be declared with either `fn` (shown above) or `def` (as in Python).\n",
        "- The `fn` declaration enforces strongly-typed and memory-safe behaviors, while `def` provides Python-style dynamic behaviors.\n",
        "\n",
        "- Both `fn` and `def` functions have their value, and it’s important that you learn them both. However, for the purposes of this tutorial, I am going to focus on `fn` functions only.\n",
        "\n"
      ],
      "metadata": {
        "id": "_L6MFZxxxfR7"
      }
    },
    {
      "cell_type": "markdown",
      "source": [
        "## Variables and Types"
      ],
      "metadata": {
        "id": "gqm88h9nYEo0"
      }
    },
    {
      "cell_type": "markdown",
      "source": [
        "You can declare variables with `var` to create a mutable value, or with `let` to create an immutable value."
      ],
      "metadata": {
        "id": "LFpQg_obq7vY"
      }
    },
    {
      "cell_type": "markdown",
      "source": [
        "To declare a variable in **Mojo**, you use the `var` or `let` keyword.\n",
        "\n"
      ],
      "metadata": {
        "id": "DRZ1NWblYccA"
      }
    },
    {
      "cell_type": "code",
      "source": [
        "'''\n",
        "fn main():\n",
        "    var x = 1\n",
        "    x += 1\n",
        "    print(x)\n",
        "'''\n"
      ],
      "metadata": {
        "id": "GynKHmQ_yxDc"
      },
      "execution_count": null,
      "outputs": []
    },
    {
      "cell_type": "markdown",
      "source": [
        "If you change `var` to `let` in the `main()` function above and run it, you’ll get a compiler error like this:"
      ],
      "metadata": {
        "id": "swjdUUdtzAQI"
      }
    },
    {
      "cell_type": "markdown",
      "source": [
        "`error: Expression [15]:7:5: expression must be mutable for in-place operator destination\n",
        "    x += 1\n",
        "    ^\n",
        "  `"
      ],
      "metadata": {
        "id": "j--1-8wszHcT"
      }
    },
    {
      "cell_type": "markdown",
      "source": [
        "Example using `var`:"
      ],
      "metadata": {
        "id": "U3CaGofpYuGS"
      }
    },
    {
      "cell_type": "code",
      "source": [
        "'''\n",
        "def main(a, b):\n",
        "    var c = a\n",
        "    c = b  # no error: c is mutable\n",
        "\n",
        "    if c != b:\n",
        "        var d = b\n",
        "        print(d)\n",
        "\n",
        "main(2, 3)\n",
        "'''"
      ],
      "metadata": {
        "id": "ZDvpECMxYsKq"
      },
      "execution_count": null,
      "outputs": []
    },
    {
      "cell_type": "markdown",
      "source": [
        "If you delete `var` completely, you’ll get an error because `fn` functions require explicit variable declarations (unlike Python-style `def` functions)."
      ],
      "metadata": {
        "id": "OIUzHfl76rVb"
      }
    },
    {
      "cell_type": "markdown",
      "source": [
        "Example using `let`:"
      ],
      "metadata": {
        "id": "1miTwL7IZst9"
      }
    },
    {
      "cell_type": "code",
      "source": [
        "'''\n",
        "fn main(a, b):\n",
        "    let c = a\n",
        "    # Uncomment to see an error:\n",
        "    # c = b  # error: c is immutable\n",
        "\n",
        "    if c != b:\n",
        "        let d = b\n",
        "        print(d)\n",
        "\n",
        "main(2, 3)\n",
        "'''"
      ],
      "metadata": {
        "id": "WV2cvynuYxYz"
      },
      "execution_count": null,
      "outputs": []
    },
    {
      "cell_type": "markdown",
      "source": [
        "-  `var` variables are mutable, meaning that their value can be changed.\n",
        "\n",
        "- `let` variables are immutable, meaning that their value cannot be changed once they are initialized.\n"
      ],
      "metadata": {
        "id": "ElXxmJ2MYspN"
      }
    },
    {
      "cell_type": "markdown",
      "source": [
        "## Data Types"
      ],
      "metadata": {
        "id": "EzpqTZam3tTD"
      }
    },
    {
      "cell_type": "markdown",
      "source": [
        "**Mojo** has a variety of built-in data types, including `integers`, `floats`, `strings`, and `booleans`."
      ],
      "metadata": {
        "id": "Om3218VT3wKW"
      }
    },
    {
      "cell_type": "markdown",
      "source": [
        "For example, to declare mutable integer variable, you would use the following code:"
      ],
      "metadata": {
        "id": "BJ7jEf3R6YOI"
      }
    },
    {
      "cell_type": "code",
      "source": [
        "'''\n",
        "fn main():\n",
        "    var x: Int = 1\n",
        "    x += 1\n",
        "    print(x)\n",
        "'''"
      ],
      "metadata": {
        "id": "aOmuuAL36S8C"
      },
      "execution_count": null,
      "outputs": []
    },
    {
      "cell_type": "markdown",
      "source": [
        "For example, to declare an immutable integer variable, you would use the following code:"
      ],
      "metadata": {
        "id": "0kqrZnsk562D"
      }
    },
    {
      "cell_type": "code",
      "source": [
        "'''\n",
        "fn main():\n",
        "    let x: Int = 1\n",
        "    x += 1\n",
        "    print(x)\n",
        "'''"
      ],
      "metadata": {
        "id": "I1K4bQfmVLvD"
      },
      "execution_count": null,
      "outputs": []
    },
    {
      "cell_type": "markdown",
      "source": [
        "This is an explicit variable type declaration.\n",
        "\n",
        " Declaring the type is not required for variables in `fn`, but it is desirable sometimes.\n",
        "\n",
        "If you omit it, `Mojo` infers the type, as shown here:"
      ],
      "metadata": {
        "id": "JtkXJ4Oh7CUo"
      }
    },
    {
      "cell_type": "code",
      "source": [
        "'''\n",
        "fn do_math():\n",
        "    let x: Int = 1\n",
        "    let y = 2\n",
        "    print(x + y)\n",
        "\n",
        "do_math()\n",
        "'''"
      ],
      "metadata": {
        "id": "1TXqVw3n7UTw"
      },
      "execution_count": null,
      "outputs": []
    },
    {
      "cell_type": "markdown",
      "source": [
        "# Day 3: Functions in Mojo Programming\n",
        "\n",
        "- Functions\n",
        "- Function arguments and return\n",
        "- Optional arguments and keyword arguments\n",
        "- Argument mutability and ownership"
      ],
      "metadata": {
        "id": "XRjvO-QGUUrz"
      }
    },
    {
      "cell_type": "markdown",
      "source": [
        "## Introduction"
      ],
      "metadata": {
        "id": "wu1Y9kfhVRcr"
      }
    },
    {
      "cell_type": "markdown",
      "source": [
        "A **function** in Mojo programming is a block of code that can be reused multiple times.\n",
        "- It can take arguments and return values."
      ],
      "metadata": {
        "id": "yMbqghn7VTUM"
      }
    },
    {
      "cell_type": "markdown",
      "source": [
        "## Example:"
      ],
      "metadata": {
        "id": "x2LX91OrVdjm"
      }
    },
    {
      "cell_type": "markdown",
      "source": [
        "- To define a function in Mojo, you use the `fn` keyword."
      ],
      "metadata": {
        "id": "nTsJfAuJVcCh"
      }
    },
    {
      "cell_type": "code",
      "source": [
        "fn do_math():\n",
        "   let x = 10\n",
        "   let y = 5\n",
        "   let res = x + y\n",
        "   print(res)\n",
        "\n",
        "fn main():\n",
        "    # call the function\n",
        "    do_math()"
      ],
      "metadata": {
        "id": "jkT-gbGiVkOV"
      },
      "execution_count": null,
      "outputs": []
    },
    {
      "cell_type": "markdown",
      "source": [
        "Like other compiled languages, **Mojo** programs (.mojo or .🔥 files) require a `main()\\` function as the entry point to the program."
      ],
      "metadata": {
        "id": "8WLh_ny5vys4"
      }
    },
    {
      "cell_type": "markdown",
      "source": [
        "## Function arguments and returns"
      ],
      "metadata": {
        "id": "1nAR9yzxWqOz"
      }
    },
    {
      "cell_type": "markdown",
      "source": [
        "Although types aren’t required for variables declared in the function body, they are required for arguments and return values for an `fn` function."
      ],
      "metadata": {
        "id": "Iq6Qb2RbWruQ"
      }
    },
    {
      "cell_type": "markdown",
      "source": [
        "For example, here’s how to declare `Int` as the type for function arguments and the return value:"
      ],
      "metadata": {
        "id": "Y-g3gfzIZfbV"
      }
    },
    {
      "cell_type": "code",
      "source": [
        "fn add(x: Int, y: Int) -> Int:\n",
        "    return x + y\n",
        "\n",
        "z = add(1, 2)\n",
        "print(z)\n"
      ],
      "metadata": {
        "id": "HVqkC2KtZj2k"
      },
      "execution_count": null,
      "outputs": []
    },
    {
      "cell_type": "markdown",
      "source": [
        "## Optional arguments and keyword arguments\n",
        "You can also specify argument default values (also known as **optional arguments**), and pass values with keyword argument names.\n",
        "\n",
        "For example:\n",
        "\n"
      ],
      "metadata": {
        "id": "MsiTXQ1uaGYW"
      }
    },
    {
      "cell_type": "code",
      "source": [
        "fn pow(base: Int, exp: Int = 2) -> Int:\n",
        "    return base ** exp\n",
        "\n",
        "# Uses default value for `exp`\n",
        "z = pow(3)\n",
        "print(z)\n",
        "\n",
        "# Uses keyword argument names (with order reversed)\n",
        "z = pow(exp=3, base=2)\n",
        "print(z)"
      ],
      "metadata": {
        "id": "4DEc6UyxaNmf"
      },
      "execution_count": null,
      "outputs": []
    },
    {
      "cell_type": "markdown",
      "source": [
        "<hr/>\n",
        "<div class=\"alert alert-success alertsuccess\" style=\"margin-top: 20px\">\n",
        "[Note]: Mojo currently includes only partial support for keyword arguments, so some features such as keyword-only arguments and variadic keyword arguments (e.g. **kwargs) are not supported yet.</div>\n",
        "<hr/>"
      ],
      "metadata": {
        "id": "b0IGXDV1ai9s"
      }
    },
    {
      "cell_type": "markdown",
      "source": [
        "## Argument mutability and ownership"
      ],
      "metadata": {
        "id": "eMGbzsIhewcP"
      }
    },
    {
      "cell_type": "markdown",
      "source": [
        "Mojo allows you to share references to values (instead of making a copy every time you pass a value to a function), but you need to follow Mojo's ownership rules."
      ],
      "metadata": {
        "id": "b3udWLUEew7_"
      }
    },
    {
      "cell_type": "markdown",
      "source": [
        "## Borrowed Arguments"
      ],
      "metadata": {
        "id": "CXXASr2dmkSs"
      }
    },
    {
      "cell_type": "markdown",
      "source": [
        "For example the following, `add()` doesn’t modify `x` or `y`, it only reads the values.\n",
        "\n",
        "- because `fn` arguments are **immutable** references by default.\n",
        "- This ensures memory safety (no surprise changes to the data) while also avoiding a copy (which could be a performance hit)."
      ],
      "metadata": {
        "id": "IdbLqbfyiQVb"
      }
    },
    {
      "cell_type": "code",
      "source": [
        "fn add(x: Int, y: Int) -> Int:\n",
        "    return x + y\n",
        "\n",
        "z = add(1, 2)\n",
        "print"
      ],
      "metadata": {
        "id": "4_Hccz-WiMik"
      },
      "execution_count": null,
      "outputs": []
    },
    {
      "cell_type": "markdown",
      "source": [
        "This is so called **borrowed** arguments.\n",
        "\n",
        "- you can make it explicit with the **borrowed** declaration like this (this behaves exactly the same as the `add()` above):"
      ],
      "metadata": {
        "id": "msUiQxIEi4rZ"
      }
    },
    {
      "cell_type": "code",
      "source": [
        "fn add(borrowed x: Int, borrowed y: Int) -> Int:\n",
        "    return x + y"
      ],
      "metadata": {
        "id": "j-BT_Q5pjLnJ"
      },
      "execution_count": null,
      "outputs": []
    },
    {
      "cell_type": "markdown",
      "source": [
        "## Inout arguments"
      ],
      "metadata": {
        "id": "5CF75REZmaO0"
      }
    },
    {
      "cell_type": "markdown",
      "source": [
        "But, if you want the arguments to be **mutable**, you need to declare each argument convention as `inout`.\n",
        "- This means that changes made to the arguments inside the function are visible **outside** the function."
      ],
      "metadata": {
        "id": "sm_iOCw2jA6Y"
      }
    },
    {
      "cell_type": "markdown",
      "source": [
        "For example, this function is able to modify the original variables:"
      ],
      "metadata": {
        "id": "l57IpfK6jrK0"
      }
    },
    {
      "cell_type": "code",
      "source": [
        "fn add(inout x: Int, inout y: Int) -> Int:\n",
        "    x += 1\n",
        "    y += 1\n",
        "    return x + y\n",
        "\n",
        "var a = 1\n",
        "var b = 2\n",
        "c = add(a, b)\n",
        "print(a)\n",
        "print(b)\n",
        "print(c)"
      ],
      "metadata": {
        "id": "rXiuZX8-jtGe"
      },
      "execution_count": null,
      "outputs": []
    },
    {
      "cell_type": "markdown",
      "source": [
        "## Owned arguments"
      ],
      "metadata": {
        "id": "7W8xpOyImSfv"
      }
    },
    {
      "cell_type": "markdown",
      "source": [
        "Another option is to declare the argument as **owned**, which provides the function full ownership of the value (it’s mutable and guaranteed unique).\n",
        "\n",
        "This way, the function can modify the value and not worry about affecting variables outside the function.\n",
        "\n",
        "For example:"
      ],
      "metadata": {
        "id": "gCLnQZuUkIAy"
      }
    },
    {
      "cell_type": "code",
      "source": [
        "fn set_fire(owned text: String) -> String:\n",
        "    text += \"🔥\"\n",
        "    return text\n",
        "\n",
        "fn mojo():\n",
        "    let a: String = \"mojo\"\n",
        "    let b = set_fire(a)\n",
        "    print(a)\n",
        "    print(b)\n",
        "\n",
        "mojo()"
      ],
      "metadata": {
        "id": "WbHj9DbamNrZ"
      },
      "execution_count": null,
      "outputs": []
    },
    {
      "cell_type": "markdown",
      "source": [
        "In this example, the `set_fire()` function takes one **owned** argument, `text`.\n",
        "- This means that the function takes full ownership of the `text` variable.\n",
        "- This allows the function to modify the value of `text` and not worry about affecting the original variable."
      ],
      "metadata": {
        "id": "69RDQAPTm36y"
      }
    },
    {
      "cell_type": "markdown",
      "source": [
        "In this case, Mojo makes a copy of `a` and passes it as the `text` argument. The original `a` string is still alive and well.\n",
        "\n"
      ],
      "metadata": {
        "id": "vIRHQtxznth4"
      }
    },
    {
      "cell_type": "markdown",
      "source": [
        "But in some types, this can be an expensive operation.\n",
        "\n",
        "So you can use  `^` \"transfer\" operator to transfer ownership of the` a` variable to the `set_fire()` function.\n",
        "-  This means that the `a` variable is no longer accessible after the `set_fire()` function is called."
      ],
      "metadata": {
        "id": "bEcp0TTZn870"
      }
    },
    {
      "cell_type": "code",
      "source": [
        "fn set_fire(owned text: String) -> String:\n",
        "    text += \"🔥\"\n",
        "    return text\n",
        "\n",
        "# Usage:\n",
        "let a = \"mojo\"\n",
        "let b = set_fire(a^)"
      ],
      "metadata": {
        "id": "b7hYXn-Dp-J3"
      },
      "execution_count": null,
      "outputs": []
    },
    {
      "cell_type": "markdown",
      "source": [
        "## Conclusion:"
      ],
      "metadata": {
        "id": "1rcArVGbpAIk"
      }
    },
    {
      "cell_type": "markdown",
      "source": [
        "Overall, these examples showcase how `Mojo's` various argument conventions allow for flexible and controlled memory management, contributing to a robust and secure programming environment."
      ],
      "metadata": {
        "id": "uiHmbfIGpCPz"
      }
    },
    {
      "cell_type": "markdown",
      "source": [
        "# Day 4: Structures in Mojo Programming\n",
        "\n",
        "- What are structs?\n",
        "- How to define structs?"
      ],
      "metadata": {
        "id": "-hGnJTTK0axG"
      }
    },
    {
      "cell_type": "markdown",
      "source": [
        "**Mojo structs** are a powerful feature of the Mojo programming language that allows developers to build high-level and safe abstractions on top of complex, low-level operations without any performance loss.\n",
        "\n",
        "This is because Mojo is based on **MLIR(Multi-Level Intermediate Representation)** and **LLVM(Low Level Virtual Machine)**, which offer a cutting-edge compiler and code generation system used in many programming languages.\n",
        "\n",
        "\n",
        "\n",
        "\n"
      ],
      "metadata": {
        "id": "QOYAFFpj0j9t"
      }
    },
    {
      "cell_type": "markdown",
      "source": [
        "For example, here’s a basic struct:"
      ],
      "metadata": {
        "id": "W0C6wNPI1W6j"
      }
    },
    {
      "cell_type": "code",
      "source": [
        "struct Student:\n",
        "    var first_name: String\n",
        "    var last_name: String\n",
        "    var age: Int\n",
        "\n",
        "    fn __init__(inout self, first_name: String, last_name: String, age: Int):\n",
        "        self.first_name = first_name\n",
        "        self.last_name = last_name\n",
        "        self.age = age\n",
        "\n",
        "    fn display(self):\n",
        "        print(f'Hi, may name is {self.first_name} {self.last_name}. I am {age} years old.')"
      ],
      "metadata": {
        "id": "vCX7ZitC1Vxg"
      },
      "execution_count": null,
      "outputs": []
    },
    {
      "cell_type": "markdown",
      "source": [
        "A `struct` in **Mojo** is similar to a Python `class`: they both support **methods**, **fields**, **operator overloading**, **decorators** for metaprogramming, etc.\n",
        "\n",
        "Their differences are as follows:\n",
        "\n",
        "- **Python classes are dynamic**: they allow for dynamic dispatch, monkey-patching (or “swizzling”), and dynamically binding instance properties at runtime.\n",
        "\n",
        "- **Mojo structs are static**: they are bound at compile-time (you cannot add methods at runtime).\n",
        "  - Structs allow you to trade flexibility for performance while being safe and easy to use.\n",
        "  - They have fixed memory layouts, which makes them more efficient and easier to optimize.\n",
        "\n",
        "  - They can be used to directly access data fields, which improves performance and makes code more concise."
      ],
      "metadata": {
        "id": "CkUj6JOy5B42"
      }
    },
    {
      "cell_type": "markdown",
      "source": [
        "If you’re familiar with Python, then the __init__()(also known as **“dunder”** method) method and the `self` argument should be familiar to you. If you’re not familiar with Python, then notice that, when you call `display()`, you don’t actually need to pass a value for the `self` argument.\n",
        "\n",
        "The value for `self` is automatically provided with the current instance of the struct (it’s used similar to the `this` name used in some other languages to refer to the current instance of the object/type)."
      ],
      "metadata": {
        "id": "6VWwXTu78L_C"
      }
    },
    {
      "cell_type": "markdown",
      "source": [
        "And here’s how you can use it:"
      ],
      "metadata": {
        "id": "0S04nuRp2-Rk"
      }
    },
    {
      "cell_type": "code",
      "source": [
        "let std = Student('Asibeh', 'Tenager', 30)\n",
        "std.display()"
      ],
      "metadata": {
        "id": "cGqK4eyu3Bcv"
      },
      "execution_count": null,
      "outputs": []
    },
    {
      "cell_type": "markdown",
      "source": [
        "Mojo structs can also be used to build a wide variety of abstractions, such as:\n",
        "\n",
        " - Data structures, such as linked lists, trees, and graphs.\n",
        " - Object models, such as GUI widgets, network packets, and database records.\n",
        " - APIs for interacting with hardware and software components\n",
        " - Mojo structs are a powerful tool that can help developers write high-performance, efficient, and reliable code.\n"
      ],
      "metadata": {
        "id": "wq2hj0kA6phF"
      }
    },
    {
      "cell_type": "markdown",
      "source": [
        "# Day 5: Control Statements and Loops in Python\n",
        "- Control statements\n",
        "  - if/else\n",
        "  - if/elif/else\n",
        "- Loops: for loop, while loop"
      ],
      "metadata": {
        "id": "042q6FeKyC42"
      }
    },
    {
      "cell_type": "markdown",
      "source": [
        "\n",
        "**Mojo** programming supports a variety of control statements and loops, which can be used to alter the flow of execution of a program.\n",
        "\n",
        "**Control statements**\n",
        "\n",
        "- **if statement:** The if statement is used to execute a block of code only if a given condition is true.\n",
        "- **if-else statement:** The if-else statement is used to execute one block of code if a given condition is true, and another block of code if the condition is false.\n",
        "- **if-elif-else statement:** The if-elif-else statement is used to execute one of several blocks of code, depending on the value of a given condition.\n"
      ],
      "metadata": {
        "id": "T3d2BY8vyJ0C"
      }
    },
    {
      "cell_type": "markdown",
      "source": [
        "**Loops**\n",
        "\n",
        "- **for loop**: The for loop is used to execute a block of code repeatedly, for a given number of times or until a certain condition is met.\n",
        "- **while loop:** The while loop is used to execute a block of code repeatedly, while a given condition is true.\n"
      ],
      "metadata": {
        "id": "a0yQHXSZzFjf"
      }
    },
    {
      "cell_type": "markdown",
      "source": [
        "Here's an example:"
      ],
      "metadata": {
        "id": "dOB1-hS8zUq0"
      }
    },
    {
      "cell_type": "code",
      "source": [
        "# This project demonstrates control statements and loops in Mojo.\n",
        "\n",
        "fn determine_age(age:Int)-> String:\n",
        "\n",
        "  # Check if the user is an adult.\n",
        "  if age >= 18:\n",
        "    return (\"You are an adult.\")\n",
        "  else:\n",
        "    return (\"You are not an adult.\")\n",
        "\n",
        "fn main():\n",
        "\n",
        "    let result = determine_age(15)\n",
        "    print(result)\n"
      ],
      "metadata": {
        "id": "ib5Us1Y4zW6K",
        "colab": {
          "base_uri": "https://localhost:8080/",
          "height": 145
        },
        "outputId": "d8fa7ec7-7010-4dc8-ae71-e662ac56938e"
      },
      "execution_count": null,
      "outputs": [
        {
          "output_type": "error",
          "ename": "SyntaxError",
          "evalue": "ignored",
          "traceback": [
            "\u001b[0;36m  File \u001b[0;32m\"<ipython-input-1-133cfc109653>\"\u001b[0;36m, line \u001b[0;32m3\u001b[0m\n\u001b[0;31m    fn determine_age(age:Int)-> String:\u001b[0m\n\u001b[0m       ^\u001b[0m\n\u001b[0;31mSyntaxError\u001b[0m\u001b[0;31m:\u001b[0m invalid syntax\n"
          ]
        }
      ]
    },
    {
      "cell_type": "code",
      "source": [
        "# Print a list of all the even numbers from 1 to 100.\n",
        "\n",
        "    for i in range(2, 101, 2):\n",
        "        print(i)\n"
      ],
      "metadata": {
        "id": "_Y7N5BnYzo8M"
      },
      "execution_count": null,
      "outputs": []
    },
    {
      "cell_type": "code",
      "source": [
        "# Calculate the sum of all the odd numbers from 1 to 100.\n",
        "sum = 0\n",
        "i = 1\n",
        "while i < 100:\n",
        "  if sum % 2 != 0:\n",
        "    sum += i\n",
        "  i += 1\n",
        "\n",
        "print(\"The sum of all the odd numbers from 1 to 100 is:\", sum)"
      ],
      "metadata": {
        "id": "pwGWV7ATzlOd"
      },
      "execution_count": null,
      "outputs": []
    },
    {
      "cell_type": "markdown",
      "source": [
        "# Day 6: Intergrating Python in Mojo Programming"
      ],
      "metadata": {
        "id": "O7j5lXde0BjA"
      }
    },
    {
      "cell_type": "markdown",
      "source": [
        "Mojo is a work in progress that is not yet a full superset of Python. However, it does have a mechanism for importing Python modules as-is, which allows you to use existing Python code. This mechanism uses the CPython interpreter to run Python code, and thus it works seamlessly with all Python modules today.\n",
        "\n",
        "For example, here's how you can import and use NumPy (you must have Python numpy installed):"
      ],
      "metadata": {
        "id": "AMtQ6BWs0ryT"
      }
    },
    {
      "cell_type": "code",
      "source": [
        "from python import Python\n",
        "fn do_numpy():\n",
        "    try:\n",
        "        let  np = Python.import_module(\"numpy\")\n",
        "        let ar = np.arange(15).reshape(3, 5)\n",
        "        print(ar)\n",
        "        print(ar.shape)\n",
        "    except e:\n",
        "        print(e)\n",
        "fn main():\n",
        "    do_numpy()\n",
        "\n"
      ],
      "metadata": {
        "id": "NmfyMD1FzUGB"
      },
      "execution_count": null,
      "outputs": []
    },
    {
      "cell_type": "markdown",
      "source": [
        "I hope this tutorial covered enough of the basics to get you started. It’s intentionally brief, so if you want more detail about any of the topics touched upon here, check out the Mojo programming manual."
      ],
      "metadata": {
        "id": "c28G_gBl1Qio"
      }
    },
    {
      "cell_type": "markdown",
      "source": [
        "# Day 7: Python Dictionary in Mojo Programming"
      ],
      "metadata": {
        "id": "63xK2VzJGzrd"
      }
    },
    {
      "cell_type": "markdown",
      "source": [
        "**Mojo** doesn’t have a standard Dictionary yet, so it is not yet possible to create a Python dictionary from a Mojo dictionary.\n",
        "\n",
        "However, you can still work with Python dictionaries in Mojo.\n",
        "\n",
        "To create a Python dictionary, use the `dict` method from the python module:"
      ],
      "metadata": {
        "id": "yZ91HGzgG9a1"
      }
    },
    {
      "cell_type": "code",
      "source": [
        "from python import Python\n",
        "\n",
        "fn main():\n",
        "    try:\n",
        "        # Create a Python dictionary\n",
        "        var dictionary = Python.dict()\n",
        "        #  print(dictionary[''])\n",
        "        # add items in the dictionary\n",
        "        dictionary[\"fruit\"] = \"apple\"\n",
        "        dictionary[\"starch\"] = \"potato\"\n",
        "        # Access items in the dictionary\n",
        "        print(dictionary[\"fruit\"])  # Output: apple\n",
        "        # add new item\n",
        "        dictionary['price'] = 23\n",
        "        # modify the dict item\n",
        "        dictionary['fruit'] = 'orange'\n",
        "\n",
        "        # get the number of items in the dictionary\n",
        "        let N: Int = dictionary.__len__().__index__()\n",
        "        print(N, \"items\")\n",
        "\n",
        "        # accessing the keys/items in the dictionary\n",
        "        # let's get all keys\n",
        "        # Iterate over items in the dictionary\n",
        "        for item in dictionary:\n",
        "            print(item,\":\", dictionary[item])\n",
        "            # print(dictionary.get(item))\n",
        "    except e:\n",
        "        print(e)"
      ],
      "metadata": {
        "id": "wFznbvC1Im7f"
      },
      "execution_count": null,
      "outputs": []
    },
    {
      "cell_type": "markdown",
      "source": [
        "# Day 8: Organizing your Code into Modules"
      ],
      "metadata": {
        "id": "9zEZ6zpdfOr-"
      }
    },
    {
      "cell_type": "markdown",
      "source": [
        "A **Mojo module** is a file with a `.mojo` extension that contains Mojo code.\n",
        "- Modules can contain `functions`, `variables`, and other modules.\n",
        "\n",
        "To organize your code into modules, you can group related functionality into separate files.\n",
        "\n",
        "For example, you might have a module for each of the following:\n",
        "\n",
        "- Network communication\n",
        "- Database access\n",
        "- User interface rendering\n",
        "- Algorithmic code\n",
        "\n",
        "Once you have grouped your code into modules, you can `import` them into other Mojo files using the import statement.\n",
        "\n"
      ],
      "metadata": {
        "id": "XNXtwZX-fSks"
      }
    },
    {
      "cell_type": "markdown",
      "source": [
        "A Mojo module is a single Mojo source file that includes code suitable for use by other files that import it.\n",
        "\n",
        "For example, you can create a module(`mymodule.mojo`) to define a `struct` such as this one:"
      ],
      "metadata": {
        "id": "_FxKBiCCjQ_4"
      }
    },
    {
      "cell_type": "code",
      "source": [
        "# mymodule.mojo\n",
        "struct MyPair:\n",
        "    var first: Int\n",
        "    var second: Int\n",
        "\n",
        "    fn __init__(inout self, first: Int, second: Int):\n",
        "        self.first = first\n",
        "        self.second = second\n",
        "\n",
        "    fn dump(self):\n",
        "        print(self.first, self.second)"
      ],
      "metadata": {
        "id": "LRGdQH40kbED"
      },
      "execution_count": null,
      "outputs": []
    },
    {
      "cell_type": "markdown",
      "source": [
        "Notice that this code has no `main()` function, so you can’t execute `mymodule.mojo`.\n",
        "\n",
        "However, you can import this into another file with a `main()` function and use it there.\n",
        "\n",
        "For example, here’s how you can import `MyPair` into a file named `main.mojo` that’s in the same directory as `mymodule.mojo`:"
      ],
      "metadata": {
        "id": "5Ja1lW09kjjP"
      }
    },
    {
      "cell_type": "code",
      "source": [
        "# main.mojo\n",
        "from mymodule import MyPair\n",
        "\n",
        "fn main():\n",
        "    let mine = MyPair(2, 4)\n",
        "    mine.dump()"
      ],
      "metadata": {
        "id": "cpSIDW_vkuHE"
      },
      "execution_count": null,
      "outputs": []
    },
    {
      "cell_type": "markdown",
      "source": [
        "Alternatively, you can import the whole module and then access its members through the module name. For example:"
      ],
      "metadata": {
        "id": "Se2C8AFbk6F7"
      }
    },
    {
      "cell_type": "code",
      "source": [
        "import mymodule\n",
        "\n",
        "fn main():\n",
        "    let mine = mymodule.MyPair(2, 4)\n",
        "    mine.dump()"
      ],
      "metadata": {
        "id": "0ek5lOqsk80T"
      },
      "execution_count": null,
      "outputs": []
    },
    {
      "cell_type": "markdown",
      "source": [
        "You can also create an alias for an imported member with `as`, like this:"
      ],
      "metadata": {
        "id": "GPtlOEiPlAqk"
      }
    },
    {
      "cell_type": "code",
      "source": [
        "import mymodule as my\n",
        "\n",
        "fn main():\n",
        "    let mine = my.MyPair(2, 4)\n",
        "    mine.dump()"
      ],
      "metadata": {
        "id": "xUcIPu0dlDzV"
      },
      "execution_count": null,
      "outputs": []
    },
    {
      "cell_type": "markdown",
      "source": [
        "In this example, it only works when` mymodule.mojo` is in the same directory as `main.mojo`. Currently, you can’t import `.mojo` files as modules if they reside in other directories. That is, unless you treat the directory as a **Mojo package**, as we will discuss in the upcomming video."
      ],
      "metadata": {
        "id": "Hw4fQg0ilP_2"
      }
    },
    {
      "cell_type": "markdown",
      "source": [
        "<hr>\n",
        "\n",
        "*Copyright &copy; 2023 <a href='https://youtube.com/@epythonlab'>Epython Lab</a>.  All rights reserved.*"
      ],
      "metadata": {
        "id": "vqVEy67Ubl_c"
      }
    }
  ]
}