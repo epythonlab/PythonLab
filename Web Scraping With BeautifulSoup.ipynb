{
 "cells": [
  {
   "cell_type": "code",
   "execution_count": 8,
   "id": "cb20b576-2921-4be5-ba64-af418c10d9c6",
   "metadata": {},
   "outputs": [],
   "source": [
    "from bs4 import BeautifulSoup as bs\n",
    "import requests\n",
    "import re\n",
    "import pandas as pd"
   ]
  },
  {
   "cell_type": "code",
   "execution_count": 9,
   "id": "ebfc8df9-622d-473d-9cb8-a609f499c41e",
   "metadata": {},
   "outputs": [],
   "source": [
    "# url to scrape\n",
    "url = \"https://www.ebay.com/sch/i.html?_from=R40&_nkw=laptop&_sacat=175672&_ipg=60\""
   ]
  },
  {
   "cell_type": "code",
   "execution_count": 10,
   "id": "21a46a73-893e-4a59-bd27-eb56aa0799d9",
   "metadata": {},
   "outputs": [],
   "source": [
    "def get_content_per_page(url, pages):\n",
    "    html_contents = []\n",
    "    for i in pages:\n",
    "        \n",
    "        webpage_response = requests.get(url+\"&_pgn={}\".format(i))\n",
    "        soup = bs(webpage_response.content, \"html.parser\")\n",
    "        html_contents.append(soup)\n",
    "      \n",
    "    return html_contents\n",
    "        "
   ]
  },
  {
   "cell_type": "code",
   "execution_count": 11,
   "id": "1bd3b16b-a0b2-4105-b9cf-50837792e573",
   "metadata": {},
   "outputs": [],
   "source": [
    "contents = get_content_per_page(url, [1, 2, 3, 4])"
   ]
  },
  {
   "cell_type": "code",
   "execution_count": 12,
   "id": "cd7a72a7-6c88-4a9b-bb9d-f909f3cc8970",
   "metadata": {},
   "outputs": [],
   "source": [
    "def get_data_per_page(contents=contents):\n",
    "    ebay_data = {'title':[], 'price':[], 'location':[]}\n",
    "    for content in contents:\n",
    "        for i in range(1, 61):\n",
    "            ul_entity = content.find(\"ul\",\n",
    "                                     {\"class\":\"srp-results srp-list clearfix\"}).find_all('li',\n",
    "                                                                                             {'data-view':'mi:1686|iid:{}'.format(i)})\n",
    "            for li in ul_entity:\n",
    "                title = li.find(\"div\", {\"class\":\"s-item__info clearfix\"}).find(\"h3\",{\"class\":\"s-item__title\"}).text\n",
    "                price = li.find(\"div\", {\"class\":\"s-item__detail s-item__detail--primary\"}).text\n",
    "                location = li.find(\"span\", {\"class\":\"s-item__location s-item__itemLocation\"}).text\n",
    "                ebay_data['title'].append(title.strip())\n",
    "                ebay_data['price'].append(price.strip())\n",
    "                ebay_data['location'].append(location.strip())\n",
    "        \n",
    "        \n",
    "    return ebay_data\n",
    "            \n",
    "        \n",
    "    "
   ]
  },
  {
   "cell_type": "code",
   "execution_count": 13,
   "id": "6f93716f-d655-4fdd-9144-3083d486785e",
   "metadata": {},
   "outputs": [],
   "source": [
    "data = get_data_per_page()"
   ]
  },
  {
   "cell_type": "code",
   "execution_count": 14,
   "id": "77df9fb5-cd88-4100-b743-70c408e650c0",
   "metadata": {},
   "outputs": [],
   "source": [
    "df = pd.DataFrame(data)"
   ]
  },
  {
   "cell_type": "code",
   "execution_count": 15,
   "id": "5aa82cfa-9b91-43ba-87b3-625c303b1260",
   "metadata": {},
   "outputs": [],
   "source": [
    "pd.set_option(\"display.max_columns\", 999)\n",
    "pd.set_option(\"display.max_rows\", 999)\n",
    "pd.set_option('max_colwidth', 999)"
   ]
  },
  {
   "cell_type": "code",
   "execution_count": 16,
   "id": "3ed28f0b-c726-4aac-bddc-d75b734fce0b",
   "metadata": {},
   "outputs": [
    {
     "data": {
      "text/html": [
       "<div>\n",
       "<style scoped>\n",
       "    .dataframe tbody tr th:only-of-type {\n",
       "        vertical-align: middle;\n",
       "    }\n",
       "\n",
       "    .dataframe tbody tr th {\n",
       "        vertical-align: top;\n",
       "    }\n",
       "\n",
       "    .dataframe thead th {\n",
       "        text-align: right;\n",
       "    }\n",
       "</style>\n",
       "<table border=\"1\" class=\"dataframe\">\n",
       "  <thead>\n",
       "    <tr style=\"text-align: right;\">\n",
       "      <th></th>\n",
       "      <th>title</th>\n",
       "      <th>price</th>\n",
       "      <th>location</th>\n",
       "    </tr>\n",
       "  </thead>\n",
       "  <tbody>\n",
       "    <tr>\n",
       "      <th>0</th>\n",
       "      <td>CHUWI 11.6in Intel N4020 Laptop Computer Windows 10 4GB 128GB SSD Windows 10</td>\n",
       "      <td>$198.99</td>\n",
       "      <td>from United States</td>\n",
       "    </tr>\n",
       "    <tr>\n",
       "      <th>1</th>\n",
       "      <td>Dell Laptop Latitude Intel i5 16GB RAM 1TB HDD WIFI HDMI Windows 10 Pro PC</td>\n",
       "      <td>$209.95 to $429.95</td>\n",
       "      <td>from United States</td>\n",
       "    </tr>\n",
       "    <tr>\n",
       "      <th>2</th>\n",
       "      <td>HP Chromebook 14-SMB 14\" Laptop Intel Celeron 2GB RAM 16GB eMMC</td>\n",
       "      <td>$47.98</td>\n",
       "      <td>from United States</td>\n",
       "    </tr>\n",
       "    <tr>\n",
       "      <th>3</th>\n",
       "      <td>HP ProBook 4430s 14\" Laptop Computer PC Celeron 8GB Ram 500GB HD WiFi Windows 10</td>\n",
       "      <td>$159.99</td>\n",
       "      <td>from United States</td>\n",
       "    </tr>\n",
       "    <tr>\n",
       "      <th>4</th>\n",
       "      <td>Lenovo Legion 5 17.3\" 144Hz Gaming Laptop R5-5600H 16GB RAM 1TB SSD RTX 3060</td>\n",
       "      <td>$999.99</td>\n",
       "      <td>from United States</td>\n",
       "    </tr>\n",
       "  </tbody>\n",
       "</table>\n",
       "</div>"
      ],
      "text/plain": [
       "                                                                              title  \\\n",
       "0      CHUWI 11.6in Intel N4020 Laptop Computer Windows 10 4GB 128GB SSD Windows 10   \n",
       "1        Dell Laptop Latitude Intel i5 16GB RAM 1TB HDD WIFI HDMI Windows 10 Pro PC   \n",
       "2                   HP Chromebook 14-SMB 14\" Laptop Intel Celeron 2GB RAM 16GB eMMC   \n",
       "3  HP ProBook 4430s 14\" Laptop Computer PC Celeron 8GB Ram 500GB HD WiFi Windows 10   \n",
       "4      Lenovo Legion 5 17.3\" 144Hz Gaming Laptop R5-5600H 16GB RAM 1TB SSD RTX 3060   \n",
       "\n",
       "                price            location  \n",
       "0             $198.99  from United States  \n",
       "1  $209.95 to $429.95  from United States  \n",
       "2              $47.98  from United States  \n",
       "3             $159.99  from United States  \n",
       "4             $999.99  from United States  "
      ]
     },
     "execution_count": 16,
     "metadata": {},
     "output_type": "execute_result"
    }
   ],
   "source": [
    "df.head()"
   ]
  },
  {
   "cell_type": "code",
   "execution_count": 220,
   "id": "b3737dc3-d587-4333-8e33-047bfd00aa1d",
   "metadata": {},
   "outputs": [
    {
     "data": {
      "text/plain": [
       "(240, 3)"
      ]
     },
     "execution_count": 220,
     "metadata": {},
     "output_type": "execute_result"
    }
   ],
   "source": [
    "df.shape"
   ]
  },
  {
   "cell_type": "code",
   "execution_count": 225,
   "id": "316fd7a0-407a-4522-bb0f-ee059a7ae7d1",
   "metadata": {},
   "outputs": [],
   "source": [
    "# convert to csv\n",
    "df.to_csv('ebay_product_info.csv', index=False)"
   ]
  },
  {
   "cell_type": "code",
   "execution_count": null,
   "id": "07bf6d58-ca5a-43e4-b010-60e1f3fb108f",
   "metadata": {},
   "outputs": [],
   "source": []
  },
  {
   "cell_type": "code",
   "execution_count": null,
   "id": "adf9d47c-f58d-4824-9efd-3f397652a89c",
   "metadata": {},
   "outputs": [],
   "source": []
  }
 ],
 "metadata": {
  "kernelspec": {
   "display_name": "Python 3",
   "language": "python",
   "name": "python3"
  },
  "language_info": {
   "codemirror_mode": {
    "name": "ipython",
    "version": 3
   },
   "file_extension": ".py",
   "mimetype": "text/x-python",
   "name": "python",
   "nbconvert_exporter": "python",
   "pygments_lexer": "ipython3",
   "version": "3.9.10"
  },
  "widgets": {
   "application/vnd.jupyter.widget-state+json": {
    "state": {},
    "version_major": 2,
    "version_minor": 0
   }
  }
 },
 "nbformat": 4,
 "nbformat_minor": 5
}
