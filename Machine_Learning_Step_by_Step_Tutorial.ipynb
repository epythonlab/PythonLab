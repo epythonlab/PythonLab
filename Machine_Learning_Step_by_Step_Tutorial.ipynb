{
  "nbformat": 4,
  "nbformat_minor": 0,
  "metadata": {
    "colab": {
      "provenance": [],
      "collapsed_sections": [
        "tdpxeoUMNnlk"
      ],
      "authorship_tag": "ABX9TyNS4HSnFXSUp9e8WFkB1oXP",
      "include_colab_link": true
    },
    "kernelspec": {
      "name": "python3",
      "display_name": "Python 3"
    },
    "language_info": {
      "name": "python"
    }
  },
  "cells": [
    {
      "cell_type": "markdown",
      "metadata": {
        "id": "view-in-github",
        "colab_type": "text"
      },
      "source": [
        "<a href=\"https://colab.research.google.com/github/epythonlab/PythonLab/blob/master/Machine_Learning_Step_by_Step_Tutorial.ipynb\" target=\"_parent\"><img src=\"https://colab.research.google.com/assets/colab-badge.svg\" alt=\"Open In Colab\"/></a>"
      ]
    },
    {
      "cell_type": "markdown",
      "source": [
        "# Linear Regression in Python: Step By Step Tutorial with Example\n"
      ],
      "metadata": {
        "id": "-x5bDpFyMx6L"
      }
    },
    {
      "cell_type": "markdown",
      "source": [
        "## Introduction"
      ],
      "metadata": {
        "id": "87-wYi663LT1"
      }
    },
    {
      "cell_type": "markdown",
      "source": [
        "Welcome to this comprehensive tutorial on linear regression in Python! In this video, I'll walk you through the entire process of building a simple linear regression model from scratch, complete with a real-world example.\n",
        "\n",
        "- 00:00 Introduction\n",
        "- 00:45 What is Linear Regression?\n",
        "- 01:30 Data Collection\n",
        "- 02:15 Data Visualization\n",
        "- 03:20 Model Building with scikit-learn\n",
        "- 04:45 Making Predictions\n",
        "- 05:30 Model Evaluation (MSE and R-squared)\n",
        "- 06:15 Plotting the Regression Line\n",
        "- 07:00 Conclusion and Recap\n",
        "Keywords\n",
        "\n",
        "Linear Regression Python, Linear Regression Tutorial, Linear Regression Example, Simple Linear Regression, Predictive Modeling, scikit-learn, Data Visualization, Model Evaluation, Mean Squared Error, R-squared, Regression Line, Machine Learning Python, Python Tutorial, Data Science, Data Analysis.\n",
        "\n",
        "Don't forget to like, share, and subscribe for more data science and machine learning tutorials! If you have any questions or suggestions for future videos, please leave them in the comments below."
      ],
      "metadata": {
        "id": "7YrWaAU73RS9"
      }
    },
    {
      "cell_type": "markdown",
      "source": [
        "## What is Linear Regression?"
      ],
      "metadata": {
        "id": "tdpxeoUMNnlk"
      }
    },
    {
      "cell_type": "markdown",
      "source": [
        "**Linear regression** is a commonly used statistical method for modeling the relationship between a dependent variable and one or more independent variables by fitting a linear equation to the observed data. The goal is to find the best-fitting line (or hyperplane in the case of multiple independent variables) that minimizes the sum of squared differences between the predicted values and the actual values."
      ],
      "metadata": {
        "id": "bGWwjj7RM4Ks"
      }
    },
    {
      "cell_type": "markdown",
      "source": [
        "- `Dependent Variable:` The variable you want to predict or understand.\n",
        "- `Independent Variable:` The variable(s) that influence or explain the dependent variable."
      ],
      "metadata": {
        "id": "tpzKXbR-TjX7"
      }
    },
    {
      "cell_type": "markdown",
      "source": [
        "In this tutorial, I will show you a step-by-step example of linear regression with a simple single-variable (simple linear regression) example:"
      ],
      "metadata": {
        "id": "6egmSKleNOBj"
      }
    },
    {
      "cell_type": "markdown",
      "source": [
        "## Define the Problem"
      ],
      "metadata": {
        "id": "jdmCKXSlNaFF"
      }
    },
    {
      "cell_type": "markdown",
      "source": [
        "**Problem Statement:** Suppose you want to predict a student's score on a test (dependent variable) based on the number of hours they studied (independent variable). You have collected data on several students, including their study hours and test scores, and you want to build a linear regression model to make predictions."
      ],
      "metadata": {
        "id": "u3ah7TVFNjWs"
      }
    },
    {
      "cell_type": "markdown",
      "source": [
        "## Step 1: Data Collection\n",
        "\n"
      ],
      "metadata": {
        "id": "WYyHq_00OC_k"
      }
    },
    {
      "cell_type": "markdown",
      "source": [
        "Collect data on study hours (independent variable) and test scores (dependent variable) for a group of students. Here's a simplified dataset:"
      ],
      "metadata": {
        "id": "naPaBvzROM42"
      }
    },
    {
      "cell_type": "markdown",
      "source": [
        "<table>\n",
        "\n",
        "<th>Study Hours (X)</th>\n",
        "<th>Test Scores (Y)</th>\n",
        "<tr><td>2</td><td>50</td></tr>\n",
        "<tr><td>3</td><td>60</td></tr>\n",
        "<tr><td>4</td><td>70</td></tr>\n",
        "<tr><td>5</td><td>75</td></tr>\n",
        "<tr><td>6</td><td>80</td></tr>\n",
        "\n",
        "\n",
        "</table>"
      ],
      "metadata": {
        "id": "aKa96uKnOdnk"
      }
    },
    {
      "cell_type": "markdown",
      "source": [
        "## Step 2: Data Visualization\n"
      ],
      "metadata": {
        "id": "DZAZh53wPpns"
      }
    },
    {
      "cell_type": "markdown",
      "source": [
        "Visualize the data using a scatter plot to understand the relationship between study hours and test scores. This will help you determine if a linear relationship exists."
      ],
      "metadata": {
        "id": "yODeG35zPtbj"
      }
    },
    {
      "cell_type": "code",
      "execution_count": null,
      "metadata": {
        "colab": {
          "base_uri": "https://localhost:8080/",
          "height": 472
        },
        "id": "JIqK1zV0MqDG",
        "outputId": "c31d1c29-76dd-4c8b-8564-c5553c921c01"
      },
      "outputs": [
        {
          "output_type": "display_data",
          "data": {
            "text/plain": [
              "<Figure size 640x480 with 1 Axes>"
            ],
            "image/png": "[encoded data removed]"
          },
          "metadata": {}
        }
      ],
      "source": [
        "import matplotlib.pyplot as plt\n",
        "\n",
        "# data\n",
        "study_hours = [2, 3, 4, 5, 6]\n",
        "test_scores = [50, 60, 70, 75, 80]\n",
        "\n",
        "# scatter plot\n",
        "plt.scatter(study_hours, test_scores)\n",
        "plt.title(\"Study hours vs Test Scores\")\n",
        "plt.xlabel('Study hours')\n",
        "plt.ylabel('Test Scores')\n",
        "plt.show()"
      ]
    },
    {
      "cell_type": "markdown",
      "source": [
        "From the scatter plot, it appears that there is a linear relationship between study hours and test scores. As study hours increase, test scores generally tend to increase as well."
      ],
      "metadata": {
        "id": "dOFcSKAWP198"
      }
    },
    {
      "cell_type": "markdown",
      "source": [
        "## Step 3: Model Building\n"
      ],
      "metadata": {
        "id": "5i8-fc5IP9Yk"
      }
    },
    {
      "cell_type": "markdown",
      "source": [
        "Build a linear regression model to fit the data. The equation for a simple linear regression model is:\n",
        "\n",
        "`Y = b0 + b1 * X`\n",
        "\n",
        "\n",
        "Where:\n",
        "`Y` is the predicted test score.\n",
        "`X` is the study hours.\n",
        "`b0` is the intercept (constant).\n",
        "\n",
        "`b1` is the slope (coefficient) that represents the change in test score for each additional study hour.\n",
        "You can use various methods to calculate\n",
        "`b0` and `b1`, such as the least squares method. In Python, you can use libraries like `NumPy` or `scikit-learn` to perform linear regression. Here's an example using scikit-learn:"
      ],
      "metadata": {
        "id": "Am_An13qQCif"
      }
    },
    {
      "cell_type": "code",
      "source": [
        "\n",
        "# import LinearRegression from scikit-learn module\n",
        "from sklearn.linear_model import LinearRegression\n",
        "import numpy as np\n",
        "# reshape the data\n",
        "study_hours = np.array(study_hours).reshape(-1, 1)\n",
        "test_scores = np.array(test_scores)"
      ],
      "metadata": {
        "id": "l9pfu4YKQpTX"
      },
      "execution_count": null,
      "outputs": []
    },
    {
      "cell_type": "code",
      "source": [
        "# create linear regression model\n",
        "model = LinearRegression()\n",
        "\n",
        "# fit the model to the data\n",
        "model.fit(study_hours, test_scores)\n",
        "\n"
      ],
      "metadata": {
        "colab": {
          "base_uri": "https://localhost:8080/",
          "height": 75
        },
        "id": "diMNHvZ6cVxU",
        "outputId": "e5fcf06a-37b5-495e-9431-2a8942097e13"
      },
      "execution_count": null,
      "outputs": [
        {
          "output_type": "execute_result",
          "data": {
            "text/plain": [
              "LinearRegression()"
            ],
            "text/html": [
              "<style>#sk-container-id-1 {color: black;background-color: white;}#sk-container-id-1 pre{padding: 0;}#sk-container-id-1 div.sk-toggleable {background-color: white;}#sk-container-id-1 label.sk-toggleable__label {cursor: pointer;display: block;width: 100%;margin-bottom: 0;padding: 0.3em;box-sizing: border-box;text-align: center;}#sk-container-id-1 label.sk-toggleable__label-arrow:before {content: \"▸\";float: left;margin-right: 0.25em;color: #696969;}#sk-container-id-1 label.sk-toggleable__label-arrow:hover:before {color: black;}#sk-container-id-1 div.sk-estimator:hover label.sk-toggleable__label-arrow:before {color: black;}#sk-container-id-1 div.sk-toggleable__content {max-height: 0;max-width: 0;overflow: hidden;text-align: left;background-color: #f0f8ff;}#sk-container-id-1 div.sk-toggleable__content pre {margin: 0.2em;color: black;border-radius: 0.25em;background-color: #f0f8ff;}#sk-container-id-1 input.sk-toggleable__control:checked~div.sk-toggleable__content {max-height: 200px;max-width: 100%;overflow: auto;}#sk-container-id-1 input.sk-toggleable__control:checked~label.sk-toggleable__label-arrow:before {content: \"▾\";}#sk-container-id-1 div.sk-estimator input.sk-toggleable__control:checked~label.sk-toggleable__label {background-color: #d4ebff;}#sk-container-id-1 div.sk-label input.sk-toggleable__control:checked~label.sk-toggleable__label {background-color: #d4ebff;}#sk-container-id-1 input.sk-hidden--visually {border: 0;clip: rect(1px 1px 1px 1px);clip: rect(1px, 1px, 1px, 1px);height: 1px;margin: -1px;overflow: hidden;padding: 0;position: absolute;width: 1px;}#sk-container-id-1 div.sk-estimator {font-family: monospace;background-color: #f0f8ff;border: 1px dotted black;border-radius: 0.25em;box-sizing: border-box;margin-bottom: 0.5em;}#sk-container-id-1 div.sk-estimator:hover {background-color: #d4ebff;}#sk-container-id-1 div.sk-parallel-item::after {content: \"\";width: 100%;border-bottom: 1px solid gray;flex-grow: 1;}#sk-container-id-1 div.sk-label:hover label.sk-toggleable__label {background-color: #d4ebff;}#sk-container-id-1 div.sk-serial::before {content: \"\";position: absolute;border-left: 1px solid gray;box-sizing: border-box;top: 0;bottom: 0;left: 50%;z-index: 0;}#sk-container-id-1 div.sk-serial {display: flex;flex-direction: column;align-items: center;background-color: white;padding-right: 0.2em;padding-left: 0.2em;position: relative;}#sk-container-id-1 div.sk-item {position: relative;z-index: 1;}#sk-container-id-1 div.sk-parallel {display: flex;align-items: stretch;justify-content: center;background-color: white;position: relative;}#sk-container-id-1 div.sk-item::before, #sk-container-id-1 div.sk-parallel-item::before {content: \"\";position: absolute;border-left: 1px solid gray;box-sizing: border-box;top: 0;bottom: 0;left: 50%;z-index: -1;}#sk-container-id-1 div.sk-parallel-item {display: flex;flex-direction: column;z-index: 1;position: relative;background-color: white;}#sk-container-id-1 div.sk-parallel-item:first-child::after {align-self: flex-end;width: 50%;}#sk-container-id-1 div.sk-parallel-item:last-child::after {align-self: flex-start;width: 50%;}#sk-container-id-1 div.sk-parallel-item:only-child::after {width: 0;}#sk-container-id-1 div.sk-dashed-wrapped {border: 1px dashed gray;margin: 0 0.4em 0.5em 0.4em;box-sizing: border-box;padding-bottom: 0.4em;background-color: white;}#sk-container-id-1 div.sk-label label {font-family: monospace;font-weight: bold;display: inline-block;line-height: 1.2em;}#sk-container-id-1 div.sk-label-container {text-align: center;}#sk-container-id-1 div.sk-container {/* jupyter's `normalize.less` sets `[hidden] { display: none; }` but bootstrap.min.css set `[hidden] { display: none !important; }` so we also need the `!important` here to be able to override the default hidden behavior on the sphinx rendered scikit-learn.org. See: https://github.com/scikit-learn/scikit-learn/issues/21755 */display: inline-block !important;position: relative;}#sk-container-id-1 div.sk-text-repr-fallback {display: none;}</style><div id=\"sk-container-id-1\" class=\"sk-top-container\"><div class=\"sk-text-repr-fallback\"><pre>LinearRegression()</pre><b>In a Jupyter environment, please rerun this cell to show the HTML representation or trust the notebook. <br />On GitHub, the HTML representation is unable to render, please try loading this page with nbviewer.org.</b></div><div class=\"sk-container\" hidden><div class=\"sk-item\"><div class=\"sk-estimator sk-toggleable\"><input class=\"sk-toggleable__control sk-hidden--visually\" id=\"sk-estimator-id-1\" type=\"checkbox\" checked><label for=\"sk-estimator-id-1\" class=\"sk-toggleable__label sk-toggleable__label-arrow\">LinearRegression</label><div class=\"sk-toggleable__content\"><pre>LinearRegression()</pre></div></div></div></div></div>"
            ]
          },
          "metadata": {},
          "execution_count": 4
        }
      ]
    },
    {
      "cell_type": "code",
      "source": [
        "# get the intecept and slope\n",
        "b0 = model.intercept_\n",
        "b1 = model.coef_[0]\n",
        "print(b0, b1)"
      ],
      "metadata": {
        "colab": {
          "base_uri": "https://localhost:8080/"
        },
        "id": "soH7gpLJcm6V",
        "outputId": "f07414d9-0726-411e-8dcf-ee1717497824"
      },
      "execution_count": null,
      "outputs": [
        {
          "output_type": "stream",
          "name": "stdout",
          "text": [
            "37.0 7.500000000000001\n"
          ]
        }
      ]
    },
    {
      "cell_type": "markdown",
      "source": [
        "## Step 4: Make Predictions\n",
        "Once you have the model coefficients `(b0 and b1)`, you can make predictions for test scores based on new study hours."
      ],
      "metadata": {
        "id": "mrF3c8gRQxC8"
      }
    },
    {
      "cell_type": "code",
      "source": [
        "# predict test scores for new study hours\n",
        "new_study_hours = [6, 7, 8, 9]\n",
        "# y = b0 + b1 * x\n",
        "predicted_scores = model.predict(np.array(new_study_hours).reshape(-1, 1))\n",
        "\n",
        "for i, hours in enumerate(new_study_hours):\n",
        "  print(f'Predicted score for {hours} hours of study : {predicted_scores[i]}')"
      ],
      "metadata": {
        "colab": {
          "base_uri": "https://localhost:8080/"
        },
        "id": "aB1F_b45RJpS",
        "outputId": "6449dfb9-da1b-45d3-a5ff-5837148d4d95"
      },
      "execution_count": null,
      "outputs": [
        {
          "output_type": "stream",
          "name": "stdout",
          "text": [
            "Predicted score for 6 hours of study : 82.0\n",
            "Predicted score for 7 hours of study : 89.5\n",
            "Predicted score for 8 hours of study : 97.0\n",
            "Predicted score for 9 hours of study : 104.50000000000001\n"
          ]
        }
      ]
    },
    {
      "cell_type": "markdown",
      "source": [
        "## Step 5: Plotting the Regression Line\n"
      ],
      "metadata": {
        "id": "kmNetAQkRPpy"
      }
    },
    {
      "cell_type": "markdown",
      "source": [
        "To plot a regression line on a scatter plot in Python, you can use the coefficients obtained from your linear regression model to create the line.\n",
        "\n",
        "Assuming you already have a fitted linear regression model (model), here are the steps to plot the regression line:"
      ],
      "metadata": {
        "id": "sW2HarwiRSsq"
      }
    },
    {
      "cell_type": "code",
      "source": [
        "import matplotlib.pyplot as plt\n",
        "import numpy as np\n",
        "\n",
        "# Scatter plot of the data points\n",
        "plt.scatter(study_hours, test_scores, label='Data points')\n",
        "plt.title('Study Hours vs. Test Scores')\n",
        "plt.xlabel('Study Hours')\n",
        "plt.ylabel('Test Scores')\n",
        "\n",
        "# Generate a range of study hours for the regression line\n",
        "x_range = np.linspace(min(study_hours), max(study_hours), 100).reshape(-1, 1)\n",
        "# print(x_range)\n",
        "# Predict test scores for the x_range using the model\n",
        "predicted_scores = model.predict(x_range)\n",
        "\n",
        "# Plot the regression line\n",
        "plt.plot(x_range, predicted_scores, color='red', linewidth=2,\n",
        "         label='Regression Line')\n",
        "\n",
        "# Show legend\n",
        "plt.legend()\n",
        "\n",
        "# Display the plot\n",
        "plt.show()\n"
      ],
      "metadata": {
        "colab": {
          "base_uri": "https://localhost:8080/",
          "height": 472
        },
        "id": "tmOo26J_Rg0b",
        "outputId": "6a83a655-a0f5-4b90-a1c2-2cebfb2e1b3f"
      },
      "execution_count": null,
      "outputs": [
        {
          "output_type": "display_data",
          "data": {
            "text/plain": [
              "<Figure size 640x480 with 1 Axes>"
            ],
            "image/png": "[encoded data removed]"
          },
          "metadata": {}
        }
      ]
    },
    {
      "cell_type": "markdown",
      "source": [
        "I've generated a range of study hours (`x_range`) to create the x-values for the regression line. It covers the same range as your observed data points.\n",
        "\n",
        "I used the `model.predict` method to predict the corresponding test scores (`predicted_scores`) for the `x_range`.\n",
        "\n",
        "Finally, I used `plt.plot` to plot the regression line on the scatter plot, setting the line color to red and adjusting its linewidth. The label parameter adds a label for the legend.\n",
        "\n",
        "Don't forget to call `plt.legend()` to display the legend and `plt.show(`) to show the plot."
      ],
      "metadata": {
        "id": "Zkt81VVaSAEK"
      }
    },
    {
      "cell_type": "markdown",
      "source": [
        "# Conclusion"
      ],
      "metadata": {
        "id": "bdbIGnO1RfyW"
      }
    },
    {
      "cell_type": "markdown",
      "source": [
        "This example demonstrates the basic steps of simple linear regression. In practice, you may encounter more complex regression scenarios with multiple independent variables (multiple linear regression) or non-linear relationships (polynomial regression), but the fundamental principles remain similar.\n",
        "\n"
      ],
      "metadata": {
        "id": "kF7j9d7HRv7C"
      }
    },
    {
      "cell_type": "markdown",
      "source": [
        "# Multiple Linear Regression in Python: Beginer's Guide"
      ],
      "metadata": {
        "id": "RzZ2Xr_b6MKQ"
      }
    },
    {
      "cell_type": "markdown",
      "source": [
        "## Description"
      ],
      "metadata": {
        "id": "irNIzEG5y2_H"
      }
    },
    {
      "cell_type": "markdown",
      "source": [
        "Multivariable linear regression, also known as multiple linear regression, is a statistical method used for modeling the relationship between a dependent variable and multiple independent variables.\n",
        "\n",
        "It extends the concept of simple linear regression, where there is only one independent variable, to situations where there are two or more independent variables that may affect the dependent variable.\n",
        "\n",
        "\n",
        "In this tutorial, I'll demonstrate how to perform multiple linear regression using Python and the popular `scikit-learn` library. I'll use a synthetic dataset for simplicity."
      ],
      "metadata": {
        "id": "mbD1wQopxrvY"
      }
    },
    {
      "cell_type": "markdown",
      "source": [
        "## Introduction"
      ],
      "metadata": {
        "id": "VmcdJTvOyzZp"
      }
    },
    {
      "cell_type": "markdown",
      "source": [
        "In multivariable linear regression, the goal is to find a linear equation that best describes the relationship between the dependent variable (often denoted as `\"Y\"`) and the independent variables (often denoted as `\"X1,\" \"X2,`\" etc.). The linear equation takes the following form:\n",
        "\n",
        "`Y = β0 + β1X1 + β2X2 + ... + βnXn + ε`\n",
        "\n",
        "Where:\n",
        "\n",
        "- `Y` is the dependent variable (the one you want to predict or explain).\n",
        "`X1, X2`, ..., `Xn` are the independent variables (features or predictors).\n",
        "- `β0` is the intercept (the value of Y when all independent variables are zero).\n",
        "- `β1, β2, ..., βn` are the coefficients that represent the change in Y for a one-unit change in each corresponding independent variable while holding all other variables constant.\n",
        "\n",
        "- `ε` represents the error term, which accounts for the variability in Y that cannot be explained by the linear relationship with the independent variables."
      ],
      "metadata": {
        "id": "vn34ItBMyiDf"
      }
    },
    {
      "cell_type": "markdown",
      "source": [
        "## Step by step implementation\n"
      ],
      "metadata": {
        "id": "KJsje0OO0EfR"
      }
    },
    {
      "cell_type": "markdown",
      "source": [
        "Implementing multivariable linear regression involves several steps, including **data preparation**, **model building**, and **evaluation**. Here, I'll provide a detailed implementation example in Python using the `**scikit-learn**` library, a popular machine learning library for Python. I'll use a sample dataset to illustrate the process. Make sure you have `**scikit-learn**` installed; you can install it using `pip` if you haven't already:\n",
        "\n",
        "\n"
      ],
      "metadata": {
        "id": "HsErGPlA0JTy"
      }
    },
    {
      "cell_type": "markdown",
      "source": [
        "## Step 1: Install Necessary Libraries"
      ],
      "metadata": {
        "id": "4j3Vt8QG08pK"
      }
    },
    {
      "cell_type": "code",
      "source": [
        "# !pip install scikit-learn"
      ],
      "metadata": {
        "id": "3j5r_5mt00xf"
      },
      "execution_count": null,
      "outputs": []
    },
    {
      "cell_type": "markdown",
      "source": [
        "## Step 2: Import Libraries\n",
        "In your Python script or Jupyter Notebook, start by importing the necessary libraries:"
      ],
      "metadata": {
        "id": "UR0AFk5t03TT"
      }
    },
    {
      "cell_type": "code",
      "source": [
        "import numpy as np\n",
        "import pandas as pd\n",
        "import matplotlib.pyplot as plt\n",
        "from sklearn.model_selection import train_test_split\n",
        "from sklearn.linear_model import LinearRegression\n",
        "from sklearn.metrics import mean_squared_error, r2_score\n"
      ],
      "metadata": {
        "id": "DlLKKt931HOn"
      },
      "execution_count": null,
      "outputs": []
    },
    {
      "cell_type": "markdown",
      "source": [
        "## Step 3: Load Your Dataset\n",
        "You'll need a dataset with multiple independent variables and one dependent variable. You can use your own dataset or create a synthetic one as an example. For this guide, I'll create a simple synthetic dataset:"
      ],
      "metadata": {
        "id": "-ZlExr4O0jp0"
      }
    },
    {
      "cell_type": "code",
      "source": [
        "# Set a random seed for reproducibility\n",
        "np.random.seed(0)\n",
        "\n",
        "# Generate random data for X1, X2, and Y\n",
        "num_samples = 100\n",
        "\n",
        "X1 = np.random.randint(1, 100, size=num_samples)\n",
        "X2 = np.random.randint(1, 100, size=num_samples)\n",
        "Y = 2 * X1 + 3 * X2 + np.random.randint(-10, 10, size=num_samples)\n",
        "\n",
        "# Create a DataFrame\n",
        "data = pd.DataFrame({'X1': X1, 'X2': X2, 'Y': Y})\n",
        "\n",
        "df = pd.DataFrame(data)\n",
        "df.head()"
      ],
      "metadata": {
        "colab": {
          "base_uri": "https://localhost:8080/",
          "height": 206
        },
        "id": "hNqtFOYT2wxE",
        "outputId": "1df7fb9d-3901-46ec-ec2e-3dfc66528de2"
      },
      "execution_count": null,
      "outputs": [
        {
          "output_type": "execute_result",
          "data": {
            "text/plain": [
              "   X1  X2    Y\n",
              "0  45  36  203\n",
              "1  48  65  290\n",
              "2  65  96  426\n",
              "3  68  70  344\n",
              "4  68  95  426"
            ],
            "text/html": [
              "\n",
              "  <div id=\"df-a8f48d68-60aa-4fdf-be92-535521be57a6\" class=\"colab-df-container\">\n",
              "    <div>\n",
              "<style scoped>\n",
              "    .dataframe tbody tr th:only-of-type {\n",
              "        vertical-align: middle;\n",
              "    }\n",
              "\n",
              "    .dataframe tbody tr th {\n",
              "        vertical-align: top;\n",
              "    }\n",
              "\n",
              "    .dataframe thead th {\n",
              "        text-align: right;\n",
              "    }\n",
              "</style>\n",
              "<table border=\"1\" class=\"dataframe\">\n",
              "  <thead>\n",
              "    <tr style=\"text-align: right;\">\n",
              "      <th></th>\n",
              "      <th>X1</th>\n",
              "      <th>X2</th>\n",
              "      <th>Y</th>\n",
              "    </tr>\n",
              "  </thead>\n",
              "  <tbody>\n",
              "    <tr>\n",
              "      <th>0</th>\n",
              "      <td>45</td>\n",
              "      <td>36</td>\n",
              "      <td>203</td>\n",
              "    </tr>\n",
              "    <tr>\n",
              "      <th>1</th>\n",
              "      <td>48</td>\n",
              "      <td>65</td>\n",
              "      <td>290</td>\n",
              "    </tr>\n",
              "    <tr>\n",
              "      <th>2</th>\n",
              "      <td>65</td>\n",
              "      <td>96</td>\n",
              "      <td>426</td>\n",
              "    </tr>\n",
              "    <tr>\n",
              "      <th>3</th>\n",
              "      <td>68</td>\n",
              "      <td>70</td>\n",
              "      <td>344</td>\n",
              "    </tr>\n",
              "    <tr>\n",
              "      <th>4</th>\n",
              "      <td>68</td>\n",
              "      <td>95</td>\n",
              "      <td>426</td>\n",
              "    </tr>\n",
              "  </tbody>\n",
              "</table>\n",
              "</div>\n",
              "    <div class=\"colab-df-buttons\">\n",
              "\n",
              "  <div class=\"colab-df-container\">\n",
              "    <button class=\"colab-df-convert\" onclick=\"convertToInteractive('df-a8f48d68-60aa-4fdf-be92-535521be57a6')\"\n",
              "            title=\"Convert this dataframe to an interactive table.\"\n",
              "            style=\"display:none;\">\n",
              "\n",
              "  <svg xmlns=\"http://www.w3.org/2000/svg\" height=\"24px\" viewBox=\"0 -960 960 960\">\n",
              "    <path d=\"M120-120v-720h720v720H120Zm60-500h600v-160H180v160Zm220 220h160v-160H400v160Zm0 220h160v-160H400v160ZM180-400h160v-160H180v160Zm440 0h160v-160H620v160ZM180-180h160v-160H180v160Zm440 0h160v-160H620v160Z\"/>\n",
              "  </svg>\n",
              "    </button>\n",
              "\n",
              "  <style>\n",
              "    .colab-df-container {\n",
              "      display:flex;\n",
              "      gap: 12px;\n",
              "    }\n",
              "\n",
              "    .colab-df-convert {\n",
              "      background-color: #E8F0FE;\n",
              "      border: none;\n",
              "      border-radius: 50%;\n",
              "      cursor: pointer;\n",
              "      display: none;\n",
              "      fill: #1967D2;\n",
              "      height: 32px;\n",
              "      padding: 0 0 0 0;\n",
              "      width: 32px;\n",
              "    }\n",
              "\n",
              "    .colab-df-convert:hover {\n",
              "      background-color: #E2EBFA;\n",
              "      box-shadow: 0px 1px 2px rgba(60, 64, 67, 0.3), 0px 1px 3px 1px rgba(60, 64, 67, 0.15);\n",
              "      fill: #174EA6;\n",
              "    }\n",
              "\n",
              "    .colab-df-buttons div {\n",
              "      margin-bottom: 4px;\n",
              "    }\n",
              "\n",
              "    [theme=dark] .colab-df-convert {\n",
              "      background-color: #3B4455;\n",
              "      fill: #D2E3FC;\n",
              "    }\n",
              "\n",
              "    [theme=dark] .colab-df-convert:hover {\n",
              "      background-color: #434B5C;\n",
              "      box-shadow: 0px 1px 3px 1px rgba(0, 0, 0, 0.15);\n",
              "      filter: drop-shadow(0px 1px 2px rgba(0, 0, 0, 0.3));\n",
              "      fill: #FFFFFF;\n",
              "    }\n",
              "  </style>\n",
              "\n",
              "    <script>\n",
              "      const buttonEl =\n",
              "        document.querySelector('#df-a8f48d68-60aa-4fdf-be92-535521be57a6 button.colab-df-convert');\n",
              "      buttonEl.style.display =\n",
              "        google.colab.kernel.accessAllowed ? 'block' : 'none';\n",
              "\n",
              "      async function convertToInteractive(key) {\n",
              "        const element = document.querySelector('#df-a8f48d68-60aa-4fdf-be92-535521be57a6');\n",
              "        const dataTable =\n",
              "          await google.colab.kernel.invokeFunction('convertToInteractive',\n",
              "                                                    [key], {});\n",
              "        if (!dataTable) return;\n",
              "\n",
              "        const docLinkHtml = 'Like what you see? Visit the ' +\n",
              "          '<a target=\"_blank\" href=https://colab.research.google.com/notebooks/data_table.ipynb>data table notebook</a>'\n",
              "          + ' to learn more about interactive tables.';\n",
              "        element.innerHTML = '';\n",
              "        dataTable['output_type'] = 'display_data';\n",
              "        await google.colab.output.renderOutput(dataTable, element);\n",
              "        const docLink = document.createElement('div');\n",
              "        docLink.innerHTML = docLinkHtml;\n",
              "        element.appendChild(docLink);\n",
              "      }\n",
              "    </script>\n",
              "  </div>\n",
              "\n",
              "\n",
              "<div id=\"df-7c7d2ac1-1f2b-42b5-8140-221c377e0926\">\n",
              "  <button class=\"colab-df-quickchart\" onclick=\"quickchart('df-7c7d2ac1-1f2b-42b5-8140-221c377e0926')\"\n",
              "            title=\"Suggest charts.\"\n",
              "            style=\"display:none;\">\n",
              "\n",
              "<svg xmlns=\"http://www.w3.org/2000/svg\" height=\"24px\"viewBox=\"0 0 24 24\"\n",
              "     width=\"24px\">\n",
              "    <g>\n",
              "        <path d=\"M19 3H5c-1.1 0-2 .9-2 2v14c0 1.1.9 2 2 2h14c1.1 0 2-.9 2-2V5c0-1.1-.9-2-2-2zM9 17H7v-7h2v7zm4 0h-2V7h2v10zm4 0h-2v-4h2v4z\"/>\n",
              "    </g>\n",
              "</svg>\n",
              "  </button>\n",
              "\n",
              "<style>\n",
              "  .colab-df-quickchart {\n",
              "      --bg-color: #E8F0FE;\n",
              "      --fill-color: #1967D2;\n",
              "      --hover-bg-color: #E2EBFA;\n",
              "      --hover-fill-color: #174EA6;\n",
              "      --disabled-fill-color: #AAA;\n",
              "      --disabled-bg-color: #DDD;\n",
              "  }\n",
              "\n",
              "  [theme=dark] .colab-df-quickchart {\n",
              "      --bg-color: #3B4455;\n",
              "      --fill-color: #D2E3FC;\n",
              "      --hover-bg-color: #434B5C;\n",
              "      --hover-fill-color: #FFFFFF;\n",
              "      --disabled-bg-color: #3B4455;\n",
              "      --disabled-fill-color: #666;\n",
              "  }\n",
              "\n",
              "  .colab-df-quickchart {\n",
              "    background-color: var(--bg-color);\n",
              "    border: none;\n",
              "    border-radius: 50%;\n",
              "    cursor: pointer;\n",
              "    display: none;\n",
              "    fill: var(--fill-color);\n",
              "    height: 32px;\n",
              "    padding: 0;\n",
              "    width: 32px;\n",
              "  }\n",
              "\n",
              "  .colab-df-quickchart:hover {\n",
              "    background-color: var(--hover-bg-color);\n",
              "    box-shadow: 0 1px 2px rgba(60, 64, 67, 0.3), 0 1px 3px 1px rgba(60, 64, 67, 0.15);\n",
              "    fill: var(--button-hover-fill-color);\n",
              "  }\n",
              "\n",
              "  .colab-df-quickchart-complete:disabled,\n",
              "  .colab-df-quickchart-complete:disabled:hover {\n",
              "    background-color: var(--disabled-bg-color);\n",
              "    fill: var(--disabled-fill-color);\n",
              "    box-shadow: none;\n",
              "  }\n",
              "\n",
              "  .colab-df-spinner {\n",
              "    border: 2px solid var(--fill-color);\n",
              "    border-color: transparent;\n",
              "    border-bottom-color: var(--fill-color);\n",
              "    animation:\n",
              "      spin 1s steps(1) infinite;\n",
              "  }\n",
              "\n",
              "  @keyframes spin {\n",
              "    0% {\n",
              "      border-color: transparent;\n",
              "      border-bottom-color: var(--fill-color);\n",
              "      border-left-color: var(--fill-color);\n",
              "    }\n",
              "    20% {\n",
              "      border-color: transparent;\n",
              "      border-left-color: var(--fill-color);\n",
              "      border-top-color: var(--fill-color);\n",
              "    }\n",
              "    30% {\n",
              "      border-color: transparent;\n",
              "      border-left-color: var(--fill-color);\n",
              "      border-top-color: var(--fill-color);\n",
              "      border-right-color: var(--fill-color);\n",
              "    }\n",
              "    40% {\n",
              "      border-color: transparent;\n",
              "      border-right-color: var(--fill-color);\n",
              "      border-top-color: var(--fill-color);\n",
              "    }\n",
              "    60% {\n",
              "      border-color: transparent;\n",
              "      border-right-color: var(--fill-color);\n",
              "    }\n",
              "    80% {\n",
              "      border-color: transparent;\n",
              "      border-right-color: var(--fill-color);\n",
              "      border-bottom-color: var(--fill-color);\n",
              "    }\n",
              "    90% {\n",
              "      border-color: transparent;\n",
              "      border-bottom-color: var(--fill-color);\n",
              "    }\n",
              "  }\n",
              "</style>\n",
              "\n",
              "  <script>\n",
              "    async function quickchart(key) {\n",
              "      const quickchartButtonEl =\n",
              "        document.querySelector('#' + key + ' button');\n",
              "      quickchartButtonEl.disabled = true;  // To prevent multiple clicks.\n",
              "      quickchartButtonEl.classList.add('colab-df-spinner');\n",
              "      try {\n",
              "        const charts = await google.colab.kernel.invokeFunction(\n",
              "            'suggestCharts', [key], {});\n",
              "      } catch (error) {\n",
              "        console.error('Error during call to suggestCharts:', error);\n",
              "      }\n",
              "      quickchartButtonEl.classList.remove('colab-df-spinner');\n",
              "      quickchartButtonEl.classList.add('colab-df-quickchart-complete');\n",
              "    }\n",
              "    (() => {\n",
              "      let quickchartButtonEl =\n",
              "        document.querySelector('#df-7c7d2ac1-1f2b-42b5-8140-221c377e0926 button');\n",
              "      quickchartButtonEl.style.display =\n",
              "        google.colab.kernel.accessAllowed ? 'block' : 'none';\n",
              "    })();\n",
              "  </script>\n",
              "</div>\n",
              "    </div>\n",
              "  </div>\n"
            ]
          },
          "metadata": {},
          "execution_count": 25
        }
      ]
    },
    {
      "cell_type": "markdown",
      "source": [
        "## Step 4: Variables Relationship with Scatter Plot\n",
        "Let's visualize the relationship between the independent variables (X1 and X2) and the dependent variable (y) using scatter plots:"
      ],
      "metadata": {
        "id": "JMq1cehP5TgD"
      }
    },
    {
      "cell_type": "code",
      "source": [
        "\n",
        "# Scatter plot for X1 vs. Y\n",
        "plt.scatter(df['X1'], df['Y'], label='X1 vs. Y')\n",
        "# Scatter plot for X2 vs. Y\n",
        "plt.scatter(df['X2'], df['Y'], label='X2 vs. Y', color='orange')\n",
        "plt.xlabel('X1 and X2')\n",
        "plt.ylabel('Y')\n",
        "plt.title('Multivariable Linear Regression')\n",
        "plt.legend()\n",
        "plt.show()"
      ],
      "metadata": {
        "colab": {
          "base_uri": "https://localhost:8080/",
          "height": 472
        },
        "id": "zlTRB3LH5XHe",
        "outputId": "59aec302-950f-44c1-8f32-b8db7c87ed5f"
      },
      "execution_count": null,
      "outputs": [
        {
          "output_type": "display_data",
          "data": {
            "text/plain": [
              "<Figure size 640x480 with 1 Axes>"
            ],
            "image/png": "[encoded data removed]"
          },
          "metadata": {}
        }
      ]
    },
    {
      "cell_type": "markdown",
      "source": [
        "The scatter plots visually represent the relationship between `X1` and `Y` and between `X2` and `Y`. They show how the dependent variable `Y` varies with changes in the independent variables `X1 and X2`."
      ],
      "metadata": {
        "id": "atmm6yCf5b0A"
      }
    },
    {
      "cell_type": "markdown",
      "source": [
        "## Step 5: Split the Data\n",
        "Next, you'll split your dataset into a training set and a testing set to evaluate the model's performance:"
      ],
      "metadata": {
        "id": "_ekR_lhE236M"
      }
    },
    {
      "cell_type": "code",
      "source": [
        "X = df[['X1', 'X2']]  # Independent variables\n",
        "y = df['Y']           # Dependent variable\n",
        "\n",
        "X_train, X_test, y_train, y_test = train_test_split(X, y, test_size=0.2, random_state=42)\n"
      ],
      "metadata": {
        "id": "V6Y1gGAP2-EU"
      },
      "execution_count": null,
      "outputs": []
    },
    {
      "cell_type": "markdown",
      "source": [
        "## Step 6: Create and Train the Model\n",
        "Now, create a `LinearRegression` model and fit it to the training data:"
      ],
      "metadata": {
        "id": "prVGYFyE29IN"
      }
    },
    {
      "cell_type": "code",
      "source": [
        "# Create and fit the linear regression model\n",
        " # (already shown in the previous example)\n",
        "model = LinearRegression()\n",
        "model.fit(X_train, y_train)\n"
      ],
      "metadata": {
        "colab": {
          "base_uri": "https://localhost:8080/",
          "height": 75
        },
        "id": "50r3z2UB3LrW",
        "outputId": "5d64f606-402f-4556-9c81-9ce4f79aad02"
      },
      "execution_count": null,
      "outputs": [
        {
          "output_type": "execute_result",
          "data": {
            "text/plain": [
              "LinearRegression()"
            ],
            "text/html": [
              "<style>#sk-container-id-3 {color: black;background-color: white;}#sk-container-id-3 pre{padding: 0;}#sk-container-id-3 div.sk-toggleable {background-color: white;}#sk-container-id-3 label.sk-toggleable__label {cursor: pointer;display: block;width: 100%;margin-bottom: 0;padding: 0.3em;box-sizing: border-box;text-align: center;}#sk-container-id-3 label.sk-toggleable__label-arrow:before {content: \"▸\";float: left;margin-right: 0.25em;color: #696969;}#sk-container-id-3 label.sk-toggleable__label-arrow:hover:before {color: black;}#sk-container-id-3 div.sk-estimator:hover label.sk-toggleable__label-arrow:before {color: black;}#sk-container-id-3 div.sk-toggleable__content {max-height: 0;max-width: 0;overflow: hidden;text-align: left;background-color: #f0f8ff;}#sk-container-id-3 div.sk-toggleable__content pre {margin: 0.2em;color: black;border-radius: 0.25em;background-color: #f0f8ff;}#sk-container-id-3 input.sk-toggleable__control:checked~div.sk-toggleable__content {max-height: 200px;max-width: 100%;overflow: auto;}#sk-container-id-3 input.sk-toggleable__control:checked~label.sk-toggleable__label-arrow:before {content: \"▾\";}#sk-container-id-3 div.sk-estimator input.sk-toggleable__control:checked~label.sk-toggleable__label {background-color: #d4ebff;}#sk-container-id-3 div.sk-label input.sk-toggleable__control:checked~label.sk-toggleable__label {background-color: #d4ebff;}#sk-container-id-3 input.sk-hidden--visually {border: 0;clip: rect(1px 1px 1px 1px);clip: rect(1px, 1px, 1px, 1px);height: 1px;margin: -1px;overflow: hidden;padding: 0;position: absolute;width: 1px;}#sk-container-id-3 div.sk-estimator {font-family: monospace;background-color: #f0f8ff;border: 1px dotted black;border-radius: 0.25em;box-sizing: border-box;margin-bottom: 0.5em;}#sk-container-id-3 div.sk-estimator:hover {background-color: #d4ebff;}#sk-container-id-3 div.sk-parallel-item::after {content: \"\";width: 100%;border-bottom: 1px solid gray;flex-grow: 1;}#sk-container-id-3 div.sk-label:hover label.sk-toggleable__label {background-color: #d4ebff;}#sk-container-id-3 div.sk-serial::before {content: \"\";position: absolute;border-left: 1px solid gray;box-sizing: border-box;top: 0;bottom: 0;left: 50%;z-index: 0;}#sk-container-id-3 div.sk-serial {display: flex;flex-direction: column;align-items: center;background-color: white;padding-right: 0.2em;padding-left: 0.2em;position: relative;}#sk-container-id-3 div.sk-item {position: relative;z-index: 1;}#sk-container-id-3 div.sk-parallel {display: flex;align-items: stretch;justify-content: center;background-color: white;position: relative;}#sk-container-id-3 div.sk-item::before, #sk-container-id-3 div.sk-parallel-item::before {content: \"\";position: absolute;border-left: 1px solid gray;box-sizing: border-box;top: 0;bottom: 0;left: 50%;z-index: -1;}#sk-container-id-3 div.sk-parallel-item {display: flex;flex-direction: column;z-index: 1;position: relative;background-color: white;}#sk-container-id-3 div.sk-parallel-item:first-child::after {align-self: flex-end;width: 50%;}#sk-container-id-3 div.sk-parallel-item:last-child::after {align-self: flex-start;width: 50%;}#sk-container-id-3 div.sk-parallel-item:only-child::after {width: 0;}#sk-container-id-3 div.sk-dashed-wrapped {border: 1px dashed gray;margin: 0 0.4em 0.5em 0.4em;box-sizing: border-box;padding-bottom: 0.4em;background-color: white;}#sk-container-id-3 div.sk-label label {font-family: monospace;font-weight: bold;display: inline-block;line-height: 1.2em;}#sk-container-id-3 div.sk-label-container {text-align: center;}#sk-container-id-3 div.sk-container {/* jupyter's `normalize.less` sets `[hidden] { display: none; }` but bootstrap.min.css set `[hidden] { display: none !important; }` so we also need the `!important` here to be able to override the default hidden behavior on the sphinx rendered scikit-learn.org. See: https://github.com/scikit-learn/scikit-learn/issues/21755 */display: inline-block !important;position: relative;}#sk-container-id-3 div.sk-text-repr-fallback {display: none;}</style><div id=\"sk-container-id-3\" class=\"sk-top-container\"><div class=\"sk-text-repr-fallback\"><pre>LinearRegression()</pre><b>In a Jupyter environment, please rerun this cell to show the HTML representation or trust the notebook. <br />On GitHub, the HTML representation is unable to render, please try loading this page with nbviewer.org.</b></div><div class=\"sk-container\" hidden><div class=\"sk-item\"><div class=\"sk-estimator sk-toggleable\"><input class=\"sk-toggleable__control sk-hidden--visually\" id=\"sk-estimator-id-3\" type=\"checkbox\" checked><label for=\"sk-estimator-id-3\" class=\"sk-toggleable__label sk-toggleable__label-arrow\">LinearRegression</label><div class=\"sk-toggleable__content\"><pre>LinearRegression()</pre></div></div></div></div></div>"
            ]
          },
          "metadata": {},
          "execution_count": 28
        }
      ]
    },
    {
      "cell_type": "markdown",
      "source": [
        "## Step 7: Make Predictions and Evaluate the Model\n",
        "Use the trained model to make predictions on the test set and evaluate its performance:"
      ],
      "metadata": {
        "id": "Gz6_OzVh3KyO"
      }
    },
    {
      "cell_type": "code",
      "source": [
        "# Make predictions on the test set\n",
        "y_pred = model.predict(X_test)\n"
      ],
      "metadata": {
        "id": "ak64QebU3bNI"
      },
      "execution_count": null,
      "outputs": []
    },
    {
      "cell_type": "code",
      "source": [
        "y_pred\n"
      ],
      "metadata": {
        "id": "KU4R85WJDGz0",
        "outputId": "703c51de-dba7-46c1-a12a-f277feb17e07",
        "colab": {
          "base_uri": "https://localhost:8080/"
        }
      },
      "execution_count": null,
      "outputs": [
        {
          "output_type": "execute_result",
          "data": {
            "text/plain": [
              "array([189.39596837, 127.55057974, 221.44107983, 217.76278245,\n",
              "        74.0802801 , 189.52488759, 229.27549563, 385.14030357,\n",
              "       422.49216178, 196.78398922, 126.52565573, 235.63859247,\n",
              "       370.3014097 , 331.44680645, 224.99045799, 419.3263264 ,\n",
              "       123.00770365, 226.46177695, 474.20187794, 193.10569183])"
            ]
          },
          "metadata": {},
          "execution_count": 30
        }
      ]
    },
    {
      "cell_type": "code",
      "source": [
        "# Evaluate the model\n",
        "mse = mean_squared_error(y_test, y_pred)\n",
        "r2 = r2_score(y_test, y_pred)\n",
        "\n",
        "print(f\"Mean Squared Error: {mse:.2f}\")\n",
        "print(f\"R-squared: {r2:.2f}\")"
      ],
      "metadata": {
        "colab": {
          "base_uri": "https://localhost:8080/"
        },
        "id": "zxozXwr76ICQ",
        "outputId": "5fb786a9-e6f1-4601-dda3-452986cea017"
      },
      "execution_count": null,
      "outputs": [
        {
          "output_type": "stream",
          "name": "stdout",
          "text": [
            "Mean Squared Error: 33.56\n",
            "R-squared: 1.00\n"
          ]
        }
      ]
    },
    {
      "cell_type": "markdown",
      "source": [
        "Interpret the Results\n",
        "- Mean Squared Error (MSE): A measure of the average squared difference between the actual and predicted values. Lower MSE indicates better model fit.\n",
        "\n",
        "- R-squared (R2) Score: A measure of how well the model explains the variance in the dependent variable. It ranges from 0 to 1, with higher values indicating a better fit."
      ],
      "metadata": {
        "id": "ntJJcLg43mvA"
      }
    },
    {
      "cell_type": "markdown",
      "source": [
        "## Step 8: Explore the Model Coefficients\n",
        "You can also explore the coefficients and intercept of the linear regression model to understand how each independent variable influences the dependent variable:\n"
      ],
      "metadata": {
        "id": "qyUVGQiv30--"
      }
    },
    {
      "cell_type": "code",
      "source": [
        "print(\"Coefficients:\", model.coef_)\n",
        "print(\"Intercept:\", model.intercept_)\n"
      ],
      "metadata": {
        "colab": {
          "base_uri": "https://localhost:8080/"
        },
        "id": "1Fxz_yUo3uta",
        "outputId": "70430471-8456-44aa-d35f-c1e75e8688eb"
      },
      "execution_count": null,
      "outputs": [
        {
          "output_type": "stream",
          "name": "stdout",
          "text": [
            "Coefficients: [2.04663312 2.97406399]\n",
            "Intercept: -2.380804917499006\n"
          ]
        }
      ]
    },
    {
      "cell_type": "markdown",
      "source": [
        "In this code,` model.coef_` represents the coefficients for the independent variables, and `model.intercept_` represents the intercept (constant term) of the linear equation."
      ],
      "metadata": {
        "id": "DgocYRfc4Lcf"
      }
    },
    {
      "cell_type": "markdown",
      "source": [
        "## Conclusion"
      ],
      "metadata": {
        "id": "_uMBw-Bx342Z"
      }
    },
    {
      "cell_type": "markdown",
      "source": [
        "That's it! I've successfully implemented a multivariable linear regression model in Python using `scikit-learn`. You can now apply this knowledge to your own datasets and projects, and further explore advanced topics in regression analysis as you become more comfortable with the basics.\n",
        "\n",
        "Real-World Example: Predicting House Prices"
      ],
      "metadata": {
        "id": "zfzKFHbv38bU"
      }
    },
    {
      "cell_type": "markdown",
      "source": [
        "---\n"
      ],
      "metadata": {
        "id": "DD3-xMgEWmUZ"
      }
    },
    {
      "cell_type": "markdown",
      "source": [
        "# Polynomial Regression in Python: A Beginner's Guide to Machine Learning"
      ],
      "metadata": {
        "id": "S54P2J3tWoGA"
      }
    },
    {
      "cell_type": "markdown",
      "source": [
        "## Introduction"
      ],
      "metadata": {
        "id": "TwZ7dApOhnJ6"
      }
    },
    {
      "cell_type": "markdown",
      "source": [
        "Hello and welcome to another exciting tutorial on machine learning!\n",
        "Today, I'll dive deep into the world of Polynomial Regression, a powerful technique for capturing complex, nonlinear relationships in your data."
      ],
      "metadata": {
        "id": "jGuYfgde1g1P"
      }
    },
    {
      "cell_type": "markdown",
      "source": [
        "## What is Polynomial?"
      ],
      "metadata": {
        "id": "FoORF1Fh1vEH"
      }
    },
    {
      "cell_type": "markdown",
      "source": [
        "- Polynomial regression is like magic-- it allows you to model curved relationships between variables.\n",
        "\n"
      ],
      "metadata": {
        "id": "YBNNg7d-hqfx"
      }
    },
    {
      "cell_type": "markdown",
      "source": [
        "![image.png](data:image/png;base64,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)"
      ],
      "metadata": {
        "id": "vMlNe6zJw7ZW"
      }
    },
    {
      "cell_type": "markdown",
      "source": [
        "## But when do you actually need this magic, and why?"
      ],
      "metadata": {
        "id": "IauWbphd69ck"
      }
    },
    {
      "cell_type": "markdown",
      "source": [
        "Before I dive into the practical side of Polynomial Regression, let's discuss when and why you need to use it.\n",
        "\n",
        "- Polynomial regression is a fantastic tool when you suspect that the relationship between your variables is nonlinear.\n",
        "\n",
        "- When data points don't follow a straight line, you need a more flexible approach. That's when you turn to polynomial regression."
      ],
      "metadata": {
        "id": "2vDkTezz7aic"
      }
    },
    {
      "cell_type": "markdown",
      "source": [
        "\n",
        "\n",
        "- Imagine scenarios where straight lines just can't capture reality. For instance, when predicting how the growth of plants depends on time or how a car's mileage relates to its speed.\n",
        "\n",
        "\n",
        "- It's your go-to technique for accommodating the beautiful complexity of the real world.\n",
        "\n",
        "**Example**: Let's take an example of predicting the price of a smartphone based on its age. Linear regression may not capture the gradual increase in price as the smartphone becomes a classic.\n",
        "\n",
        "-  Polynomial regression can help you model this nonlinear price trend."
      ],
      "metadata": {
        "id": "_xoKU7lswr1x"
      }
    },
    {
      "cell_type": "markdown",
      "source": [
        "![image.png](data:image/png;base64,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)"
      ],
      "metadata": {
        "id": "b5Q8UNun6222"
      }
    },
    {
      "cell_type": "markdown",
      "source": [
        "## Step 1: Generating Sample Data:"
      ],
      "metadata": {
        "id": "6pUknNS5yDdW"
      }
    },
    {
      "cell_type": "markdown",
      "source": [
        "**Example**: Let's create synthetic data representing how a smartphone's price changes with time. The data will include fluctuations and nonlinear trends that are challenging to model with linear regression.\n",
        "\n"
      ],
      "metadata": {
        "id": "43XtJuVh57EB"
      }
    },
    {
      "cell_type": "code",
      "source": [
        "import numpy as np\n",
        "\n",
        "# Generate synthetic data for smartphone prices over time\n",
        "np.random.seed(0)\n",
        "X = np.linspace(1, 10, 50)  # Years\n",
        "Y = 1000 - (X - 5)**2 + np.random.normal(0, 200, 50)  # Synthetic price data\n"
      ],
      "metadata": {
        "id": "RiDOkuWZ6KqW"
      },
      "execution_count": 18,
      "outputs": []
    },
    {
      "cell_type": "markdown",
      "source": [
        "# Step 2: Reshaping Data\n",
        "\n"
      ],
      "metadata": {
        "id": "rHoc0QWZ8s16"
      }
    },
    {
      "cell_type": "markdown",
      "source": [
        "\n",
        "Now that you have the data, let's reshape it for polynomial regression.\n",
        "\n",
        "**Data reshaping** is a crucial step that prepares your data to speak the language of polynomial regression(to make it compatible with polynomial regression)."
      ],
      "metadata": {
        "id": "ihrjahOe9Qx2"
      }
    },
    {
      "cell_type": "code",
      "source": [
        "X = X.reshape(-1, 1)\n",
        "Y = Y.reshape(-1, 1)"
      ],
      "metadata": {
        "id": "UHqQjZ1Y9Rhk"
      },
      "execution_count": 20,
      "outputs": []
    },
    {
      "cell_type": "markdown",
      "source": [
        "## Step 3: Creating Polynomial Features:\n",
        "\n"
      ],
      "metadata": {
        "id": "sMh9V2cv9gvS"
      }
    },
    {
      "cell_type": "markdown",
      "source": [
        "Let's dive into creating polynomial features. But first, why are you doing this?\n",
        "\n",
        "You add polynomial features to your data to give your model the necessary 'tools' to capture complex relationships.\n",
        "\n",
        "**Example**: \"In your synthetic smartphone price prediction, you'll create polynomial features to capture the nonlinear relationship between years and prices."
      ],
      "metadata": {
        "id": "7aCz9IJD965T"
      }
    },
    {
      "cell_type": "code",
      "source": [
        "from sklearn.preprocessing import PolynomialFeatures\n",
        "\n",
        "poly = PolynomialFeatures(degree=2)\n",
        "X_poly = poly.fit_transform(X)\n"
      ],
      "metadata": {
        "id": "LyCWlywp98Z-"
      },
      "execution_count": 21,
      "outputs": []
    },
    {
      "cell_type": "markdown",
      "source": [
        "## Step 4: Building and Fitting the Model:\n",
        "\n"
      ],
      "metadata": {
        "id": "JsRBdulo-ZaP"
      }
    },
    {
      "cell_type": "markdown",
      "source": [
        "Now that you've got your polynomial features, why do you build and fit this model?\n",
        "\n",
        "The answer lies in capturing the richness of the data. Linear regression can't bend and curve; it's 'straight to the point.' But sometimes, reality isn't linear.\n",
        "\n",
        "**Example**: In our smartphone price prediction, I'll build and fit a polynomial regression model to capture the intricate relationship between years and prices."
      ],
      "metadata": {
        "id": "yqxseRJo-4d1"
      }
    },
    {
      "cell_type": "code",
      "source": [
        "from sklearn.linear_model import LinearRegression\n",
        "\n",
        "model = LinearRegression()\n",
        "model.fit(X_poly, Y)"
      ],
      "metadata": {
        "colab": {
          "base_uri": "https://localhost:8080/",
          "height": 75
        },
        "id": "ueGMUA8c-EmZ",
        "outputId": "dc16b4c0-9e2f-4def-e7e0-4e447965a28a"
      },
      "execution_count": 22,
      "outputs": [
        {
          "output_type": "execute_result",
          "data": {
            "text/plain": [
              "LinearRegression()"
            ],
            "text/html": [
              "<style>#sk-container-id-4 {color: black;background-color: white;}#sk-container-id-4 pre{padding: 0;}#sk-container-id-4 div.sk-toggleable {background-color: white;}#sk-container-id-4 label.sk-toggleable__label {cursor: pointer;display: block;width: 100%;margin-bottom: 0;padding: 0.3em;box-sizing: border-box;text-align: center;}#sk-container-id-4 label.sk-toggleable__label-arrow:before {content: \"▸\";float: left;margin-right: 0.25em;color: #696969;}#sk-container-id-4 label.sk-toggleable__label-arrow:hover:before {color: black;}#sk-container-id-4 div.sk-estimator:hover label.sk-toggleable__label-arrow:before {color: black;}#sk-container-id-4 div.sk-toggleable__content {max-height: 0;max-width: 0;overflow: hidden;text-align: left;background-color: #f0f8ff;}#sk-container-id-4 div.sk-toggleable__content pre {margin: 0.2em;color: black;border-radius: 0.25em;background-color: #f0f8ff;}#sk-container-id-4 input.sk-toggleable__control:checked~div.sk-toggleable__content {max-height: 200px;max-width: 100%;overflow: auto;}#sk-container-id-4 input.sk-toggleable__control:checked~label.sk-toggleable__label-arrow:before {content: \"▾\";}#sk-container-id-4 div.sk-estimator input.sk-toggleable__control:checked~label.sk-toggleable__label {background-color: #d4ebff;}#sk-container-id-4 div.sk-label input.sk-toggleable__control:checked~label.sk-toggleable__label {background-color: #d4ebff;}#sk-container-id-4 input.sk-hidden--visually {border: 0;clip: rect(1px 1px 1px 1px);clip: rect(1px, 1px, 1px, 1px);height: 1px;margin: -1px;overflow: hidden;padding: 0;position: absolute;width: 1px;}#sk-container-id-4 div.sk-estimator {font-family: monospace;background-color: #f0f8ff;border: 1px dotted black;border-radius: 0.25em;box-sizing: border-box;margin-bottom: 0.5em;}#sk-container-id-4 div.sk-estimator:hover {background-color: #d4ebff;}#sk-container-id-4 div.sk-parallel-item::after {content: \"\";width: 100%;border-bottom: 1px solid gray;flex-grow: 1;}#sk-container-id-4 div.sk-label:hover label.sk-toggleable__label {background-color: #d4ebff;}#sk-container-id-4 div.sk-serial::before {content: \"\";position: absolute;border-left: 1px solid gray;box-sizing: border-box;top: 0;bottom: 0;left: 50%;z-index: 0;}#sk-container-id-4 div.sk-serial {display: flex;flex-direction: column;align-items: center;background-color: white;padding-right: 0.2em;padding-left: 0.2em;position: relative;}#sk-container-id-4 div.sk-item {position: relative;z-index: 1;}#sk-container-id-4 div.sk-parallel {display: flex;align-items: stretch;justify-content: center;background-color: white;position: relative;}#sk-container-id-4 div.sk-item::before, #sk-container-id-4 div.sk-parallel-item::before {content: \"\";position: absolute;border-left: 1px solid gray;box-sizing: border-box;top: 0;bottom: 0;left: 50%;z-index: -1;}#sk-container-id-4 div.sk-parallel-item {display: flex;flex-direction: column;z-index: 1;position: relative;background-color: white;}#sk-container-id-4 div.sk-parallel-item:first-child::after {align-self: flex-end;width: 50%;}#sk-container-id-4 div.sk-parallel-item:last-child::after {align-self: flex-start;width: 50%;}#sk-container-id-4 div.sk-parallel-item:only-child::after {width: 0;}#sk-container-id-4 div.sk-dashed-wrapped {border: 1px dashed gray;margin: 0 0.4em 0.5em 0.4em;box-sizing: border-box;padding-bottom: 0.4em;background-color: white;}#sk-container-id-4 div.sk-label label {font-family: monospace;font-weight: bold;display: inline-block;line-height: 1.2em;}#sk-container-id-4 div.sk-label-container {text-align: center;}#sk-container-id-4 div.sk-container {/* jupyter's `normalize.less` sets `[hidden] { display: none; }` but bootstrap.min.css set `[hidden] { display: none !important; }` so we also need the `!important` here to be able to override the default hidden behavior on the sphinx rendered scikit-learn.org. See: https://github.com/scikit-learn/scikit-learn/issues/21755 */display: inline-block !important;position: relative;}#sk-container-id-4 div.sk-text-repr-fallback {display: none;}</style><div id=\"sk-container-id-4\" class=\"sk-top-container\"><div class=\"sk-text-repr-fallback\"><pre>LinearRegression()</pre><b>In a Jupyter environment, please rerun this cell to show the HTML representation or trust the notebook. <br />On GitHub, the HTML representation is unable to render, please try loading this page with nbviewer.org.</b></div><div class=\"sk-container\" hidden><div class=\"sk-item\"><div class=\"sk-estimator sk-toggleable\"><input class=\"sk-toggleable__control sk-hidden--visually\" id=\"sk-estimator-id-4\" type=\"checkbox\" checked><label for=\"sk-estimator-id-4\" class=\"sk-toggleable__label sk-toggleable__label-arrow\">LinearRegression</label><div class=\"sk-toggleable__content\"><pre>LinearRegression()</pre></div></div></div></div></div>"
            ]
          },
          "metadata": {},
          "execution_count": 22
        }
      ]
    },
    {
      "cell_type": "markdown",
      "source": [
        "## Step 5: Making Predictions:\n",
        "\n"
      ],
      "metadata": {
        "id": "FtMuly48_B_K"
      }
    },
    {
      "cell_type": "markdown",
      "source": [
        "Your model is now ready to make predictions.\n",
        "\n",
        "**Example**: In the smartphone price prediction, I'll use the polynomial regression model to make price predictions for various years, even for years not present in the original data."
      ],
      "metadata": {
        "id": "aW-LKKsG_kHa"
      }
    },
    {
      "cell_type": "code",
      "source": [
        "# Predict prices using the model\n",
        "Y_pred = model.predict(X_poly)"
      ],
      "metadata": {
        "id": "l4MOBVpI_k9N"
      },
      "execution_count": 23,
      "outputs": []
    },
    {
      "cell_type": "markdown",
      "source": [
        "## Step 6: Visualizing the Results:\n",
        "\n"
      ],
      "metadata": {
        "id": "q7rg1d8ZAqh-"
      }
    },
    {
      "cell_type": "markdown",
      "source": [
        "To understand the power of Polynomial Regression, you need to visualize.\n",
        "\n",
        "Visualization helps you 'see' the data. It shows how well your model captures the nonlinear patterns.\n",
        "\n",
        "**Example**: In the smartphone price prediction, I'll create a visualization to compare the Polynomial Regression curve with the synthetic data points, allowing you to see how well the model fits the nonlinear trend."
      ],
      "metadata": {
        "id": "o4njJaT4BElZ"
      }
    },
    {
      "cell_type": "code",
      "source": [
        "import matplotlib.pyplot as plt\n",
        "\n",
        "plt.scatter(X, Y, label='Synthetic Data')\n",
        "plt.plot(X, Y_pred, color='red', label='Polynomial Regression')\n",
        "plt.xlabel('Years')\n",
        "plt.ylabel('Price')\n",
        "plt.legend()\n",
        "plt.title('Smartphone Price Prediction')\n",
        "plt.show()"
      ],
      "metadata": {
        "colab": {
          "base_uri": "https://localhost:8080/",
          "height": 472
        },
        "id": "Nba9H9ptBGJ4",
        "outputId": "01ab6881-548a-4776-c704-1b4e6a7a25e5"
      },
      "execution_count": 24,
      "outputs": [
        {
          "output_type": "display_data",
          "data": {
            "text/plain": [
              "<Figure size 640x480 with 1 Axes>"
            ],
            "image/png": "[encoded data removed]"
          },
          "metadata": {}
        }
      ]
    },
    {
      "cell_type": "markdown",
      "source": [
        "## Conclusion"
      ],
      "metadata": {
        "id": "nwi52zq_CYXA"
      }
    },
    {
      "cell_type": "markdown",
      "source": [
        "Thank you for joining me on this learning journey. If you found this tutorial helpful, don't forget to like, subscribe, and share. And as always, stay curious, keep exploring, and keep pushing the boundaries of what you can achieve with data."
      ],
      "metadata": {
        "id": "-U2qgK-rCakT"
      }
    }
  ]
}