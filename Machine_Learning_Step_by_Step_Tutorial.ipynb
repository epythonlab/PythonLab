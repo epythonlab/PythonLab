{
  "nbformat": 4,
  "nbformat_minor": 0,
  "metadata": {
    "colab": {
      "provenance": [],
      "collapsed_sections": [
        "tdpxeoUMNnlk"
      ],
      "authorship_tag": "ABX9TyNbjh8pi4x/xmZ4XKotvZrs",
      "include_colab_link": true
    },
    "kernelspec": {
      "name": "python3",
      "display_name": "Python 3"
    },
    "language_info": {
      "name": "python"
    }
  },
  "cells": [
    {
      "cell_type": "markdown",
      "metadata": {
        "id": "view-in-github",
        "colab_type": "text"
      },
      "source": [
        "<a href=\"https://colab.research.google.com/github/epythonlab/PythonLab/blob/master/Machine_Learning_Step_by_Step_Tutorial.ipynb\" target=\"_parent\"><img src=\"https://colab.research.google.com/assets/colab-badge.svg\" alt=\"Open In Colab\"/></a>"
      ]
    },
    {
      "cell_type": "markdown",
      "source": [
        "# Linear Regression with Examples\n"
      ],
      "metadata": {
        "id": "-x5bDpFyMx6L"
      }
    },
    {
      "cell_type": "markdown",
      "source": [
        "## What is Linear Regression?"
      ],
      "metadata": {
        "id": "tdpxeoUMNnlk"
      }
    },
    {
      "cell_type": "markdown",
      "source": [
        "**Linear regression** is a commonly used statistical method for modeling the relationship between a dependent variable and one or more independent variables by fitting a linear equation to the observed data. The goal is to find the best-fitting line (or hyperplane in the case of multiple independent variables) that minimizes the sum of squared differences between the predicted values and the actual values."
      ],
      "metadata": {
        "id": "bGWwjj7RM4Ks"
      }
    },
    {
      "cell_type": "markdown",
      "source": [
        "- `Dependent Variable:` The variable you want to predict or understand.\n",
        "- `Independent Variable:` The variable(s) that influence or explain the dependent variable."
      ],
      "metadata": {
        "id": "tpzKXbR-TjX7"
      }
    },
    {
      "cell_type": "markdown",
      "source": [
        "In this tutorial, I will show you a step-by-step example of linear regression with a simple single-variable (simple linear regression) example:"
      ],
      "metadata": {
        "id": "6egmSKleNOBj"
      }
    },
    {
      "cell_type": "markdown",
      "source": [
        "## Define the Problem"
      ],
      "metadata": {
        "id": "jdmCKXSlNaFF"
      }
    },
    {
      "cell_type": "markdown",
      "source": [
        "**Problem Statement:** Suppose you want to predict a student's score on a test (dependent variable) based on the number of hours they studied (independent variable). You have collected data on several students, including their study hours and test scores, and you want to build a linear regression model to make predictions."
      ],
      "metadata": {
        "id": "u3ah7TVFNjWs"
      }
    },
    {
      "cell_type": "markdown",
      "source": [
        "## Step 1: Data Collection\n",
        "\n"
      ],
      "metadata": {
        "id": "WYyHq_00OC_k"
      }
    },
    {
      "cell_type": "markdown",
      "source": [
        "Collect data on study hours (independent variable) and test scores (dependent variable) for a group of students. Here's a simplified dataset:"
      ],
      "metadata": {
        "id": "naPaBvzROM42"
      }
    },
    {
      "cell_type": "markdown",
      "source": [
        "<table>\n",
        "\n",
        "<th>Study Hours (X)</th>\n",
        "<th>Test Scores (Y)</th>\n",
        "<tr><td>2</td><td>50</td></tr>\n",
        "<tr><td>3</td><td>60</td></tr>\n",
        "<tr><td>4</td><td>70</td></tr>\n",
        "<tr><td>5</td><td>75</td></tr>\n",
        "<tr><td>6</td><td>80</td></tr>\n",
        "\n",
        "\n",
        "</table>"
      ],
      "metadata": {
        "id": "aKa96uKnOdnk"
      }
    },
    {
      "cell_type": "markdown",
      "source": [
        "## Step 2: Data Visualization\n"
      ],
      "metadata": {
        "id": "DZAZh53wPpns"
      }
    },
    {
      "cell_type": "markdown",
      "source": [
        "Visualize the data using a scatter plot to understand the relationship between study hours and test scores. This will help you determine if a linear relationship exists."
      ],
      "metadata": {
        "id": "yODeG35zPtbj"
      }
    },
    {
      "cell_type": "code",
      "execution_count": 2,
      "metadata": {
        "colab": {
          "base_uri": "https://localhost:8080/",
          "height": 472
        },
        "id": "JIqK1zV0MqDG",
        "outputId": "0361debe-cf89-4f2d-bdf4-75b42c7c2d9b"
      },
      "outputs": [
        {
          "output_type": "display_data",
          "data": {
            "text/plain": [
              "<Figure size 640x480 with 1 Axes>"
            ],
            "image/png": "[encoded data removed]"
          },
          "metadata": {}
        }
      ],
      "source": [
        "import matplotlib.pyplot as plt\n",
        "\n",
        "# data\n",
        "study_hours = [2, 3, 4, 5, 6]\n",
        "test_scores = [50, 60, 70, 75, 80]\n",
        "\n",
        "# scatter plot\n",
        "plt.scatter(study_hours, test_scores)\n",
        "plt.title(\"Study hours vs Test Scores\")\n",
        "plt.xlabel('Study hours')\n",
        "plt.ylabel('Test Scores')\n",
        "plt.show()"
      ]
    },
    {
      "cell_type": "markdown",
      "source": [
        "From the scatter plot, it appears that there is a linear relationship between study hours and test scores. As study hours increase, test scores generally tend to increase as well."
      ],
      "metadata": {
        "id": "dOFcSKAWP198"
      }
    },
    {
      "cell_type": "markdown",
      "source": [
        "## Step 3: Model Building\n"
      ],
      "metadata": {
        "id": "5i8-fc5IP9Yk"
      }
    },
    {
      "cell_type": "markdown",
      "source": [
        "Build a linear regression model to fit the data. The equation for a simple linear regression model is:\n",
        "\n",
        "`Y = b0 + b1 * X`\n",
        "\n",
        "\n",
        "Where:\n",
        "`Y` is the predicted test score.\n",
        "`X` is the study hours.\n",
        "`b0` is the intercept (constant).\n",
        "\n",
        "`b1` is the slope (coefficient) that represents the change in test score for each additional study hour.\n",
        "You can use various methods to calculate\n",
        "`b0` and `b1`, such as the least squares method. In Python, you can use libraries like `NumPy` or `scikit-learn` to perform linear regression. Here's an example using scikit-learn:"
      ],
      "metadata": {
        "id": "Am_An13qQCif"
      }
    },
    {
      "cell_type": "code",
      "source": [
        "\n",
        "from sklearn.linear_model import LinearRegression\n",
        "import numpy as np\n",
        "# reshape the data\n",
        "study_hours = np.array(study_hours).reshape(-1, 1)\n",
        "test_scores = np.array(test_scores)"
      ],
      "metadata": {
        "id": "l9pfu4YKQpTX"
      },
      "execution_count": 3,
      "outputs": []
    },
    {
      "cell_type": "code",
      "source": [
        "# create linear regression model\n",
        "model = LinearRegression()\n",
        "\n",
        "# fit the model to the data\n",
        "model.fit(study_hours, test_scores)\n",
        "\n"
      ],
      "metadata": {
        "colab": {
          "base_uri": "https://localhost:8080/",
          "height": 75
        },
        "id": "diMNHvZ6cVxU",
        "outputId": "a0347d61-406d-40ec-de28-e81be7e6eb4c"
      },
      "execution_count": 4,
      "outputs": [
        {
          "output_type": "execute_result",
          "data": {
            "text/plain": [
              "LinearRegression()"
            ],
            "text/html": [
              "<style>#sk-container-id-1 {color: black;background-color: white;}#sk-container-id-1 pre{padding: 0;}#sk-container-id-1 div.sk-toggleable {background-color: white;}#sk-container-id-1 label.sk-toggleable__label {cursor: pointer;display: block;width: 100%;margin-bottom: 0;padding: 0.3em;box-sizing: border-box;text-align: center;}#sk-container-id-1 label.sk-toggleable__label-arrow:before {content: \"▸\";float: left;margin-right: 0.25em;color: #696969;}#sk-container-id-1 label.sk-toggleable__label-arrow:hover:before {color: black;}#sk-container-id-1 div.sk-estimator:hover label.sk-toggleable__label-arrow:before {color: black;}#sk-container-id-1 div.sk-toggleable__content {max-height: 0;max-width: 0;overflow: hidden;text-align: left;background-color: #f0f8ff;}#sk-container-id-1 div.sk-toggleable__content pre {margin: 0.2em;color: black;border-radius: 0.25em;background-color: #f0f8ff;}#sk-container-id-1 input.sk-toggleable__control:checked~div.sk-toggleable__content {max-height: 200px;max-width: 100%;overflow: auto;}#sk-container-id-1 input.sk-toggleable__control:checked~label.sk-toggleable__label-arrow:before {content: \"▾\";}#sk-container-id-1 div.sk-estimator input.sk-toggleable__control:checked~label.sk-toggleable__label {background-color: #d4ebff;}#sk-container-id-1 div.sk-label input.sk-toggleable__control:checked~label.sk-toggleable__label {background-color: #d4ebff;}#sk-container-id-1 input.sk-hidden--visually {border: 0;clip: rect(1px 1px 1px 1px);clip: rect(1px, 1px, 1px, 1px);height: 1px;margin: -1px;overflow: hidden;padding: 0;position: absolute;width: 1px;}#sk-container-id-1 div.sk-estimator {font-family: monospace;background-color: #f0f8ff;border: 1px dotted black;border-radius: 0.25em;box-sizing: border-box;margin-bottom: 0.5em;}#sk-container-id-1 div.sk-estimator:hover {background-color: #d4ebff;}#sk-container-id-1 div.sk-parallel-item::after {content: \"\";width: 100%;border-bottom: 1px solid gray;flex-grow: 1;}#sk-container-id-1 div.sk-label:hover label.sk-toggleable__label {background-color: #d4ebff;}#sk-container-id-1 div.sk-serial::before {content: \"\";position: absolute;border-left: 1px solid gray;box-sizing: border-box;top: 0;bottom: 0;left: 50%;z-index: 0;}#sk-container-id-1 div.sk-serial {display: flex;flex-direction: column;align-items: center;background-color: white;padding-right: 0.2em;padding-left: 0.2em;position: relative;}#sk-container-id-1 div.sk-item {position: relative;z-index: 1;}#sk-container-id-1 div.sk-parallel {display: flex;align-items: stretch;justify-content: center;background-color: white;position: relative;}#sk-container-id-1 div.sk-item::before, #sk-container-id-1 div.sk-parallel-item::before {content: \"\";position: absolute;border-left: 1px solid gray;box-sizing: border-box;top: 0;bottom: 0;left: 50%;z-index: -1;}#sk-container-id-1 div.sk-parallel-item {display: flex;flex-direction: column;z-index: 1;position: relative;background-color: white;}#sk-container-id-1 div.sk-parallel-item:first-child::after {align-self: flex-end;width: 50%;}#sk-container-id-1 div.sk-parallel-item:last-child::after {align-self: flex-start;width: 50%;}#sk-container-id-1 div.sk-parallel-item:only-child::after {width: 0;}#sk-container-id-1 div.sk-dashed-wrapped {border: 1px dashed gray;margin: 0 0.4em 0.5em 0.4em;box-sizing: border-box;padding-bottom: 0.4em;background-color: white;}#sk-container-id-1 div.sk-label label {font-family: monospace;font-weight: bold;display: inline-block;line-height: 1.2em;}#sk-container-id-1 div.sk-label-container {text-align: center;}#sk-container-id-1 div.sk-container {/* jupyter's `normalize.less` sets `[hidden] { display: none; }` but bootstrap.min.css set `[hidden] { display: none !important; }` so we also need the `!important` here to be able to override the default hidden behavior on the sphinx rendered scikit-learn.org. See: https://github.com/scikit-learn/scikit-learn/issues/21755 */display: inline-block !important;position: relative;}#sk-container-id-1 div.sk-text-repr-fallback {display: none;}</style><div id=\"sk-container-id-1\" class=\"sk-top-container\"><div class=\"sk-text-repr-fallback\"><pre>LinearRegression()</pre><b>In a Jupyter environment, please rerun this cell to show the HTML representation or trust the notebook. <br />On GitHub, the HTML representation is unable to render, please try loading this page with nbviewer.org.</b></div><div class=\"sk-container\" hidden><div class=\"sk-item\"><div class=\"sk-estimator sk-toggleable\"><input class=\"sk-toggleable__control sk-hidden--visually\" id=\"sk-estimator-id-1\" type=\"checkbox\" checked><label for=\"sk-estimator-id-1\" class=\"sk-toggleable__label sk-toggleable__label-arrow\">LinearRegression</label><div class=\"sk-toggleable__content\"><pre>LinearRegression()</pre></div></div></div></div></div>"
            ]
          },
          "metadata": {},
          "execution_count": 4
        }
      ]
    },
    {
      "cell_type": "code",
      "source": [
        "# get the intecept and slope\n",
        "b0 = model.intercept_\n",
        "b1 = model.coef_[0]\n",
        "print(b0, b1)"
      ],
      "metadata": {
        "colab": {
          "base_uri": "https://localhost:8080/"
        },
        "id": "soH7gpLJcm6V",
        "outputId": "94c3b330-140f-4876-c96c-50016a39635c"
      },
      "execution_count": 5,
      "outputs": [
        {
          "output_type": "stream",
          "name": "stdout",
          "text": [
            "37.0 7.500000000000001\n"
          ]
        }
      ]
    },
    {
      "cell_type": "markdown",
      "source": [
        "## Step 4: Make Predictions\n",
        "Once you have the model coefficients `(b0 and b1)`, you can make predictions for test scores based on new study hours."
      ],
      "metadata": {
        "id": "mrF3c8gRQxC8"
      }
    },
    {
      "cell_type": "code",
      "source": [
        "# predict test scores for new study hours\n",
        "new_study_hours = [7, 8, 9]\n",
        "predicted_scores = model.predict(np.array(new_study_hours).reshape(-1, 1))\n",
        "\n",
        "for i, hours in enumerate(new_study_hours):\n",
        "  print(f'Predicted score for {hours} hours of study : {predicted_scores[i]}')"
      ],
      "metadata": {
        "colab": {
          "base_uri": "https://localhost:8080/"
        },
        "id": "aB1F_b45RJpS",
        "outputId": "7e88ea5a-e8b5-47ae-e5d8-b5e723257997"
      },
      "execution_count": 6,
      "outputs": [
        {
          "output_type": "stream",
          "name": "stdout",
          "text": [
            "Predicted score for 7 hours of study : 89.5\n",
            "Predicted score for 8 hours of study : 97.0\n",
            "Predicted score for 9 hours of study : 104.50000000000001\n"
          ]
        }
      ]
    },
    {
      "cell_type": "markdown",
      "source": [
        "## Step 5: Make a Regression Line\n"
      ],
      "metadata": {
        "id": "kmNetAQkRPpy"
      }
    },
    {
      "cell_type": "markdown",
      "source": [
        "To plot a regression line on a scatter plot in Python, you can use the coefficients obtained from your linear regression model to create the line.\n",
        "\n",
        "Assuming you already have a fitted linear regression model (model), here are the steps to plot the regression line:"
      ],
      "metadata": {
        "id": "sW2HarwiRSsq"
      }
    },
    {
      "cell_type": "code",
      "source": [
        "import matplotlib.pyplot as plt\n",
        "import numpy as np\n",
        "\n",
        "# Scatter plot of the data points\n",
        "plt.scatter(study_hours, test_scores, label='Data points')\n",
        "plt.title('Study Hours vs. Test Scores')\n",
        "plt.xlabel('Study Hours')\n",
        "plt.ylabel('Test Scores')\n",
        "\n",
        "# Generate a range of study hours for the regression line\n",
        "x_range = np.linspace(min(study_hours), max(study_hours), 100).reshape(-1, 1)\n",
        "\n",
        "# Predict test scores for the x_range using the model\n",
        "predicted_scores = model.predict(x_range)\n",
        "\n",
        "# Plot the regression line\n",
        "plt.plot(x_range, predicted_scores, color='red', linewidth=2, label='Regression Line')\n",
        "\n",
        "# Show legend\n",
        "plt.legend()\n",
        "\n",
        "# Display the plot\n",
        "plt.show()\n"
      ],
      "metadata": {
        "colab": {
          "base_uri": "https://localhost:8080/",
          "height": 472
        },
        "id": "tmOo26J_Rg0b",
        "outputId": "178326a7-8ede-4bc1-f7d0-78fe1d818189"
      },
      "execution_count": 11,
      "outputs": [
        {
          "output_type": "display_data",
          "data": {
            "text/plain": [
              "<Figure size 640x480 with 1 Axes>"
            ],
            "image/png": "[encoded data removed]"
          },
          "metadata": {}
        }
      ]
    },
    {
      "cell_type": "markdown",
      "source": [
        "I've generated a range of study hours (`x_range`) to create the x-values for the regression line. It covers the same range as your observed data points.\n",
        "\n",
        "I used the `model.predict` method to predict the corresponding test scores (`predicted_scores`) for the `x_range`.\n",
        "\n",
        "Finally, I used `plt.plot` to plot the regression line on the scatter plot, setting the line color to red and adjusting its linewidth. The label parameter adds a label for the legend.\n",
        "\n",
        "Don't forget to call `plt.legend()` to display the legend and `plt.show(`) to show the plot."
      ],
      "metadata": {
        "id": "Zkt81VVaSAEK"
      }
    },
    {
      "cell_type": "markdown",
      "source": [
        "# Conclusion"
      ],
      "metadata": {
        "id": "bdbIGnO1RfyW"
      }
    },
    {
      "cell_type": "markdown",
      "source": [
        "This example demonstrates the basic steps of simple linear regression. In practice, you may encounter more complex regression scenarios with multiple independent variables (multiple linear regression) or non-linear relationships (polynomial regression), but the fundamental principles remain similar."
      ],
      "metadata": {
        "id": "kF7j9d7HRv7C"
      }
    }
  ]
}