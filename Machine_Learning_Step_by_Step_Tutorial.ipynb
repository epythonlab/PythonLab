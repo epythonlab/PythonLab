{
  "nbformat": 4,
  "nbformat_minor": 0,
  "metadata": {
    "colab": {
      "provenance": [],
      "collapsed_sections": [
        "tdpxeoUMNnlk"
      ],
      "authorship_tag": "ABX9TyMJhe9cR5Hek5j0VMx8MfY6",
      "include_colab_link": true
    },
    "kernelspec": {
      "name": "python3",
      "display_name": "Python 3"
    },
    "language_info": {
      "name": "python"
    }
  },
  "cells": [
    {
      "cell_type": "markdown",
      "metadata": {
        "id": "view-in-github",
        "colab_type": "text"
      },
      "source": [
        "<a href=\"https://colab.research.google.com/github/epythonlab/PythonLab/blob/master/Machine_Learning_Step_by_Step_Tutorial.ipynb\" target=\"_parent\"><img src=\"https://colab.research.google.com/assets/colab-badge.svg\" alt=\"Open In Colab\"/></a>"
      ]
    },
    {
      "cell_type": "markdown",
      "source": [
        "# Linear Regression in Python: Step By Step Tutorial with Example\n"
      ],
      "metadata": {
        "id": "-x5bDpFyMx6L"
      }
    },
    {
      "cell_type": "markdown",
      "source": [
        "## Introduction"
      ],
      "metadata": {
        "id": "87-wYi663LT1"
      }
    },
    {
      "cell_type": "markdown",
      "source": [
        "Welcome to this comprehensive tutorial on linear regression in Python! In this video, I'll walk you through the entire process of building a simple linear regression model from scratch, complete with a real-world example.\n",
        "\n",
        "- 00:00 Introduction\n",
        "- 00:45 What is Linear Regression?\n",
        "- 01:30 Data Collection\n",
        "- 02:15 Data Visualization\n",
        "- 03:20 Model Building with scikit-learn\n",
        "- 04:45 Making Predictions\n",
        "- 05:30 Model Evaluation (MSE and R-squared)\n",
        "- 06:15 Plotting the Regression Line\n",
        "- 07:00 Conclusion and Recap\n",
        "Keywords\n",
        "\n",
        "Linear Regression Python, Linear Regression Tutorial, Linear Regression Example, Simple Linear Regression, Predictive Modeling, scikit-learn, Data Visualization, Model Evaluation, Mean Squared Error, R-squared, Regression Line, Machine Learning Python, Python Tutorial, Data Science, Data Analysis.\n",
        "\n",
        "Don't forget to like, share, and subscribe for more data science and machine learning tutorials! If you have any questions or suggestions for future videos, please leave them in the comments below."
      ],
      "metadata": {
        "id": "7YrWaAU73RS9"
      }
    },
    {
      "cell_type": "markdown",
      "source": [
        "## What is Linear Regression?"
      ],
      "metadata": {
        "id": "tdpxeoUMNnlk"
      }
    },
    {
      "cell_type": "markdown",
      "source": [
        "**Linear regression** is a commonly used statistical method for modeling the relationship between a dependent variable and one or more independent variables by fitting a linear equation to the observed data. The goal is to find the best-fitting line (or hyperplane in the case of multiple independent variables) that minimizes the sum of squared differences between the predicted values and the actual values."
      ],
      "metadata": {
        "id": "bGWwjj7RM4Ks"
      }
    },
    {
      "cell_type": "markdown",
      "source": [
        "- `Dependent Variable:` The variable you want to predict or understand.\n",
        "- `Independent Variable:` The variable(s) that influence or explain the dependent variable."
      ],
      "metadata": {
        "id": "tpzKXbR-TjX7"
      }
    },
    {
      "cell_type": "markdown",
      "source": [
        "In this tutorial, I will show you a step-by-step example of linear regression with a simple single-variable (simple linear regression) example:"
      ],
      "metadata": {
        "id": "6egmSKleNOBj"
      }
    },
    {
      "cell_type": "markdown",
      "source": [
        "## Define the Problem"
      ],
      "metadata": {
        "id": "jdmCKXSlNaFF"
      }
    },
    {
      "cell_type": "markdown",
      "source": [
        "**Problem Statement:** Suppose you want to predict a student's score on a test (dependent variable) based on the number of hours they studied (independent variable). You have collected data on several students, including their study hours and test scores, and you want to build a linear regression model to make predictions."
      ],
      "metadata": {
        "id": "u3ah7TVFNjWs"
      }
    },
    {
      "cell_type": "markdown",
      "source": [
        "## Step 1: Data Collection\n",
        "\n"
      ],
      "metadata": {
        "id": "WYyHq_00OC_k"
      }
    },
    {
      "cell_type": "markdown",
      "source": [
        "Collect data on study hours (independent variable) and test scores (dependent variable) for a group of students. Here's a simplified dataset:"
      ],
      "metadata": {
        "id": "naPaBvzROM42"
      }
    },
    {
      "cell_type": "markdown",
      "source": [
        "<table>\n",
        "\n",
        "<th>Study Hours (X)</th>\n",
        "<th>Test Scores (Y)</th>\n",
        "<tr><td>2</td><td>50</td></tr>\n",
        "<tr><td>3</td><td>60</td></tr>\n",
        "<tr><td>4</td><td>70</td></tr>\n",
        "<tr><td>5</td><td>75</td></tr>\n",
        "<tr><td>6</td><td>80</td></tr>\n",
        "\n",
        "\n",
        "</table>"
      ],
      "metadata": {
        "id": "aKa96uKnOdnk"
      }
    },
    {
      "cell_type": "markdown",
      "source": [
        "## Step 2: Data Visualization\n"
      ],
      "metadata": {
        "id": "DZAZh53wPpns"
      }
    },
    {
      "cell_type": "markdown",
      "source": [
        "Visualize the data using a scatter plot to understand the relationship between study hours and test scores. This will help you determine if a linear relationship exists."
      ],
      "metadata": {
        "id": "yODeG35zPtbj"
      }
    },
    {
      "cell_type": "code",
      "execution_count": null,
      "metadata": {
        "colab": {
          "base_uri": "https://localhost:8080/",
          "height": 472
        },
        "id": "JIqK1zV0MqDG",
        "outputId": "c31d1c29-76dd-4c8b-8564-c5553c921c01"
      },
      "outputs": [
        {
          "output_type": "display_data",
          "data": {
            "text/plain": [
              "<Figure size 640x480 with 1 Axes>"
            ],
            "image/png": "[encoded data removed]"
          },
          "metadata": {}
        }
      ],
      "source": [
        "import matplotlib.pyplot as plt\n",
        "\n",
        "# data\n",
        "study_hours = [2, 3, 4, 5, 6]\n",
        "test_scores = [50, 60, 70, 75, 80]\n",
        "\n",
        "# scatter plot\n",
        "plt.scatter(study_hours, test_scores)\n",
        "plt.title(\"Study hours vs Test Scores\")\n",
        "plt.xlabel('Study hours')\n",
        "plt.ylabel('Test Scores')\n",
        "plt.show()"
      ]
    },
    {
      "cell_type": "markdown",
      "source": [
        "From the scatter plot, it appears that there is a linear relationship between study hours and test scores. As study hours increase, test scores generally tend to increase as well."
      ],
      "metadata": {
        "id": "dOFcSKAWP198"
      }
    },
    {
      "cell_type": "markdown",
      "source": [
        "## Step 3: Model Building\n"
      ],
      "metadata": {
        "id": "5i8-fc5IP9Yk"
      }
    },
    {
      "cell_type": "markdown",
      "source": [
        "Build a linear regression model to fit the data. The equation for a simple linear regression model is:\n",
        "\n",
        "`Y = b0 + b1 * X`\n",
        "\n",
        "\n",
        "Where:\n",
        "`Y` is the predicted test score.\n",
        "`X` is the study hours.\n",
        "`b0` is the intercept (constant).\n",
        "\n",
        "`b1` is the slope (coefficient) that represents the change in test score for each additional study hour.\n",
        "You can use various methods to calculate\n",
        "`b0` and `b1`, such as the least squares method. In Python, you can use libraries like `NumPy` or `scikit-learn` to perform linear regression. Here's an example using scikit-learn:"
      ],
      "metadata": {
        "id": "Am_An13qQCif"
      }
    },
    {
      "cell_type": "code",
      "source": [
        "\n",
        "# import LinearRegression from scikit-learn module\n",
        "from sklearn.linear_model import LinearRegression\n",
        "import numpy as np\n",
        "# reshape the data\n",
        "study_hours = np.array(study_hours).reshape(-1, 1)\n",
        "test_scores = np.array(test_scores)"
      ],
      "metadata": {
        "id": "l9pfu4YKQpTX"
      },
      "execution_count": null,
      "outputs": []
    },
    {
      "cell_type": "code",
      "source": [
        "# create linear regression model\n",
        "model = LinearRegression()\n",
        "\n",
        "# fit the model to the data\n",
        "model.fit(study_hours, test_scores)\n",
        "\n"
      ],
      "metadata": {
        "colab": {
          "base_uri": "https://localhost:8080/",
          "height": 75
        },
        "id": "diMNHvZ6cVxU",
        "outputId": "e5fcf06a-37b5-495e-9431-2a8942097e13"
      },
      "execution_count": null,
      "outputs": [
        {
          "output_type": "execute_result",
          "data": {
            "text/plain": [
              "LinearRegression()"
            ],
            "text/html": [
              "<style>#sk-container-id-1 {color: black;background-color: white;}#sk-container-id-1 pre{padding: 0;}#sk-container-id-1 div.sk-toggleable {background-color: white;}#sk-container-id-1 label.sk-toggleable__label {cursor: pointer;display: block;width: 100%;margin-bottom: 0;padding: 0.3em;box-sizing: border-box;text-align: center;}#sk-container-id-1 label.sk-toggleable__label-arrow:before {content: \"▸\";float: left;margin-right: 0.25em;color: #696969;}#sk-container-id-1 label.sk-toggleable__label-arrow:hover:before {color: black;}#sk-container-id-1 div.sk-estimator:hover label.sk-toggleable__label-arrow:before {color: black;}#sk-container-id-1 div.sk-toggleable__content {max-height: 0;max-width: 0;overflow: hidden;text-align: left;background-color: #f0f8ff;}#sk-container-id-1 div.sk-toggleable__content pre {margin: 0.2em;color: black;border-radius: 0.25em;background-color: #f0f8ff;}#sk-container-id-1 input.sk-toggleable__control:checked~div.sk-toggleable__content {max-height: 200px;max-width: 100%;overflow: auto;}#sk-container-id-1 input.sk-toggleable__control:checked~label.sk-toggleable__label-arrow:before {content: \"▾\";}#sk-container-id-1 div.sk-estimator input.sk-toggleable__control:checked~label.sk-toggleable__label {background-color: #d4ebff;}#sk-container-id-1 div.sk-label input.sk-toggleable__control:checked~label.sk-toggleable__label {background-color: #d4ebff;}#sk-container-id-1 input.sk-hidden--visually {border: 0;clip: rect(1px 1px 1px 1px);clip: rect(1px, 1px, 1px, 1px);height: 1px;margin: -1px;overflow: hidden;padding: 0;position: absolute;width: 1px;}#sk-container-id-1 div.sk-estimator {font-family: monospace;background-color: #f0f8ff;border: 1px dotted black;border-radius: 0.25em;box-sizing: border-box;margin-bottom: 0.5em;}#sk-container-id-1 div.sk-estimator:hover {background-color: #d4ebff;}#sk-container-id-1 div.sk-parallel-item::after {content: \"\";width: 100%;border-bottom: 1px solid gray;flex-grow: 1;}#sk-container-id-1 div.sk-label:hover label.sk-toggleable__label {background-color: #d4ebff;}#sk-container-id-1 div.sk-serial::before {content: \"\";position: absolute;border-left: 1px solid gray;box-sizing: border-box;top: 0;bottom: 0;left: 50%;z-index: 0;}#sk-container-id-1 div.sk-serial {display: flex;flex-direction: column;align-items: center;background-color: white;padding-right: 0.2em;padding-left: 0.2em;position: relative;}#sk-container-id-1 div.sk-item {position: relative;z-index: 1;}#sk-container-id-1 div.sk-parallel {display: flex;align-items: stretch;justify-content: center;background-color: white;position: relative;}#sk-container-id-1 div.sk-item::before, #sk-container-id-1 div.sk-parallel-item::before {content: \"\";position: absolute;border-left: 1px solid gray;box-sizing: border-box;top: 0;bottom: 0;left: 50%;z-index: -1;}#sk-container-id-1 div.sk-parallel-item {display: flex;flex-direction: column;z-index: 1;position: relative;background-color: white;}#sk-container-id-1 div.sk-parallel-item:first-child::after {align-self: flex-end;width: 50%;}#sk-container-id-1 div.sk-parallel-item:last-child::after {align-self: flex-start;width: 50%;}#sk-container-id-1 div.sk-parallel-item:only-child::after {width: 0;}#sk-container-id-1 div.sk-dashed-wrapped {border: 1px dashed gray;margin: 0 0.4em 0.5em 0.4em;box-sizing: border-box;padding-bottom: 0.4em;background-color: white;}#sk-container-id-1 div.sk-label label {font-family: monospace;font-weight: bold;display: inline-block;line-height: 1.2em;}#sk-container-id-1 div.sk-label-container {text-align: center;}#sk-container-id-1 div.sk-container {/* jupyter's `normalize.less` sets `[hidden] { display: none; }` but bootstrap.min.css set `[hidden] { display: none !important; }` so we also need the `!important` here to be able to override the default hidden behavior on the sphinx rendered scikit-learn.org. See: https://github.com/scikit-learn/scikit-learn/issues/21755 */display: inline-block !important;position: relative;}#sk-container-id-1 div.sk-text-repr-fallback {display: none;}</style><div id=\"sk-container-id-1\" class=\"sk-top-container\"><div class=\"sk-text-repr-fallback\"><pre>LinearRegression()</pre><b>In a Jupyter environment, please rerun this cell to show the HTML representation or trust the notebook. <br />On GitHub, the HTML representation is unable to render, please try loading this page with nbviewer.org.</b></div><div class=\"sk-container\" hidden><div class=\"sk-item\"><div class=\"sk-estimator sk-toggleable\"><input class=\"sk-toggleable__control sk-hidden--visually\" id=\"sk-estimator-id-1\" type=\"checkbox\" checked><label for=\"sk-estimator-id-1\" class=\"sk-toggleable__label sk-toggleable__label-arrow\">LinearRegression</label><div class=\"sk-toggleable__content\"><pre>LinearRegression()</pre></div></div></div></div></div>"
            ]
          },
          "metadata": {},
          "execution_count": 4
        }
      ]
    },
    {
      "cell_type": "code",
      "source": [
        "# get the intecept and slope\n",
        "b0 = model.intercept_\n",
        "b1 = model.coef_[0]\n",
        "print(b0, b1)"
      ],
      "metadata": {
        "colab": {
          "base_uri": "https://localhost:8080/"
        },
        "id": "soH7gpLJcm6V",
        "outputId": "f07414d9-0726-411e-8dcf-ee1717497824"
      },
      "execution_count": null,
      "outputs": [
        {
          "output_type": "stream",
          "name": "stdout",
          "text": [
            "37.0 7.500000000000001\n"
          ]
        }
      ]
    },
    {
      "cell_type": "markdown",
      "source": [
        "## Step 4: Make Predictions\n",
        "Once you have the model coefficients `(b0 and b1)`, you can make predictions for test scores based on new study hours."
      ],
      "metadata": {
        "id": "mrF3c8gRQxC8"
      }
    },
    {
      "cell_type": "code",
      "source": [
        "# predict test scores for new study hours\n",
        "new_study_hours = [6, 7, 8, 9]\n",
        "# y = b0 + b1 * x\n",
        "predicted_scores = model.predict(np.array(new_study_hours).reshape(-1, 1))\n",
        "\n",
        "for i, hours in enumerate(new_study_hours):\n",
        "  print(f'Predicted score for {hours} hours of study : {predicted_scores[i]}')"
      ],
      "metadata": {
        "colab": {
          "base_uri": "https://localhost:8080/"
        },
        "id": "aB1F_b45RJpS",
        "outputId": "6449dfb9-da1b-45d3-a5ff-5837148d4d95"
      },
      "execution_count": null,
      "outputs": [
        {
          "output_type": "stream",
          "name": "stdout",
          "text": [
            "Predicted score for 6 hours of study : 82.0\n",
            "Predicted score for 7 hours of study : 89.5\n",
            "Predicted score for 8 hours of study : 97.0\n",
            "Predicted score for 9 hours of study : 104.50000000000001\n"
          ]
        }
      ]
    },
    {
      "cell_type": "markdown",
      "source": [
        "## Step 5: Plotting the Regression Line\n"
      ],
      "metadata": {
        "id": "kmNetAQkRPpy"
      }
    },
    {
      "cell_type": "markdown",
      "source": [
        "To plot a regression line on a scatter plot in Python, you can use the coefficients obtained from your linear regression model to create the line.\n",
        "\n",
        "Assuming you already have a fitted linear regression model (model), here are the steps to plot the regression line:"
      ],
      "metadata": {
        "id": "sW2HarwiRSsq"
      }
    },
    {
      "cell_type": "code",
      "source": [
        "import matplotlib.pyplot as plt\n",
        "import numpy as np\n",
        "\n",
        "# Scatter plot of the data points\n",
        "plt.scatter(study_hours, test_scores, label='Data points')\n",
        "plt.title('Study Hours vs. Test Scores')\n",
        "plt.xlabel('Study Hours')\n",
        "plt.ylabel('Test Scores')\n",
        "\n",
        "# Generate a range of study hours for the regression line\n",
        "x_range = np.linspace(min(study_hours), max(study_hours), 100).reshape(-1, 1)\n",
        "# print(x_range)\n",
        "# Predict test scores for the x_range using the model\n",
        "predicted_scores = model.predict(x_range)\n",
        "\n",
        "# Plot the regression line\n",
        "plt.plot(x_range, predicted_scores, color='red', linewidth=2,\n",
        "         label='Regression Line')\n",
        "\n",
        "# Show legend\n",
        "plt.legend()\n",
        "\n",
        "# Display the plot\n",
        "plt.show()\n"
      ],
      "metadata": {
        "colab": {
          "base_uri": "https://localhost:8080/",
          "height": 472
        },
        "id": "tmOo26J_Rg0b",
        "outputId": "6a83a655-a0f5-4b90-a1c2-2cebfb2e1b3f"
      },
      "execution_count": null,
      "outputs": [
        {
          "output_type": "display_data",
          "data": {
            "text/plain": [
              "<Figure size 640x480 with 1 Axes>"
            ],
            "image/png": "[encoded data removed]"
          },
          "metadata": {}
        }
      ]
    },
    {
      "cell_type": "markdown",
      "source": [
        "I've generated a range of study hours (`x_range`) to create the x-values for the regression line. It covers the same range as your observed data points.\n",
        "\n",
        "I used the `model.predict` method to predict the corresponding test scores (`predicted_scores`) for the `x_range`.\n",
        "\n",
        "Finally, I used `plt.plot` to plot the regression line on the scatter plot, setting the line color to red and adjusting its linewidth. The label parameter adds a label for the legend.\n",
        "\n",
        "Don't forget to call `plt.legend()` to display the legend and `plt.show(`) to show the plot."
      ],
      "metadata": {
        "id": "Zkt81VVaSAEK"
      }
    },
    {
      "cell_type": "markdown",
      "source": [
        "# Conclusion"
      ],
      "metadata": {
        "id": "bdbIGnO1RfyW"
      }
    },
    {
      "cell_type": "markdown",
      "source": [
        "This example demonstrates the basic steps of simple linear regression. In practice, you may encounter more complex regression scenarios with multiple independent variables (multiple linear regression) or non-linear relationships (polynomial regression), but the fundamental principles remain similar.\n",
        "\n"
      ],
      "metadata": {
        "id": "kF7j9d7HRv7C"
      }
    },
    {
      "cell_type": "markdown",
      "source": [
        "# Multiple Linear Regression in Python: Beginer's Guide"
      ],
      "metadata": {
        "id": "RzZ2Xr_b6MKQ"
      }
    },
    {
      "cell_type": "markdown",
      "source": [
        "## Description"
      ],
      "metadata": {
        "id": "irNIzEG5y2_H"
      }
    },
    {
      "cell_type": "markdown",
      "source": [
        "Multivariable linear regression, also known as multiple linear regression, is a statistical method used for modeling the relationship between a dependent variable and multiple independent variables.\n",
        "\n",
        "It extends the concept of simple linear regression, where there is only one independent variable, to situations where there are two or more independent variables that may affect the dependent variable.\n",
        "\n",
        "\n",
        "In this tutorial, I'll demonstrate how to perform multiple linear regression using Python and the popular `scikit-learn` library. I'll use a synthetic dataset for simplicity."
      ],
      "metadata": {
        "id": "mbD1wQopxrvY"
      }
    },
    {
      "cell_type": "markdown",
      "source": [
        "## Introduction"
      ],
      "metadata": {
        "id": "VmcdJTvOyzZp"
      }
    },
    {
      "cell_type": "markdown",
      "source": [
        "In multivariable linear regression, the goal is to find a linear equation that best describes the relationship between the dependent variable (often denoted as `\"Y\"`) and the independent variables (often denoted as `\"X1,\" \"X2,`\" etc.). The linear equation takes the following form:\n",
        "\n",
        "`Y = β0 + β1X1 + β2X2 + ... + βnXn + ε`\n",
        "\n",
        "Where:\n",
        "\n",
        "- `Y` is the dependent variable (the one you want to predict or explain).\n",
        "`X1, X2`, ..., `Xn` are the independent variables (features or predictors).\n",
        "- `β0` is the intercept (the value of Y when all independent variables are zero).\n",
        "- `β1, β2, ..., βn` are the coefficients that represent the change in Y for a one-unit change in each corresponding independent variable while holding all other variables constant.\n",
        "\n",
        "- `ε` represents the error term, which accounts for the variability in Y that cannot be explained by the linear relationship with the independent variables."
      ],
      "metadata": {
        "id": "vn34ItBMyiDf"
      }
    },
    {
      "cell_type": "markdown",
      "source": [
        "## Step by step implementation\n"
      ],
      "metadata": {
        "id": "KJsje0OO0EfR"
      }
    },
    {
      "cell_type": "markdown",
      "source": [
        "Implementing multivariable linear regression involves several steps, including **data preparation**, **model building**, and **evaluation**. Here, I'll provide a detailed implementation example in Python using the `**scikit-learn**` library, a popular machine learning library for Python. I'll use a sample dataset to illustrate the process. Make sure you have `**scikit-learn**` installed; you can install it using `pip` if you haven't already:\n",
        "\n",
        "\n"
      ],
      "metadata": {
        "id": "HsErGPlA0JTy"
      }
    },
    {
      "cell_type": "markdown",
      "source": [
        "## Step 1: Install Necessary Libraries"
      ],
      "metadata": {
        "id": "4j3Vt8QG08pK"
      }
    },
    {
      "cell_type": "code",
      "source": [
        "# !pip install scikit-learn"
      ],
      "metadata": {
        "id": "3j5r_5mt00xf"
      },
      "execution_count": null,
      "outputs": []
    },
    {
      "cell_type": "markdown",
      "source": [
        "## Step 2: Import Libraries\n",
        "In your Python script or Jupyter Notebook, start by importing the necessary libraries:"
      ],
      "metadata": {
        "id": "UR0AFk5t03TT"
      }
    },
    {
      "cell_type": "code",
      "source": [
        "import numpy as np\n",
        "import pandas as pd\n",
        "import matplotlib.pyplot as plt\n",
        "from sklearn.model_selection import train_test_split\n",
        "from sklearn.linear_model import LinearRegression\n",
        "from sklearn.metrics import mean_squared_error, r2_score\n"
      ],
      "metadata": {
        "id": "DlLKKt931HOn"
      },
      "execution_count": null,
      "outputs": []
    },
    {
      "cell_type": "markdown",
      "source": [
        "## Step 3: Load Your Dataset\n",
        "You'll need a dataset with multiple independent variables and one dependent variable. You can use your own dataset or create a synthetic one as an example. For this guide, I'll create a simple synthetic dataset:"
      ],
      "metadata": {
        "id": "-ZlExr4O0jp0"
      }
    },
    {
      "cell_type": "code",
      "source": [
        "# Set a random seed for reproducibility\n",
        "np.random.seed(0)\n",
        "\n",
        "# Generate random data for X1, X2, and Y\n",
        "num_samples = 100\n",
        "\n",
        "X1 = np.random.randint(1, 100, size=num_samples)\n",
        "X2 = np.random.randint(1, 100, size=num_samples)\n",
        "Y = 2 * X1 + 3 * X2 + np.random.randint(-10, 10, size=num_samples)\n",
        "\n",
        "# Create a DataFrame\n",
        "data = pd.DataFrame({'X1': X1, 'X2': X2, 'Y': Y})\n",
        "\n",
        "df = pd.DataFrame(data)\n",
        "df.head()"
      ],
      "metadata": {
        "colab": {
          "base_uri": "https://localhost:8080/",
          "height": 206
        },
        "id": "hNqtFOYT2wxE",
        "outputId": "1df7fb9d-3901-46ec-ec2e-3dfc66528de2"
      },
      "execution_count": null,
      "outputs": [
        {
          "output_type": "execute_result",
          "data": {
            "text/plain": [
              "   X1  X2    Y\n",
              "0  45  36  203\n",
              "1  48  65  290\n",
              "2  65  96  426\n",
              "3  68  70  344\n",
              "4  68  95  426"
            ],
            "text/html": [
              "\n",
              "  <div id=\"df-a8f48d68-60aa-4fdf-be92-535521be57a6\" class=\"colab-df-container\">\n",
              "    <div>\n",
              "<style scoped>\n",
              "    .dataframe tbody tr th:only-of-type {\n",
              "        vertical-align: middle;\n",
              "    }\n",
              "\n",
              "    .dataframe tbody tr th {\n",
              "        vertical-align: top;\n",
              "    }\n",
              "\n",
              "    .dataframe thead th {\n",
              "        text-align: right;\n",
              "    }\n",
              "</style>\n",
              "<table border=\"1\" class=\"dataframe\">\n",
              "  <thead>\n",
              "    <tr style=\"text-align: right;\">\n",
              "      <th></th>\n",
              "      <th>X1</th>\n",
              "      <th>X2</th>\n",
              "      <th>Y</th>\n",
              "    </tr>\n",
              "  </thead>\n",
              "  <tbody>\n",
              "    <tr>\n",
              "      <th>0</th>\n",
              "      <td>45</td>\n",
              "      <td>36</td>\n",
              "      <td>203</td>\n",
              "    </tr>\n",
              "    <tr>\n",
              "      <th>1</th>\n",
              "      <td>48</td>\n",
              "      <td>65</td>\n",
              "      <td>290</td>\n",
              "    </tr>\n",
              "    <tr>\n",
              "      <th>2</th>\n",
              "      <td>65</td>\n",
              "      <td>96</td>\n",
              "      <td>426</td>\n",
              "    </tr>\n",
              "    <tr>\n",
              "      <th>3</th>\n",
              "      <td>68</td>\n",
              "      <td>70</td>\n",
              "      <td>344</td>\n",
              "    </tr>\n",
              "    <tr>\n",
              "      <th>4</th>\n",
              "      <td>68</td>\n",
              "      <td>95</td>\n",
              "      <td>426</td>\n",
              "    </tr>\n",
              "  </tbody>\n",
              "</table>\n",
              "</div>\n",
              "    <div class=\"colab-df-buttons\">\n",
              "\n",
              "  <div class=\"colab-df-container\">\n",
              "    <button class=\"colab-df-convert\" onclick=\"convertToInteractive('df-a8f48d68-60aa-4fdf-be92-535521be57a6')\"\n",
              "            title=\"Convert this dataframe to an interactive table.\"\n",
              "            style=\"display:none;\">\n",
              "\n",
              "  <svg xmlns=\"http://www.w3.org/2000/svg\" height=\"24px\" viewBox=\"0 -960 960 960\">\n",
              "    <path d=\"M120-120v-720h720v720H120Zm60-500h600v-160H180v160Zm220 220h160v-160H400v160Zm0 220h160v-160H400v160ZM180-400h160v-160H180v160Zm440 0h160v-160H620v160ZM180-180h160v-160H180v160Zm440 0h160v-160H620v160Z\"/>\n",
              "  </svg>\n",
              "    </button>\n",
              "\n",
              "  <style>\n",
              "    .colab-df-container {\n",
              "      display:flex;\n",
              "      gap: 12px;\n",
              "    }\n",
              "\n",
              "    .colab-df-convert {\n",
              "      background-color: #E8F0FE;\n",
              "      border: none;\n",
              "      border-radius: 50%;\n",
              "      cursor: pointer;\n",
              "      display: none;\n",
              "      fill: #1967D2;\n",
              "      height: 32px;\n",
              "      padding: 0 0 0 0;\n",
              "      width: 32px;\n",
              "    }\n",
              "\n",
              "    .colab-df-convert:hover {\n",
              "      background-color: #E2EBFA;\n",
              "      box-shadow: 0px 1px 2px rgba(60, 64, 67, 0.3), 0px 1px 3px 1px rgba(60, 64, 67, 0.15);\n",
              "      fill: #174EA6;\n",
              "    }\n",
              "\n",
              "    .colab-df-buttons div {\n",
              "      margin-bottom: 4px;\n",
              "    }\n",
              "\n",
              "    [theme=dark] .colab-df-convert {\n",
              "      background-color: #3B4455;\n",
              "      fill: #D2E3FC;\n",
              "    }\n",
              "\n",
              "    [theme=dark] .colab-df-convert:hover {\n",
              "      background-color: #434B5C;\n",
              "      box-shadow: 0px 1px 3px 1px rgba(0, 0, 0, 0.15);\n",
              "      filter: drop-shadow(0px 1px 2px rgba(0, 0, 0, 0.3));\n",
              "      fill: #FFFFFF;\n",
              "    }\n",
              "  </style>\n",
              "\n",
              "    <script>\n",
              "      const buttonEl =\n",
              "        document.querySelector('#df-a8f48d68-60aa-4fdf-be92-535521be57a6 button.colab-df-convert');\n",
              "      buttonEl.style.display =\n",
              "        google.colab.kernel.accessAllowed ? 'block' : 'none';\n",
              "\n",
              "      async function convertToInteractive(key) {\n",
              "        const element = document.querySelector('#df-a8f48d68-60aa-4fdf-be92-535521be57a6');\n",
              "        const dataTable =\n",
              "          await google.colab.kernel.invokeFunction('convertToInteractive',\n",
              "                                                    [key], {});\n",
              "        if (!dataTable) return;\n",
              "\n",
              "        const docLinkHtml = 'Like what you see? Visit the ' +\n",
              "          '<a target=\"_blank\" href=https://colab.research.google.com/notebooks/data_table.ipynb>data table notebook</a>'\n",
              "          + ' to learn more about interactive tables.';\n",
              "        element.innerHTML = '';\n",
              "        dataTable['output_type'] = 'display_data';\n",
              "        await google.colab.output.renderOutput(dataTable, element);\n",
              "        const docLink = document.createElement('div');\n",
              "        docLink.innerHTML = docLinkHtml;\n",
              "        element.appendChild(docLink);\n",
              "      }\n",
              "    </script>\n",
              "  </div>\n",
              "\n",
              "\n",
              "<div id=\"df-7c7d2ac1-1f2b-42b5-8140-221c377e0926\">\n",
              "  <button class=\"colab-df-quickchart\" onclick=\"quickchart('df-7c7d2ac1-1f2b-42b5-8140-221c377e0926')\"\n",
              "            title=\"Suggest charts.\"\n",
              "            style=\"display:none;\">\n",
              "\n",
              "<svg xmlns=\"http://www.w3.org/2000/svg\" height=\"24px\"viewBox=\"0 0 24 24\"\n",
              "     width=\"24px\">\n",
              "    <g>\n",
              "        <path d=\"M19 3H5c-1.1 0-2 .9-2 2v14c0 1.1.9 2 2 2h14c1.1 0 2-.9 2-2V5c0-1.1-.9-2-2-2zM9 17H7v-7h2v7zm4 0h-2V7h2v10zm4 0h-2v-4h2v4z\"/>\n",
              "    </g>\n",
              "</svg>\n",
              "  </button>\n",
              "\n",
              "<style>\n",
              "  .colab-df-quickchart {\n",
              "      --bg-color: #E8F0FE;\n",
              "      --fill-color: #1967D2;\n",
              "      --hover-bg-color: #E2EBFA;\n",
              "      --hover-fill-color: #174EA6;\n",
              "      --disabled-fill-color: #AAA;\n",
              "      --disabled-bg-color: #DDD;\n",
              "  }\n",
              "\n",
              "  [theme=dark] .colab-df-quickchart {\n",
              "      --bg-color: #3B4455;\n",
              "      --fill-color: #D2E3FC;\n",
              "      --hover-bg-color: #434B5C;\n",
              "      --hover-fill-color: #FFFFFF;\n",
              "      --disabled-bg-color: #3B4455;\n",
              "      --disabled-fill-color: #666;\n",
              "  }\n",
              "\n",
              "  .colab-df-quickchart {\n",
              "    background-color: var(--bg-color);\n",
              "    border: none;\n",
              "    border-radius: 50%;\n",
              "    cursor: pointer;\n",
              "    display: none;\n",
              "    fill: var(--fill-color);\n",
              "    height: 32px;\n",
              "    padding: 0;\n",
              "    width: 32px;\n",
              "  }\n",
              "\n",
              "  .colab-df-quickchart:hover {\n",
              "    background-color: var(--hover-bg-color);\n",
              "    box-shadow: 0 1px 2px rgba(60, 64, 67, 0.3), 0 1px 3px 1px rgba(60, 64, 67, 0.15);\n",
              "    fill: var(--button-hover-fill-color);\n",
              "  }\n",
              "\n",
              "  .colab-df-quickchart-complete:disabled,\n",
              "  .colab-df-quickchart-complete:disabled:hover {\n",
              "    background-color: var(--disabled-bg-color);\n",
              "    fill: var(--disabled-fill-color);\n",
              "    box-shadow: none;\n",
              "  }\n",
              "\n",
              "  .colab-df-spinner {\n",
              "    border: 2px solid var(--fill-color);\n",
              "    border-color: transparent;\n",
              "    border-bottom-color: var(--fill-color);\n",
              "    animation:\n",
              "      spin 1s steps(1) infinite;\n",
              "  }\n",
              "\n",
              "  @keyframes spin {\n",
              "    0% {\n",
              "      border-color: transparent;\n",
              "      border-bottom-color: var(--fill-color);\n",
              "      border-left-color: var(--fill-color);\n",
              "    }\n",
              "    20% {\n",
              "      border-color: transparent;\n",
              "      border-left-color: var(--fill-color);\n",
              "      border-top-color: var(--fill-color);\n",
              "    }\n",
              "    30% {\n",
              "      border-color: transparent;\n",
              "      border-left-color: var(--fill-color);\n",
              "      border-top-color: var(--fill-color);\n",
              "      border-right-color: var(--fill-color);\n",
              "    }\n",
              "    40% {\n",
              "      border-color: transparent;\n",
              "      border-right-color: var(--fill-color);\n",
              "      border-top-color: var(--fill-color);\n",
              "    }\n",
              "    60% {\n",
              "      border-color: transparent;\n",
              "      border-right-color: var(--fill-color);\n",
              "    }\n",
              "    80% {\n",
              "      border-color: transparent;\n",
              "      border-right-color: var(--fill-color);\n",
              "      border-bottom-color: var(--fill-color);\n",
              "    }\n",
              "    90% {\n",
              "      border-color: transparent;\n",
              "      border-bottom-color: var(--fill-color);\n",
              "    }\n",
              "  }\n",
              "</style>\n",
              "\n",
              "  <script>\n",
              "    async function quickchart(key) {\n",
              "      const quickchartButtonEl =\n",
              "        document.querySelector('#' + key + ' button');\n",
              "      quickchartButtonEl.disabled = true;  // To prevent multiple clicks.\n",
              "      quickchartButtonEl.classList.add('colab-df-spinner');\n",
              "      try {\n",
              "        const charts = await google.colab.kernel.invokeFunction(\n",
              "            'suggestCharts', [key], {});\n",
              "      } catch (error) {\n",
              "        console.error('Error during call to suggestCharts:', error);\n",
              "      }\n",
              "      quickchartButtonEl.classList.remove('colab-df-spinner');\n",
              "      quickchartButtonEl.classList.add('colab-df-quickchart-complete');\n",
              "    }\n",
              "    (() => {\n",
              "      let quickchartButtonEl =\n",
              "        document.querySelector('#df-7c7d2ac1-1f2b-42b5-8140-221c377e0926 button');\n",
              "      quickchartButtonEl.style.display =\n",
              "        google.colab.kernel.accessAllowed ? 'block' : 'none';\n",
              "    })();\n",
              "  </script>\n",
              "</div>\n",
              "    </div>\n",
              "  </div>\n"
            ]
          },
          "metadata": {},
          "execution_count": 25
        }
      ]
    },
    {
      "cell_type": "markdown",
      "source": [
        "## Step 4: Variables Relationship with Scatter Plot\n",
        "Let's visualize the relationship between the independent variables (X1 and X2) and the dependent variable (y) using scatter plots:"
      ],
      "metadata": {
        "id": "JMq1cehP5TgD"
      }
    },
    {
      "cell_type": "code",
      "source": [
        "\n",
        "# Scatter plot for X1 vs. Y\n",
        "plt.scatter(df['X1'], df['Y'], label='X1 vs. Y')\n",
        "# Scatter plot for X2 vs. Y\n",
        "plt.scatter(df['X2'], df['Y'], label='X2 vs. Y', color='orange')\n",
        "plt.xlabel('X1 and X2')\n",
        "plt.ylabel('Y')\n",
        "plt.title('Multivariable Linear Regression')\n",
        "plt.legend()\n",
        "plt.show()"
      ],
      "metadata": {
        "colab": {
          "base_uri": "https://localhost:8080/",
          "height": 472
        },
        "id": "zlTRB3LH5XHe",
        "outputId": "59aec302-950f-44c1-8f32-b8db7c87ed5f"
      },
      "execution_count": null,
      "outputs": [
        {
          "output_type": "display_data",
          "data": {
            "text/plain": [
              "<Figure size 640x480 with 1 Axes>"
            ],
            "image/png": "[encoded data removed]"
          },
          "metadata": {}
        }
      ]
    },
    {
      "cell_type": "markdown",
      "source": [
        "The scatter plots visually represent the relationship between `X1` and `Y` and between `X2` and `Y`. They show how the dependent variable `Y` varies with changes in the independent variables `X1 and X2`."
      ],
      "metadata": {
        "id": "atmm6yCf5b0A"
      }
    },
    {
      "cell_type": "markdown",
      "source": [
        "## Step 5: Split the Data\n",
        "Next, you'll split your dataset into a training set and a testing set to evaluate the model's performance:"
      ],
      "metadata": {
        "id": "_ekR_lhE236M"
      }
    },
    {
      "cell_type": "code",
      "source": [
        "X = df[['X1', 'X2']]  # Independent variables\n",
        "y = df['Y']           # Dependent variable\n",
        "\n",
        "X_train, X_test, y_train, y_test = train_test_split(X, y, test_size=0.2, random_state=42)\n"
      ],
      "metadata": {
        "id": "V6Y1gGAP2-EU"
      },
      "execution_count": null,
      "outputs": []
    },
    {
      "cell_type": "markdown",
      "source": [
        "## Step 6: Create and Train the Model\n",
        "Now, create a `LinearRegression` model and fit it to the training data:"
      ],
      "metadata": {
        "id": "prVGYFyE29IN"
      }
    },
    {
      "cell_type": "code",
      "source": [
        "# Create and fit the linear regression model\n",
        " # (already shown in the previous example)\n",
        "model = LinearRegression()\n",
        "model.fit(X_train, y_train)\n"
      ],
      "metadata": {
        "colab": {
          "base_uri": "https://localhost:8080/",
          "height": 75
        },
        "id": "50r3z2UB3LrW",
        "outputId": "5d64f606-402f-4556-9c81-9ce4f79aad02"
      },
      "execution_count": null,
      "outputs": [
        {
          "output_type": "execute_result",
          "data": {
            "text/plain": [
              "LinearRegression()"
            ],
            "text/html": [
              "<style>#sk-container-id-3 {color: black;background-color: white;}#sk-container-id-3 pre{padding: 0;}#sk-container-id-3 div.sk-toggleable {background-color: white;}#sk-container-id-3 label.sk-toggleable__label {cursor: pointer;display: block;width: 100%;margin-bottom: 0;padding: 0.3em;box-sizing: border-box;text-align: center;}#sk-container-id-3 label.sk-toggleable__label-arrow:before {content: \"▸\";float: left;margin-right: 0.25em;color: #696969;}#sk-container-id-3 label.sk-toggleable__label-arrow:hover:before {color: black;}#sk-container-id-3 div.sk-estimator:hover label.sk-toggleable__label-arrow:before {color: black;}#sk-container-id-3 div.sk-toggleable__content {max-height: 0;max-width: 0;overflow: hidden;text-align: left;background-color: #f0f8ff;}#sk-container-id-3 div.sk-toggleable__content pre {margin: 0.2em;color: black;border-radius: 0.25em;background-color: #f0f8ff;}#sk-container-id-3 input.sk-toggleable__control:checked~div.sk-toggleable__content {max-height: 200px;max-width: 100%;overflow: auto;}#sk-container-id-3 input.sk-toggleable__control:checked~label.sk-toggleable__label-arrow:before {content: \"▾\";}#sk-container-id-3 div.sk-estimator input.sk-toggleable__control:checked~label.sk-toggleable__label {background-color: #d4ebff;}#sk-container-id-3 div.sk-label input.sk-toggleable__control:checked~label.sk-toggleable__label {background-color: #d4ebff;}#sk-container-id-3 input.sk-hidden--visually {border: 0;clip: rect(1px 1px 1px 1px);clip: rect(1px, 1px, 1px, 1px);height: 1px;margin: -1px;overflow: hidden;padding: 0;position: absolute;width: 1px;}#sk-container-id-3 div.sk-estimator {font-family: monospace;background-color: #f0f8ff;border: 1px dotted black;border-radius: 0.25em;box-sizing: border-box;margin-bottom: 0.5em;}#sk-container-id-3 div.sk-estimator:hover {background-color: #d4ebff;}#sk-container-id-3 div.sk-parallel-item::after {content: \"\";width: 100%;border-bottom: 1px solid gray;flex-grow: 1;}#sk-container-id-3 div.sk-label:hover label.sk-toggleable__label {background-color: #d4ebff;}#sk-container-id-3 div.sk-serial::before {content: \"\";position: absolute;border-left: 1px solid gray;box-sizing: border-box;top: 0;bottom: 0;left: 50%;z-index: 0;}#sk-container-id-3 div.sk-serial {display: flex;flex-direction: column;align-items: center;background-color: white;padding-right: 0.2em;padding-left: 0.2em;position: relative;}#sk-container-id-3 div.sk-item {position: relative;z-index: 1;}#sk-container-id-3 div.sk-parallel {display: flex;align-items: stretch;justify-content: center;background-color: white;position: relative;}#sk-container-id-3 div.sk-item::before, #sk-container-id-3 div.sk-parallel-item::before {content: \"\";position: absolute;border-left: 1px solid gray;box-sizing: border-box;top: 0;bottom: 0;left: 50%;z-index: -1;}#sk-container-id-3 div.sk-parallel-item {display: flex;flex-direction: column;z-index: 1;position: relative;background-color: white;}#sk-container-id-3 div.sk-parallel-item:first-child::after {align-self: flex-end;width: 50%;}#sk-container-id-3 div.sk-parallel-item:last-child::after {align-self: flex-start;width: 50%;}#sk-container-id-3 div.sk-parallel-item:only-child::after {width: 0;}#sk-container-id-3 div.sk-dashed-wrapped {border: 1px dashed gray;margin: 0 0.4em 0.5em 0.4em;box-sizing: border-box;padding-bottom: 0.4em;background-color: white;}#sk-container-id-3 div.sk-label label {font-family: monospace;font-weight: bold;display: inline-block;line-height: 1.2em;}#sk-container-id-3 div.sk-label-container {text-align: center;}#sk-container-id-3 div.sk-container {/* jupyter's `normalize.less` sets `[hidden] { display: none; }` but bootstrap.min.css set `[hidden] { display: none !important; }` so we also need the `!important` here to be able to override the default hidden behavior on the sphinx rendered scikit-learn.org. See: https://github.com/scikit-learn/scikit-learn/issues/21755 */display: inline-block !important;position: relative;}#sk-container-id-3 div.sk-text-repr-fallback {display: none;}</style><div id=\"sk-container-id-3\" class=\"sk-top-container\"><div class=\"sk-text-repr-fallback\"><pre>LinearRegression()</pre><b>In a Jupyter environment, please rerun this cell to show the HTML representation or trust the notebook. <br />On GitHub, the HTML representation is unable to render, please try loading this page with nbviewer.org.</b></div><div class=\"sk-container\" hidden><div class=\"sk-item\"><div class=\"sk-estimator sk-toggleable\"><input class=\"sk-toggleable__control sk-hidden--visually\" id=\"sk-estimator-id-3\" type=\"checkbox\" checked><label for=\"sk-estimator-id-3\" class=\"sk-toggleable__label sk-toggleable__label-arrow\">LinearRegression</label><div class=\"sk-toggleable__content\"><pre>LinearRegression()</pre></div></div></div></div></div>"
            ]
          },
          "metadata": {},
          "execution_count": 28
        }
      ]
    },
    {
      "cell_type": "markdown",
      "source": [
        "## Step 7: Make Predictions and Evaluate the Model\n",
        "Use the trained model to make predictions on the test set and evaluate its performance:"
      ],
      "metadata": {
        "id": "Gz6_OzVh3KyO"
      }
    },
    {
      "cell_type": "code",
      "source": [
        "# Make predictions on the test set\n",
        "y_pred = model.predict(X_test)\n"
      ],
      "metadata": {
        "id": "ak64QebU3bNI"
      },
      "execution_count": null,
      "outputs": []
    },
    {
      "cell_type": "code",
      "source": [
        "y_pred\n"
      ],
      "metadata": {
        "id": "KU4R85WJDGz0",
        "outputId": "703c51de-dba7-46c1-a12a-f277feb17e07",
        "colab": {
          "base_uri": "https://localhost:8080/"
        }
      },
      "execution_count": null,
      "outputs": [
        {
          "output_type": "execute_result",
          "data": {
            "text/plain": [
              "array([189.39596837, 127.55057974, 221.44107983, 217.76278245,\n",
              "        74.0802801 , 189.52488759, 229.27549563, 385.14030357,\n",
              "       422.49216178, 196.78398922, 126.52565573, 235.63859247,\n",
              "       370.3014097 , 331.44680645, 224.99045799, 419.3263264 ,\n",
              "       123.00770365, 226.46177695, 474.20187794, 193.10569183])"
            ]
          },
          "metadata": {},
          "execution_count": 30
        }
      ]
    },
    {
      "cell_type": "code",
      "source": [
        "# Evaluate the model\n",
        "mse = mean_squared_error(y_test, y_pred)\n",
        "r2 = r2_score(y_test, y_pred)\n",
        "\n",
        "print(f\"Mean Squared Error: {mse:.2f}\")\n",
        "print(f\"R-squared: {r2:.2f}\")"
      ],
      "metadata": {
        "colab": {
          "base_uri": "https://localhost:8080/"
        },
        "id": "zxozXwr76ICQ",
        "outputId": "5fb786a9-e6f1-4601-dda3-452986cea017"
      },
      "execution_count": null,
      "outputs": [
        {
          "output_type": "stream",
          "name": "stdout",
          "text": [
            "Mean Squared Error: 33.56\n",
            "R-squared: 1.00\n"
          ]
        }
      ]
    },
    {
      "cell_type": "markdown",
      "source": [
        "Interpret the Results\n",
        "- Mean Squared Error (MSE): A measure of the average squared difference between the actual and predicted values. Lower MSE indicates better model fit.\n",
        "\n",
        "- R-squared (R2) Score: A measure of how well the model explains the variance in the dependent variable. It ranges from 0 to 1, with higher values indicating a better fit."
      ],
      "metadata": {
        "id": "ntJJcLg43mvA"
      }
    },
    {
      "cell_type": "markdown",
      "source": [
        "## Step 8: Explore the Model Coefficients\n",
        "You can also explore the coefficients and intercept of the linear regression model to understand how each independent variable influences the dependent variable:\n"
      ],
      "metadata": {
        "id": "qyUVGQiv30--"
      }
    },
    {
      "cell_type": "code",
      "source": [
        "print(\"Coefficients:\", model.coef_)\n",
        "print(\"Intercept:\", model.intercept_)\n"
      ],
      "metadata": {
        "colab": {
          "base_uri": "https://localhost:8080/"
        },
        "id": "1Fxz_yUo3uta",
        "outputId": "70430471-8456-44aa-d35f-c1e75e8688eb"
      },
      "execution_count": null,
      "outputs": [
        {
          "output_type": "stream",
          "name": "stdout",
          "text": [
            "Coefficients: [2.04663312 2.97406399]\n",
            "Intercept: -2.380804917499006\n"
          ]
        }
      ]
    },
    {
      "cell_type": "markdown",
      "source": [
        "In this code,` model.coef_` represents the coefficients for the independent variables, and `model.intercept_` represents the intercept (constant term) of the linear equation."
      ],
      "metadata": {
        "id": "DgocYRfc4Lcf"
      }
    },
    {
      "cell_type": "markdown",
      "source": [
        "## Conclusion"
      ],
      "metadata": {
        "id": "_uMBw-Bx342Z"
      }
    },
    {
      "cell_type": "markdown",
      "source": [
        "That's it! I've successfully implemented a multivariable linear regression model in Python using `scikit-learn`. You can now apply this knowledge to your own datasets and projects, and further explore advanced topics in regression analysis as you become more comfortable with the basics.\n",
        "\n",
        "Real-World Example: Predicting House Prices"
      ],
      "metadata": {
        "id": "zfzKFHbv38bU"
      }
    },
    {
      "cell_type": "markdown",
      "source": [
        "---\n"
      ],
      "metadata": {
        "id": "DD3-xMgEWmUZ"
      }
    },
    {
      "cell_type": "markdown",
      "source": [
        "# Polynomial Regression in Python: A Beginner's Guide to Machine Learning"
      ],
      "metadata": {
        "id": "S54P2J3tWoGA"
      }
    },
    {
      "cell_type": "markdown",
      "source": [
        "## Introduction"
      ],
      "metadata": {
        "id": "TwZ7dApOhnJ6"
      }
    },
    {
      "cell_type": "markdown",
      "source": [
        "- Polynomial regression is like magic-- it allows you to model curved relationships between variables.\n",
        "\n"
      ],
      "metadata": {
        "id": "YBNNg7d-hqfx"
      }
    },
    {
      "cell_type": "markdown",
      "source": [
        "![image.png](data:image/png;base64,iVBORw0KGgoAAAANSUhEUgAAAPIAAAB5CAIAAACMfevoAAAXr0lEQVR4Ae2dz4vbSJvH/R/0Hva4eU973PfFt4Zhp2HgRezFObzRYQPRQBaBb+pkL4KE1uwS2iwvIkuW16ucos0O7g748GIzwQs7qPcyiSAOjYlDIogvHbXADYYySqsPddDi/nbq1cg/WrYlW7ZlQkc/SqWqb3301FOlUlXOz36ZAmunQG7tcpRlKFPAz7DOIFhDBTKs17BQsyxlWGcMrKECGdZrWKhZlubF2rIsWZYFQTBN0/O8SqVCKY0oq2maiqKMDEwI4Xne931N06JHODKqGQ4KgmBZVuhCWZZN0wwdXNZupVKRZVlV1VarNZwGWZYNwxg+PsMRz/N0Xfc8L3itZVnFYpEQEjwYfRuXh8K7riuKYlxlPRfWhJBCodDtdimlvV7P8zyoicQh25RS13WRBxzv9XrYCGLtum5QO8Ts+36tVmP5J4QEsx3c9TyPqYwwLDbssjQEr/J9P7SLYMVikWHd6/WQgFRhvbOzY13+tre3bdv2fd/zPJZHRVEMwwhqxbZZdpCp0C6LxLv8+b5PKWVRsYKzLEuSJCY4pGa7bAOXh27hui4uRwLcy5/v+ynC2nVdnueZwcCT7fu+qqqapsmyXKvVVFWVZRlharWapmmqqpZKpV6vx7A2TbNUKimKwmBiWGua5vt+o9FQv/4gU61WwyW9Xs+2bU3TSqUSnoFKpVIqlXCh7/uGYeCmqqpWq9VSqaSqKopN13VVVdl9a7WaoiiapnEcZ9s2IQRJrVarlFJFUdJjrQuFAnQQRdG8/JUufzArSKqmaSC+UqmYplmtVqESq1EhhaIohBBoCDWq1So2bNumlEJJFCUKLoS1pmm6riuKglsoitJoNHzf73a7uIWmaXjkFEUBD7Is+76Pci+VSq1Wy/O8tFhr3/cty+J5XpKkbrfLHrjt7W1mS1zXNQxDkiTf95FzSmmlUtF1HbmCv+G6bqvVguMBI1ooFHzfx99SqVSpVDzPU1XVMIxut1ssFl3XZQ8GIaTVahWLxV6vVywWAS7sga7rEBHIep4nSZJt24ZhIJhpmrIsd7tdjuN6vZ7rujCBiqK0Wq1eryfLsmVZqcKa47hGo6HrOs/ztm0jR7ZtC4Jg2zaSisfb932e57vdriRJhmG4rou6SL/8wRjj8nw+TyltNBo8z3ueB0ZhX2AFer2eqqq6ruOOzCoLgmAYhm3bHMeh3AVBIISUSiVYelVVa7Warut4QqrVqiRJSEm32221WtC/WCyyWgVlN/PfuZwQdlegA6QopTs7O6iAsAG5YcVhjy3Lgl9YKpVM09zZ2YFBBf1BrAE6aPZ9v1qtNhqNWq3GcRxMqa7rYE7TNJRfyLNE+cFNhxUplUpIAGwbSgsVAnJULBZbrZYoijA2wBpJZVle7gbHcZqmofYwTZNVTZqmQQ1krVAomKaJp5dVSsgIx3Hdbhe5KBQKrVYL4jNLgQuZ0dF1vVQqSZI0jDXP8/AhQTMhRBTFbrfL8zyqFEQFfxWmEBU4K0RFURg8sQg7F9bs2UKtBCM6jLVlWYIg+L6PxxeOAbPWeMpDmWFOyEis0eZgd2fRotIIYY0qMoS1bduVSgU0gANUO0gGnBDAzRKWKt+aOSG+74NIevmD3YVvDcE5joPJZK4gsFYUBT5bq9VCE1kURTgGzENQVZUQghoABQGjG7LWsCau6wqC0Ov1gHWv1xNFEc6nruuVSoWlqtFooKRQLUBhVtUzwefZGGDdaDSY1wjjFzFGcCxJEjxsVCuUUo7j0IiBtWbEqKoKjwVKMcNQrVYLhYIoipVKBbceh3WlUqlWqzD8giAUi0XDMEzT5DhOkiTYg3FYq6oatNaEEEmSisUibBXiLBQKsiyLomhZFtwS6fJHCEmbE8Jsre/7lUqFv/xBQAaQbds7Ozto0wexNgzD8zxoznEcIcSyrHFYwxgLgiCKIs/zqqpeizXMdqvVwi1kWUbTcHt7WxRFSZLw5DQajUKhUCwWdV3Hw8BMVUQCxwUbYG1ZFkDEgzsu6LjjrM9hXAAcp5SqqsoahZMDL+xsXDouLMHRb4TWHrMU0S9ccMgkiuDKCYFTz9y1JDKGliLa5knEn/44Q+XHdiPahWkz2Gg0FEVJKPJpE7Pg8FdYe56Xz+dVVU1Ua8/zWPwLzmcabqeqKpw913UVRWFPOOv/ijeRhJDNZNr3AyP4WHcj3GI0PuIVesNjQ8MatRbru7As68aNG2gwbLg+MWb/ylqjUxktKjSut7a2dF2P8U5ZVGhdNBoNURRZp6+u67lcjuO4Ta7HYmfjL1jjpSBuoKpqLpfL5/MbW4vFLjQiROscncqoFbe2tnKXP2ZTErr1RkX7F6xZtm3bhtC5XI7VlexstjGPAp7nob8MkciyzKRGZ/k8kWfXMgVGYC0IAtM6n8+nrUuOJX0VN9BbzN695XK5QqGwvb0NzRVFyVyRWIo1jHW1Ws3lcqIo4gXH1tZWjANQYknxSkfieV6pVHJdt9vtomPEtm0M0rAsS9M0Nm5spbO59MT/Cutut1utVjFWU5IkDERsNBqZ1smVk+d5xWKRdfYld6ONivlXWLOcZ1ozKZLeyKROQuEM6yRUnSLODOspxIocNMM6slTJBMywTkLXDOskVJ0izgzrKcSKHDTDOrJUyQTMsE5C1wzrJFSdIs5NwPrlyYdvfnp673V9Cl3mC7rpWFNK22efnS/9+WSc/epNwDr3Yn/w7/nDV6efZldqmis3HevHx0buxf43Pz1dFtmbgPU3Pz3NPX+Ye/5wYSJvNNaU0oHil4akffZ5GnMQW9hNwNr50n958mFhpvpX462DBbUJWiO/j4+Nb356+v3PPy7MkAR1xiC+7C1jSJP5dzfaWkO+9tnnJY6/3RwLMj+s0WPIsI6uVSIhM6yTkDXDOglVp4gzw3oKsSIHzbCOLFUyATOsk9A1wzoJVaeIM8N6CrEiB82wjixVMgEzrJPQNcM6CVWniDPDegqxIgfNsI4sVTIBNwTrwcSXs65eMIPwG4c1aTY/PtpfYkd1qJA2BOsz46hTLofyntzuZmF9Zhy9vX3nvNNJTtBpY94QrDvl8plxNK04M4ffIKydev34rnjhODOLlcSFm4A1JeT9g71FWpONwJpS2imX3+3eX6R7F/EZ2ASszzudj4/2Fyn++mMNUzGQNfLKehGJjCXYJmDt1OsnB4exyBUxkjXHmhJyfFc8OThMJ9MbMoLvf57+h1L9z2cfFreq5TpjTQl5c/OWU1/ct0YRbUkw2Npba0rI3/7Xvy54UPvaYn3e6ZjffkeazSBDw9vPPpi55w+zr2OGlYnriFOv/+bxboZ1DHqiI6/fbk+OK/s6ZrI+sZx9e/uOaZrPPgz+xRJhlEjW0Fo79frb23euZRrq3HtdH3xm92I/+zomCi7ThjnvdI7vDtbFW/BvrbCmlJ4cHB7fFafqS3K+9JfYoFxv3/rjo/1FvoVhD8/6YE0p/fho//2DvSUyymSNvrHGWF84zrLeFawP1m9v30lt5/QEytcY6wWPAwmKvA5YoyNvwR3+QRHn2V5XrCml73bvL/KFebAUVh7rfrt9fFdMeed0UPHQ9rpiTZrN9w/2Qpld2O5qY91vt9/evrOURklcJbSuWL+5eStiZ1RcSgbjWWGsz4yjNzdvpW1EXlDcKNtribVTr398tB8l+wmFWVWsTw4O3+3eX3Wm13JMCMbhLLdoVhLr1I4yncH2rJ+1Pjk4XOSHMCM1XzGsKaXvH+wtsS0yUsR5Dq4Z1kFTjdloHx8b8+gz27WrhDW695klsG175k8SnS/9V6eflvXCPFhUa4b1+wd7aMFTSjEqIff84eJfkK0M1heOE+rIq1QqkiTNsMiv86X//c8/5p4/XOJEqYzsdcL6zDh6t3sfWbsaRnY5OpJldmEbq4F1v91+c/NWaJRpq9Xa2trK5/OqqmK55YiqOV/6g3GSl/+WbrDXBusLx3l7+06wpeh86S9rpYcVwHrcKFNCSD6fZ8uza5pmmmZEvh8fG9///OPjY2Px9WPo2VsPrNHmSc8LhLRjPaFzmlLKcRzDmud5TdOir7K8dDsNvtcDa3RUL91GMJORaqxPDg7Nb7+bMMqU53lgbZrmzM1HpsVSNtYAa3yIlB6m07vIBkaZDoY1TvxcXBTFYrHY7Xa3t7czrJfyWF44zpubt/79h3+Zoe2eXILTaK0xBUKnXJ7MtO/7oihCTdM0i8XiteGT03HmmFfaWlNC3u3ePzOOVFXN5/OmubjPuiYLnjqs0Z/POqcnp77VarEAsixXq1W2uyobK431u937GA+sqmoul7tx40aj0UiD8unCGjXabA3qbrfLcVwQ9DToe20aVhfrj4/2mfURRZG13SVJit5wv1af2QKkCOuRndNT5arRaPA8P9UlSw+8olh3yuXgGD3WJbWzs8Nx3GyvyWIsi7RgjY68+UfoiqKoaVqMAiUd1SpiPTzULJfLbW9v5/N5wzC6lz/XdZOWbkL8qcDaqddjHDl948aN9LRdJkiPUyuHNYYE+77fPvv8+Nh4dfqp1+vl8/lWq2VZliAI12Z5AQGWjHUSc5mapsnzfPvs80p0jKQWa+dLP/TGyvM8fNvv+77zpX+1kvmL/f/+35esd4/n+TQ0b5aM9fsHe7FPEUsp/Sf5n/9e+MO91/X0k51OrF+efAitmY1Pblmv6xXWl+NqgsvF12o1WZYXYI8n32JpWFNKj++KTKbJqQydfXX6aYIxvlL87/7mN493F7l8fCiREXfTifVghOOL/dzzh5hhbHj4pO/7r04/3Xtdf3nyIZhT13ULhcLSDfZysB4pU1CdCduYDDL3/GFIUHaJ53n3Xg+mM7xx40bQkLAAqdpIJ9YDkS8t8avTT2fG0fFdMXqvq6ZpqqouV+QlYH3e6by9fWfmKRAGs+YFDMlI+fCVQBr0HZm84MF0Yk0pRZWIyd+m6qGyLIvjuOWOZVg01v12O8r8vMGCD22/Ov2Ue7Ef5QsA13UFQUh5r0g6sfZ9H0MYZpv8TZKkWq0WKrhF7i4U63g78qLIZFkWz/MRB2FHiTD2MOnEGq8RZq5RW63W9vZ27FpFj3BxWKMPP/j1RPRUzhOyWq2WSqV5Ykj02rRhfeE4+Ah6znnGlltPLgjr4fdSibISilyWZcNYwvfPoWSM3E0V1qhOnXoMHaOmaUqSNDLLCziYONZsoa0FZGbcLTzPUxSl2+2OCxA8PuGrhWCwgfcZx4LHacCaUoqpDON9h7DEkSHJYo3xuGycVwiLRe62Wq0ow1YppadPrh/njZSfdzoze58s70vHGosmsokQWMLm36jVarquzx/PDDEkiDUlZJ6OvBkyM/mSSqXC3vGOC0kpfXv7TsR3k6TZnP+JXSLWlJDTJ+U3N2+dGUfR66hx0g0f73a7qqouZcxTUliTZnN4CoThnC/4SLVadep19ML22+2BE0lI6B9ePXx8tM9czGCR99tthnK/3X7/YM+p10+flNHAopR6ntcply8chxIyWA+SkMl5XDzWlNILxzl9Un76h3/ADDXJvYuNYkom6zPb2USwHjcFQvQkUkqffTBfnnyIt1d/YIyf6RgoDHAxYVynXO6UyycHh5jswqnX8R70zDg673Q65TKcjQvHgYXGk4AB4v12G9O+oDY/73RIs4nPRtgDMCHjC8aaNJsfH+0jeZhMLPdi/97rqEtX9tvt0GwtE7IG9aL4fsORQNXh4yOPoG0QtCDxYx1L5zR7Qx77qmfgFQsYhOw0dt/evgPtSLN5+mSAe7/dfrd7v99uY/zam5u3ADqz3PDIQQxeMgOdKM7MYrDGYlFvb995/2CPNJsgYPBi6/nDCcMQhhmKvm4GPrIefJRumlF0CN1rqqmELxwHw2UZ2TFjfbXQ1sTPxUMZGLl7ZUieP0xiYkJ82QFT+vHR/vFd8d3uffzDPPBQByb846P94NI+550OW80DoOOFHGYl7pTL8FPf3LwVsREWC9bOl/7Lkw+vTj+FAKKE4NnDozj80mDQmRMoLErIIP2XR0izifAIg4PAmjSbqNCGy471peBRd+r1M+No8CB9vQtqPN/3Lxwn9E4ebiHihGs3fCPP85BCz/OC0fq+H1x+KTasMXJ68K71Om9yWIvhI86X/r3X9Xuv66Ehv8MhZzhy3un831/99XAZo8/u/YM9OCTIy5lxBJuNG4Wwfnv7DtwYsH5ycHhmHH18tE+azfNOJyj0uHTOjzWldGAFLleXxPAvSghpNmHA4GtF9OXwfXS/3cYGIjk5OMQ/0myeGUfmt9+dGUcnB4dvbt4a9HBetptZob9/sMeEfbd7HwvYvdu979TrkA71JCwCaTYRJ8Tpt9tsdfrgjbAioVOvo7WD9gzKCJegPRMcjBUP1hOmQHh1+un7n3+MMoRjuODZIz58ap4jwRkQh+O5cBwYEhQVpfS802HFNjBdX59bz/MuHOe80xkEuLRGcGPY+7lBw/GrlRq+EY7Mj7Xv+1fDv17s/+nPzzrl8vFdETSzhI27+/BxEHze6WA0CHJ3lcdLW84aDOgSgD+Gv+8f7JnffsdeUn58tM9a52hVv7l5C3b6l9/+DobgzDh6/2APje/juyJquZODw6ATgsVj8fk2FD6+K2IyaAwxQqvm5OCQPb0xYA1vlVXNIaWulqn9OnI3dHbxu6TZnDxT1IKTNA/WeMYuHOfnA/33lT/+o77/yw+DeXjZgzdDXtjLczgh8MTwFx4Fwxqr9qC3hzVI4ITAb2FYs55QYN1vt3/57e8QDwwi0onKAYYghDV6loAyVubFHWH7cXnQgsyL9Xmng47PcQpe1Y/PHybXizTu1iOP43EfeWopB8dh7XneSHcZNQncADRh3+3e75TLrCE4fy5On5TNb79DmwF1F/7C84YT0imX4aSdPimfPhm0KHDfoBcKJ8Sp1zFFju/7+GJ14L0QctWFejmBDq4F1thGxwNcecT55uYtdFWh+X5ycIhHCEkN5XourNE5HXL8QzfA0OeUMB1KWxp2x2HN3OXqmyOnXgdGaN1igo4z46jfbjNHNsa8wHkdGSGcrjPjiNUJ550OY9r3/aDbg75OpBOxIcEA5srTu/TxcJYSwrITuhGeqDPjCC1O1AZoMo7Ebxas22efv/np6e8rf/zlhz3mR45UITt4rQLjsGbu8t7Tf4PnChd/UNtc569fe9NxAdDuP74rjguwKsdnwfqq9+3FfhK9b6siXFzpHId1++zz9z//mFBf0LjEo2djHtd8XMwLPj411pTSP/352bTd+AvO1QrdbhzWK5SFFCZ1aqzRrfvq9NNw538Ks5f+JGVYJ1FG02F94TisfyeJ1GxgnBnWSRT6dFgnkYINjzPD2nXd2BvBGdajH6terxe71iPvlGFtGEbs84pkWI+EzTcMo1gsLmCe5gzrXq9XKBQwOSV7+z26VCIfzbAeLRUhhOf5fD5frVYTnY8hiDXeMmzaX9/3sZjB1taWLMuxzOtyPdabpjLyy7TO5XKFQmG2sfCjn5hfH/U8TxAEjuP4Tf0JgrCzs8MWM8jlcoIgXPt53q9VDO+NxbpUKmFmeW4jf4VCYXt7O6h1oVCYU+uw9l/3XdfFVOeb+dd1XVhrzP1eKpXmrx5HY+37/mCY9gb/PM9jWguCUK1W43L7vsKc/X+lAKW0WCzmcjld1+NqzIzFesNVJ4QIgpDL5RqNBvk6wHrDNUko+4ZhYLJ30zSBNaV0TtkzrEcXlmEYsiwvpo9vdAo25qht2/A6TNMURZFSahiGoijziJ9hPRof9FsTQpif1+v1MrM9WqyYjlJKFUWp1WrzL4GXYT2pTCzLYjZ7Md3Yk1KzAee63e7Ozk6lUpkzrxnWkwSklGJaykqlEvubsEk33tRzpmkWCoX5V5/JsL6GINu2JUlKybps16R1xU8TQlAlKooy5yLTGdbXsIDXjcVi8Zpw2em5FWCLorRarTkn28+wvqY0MO2nIAhLX73qmoSu/mnXddnLATLft20Z1pNwsG0bZsO2bY7jsp6QSWKl6VyG9aTSsCyLLWPQaDQSenk+KQXZuZkUyLCeSbbsonQrkGGd7vLJUjeTAhnWM8mWXZRuBTKs010+WepmUuD/AYNssA8xa8OpAAAAAElFTkSuQmCC)"
      ],
      "metadata": {
        "id": "vMlNe6zJw7ZW"
      }
    },
    {
      "cell_type": "code",
      "source": [
        "import numpy as np\n",
        "import matplotlib.pyplot as plt\n",
        "\n",
        "# Generate synthetic data\n",
        "X = np.linspace(1, 10, 50)  # Years\n",
        "Y = 1000 - (X - 5)**2 + np.random.normal(0, 200, 50)  # Synthetic price data\n",
        "\n",
        "# Create a scatter plot\n",
        "plt.scatter(X, Y, label='Synthetic Data', color='blue')\n",
        "plt.xlabel('Years')\n",
        "plt.ylabel('Price')\n",
        "plt.title('Synthetic Smartphone Price Data')\n",
        "plt.legend()\n",
        "\n",
        "# Show the graph\n",
        "plt.show()"
      ],
      "metadata": {
        "colab": {
          "base_uri": "https://localhost:8080/",
          "height": 472
        },
        "id": "SL8OJRFizviU",
        "outputId": "dc2ba866-a712-4cff-e5a5-5f834b9befd7"
      },
      "execution_count": 1,
      "outputs": [
        {
          "output_type": "display_data",
          "data": {
            "text/plain": [
              "<Figure size 640x480 with 1 Axes>"
            ],
            "image/png": "[encoded data removed]"
          },
          "metadata": {}
        }
      ]
    },
    {
      "cell_type": "markdown",
      "source": [
        "But when do you actually need this magic, and why?\n",
        "\n",
        "- Imagine scenarios where straight lines just can't capture reality. For instance, when predicting how the growth of plants depends on time or how a car's mileage relates to its speed.\n",
        "\n",
        "- When your data doesn't follow a straight line, that's when you turn to polynomial regression.\n",
        "- It's your go-to technique for accommodating the beautiful complexity of the real world.\n",
        "\n",
        "**Example**: Let's take an example of predicting the price of a vintage car based on its age. Linear regression may not capture the gradual increase in price as the car becomes a classic.\n",
        "\n",
        "-  Polynomial regression can help you model this nonlinear price trend."
      ],
      "metadata": {
        "id": "_xoKU7lswr1x"
      }
    },
    {
      "cell_type": "markdown",
      "source": [],
      "metadata": {
        "id": "6pUknNS5yDdW"
      }
    }
  ]
}