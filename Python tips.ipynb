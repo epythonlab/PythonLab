{
 "cells": [
  {
   "cell_type": "markdown",
   "id": "f106c5ad-6fde-4f05-b3c7-7d2e56f1f85b",
   "metadata": {},
   "source": [
    "# Python Top Tips"
   ]
  },
  {
   "cell_type": "markdown",
   "id": "2dcc9fec-0b6b-4583-bdd3-683048936299",
   "metadata": {},
   "source": [
    "## Testing Your Code Before Deployment\n",
    ">Testing your code is essential before deployment."
   ]
  },
  {
   "cell_type": "markdown",
   "id": "f04051a5-8ec8-4ad5-8e7b-e6462b5009fd",
   "metadata": {},
   "source": [
    "## Unit tests"
   ]
  },
  {
   "cell_type": "markdown",
   "id": "d198b736-107b-4c45-a922-3dbcb858c0c9",
   "metadata": {},
   "source": [
    "The advantage of unit tests is that  \n",
    "- they are isolated from the rest of your program, and thus no dependencies are involved. \n",
    "- they don't require access to databases, APIs, or other external sources of information.\n",
    "\n",
    "- However, passing unit tests isn’t always enough to prove that your program is working successfully. \n",
    "\n",
    "The disadvantage of unit tests is that\n",
    "\n",
    "- In large program, all parts of the program not work properly, communicating, and transfering data between them correctly\n",
    "- however, when you start building larger programs, you will want to use integration tests as well."
   ]
  },
  {
   "cell_type": "markdown",
   "id": "7f489db8-5dc2-44e9-993c-b1c739d80384",
   "metadata": {},
   "source": [
    "#### install pytest library for unit-testing\n",
    "\n",
    "example in the model directory"
   ]
  },
  {
   "cell_type": "code",
   "execution_count": 3,
   "id": "21e40a82-ca08-4cec-bf37-4e4a31bec90d",
   "metadata": {},
   "outputs": [],
   "source": [
    "# uncomment, the following line to install pytest\n",
    "#!pip install pytest"
   ]
  },
  {
   "cell_type": "markdown",
   "id": "5928b5e5-60be-4362-850a-4e3caf387656",
   "metadata": {},
   "source": [
    "## Find Common Elements in Two Lists in Python"
   ]
  },
  {
   "cell_type": "code",
   "execution_count": 18,
   "id": "976c2280-be54-453e-922b-55d332ac1296",
   "metadata": {},
   "outputs": [
    {
     "name": "stdout",
     "output_type": "stream",
     "text": [
      "8\n",
      "9\n"
     ]
    }
   ],
   "source": [
    "\"\"\"\n",
    "    Let's assume you have two lists\n",
    "     each list contains list of numbers\n",
    "     You want to find common elements from the\n",
    "     two lists using three ways\n",
    "\n",
    "\"\"\"\n",
    "list_one = [3, 10, 25, 35, 20, 30, 40, 50]\n",
    "\n",
    "list_two = [20, 40, 22, 16, 30, 60, 5, 70, 100]\n",
    "\n",
    "# check the number of elements of both lists\n",
    "print(len(list_one))\n",
    "print(len(list_two))\n"
   ]
  },
  {
   "cell_type": "markdown",
   "id": "9876a9e9-ce29-49c4-8378-32ffb1ff0c9b",
   "metadata": {},
   "source": [
    "### 1. using `intersection()`"
   ]
  },
  {
   "cell_type": "code",
   "execution_count": 21,
   "id": "f1d80c32-6dd1-4bba-8639-71c4025ba256",
   "metadata": {},
   "outputs": [
    {
     "name": "stdout",
     "output_type": "stream",
     "text": [
      "{40, 20, 30}\n"
     ]
    },
    {
     "data": {
      "text/plain": [
       "[40, 20, 30]"
      ]
     },
     "execution_count": 21,
     "metadata": {},
     "output_type": "execute_result"
    }
   ],
   "source": [
    "# testing code here\n",
    "common_elements = set(list_one).intersection(list_two)\n",
    "print(common_elements)\n",
    "list(common_elements)"
   ]
  },
  {
   "cell_type": "markdown",
   "id": "72e61b4f-54f8-484b-8428-e7b98fdcf23e",
   "metadata": {},
   "source": [
    "### 2. using list comprehension"
   ]
  },
  {
   "cell_type": "code",
   "execution_count": 22,
   "id": "109eb521-8006-4bb3-bed3-22d9b605e381",
   "metadata": {},
   "outputs": [
    {
     "name": "stdout",
     "output_type": "stream",
     "text": [
      "[20, 30, 40]\n"
     ]
    }
   ],
   "source": [
    "# your code here\n",
    "common_elements = [i for i in list_one if i in list_two]\n",
    "print(common_elements)"
   ]
  },
  {
   "cell_type": "markdown",
   "id": "cbb127e0-20f6-4562-a701-7066c4a55bdc",
   "metadata": {},
   "source": [
    "### 3. using `&` operator"
   ]
  },
  {
   "cell_type": "code",
   "execution_count": 23,
   "id": "b6e7f7ab-f516-4ae4-a925-ef0fc6318e78",
   "metadata": {},
   "outputs": [
    {
     "name": "stdout",
     "output_type": "stream",
     "text": [
      "{40, 20, 30}\n"
     ]
    }
   ],
   "source": [
    "# your code here\n",
    "\n",
    "set_one = set(list_one)\n",
    "set_two = set(list_two)\n",
    "\n",
    "if set_one & set_two:\n",
    "    print(set_one & set_two)\n",
    "else:\n",
    "    print(\"No common elements\")"
   ]
  },
  {
   "cell_type": "markdown",
   "id": "1f997a6d-344d-4f8b-b1c2-c2e09eb6d54b",
   "metadata": {},
   "source": [
    "### Python's `reduce()` vs `accumulate()` function"
   ]
  },
  {
   "cell_type": "markdown",
   "id": "0e35c07f-9a73-4da1-a109-cd8960476269",
   "metadata": {},
   "source": [
    "`reduce()` function iterates over each item in a list, or any other iterable data type, and returns a single value. \n",
    "- It's one of the methods of the built-in `functools` class of Python."
   ]
  },
  {
   "cell_type": "markdown",
   "id": "07d31698-7d19-4d51-b854-843e3ec6a793",
   "metadata": {},
   "source": [
    "Here's an example of how to use reduce:"
   ]
  },
  {
   "cell_type": "code",
   "execution_count": 5,
   "id": "dc490c54-044d-408b-a132-2849db78ccab",
   "metadata": {},
   "outputs": [],
   "source": [
    "from functools import reduce\n",
    "\n",
    "a = [2, 3, 4, 5, 1, 3]\n",
    "result = reduce(lambda x, y: x+y, a)\n",
    "\n",
    "print(result)"
   ]
  },
  {
   "cell_type": "markdown",
   "id": "a9ae5bcb-575c-4f7d-bc31-b292f49ec8e1",
   "metadata": {},
   "source": []
  },
  {
   "cell_type": "markdown",
   "id": "5b1b3270-8ff4-4ff9-8deb-dc754416be99",
   "metadata": {},
   "source": [
    "## <code><b style=\"color:'#345678';\">enumerate()</b></code> function in Python\n",
    "\n",
    "- It returns the length of an iterable and loops through its items simultaneously. \n",
    "\n",
    "- Thus, while printing each item in an iterable data type, it simultaneously outputs its index.\n"
   ]
  },
  {
   "cell_type": "markdown",
   "id": "6ea96fda-5a15-4c61-8116-fb91463954ca",
   "metadata": {},
   "source": [
    "Example: Assume that you want a user to see the list of items available in your database. You can pass them into a list and use the enumerate() function to return this as a numbered list.\n",
    "\n",
    "Here's how you can achieve this using the `enumerate()` method:"
   ]
  },
  {
   "cell_type": "code",
   "execution_count": 3,
   "id": "64b23a75-ddb2-403f-8050-31709814d57c",
   "metadata": {
    "tags": []
   },
   "outputs": [
    {
     "name": "stdout",
     "output_type": "stream",
     "text": [
      "1 Apple\n",
      "2 Orange\n",
      "3 Mango\n",
      "4 Avocado\n",
      "5 Banana\n"
     ]
    }
   ],
   "source": [
    "# list of fruits\n",
    "fruits = ['Apple', 'Orange', 'Mango', 'Avocado', 'Banana']\n",
    "\n",
    "# you want to print the items along with its index as a numbered list\n",
    "for index, item in enumerate(fruits, start=1 ):\n",
    "    print(index, item)"
   ]
  },
  {
   "cell_type": "markdown",
   "id": "efc06d8e-7cd3-41a4-9936-2fa67b2686c9",
   "metadata": {},
   "source": [
    "An alternative way to print the items and their index using for loop\n"
   ]
  },
  {
   "cell_type": "code",
   "execution_count": 4,
   "id": "3eca6669-3e81-4139-9639-d8ee847d3339",
   "metadata": {
    "tags": []
   },
   "outputs": [
    {
     "name": "stdout",
     "output_type": "stream",
     "text": [
      "1 Apple\n",
      "2 Orange\n",
      "3 Mango\n",
      "4 Avocado\n",
      "5 Banana\n"
     ]
    }
   ],
   "source": [
    "for i in range(len(fruits)):\n",
    "    print(i+1, fruits[i])"
   ]
  },
  {
   "cell_type": "markdown",
   "id": "52d1b663-54ca-446f-a2b4-cd44c5a4742a",
   "metadata": {},
   "source": [
    "## `eval()` function "
   ]
  },
  {
   "cell_type": "markdown",
   "id": "64edfeb1-737a-4150-9b89-bdb38d0dc9ff",
   "metadata": {},
   "source": [
    "`eval()` function uses to perform mathematical operations on integers or floats, even in their string forms. \n",
    "\n",
    "It's often helpful if a mathematical calculation is in a string format."
   ]
  },
  {
   "cell_type": "markdown",
   "id": "a85c566a-a1d1-4c46-9ff9-e5176e90c36f",
   "metadata": {},
   "source": [
    "Example: Here's how it works"
   ]
  },
  {
   "cell_type": "code",
   "execution_count": null,
   "id": "57a675ba-8534-41d6-88d1-758ff8a25747",
   "metadata": {
    "jupyter": {
     "source_hidden": true
    }
   },
   "outputs": [],
   "source": [
    "\"\"\"\n",
    "Let's assume you have a mathematical expression in\n",
    "string format\n",
    "and you wanna perform the result of the expression\n",
    "using eval()\n",
    "\"\"\"\n",
    "x = \"3+2**2\" # 3.2+4 = 7.2\n",
    "# when you print x as it is\n",
    "\n",
    "print(x)"
   ]
  },
  {
   "cell_type": "code",
   "execution_count": null,
   "id": "bd9ec049-8b4c-4e36-8d75-6495b62db0c4",
   "metadata": {
    "jupyter": {
     "source_hidden": true
    }
   },
   "outputs": [],
   "source": [
    "# using eval()\n",
    "re = eval(x) # convert the string into interger or float\n",
    "print(re)"
   ]
  },
  {
   "cell_type": "markdown",
   "id": "27f5c171-8dd4-4633-9afc-b3a1bb4beca6",
   "metadata": {},
   "source": [
    "## `map()` in Python"
   ]
  },
  {
   "cell_type": "markdown",
   "id": "c8b4cf26-2953-44af-b999-70fdd2759ad0",
   "metadata": {},
   "source": [
    "`map()` function returns a map object(which is an iterator) of the results after applying the given function to each item of a given iterable `(list, tuple etc.)`"
   ]
  },
  {
   "cell_type": "markdown",
   "id": "55cec5d9-9cba-4ec9-96d3-703ff46b4497",
   "metadata": {},
   "source": [
    "Syntax :\n",
    "\n",
    "`map(fun, iter)`"
   ]
  },
  {
   "cell_type": "markdown",
   "id": "bae3ad37-64d5-499a-93a3-15b2593754c5",
   "metadata": {},
   "source": [
    "Example: Add two lists using `map()` and `lambda` function\n"
   ]
  },
  {
   "cell_type": "code",
   "execution_count": null,
   "id": "d14bd1b1-e7de-480d-9b4a-2dae0bece0ac",
   "metadata": {
    "jupyter": {
     "source_hidden": true
    },
    "tags": []
   },
   "outputs": [],
   "source": [
    "def add_lists(lst1, lst2):\n",
    "    \n",
    "    result = map(lambda x, y : x + y , lst1, lst2)\n",
    "    \n",
    "    return result\n",
    "\n",
    "# call the function\n",
    "numbers1 = [1, 2, 3]\n",
    "numbers2 = [4, 5, 6]\n",
    "result = add_lists(numbers1, numbers2)\n",
    "print(set(result))"
   ]
  },
  {
   "cell_type": "code",
   "execution_count": null,
   "id": "f3d14a44-264b-42f5-aaf1-ae6e3e6597fc",
   "metadata": {
    "jupyter": {
     "source_hidden": true
    }
   },
   "outputs": [],
   "source": [
    "result\n"
   ]
  },
  {
   "cell_type": "code",
   "execution_count": null,
   "id": "9c851e85-814e-48e7-9cd2-0db89cfe1e33",
   "metadata": {
    "jupyter": {
     "source_hidden": true
    },
    "tags": []
   },
   "outputs": [],
   "source": [
    "print(list(result))"
   ]
  },
  {
   "cell_type": "markdown",
   "id": "61e34bca-6517-4c23-86a9-5d8ff340fe2e",
   "metadata": {},
   "source": [
    "# Python Top Tip : `reduce()` function"
   ]
  },
  {
   "cell_type": "markdown",
   "id": "e5070f64-6ea4-463f-a6cb-e0a743c07d44",
   "metadata": {},
   "source": [
    "The `reduce(fun,seq)` function is used to apply a particular function passed in its argument to all of the list elements mentioned in the sequence passed along.\n",
    "\n",
    "This function is defined in `functools` module."
   ]
  },
  {
   "cell_type": "markdown",
   "id": "41000b18-4ca1-4cbe-a95b-fd3166371a20",
   "metadata": {},
   "source": [
    "Example: Demonstrate working of `reduce()` "
   ]
  },
  {
   "cell_type": "code",
   "execution_count": null,
   "id": "2751fcd8-a259-4106-a3ec-e241e53fde20",
   "metadata": {
    "jupyter": {
     "source_hidden": true
    },
    "tags": []
   },
   "outputs": [],
   "source": [
    "import functools\n",
    "\n",
    "# initilize the list\n",
    "lst = [2, 3, 5, 7, 1, 4, 8, 9, 11, 34, 16]\n",
    "\n",
    "# find the sum of the sequence of the list\n",
    "\n",
    "sum_seq = functools.reduce(lambda x, y: x+y, lst)\n",
    "\n",
    "print(\"The sum of the list elements is:\", sum_seq)"
   ]
  },
  {
   "cell_type": "code",
   "execution_count": null,
   "id": "67edefa9-cbf1-4ca0-b0be-86a7a754d52e",
   "metadata": {
    "jupyter": {
     "source_hidden": true
    },
    "tags": []
   },
   "outputs": [],
   "source": [
    "# find the maximum element from the list\n",
    "max_el = functools.reduce(lambda x, y: x if x>y else y, lst)\n",
    "\n",
    "print(\"The max element is :\", max_el)\n"
   ]
  },
  {
   "cell_type": "code",
   "execution_count": null,
   "id": "acbf89e5-cf59-4449-9a85-c379051fba97",
   "metadata": {
    "jupyter": {
     "source_hidden": true
    },
    "tags": []
   },
   "outputs": [],
   "source": [
    "# find the minimum element from the list\n",
    "min_el = functools.reduce(lambda x,y: x if x<y else y, lst)\n",
    "\n",
    "print(\"The min element is :\", min_el)"
   ]
  },
  {
   "cell_type": "markdown",
   "id": "7b5c5850-fd87-40dd-b71c-dd11e65a5898",
   "metadata": {
    "tags": []
   },
   "source": [
    "##\n",
    "\n",
    "# Python Top Tips: \n",
    "> `yield` keyword in Python\n",
    "## "
   ]
  },
  {
   "cell_type": "markdown",
   "id": "af86b360-5b0a-4ea6-bcfc-2fa46a3cd80f",
   "metadata": {
    "tags": []
   },
   "source": [
    "What is `yield` in Python? \n",
    "\n",
    "The `yield` keyword in Python is similar to a return statement used for returning values or objects in Python. \n",
    "\n",
    "However, there is a slight difference. \n",
    "\n",
    "- The yield statement returns a generator object to the one who calls the function which contains yield, instead of simply returning a value."
   ]
  },
  {
   "cell_type": "markdown",
   "id": "707c16a7-e16a-4fb0-8893-ee7174a0529e",
   "metadata": {},
   "source": [
    "##\n",
    "\n",
    "Example: how to demonstrate the working of `yield`"
   ]
  },
  {
   "cell_type": "code",
   "execution_count": null,
   "id": "3d1c1022-dad8-449c-9fa5-c06bd07a4c2e",
   "metadata": {
    "jupyter": {
     "source_hidden": true
    }
   },
   "outputs": [],
   "source": [
    "def filter_even(numbers):\n",
    "\n",
    "       for number in range(numbers):\n",
    "            \n",
    "            if(number%2==0):\n",
    "                \n",
    "                yield number \n",
    "                \n",
    "\n",
    "# call the function\n",
    "even_numbers = filter_even(20)"
   ]
  },
  {
   "cell_type": "code",
   "execution_count": null,
   "id": "03a5ecbf-ad39-4374-92d3-8ceea4c74af5",
   "metadata": {
    "jupyter": {
     "source_hidden": true
    }
   },
   "outputs": [],
   "source": [
    "lst = [i for i in even_numbers]\n",
    "lst"
   ]
  },
  {
   "cell_type": "code",
   "execution_count": null,
   "id": "0214dd90-74b9-4f8f-8e7e-a35bc09330ac",
   "metadata": {
    "jupyter": {
     "source_hidden": true
    }
   },
   "outputs": [],
   "source": [
    "print(next(even_numbers))"
   ]
  },
  {
   "cell_type": "code",
   "execution_count": null,
   "id": "438fc3f4-d066-4b08-884f-d5656cdd0c56",
   "metadata": {
    "jupyter": {
     "source_hidden": true
    }
   },
   "outputs": [],
   "source": []
  }
 ],
 "metadata": {
  "kernelspec": {
   "display_name": "Python 3",
   "language": "python",
   "name": "python3"
  },
  "language_info": {
   "codemirror_mode": {
    "name": "ipython",
    "version": 3
   },
   "file_extension": ".py",
   "mimetype": "text/x-python",
   "name": "python",
   "nbconvert_exporter": "python",
   "pygments_lexer": "ipython3",
   "version": "3.9.10"
  },
  "widgets": {
   "application/vnd.jupyter.widget-state+json": {
    "state": {},
    "version_major": 2,
    "version_minor": 0
   }
  }
 },
 "nbformat": 4,
 "nbformat_minor": 5
}
