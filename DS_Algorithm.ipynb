{
  "cells": [
    {
      "cell_type": "markdown",
      "metadata": {
        "id": "8wJVDYLMA8Ea"
      },
      "source": [
        "# Data Structure and Algorithm - Create Array without Numpy"
      ]
    },
    {
      "cell_type": "markdown",
      "metadata": {
        "id": "YldgA7LEA8Ed"
      },
      "source": [
        "Array is created by importing array module"
      ]
    },
    {
      "cell_type": "code",
      "execution_count": null,
      "metadata": {
        "tags": [],
        "id": "c6MOuCijA8Ef"
      },
      "outputs": [],
      "source": [
        "from array import *"
      ]
    },
    {
      "cell_type": "code",
      "execution_count": null,
      "metadata": {
        "tags": [],
        "id": "zW70i-b5A8Eg"
      },
      "outputs": [],
      "source": [
        "# create new array\n",
        "arr = array('i', [10, 20, 50, 30, 60])"
      ]
    },
    {
      "cell_type": "markdown",
      "metadata": {
        "id": "M9h8YJq8A8Eg"
      },
      "source": [
        "**Note:** `i` is a bytecode that represents unsighed integer of size 2 bytes"
      ]
    },
    {
      "cell_type": "code",
      "execution_count": null,
      "metadata": {
        "id": "r7g0nEgNA8Eh",
        "outputId": "ca5e84c9-fd64-4063-c7f7-c0a1b54b6626"
      },
      "outputs": [
        {
          "name": "stdout",
          "output_type": "stream",
          "text": [
            "['__add__', '__class__', '__contains__', '__copy__', '__deepcopy__', '__delattr__', '__delitem__', '__dir__', '__doc__', '__eq__', '__format__', '__ge__', '__getattribute__', '__getitem__', '__gt__', '__hash__', '__iadd__', '__imul__', '__init__', '__init_subclass__', '__iter__', '__le__', '__len__', '__lt__', '__mul__', '__ne__', '__new__', '__reduce__', '__reduce_ex__', '__repr__', '__rmul__', '__setattr__', '__setitem__', '__sizeof__', '__str__', '__subclasshook__', 'append', 'buffer_info', 'byteswap', 'count', 'extend', 'frombytes', 'fromfile', 'fromlist', 'fromunicode', 'index', 'insert', 'itemsize', 'pop', 'remove', 'reverse', 'tobytes', 'tofile', 'tolist', 'tounicode', 'typecode']\n"
          ]
        }
      ],
      "source": [
        "print(dir(arr))"
      ]
    },
    {
      "cell_type": "markdown",
      "metadata": {
        "id": "N6Ji1REyA8Ei"
      },
      "source": [
        "Print all array elements"
      ]
    },
    {
      "cell_type": "code",
      "execution_count": null,
      "metadata": {
        "tags": [],
        "id": "zgoHLU08A8Ei",
        "outputId": "5d186d2c-4fd9-438d-c148-17a5d4acc77f"
      },
      "outputs": [
        {
          "name": "stdout",
          "output_type": "stream",
          "text": [
            "10\n",
            "20\n",
            "50\n",
            "30\n",
            "60\n"
          ]
        }
      ],
      "source": [
        "# print all array elements\n",
        "for i in arr:\n",
        "    print(i)"
      ]
    },
    {
      "cell_type": "markdown",
      "metadata": {
        "id": "oMOEYrOLA8Ej"
      },
      "source": [
        "How many elements in the array?"
      ]
    },
    {
      "cell_type": "code",
      "execution_count": null,
      "metadata": {
        "tags": [],
        "id": "w5pZlHYUA8Ej",
        "outputId": "5c5e799f-130b-4cf1-ea58-80889ef6b323"
      },
      "outputs": [
        {
          "name": "stdout",
          "output_type": "stream",
          "text": [
            "5\n"
          ]
        }
      ],
      "source": [
        "# print the size of the array\n",
        "print(len(arr))"
      ]
    },
    {
      "cell_type": "markdown",
      "metadata": {
        "id": "fdQLg5O7A8Ej"
      },
      "source": [
        "## Accessing array element\n",
        "Accessing array elements by index of the array element"
      ]
    },
    {
      "cell_type": "code",
      "execution_count": null,
      "metadata": {
        "tags": [],
        "id": "t45o33-2A8Ek",
        "outputId": "ebf38e9f-0fff-4eea-bd29-279048d7d5de"
      },
      "outputs": [
        {
          "name": "stdout",
          "output_type": "stream",
          "text": [
            "array index 0: 10\n",
            "array last element: 30\n"
          ]
        }
      ],
      "source": [
        "# example print array at index 0\n",
        "print(\"array index 0:\", arr[0])\n",
        "print(\"array last element:\", arr[-2])"
      ]
    },
    {
      "cell_type": "markdown",
      "metadata": {
        "id": "6bbIjPi9A8Ek"
      },
      "source": [
        "## Insert new array element\n",
        "\n",
        "Inserting new array element using built-in `insert()` method"
      ]
    },
    {
      "cell_type": "code",
      "execution_count": null,
      "metadata": {
        "tags": [],
        "id": "Ho36q6iCA8Ek"
      },
      "outputs": [],
      "source": [
        "# adding 70 at index 2\n",
        "arr.insert(2, 70)"
      ]
    },
    {
      "cell_type": "code",
      "execution_count": null,
      "metadata": {
        "tags": [],
        "id": "qoHSA72lA8El",
        "outputId": "d54b7b02-3d2e-475a-f125-b19c2b426ba3"
      },
      "outputs": [
        {
          "name": "stdout",
          "output_type": "stream",
          "text": [
            "The new inserted array= 70\n"
          ]
        }
      ],
      "source": [
        "print(\"The new inserted array=\", arr[2])"
      ]
    },
    {
      "cell_type": "markdown",
      "metadata": {
        "id": "57X9HS_AA8El"
      },
      "source": [
        "Print all array elements after inserted new element"
      ]
    },
    {
      "cell_type": "code",
      "execution_count": null,
      "metadata": {
        "tags": [],
        "id": "JDH_nVZyA8El",
        "outputId": "8524d356-8f1b-4fd9-e0d0-a00e92dc42bf"
      },
      "outputs": [
        {
          "name": "stdout",
          "output_type": "stream",
          "text": [
            "All array elements after inserted new element:\n",
            "10\n",
            "20\n",
            "70\n",
            "50\n",
            "30\n",
            "60\n"
          ]
        }
      ],
      "source": [
        "print(\"All array elements after inserted new element:\")\n",
        "for i in arr:\n",
        "    print(i)"
      ]
    },
    {
      "cell_type": "markdown",
      "metadata": {
        "id": "693RZ5C9A8El"
      },
      "source": [
        "## Detele array element\n",
        "We can also delete array element using `remove()` method"
      ]
    },
    {
      "cell_type": "code",
      "execution_count": null,
      "metadata": {
        "tags": [],
        "id": "Yz30BC2eA8Em"
      },
      "outputs": [],
      "source": [
        "# remove element 70\n",
        "arr.remove(70)"
      ]
    },
    {
      "cell_type": "markdown",
      "metadata": {
        "id": "wbgFwYGbA8Em"
      },
      "source": [
        "Print all element after deleted an element"
      ]
    },
    {
      "cell_type": "code",
      "execution_count": null,
      "metadata": {
        "tags": [],
        "id": "hU9OeYmPA8Em",
        "outputId": "8b03b1a9-c87e-45cc-e2f9-c5bf4391f219"
      },
      "outputs": [
        {
          "name": "stdout",
          "output_type": "stream",
          "text": [
            "All array elements after deleted 70\n",
            "10\n",
            "20\n",
            "50\n",
            "30\n",
            "60\n"
          ]
        }
      ],
      "source": [
        "# print all array elements\n",
        "print(\"All array elements after deleted 70\")\n",
        "for i in arr:\n",
        "    print(i)"
      ]
    },
    {
      "cell_type": "markdown",
      "metadata": {
        "id": "F9xWJHInA8Em"
      },
      "source": [
        "## Array Searching Operation\n",
        "\n",
        "We can perform a array search by its value or index using `index()` method"
      ]
    },
    {
      "cell_type": "code",
      "execution_count": null,
      "metadata": {
        "tags": [],
        "id": "Gp-qY2YVA8En",
        "outputId": "c0dc2bbb-f2ff-4e3d-8585-504d59916df7"
      },
      "outputs": [
        {
          "name": "stdout",
          "output_type": "stream",
          "text": [
            "The index value of 30 is  3\n"
          ]
        }
      ],
      "source": [
        "print(\"The index value of 30 is \", arr.index(30))"
      ]
    },
    {
      "cell_type": "markdown",
      "metadata": {
        "id": "VhPaTWF7A8En"
      },
      "source": [
        "## Array update operation\n"
      ]
    },
    {
      "cell_type": "code",
      "execution_count": null,
      "metadata": {
        "tags": [],
        "id": "2bkzjz-dA8En"
      },
      "outputs": [],
      "source": [
        "# Update operation\n",
        "arr[2] = 80"
      ]
    },
    {
      "cell_type": "code",
      "execution_count": null,
      "metadata": {
        "id": "CYbUNt_NA8En",
        "outputId": "1f05b1b4-402b-450b-a41c-da1c7c7687d4"
      },
      "outputs": [
        {
          "name": "stdout",
          "output_type": "stream",
          "text": [
            "10\n",
            "20\n",
            "80\n",
            "30\n",
            "60\n"
          ]
        }
      ],
      "source": [
        "for i in arr:\n",
        "    print(i)"
      ]
    },
    {
      "cell_type": "code",
      "execution_count": null,
      "metadata": {
        "tags": [],
        "id": "Tn6Wauc9A8Eo",
        "outputId": "94a55e36-5a63-4704-f44b-fe14505f8c07"
      },
      "outputs": [
        {
          "name": "stdout",
          "output_type": "stream",
          "text": [
            "All array elements after updating\n",
            "Index\t Value\n",
            "\n",
            "0 \t 10\n",
            "1 \t 20\n",
            "2 \t 80\n",
            "3 \t 30\n",
            "4 \t 60\n"
          ]
        }
      ],
      "source": [
        "print(\"All array elements after updating\")\n",
        "print(\"Index\\t Value\\n\")\n",
        "for i in arr:\n",
        "    print(arr.index(i), \"\\t\", i)\n"
      ]
    },
    {
      "cell_type": "code",
      "execution_count": null,
      "metadata": {
        "id": "W8--GCcnA8Eo",
        "outputId": "3e5b7eed-c9bd-441e-9809-c249991610a2"
      },
      "outputs": [
        {
          "data": {
            "text/plain": [
              "60"
            ]
          },
          "execution_count": 19,
          "metadata": {},
          "output_type": "execute_result"
        }
      ],
      "source": [
        "arr.pop()"
      ]
    },
    {
      "cell_type": "code",
      "execution_count": null,
      "metadata": {
        "id": "_KwR853FA8Eo",
        "outputId": "dd60fb7f-feaf-4399-e990-6eb93ae5971d"
      },
      "outputs": [
        {
          "name": "stdout",
          "output_type": "stream",
          "text": [
            "10\n",
            "20\n",
            "80\n",
            "30\n"
          ]
        }
      ],
      "source": [
        "for i in arr:\n",
        "    print(i)"
      ]
    },
    {
      "cell_type": "code",
      "execution_count": null,
      "metadata": {
        "id": "c4RcB1WuA8Eo"
      },
      "outputs": [],
      "source": [
        "arr.reverse()"
      ]
    },
    {
      "cell_type": "code",
      "execution_count": null,
      "metadata": {
        "id": "GsmyIxoNA8Ep",
        "outputId": "3808fbec-8341-44dd-c800-1c801ec0b749"
      },
      "outputs": [
        {
          "data": {
            "text/plain": [
              "array('i', [30, 80, 20, 10])"
            ]
          },
          "execution_count": 23,
          "metadata": {},
          "output_type": "execute_result"
        }
      ],
      "source": [
        "arr"
      ]
    },
    {
      "cell_type": "markdown",
      "source": [
        "---"
      ],
      "metadata": {
        "id": "uneKbXLbo3ML"
      }
    },
    {
      "cell_type": "markdown",
      "metadata": {
        "id": "Kk1rGAOCA8Ep"
      },
      "source": [
        "# Python Dictionary `filter()`"
      ]
    },
    {
      "cell_type": "markdown",
      "source": [
        "**Filtering** dictionaries in Python involves selecting specific key-value pairs based on certain criteria.\n",
        "\n",
        " You can achieve this using the **filter()** function.  Here are some examples of using the **filter()** function to filter dictionaries in Python:"
      ],
      "metadata": {
        "id": "33JfDEYWo2hR"
      }
    },
    {
      "cell_type": "markdown",
      "metadata": {
        "id": "_-uNrmRnA8Ep"
      },
      "source": [
        "- filter keys\n",
        "- filter by value\n",
        "- filter none values\n",
        "- filter key based on value\n",
        "- filter dictionary from list\n",
        "- filter empty values"
      ]
    },
    {
      "cell_type": "markdown",
      "source": [
        "## Syntax"
      ],
      "metadata": {
        "id": "DkYFV7gqtwJE"
      }
    },
    {
      "cell_type": "markdown",
      "source": [
        "The **filter()** function in Python is used to filter elements of an iterable based on a function. It takes two parameters:\n",
        "\n",
        "- A function that defines the filtering condition.\n",
        "- An iterable (like a **list**, **tuple**, **dictionary**, etc.) that needs to be filtered.\n",
        "- The syntax of the filter() function is as follows:"
      ],
      "metadata": {
        "id": "1EgrYJ_etyef"
      }
    },
    {
      "cell_type": "markdown",
      "source": [
        "\n",
        "\n",
        "```\n",
        "filter(function, iterable)\n",
        "```\n",
        "\n"
      ],
      "metadata": {
        "id": "eKjcyfPUt9Pc"
      }
    },
    {
      "cell_type": "markdown",
      "source": [
        "### Define the syntax:"
      ],
      "metadata": {
        "id": "4HQSybjou6QZ"
      }
    },
    {
      "cell_type": "markdown",
      "source": [
        "Here, the **function** parameter is a function that returns a Boolean value (**True or False**). The **function** is applied to each element of the iterable. If the function returns **True** for an element, that element is included in the result. If the function returns False, the element is excluded.\n",
        "\n",
        "The **iterable** parameter is the sequence to be filtered. It can be a list, tuple, dictionary, or any other iterable object.\n",
        "\n",
        "The **filter()** function returns an iterator that contains the elements from the iterable for which the function returns **True**."
      ],
      "metadata": {
        "id": "IF-GGQ4xu-Zr"
      }
    },
    {
      "cell_type": "markdown",
      "source": [
        "## Examples"
      ],
      "metadata": {
        "id": "aSLujjwyvQnj"
      }
    },
    {
      "cell_type": "markdown",
      "source": [
        "## Filter Keys:\n",
        "Filtering keys from a dictionary based on a specific condition using the **filter()** function:"
      ],
      "metadata": {
        "id": "TSF8LvJxrkUH"
      }
    },
    {
      "cell_type": "code",
      "source": [
        "# let's define sample dictionary\n",
        "sample_dict = {'a': 1, 'b': 2, 'c': 3, 'd': 4, 'e': 5}"
      ],
      "metadata": {
        "id": "yjWhRY18s0-h"
      },
      "execution_count": null,
      "outputs": []
    },
    {
      "cell_type": "code",
      "source": [
        "filtered_keys = dict(filter(lambda item: item[0] in {'a', 'b', 'c'}, sample_dict.items()))\n",
        "print(filtered_keys)  # Output: {'a': 1, 'b': 2, 'c': 3}\n"
      ],
      "metadata": {
        "id": "1V0GLJRPsXYR"
      },
      "execution_count": null,
      "outputs": []
    },
    {
      "cell_type": "markdown",
      "source": [
        "## 2. Filter by Value:\n",
        "Filtering the dictionary based on the values using the **filter()** function:"
      ],
      "metadata": {
        "id": "amnPSf7GssWs"
      }
    },
    {
      "cell_type": "code",
      "source": [
        "filtered_values = dict(filter(lambda item: item[1] > 3, sample_dict.items()))\n",
        "print(filtered_values)  # Output: {'d': 4, 'e': 5}\n"
      ],
      "metadata": {
        "id": "f-cJxd6psvkJ"
      },
      "execution_count": null,
      "outputs": []
    },
    {
      "cell_type": "markdown",
      "metadata": {
        "id": "TFxEwF5vA8Ep"
      },
      "source": [
        "How to filter values of even and odd keys"
      ]
    },
    {
      "cell_type": "code",
      "execution_count": null,
      "metadata": {
        "id": "gz8QEoKZA8Eq"
      },
      "outputs": [],
      "source": [
        "# example: let's define the dictionary\n",
        "my_dict = {8:'u',4:'t',9:'z',10:'j',5:'k',3:'s'}\n"
      ]
    },
    {
      "cell_type": "code",
      "execution_count": null,
      "metadata": {
        "id": "Cg4nfuYQA8Eq",
        "outputId": "ada6c691-1ebf-4a93-ebbe-b60c37f26f12"
      },
      "outputs": [
        {
          "name": "stdout",
          "output_type": "stream",
          "text": [
            "Filter dictionary: {9: 'z', 3: 's'}\n"
          ]
        }
      ],
      "source": [
        "new_filt = dict(filter(lambda val: val[0] % 3 == 0, my_dict.items()))\n",
        "print(\"Filter dictionary:\",new_filt)"
      ]
    },
    {
      "cell_type": "markdown",
      "source": [
        "## Conclusion"
      ],
      "metadata": {
        "id": "uTQRK2EJtTUJ"
      }
    },
    {
      "cell_type": "markdown",
      "source": [
        "These examples demonstrate the use of the **filter()** function to filter dictionaries in Python based on various conditions. You can customize the **lambda** functions or conditions within the filter to suit your specific filtering requirements."
      ],
      "metadata": {
        "id": "LbElgpc3tWe2"
      }
    },
    {
      "cell_type": "markdown",
      "source": [
        "---"
      ],
      "metadata": {
        "id": "Og4xGRMkBGOS"
      }
    },
    {
      "cell_type": "markdown",
      "source": [
        "# Time Complexity Analysis"
      ],
      "metadata": {
        "id": "xBkarVDVBHPZ"
      }
    },
    {
      "cell_type": "markdown",
      "source": [
        "### Intro"
      ],
      "metadata": {
        "id": "7IYQBo5EJiLZ"
      }
    },
    {
      "cell_type": "markdown",
      "source": [
        "\n",
        "Welcome to this comprehensive guide on understanding time complexity in algorithms. In the world of programming and computer science, the efficiency of an algorithm is crucial for its practicality and scalability. A fundamental concept that aids in this evaluation is 'time complexity.'\n",
        "\n",
        "In this video, I will explore the basics of time complexity and delve into its various types, using simple Python examples and visual representations. By the end, you'll have a clear understanding of different time complexities such as **O(1)**, **O(n)**, **O(n^2)**, and **O(log n)**, and their implications on algorithm performance.\n",
        "\n",
        "Let's dive in and unravel the secrets behind the efficiency of algorithms, making complex concepts accessible to everyone, regardless of your programming background. Join me on this enlightening journey through the intricacies of time complexity in algorithms. Let's get started!"
      ],
      "metadata": {
        "id": "dkYqOY8bIei-"
      }
    },
    {
      "cell_type": "markdown",
      "source": [
        "## What is Time Complexity"
      ],
      "metadata": {
        "id": "lv1ExoKbBMey"
      }
    },
    {
      "cell_type": "markdown",
      "source": [
        "**Time complexity** is a way of expressing the amount of time an algorithm takes to run as a function of the size of its input. It helps us understand how an algorithm's execution time grows as the input size increases."
      ],
      "metadata": {
        "id": "gO-D_xTsBVbT"
      }
    },
    {
      "cell_type": "markdown",
      "source": [
        "## Big O Notation"
      ],
      "metadata": {
        "id": "zmBUXYxnBZC6"
      }
    },
    {
      "cell_type": "markdown",
      "source": [
        "**Big O notation** is a mathematical notation that describes the limiting behavior of a function when the argument tends towards a particular value or infinity. In the context of time complexity, it describes the upper bound of the time taken by an algorithm in terms of the input size."
      ],
      "metadata": {
        "id": "596mDd7NBfji"
      }
    },
    {
      "cell_type": "markdown",
      "source": [
        "## Analyzing Time Complexity:\n",
        "Let's analyze the time complexities of some common algorithms."
      ],
      "metadata": {
        "id": "9IUvtr01B-zq"
      }
    },
    {
      "cell_type": "markdown",
      "source": [
        "### Constant Time Complexity **O(1)**"
      ],
      "metadata": {
        "id": "vqWrNRsZCBsf"
      }
    },
    {
      "cell_type": "markdown",
      "source": [
        "An algorithm is said to have constant time complexity (denoted as O(1)) if the execution time of the algorithm does not depend on the size of the input.\n",
        "\n",
        "This means that the time taken to run the algorithm remains constant, regardless of the input size.\n",
        "\n",
        "In the example provided, the `constant_algo` function always returns the first item from the list items, regardless of the size of the list. It is evident that the time taken to retrieve the first element remains the same, irrespective of the length of the list.\n",
        "\n"
      ],
      "metadata": {
        "id": "A4boD6BzCfHV"
      }
    },
    {
      "cell_type": "code",
      "source": [
        "# @title\n",
        "import matplotlib.pyplot as plt\n",
        "import numpy as np\n",
        "\n",
        "n = np.linspace(1, 100, 100)\n",
        "y = np.ones_like(n)\n",
        "\n",
        "plt.plot(n, y, label=\"O(1)\")\n",
        "plt.xlabel('Input Size')\n",
        "plt.ylabel('Time Complexity')\n",
        "plt.title('Constant Time Complexity O(1)')\n",
        "plt.legend()\n",
        "plt.show()\n"
      ],
      "metadata": {
        "colab": {
          "base_uri": "https://localhost:8080/",
          "height": 472
        },
        "cellView": "form",
        "id": "2uEzaLs7Gx1W",
        "outputId": "7f54aa73-f7ca-4231-f08f-c8556d73439a"
      },
      "execution_count": null,
      "outputs": [
        {
          "output_type": "display_data",
          "data": {
            "text/plain": [
              "<Figure size 640x480 with 1 Axes>"
            ],
            "image/png": "[encoded data removed]"
          },
          "metadata": {}
        }
      ]
    },
    {
      "cell_type": "markdown",
      "source": [
        "### Example"
      ],
      "metadata": {
        "id": "zRQWlrc5CrEg"
      }
    },
    {
      "cell_type": "code",
      "source": [
        "def constant_algo(items):\n",
        "    return items[0]\n"
      ],
      "metadata": {
        "id": "8YuW3j30CqO-"
      },
      "execution_count": null,
      "outputs": []
    },
    {
      "cell_type": "markdown",
      "source": [
        "### Linear Time Complexity **O(n)**"
      ],
      "metadata": {
        "id": "nnv65-MNCxiG"
      }
    },
    {
      "cell_type": "markdown",
      "source": [
        "An algorithm has linear time complexity (denoted as O(n)) if the time taken for the algorithm to run is directly proportional to the size of the input.\n"
      ],
      "metadata": {
        "id": "mZZUo9OPElKB"
      }
    },
    {
      "cell_type": "code",
      "source": [
        "# @title\n",
        "n = np.linspace(1, 100, 100)\n",
        "y = n\n",
        "\n",
        "plt.plot(n, y, label=\"O(n)\")\n",
        "plt.xlabel('Input Size')\n",
        "plt.ylabel('Time Complexity')\n",
        "plt.title('Linear Time Complexity O(n)')\n",
        "plt.legend()\n",
        "plt.show()\n"
      ],
      "metadata": {
        "colab": {
          "base_uri": "https://localhost:8080/",
          "height": 472
        },
        "cellView": "form",
        "id": "H-MblNiuHHV5",
        "outputId": "1ec1fdc5-7bb3-49f6-c07d-618fca06474f"
      },
      "execution_count": null,
      "outputs": [
        {
          "output_type": "display_data",
          "data": {
            "text/plain": [
              "<Figure size 640x480 with 1 Axes>"
            ],
            "image/png": "[encoded data removed]"
          },
          "metadata": {}
        }
      ]
    },
    {
      "cell_type": "markdown",
      "source": [
        "### Example"
      ],
      "metadata": {
        "id": "I8MYImn7HINQ"
      }
    },
    {
      "cell_type": "code",
      "source": [
        "def linear_algo(items):\n",
        "    for item in items:\n",
        "        print(item)"
      ],
      "metadata": {
        "id": "af9EATH1DTA-"
      },
      "execution_count": null,
      "outputs": []
    },
    {
      "cell_type": "markdown",
      "source": [
        "In the **linear_algo** example, the function iterates through each element in the list items and prints the item. The time taken to complete this operation increases linearly with the number of elements in the list"
      ],
      "metadata": {
        "id": "rnQUgg4gEpg-"
      }
    },
    {
      "cell_type": "markdown",
      "source": [
        "### Quadratic Time Complexity **O(n^2)**"
      ],
      "metadata": {
        "id": "xV75io_vExEA"
      }
    },
    {
      "cell_type": "markdown",
      "source": [
        "An algorithm is said to have quadratic time complexity (denoted as O(n^2)) if the time taken by the algorithm is proportional to the square of the size of the input."
      ],
      "metadata": {
        "id": "vh6TfKKuE2qw"
      }
    },
    {
      "cell_type": "code",
      "source": [
        "# @title\n",
        "n = np.linspace(1, 10, 100)\n",
        "y = n**2\n",
        "\n",
        "plt.plot(n, y, label=\"O(n^2)\")\n",
        "plt.xlabel('Input Size')\n",
        "plt.ylabel('Time Complexity')\n",
        "plt.title('Quadratic Time Complexity O(n^2)')\n",
        "plt.legend()\n",
        "plt.show()\n"
      ],
      "metadata": {
        "colab": {
          "base_uri": "https://localhost:8080/",
          "height": 472
        },
        "cellView": "form",
        "id": "yBJvujtcF4Jo",
        "outputId": "7cbcce40-24fd-45e5-a8c0-6d2b53d6e7e2"
      },
      "execution_count": null,
      "outputs": [
        {
          "output_type": "display_data",
          "data": {
            "text/plain": [
              "<Figure size 640x480 with 1 Axes>"
            ],
            "image/png": "[encoded data removed]"
          },
          "metadata": {}
        }
      ]
    },
    {
      "cell_type": "markdown",
      "source": [
        "### Example"
      ],
      "metadata": {
        "id": "uo9tgMgTHThF"
      }
    },
    {
      "cell_type": "code",
      "source": [
        "def quadratic_algo(items):\n",
        "    for item1 in items:\n",
        "        for item2 in items:\n",
        "            print(item1, item2)\n"
      ],
      "metadata": {
        "id": "-uZU1q2pHXbT"
      },
      "execution_count": null,
      "outputs": []
    },
    {
      "cell_type": "markdown",
      "source": [
        "In the **quadratic_algo** function, for each element in the list items, there is another nested loop that iterates through each element in the list again. As a result, the function has a quadratic time complexity as the time taken increases quadratically with the number of elements in the list."
      ],
      "metadata": {
        "id": "b5Dny1tlF19K"
      }
    },
    {
      "cell_type": "markdown",
      "source": [
        "### Logarithmic Time Complexity **O(log n)**:"
      ],
      "metadata": {
        "id": "Wn7BeJaYF8Mv"
      }
    },
    {
      "cell_type": "markdown",
      "source": [
        "An algorithm is said to have logarithmic time complexity (denoted as O(log n)) if the time taken to complete the algorithm increases logarithmically with the size of the input."
      ],
      "metadata": {
        "id": "xGTYzK8EF-6p"
      }
    },
    {
      "cell_type": "code",
      "source": [
        "# @title\n",
        "n = np.linspace(1, 100, 100)\n",
        "y = np.log2(n)\n",
        "\n",
        "plt.plot(n, y, label=\"O(log n)\")\n",
        "plt.xlabel('Input Size')\n",
        "plt.ylabel('Time Complexity')\n",
        "plt.title('Logarithmic Time Complexity O(log n)')\n",
        "plt.legend()\n",
        "plt.show()\n"
      ],
      "metadata": {
        "colab": {
          "base_uri": "https://localhost:8080/",
          "height": 472
        },
        "cellView": "form",
        "id": "p8L-9fbuHqDB",
        "outputId": "a424878d-2bbe-4c73-846e-6f503896fda2"
      },
      "execution_count": null,
      "outputs": [
        {
          "output_type": "display_data",
          "data": {
            "text/plain": [
              "<Figure size 640x480 with 1 Axes>"
            ],
            "image/png": "[encoded data removed]"
          },
          "metadata": {}
        }
      ]
    },
    {
      "cell_type": "markdown",
      "source": [
        "### Example"
      ],
      "metadata": {
        "id": "ZBpzPkcrHq2l"
      }
    },
    {
      "cell_type": "code",
      "source": [
        "def logarithmic_algo(n):\n",
        "    i = 1\n",
        "    while i < n:\n",
        "        print(i)\n",
        "        i = i * 2\n"
      ],
      "metadata": {
        "id": "QdqKlf4TGB9G"
      },
      "execution_count": null,
      "outputs": []
    },
    {
      "cell_type": "markdown",
      "source": [
        "In the **logarithmic_algo** function, the value of **i** is multiplied by `2` in each iteration of the while loop. This results in the loop running for a logarithmic number of times based on the input `n`. The time complexity remains relatively low even as the input size increases significantly."
      ],
      "metadata": {
        "id": "cTOOpWj0GCHY"
      }
    },
    {
      "cell_type": "markdown",
      "source": [
        "### Measure Time Complexity\n",
        "Now let's time these functions using the `time` module in Python"
      ],
      "metadata": {
        "id": "CQdfRHmBGD4C"
      }
    },
    {
      "cell_type": "code",
      "source": [
        "import time\n",
        "\n",
        "# Function to measure the execution time of a given function\n",
        "def measure_time(func, *args):\n",
        "    start_time = time.time()\n",
        "    func(*args)\n",
        "    end_time = time.time()\n",
        "    return end_time - start_time\n",
        "\n",
        "# Usage Example:\n",
        "items = [1, 2, 3, 4, 5]\n",
        "print(\"Constant Time:\", measure_time(constant_algo, items))\n",
        "print(\"Linear Time:\", measure_time(linear_algo, items))\n",
        "print(\"Quadratic Time:\", measure_time(quadratic_algo, items))\n",
        "\n",
        "logarithmic_algo(100)  # Printing the output of logarithmic_algo function for demonstration\n"
      ],
      "metadata": {
        "id": "45KL7MqKGRm-"
      },
      "execution_count": null,
      "outputs": []
    },
    {
      "cell_type": "markdown",
      "source": [
        "### Conclusion"
      ],
      "metadata": {
        "id": "R0v-pN_NIQH5"
      }
    },
    {
      "cell_type": "markdown",
      "source": [
        "\n",
        "Understanding time complexity is crucial for designing efficient algorithms. It helps in identifying potential bottlenecks and improving the performance of the algorithms.\n",
        "\n",
        "Make sure to test your algorithms with different input sizes to get a clearer understanding of their time complexities."
      ],
      "metadata": {
        "id": "kGxV7oNmISRm"
      }
    },
    {
      "cell_type": "code",
      "source": [
        "# @title\n",
        "import matplotlib.pyplot as plt\n",
        "import numpy as np\n",
        "\n",
        "# Constant Time Complexity O(1)\n",
        "n1 = np.linspace(1, 100, 100)\n",
        "y1 = np.ones_like(n1)\n",
        "\n",
        "# Linear Time Complexity O(n)\n",
        "n2 = np.linspace(1, 100, 100)\n",
        "y2 = n2\n",
        "\n",
        "# Quadratic Time Complexity O(n^2)\n",
        "n3 = np.linspace(1, 10, 100)\n",
        "y3 = n3**2\n",
        "\n",
        "# Logarithmic Time Complexity O(log n)\n",
        "n4 = np.linspace(1, 100, 100)\n",
        "y4 = np.log2(n4)\n",
        "\n",
        "# Plotting all the time complexities\n",
        "plt.figure(figsize=(10, 6))\n",
        "\n",
        "plt.plot(n1, y1, label=\"O(1)\")\n",
        "plt.plot(n2, y2, label=\"O(n)\")\n",
        "plt.plot(n3, y3, label=\"O(n^2)\")\n",
        "plt.plot(n4, y4, label=\"O(log n)\")\n",
        "\n",
        "plt.xlabel('Input Size')\n",
        "plt.ylabel('Time Complexity')\n",
        "plt.title('Time Complexity Analysis')\n",
        "plt.legend()\n",
        "plt.grid(True)\n",
        "plt.show()\n"
      ],
      "metadata": {
        "cellView": "form",
        "id": "XXuZuFGWKxNx",
        "outputId": "34d9d450-fdde-442e-c9b4-852f1590c83c",
        "colab": {
          "base_uri": "https://localhost:8080/",
          "height": 564
        }
      },
      "execution_count": null,
      "outputs": [
        {
          "output_type": "display_data",
          "data": {
            "text/plain": [
              "<Figure size 1000x600 with 1 Axes>"
            ],
            "image/png": "[encoded data removed]"
          },
          "metadata": {}
        }
      ]
    }
  ],
  "metadata": {
    "kernelspec": {
      "display_name": "Python 3",
      "language": "python",
      "name": "python3"
    },
    "language_info": {
      "codemirror_mode": {
        "name": "ipython",
        "version": 3
      },
      "file_extension": ".py",
      "mimetype": "text/x-python",
      "name": "python",
      "nbconvert_exporter": "python",
      "pygments_lexer": "ipython3",
      "version": "3.9.10"
    },
    "colab": {
      "provenance": []
    }
  },
  "nbformat": 4,
  "nbformat_minor": 0
}