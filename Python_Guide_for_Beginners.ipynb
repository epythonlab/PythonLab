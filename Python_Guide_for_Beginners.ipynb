{
  "nbformat": 4,
  "nbformat_minor": 0,
  "metadata": {
    "colab": {
      "provenance": [],
      "authorship_tag": "ABX9TyNw6B02bwWwGF3oiPgUBHoZ",
      "include_colab_link": true
    },
    "kernelspec": {
      "name": "python3",
      "display_name": "Python 3"
    },
    "language_info": {
      "name": "python"
    }
  },
  "cells": [
    {
      "cell_type": "markdown",
      "metadata": {
        "id": "view-in-github",
        "colab_type": "text"
      },
      "source": [
        "<a href=\"https://colab.research.google.com/github/epythonlab/PythonLab/blob/master/Python_Guide_for_Beginners.ipynb\" target=\"_parent\"><img src=\"https://colab.research.google.com/assets/colab-badge.svg\" alt=\"Open In Colab\"/></a>"
      ]
    },
    {
      "cell_type": "markdown",
      "source": [
        "# Beginners Guide to Python Programming\n",
        "\n",
        "Tutorial Link: https://bit.ly/3sMHrH1\n",
        "\n",
        "\n",
        "\n",
        "# Day 1: Basics of Python Programming\n",
        "\n",
        "  - Introduction\n",
        "  - comments\n",
        "  - functions\n",
        "  - variables\n",
        "  - strings\n",
        "\n",
        "# Day 2: Data(Object) Types in Python\n",
        "  - Determine objects types\n",
        "  - Convert objects\n",
        "\n",
        "# Day 3: Operators and Expressions in Python\n",
        "\n",
        "- What are operators\n",
        "  - Expressions?\n",
        "  - Operands?\n",
        "\n",
        "# Day 4: Errors and Exception Handling in Python\n",
        "\n",
        "- Types of errors\n",
        "- How to handle errors\n",
        "\n",
        "# Day 5: String Manipulations\n",
        "\n",
        "After completing this topics you will be able to:\n",
        "\n",
        "- Work with Strings\n",
        "- Perform operations on String\n",
        "- Manipulate Strings using indexing and escape sequences\n",
        "\n",
        "# Day 6: Functions in Python\n",
        "\n",
        "After completing this topic you will be able to:\n",
        "- Work with functions\n",
        "- Work with different built-in functions\n",
        "- Define the difference between user-defined function and built-in functions\n",
        "\n",
        "# Day 7: Function Scope\n",
        "\n",
        "By the end of this tutorial you will be able to understand\n",
        "- Local and global variables\n",
        "\n",
        "\n",
        "# Day 8: Return, Pass, Parameters Vs Arguements\n",
        "\n",
        "By the end of this tutorial, you will be able to understand the difference between\n",
        "- parameters vs arguments\n",
        "\n",
        "# Day 9: Conditional Statements and Loops\n",
        "\n",
        "After completing this lab, you will be able to\n",
        "- work with conditional statements\n",
        "  - if statements / nested if statements\n",
        "- work with loops\n",
        "  - for loops\n",
        "  - while loop\n",
        "\n",
        "# Day 10: Essential Python Built-in Modules for Beginners\n",
        "\n",
        "- Practice some of the most essential built-in modules\n",
        "\n",
        "# Day 11: Develop Number Guessing Game\n",
        "\n",
        "This project covers all the topics from day 1 - day 10 which incorporates\n",
        "    - functions, variables,\n",
        "    - strings, loops, and conditional statements:\n",
        "\n",
        "## Descriptions:\n",
        "\n",
        "This game will able to generate a random number between 1 and 100 and asks the player to guess it. The player has up to 10 attempts to guess the correct number. The program will provide feedback on whether the guess is too high or too low after each attempt. The game uses functions like `display_welcome`, `get_user_guess`, and `evaluate_guess` to organize the code and make it more modular.\n",
        "\n",
        "# Day 12: Data Structures in Python\n",
        "\n",
        "- Primitive vs non-primitive\n",
        "- Lists\n",
        "\n",
        "# Day 13: Data Structures in Python\n",
        "\n",
        "- Python Tuple and sets\n",
        "\n",
        "# Day 14: Numpy Arrays in Python\n",
        "\n",
        "- Numpy Arrays vs Lists\n",
        "- Creating arrays\n",
        "- Accessing array elements\n",
        "- Modifying and deleteting array elements\n",
        "\n",
        "\n",
        "# Day 15: Find Second Largest Number in an Array\n",
        "\n",
        " In this project, you will learn how to find the second largest number from the given array of numbers.\n",
        "\n",
        "This project will cover all topics from the day 1 - day 14.\n",
        "\n",
        "   \n",
        "\n",
        "# Day 16: Dictionary in Python\n",
        " In this topic, you will learn dictionary in Python.\n",
        "\n",
        "By the end of this tutorial, you will be able to\n",
        "- work with dictionaries data\n",
        "- work with creating, updating, deleting and adding dictionary data\n",
        "\n",
        "# Day 17: File Handling in Python\n",
        "\n",
        "by the end of this tutorial, you will be able to\n",
        "- work with how to read text file\n",
        "- work with how to write text file\n",
        "    \n",
        "\n",
        "# Day 18: Count the Occurrences of Word in a File\n",
        "This project will cover all the topics including dictioanry and file handling\n",
        "- To count the number of occurrences of each word in a given text file, you can use the following steps:\n",
        "- Define a function\n",
        "- Open the text file in a text editor.\n",
        "- Create a dictionary to store the number of occurrences of word.\n",
        "- Iterate over the words in the text file.\n",
        "- For each word, increment the count in the dictionary.\n",
        "- Print the dictionary.\n",
        "        \n",
        "        \n",
        "    \n",
        "    \n",
        "\n",
        "\n"
      ],
      "metadata": {
        "id": "sNCjDZgmInkZ"
      }
    },
    {
      "cell_type": "markdown",
      "source": [
        "# Day 19: Develop Command Line Shopping App"
      ],
      "metadata": {
        "id": "8eBtFjruCYGV"
      }
    },
    {
      "cell_type": "markdown",
      "source": [
        "This project covers all the basic python programming from day 1- day 19.\n",
        "This project can perform the following tasks:\n",
        "- Register item details\n",
        "- Display registered items\n",
        "- Delete Item\n",
        "- Update Item"
      ],
      "metadata": {
        "id": "pjGDhDUbChiE"
      }
    },
    {
      "cell_type": "markdown",
      "source": [
        "# Day 20: Object Oriented Programming(Object)\n",
        "\n",
        "Learning Objectives\n",
        "\n",
        "After completing this tutorial, you will be able to get understanding:\n",
        "- what is object oriented programming\n",
        "- What is object?\n"
      ],
      "metadata": {
        "id": "n_eXkv6LCkLl"
      }
    },
    {
      "cell_type": "markdown",
      "source": [
        "# Day 21: Object Oriented Programming(Class)\n",
        "\n",
        "Learning Objectives\n",
        "\n",
        "After completing this tutorial, you will be able to get understanding:\n",
        "- what is class?\n",
        "- How to define class in Python?\n",
        "- How to instantiate object?\n",
        "- Attributes and Methods in Class\n",
        "- what is constructor?\n",
        "- instance attributes and the init method"
      ],
      "metadata": {
        "id": "tr0YEwJ-CrOX"
      }
    },
    {
      "cell_type": "markdown",
      "source": [
        "# Day 22: Object Oriented Programming(Inheritance)\n",
        "\n",
        "Learning Objectives\n",
        "\n",
        "After completing this tutorial, you will be able to get understanding:\n",
        "- what is Inheritance?\n",
        "- How to implement inheritance?"
      ],
      "metadata": {
        "id": "2VJwEVHxCsEg"
      }
    },
    {
      "cell_type": "markdown",
      "source": [
        "# Day 23: Build a Library System(OOP)\n",
        "\n",
        "In this project, you will be applying oriented programming concepts to a practical projects.\n",
        "\n",
        "This tutorial is your gateway to mastering OOP concepts and implementing inheritance in your projects.\n",
        "\n",
        "The project will have three classes:\n",
        "\n",
        "- LibraryItem(base)\n",
        "- Book(child)\n",
        "- Magazine(child)\n",
        "\n",
        "So, let's get coding and building awesome together"
      ],
      "metadata": {
        "id": "QUFAfPgFCw0K"
      }
    },
    {
      "cell_type": "markdown",
      "source": [
        "---"
      ],
      "metadata": {
        "id": "Obgu2F7SIwgm"
      }
    }
  ]
}