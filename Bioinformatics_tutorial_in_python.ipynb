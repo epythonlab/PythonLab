{
  "nbformat": 4,
  "nbformat_minor": 0,
  "metadata": {
    "colab": {
      "provenance": [],
      "authorship_tag": "ABX9TyPAGXs6kC9wRCymmAk7ebef",
      "include_colab_link": true
    },
    "kernelspec": {
      "name": "python3",
      "display_name": "Python 3"
    },
    "language_info": {
      "name": "python"
    }
  },
  "cells": [
    {
      "cell_type": "markdown",
      "metadata": {
        "id": "view-in-github",
        "colab_type": "text"
      },
      "source": [
        "<a href=\"https://colab.research.google.com/github/epythonlab/PythonLab/blob/master/Bioinformatics_tutorial_in_python.ipynb\" target=\"_parent\"><img src=\"https://colab.research.google.com/assets/colab-badge.svg\" alt=\"Open In Colab\"/></a>"
      ]
    },
    {
      "cell_type": "markdown",
      "source": [
        "# Reading and Analyzing DNA Sequences"
      ],
      "metadata": {
        "id": "tB-T3tOEkhgb"
      }
    },
    {
      "cell_type": "markdown",
      "source": [
        "## Introduction"
      ],
      "metadata": {
        "id": "YyPhjlLVknn6"
      }
    },
    {
      "cell_type": "markdown",
      "source": [
        "In this tutorial, I'll provide you with a step-by-step tutorial along with examples and demos for a simple bioinformatics task: reading and analyzing DNA sequences. I'll use the **Biopython** library, which is a collection of Python tools for computational biology.\n",
        "\n",
        "This tutorial will cover the basics of reading, analyzing, and visualizing DNA sequences using **Biopython**.\n",
        "\n",
        "Feel free to ask questions in the comment sections of this video and will explore more advanced bioinformatics tasks based on your interests and research goals."
      ],
      "metadata": {
        "id": "2RkTI0mRkrPS"
      }
    },
    {
      "cell_type": "markdown",
      "source": [
        "## Step 1: Install Biopython\n",
        "\n",
        "Make sure you have Python installed on your system. You can install Biopython using `pip`:"
      ],
      "metadata": {
        "id": "y8SgByLclVcx"
      }
    },
    {
      "cell_type": "code",
      "execution_count": null,
      "metadata": {
        "id": "IomGzxguNXAs"
      },
      "outputs": [],
      "source": [
        "#!pip install biopython"
      ]
    },
    {
      "cell_type": "markdown",
      "source": [
        "## Step 2: Import Biopython and Read DNA Sequence"
      ],
      "metadata": {
        "id": "q-9rlQEPljN-"
      }
    },
    {
      "cell_type": "code",
      "source": [
        "# import the SeqIO\n",
        "from Bio import SeqIO\n",
        "\n",
        "# Specify the file path\n",
        "file_path = \"dna.fasta\"\n"
      ],
      "metadata": {
        "id": "Ogv2PDntw2yg"
      },
      "execution_count": null,
      "outputs": []
    },
    {
      "cell_type": "code",
      "source": [
        "try:\n",
        "    # Read a DNA sequence from a FASTA file\n",
        "    sequence_record = SeqIO.read(file_path, \"fasta\")\n",
        "\n",
        "    # Print the sequence ID and the sequence itself\n",
        "    print(\"Sequence ID:\", sequence_record.id)\n",
        "    print(\"DNA Sequence:\", sequence_record.seq)\n",
        "except Exception as e:\n",
        "    print(\"Error:\", e)"
      ],
      "metadata": {
        "colab": {
          "base_uri": "https://localhost:8080/"
        },
        "id": "_O7A1RWqj_zZ",
        "outputId": "1db622d5-c6db-45de-a12d-d9f871f5d07a"
      },
      "execution_count": null,
      "outputs": [
        {
          "output_type": "stream",
          "name": "stdout",
          "text": [
            "Sequence ID: Dna_Seq\n",
            "DNA Sequence: ATGCATGCATGCATGCATGC\n"
          ]
        }
      ]
    },
    {
      "cell_type": "markdown",
      "source": [
        "## Step 3: Calculate GC Content"
      ],
      "metadata": {
        "id": "gbMpUI4jl-Qg"
      }
    },
    {
      "cell_type": "code",
      "source": [
        "# import gc_fraction\n",
        "from Bio.SeqUtils import gc_fraction\n",
        "\n",
        "# Calculate GC content\n",
        "gc_content = gc_fraction(sequence_record.seq)\n",
        "print(\"GC Content:\", gc_content)\n"
      ],
      "metadata": {
        "colab": {
          "base_uri": "https://localhost:8080/"
        },
        "id": "lK7YZiRXmBKl",
        "outputId": "0f7ceddb-e6a0-4f9c-84c2-ecd43978ea75"
      },
      "execution_count": null,
      "outputs": [
        {
          "output_type": "stream",
          "name": "stdout",
          "text": [
            "GC Content: 0.5\n"
          ]
        }
      ]
    },
    {
      "cell_type": "markdown",
      "source": [
        "## Step 4: Transcribe DNA to RNA"
      ],
      "metadata": {
        "id": "uIhMM9XumUVb"
      }
    },
    {
      "cell_type": "code",
      "source": [
        "# Transcribe DNA sequence to RNA\n",
        "rna_sequence = sequence_record.seq.transcribe()\n",
        "print(\"RNA Sequence:\", rna_sequence)"
      ],
      "metadata": {
        "colab": {
          "base_uri": "https://localhost:8080/"
        },
        "id": "qLBwyxWemTyB",
        "outputId": "3dbd9445-2682-4991-8e40-1245fb771f4f"
      },
      "execution_count": null,
      "outputs": [
        {
          "output_type": "stream",
          "name": "stdout",
          "text": [
            "RNA Sequence: AUGCAUGCAUGCAUGCAUGC\n"
          ]
        }
      ]
    },
    {
      "cell_type": "markdown",
      "source": [
        "## Step 5: Translate RNA to Protein"
      ],
      "metadata": {
        "id": "4cwpgAAxmeiY"
      }
    },
    {
      "cell_type": "code",
      "source": [
        "# Translate RNA sequence to protein\n",
        "protein_sequence = rna_sequence.translate()\n",
        "print(\"Protein Sequence:\", protein_sequence)"
      ],
      "metadata": {
        "colab": {
          "base_uri": "https://localhost:8080/"
        },
        "id": "s63rWxuHmhXp",
        "outputId": "35d2b4e3-dbcd-43b5-d2ca-598d391e49ba"
      },
      "execution_count": null,
      "outputs": [
        {
          "output_type": "stream",
          "name": "stdout",
          "text": [
            "Protein Sequence: MHACMH\n"
          ]
        },
        {
          "output_type": "stream",
          "name": "stderr",
          "text": [
            "/usr/local/lib/python3.10/dist-packages/Bio/Seq.py:2804: BiopythonWarning: Partial codon, len(sequence) not a multiple of three. Explicitly trim the sequence or add trailing N before translation. This may become an error in future.\n",
            "  warnings.warn(\n"
          ]
        }
      ]
    },
    {
      "cell_type": "markdown",
      "source": [
        "## Step 6: Perform Basic Sequence Analysis"
      ],
      "metadata": {
        "id": "VZjacJshmzFn"
      }
    },
    {
      "cell_type": "code",
      "source": [
        "# import counter\n",
        "from collections import Counter\n",
        "# Get length of the sequence\n",
        "sequence_length = len(sequence_record)\n",
        "\n",
        "# Count occurrences of each nucleotide\n",
        "nucleotide_counts = Counter(sequence_record.seq)\n",
        "\n",
        "print(\"Sequence Length:\", sequence_length)\n",
        "print(\"Nucleotide Counts:\", nucleotide_counts)"
      ],
      "metadata": {
        "colab": {
          "base_uri": "https://localhost:8080/"
        },
        "id": "Sato3Ww4m0Kp",
        "outputId": "eeb64d33-62d3-45d1-d974-c591afa4caea"
      },
      "execution_count": null,
      "outputs": [
        {
          "output_type": "stream",
          "name": "stdout",
          "text": [
            "Sequence Length: 20\n",
            "Nucleotide Counts: Counter({'A': 5, 'T': 5, 'G': 5, 'C': 5})\n"
          ]
        }
      ]
    },
    {
      "cell_type": "markdown",
      "source": [
        "## Step 7: Search for Motifs in the Sequence"
      ],
      "metadata": {
        "id": "6EbuH0QAoE5M"
      }
    },
    {
      "cell_type": "code",
      "source": [
        "# import Seq\n",
        "from Bio.Seq import Seq\n",
        "\n",
        "# Define a motif\n",
        "motif = Seq(\"ATG\")\n",
        "\n",
        "# Search for the motif in the sequence\n",
        "motif_positions = [i for i in range(len(sequence_record.seq))\n",
        "if sequence_record.seq[i:i+len(motif)] == motif]\n",
        "\n",
        "print(\"Motif Positions:\", motif_positions)\n"
      ],
      "metadata": {
        "colab": {
          "base_uri": "https://localhost:8080/"
        },
        "id": "Q3neyjBZmvmI",
        "outputId": "f7b85985-1a51-440b-ecc4-4ad273c7ba11"
      },
      "execution_count": null,
      "outputs": [
        {
          "output_type": "stream",
          "name": "stdout",
          "text": [
            "Motif Positions: [0, 4, 8, 12, 16]\n"
          ]
        }
      ]
    },
    {
      "cell_type": "markdown",
      "source": [
        "## Step 8: Visualize the Sequence"
      ],
      "metadata": {
        "id": "3NX2PeZ_o3Ge"
      }
    },
    {
      "cell_type": "code",
      "source": [
        "import matplotlib.pyplot as plt\n",
        "\n",
        "# Plot a simple bar chart of nucleotide counts\n",
        "plt.bar(nucleotide_counts.keys(), nucleotide_counts.values())\n",
        "plt.xlabel(\"Nucleotide\")\n",
        "plt.ylabel(\"Count\")\n",
        "plt.title(\"Nucleotide Distribution\")\n",
        "plt.show()"
      ],
      "metadata": {
        "colab": {
          "base_uri": "https://localhost:8080/",
          "height": 472
        },
        "id": "zvtI0u7Yo6HX",
        "outputId": "1ad85874-0b8f-4ba0-d20e-38c7e8df160d"
      },
      "execution_count": null,
      "outputs": [
        {
          "output_type": "display_data",
          "data": {
            "text/plain": [
              "<Figure size 640x480 with 1 Axes>"
            ],
            "image/png": "[encoded data removed]"
          },
          "metadata": {}
        }
      ]
    },
    {
      "cell_type": "code",
      "source": [
        "# Save results to a text file\n",
        "output_file_path = \"output.txt\"\n",
        "with open(output_file_path, \"w\") as output_file:\n",
        "    output_file.write(f\"Sequence ID: {sequence_record.id}\\n\")\n",
        "    output_file.write(f\"GC Content: {gc_content}\\n\")\n",
        "    output_file.write(f\"RNA Sequence: {rna_sequence}\\n\")\n",
        "    output_file.write(f\"Protein Sequence: {protein_sequence}\\n\")\n",
        "    output_file.write(f\"Sequence Length: {sequence_length}\\n\")\n",
        "    output_file.write(f\"Nucleotide Counts: {nucleotide_counts}\\n\")\n",
        "    output_file.write(f\"Motif Positions: {motif_positions}\\n\")"
      ],
      "metadata": {
        "id": "33exOC1_pEH-"
      },
      "execution_count": null,
      "outputs": []
    },
    {
      "cell_type": "code",
      "source": [],
      "metadata": {
        "id": "6czvpO7SpU8k"
      },
      "execution_count": null,
      "outputs": []
    },
    {
      "cell_type": "markdown",
      "source": [
        "\n",
        "## Conclusion:\n",
        "\n",
        "This tutorial covers the basics of reading, analyzing, and visualizing DNA sequences using Biopython.\n",
        "\n",
        "Feel free to expand on these examples and explore more advanced bioinformatics tasks based on your interests and research goals."
      ],
      "metadata": {
        "id": "mkOZVMuIpVMJ"
      }
    }
  ]
}