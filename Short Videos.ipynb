{
 "cells": [
  {
   "cell_type": "code",
   "execution_count": 9,
   "id": "3de7a952-9584-4383-adf2-f05611899dac",
   "metadata": {},
   "outputs": [
    {
     "name": "stdout",
     "output_type": "stream",
     "text": [
      "CHAT WITH HER!\n"
     ]
    }
   ],
   "source": [
    "'''\n",
    " A function that determine the gender of the user \n",
    " based on the given username\n",
    " If the number of unique characters in the username is odd - \n",
    " - the function detemine that is FEMALE\n",
    " - otherwise the gender is MALE\n",
    " - If the gender is Female, print 'CHAT WITH HER!'\n",
    " - If the gender is Male, print 'IGNORE HIM!'\n",
    "'''\n",
    "def determine_gender(username):\n",
    "    # unique chARACTER of username\n",
    "    s = set([])\n",
    "    for i in range(len(username)):\n",
    "        s.add(username[i])\n",
    "        \n",
    "        \n",
    "    # check the len of the unique character of username\n",
    "    if len(s) % 2 == 0:\n",
    "        return 'CHAT WITH HER!'\n",
    "    else:\n",
    "        return 'IGNORE HIM!'\n",
    "    \n",
    "# test code\n",
    "gender = determine_gender('sandraase')\n",
    "print(gender)"
   ]
  },
  {
   "cell_type": "markdown",
   "id": "aec8f80d-4dbf-4533-b245-82b822c94deb",
   "metadata": {
    "tags": []
   },
   "source": [
    "\n",
    "# Age Calculator"
   ]
  },
  {
   "cell_type": "code",
   "execution_count": null,
   "id": "d13e508f-96dc-49d2-8908-ead6e47d8260",
   "metadata": {},
   "outputs": [],
   "source": [
    "import ipywidgets as widgets\n",
    "from datetime import date\n",
    "\n",
    "def calc_age(dob):\n",
    "    \n",
    "    # get todat's date\n",
    "    today = date.today()\n",
    "    \n",
    "    try:\n",
    "        # calculate age\n",
    "        age = today.year - dob.year - ((today.month, today.day) < (dob.month, dob.day))\n",
    "        \n",
    "        if age >= 1:\n",
    "            print(\"You're {} years old.\".format(age))\n",
    "        else:\n",
    "            print(\"Age should be greater than 1.\")\n",
    "    except Exception as e:\n",
    "        print(\"Pick Date of Birth\")\n",
    "\n",
    "# create ipwidgets\n",
    "dob = widgets.DatePicker(description='Birth Date',\n",
    "                         disabled=False)\n",
    "out = widgets.interactive_output(calc_age, {'dob': dob})\n",
    "\n",
    "widgets.HBox([widgets.VBox([dob]), out])\n",
    "\n"
   ]
  },
  {
   "cell_type": "markdown",
   "id": "30c85232-c434-4aa8-8127-1d616382b450",
   "metadata": {},
   "source": [
    "# Quadratic equation with square root.\n",
    " "
   ]
  },
  {
   "cell_type": "code",
   "execution_count": null,
   "id": "c446c8bb-ef08-456d-b218-4fa0ec7d260a",
   "metadata": {},
   "outputs": [],
   "source": [
    "# Uncomment below line and run the cell, install library\n",
    "#!pip install handcalcs"
   ]
  },
  {
   "cell_type": "code",
   "execution_count": null,
   "id": "a11bb316-edb5-4caa-bda8-8c59745cb604",
   "metadata": {},
   "outputs": [],
   "source": [
    "#import the module\n",
    "import handcalcs.render\n",
    "from math import sqrt\n",
    "a = 6\n",
    "b = 7\n",
    "c = -8\n",
    "\n",
    "# run the render on the new cell\n"
   ]
  },
  {
   "cell_type": "code",
   "execution_count": null,
   "id": "acdf758a-cc86-4cf3-9b84-bcbd40ed1435",
   "metadata": {},
   "outputs": [],
   "source": [
    "%%render\n",
    "r = (-b + sqrt(b**2 - 4 * a * c)) / (2 * a)"
   ]
  },
  {
   "cell_type": "markdown",
   "id": "57902759-289f-4200-9999-d6c6840f29ce",
   "metadata": {
    "tags": []
   },
   "source": [
    "# Unzip files in Python"
   ]
  },
  {
   "cell_type": "code",
   "execution_count": null,
   "id": "586a9c98-825e-47b7-897c-2f06a9249f3b",
   "metadata": {},
   "outputs": [],
   "source": [
    "from zipfile import ZipFile\n",
    "\n",
    "with ZipFile('python.zip', 'r') as zip_obj:\n",
    "    \n",
    "    zip_obj.extractall()\n",
    "    \n",
    "zip_obj.namelist()"
   ]
  },
  {
   "cell_type": "markdown",
   "id": "4f238bde-7c72-451e-a4f9-808121a2ef04",
   "metadata": {},
   "source": [
    "# Desktop Notifier"
   ]
  },
  {
   "cell_type": "code",
   "execution_count": null,
   "id": "2109a9b7-b00b-4bda-a442-638f5f175aa8",
   "metadata": {},
   "outputs": [],
   "source": [
    "# install the library\n",
    "#!pip install plyer"
   ]
  },
  {
   "cell_type": "code",
   "execution_count": null,
   "id": "ae6e3d61-a297-4f8a-859a-bec4c2b0afbf",
   "metadata": {},
   "outputs": [],
   "source": [
    "# import the module\n",
    "from plyer import notification\n",
    "import time\n",
    "\n",
    "# create notifier object here\n",
    "notification.notify(\n",
    "    title = 'Alarm',\n",
    "    message = 'Take a break! It has been an hour.',\n",
    "    timeout = 10 # it is in seconds\n",
    "    \n",
    ")\n",
    "time.sleep(1) # sleep the notifier for some seconds until the next\n",
    "# notifier started\n"
   ]
  },
  {
   "cell_type": "markdown",
   "id": "faae5765-3737-435e-8a3f-e4a0df06e323",
   "metadata": {},
   "source": [
    "# Find all Python Errors"
   ]
  },
  {
   "cell_type": "code",
   "execution_count": null,
   "id": "f63d4ae5-a27e-4c30-aaa1-385f799d6b79",
   "metadata": {},
   "outputs": [],
   "source": [
    "import re\n",
    "for i in dir(__builtins__):\n",
    "    if re.match(r'[A-Z]', i):\n",
    "        print(i)\n",
    "        "
   ]
  },
  {
   "cell_type": "markdown",
   "id": "92b75291-77a4-4b00-9179-00ff01d0fc36",
   "metadata": {},
   "source": [
    "### How fast built-in `sorting` function is?"
   ]
  },
  {
   "cell_type": "code",
   "execution_count": null,
   "id": "b883a386-7cf4-48dc-909f-7693af056844",
   "metadata": {},
   "outputs": [],
   "source": [
    "# write your own sort function \n",
    "from time import time\n",
    "def simpleSort(arr):\n",
    "    t0 = time()\n",
    "    n = len(arr)\n",
    "    for i in range(n):\n",
    "        j = 0\n",
    "        stop = n-i\n",
    "        while j < stop - 1:\n",
    "            \n",
    "            if arr[j] > arr[j+1]:\n",
    "                arr[j], arr[j+1] = arr[j+1], arr[j]    \n",
    "            j += 1\n",
    "    \n",
    "    return arr, t0\n",
    "\n",
    "# testing your function\n",
    "arr = [2, 3, 1, 4, 0, 9, 7, 8]\n",
    "sort, t0 = simpleSort(arr)\n",
    "print('Sorted array:',sort)\n",
    "print('Time: {0:3.2f}'.format(time() - t0))\n",
    "print('-----------------------------------')"
   ]
  },
  {
   "cell_type": "code",
   "execution_count": null,
   "id": "8a6c1206-1d66-41dd-a7fb-c662b957677e",
   "metadata": {},
   "outputs": [],
   "source": [
    "# using sorted() function\n",
    "t0 = time()\n",
    "arr = arr = [2, 3, 1, 4, 0, 9, 7, 8]\n",
    "print('Sorted array:', sorted(arr))\n",
    "print('Time : {0:3.2f}'.format(time() - t0))\n",
    "print('-----------------------------------')\n"
   ]
  },
  {
   "cell_type": "markdown",
   "id": "cacc2f89-a79d-4339-8555-1e77819d03b2",
   "metadata": {},
   "source": [
    "# Print Triangle Pattern"
   ]
  },
  {
   "cell_type": "code",
   "execution_count": null,
   "id": "f0a4b8a0-2f3d-4918-8f41-ffefe3ee126a",
   "metadata": {},
   "outputs": [],
   "source": [
    "st = 'epythonlab'\n",
    "pattern = [st[:i] for i in range(1, len(st)+1)]\n",
    "\n",
    "for i in pattern:\n",
    "    print(f'{i:^35}')\n"
   ]
  },
  {
   "cell_type": "markdown",
   "id": "1915090b-8138-4e47-9da5-75110a8eea85",
   "metadata": {},
   "source": [
    "# Convert Emoji's into Text"
   ]
  },
  {
   "cell_type": "code",
   "execution_count": null,
   "id": "3d8b7a8c-1d9a-4c17-8236-3f88d82a09aa",
   "metadata": {},
   "outputs": [],
   "source": [
    "# Uncomment below line to install demoji\n",
    "#!pip install demoji\n",
    "import demoji\n",
    "\n",
    "text = \"🙏❤️😢🙈🙀💃\"\n",
    "\n",
    "demoji.findall(text)"
   ]
  },
  {
   "cell_type": "markdown",
   "id": "2621fdc8-eccb-4d51-9f13-493980a3b25c",
   "metadata": {},
   "source": [
    "# Check Anagrams in Python\n"
   ]
  },
  {
   "cell_type": "code",
   "execution_count": null,
   "id": "fe38c11a-b347-419f-bfe1-902698451697",
   "metadata": {},
   "outputs": [],
   "source": [
    "def anagram(word1, word2):\n",
    "    word1 = word1.lower()\n",
    "    word2 = word2.lower()\n",
    "    \n",
    "    return sorted(word1) == sorted(word2)\n",
    "\n",
    "# testing code\n",
    "\n",
    "print(anagram('lemon', 'melon'))\n",
    "print(anagram('hi', 'hello'))"
   ]
  },
  {
   "cell_type": "markdown",
   "id": "52fd6dbf-bf11-47ae-afad-bdd287ec580a",
   "metadata": {},
   "source": [
    "## Extract Digit from String"
   ]
  },
  {
   "cell_type": "code",
   "execution_count": null,
   "id": "d34bdb81-1648-46a1-ba8d-5bccbaf24d4a",
   "metadata": {},
   "outputs": [],
   "source": [
    "import pandas as pd\n",
    "\n",
    "years_list = ['YR1990', 'YR2000', \n",
    "              'YR2010', 'YR2020']\n",
    "df = pd.DataFrame(years_list, \n",
    "                  columns=['year'])\n",
    "df"
   ]
  },
  {
   "cell_type": "code",
   "execution_count": null,
   "id": "4f087e73-5d2c-49e7-affd-f52439fedf7b",
   "metadata": {},
   "outputs": [],
   "source": [
    "df['year'] = df['year'].str.extract('(\\d+)', expand=False)"
   ]
  },
  {
   "cell_type": "code",
   "execution_count": null,
   "id": "a2a7a488-cdb8-4728-9154-df3f7ccdf5f8",
   "metadata": {},
   "outputs": [],
   "source": [
    "df"
   ]
  },
  {
   "cell_type": "markdown",
   "id": "8902c65d-ff8f-4264-9aa8-dbdf44e3cd72",
   "metadata": {},
   "source": [
    "## URL Shortener - tinyurl"
   ]
  },
  {
   "cell_type": "code",
   "execution_count": null,
   "id": "0b5a9af0-e193-497b-a49a-6f3891694d9c",
   "metadata": {},
   "outputs": [],
   "source": [
    "# uncomment below line to install pyshortner\n",
    "#!pip install pyshorteners"
   ]
  },
  {
   "cell_type": "code",
   "execution_count": null,
   "id": "47bad927-ec2a-46d8-bc2f-89289e9fb8d9",
   "metadata": {},
   "outputs": [],
   "source": [
    "import pyshorteners\n",
    "long_url = \"https://carneoergy.com/8267399763287101\"\n",
    "\n",
    "tiny = pyshorteners.Shortener()\n",
    "\n",
    "short_url = tiny.tinyurl.short(long_url)\n",
    "\n",
    "#print(long_url)\n",
    "print(short_url)\n"
   ]
  },
  {
   "cell_type": "markdown",
   "id": "59b4ce44-2055-4b31-962a-08d49c8e8d45",
   "metadata": {},
   "source": [
    "## Alphabets Pattern in Python"
   ]
  },
  {
   "cell_type": "code",
   "execution_count": null,
   "id": "093860f1-7686-43ae-b9a5-9c402b3a6b3a",
   "metadata": {},
   "outputs": [],
   "source": [
    "num = int(input(\"Enter rows:\"))\n",
    "for i in range(97, 97+num):\n",
    "    for j in range(97, i+1):\n",
    "        print(chr(i), end='')\n",
    "    print()"
   ]
  },
  {
   "cell_type": "markdown",
   "id": "e35ba3db-ce80-46b5-bc3d-cc9ad94ffc41",
   "metadata": {},
   "source": [
    "## Find Century from Year"
   ]
  },
  {
   "cell_type": "code",
   "execution_count": null,
   "id": "eb89c0f3-936f-4738-a974-22cee6195333",
   "metadata": {},
   "outputs": [],
   "source": [
    "def centuryFromYear(year):\n",
    "    \n",
    "    if year % 100 >= 1:\n",
    "        \n",
    "        return (year // 100) + 1\n",
    "    \n",
    "    return year // 100\n",
    "    \n",
    "    \n",
    "# test the code\n",
    "print(\"Century is \", centuryFromYear(1905))\n",
    "print(\"Century is \", centuryFromYear(1700))"
   ]
  },
  {
   "cell_type": "markdown",
   "id": "ec7d4eb3-37cb-4303-97de-4668c78249bb",
   "metadata": {},
   "source": [
    "## Print calender of current year"
   ]
  },
  {
   "cell_type": "code",
   "execution_count": null,
   "id": "9c7a7c63-49c0-4d5e-a416-fb641d5d4a51",
   "metadata": {},
   "outputs": [],
   "source": [
    "from calendar import *\n",
    "\n",
    "print(calendar(2022, 2, 1, 8, 4))"
   ]
  },
  {
   "cell_type": "markdown",
   "id": "bb199b2e-7727-4b02-bd7e-fe75708ec779",
   "metadata": {},
   "source": [
    "# Read CSV into List of Dictionaries"
   ]
  },
  {
   "cell_type": "code",
   "execution_count": null,
   "id": "bae0c218-017f-4fb5-b67c-5333ae466fd2",
   "metadata": {},
   "outputs": [],
   "source": [
    "import csv\n",
    "\n",
    "with open(\"person_info.csv\", 'r') as f:\n",
    "    \n",
    "    file_reader = csv.DictReader(f)\n",
    "    my_list = list(file_reader)\n",
    "my_list"
   ]
  },
  {
   "cell_type": "markdown",
   "id": "b1246311-d95b-4925-a32a-fa94cf953867",
   "metadata": {},
   "source": [
    "# Check a string is_palindrom"
   ]
  },
  {
   "cell_type": "code",
   "execution_count": null,
   "id": "01a398a9-f101-4f13-a015-eea322330be3",
   "metadata": {},
   "outputs": [],
   "source": [
    "st = \"Tenet\"\n",
    "st[::-1]"
   ]
  },
  {
   "cell_type": "code",
   "execution_count": null,
   "id": "68df2c19-0c6a-45f4-a4fc-85b1a1299856",
   "metadata": {},
   "outputs": [],
   "source": [
    "\"\"\"\n",
    "    A palindrom is a word, number, phrase or\n",
    "    another sequence of characters which read\n",
    "    the same backward as forward\n",
    "    for instance forward string: \"Tenet\" => \n",
    "    backward string : \"tenet\"\n",
    "\"\"\"\n",
    "def is_palindrom(string):\n",
    "    \n",
    "    return string.lower() == string[::-1].lower()\n"
   ]
  },
  {
   "cell_type": "code",
   "execution_count": null,
   "id": "d77daf5b-3d47-4e85-b8bd-851475b2c8de",
   "metadata": {},
   "outputs": [],
   "source": [
    "# call the function and return the output\n",
    "print(is_palindrom(\"Tenet\"))\n",
    "print(is_palindrom(\"2121\"))\n",
    "print(is_palindrom(\"hello\"))"
   ]
  },
  {
   "cell_type": "markdown",
   "id": "bffa3db5-5af6-4d9f-a3d4-921953a0e9f1",
   "metadata": {},
   "source": [
    "# Check Prime Numbers"
   ]
  },
  {
   "cell_type": "code",
   "execution_count": null,
   "id": "77be42cc-f323-4859-a95c-c3bc929e4210",
   "metadata": {},
   "outputs": [],
   "source": [
    "# Define is_prime(number) function \n",
    "#to check the number is prime or not\n",
    "# Which accept a parameter number \n",
    "def is_prime(number):\n",
    "    \n",
    "    if number < 2:\n",
    "        return False\n",
    "    \n",
    "    for i in range(2, number):\n",
    "        if number % i == 0:\n",
    "            return False\n",
    "        \n",
    "    return True\n",
    "\n",
    "# Define get_primes(n_start, n_end) function \n",
    "# which accepts two parameters\n",
    "# and prints the list of prime numbers\n",
    "def get_primes(n_start, n_end):\n",
    "    \n",
    "    primes = [i for i in range(n_start, n_end) if is_prime(i)]\n",
    "    return primes"
   ]
  },
  {
   "cell_type": "code",
   "execution_count": null,
   "id": "10a42e4e-0c54-470c-90e5-00c7757c617a",
   "metadata": {},
   "outputs": [],
   "source": [
    "# call the function get_primes()\n",
    "primes_list = get_primes(10, 20)\n",
    "\n",
    "print(primes_list)"
   ]
  },
  {
   "cell_type": "code",
   "execution_count": null,
   "id": "3a81ea90-dd78-4aab-a939-e3bd21c1bcc2",
   "metadata": {},
   "outputs": [],
   "source": []
  },
  {
   "cell_type": "markdown",
   "id": "0d94f793-ecd5-4cab-9d07-7caaa0dd7ea3",
   "metadata": {},
   "source": [
    "# Sort List items in Ascending or Descending Order"
   ]
  },
  {
   "cell_type": "code",
   "execution_count": null,
   "id": "d8dbb40f-597a-426a-9807-2e0f1f35d5dd",
   "metadata": {},
   "outputs": [],
   "source": [
    "# assume list of fruits\n",
    "fruits = ['mango', 'apple', 'avocado', 'banana', 'orange']"
   ]
  },
  {
   "cell_type": "markdown",
   "id": "3755a9ba-95fd-4465-a9d6-5535442955eb",
   "metadata": {},
   "source": [
    "## List of fruits before sorting\n"
   ]
  },
  {
   "cell_type": "code",
   "execution_count": null,
   "id": "f8ed042d-e70e-4c4d-8bbb-efccc778991f",
   "metadata": {},
   "outputs": [],
   "source": [
    "print(fruits)"
   ]
  },
  {
   "cell_type": "markdown",
   "id": "18a91b12-8b02-462e-8f42-035bd507edff",
   "metadata": {},
   "source": [
    "## List of fruits after sorted in alphabetical order\n"
   ]
  },
  {
   "cell_type": "code",
   "execution_count": null,
   "id": "01f87f64-4b01-467c-bc27-2da1fc8ca8d0",
   "metadata": {},
   "outputs": [],
   "source": [
    "sorted(fruits, reverse=False)"
   ]
  },
  {
   "cell_type": "markdown",
   "id": "ed6b08be-c546-461d-a7fc-0568f3ec300a",
   "metadata": {},
   "source": [
    "## List of fruits after sorted in reverse order"
   ]
  },
  {
   "cell_type": "code",
   "execution_count": null,
   "id": "a593918c-98a5-45b5-96e1-2901b98592f4",
   "metadata": {},
   "outputs": [],
   "source": [
    "sorted(fruits, reverse=True)"
   ]
  },
  {
   "cell_type": "markdown",
   "id": "a20124a7-0a1d-4544-9e50-03980a05a851",
   "metadata": {},
   "source": [
    "## Rename Columns in DataFrame"
   ]
  },
  {
   "cell_type": "code",
   "execution_count": null,
   "id": "12bd8919-c36b-4355-ae85-03d50f939b65",
   "metadata": {},
   "outputs": [],
   "source": [
    "import pandas as pd\n",
    "data = {'first_name':['Asibeh', 'John'],\n",
    "        'last_name':['Tenager', 'Brown'],\n",
    "       'age': [28, 32]}\n",
    "df = pd.DataFrame(data)\n",
    "df"
   ]
  },
  {
   "cell_type": "markdown",
   "id": "71e79752-cb95-4e49-9b00-5d4b7e60c048",
   "metadata": {},
   "source": [
    "### Columns after rename"
   ]
  },
  {
   "cell_type": "code",
   "execution_count": null,
   "id": "85fe545a-6c4a-4de1-8453-41aba489c553",
   "metadata": {},
   "outputs": [],
   "source": [
    "# your code here\n",
    "df.rename(columns={'first_name':'FName', 'last_name':'LName', 'age':'Age'})"
   ]
  },
  {
   "cell_type": "markdown",
   "id": "7f2d8a01-c43a-41a0-906b-0f8c90a21daa",
   "metadata": {},
   "source": [
    "## DataFrame After Merged `first_name` and `last_name`"
   ]
  },
  {
   "cell_type": "code",
   "execution_count": null,
   "id": "5a13e25c-15be-4e51-8be4-110317848d75",
   "metadata": {},
   "outputs": [],
   "source": [
    "df['name'] = df['first_name'] +\" \"+ df['last_name']\n",
    "df.drop(columns=['first_name', 'last_name'],\n",
    "       inplace=True)\n",
    "df"
   ]
  },
  {
   "cell_type": "markdown",
   "id": "c45f301d-711c-4dbe-9f3f-4e4d1d6eee9e",
   "metadata": {},
   "source": [
    "## Capitalize Column names in DataFrame"
   ]
  },
  {
   "cell_type": "code",
   "execution_count": null,
   "id": "3bdb7989-4751-4578-b06f-530fce9f447d",
   "metadata": {},
   "outputs": [],
   "source": [
    "import pandas as pd\n",
    "data = {'name':['Asibeh', 'Tenager'],\n",
    "       'age': [28, 32]}\n",
    "df = pd.DataFrame(data)"
   ]
  },
  {
   "cell_type": "markdown",
   "id": "e8462be2-4890-441d-a3ec-27d60041cf21",
   "metadata": {},
   "source": [
    "## Columns before capitalize"
   ]
  },
  {
   "cell_type": "code",
   "execution_count": null,
   "id": "ff7c7cf4-cb63-4a87-bca2-f50306c99ac0",
   "metadata": {},
   "outputs": [],
   "source": [
    "# code here\n",
    "df"
   ]
  },
  {
   "cell_type": "markdown",
   "id": "7a6c8f4a-aa8b-4959-ad79-3f7127b48789",
   "metadata": {},
   "source": [
    "## Column names after capitalize"
   ]
  },
  {
   "cell_type": "code",
   "execution_count": null,
   "id": "3eb48601-84d4-4e8b-905e-a872c1934636",
   "metadata": {},
   "outputs": [],
   "source": [
    "# code here\n",
    "df.rename(columns=str.upper)"
   ]
  },
  {
   "cell_type": "markdown",
   "id": "20799860-f6c8-4b62-8c14-2b299da9b091",
   "metadata": {},
   "source": [
    "## BMI Calcuator"
   ]
  },
  {
   "cell_type": "code",
   "execution_count": null,
   "id": "ff2cb73b-1589-42ae-8591-4b5dda167a67",
   "metadata": {},
   "outputs": [],
   "source": [
    "# epythonlab\n",
    "# function to calculate BMI\n",
    "def bmi_calc(w, h):\n",
    "    # calcualte the bmi\n",
    "    bmi = w/(h/100)**2\n",
    "    if bmi < 18.5:\n",
    "        return \"Underweight\"\n",
    "    elif bmi >= 18.5 and bmi < 25.0:\n",
    "        return \"Normal\"\n",
    "    else:\n",
    "        return \"Overweight\"\n",
    "    \n",
    "# code drive\n",
    "weight = int(input(\"Weight in kg:\"))\n",
    "height = float(input(\"Height in cm:\"))\n",
    "result = bmi_calc(weight, height)\n",
    "print(result) "
   ]
  },
  {
   "cell_type": "markdown",
   "id": "fe711e28-ea99-45e4-bcd1-498e327d54a9",
   "metadata": {},
   "source": [
    "## Countdown Timer"
   ]
  },
  {
   "cell_type": "code",
   "execution_count": null,
   "id": "e097f58f-9f27-4d73-b484-514d405f896e",
   "metadata": {},
   "outputs": [],
   "source": [
    "import time \n",
    "# count down function\n",
    "def countdown(t): \n",
    "    while t:\n",
    "        mins, secs = divmod(t, 60)\n",
    "        timer = '{:02d}:{:02d}'.format(mins, secs)\n",
    "        \n",
    "        print(timer, end='\\r')\n",
    "        \n",
    "        time.sleep(1) # sleep for 1 second\n",
    "        t -= 1 # decrease by 1 second\n",
    "\n",
    "# code drive\n",
    "t = input(\"Enter time in seconds:\")\n",
    "countdown(int(t)) # call function and pass time"
   ]
  },
  {
   "cell_type": "markdown",
   "id": "fcc1ac0c-e5c8-4833-a515-8cde5bc441e2",
   "metadata": {},
   "source": [
    "# Detect Your Language"
   ]
  },
  {
   "cell_type": "code",
   "execution_count": null,
   "id": "5fec411c-6e8e-4ab2-8bb2-970e0588262e",
   "metadata": {},
   "outputs": [],
   "source": [
    "# install the library\n",
    "pip install langdetect\n"
   ]
  },
  {
   "cell_type": "code",
   "execution_count": null,
   "id": "5ccad392-1a93-4367-8c84-e5c8031c659f",
   "metadata": {},
   "outputs": [],
   "source": [
    "# import the library\n",
    "from langdetect import detect\n",
    "\n",
    "# input the text in your language\n",
    "text = input(\"Text:\")\n",
    "\n",
    "print(\"Language detected:\", detect(text))"
   ]
  },
  {
   "cell_type": "markdown",
   "id": "9859cbae-2eaf-4fc8-9859-8f42e3851e64",
   "metadata": {
    "tags": []
   },
   "source": [
    "Check within a column if a certain value is contained from the list\n",
    "\n",
    "if found, return True else False in the new column"
   ]
  },
  {
   "cell_type": "code",
   "execution_count": null,
   "id": "c9b8f5b9-81bc-46e6-b17b-c98b7d81944b",
   "metadata": {},
   "outputs": [],
   "source": [
    "import pandas as pd\n",
    "import re\n",
    "d = {\n",
    "    \"customerId\": [1, 3, 3],\n",
    "    \"text\": [\"Something with Cat\", \"That is a huge dog\", \"Hello agian\"],\n",
    "}\n",
    "df = pd.DataFrame(data=d)\n",
    "df"
   ]
  },
  {
   "cell_type": "code",
   "execution_count": null,
   "id": "29437316-8be6-4408-94ec-e6403562370f",
   "metadata": {},
   "outputs": [],
   "source": [
    "# List items\n",
    "my_list = ['cat', 'dog', 'mouse']"
   ]
  },
  {
   "cell_type": "markdown",
   "id": "6bc5f786-ce77-40fb-8d2d-4315eb47ada0",
   "metadata": {},
   "source": [
    "Create pattern from the list"
   ]
  },
  {
   "cell_type": "code",
   "execution_count": null,
   "id": "6f6f9838-1ce1-43b5-9871-ad51b9a94864",
   "metadata": {},
   "outputs": [],
   "source": [
    "# use regular expression to create patter from the list\n",
    "pattern = re.compile(\"|\".join(my_list), re.IGNORECASE)"
   ]
  },
  {
   "cell_type": "markdown",
   "id": "ea15ef6e-c74e-4835-bde1-5c1154369d83",
   "metadata": {},
   "source": [
    "Check the dataframe column\n",
    "\n"
   ]
  },
  {
   "cell_type": "code",
   "execution_count": null,
   "id": "7f3c7000-16e4-4f60-a5c9-8da6d7730da8",
   "metadata": {},
   "outputs": [],
   "source": [
    "df['test'] = df['text'].apply(lambda x: True if pattern.search(x) else False)"
   ]
  },
  {
   "cell_type": "code",
   "execution_count": null,
   "id": "7b61e5e8-386f-4a49-af53-1c15e2592356",
   "metadata": {},
   "outputs": [],
   "source": [
    "df"
   ]
  },
  {
   "cell_type": "markdown",
   "id": "e39dc874-822d-4e9a-9dc7-8deb45a9e5d2",
   "metadata": {},
   "source": [
    "# Check leap year in Python"
   ]
  },
  {
   "cell_type": "code",
   "execution_count": null,
   "id": "74f4b87a-71df-445f-a79c-3e230b313fde",
   "metadata": {},
   "outputs": [],
   "source": [
    "def checkLeap(year):\n",
    "    \n",
    "    if ((year % 400 == 0) or\n",
    "       (year % 100 != 0) and\n",
    "       (year % 4 == 0)):\n",
    "        \n",
    "        print(\"Given year is leap year.\")\n",
    "    \n",
    "    else:\n",
    "        print(\"Given year is not leap year.\")\n",
    "    "
   ]
  },
  {
   "cell_type": "code",
   "execution_count": null,
   "id": "c92c7280-be58-4383-bf44-592277a7c583",
   "metadata": {},
   "outputs": [],
   "source": [
    "# call the funcction\n",
    "leap = checkLeap(2022)"
   ]
  },
  {
   "cell_type": "code",
   "execution_count": null,
   "id": "d6f61c50-6216-4711-989a-64316854b2a8",
   "metadata": {},
   "outputs": [],
   "source": [
    "checkLeap(2019)"
   ]
  },
  {
   "cell_type": "code",
   "execution_count": null,
   "id": "9fb72b5e-ff42-4a67-9982-86e5ae806e22",
   "metadata": {},
   "outputs": [],
   "source": []
  },
  {
   "cell_type": "markdown",
   "id": "6da4d8c6-69d0-4919-b974-d47bbaa916b6",
   "metadata": {},
   "source": [
    "##\n",
    "##\n",
    "##\n",
    "#\n",
    "#"
   ]
  },
  {
   "cell_type": "code",
   "execution_count": null,
   "id": "9e076a85-64b3-48fd-8b0b-53531eb5159c",
   "metadata": {},
   "outputs": [],
   "source": []
  },
  {
   "cell_type": "markdown",
   "id": "089268f3-158a-43a2-93cb-e266a8493d8d",
   "metadata": {},
   "source": [
    "#\n",
    "#\n",
    "#\n",
    "#\n",
    "#\n",
    "#\n",
    "#\n",
    "#\n",
    "#\n",
    "#\n",
    "#"
   ]
  }
 ],
 "metadata": {
  "kernelspec": {
   "display_name": "Python 3",
   "language": "python",
   "name": "python3"
  },
  "language_info": {
   "codemirror_mode": {
    "name": "ipython",
    "version": 3
   },
   "file_extension": ".py",
   "mimetype": "text/x-python",
   "name": "python",
   "nbconvert_exporter": "python",
   "pygments_lexer": "ipython3",
   "version": "3.10.8"
  },
  "widgets": {
   "application/vnd.jupyter.widget-state+json": {
    "state": {},
    "version_major": 2,
    "version_minor": 0
   }
  }
 },
 "nbformat": 4,
 "nbformat_minor": 5
}
