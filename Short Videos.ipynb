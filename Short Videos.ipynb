{
 "cells": [
  {
   "cell_type": "markdown",
   "id": "bb199b2e-7727-4b02-bd7e-fe75708ec779",
   "metadata": {},
   "source": [
    "# Read CSV into List of Dictionaries"
   ]
  },
  {
   "cell_type": "code",
   "execution_count": 8,
   "id": "bae0c218-017f-4fb5-b67c-5333ae466fd2",
   "metadata": {},
   "outputs": [
    {
     "data": {
      "text/plain": [
       "[{'name': 'Spencer Carr',\n",
       "  'birth_date': '1937-12-16',\n",
       "  'country': 'South Africa'},\n",
       " {'name': 'Gary Smith', 'birth_date': '2002-12-29', 'country': 'Bahrain'},\n",
       " {'name': 'Jose Wilkinson', 'birth_date': '1989-05-14', 'country': 'Colombia'},\n",
       " {'name': 'Robert Smith',\n",
       "  'birth_date': '2022-06-28',\n",
       "  'country': 'Saint Helena'},\n",
       " {'name': 'Michelle Simmons',\n",
       "  'birth_date': '1993-02-10',\n",
       "  'country': 'Gibraltar'},\n",
       " {'name': 'Kathy Martin', 'birth_date': '1983-08-05', 'country': 'Argentina'},\n",
       " {'name': 'Carl Morgan', 'birth_date': '1993-12-26', 'country': 'Timor-Leste'},\n",
       " {'name': 'Nicholas Woodard',\n",
       "  'birth_date': '1938-06-23',\n",
       "  'country': 'Armenia'},\n",
       " {'name': 'Scott Atkins', 'birth_date': '1913-12-06', 'country': 'Moldova'},\n",
       " {'name': 'Janet Pollard', 'birth_date': '1947-07-09', 'country': 'Ireland'}]"
      ]
     },
     "execution_count": 8,
     "metadata": {},
     "output_type": "execute_result"
    }
   ],
   "source": [
    "import csv\n",
    "\n",
    "with open(\"person_info.csv\", 'r') as f:\n",
    "    \n",
    "    file_reader = csv.DictReader(f)\n",
    "    my_list = list(file_reader)\n",
    "my_list"
   ]
  },
  {
   "cell_type": "markdown",
   "id": "a04dc52c-9641-42b6-95b5-1b7f18e484f9",
   "metadata": {},
   "source": [
    "#\n",
    "#\n",
    "#\n",
    "#\n",
    "#\n",
    "#\n",
    "#"
   ]
  },
  {
   "cell_type": "markdown",
   "id": "b1246311-d95b-4925-a32a-fa94cf953867",
   "metadata": {},
   "source": [
    "# Check a string is_palindrom"
   ]
  },
  {
   "cell_type": "code",
   "execution_count": 14,
   "id": "01a398a9-f101-4f13-a015-eea322330be3",
   "metadata": {},
   "outputs": [
    {
     "data": {
      "text/plain": [
       "'teneT'"
      ]
     },
     "execution_count": 14,
     "metadata": {},
     "output_type": "execute_result"
    }
   ],
   "source": [
    "st = \"Tenet\"\n",
    "st[::-1]"
   ]
  },
  {
   "cell_type": "code",
   "execution_count": 5,
   "id": "68df2c19-0c6a-45f4-a4fc-85b1a1299856",
   "metadata": {},
   "outputs": [],
   "source": [
    "\"\"\"\n",
    "    A palindrom is a word, number, phrase or\n",
    "    another sequence of characters which read\n",
    "    the same backward as forward\n",
    "    for instance forward string: \"Tenet\" => \n",
    "    backward string : \"tenet\"\n",
    "\"\"\"\n",
    "def is_palindrom(string):\n",
    "    \n",
    "    return string.lower() == string[::-1].lower()\n"
   ]
  },
  {
   "cell_type": "code",
   "execution_count": 9,
   "id": "d77daf5b-3d47-4e85-b8bd-851475b2c8de",
   "metadata": {},
   "outputs": [
    {
     "name": "stdout",
     "output_type": "stream",
     "text": [
      "True\n",
      "False\n",
      "False\n"
     ]
    }
   ],
   "source": [
    "# call the function and return the output\n",
    "print(is_palindrom(\"Tenet\"))\n",
    "print(is_palindrom(\"2121\"))\n",
    "print(is_palindrom(\"hello\"))"
   ]
  },
  {
   "cell_type": "markdown",
   "id": "bffa3db5-5af6-4d9f-a3d4-921953a0e9f1",
   "metadata": {},
   "source": [
    "# Check Prime Numbers"
   ]
  },
  {
   "cell_type": "code",
   "execution_count": 9,
   "id": "77be42cc-f323-4859-a95c-c3bc929e4210",
   "metadata": {},
   "outputs": [],
   "source": [
    "# Define is_prime(number) function \n",
    "#to check the number is prime or not\n",
    "# Which accept a parameter number \n",
    "def is_prime(number):\n",
    "    \n",
    "    if number < 2:\n",
    "        return False\n",
    "    \n",
    "    for i in range(2, number):\n",
    "        if number % i == 0:\n",
    "            return False\n",
    "        \n",
    "    return True\n",
    "\n",
    "# Define get_primes(n_start, n_end) function \n",
    "# which accepts two parameters\n",
    "# and prints the list of prime numbers\n",
    "def get_primes(n_start, n_end):\n",
    "    \n",
    "    primes = [i for i in range(n_start, n_end) if is_prime(i)]\n",
    "    return primes"
   ]
  },
  {
   "cell_type": "code",
   "execution_count": 11,
   "id": "10a42e4e-0c54-470c-90e5-00c7757c617a",
   "metadata": {},
   "outputs": [
    {
     "name": "stdout",
     "output_type": "stream",
     "text": [
      "[11, 13, 17, 19]\n"
     ]
    }
   ],
   "source": [
    "# call the function get_primes()\n",
    "primes_list = get_primes(10, 20)\n",
    "\n",
    "print(primes_list)"
   ]
  },
  {
   "cell_type": "markdown",
   "id": "f8fa7f95-5a0c-4594-900e-5591db5e8267",
   "metadata": {},
   "source": [
    "##\n",
    "\n",
    "##\n",
    "##\n",
    "##\n",
    "\n",
    "##\n",
    "#\n",
    "#"
   ]
  },
  {
   "cell_type": "code",
   "execution_count": null,
   "id": "3a81ea90-dd78-4aab-a939-e3bd21c1bcc2",
   "metadata": {},
   "outputs": [],
   "source": []
  },
  {
   "cell_type": "markdown",
   "id": "0d94f793-ecd5-4cab-9d07-7caaa0dd7ea3",
   "metadata": {},
   "source": [
    "# Sort List items in Ascending or Descending Order"
   ]
  },
  {
   "cell_type": "code",
   "execution_count": 2,
   "id": "d8dbb40f-597a-426a-9807-2e0f1f35d5dd",
   "metadata": {},
   "outputs": [],
   "source": [
    "# assume list of fruits\n",
    "fruits = ['mango', 'apple', 'avocado', 'banana', 'orange']"
   ]
  },
  {
   "cell_type": "markdown",
   "id": "3755a9ba-95fd-4465-a9d6-5535442955eb",
   "metadata": {},
   "source": [
    "## List of fruits before sorting\n"
   ]
  },
  {
   "cell_type": "code",
   "execution_count": 3,
   "id": "f8ed042d-e70e-4c4d-8bbb-efccc778991f",
   "metadata": {},
   "outputs": [
    {
     "name": "stdout",
     "output_type": "stream",
     "text": [
      "['mango', 'apple', 'avocado', 'banana', 'orange']\n"
     ]
    }
   ],
   "source": [
    "print(fruits)"
   ]
  },
  {
   "cell_type": "markdown",
   "id": "18a91b12-8b02-462e-8f42-035bd507edff",
   "metadata": {},
   "source": [
    "## List of fruits after sorted in alphabetical order\n"
   ]
  },
  {
   "cell_type": "code",
   "execution_count": 10,
   "id": "01f87f64-4b01-467c-bc27-2da1fc8ca8d0",
   "metadata": {},
   "outputs": [
    {
     "data": {
      "text/plain": [
       "['apple', 'avocado', 'banana', 'mango', 'orange']"
      ]
     },
     "execution_count": 10,
     "metadata": {},
     "output_type": "execute_result"
    }
   ],
   "source": [
    "sorted(fruits, reverse=False)"
   ]
  },
  {
   "cell_type": "markdown",
   "id": "ed6b08be-c546-461d-a7fc-0568f3ec300a",
   "metadata": {},
   "source": [
    "## List of fruits after sorted in reverse order"
   ]
  },
  {
   "cell_type": "code",
   "execution_count": 11,
   "id": "a593918c-98a5-45b5-96e1-2901b98592f4",
   "metadata": {},
   "outputs": [
    {
     "data": {
      "text/plain": [
       "['orange', 'mango', 'banana', 'avocado', 'apple']"
      ]
     },
     "execution_count": 11,
     "metadata": {},
     "output_type": "execute_result"
    }
   ],
   "source": [
    "sorted(fruits, reverse=True)"
   ]
  },
  {
   "cell_type": "markdown",
   "id": "a20124a7-0a1d-4544-9e50-03980a05a851",
   "metadata": {},
   "source": [
    "## Rename Columns in DataFrame"
   ]
  },
  {
   "cell_type": "code",
   "execution_count": 1,
   "id": "12bd8919-c36b-4355-ae85-03d50f939b65",
   "metadata": {},
   "outputs": [
    {
     "data": {
      "text/html": [
       "<div>\n",
       "<style scoped>\n",
       "    .dataframe tbody tr th:only-of-type {\n",
       "        vertical-align: middle;\n",
       "    }\n",
       "\n",
       "    .dataframe tbody tr th {\n",
       "        vertical-align: top;\n",
       "    }\n",
       "\n",
       "    .dataframe thead th {\n",
       "        text-align: right;\n",
       "    }\n",
       "</style>\n",
       "<table border=\"1\" class=\"dataframe\">\n",
       "  <thead>\n",
       "    <tr style=\"text-align: right;\">\n",
       "      <th></th>\n",
       "      <th>first_name</th>\n",
       "      <th>last_name</th>\n",
       "      <th>age</th>\n",
       "    </tr>\n",
       "  </thead>\n",
       "  <tbody>\n",
       "    <tr>\n",
       "      <th>0</th>\n",
       "      <td>Asibeh</td>\n",
       "      <td>Tenager</td>\n",
       "      <td>28</td>\n",
       "    </tr>\n",
       "    <tr>\n",
       "      <th>1</th>\n",
       "      <td>John</td>\n",
       "      <td>Brown</td>\n",
       "      <td>32</td>\n",
       "    </tr>\n",
       "  </tbody>\n",
       "</table>\n",
       "</div>"
      ],
      "text/plain": [
       "  first_name last_name  age\n",
       "0     Asibeh   Tenager   28\n",
       "1       John     Brown   32"
      ]
     },
     "execution_count": 1,
     "metadata": {},
     "output_type": "execute_result"
    }
   ],
   "source": [
    "import pandas as pd\n",
    "data = {'first_name':['Asibeh', 'John'],\n",
    "        'last_name':['Tenager', 'Brown'],\n",
    "       'age': [28, 32]}\n",
    "df = pd.DataFrame(data)\n",
    "df"
   ]
  },
  {
   "cell_type": "markdown",
   "id": "71e79752-cb95-4e49-9b00-5d4b7e60c048",
   "metadata": {},
   "source": [
    "### Columns after rename"
   ]
  },
  {
   "cell_type": "code",
   "execution_count": 4,
   "id": "85fe545a-6c4a-4de1-8453-41aba489c553",
   "metadata": {},
   "outputs": [
    {
     "data": {
      "text/html": [
       "<div>\n",
       "<style scoped>\n",
       "    .dataframe tbody tr th:only-of-type {\n",
       "        vertical-align: middle;\n",
       "    }\n",
       "\n",
       "    .dataframe tbody tr th {\n",
       "        vertical-align: top;\n",
       "    }\n",
       "\n",
       "    .dataframe thead th {\n",
       "        text-align: right;\n",
       "    }\n",
       "</style>\n",
       "<table border=\"1\" class=\"dataframe\">\n",
       "  <thead>\n",
       "    <tr style=\"text-align: right;\">\n",
       "      <th></th>\n",
       "      <th>FName</th>\n",
       "      <th>LName</th>\n",
       "      <th>Age</th>\n",
       "    </tr>\n",
       "  </thead>\n",
       "  <tbody>\n",
       "    <tr>\n",
       "      <th>0</th>\n",
       "      <td>Asibeh</td>\n",
       "      <td>Tenager</td>\n",
       "      <td>28</td>\n",
       "    </tr>\n",
       "    <tr>\n",
       "      <th>1</th>\n",
       "      <td>John</td>\n",
       "      <td>Brown</td>\n",
       "      <td>32</td>\n",
       "    </tr>\n",
       "  </tbody>\n",
       "</table>\n",
       "</div>"
      ],
      "text/plain": [
       "    FName    LName  Age\n",
       "0  Asibeh  Tenager   28\n",
       "1    John    Brown   32"
      ]
     },
     "execution_count": 4,
     "metadata": {},
     "output_type": "execute_result"
    }
   ],
   "source": [
    "# your code here\n",
    "df.rename(columns={'first_name':'FName', 'last_name':'LName', 'age':'Age'})"
   ]
  },
  {
   "cell_type": "markdown",
   "id": "7f2d8a01-c43a-41a0-906b-0f8c90a21daa",
   "metadata": {},
   "source": [
    "## DataFrame After Merged `first_name` and `last_name`"
   ]
  },
  {
   "cell_type": "code",
   "execution_count": 16,
   "id": "5a13e25c-15be-4e51-8be4-110317848d75",
   "metadata": {},
   "outputs": [
    {
     "data": {
      "text/html": [
       "<div>\n",
       "<style scoped>\n",
       "    .dataframe tbody tr th:only-of-type {\n",
       "        vertical-align: middle;\n",
       "    }\n",
       "\n",
       "    .dataframe tbody tr th {\n",
       "        vertical-align: top;\n",
       "    }\n",
       "\n",
       "    .dataframe thead th {\n",
       "        text-align: right;\n",
       "    }\n",
       "</style>\n",
       "<table border=\"1\" class=\"dataframe\">\n",
       "  <thead>\n",
       "    <tr style=\"text-align: right;\">\n",
       "      <th></th>\n",
       "      <th>age</th>\n",
       "      <th>name</th>\n",
       "    </tr>\n",
       "  </thead>\n",
       "  <tbody>\n",
       "    <tr>\n",
       "      <th>0</th>\n",
       "      <td>28</td>\n",
       "      <td>Asibeh Tenager</td>\n",
       "    </tr>\n",
       "    <tr>\n",
       "      <th>1</th>\n",
       "      <td>32</td>\n",
       "      <td>John Brown</td>\n",
       "    </tr>\n",
       "  </tbody>\n",
       "</table>\n",
       "</div>"
      ],
      "text/plain": [
       "   age            name\n",
       "0   28  Asibeh Tenager\n",
       "1   32      John Brown"
      ]
     },
     "execution_count": 16,
     "metadata": {},
     "output_type": "execute_result"
    }
   ],
   "source": [
    "df['name'] = df['first_name'] +\" \"+ df['last_name']\n",
    "df.drop(columns=['first_name', 'last_name'],\n",
    "       inplace=True)\n",
    "df"
   ]
  },
  {
   "cell_type": "markdown",
   "id": "c45f301d-711c-4dbe-9f3f-4e4d1d6eee9e",
   "metadata": {},
   "source": [
    "## Capitalize Column names in DataFrame"
   ]
  },
  {
   "cell_type": "code",
   "execution_count": 4,
   "id": "3bdb7989-4751-4578-b06f-530fce9f447d",
   "metadata": {},
   "outputs": [],
   "source": [
    "import pandas as pd\n",
    "data = {'name':['Asibeh', 'Tenager'],\n",
    "       'age': [28, 32]}\n",
    "df = pd.DataFrame(data)"
   ]
  },
  {
   "cell_type": "markdown",
   "id": "e8462be2-4890-441d-a3ec-27d60041cf21",
   "metadata": {},
   "source": [
    "## Columns before capitalize"
   ]
  },
  {
   "cell_type": "code",
   "execution_count": 8,
   "id": "ff7c7cf4-cb63-4a87-bca2-f50306c99ac0",
   "metadata": {},
   "outputs": [
    {
     "data": {
      "text/html": [
       "<div>\n",
       "<style scoped>\n",
       "    .dataframe tbody tr th:only-of-type {\n",
       "        vertical-align: middle;\n",
       "    }\n",
       "\n",
       "    .dataframe tbody tr th {\n",
       "        vertical-align: top;\n",
       "    }\n",
       "\n",
       "    .dataframe thead th {\n",
       "        text-align: right;\n",
       "    }\n",
       "</style>\n",
       "<table border=\"1\" class=\"dataframe\">\n",
       "  <thead>\n",
       "    <tr style=\"text-align: right;\">\n",
       "      <th></th>\n",
       "      <th>name</th>\n",
       "      <th>age</th>\n",
       "    </tr>\n",
       "  </thead>\n",
       "  <tbody>\n",
       "    <tr>\n",
       "      <th>0</th>\n",
       "      <td>Asibeh</td>\n",
       "      <td>28</td>\n",
       "    </tr>\n",
       "    <tr>\n",
       "      <th>1</th>\n",
       "      <td>Tenager</td>\n",
       "      <td>32</td>\n",
       "    </tr>\n",
       "  </tbody>\n",
       "</table>\n",
       "</div>"
      ],
      "text/plain": [
       "      name  age\n",
       "0   Asibeh   28\n",
       "1  Tenager   32"
      ]
     },
     "execution_count": 8,
     "metadata": {},
     "output_type": "execute_result"
    }
   ],
   "source": [
    "# code here\n",
    "df"
   ]
  },
  {
   "cell_type": "markdown",
   "id": "7a6c8f4a-aa8b-4959-ad79-3f7127b48789",
   "metadata": {},
   "source": [
    "## Column names after capitalize"
   ]
  },
  {
   "cell_type": "code",
   "execution_count": 9,
   "id": "3eb48601-84d4-4e8b-905e-a872c1934636",
   "metadata": {},
   "outputs": [
    {
     "data": {
      "text/html": [
       "<div>\n",
       "<style scoped>\n",
       "    .dataframe tbody tr th:only-of-type {\n",
       "        vertical-align: middle;\n",
       "    }\n",
       "\n",
       "    .dataframe tbody tr th {\n",
       "        vertical-align: top;\n",
       "    }\n",
       "\n",
       "    .dataframe thead th {\n",
       "        text-align: right;\n",
       "    }\n",
       "</style>\n",
       "<table border=\"1\" class=\"dataframe\">\n",
       "  <thead>\n",
       "    <tr style=\"text-align: right;\">\n",
       "      <th></th>\n",
       "      <th>NAME</th>\n",
       "      <th>AGE</th>\n",
       "    </tr>\n",
       "  </thead>\n",
       "  <tbody>\n",
       "    <tr>\n",
       "      <th>0</th>\n",
       "      <td>Asibeh</td>\n",
       "      <td>28</td>\n",
       "    </tr>\n",
       "    <tr>\n",
       "      <th>1</th>\n",
       "      <td>Tenager</td>\n",
       "      <td>32</td>\n",
       "    </tr>\n",
       "  </tbody>\n",
       "</table>\n",
       "</div>"
      ],
      "text/plain": [
       "      NAME  AGE\n",
       "0   Asibeh   28\n",
       "1  Tenager   32"
      ]
     },
     "execution_count": 9,
     "metadata": {},
     "output_type": "execute_result"
    }
   ],
   "source": [
    "# code here\n",
    "df.rename(columns=str.upper)"
   ]
  },
  {
   "cell_type": "markdown",
   "id": "a1d8a3a9-68a7-4ce4-ad8d-4627eed7098e",
   "metadata": {},
   "source": [
    "###\n",
    "\n",
    "##\n",
    "##\n",
    "##\n",
    "##\n",
    "##\n",
    "##\n"
   ]
  },
  {
   "cell_type": "markdown",
   "id": "20799860-f6c8-4b62-8c14-2b299da9b091",
   "metadata": {},
   "source": [
    "## BMI Calcuator"
   ]
  },
  {
   "cell_type": "code",
   "execution_count": 2,
   "id": "ff2cb73b-1589-42ae-8591-4b5dda167a67",
   "metadata": {},
   "outputs": [
    {
     "name": "stdin",
     "output_type": "stream",
     "text": [
      "Weight in kg: 60\n",
      "Height in cm: 165\n"
     ]
    },
    {
     "name": "stdout",
     "output_type": "stream",
     "text": [
      "Normal\n"
     ]
    }
   ],
   "source": [
    "# epythonlab\n",
    "# function to calculate BMI\n",
    "def bmi_calc(w, h):\n",
    "    # calcualte the bmi\n",
    "    bmi = w/(h/100)**2\n",
    "    if bmi < 18.5:\n",
    "        return \"Underweight\"\n",
    "    elif bmi >= 18.5 and bmi < 25.0:\n",
    "        return \"Normal\"\n",
    "    else:\n",
    "        return \"Overweight\"\n",
    "    \n",
    "# code drive\n",
    "weight = int(input(\"Weight in kg:\"))\n",
    "height = float(input(\"Height in cm:\"))\n",
    "result = bmi_calc(weight, height)\n",
    "print(result) "
   ]
  },
  {
   "cell_type": "markdown",
   "id": "fe711e28-ea99-45e4-bcd1-498e327d54a9",
   "metadata": {},
   "source": [
    "## Countdown Timer"
   ]
  },
  {
   "cell_type": "code",
   "execution_count": null,
   "id": "e097f58f-9f27-4d73-b484-514d405f896e",
   "metadata": {},
   "outputs": [],
   "source": [
    "import time \n",
    "# count down function\n",
    "def countdown(t): \n",
    "    while t:\n",
    "        mins, secs = divmod(t, 60)\n",
    "        timer = '{:02d}:{:02d}'.format(mins, secs)\n",
    "        \n",
    "        print(timer, end='\\r')\n",
    "        \n",
    "        time.sleep(1) # sleep for 1 second\n",
    "        t -= 1 # decrease by 1 second\n",
    "\n",
    "# code drive\n",
    "t = input(\"Enter time in seconds:\")\n",
    "countdown(int(t)) # call function and pass time"
   ]
  },
  {
   "cell_type": "markdown",
   "id": "fcc1ac0c-e5c8-4833-a515-8cde5bc441e2",
   "metadata": {},
   "source": [
    "# Detect Your Language"
   ]
  },
  {
   "cell_type": "code",
   "execution_count": null,
   "id": "5fec411c-6e8e-4ab2-8bb2-970e0588262e",
   "metadata": {},
   "outputs": [],
   "source": [
    "# install the library\n",
    "pip install langdetect\n"
   ]
  },
  {
   "cell_type": "code",
   "execution_count": null,
   "id": "5ccad392-1a93-4367-8c84-e5c8031c659f",
   "metadata": {},
   "outputs": [],
   "source": [
    "# import the library\n",
    "from langdetect import detect\n",
    "\n",
    "# input the text in your language\n",
    "text = input(\"Text:\")\n",
    "\n",
    "print(\"Language detected:\", detect(text))"
   ]
  },
  {
   "cell_type": "markdown",
   "id": "9859cbae-2eaf-4fc8-9859-8f42e3851e64",
   "metadata": {
    "tags": []
   },
   "source": [
    "Check within a column if a certain value is contained from the list\n",
    "\n",
    "if found, return True else False in the new column"
   ]
  },
  {
   "cell_type": "code",
   "execution_count": null,
   "id": "c9b8f5b9-81bc-46e6-b17b-c98b7d81944b",
   "metadata": {},
   "outputs": [],
   "source": [
    "import pandas as pd\n",
    "import re\n",
    "d = {\n",
    "    \"customerId\": [1, 3, 3],\n",
    "    \"text\": [\"Something with Cat\", \"That is a huge dog\", \"Hello agian\"],\n",
    "}\n",
    "df = pd.DataFrame(data=d)\n",
    "df"
   ]
  },
  {
   "cell_type": "code",
   "execution_count": null,
   "id": "29437316-8be6-4408-94ec-e6403562370f",
   "metadata": {},
   "outputs": [],
   "source": [
    "# List items\n",
    "my_list = ['cat', 'dog', 'mouse']"
   ]
  },
  {
   "cell_type": "markdown",
   "id": "6bc5f786-ce77-40fb-8d2d-4315eb47ada0",
   "metadata": {},
   "source": [
    "Create pattern from the list"
   ]
  },
  {
   "cell_type": "code",
   "execution_count": null,
   "id": "6f6f9838-1ce1-43b5-9871-ad51b9a94864",
   "metadata": {},
   "outputs": [],
   "source": [
    "# use regular expression to create patter from the list\n",
    "pattern = re.compile(\"|\".join(my_list), re.IGNORECASE)"
   ]
  },
  {
   "cell_type": "markdown",
   "id": "ea15ef6e-c74e-4835-bde1-5c1154369d83",
   "metadata": {},
   "source": [
    "Check the dataframe column\n",
    "\n"
   ]
  },
  {
   "cell_type": "code",
   "execution_count": null,
   "id": "7f3c7000-16e4-4f60-a5c9-8da6d7730da8",
   "metadata": {},
   "outputs": [],
   "source": [
    "df['test'] = df['text'].apply(lambda x: True if pattern.search(x) else False)"
   ]
  },
  {
   "cell_type": "code",
   "execution_count": null,
   "id": "7b61e5e8-386f-4a49-af53-1c15e2592356",
   "metadata": {},
   "outputs": [],
   "source": [
    "df"
   ]
  },
  {
   "cell_type": "markdown",
   "id": "e39dc874-822d-4e9a-9dc7-8deb45a9e5d2",
   "metadata": {},
   "source": [
    "# Check leap year in Python"
   ]
  },
  {
   "cell_type": "code",
   "execution_count": null,
   "id": "74f4b87a-71df-445f-a79c-3e230b313fde",
   "metadata": {},
   "outputs": [],
   "source": [
    "def checkLeap(year):\n",
    "    \n",
    "    if ((year % 400 == 0) or\n",
    "       (year % 100 != 0) and\n",
    "       (year % 4 == 0)):\n",
    "        \n",
    "        print(\"Given year is leap year.\")\n",
    "    \n",
    "    else:\n",
    "        print(\"Given year is not leap year.\")\n",
    "    "
   ]
  },
  {
   "cell_type": "code",
   "execution_count": null,
   "id": "c92c7280-be58-4383-bf44-592277a7c583",
   "metadata": {},
   "outputs": [],
   "source": [
    "# call the funcction\n",
    "leap = checkLeap(2022)"
   ]
  },
  {
   "cell_type": "code",
   "execution_count": null,
   "id": "d6f61c50-6216-4711-989a-64316854b2a8",
   "metadata": {},
   "outputs": [],
   "source": [
    "checkLeap(2019)"
   ]
  },
  {
   "cell_type": "code",
   "execution_count": null,
   "id": "9fb72b5e-ff42-4a67-9982-86e5ae806e22",
   "metadata": {},
   "outputs": [],
   "source": []
  }
 ],
 "metadata": {
  "kernelspec": {
   "display_name": "Python 3",
   "language": "python",
   "name": "python3"
  },
  "language_info": {
   "codemirror_mode": {
    "name": "ipython",
    "version": 3
   },
   "file_extension": ".py",
   "mimetype": "text/x-python",
   "name": "python",
   "nbconvert_exporter": "python",
   "pygments_lexer": "ipython3",
   "version": "3.9.10"
  },
  "widgets": {
   "application/vnd.jupyter.widget-state+json": {
    "state": {},
    "version_major": 2,
    "version_minor": 0
   }
  }
 },
 "nbformat": 4,
 "nbformat_minor": 5
}
