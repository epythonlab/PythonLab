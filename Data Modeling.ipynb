{
 "cells": [
  {
   "cell_type": "markdown",
   "id": "7375b3ea",
   "metadata": {},
   "source": [
    "# Data Modelling in Python"
   ]
  },
  {
   "cell_type": "markdown",
   "id": "8d442a72",
   "metadata": {},
   "source": [
    "<hr>"
   ]
  },
  {
   "cell_type": "markdown",
   "id": "017271ae",
   "metadata": {},
   "source": [
    "#### What is Data Modelling?"
   ]
  },
  {
   "cell_type": "markdown",
   "id": "9d80a423",
   "metadata": {},
   "source": [
    ">is the process of ***analyzing the data objects*** and their relationship to the other objects."
   ]
  },
  {
   "cell_type": "markdown",
   "id": "d0636ecd",
   "metadata": {},
   "source": [
    "The data models are created for the data to be stored in the database."
   ]
  },
  {
   "cell_type": "markdown",
   "id": "33fb88b5-8094-4df6-b363-c21d05a924e9",
   "metadata": {},
   "source": [
    "<hr/>\n",
    "<div class=\"alert alert-success alertsuccess\" style=\"margin-top: 20px\">\n",
    "    [Tip:] The data model's main focus is on what data is needed and how we have to organize data rather than what operations we have to perform.\n",
    "</div>\n",
    "<hr/>\n"
   ]
  },
  {
   "cell_type": "markdown",
   "id": "c4fbc20b-21db-4e02-beaf-ed8ad6c9aab0",
   "metadata": {},
   "source": [
    ">***Data Model*** is basically an architect's building plan."
   ]
  },
  {
   "cell_type": "markdown",
   "id": "15aa7fd1-7c39-4766-9b85-236149318213",
   "metadata": {},
   "source": [
    "## Practical Uses of Data Modelling tools"
   ]
  },
  {
   "cell_type": "markdown",
   "id": "e2475374-1741-4e02-8b35-662dcbaa2e68",
   "metadata": {},
   "source": [
    "\n",
    ">- It helps create a robust design\n",
    "\n",
    "> - it makes sure that the data models are represented\n",
    "\n",
    ">- The database at the logical, physical, and conceptual levels can be designed\n",
    "\n",
    ">- The relation tables, foreign keys, and primary keys can be defined\n",
    "\n",
    ">- it help in the improvement of data quality\n",
    "\n",
    ">- it gives clear picture of business requirement\n",
    "\n",
    ">- help identifying redundant and missing data\n",
    "\n",
    ">- creates visual representation of the data\n",
    "\n",
    ">- it is quite time consuming, but maintenace is cheaper and faster\n",
    "\n",
    ">- data can be accurately represented"
   ]
  },
  {
   "cell_type": "markdown",
   "id": "5f373301-4782-4daa-836b-f92c46f6b19a",
   "metadata": {},
   "source": [
    "<hr>"
   ]
  },
  {
   "cell_type": "markdown",
   "id": "0f7aa4f8-b921-4cc0-a523-c99f444b34f7",
   "metadata": {},
   "source": [
    "## The 3 Perspectives of a Data Model"
   ]
  },
  {
   "cell_type": "markdown",
   "id": "5b32b22b-4123-4513-b322-68aa244d8b57",
   "metadata": {},
   "source": [
    "***1. Conceptual Model***\n",
    "> What the system contains\n",
    "\n",
    "> keeps track of business events and related performance measures"
   ]
  },
  {
   "cell_type": "markdown",
   "id": "b575ede3-5ab6-460a-ba7a-5cfd018d4b5c",
   "metadata": {},
   "source": [
    "The main purpose of this model is to organize, define business rules and concepts.\n",
    "\n",
    "For example: `market data, customer data, purchase data, etc`"
   ]
  },
  {
   "cell_type": "markdown",
   "id": "1685392f-a4aa-4528-95e9-e10e9560d9e6",
   "metadata": {},
   "source": [
    "\n",
    "\n",
    "\n",
    "\n",
    "\n",
    "**2. Logical Model**\n",
    "\n",
    ">map of rules and data structures includes the data required, such as tables, columns, etc\n",
    "\n",
    "> used to transform data architecture into a database "
   ]
  },
  {
   "cell_type": "markdown",
   "id": "eb137d23-eb40-4c6d-8529-ce442638d5ac",
   "metadata": {},
   "source": [
    "**3. Physical Data Model**\n",
    "\n",
    "> defines all the components and services that are required to build a database\n",
    "\n",
    "> it represents `each table, columns, constraints like primary key, foreign key NOT NULL, etc`\n"
   ]
  },
  {
   "cell_type": "markdown",
   "id": "d39d42cd-790d-4588-85ad-e5c3733710ae",
   "metadata": {},
   "source": [
    "<hr>"
   ]
  },
  {
   "cell_type": "markdown",
   "id": "3adfb98a-85af-4a3c-a3e4-4bbc97679c59",
   "metadata": {},
   "source": [
    "## Types of techniques used to organize the data"
   ]
  },
  {
   "cell_type": "markdown",
   "id": "1e910f92-6354-42d2-b5a5-56e9a8a367cf",
   "metadata": {},
   "source": [
    "**1. Hierarchical Technique**\n",
    "\n",
    "> it is a tree like structure.\n",
    "\n"
   ]
  },
  {
   "cell_type": "markdown",
   "id": "08f2945a-a0c7-4189-ba66-0b9d4d0f9604",
   "metadata": {},
   "source": [
    "**2. Object Oriented Model**\n",
    "\n",
    "> creation of objects that contains stored values.\n",
    "\n",
    "> the model communicates while supporting data abstraction, inheritance, and encapsulation\n"
   ]
  },
  {
   "cell_type": "markdown",
   "id": "2c4fd4ee-80a6-44ce-9e81-0a896bf6beeb",
   "metadata": {},
   "source": [
    "**3.Entity Relationship Model**\n",
    "\n",
    ">defines the elements and relationship for the entities in a system.\n",
    "\n",
    "> the entire database is represented in a diagram called an entity-relationship diagram, consisting of entities, attributes, and relationships"
   ]
  },
  {
   "cell_type": "markdown",
   "id": "88ee8a86-a68f-428f-90b2-f7c353971c16",
   "metadata": {},
   "source": [
    "**4. Network Technique and**\n",
    "\n",
    "**5. Relational Technique**"
   ]
  },
  {
   "cell_type": "markdown",
   "id": "9ccc8fa8-1b82-4952-a937-bb9a54058da5",
   "metadata": {},
   "source": [
    "<hr>"
   ]
  },
  {
   "cell_type": "markdown",
   "id": "61b1337f-71f0-4114-93b7-c10e2b1939c3",
   "metadata": {},
   "source": [
    "## Implementation of Data Modelling in Python"
   ]
  },
  {
   "cell_type": "markdown",
   "id": "e0c61da4-15ce-46a5-94ec-89e8295a4594",
   "metadata": {},
   "source": [
    "Example: Develop a data model of Pizza"
   ]
  },
  {
   "cell_type": "code",
   "execution_count": 2,
   "id": "536b2b44-a245-42ce-9032-1b2b5d100a47",
   "metadata": {},
   "outputs": [],
   "source": [
    "from model.data import Pizza\n",
    "\n",
    "    \n",
    "    "
   ]
  },
  {
   "cell_type": "code",
   "execution_count": 4,
   "id": "1ca3fdef-e72b-4ee7-b585-b46aa18dc82e",
   "metadata": {},
   "outputs": [],
   "source": [
    "pizza = Pizza()\n",
    "pizza.set_size(\"Large\")\n",
    "pizza.set_number_of_slices(3)\n",
    "pizza.set_price(100)\n"
   ]
  },
  {
   "cell_type": "code",
   "execution_count": 5,
   "id": "6b59766d-dfe6-4f4c-9d12-e02cc74a79d8",
   "metadata": {},
   "outputs": [
    {
     "data": {
      "text/plain": [
       "'Large'"
      ]
     },
     "execution_count": 5,
     "metadata": {},
     "output_type": "execute_result"
    }
   ],
   "source": [
    "pizza.get_size()"
   ]
  },
  {
   "cell_type": "code",
   "execution_count": 6,
   "id": "ed2bbccd-ded9-4e93-89c7-76ccaa7407df",
   "metadata": {},
   "outputs": [
    {
     "data": {
      "text/plain": [
       "3"
      ]
     },
     "execution_count": 6,
     "metadata": {},
     "output_type": "execute_result"
    }
   ],
   "source": [
    "pizza.get_number_of_slices()"
   ]
  },
  {
   "cell_type": "code",
   "execution_count": 7,
   "id": "2ccfc9c4-bbee-46f8-9342-9bcb56218aa2",
   "metadata": {},
   "outputs": [
    {
     "data": {
      "text/plain": [
       "100"
      ]
     },
     "execution_count": 7,
     "metadata": {},
     "output_type": "execute_result"
    }
   ],
   "source": [
    "pizza.get_price()"
   ]
  },
  {
   "cell_type": "code",
   "execution_count": 8,
   "id": "b7e2d445-99e5-43e5-9927-39cc6e9177ef",
   "metadata": {},
   "outputs": [
    {
     "data": {
      "text/plain": [
       "'Midium'"
      ]
     },
     "execution_count": 8,
     "metadata": {},
     "output_type": "execute_result"
    }
   ],
   "source": [
    "pizza.set_size(\"Midium\")\n",
    "pizza.get_size()"
   ]
  },
  {
   "cell_type": "code",
   "execution_count": null,
   "id": "ca805ad0-2e93-46cd-bfe6-bbffb6e2ae54",
   "metadata": {},
   "outputs": [],
   "source": []
  }
 ],
 "metadata": {
  "kernelspec": {
   "display_name": "Python 3",
   "language": "python",
   "name": "python3"
  },
  "language_info": {
   "codemirror_mode": {
    "name": "ipython",
    "version": 3
   },
   "file_extension": ".py",
   "mimetype": "text/x-python",
   "name": "python",
   "nbconvert_exporter": "python",
   "pygments_lexer": "ipython3",
   "version": "3.9.10"
  },
  "widgets": {
   "application/vnd.jupyter.widget-state+json": {
    "state": {},
    "version_major": 2,
    "version_minor": 0
   }
  }
 },
 "nbformat": 4,
 "nbformat_minor": 5
}
