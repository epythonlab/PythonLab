{
  "cells": [
    {
      "cell_type": "markdown",
      "id": "7375b3ea",
      "metadata": {
        "id": "7375b3ea"
      },
      "source": [
        "# Data Modelling in Python"
      ]
    },
    {
      "cell_type": "markdown",
      "id": "8d442a72",
      "metadata": {
        "id": "8d442a72"
      },
      "source": [
        "<hr>"
      ]
    },
    {
      "cell_type": "markdown",
      "id": "017271ae",
      "metadata": {
        "id": "017271ae"
      },
      "source": [
        "#### What is Data Modelling?"
      ]
    },
    {
      "cell_type": "markdown",
      "id": "9d80a423",
      "metadata": {
        "id": "9d80a423"
      },
      "source": [
        ">is the process of ***analyzing the data objects*** and their relationship to the other objects."
      ]
    },
    {
      "cell_type": "markdown",
      "id": "d0636ecd",
      "metadata": {
        "id": "d0636ecd"
      },
      "source": [
        "The data models are created for the data to be stored in the database."
      ]
    },
    {
      "cell_type": "markdown",
      "id": "33fb88b5-8094-4df6-b363-c21d05a924e9",
      "metadata": {
        "id": "33fb88b5-8094-4df6-b363-c21d05a924e9"
      },
      "source": [
        "<hr/>\n",
        "<div class=\"alert alert-success alertsuccess\" style=\"margin-top: 20px\">\n",
        "    [Tip:] The data model's main focus is on what data is needed and how we have to organize data rather than what operations we have to perform.\n",
        "</div>\n",
        "<hr/>\n"
      ]
    },
    {
      "cell_type": "markdown",
      "id": "c4fbc20b-21db-4e02-beaf-ed8ad6c9aab0",
      "metadata": {
        "id": "c4fbc20b-21db-4e02-beaf-ed8ad6c9aab0"
      },
      "source": [
        ">***Data Model*** is basically an architect's building plan."
      ]
    },
    {
      "cell_type": "markdown",
      "id": "15aa7fd1-7c39-4766-9b85-236149318213",
      "metadata": {
        "id": "15aa7fd1-7c39-4766-9b85-236149318213"
      },
      "source": [
        "## Practical Uses of Data Modelling tools"
      ]
    },
    {
      "cell_type": "markdown",
      "id": "e2475374-1741-4e02-8b35-662dcbaa2e68",
      "metadata": {
        "id": "e2475374-1741-4e02-8b35-662dcbaa2e68"
      },
      "source": [
        "\n",
        ">- It helps create a robust design\n",
        "\n",
        "> - it makes sure that the data models are represented\n",
        "\n",
        ">- The database at the logical, physical, and conceptual levels can be designed\n",
        "\n",
        ">- The relation tables, foreign keys, and primary keys can be defined\n",
        "\n",
        ">- it help in the improvement of data quality\n",
        "\n",
        ">- it gives clear picture of business requirement\n",
        "\n",
        ">- help identifying redundant and missing data\n",
        "\n",
        ">- creates visual representation of the data\n",
        "\n",
        ">- it is quite time consuming, but maintenace is cheaper and faster\n",
        "\n",
        ">- data can be accurately represented"
      ]
    },
    {
      "cell_type": "markdown",
      "id": "5f373301-4782-4daa-836b-f92c46f6b19a",
      "metadata": {
        "id": "5f373301-4782-4daa-836b-f92c46f6b19a"
      },
      "source": [
        "<hr>"
      ]
    },
    {
      "cell_type": "markdown",
      "id": "0f7aa4f8-b921-4cc0-a523-c99f444b34f7",
      "metadata": {
        "id": "0f7aa4f8-b921-4cc0-a523-c99f444b34f7"
      },
      "source": [
        "## The 3 Perspectives of a Data Model"
      ]
    },
    {
      "cell_type": "markdown",
      "id": "5b32b22b-4123-4513-b322-68aa244d8b57",
      "metadata": {
        "id": "5b32b22b-4123-4513-b322-68aa244d8b57"
      },
      "source": [
        "***1. Conceptual Model***\n",
        "> What the system contains\n",
        "\n",
        "> keeps track of business events and related performance measures"
      ]
    },
    {
      "cell_type": "markdown",
      "id": "b575ede3-5ab6-460a-ba7a-5cfd018d4b5c",
      "metadata": {
        "id": "b575ede3-5ab6-460a-ba7a-5cfd018d4b5c"
      },
      "source": [
        "The main purpose of this model is to organize, define business rules and concepts.\n",
        "\n",
        "For example: `market data, customer data, purchase data, etc`"
      ]
    },
    {
      "cell_type": "markdown",
      "id": "1685392f-a4aa-4528-95e9-e10e9560d9e6",
      "metadata": {
        "id": "1685392f-a4aa-4528-95e9-e10e9560d9e6"
      },
      "source": [
        "\n",
        "\n",
        "\n",
        "\n",
        "\n",
        "**2. Logical Model**\n",
        "\n",
        ">map of rules and data structures includes the data required, such as tables, columns, etc\n",
        "\n",
        "> used to transform data architecture into a database"
      ]
    },
    {
      "cell_type": "markdown",
      "id": "eb137d23-eb40-4c6d-8529-ce442638d5ac",
      "metadata": {
        "id": "eb137d23-eb40-4c6d-8529-ce442638d5ac"
      },
      "source": [
        "**3. Physical Data Model**\n",
        "\n",
        "> defines all the components and services that are required to build a database\n",
        "\n",
        "> it represents `each table, columns, constraints like primary key, foreign key NOT NULL, etc`\n"
      ]
    },
    {
      "cell_type": "markdown",
      "id": "d39d42cd-790d-4588-85ad-e5c3733710ae",
      "metadata": {
        "id": "d39d42cd-790d-4588-85ad-e5c3733710ae"
      },
      "source": [
        "<hr>"
      ]
    },
    {
      "cell_type": "markdown",
      "id": "3adfb98a-85af-4a3c-a3e4-4bbc97679c59",
      "metadata": {
        "id": "3adfb98a-85af-4a3c-a3e4-4bbc97679c59"
      },
      "source": [
        "## Types of techniques used to organize the data"
      ]
    },
    {
      "cell_type": "markdown",
      "id": "1e910f92-6354-42d2-b5a5-56e9a8a367cf",
      "metadata": {
        "id": "1e910f92-6354-42d2-b5a5-56e9a8a367cf"
      },
      "source": [
        "**1. Hierarchical Technique**\n",
        "\n",
        "> it is a tree like structure.\n",
        "\n"
      ]
    },
    {
      "cell_type": "markdown",
      "id": "08f2945a-a0c7-4189-ba66-0b9d4d0f9604",
      "metadata": {
        "id": "08f2945a-a0c7-4189-ba66-0b9d4d0f9604"
      },
      "source": [
        "**2. Object Oriented Model**\n",
        "\n",
        "> creation of objects that contains stored values.\n",
        "\n",
        "> the model communicates while supporting data abstraction, inheritance, and encapsulation\n"
      ]
    },
    {
      "cell_type": "markdown",
      "id": "2c4fd4ee-80a6-44ce-9e81-0a896bf6beeb",
      "metadata": {
        "id": "2c4fd4ee-80a6-44ce-9e81-0a896bf6beeb"
      },
      "source": [
        "**3.Entity Relationship Model**\n",
        "\n",
        ">defines the elements and relationship for the entities in a system.\n",
        "\n",
        "> the entire database is represented in a diagram called an entity-relationship diagram, consisting of entities, attributes, and relationships"
      ]
    },
    {
      "cell_type": "markdown",
      "id": "88ee8a86-a68f-428f-90b2-f7c353971c16",
      "metadata": {
        "id": "88ee8a86-a68f-428f-90b2-f7c353971c16"
      },
      "source": [
        "**4. Network Technique and**\n",
        "\n",
        "**5. Relational Technique**"
      ]
    },
    {
      "cell_type": "markdown",
      "id": "9ccc8fa8-1b82-4952-a937-bb9a54058da5",
      "metadata": {
        "id": "9ccc8fa8-1b82-4952-a937-bb9a54058da5"
      },
      "source": [
        "<hr>"
      ]
    },
    {
      "cell_type": "markdown",
      "id": "61b1337f-71f0-4114-93b7-c10e2b1939c3",
      "metadata": {
        "id": "61b1337f-71f0-4114-93b7-c10e2b1939c3"
      },
      "source": [
        "## Implementation of Data Modelling in Python"
      ]
    },
    {
      "cell_type": "markdown",
      "id": "e0c61da4-15ce-46a5-94ec-89e8295a4594",
      "metadata": {
        "id": "e0c61da4-15ce-46a5-94ec-89e8295a4594"
      },
      "source": [
        "Example: Develop a data model of Pizza"
      ]
    },
    {
      "cell_type": "code",
      "execution_count": null,
      "id": "536b2b44-a245-42ce-9032-1b2b5d100a47",
      "metadata": {
        "id": "536b2b44-a245-42ce-9032-1b2b5d100a47"
      },
      "outputs": [],
      "source": [
        "from model.data import Pizza\n",
        "\n",
        "\n",
        ""
      ]
    },
    {
      "cell_type": "code",
      "execution_count": null,
      "id": "1ca3fdef-e72b-4ee7-b585-b46aa18dc82e",
      "metadata": {
        "id": "1ca3fdef-e72b-4ee7-b585-b46aa18dc82e"
      },
      "outputs": [],
      "source": [
        "pizza = Pizza()\n",
        "pizza.set_size(\"Large\")\n",
        "pizza.set_number_of_slices(3)\n",
        "pizza.set_price(100)\n"
      ]
    },
    {
      "cell_type": "code",
      "execution_count": null,
      "id": "6b59766d-dfe6-4f4c-9d12-e02cc74a79d8",
      "metadata": {
        "id": "6b59766d-dfe6-4f4c-9d12-e02cc74a79d8",
        "outputId": "760d101d-da29-440d-bfdd-b0c5887cc4c1"
      },
      "outputs": [
        {
          "data": {
            "text/plain": [
              "'Large'"
            ]
          },
          "execution_count": 5,
          "metadata": {},
          "output_type": "execute_result"
        }
      ],
      "source": [
        "pizza.get_size()"
      ]
    },
    {
      "cell_type": "code",
      "execution_count": null,
      "id": "ed2bbccd-ded9-4e93-89c7-76ccaa7407df",
      "metadata": {
        "id": "ed2bbccd-ded9-4e93-89c7-76ccaa7407df",
        "outputId": "71530d22-ea73-4812-a138-917e740a26e3"
      },
      "outputs": [
        {
          "data": {
            "text/plain": [
              "3"
            ]
          },
          "execution_count": 6,
          "metadata": {},
          "output_type": "execute_result"
        }
      ],
      "source": [
        "pizza.get_number_of_slices()"
      ]
    },
    {
      "cell_type": "code",
      "execution_count": null,
      "id": "2ccfc9c4-bbee-46f8-9342-9bcb56218aa2",
      "metadata": {
        "id": "2ccfc9c4-bbee-46f8-9342-9bcb56218aa2",
        "outputId": "2b481d13-8e48-41d4-817e-2bb823e5d3d3"
      },
      "outputs": [
        {
          "data": {
            "text/plain": [
              "100"
            ]
          },
          "execution_count": 7,
          "metadata": {},
          "output_type": "execute_result"
        }
      ],
      "source": [
        "pizza.get_price()"
      ]
    },
    {
      "cell_type": "code",
      "execution_count": null,
      "id": "b7e2d445-99e5-43e5-9927-39cc6e9177ef",
      "metadata": {
        "id": "b7e2d445-99e5-43e5-9927-39cc6e9177ef",
        "outputId": "31605504-f52c-4adb-b8de-0ac9d0aebaca"
      },
      "outputs": [
        {
          "data": {
            "text/plain": [
              "'Midium'"
            ]
          },
          "execution_count": 8,
          "metadata": {},
          "output_type": "execute_result"
        }
      ],
      "source": [
        "pizza.set_size(\"Midium\")\n",
        "pizza.get_size()"
      ]
    },
    {
      "cell_type": "markdown",
      "source": [],
      "metadata": {
        "id": "zmoS48_o2us2"
      },
      "id": "zmoS48_o2us2"
    },
    {
      "cell_type": "markdown",
      "source": [],
      "metadata": {
        "id": "MOSveylU2u72"
      },
      "id": "MOSveylU2u72"
    },
    {
      "cell_type": "code",
      "execution_count": null,
      "id": "ca805ad0-2e93-46cd-bfe6-bbffb6e2ae54",
      "metadata": {
        "id": "ca805ad0-2e93-46cd-bfe6-bbffb6e2ae54"
      },
      "outputs": [],
      "source": []
    },
    {
      "cell_type": "markdown",
      "source": [
        "---"
      ],
      "metadata": {
        "id": "RgyOGwX_rNlg"
      },
      "id": "RgyOGwX_rNlg"
    },
    {
      "cell_type": "markdown",
      "source": [
        "# Data Modeling with SQLAlchemy and Python"
      ],
      "metadata": {
        "id": "1gUjdEIlrOx8"
      },
      "id": "1gUjdEIlrOx8"
    },
    {
      "cell_type": "markdown",
      "source": [
        "## Introduction"
      ],
      "metadata": {
        "id": "sIw-lHpnsso4"
      },
      "id": "sIw-lHpnsso4"
    },
    {
      "cell_type": "markdown",
      "source": [
        "**Data modeling** is the process of creating a visual representation of the data entities and their relationships in a database. It is an essential part of database design, as it helps to ensure that the database is structured in a way that is efficient and easy to use."
      ],
      "metadata": {
        "id": "YMPJ3_F3rTVT"
      },
      "id": "YMPJ3_F3rTVT"
    },
    {
      "cell_type": "markdown",
      "source": [
        "### There are three main types of data models:\n",
        "- **Conceptual data models:** These models represent the high-level concepts and relationships in the data, without worrying about the specific implementation details.\n",
        "- **Logical data models:** These models refine the conceptual data models by adding more detail about the data structure, such as the names and types of attributes.\n",
        "- **Physical data models:** These models provide the most detailed level of representation of the data, and are used to create the actual database schema."
      ],
      "metadata": {
        "id": "6zFX21eNtWWI"
      },
      "id": "6zFX21eNtWWI"
    },
    {
      "cell_type": "markdown",
      "source": [
        "The most common type of data modeling language is the **Entity-Relationship Diagram (ERD)**.\n",
        "- **ERDs** use graphical symbols to represent **entities**, **attributes**, and **relationships**."
      ],
      "metadata": {
        "id": "58kGTJp3tg9w"
      },
      "id": "58kGTJp3tg9w"
    },
    {
      "cell_type": "markdown",
      "source": [
        "\n",
        "\n",
        "```\n",
        "[Student] -- [Enrolls In] --> [Course]\n",
        "```\n",
        "\n"
      ],
      "metadata": {
        "id": "2oTHYxLvtr13"
      },
      "id": "2oTHYxLvtr13"
    },
    {
      "cell_type": "markdown",
      "source": [
        "### Explanation"
      ],
      "metadata": {
        "id": "Fx6O-0N5uPUK"
      },
      "id": "Fx6O-0N5uPUK"
    },
    {
      "cell_type": "markdown",
      "source": [
        "This ERD shows that there are two entities in the database: **students** and **courses**. Students can enroll in multiple courses, and courses can have multiple students enrolled in them. The relationship between students and courses is a **many-to-many** relationship."
      ],
      "metadata": {
        "id": "0V_LlybLuTK9"
      },
      "id": "0V_LlybLuTK9"
    },
    {
      "cell_type": "markdown",
      "source": [
        "## Steps in Data Modeling"
      ],
      "metadata": {
        "id": "K5MmeU_MuZXA"
      },
      "id": "K5MmeU_MuZXA"
    },
    {
      "cell_type": "markdown",
      "source": [
        "1. **Identify the entities:** Entities are the objects or concepts that you want to store data about in your database. For example, in a school database, entities might include students, courses, and teachers.\n",
        "2. **Identify the attributes:** Attributes are the properties of entities. For example, student attributes might include name, address, and date of birth.\n",
        "3. **Identify the relationships:** Relationships are the connections between entities. For example, a student can be enrolled in multiple courses, and a course can have multiple students enrolled in it.\n",
        "4. **Create a conceptual data model:** The conceptual data model is a high-level representation of the entities, attributes, and relationships in the database.\n",
        "5. **Create a logical data model:** The logical data model refines the conceptual data model by adding more detail about the data structure, such as the names and types of attributes.\n",
        "6. **Create a physical data model:** The physical data model provides the most detailed level of representation of the data, and is used to create the actual database schema."
      ],
      "metadata": {
        "id": "ZVrHhR2oufJt"
      },
      "id": "ZVrHhR2oufJt"
    },
    {
      "cell_type": "markdown",
      "source": [
        "#### Data modeling in Python can be done using a variety of libraries, such as:\n",
        "\n"
      ],
      "metadata": {
        "id": "VAeJJPI2viCG"
      },
      "id": "VAeJJPI2viCG"
    },
    {
      "cell_type": "markdown",
      "source": [
        "- **SQLAlchemy:** **SQLAlchemy** is a popular library for object-relational mapping (ORM), which allows you to map Python objects to database tables.\n",
        "- **Peewee:** Peewee is another popular ORM library that is known for its simplicity and speed.\n",
        "- **PonyORM**: PonyORM is a lightweight ORM library that is well-suited for small to medium-sized projects.\n",
        "- **Django Models**: Django is a web framework that includes a built-in ORM system."
      ],
      "metadata": {
        "id": "_yvN46DbwhyP"
      },
      "id": "_yvN46DbwhyP"
    },
    {
      "cell_type": "markdown",
      "source": [
        "To perform data modeling in Python using SQLAlchemy, you can follow these steps"
      ],
      "metadata": {
        "id": "KDqmP-Flw7bf"
      },
      "id": "KDqmP-Flw7bf"
    },
    {
      "cell_type": "markdown",
      "source": [
        "### 1. Install SQLAlchemy: If you haven't already installed it, you can install SQLAlchemy using pip:"
      ],
      "metadata": {
        "id": "SpFLzKu4w_M0"
      },
      "id": "SpFLzKu4w_M0"
    },
    {
      "cell_type": "code",
      "source": [
        "# Uncomment the following line, and run the cell\n",
        "#!pip install sqlalchemy"
      ],
      "metadata": {
        "id": "DpaimYo4xESs"
      },
      "id": "DpaimYo4xESs",
      "execution_count": 2,
      "outputs": []
    },
    {
      "cell_type": "markdown",
      "source": [
        "### 2. Import Necessary Modules:"
      ],
      "metadata": {
        "id": "zQ2yo-NxxaEN"
      },
      "id": "zQ2yo-NxxaEN"
    },
    {
      "cell_type": "code",
      "source": [
        "# prevent the informational messages from being displayed\n",
        "import logging\n",
        "logging.getLogger('sqlalchemy').propagate = False"
      ],
      "metadata": {
        "id": "0Lf2Lrw10oCO"
      },
      "id": "0Lf2Lrw10oCO",
      "execution_count": 33,
      "outputs": []
    },
    {
      "cell_type": "code",
      "source": [
        "# Import classes from sqlalchemy module\n",
        "from sqlalchemy import create_engine, Column, Integer, String\n",
        "from sqlalchemy.orm import declarative_base\n",
        "from sqlalchemy.orm import sessionmaker\n"
      ],
      "metadata": {
        "id": "DdbaxtWmxd8Z"
      },
      "id": "DdbaxtWmxd8Z",
      "execution_count": 25,
      "outputs": []
    },
    {
      "cell_type": "markdown",
      "source": [
        "### 3. Create an Engine and Session: Initialize the database connection and session:"
      ],
      "metadata": {
        "id": "8rpvIB_gxpTb"
      },
      "id": "8rpvIB_gxpTb"
    },
    {
      "cell_type": "code",
      "source": [
        "# Replace 'sqlite:///example.db' with your desired database connection string\n",
        "engine = create_engine('sqlite:///example.db', echo=True)\n",
        "Session = sessionmaker(bind=engine)\n",
        "session = Session()\n",
        "Base = declarative_base()\n"
      ],
      "metadata": {
        "id": "iRTsN8mwxraL"
      },
      "id": "iRTsN8mwxraL",
      "execution_count": 26,
      "outputs": []
    },
    {
      "cell_type": "markdown",
      "source": [
        "### 4. Create a Model Class: Define a model class that represents a table in the database:"
      ],
      "metadata": {
        "id": "FI4fkYaVx-wa"
      },
      "id": "FI4fkYaVx-wa"
    },
    {
      "cell_type": "code",
      "source": [
        "class Student(Base):\n",
        "    __tablename__ = 'students'\n",
        "    id = Column(Integer, primary_key=True)\n",
        "    name = Column(String)\n",
        "    age = Column(Integer)\n"
      ],
      "metadata": {
        "id": "QnrYScJ1yFB3"
      },
      "id": "QnrYScJ1yFB3",
      "execution_count": 27,
      "outputs": []
    },
    {
      "cell_type": "markdown",
      "source": [
        "### 5. Create Tables: Create the tables based on the defined models:"
      ],
      "metadata": {
        "id": "1CRP7PXSyPna"
      },
      "id": "1CRP7PXSyPna"
    },
    {
      "cell_type": "code",
      "source": [
        "Base.metadata.create_all(engine)"
      ],
      "metadata": {
        "id": "GbouOUWIySV9"
      },
      "id": "GbouOUWIySV9",
      "execution_count": null,
      "outputs": []
    },
    {
      "cell_type": "markdown",
      "source": [
        "### 6. Insert Data: Use the session to insert data into the database:"
      ],
      "metadata": {
        "id": "rOH4Up90ycGD"
      },
      "id": "rOH4Up90ycGD"
    },
    {
      "cell_type": "code",
      "source": [
        "# Creating and adding a new student\n",
        "new_student = Student(name='John Doe', age=30)\n",
        "session.add(new_student)\n",
        "session.commit()\n"
      ],
      "metadata": {
        "id": "eEAEQj9xyfDx"
      },
      "id": "eEAEQj9xyfDx",
      "execution_count": null,
      "outputs": []
    },
    {
      "cell_type": "markdown",
      "source": [
        "### 7. Query Data: Retrieve data from the database using queries:"
      ],
      "metadata": {
        "id": "9m6bDAphynTB"
      },
      "id": "9m6bDAphynTB"
    },
    {
      "cell_type": "code",
      "source": [
        "# Query all users and print their details\n",
        "students = session.query(Student).all()\n",
        "for student in students:\n",
        "    print(f'Student ID: {student.id}, Name: {student.name}, Age: {student.age}')\n"
      ],
      "metadata": {
        "id": "thms-wbTypjB"
      },
      "id": "thms-wbTypjB",
      "execution_count": null,
      "outputs": []
    },
    {
      "cell_type": "markdown",
      "source": [
        "### 8. Update Data (optional): Update data in the database:"
      ],
      "metadata": {
        "id": "RNcoHxUcyxxN"
      },
      "id": "RNcoHxUcyxxN"
    },
    {
      "cell_type": "code",
      "source": [
        "# Update a student's age\n",
        "student_to_update = session.query(Student).filter_by(name='John Doe').first()\n",
        "if student_to_update:\n",
        "    student_to_update.age = 35\n",
        "    session.commit()\n"
      ],
      "metadata": {
        "id": "ixOQ6SMPy0jv"
      },
      "id": "ixOQ6SMPy0jv",
      "execution_count": null,
      "outputs": []
    },
    {
      "cell_type": "markdown",
      "source": [
        "### 9. Delete Data (optional): Delete data from the database:"
      ],
      "metadata": {
        "id": "Bw4PKYhMzA-1"
      },
      "id": "Bw4PKYhMzA-1"
    },
    {
      "cell_type": "code",
      "source": [
        "# Deleting a student\n",
        "student_to_delete = session.query(Student).filter_by(name='John Doe').first()\n",
        "if student_to_delete:\n",
        "    session.delete(student_to_delete)\n",
        "    session.commit()\n"
      ],
      "metadata": {
        "id": "5vd9Ca7tzDCU"
      },
      "id": "5vd9Ca7tzDCU",
      "execution_count": null,
      "outputs": []
    },
    {
      "cell_type": "markdown",
      "source": [
        "## Note:"
      ],
      "metadata": {
        "id": "LgygbBVUzQ3h"
      },
      "id": "LgygbBVUzQ3h"
    },
    {
      "cell_type": "markdown",
      "source": [
        "Make sure to handle exceptions and errors appropriately in a production environment. This step-by-step guide should give you a solid foundation for data modeling with SQLAlchemy in Python. Adjust the code based on your specific requirements and use cases."
      ],
      "metadata": {
        "id": "U-9k8GWAzU9h"
      },
      "id": "U-9k8GWAzU9h"
    },
    {
      "cell_type": "markdown",
      "source": [
        "## Tips for data modeling\n",
        "\n",
        "\n"
      ],
      "metadata": {
        "id": "0bMbF_BDviS_"
      },
      "id": "0bMbF_BDviS_"
    },
    {
      "cell_type": "markdown",
      "source": [
        "Here are some tips for data modeling:\n",
        "\n",
        "- **Start with a clear understanding of the business requirements.** What data do you need to store in order to support your business processes?\n",
        "- **Normalize the data**. This means organizing the data into tables in a way that minimizes redundancy and anomalies.\n",
        "- **Use consistent naming conventions.** This will make the database easier to understand and maintain.\n",
        "- **Document the data model.** This will help you and others to understand the structure of the database and how it works."
      ],
      "metadata": {
        "id": "JqVp_lUwvqPZ"
      },
      "id": "JqVp_lUwvqPZ"
    },
    {
      "cell_type": "markdown",
      "source": [
        "## Conclusion\n",
        "\n"
      ],
      "metadata": {
        "id": "veDUSuyJwGMI"
      },
      "id": "veDUSuyJwGMI"
    },
    {
      "cell_type": "markdown",
      "source": [
        "**Data modeling** is an essential part of database design. By following the steps above, you can create a data model that will help you to build a database that is efficient, easy to use, and scalable."
      ],
      "metadata": {
        "id": "03O7zKA2wLWe"
      },
      "id": "03O7zKA2wLWe"
    }
  ],
  "metadata": {
    "kernelspec": {
      "display_name": "Python 3",
      "language": "python",
      "name": "python3"
    },
    "language_info": {
      "codemirror_mode": {
        "name": "ipython",
        "version": 3
      },
      "file_extension": ".py",
      "mimetype": "text/x-python",
      "name": "python",
      "nbconvert_exporter": "python",
      "pygments_lexer": "ipython3",
      "version": "3.9.10"
    },
    "colab": {
      "provenance": []
    }
  },
  "nbformat": 4,
  "nbformat_minor": 5
}