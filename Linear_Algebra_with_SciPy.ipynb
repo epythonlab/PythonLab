{
  "nbformat": 4,
  "nbformat_minor": 0,
  "metadata": {
    "colab": {
      "private_outputs": true,
      "provenance": [],
      "authorship_tag": "ABX9TyOrZYCxU7UyRGCciriQd0GP",
      "include_colab_link": true
    },
    "kernelspec": {
      "name": "python3",
      "display_name": "Python 3"
    },
    "language_info": {
      "name": "python"
    }
  },
  "cells": [
    {
      "cell_type": "markdown",
      "metadata": {
        "id": "view-in-github",
        "colab_type": "text"
      },
      "source": [
        "<a href=\"https://colab.research.google.com/github/epythonlab/PythonLab/blob/master/Linear_Algebra_with_SciPy.ipynb\" target=\"_parent\"><img src=\"https://colab.research.google.com/assets/colab-badge.svg\" alt=\"Open In Colab\"/></a>"
      ]
    },
    {
      "cell_type": "markdown",
      "source": [
        "# Linear Algerbra with SciPy Step by step"
      ],
      "metadata": {
        "id": "akoUjjtrDhKf"
      }
    },
    {
      "cell_type": "markdown",
      "source": [
        "# Step by step"
      ],
      "metadata": {
        "id": "0RpFw_OlEatk"
      }
    },
    {
      "cell_type": "markdown",
      "source": [
        "## 1. Vector Operations:\n"
      ],
      "metadata": {
        "id": "Xa2HXTPXEXxg"
      }
    },
    {
      "cell_type": "markdown",
      "source": [
        "Vectors are one-dimensional arrays that represent quantities with magnitude and direction.\n",
        "- `SciPy`, along with `NumPy`, provides various functions for performing operations on vectors.\n",
        "\n",
        "- In the tutorial, I will demonstrate two fundamental vector operations:\n",
        "\n"
      ],
      "metadata": {
        "id": "dY3yiK5fEbZS"
      }
    },
    {
      "cell_type": "markdown",
      "source": [
        "### Dot Product:\n",
        "\n"
      ],
      "metadata": {
        "id": "jmUqz20vF-zq"
      }
    },
    {
      "cell_type": "markdown",
      "source": [
        "The dot product (also known as the scalar product) of two vectors measures the similarity between them.\n",
        "- It returns a scalar value and is defined as the sum of the element-wise products of the two vectors.\n",
        "- The dot product is used in various applications, including calculating angles and projections."
      ],
      "metadata": {
        "id": "lHC7DCaeGBev"
      }
    },
    {
      "cell_type": "markdown",
      "source": [
        "### Cross Product:"
      ],
      "metadata": {
        "id": "hBoyQdUAGNSs"
      }
    },
    {
      "cell_type": "markdown",
      "source": [
        "The cross product (also known as the vector product) is specific to three-dimensional vectors.\n",
        "- It returns a vector that is perpendicular to both input vectors.\n",
        "- The cross product is used in geometry and physics to calculate the normal vector of a plane or to compute torques in mechanics."
      ],
      "metadata": {
        "id": "2Oqg8a7qGQLT"
      }
    },
    {
      "cell_type": "markdown",
      "source": [
        "### Mathematical Explanation:\n",
        "Let's consider two vectors, v1 and v2:\n",
        "\n"
      ],
      "metadata": {
        "id": "l6Ski66MGg7f"
      }
    },
    {
      "cell_type": "markdown",
      "source": [
        "$v1 = [1, 2, 3]$\n",
        "\n",
        "$v2 = [4, 5, 6]$\n",
        "\n",
        "I will perform the following operations:\n",
        "\n",
        "- Dot Product: The dot product of $v1$ and $v2$ is calculated as follows:\n",
        "\n",
        "    - dot_product = $v1[0] * v2[0] + v1[1] * v2[1] + v1[2] * v2[2]$\n",
        "\n",
        "- Cross Product: The cross product is only applicable to three-dimensional vectors.\n",
        "\n",
        "For $v1$ and $v2$, the cross product cross_product is given by:\n",
        "\n",
        "- cross_product = $[v1[1]*v2[2] - v1[2]*v2[1], v1[2]*v2[0] - v1[0]*v2[2], v1[0]*v2[1] - v1[1]*v2[0]]$"
      ],
      "metadata": {
        "id": "fSuIVZJJGkt7"
      }
    },
    {
      "cell_type": "markdown",
      "source": [
        "### Let's implement this in Python"
      ],
      "metadata": {
        "id": "EYGTSqbsKV7k"
      }
    },
    {
      "cell_type": "code",
      "execution_count": null,
      "metadata": {
        "id": "IgrU5lReDZ8G"
      },
      "outputs": [],
      "source": [
        "import numpy as np\n",
        "v1 = np.array([1, 2, 3])\n",
        "v2 = np.array([4, 5, 6])\n",
        "\n",
        "\n"
      ]
    },
    {
      "cell_type": "code",
      "source": [
        "# dot product of two vectors\n",
        "dot_product = np.dot(v1, v2)\n",
        "dot_product"
      ],
      "metadata": {
        "id": "lllciZo4LVuj"
      },
      "execution_count": null,
      "outputs": []
    },
    {
      "cell_type": "code",
      "source": [
        "# cross product of two vectors (applicable to 3D vectors)\n",
        "cross_product = np.cross(v1, v2)\n",
        "cross_product"
      ],
      "metadata": {
        "id": "HDu_ZUfNLwtk"
      },
      "execution_count": null,
      "outputs": []
    }
  ]
}