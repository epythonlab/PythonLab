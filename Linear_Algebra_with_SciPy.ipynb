{
  "nbformat": 4,
  "nbformat_minor": 0,
  "metadata": {
    "colab": {
      "private_outputs": true,
      "provenance": [],
      "authorship_tag": "ABX9TyPNCwyWi/rnlQJecCM2OXaW",
      "include_colab_link": true
    },
    "kernelspec": {
      "name": "python3",
      "display_name": "Python 3"
    },
    "language_info": {
      "name": "python"
    }
  },
  "cells": [
    {
      "cell_type": "markdown",
      "metadata": {
        "id": "view-in-github",
        "colab_type": "text"
      },
      "source": [
        "<a href=\"https://colab.research.google.com/github/epythonlab/PythonLab/blob/master/Linear_Algebra_with_SciPy.ipynb\" target=\"_parent\"><img src=\"https://colab.research.google.com/assets/colab-badge.svg\" alt=\"Open In Colab\"/></a>"
      ]
    },
    {
      "cell_type": "markdown",
      "source": [
        "# Linear Algerbra in Python with SciPy Step by step"
      ],
      "metadata": {
        "id": "akoUjjtrDhKf"
      }
    },
    {
      "cell_type": "markdown",
      "source": [
        "# First Day: Step by step"
      ],
      "metadata": {
        "id": "0RpFw_OlEatk"
      }
    },
    {
      "cell_type": "markdown",
      "source": [
        "## 1. Vector Operations:\n"
      ],
      "metadata": {
        "id": "Xa2HXTPXEXxg"
      }
    },
    {
      "cell_type": "markdown",
      "source": [
        "Vectors are one-dimensional arrays that represent quantities with magnitude and direction.\n",
        "- `SciPy`, along with `NumPy`, provides various functions for performing operations on vectors.\n",
        "\n",
        "- In the tutorial, I will demonstrate two fundamental vector operations:\n",
        "\n"
      ],
      "metadata": {
        "id": "dY3yiK5fEbZS"
      }
    },
    {
      "cell_type": "markdown",
      "source": [
        "### Dot Product:\n",
        "\n"
      ],
      "metadata": {
        "id": "jmUqz20vF-zq"
      }
    },
    {
      "cell_type": "markdown",
      "source": [
        "The dot product (also known as the scalar product) of two vectors measures the similarity between them.\n",
        "- It returns a scalar value and is defined as the sum of the element-wise products of the two vectors.\n",
        "- The dot product is used in various applications, including calculating angles and projections."
      ],
      "metadata": {
        "id": "lHC7DCaeGBev"
      }
    },
    {
      "cell_type": "markdown",
      "source": [
        "### Cross Product:"
      ],
      "metadata": {
        "id": "hBoyQdUAGNSs"
      }
    },
    {
      "cell_type": "markdown",
      "source": [
        "The cross product (also known as the vector product) is specific to three-dimensional vectors.\n",
        "- It returns a vector that is perpendicular to both input vectors.\n",
        "- The cross product is used in geometry and physics to calculate the normal vector of a plane or to compute torques in mechanics."
      ],
      "metadata": {
        "id": "2Oqg8a7qGQLT"
      }
    },
    {
      "cell_type": "markdown",
      "source": [
        "### Mathematical Explanation:\n",
        "Let's consider two vectors, v1 and v2:\n",
        "\n"
      ],
      "metadata": {
        "id": "l6Ski66MGg7f"
      }
    },
    {
      "cell_type": "markdown",
      "source": [
        "$v1 = [1, 2, 3]$\n",
        "\n",
        "$v2 = [4, 5, 6]$\n",
        "\n",
        "I will perform the following operations:\n",
        "\n",
        "- Dot Product: The dot product of $v1$ and $v2$ is calculated as follows:\n",
        "\n",
        "    - dot_product = $v1[0] * v2[0] + v1[1] * v2[1] + v1[2] * v2[2]$\n",
        "\n",
        "- Cross Product: The cross product is only applicable to three-dimensional vectors.\n",
        "\n",
        "For $v1$ and $v2$, the cross product cross_product is given by:\n",
        "\n",
        "- cross_product = $[v1[1]*v2[2] - v1[2]*v2[1], v1[2]*v2[0] - v1[0]*v2[2], v1[0]*v2[1] - v1[1]*v2[0]]$"
      ],
      "metadata": {
        "id": "fSuIVZJJGkt7"
      }
    },
    {
      "cell_type": "markdown",
      "source": [
        "### Let's implement this in Python"
      ],
      "metadata": {
        "id": "EYGTSqbsKV7k"
      }
    },
    {
      "cell_type": "code",
      "source": [
        "# import numpy\n",
        "import numpy as np"
      ],
      "metadata": {
        "id": "Q5D-Q77xPbFu"
      },
      "execution_count": null,
      "outputs": []
    },
    {
      "cell_type": "code",
      "source": [
        "# Create two vectors\n",
        "v1 = [1, 2, 3]\n",
        "v2 = [4, 5, 6]"
      ],
      "metadata": {
        "id": "PI8DaLexTE2z"
      },
      "execution_count": null,
      "outputs": []
    },
    {
      "cell_type": "code",
      "source": [
        "# Dot product of two vectors\n",
        "dot_product = np.dot(v1, v2)\n",
        "dot_product"
      ],
      "metadata": {
        "id": "c9JC86EGTNO2"
      },
      "execution_count": null,
      "outputs": []
    },
    {
      "cell_type": "code",
      "source": [
        "# Cross product of two vectors (applicable for 3D vectors)\n",
        "cross_product = np.cross(v1, v2)\n",
        "cross_product"
      ],
      "metadata": {
        "id": "rHGz-Ja5TYoq"
      },
      "execution_count": null,
      "outputs": []
    },
    {
      "cell_type": "markdown",
      "source": [
        "# Day 2: Step by step"
      ],
      "metadata": {
        "id": "rhTzGIoPXCvS"
      }
    },
    {
      "cell_type": "markdown",
      "source": [
        "# 2. Matrix Operations:"
      ],
      "metadata": {
        "id": "N5tvRUK5W9i4"
      }
    },
    {
      "cell_type": "markdown",
      "source": [
        "Matrices are two-dimensional arrays used to represent linear transformations and systems of equations.\n",
        "- `SciPy's` `linalg` module provides various functions for matrix operations.\n",
        "\n",
        "- In this day 2 tutorial, I will cover essential matrix operations:"
      ],
      "metadata": {
        "id": "39ox59PEXWtj"
      }
    },
    {
      "cell_type": "markdown",
      "source": [
        "## Matrix Multiplication:\n"
      ],
      "metadata": {
        "id": "hKHrIyvYXmKf"
      }
    },
    {
      "cell_type": "markdown",
      "source": [
        " Matrix multiplication is a fundamental operation in linear algebra.\n",
        " - It combines rows and columns of two matrices to produce a new matrix.\n",
        "\n",
        " - Matrix multiplication is essential for solving systems of linear equations and for various transformations in computer graphics and physics.\n",
        "\n"
      ],
      "metadata": {
        "id": "5BFBgvsHXyQ1"
      }
    },
    {
      "cell_type": "markdown",
      "source": [
        "## Mathematical Explanation:\n",
        "Let's consider two matrices, A and B:\n",
        "\n",
        "$A = | 1 2 || 3  4 |$\n",
        "\n",
        "$B = | 5  6 || 7  8 |$\n",
        "\n",
        "I will perform the following operations:\n",
        "\n",
        "Matrix Multiplication: The matrix multiplication of A and B results in a new matrix:\n",
        "\n",
        "matrix_product = $A * B$"
      ],
      "metadata": {
        "id": "xxEt9LTqYnQR"
      }
    },
    {
      "cell_type": "code",
      "source": [
        "# import numpy\n",
        "import numpy as np"
      ],
      "metadata": {
        "id": "i-vHpTSEX2DP"
      },
      "execution_count": null,
      "outputs": []
    },
    {
      "cell_type": "code",
      "source": [
        "# Create two matrices\n",
        "A = np.array([[1,2],[3, 4]])\n",
        "B = np.array([[5, 6], [7, 8]])"
      ],
      "metadata": {
        "id": "AxURyHPbvqjb"
      },
      "execution_count": null,
      "outputs": []
    },
    {
      "cell_type": "code",
      "source": [
        "# Matrice multiplication\n",
        "product = np.matmul(A, B)\n",
        "product"
      ],
      "metadata": {
        "id": "KmZl0zCYwaGq"
      },
      "execution_count": null,
      "outputs": []
    },
    {
      "cell_type": "markdown",
      "source": [
        "## Matrix Determinant:"
      ],
      "metadata": {
        "id": "M0M7lELCX2tw"
      }
    },
    {
      "cell_type": "markdown",
      "source": [
        " The determinant of a square matrix represents the scaling factor of the linear transformation defined by that matrix.\n",
        " - If the determinant is zero, the matrix is singular, and its inverse does not exist.\n",
        " - Determinants play a crucial role in solving linear systems and calculating eigenvalues.\n",
        "\n"
      ],
      "metadata": {
        "id": "FpWJESjPX5dA"
      }
    },
    {
      "cell_type": "markdown",
      "source": [
        "## Mathematical Explanation:\n",
        "Matrix Determinant:\n",
        "- The determinant of a square matrix `A` is calculated as:\n",
        "\n",
        "det_A = $ad - bc$, where `a, b, c`, and `d` are elements of `A`."
      ],
      "metadata": {
        "id": "jhWmygoEz4jv"
      }
    },
    {
      "cell_type": "code",
      "source": [
        "import numpy as np\n",
        "from scipy import linalg"
      ],
      "metadata": {
        "id": "hS1oai3XX7PY"
      },
      "execution_count": null,
      "outputs": []
    },
    {
      "cell_type": "code",
      "source": [
        "# Define matrix A\n",
        "A = np.array([[1, 2], [3, 4]])\n",
        "# the determinant of matrix A\n",
        "det_A = linalg.det(A) # (1*4) - (2*3) = -2\n",
        "det_A"
      ],
      "metadata": {
        "id": "TqUXrkwi0Unc"
      },
      "execution_count": null,
      "outputs": []
    },
    {
      "cell_type": "markdown",
      "source": [
        "## Matrix Inverse:\n"
      ],
      "metadata": {
        "id": "xNvCODUJX7ip"
      }
    },
    {
      "cell_type": "markdown",
      "source": [
        "- The inverse of a square matrix undoes the linear transformation represented by that matrix.\n",
        "- If a matrix is non-singular (i.e., its determinant is non-zero), it has an inverse.\n",
        "- Matrix inverses are crucial for solving linear systems, and they are used in various algorithms and computations."
      ],
      "metadata": {
        "id": "owpGOlz8X-mj"
      }
    },
    {
      "cell_type": "markdown",
      "source": [
        "## Mathematical Explanations:\n",
        "Matrix Inverse:\n",
        "- The inverse of a square matrix `A` is calculated as:\n",
        "\n",
        "inv_A = $(1 / det_A) * | d  -b || -c  a |$"
      ],
      "metadata": {
        "id": "3_J_Pc4f1qHu"
      }
    },
    {
      "cell_type": "code",
      "source": [
        "import numpy as np\n",
        "from scipy import linalg\n",
        "# create Matrix A\n",
        "A = np.array([[1, 2], [3, 4]])\n",
        "\n",
        "# find the inverse of A\n",
        "inv_A = linalg.inv(A) # 1/-2 * [[4, -2], [-3, 1]]\n",
        "#[[-2, 1], [1.5, -0.5]]\n",
        "print(inv_A)"
      ],
      "metadata": {
        "id": "PJcE6hVb15Au"
      },
      "execution_count": null,
      "outputs": []
    },
    {
      "cell_type": "code",
      "source": [],
      "metadata": {
        "id": "KTGq7AU92Is9"
      },
      "execution_count": null,
      "outputs": []
    }
  ]
}