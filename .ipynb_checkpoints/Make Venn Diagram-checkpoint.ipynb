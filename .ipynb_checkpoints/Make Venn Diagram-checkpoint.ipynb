{
 "cells": [
  {
   "cell_type": "markdown",
   "id": "b22dd62a-b9ac-4cef-ba4c-fb9b996e96d1",
   "metadata": {},
   "source": [
    "## How to Make Venn Diagrams with Python"
   ]
  },
  {
   "cell_type": "code",
   "execution_count": 2,
   "id": "609e2672-37c2-4797-8862-5b20fbf96732",
   "metadata": {},
   "outputs": [],
   "source": [
    "# uncmment below line to install matplotlip venn\n",
    "\n",
    "#!pip install matplotlib-venn"
   ]
  },
  {
   "cell_type": "code",
   "execution_count": 5,
   "id": "2474075f-ad7f-4e54-bfa2-9afb860ad155",
   "metadata": {},
   "outputs": [],
   "source": [
    "# import the module\n",
    "from matplotlib_venn import venn2, venn3, venn2_circles, venn3_circles\n",
    "from matplotlib import pyplot as plt"
   ]
  },
  {
   "cell_type": "code",
   "execution_count": null,
   "id": "4f456fc3-a6da-4928-86f2-78372af94c94",
   "metadata": {},
   "outputs": [],
   "source": [
    "# make lists and compare\n",
    "genes_list1 = [\"gene1\", \"gene2\", \"gene3\", \n",
    "               \"gene4\", \"gene5\", \"gene6\",\n",
    "               \"gene7\", \"gene8\", \"gene9\", \"gene10\"]\n",
    "\n",
    "genes_list2 = [\"gene0\", \"gene1\", \"gene2\", \"gene3\", \n",
    "               \"gene8\", \"gene9\", \"gene10\", \"gene11\", \n",
    "               \"gene12\", \"gene13\"]\n",
    "\n",
    "\n"
   ]
  }
 ],
 "metadata": {
  "kernelspec": {
   "display_name": "Python 3",
   "language": "python",
   "name": "python3"
  },
  "language_info": {
   "codemirror_mode": {
    "name": "ipython",
    "version": 3
   },
   "file_extension": ".py",
   "mimetype": "text/x-python",
   "name": "python",
   "nbconvert_exporter": "python",
   "pygments_lexer": "ipython3",
   "version": "3.9.10"
  },
  "widgets": {
   "application/vnd.jupyter.widget-state+json": {
    "state": {},
    "version_major": 2,
    "version_minor": 0
   }
  }
 },
 "nbformat": 4,
 "nbformat_minor": 5
}
