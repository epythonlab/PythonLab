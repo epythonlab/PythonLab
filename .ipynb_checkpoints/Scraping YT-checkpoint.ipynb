{
 "cells": [
  {
   "cell_type": "markdown",
   "id": "50b4e623-5633-470b-9509-99a4f6342cda",
   "metadata": {},
   "source": [
    "# How to Get Youtube Video Keywords in a few Lines of Code"
   ]
  },
  {
   "cell_type": "markdown",
   "id": "9250ecd6-7814-45dd-90fa-d9098df674d9",
   "metadata": {},
   "source": [
    "#### Step 1: install pytube library"
   ]
  },
  {
   "cell_type": "code",
   "execution_count": 1,
   "id": "9dfe6234-5e5d-488c-b70f-d4b2a50e221f",
   "metadata": {},
   "outputs": [],
   "source": [
    "# uncomment, the below line to install the libray\n",
    "\n",
    "#!pip install pytube"
   ]
  },
  {
   "cell_type": "markdown",
   "id": "3f3da3de-d092-48c0-b4cd-73db7204f9a2",
   "metadata": {},
   "source": [
    "### Step 2: Define the function to get keywords"
   ]
  },
  {
   "cell_type": "code",
   "execution_count": 2,
   "id": "9bbea6bf-db55-42c8-b746-b9c59aadb8ee",
   "metadata": {},
   "outputs": [],
   "source": [
    "# import pytube library\n",
    "\n",
    "# define the function\n",
    "\n"
   ]
  },
  {
   "cell_type": "code",
   "execution_count": 3,
   "id": "6aafc962-15bc-4388-8500-8e703b44be2a",
   "metadata": {},
   "outputs": [
    {
     "data": {
      "text/plain": [
       "['Python',\n",
       " 'python for hackers',\n",
       " 'python for everyone',\n",
       " 'python for everybody',\n",
       " 'python right now',\n",
       " 'you need to learn python right now',\n",
       " 'learn python',\n",
       " 'python for beginners',\n",
       " 'python tutorial',\n",
       " 'python programming',\n",
       " 'how to learn python',\n",
       " 'python full course',\n",
       " 'python course',\n",
       " 'learn python programming',\n",
       " 'python tutorial for beginners',\n",
       " 'cyber security',\n",
       " 'ethical hacking',\n",
       " 'python 3',\n",
       " 'python language',\n",
       " 'python programming language',\n",
       " 'python crash course',\n",
       " 'python basics']"
      ]
     },
     "execution_count": 3,
     "metadata": {},
     "output_type": "execute_result"
    }
   ],
   "source": [
    "# call the function\n"
   ]
  },
  {
   "cell_type": "code",
   "execution_count": null,
   "id": "e268b9e9-00da-4e64-8e26-b3d3f4bf9f89",
   "metadata": {},
   "outputs": [],
   "source": []
  }
 ],
 "metadata": {
  "kernelspec": {
   "display_name": "Python 3",
   "language": "python",
   "name": "python3"
  },
  "language_info": {
   "codemirror_mode": {
    "name": "ipython",
    "version": 3
   },
   "file_extension": ".py",
   "mimetype": "text/x-python",
   "name": "python",
   "nbconvert_exporter": "python",
   "pygments_lexer": "ipython3",
   "version": "3.9.10"
  },
  "widgets": {
   "application/vnd.jupyter.widget-state+json": {
    "state": {},
    "version_major": 2,
    "version_minor": 0
   }
  }
 },
 "nbformat": 4,
 "nbformat_minor": 5
}
