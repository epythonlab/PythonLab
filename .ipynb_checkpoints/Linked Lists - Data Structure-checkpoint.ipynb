{
 "cells": [
  {
   "cell_type": "markdown",
   "id": "f8930bb2-335e-4f67-b424-c50167bafbee",
   "metadata": {},
   "source": [
    "<center>\n",
    "    <img src=\"images/logo.jpg\" width=\"150\" alt=\"EPYTHON LAB logo\"  />\n",
    "</center>\n",
    "<hr>\n",
    "\n",
    "<h2 id='string' align='center'>Data Structures in Python </h2>\n",
    "<h3 id='string' align='center'>Linked Lists </h2>\n"
   ]
  },
  {
   "cell_type": "markdown",
   "id": "c52eaeda-76ca-46df-a794-8dbc028f2ec2",
   "metadata": {},
   "source": [
    "## Why Linked Lists?"
   ]
  },
  {
   "cell_type": "markdown",
   "id": "314187bf-2f28-4dc2-96c1-5855ac59d13c",
   "metadata": {},
   "source": [
    "> Very common in techincal inverviews"
   ]
  },
  {
   "cell_type": "markdown",
   "id": "1e87369d-5fc1-4766-ba2f-30ba1757e818",
   "metadata": {},
   "source": [
    "### In Interviews, Use a Linked List When...\n",
    "> - You don't know the number of elements in your list before you start.\n",
    "\n",
    "> - You have lists that need to grow (e.g. accepting input from files, the internet, other streams, etc.)\n",
    "> - You need to implement a more sophisticated data structure like a heap, stack, or queue."
   ]
  },
  {
   "cell_type": "markdown",
   "id": "37110acc-110b-4e16-b6b3-a159161bc44c",
   "metadata": {},
   "source": [
    "---"
   ]
  },
  {
   "cell_type": "markdown",
   "id": "ed697c2c-bf2f-42f9-9544-83138ad3f858",
   "metadata": {},
   "source": [
    "A linked list is a sequential-access data structure used for storing ordered elements.\n",
    "\n",
    "> prioritize quick and easy data insertion and deletion over item lookup.\n",
    "\n",
    "> All linked lists are collections of **node** data structures that are connected by **pointers** - that's where the **\"link\"** in **\"linked list\"** comes from."
   ]
  },
  {
   "cell_type": "markdown",
   "id": "e5446084-e5ee-472c-adc1-1a97bdbbda7d",
   "metadata": {},
   "source": [
    "A linked list is a linear collection of data elements whose order is not given by their physical placement in memory.\n",
    "\n",
    "<img src=\"images/linked-list.jpg\" width=\"600\" align=\"center\" />"
   ]
  },
  {
   "cell_type": "markdown",
   "id": "31d9196d-8465-4de7-b753-a224895f5b97",
   "metadata": {},
   "source": [
    "## Basic Concepts"
   ]
  },
  {
   "cell_type": "markdown",
   "id": "3d968ea4-fe57-45e4-a88f-1fbe975ee018",
   "metadata": {},
   "source": [
    "<ul type='circle' color='red'>\n",
    "    \n",
    "    <li>Each record of a linked list is often called an <strong>'element' or 'node'</strong>.</li>\n",
    "\n",
    "<li> The field of each node that contains the address of the next node is usually called the <strong>'next link' or 'next pointer'</strong>.</li>\n",
    "\n",
    "<li>The remaining fields are known as the <strong>'data', 'information', 'value', 'cargo', or 'payload'</strong> fields.</li>\n",
    "<li>The <strong>head'</strong> of a list is its first node.</li> \n",
    "<li>The <strong>'tail'</strong> of a list may refer either to the rest of the list after the head, or to the last node in the list.</li> </ul>\n"
   ]
  },
  {
   "cell_type": "markdown",
   "id": "50e37a79-e303-4641-8da0-50c76f46d951",
   "metadata": {},
   "source": [
    "## Types of Linked Lists"
   ]
  },
  {
   "cell_type": "markdown",
   "id": "e509e3b0-7933-4ba5-83cb-ed8bf1f30973",
   "metadata": {},
   "source": [
    "<ol type='number'>\n",
    "    <li> <strong> Singly Linked List </strong></li>\n",
    "    <li> <strong> Doubly Linked List </strong></li>\n",
    "</ol>"
   ]
  },
  {
   "cell_type": "markdown",
   "id": "5aa7e296-7cad-4024-98d8-4036d1a551d0",
   "metadata": {},
   "source": [
    "### Singly linked list: (most common)\n",
    "- Each node contains the data we want to store, as well as a next pointer to the next node in the linked list. \n",
    "\n",
    "- Singly linked lists support traversal in only one direction.\n",
    "\n",
    "\n",
    "**Common interview question:** Find a way to access earlier information in the list."
   ]
  },
  {
   "cell_type": "markdown",
   "id": "75178376-9e64-4b8b-a9ab-dd895d60dc86",
   "metadata": {},
   "source": [
    "<img src=\"images/singly.png\" width=\"400\" align=\"center\" />"
   ]
  },
  {
   "cell_type": "markdown",
   "id": "1bb9ec65-e17f-4b9c-aa4c-d0f49e38812a",
   "metadata": {},
   "source": [
    "- **Pointer:** The memory location of a data structure.\n",
    "- **Node:** A data structure with two fields. The data field contains the information we want to store, and the next field, which is a pointer to the next node in the linked list. \n",
    "\n",
    "- A linked list can be thought of as a series of nodes. "
   ]
  },
  {
   "cell_type": "markdown",
   "id": "5507458e-10e8-4411-af89-040826b55d47",
   "metadata": {},
   "source": [
    "<img src=\"images/singly2.png\" width=\"600\" align=\"center\" />"
   ]
  },
  {
   "cell_type": "markdown",
   "id": "acdbf974-6c45-47b1-8f47-ebe28da360ea",
   "metadata": {},
   "source": [
    "A node for a singly linked list\n",
    "\n",
    "- **Head:** A pointer to the first node in the linked list. All nodes are accessible from the head node by visiting the chain of previous nodes.\n",
    "- **Tail:** The last element in the linked list. The `next` pointer of the tail element points to `null` to indicate the end of the list.\n",
    "- **Size:** The number of elements in the linked list."
   ]
  },
  {
   "cell_type": "markdown",
   "id": "a2d09381-f622-4609-aeb0-c9ddf0914f5b",
   "metadata": {},
   "source": [
    "#### Common Linked List Operations\n",
    "<img src=\"images/linked-operation.png\" align=\"center\" />"
   ]
  },
  {
   "cell_type": "markdown",
   "id": "191c8c51-bc33-43a0-82a0-2c8f81c62bfe",
   "metadata": {},
   "source": [
    "## Example: How to Create a Singly Linked List"
   ]
  },
  {
   "cell_type": "markdown",
   "id": "0ce67d0a-3ccf-4b06-a0c4-cfd6b7ca4069",
   "metadata": {},
   "source": [
    "### 1. Start with a single Node"
   ]
  },
  {
   "cell_type": "code",
   "execution_count": 4,
   "id": "9a79b960-4bc3-450e-ae34-faafa12df827",
   "metadata": {},
   "outputs": [
    {
     "name": "stdout",
     "output_type": "stream",
     "text": [
      "3\n"
     ]
    }
   ],
   "source": [
    "# A single node of a singly linked list\n",
    "class Node:\n",
    "    #constructor\n",
    "    def __init__(self, data, next=None):\n",
    "        \n",
    "        self.data = data\n",
    "        self.next = next\n",
    "\n",
    "# create a single node\n",
    "first = Node(3)\n",
    "# access the data in a single node\n",
    "print(first.data)\n",
    "        "
   ]
  },
  {
   "cell_type": "markdown",
   "id": "9267f470-0831-42a7-aa58-ee63265a6f8d",
   "metadata": {},
   "source": [
    "### 2. Join nodes to get a linked list"
   ]
  },
  {
   "cell_type": "markdown",
   "id": "41d80f26-d013-4b49-a46f-9c9a06ee3e4f",
   "metadata": {},
   "source": [
    "For this, we create a `LinkedList` class with a single `head` pointer"
   ]
  },
  {
   "cell_type": "code",
   "execution_count": 5,
   "id": "fb066aea-1986-4aaf-95f7-2c8c4f5e9564",
   "metadata": {},
   "outputs": [
    {
     "name": "stdout",
     "output_type": "stream",
     "text": [
      "3\n"
     ]
    }
   ],
   "source": [
    "# A single node of a singly linked list\n",
    "class Node:\n",
    "    \n",
    "    # constructor\n",
    "    def __init__(self, data=None, next=None):\n",
    "        self.data = data\n",
    "        self.next = next\n",
    "\n",
    "# A LinkedList class with a single head node\n",
    "class LinkedList:\n",
    "    \n",
    "    def __init__(self):\n",
    "        self.head = None\n",
    "\n",
    "# create LinkedList object with a single node\n",
    "\n",
    "ll = LinkedList()\n",
    "# a single head node\n",
    "ll.head = Node(3)\n",
    "\n",
    "print(ll.head.data)\n",
    "        \n",
    "        "
   ]
  },
  {
   "cell_type": "markdown",
   "id": "a7f8a34e-ae36-4361-9b40-b0ded7bc4fd9",
   "metadata": {},
   "source": [
    "### 3. Add required methods to the LinkedList class\n",
    "\n",
    "In this, we can add various linked list manipulation methods in our implementation.\n",
    "\n",
    "Let’s have a look at the `insertion and print` methods for our `LinkedList` implementation below:"
   ]
  },
  {
   "cell_type": "code",
   "execution_count": 11,
   "id": "e4e0e541-32fd-4bc8-86f2-4b739d4645b1",
   "metadata": {},
   "outputs": [
    {
     "ename": "IndentationError",
     "evalue": "unindent does not match any outer indentation level (<tokenize>, line 15)",
     "output_type": "error",
     "traceback": [
      "\u001b[0;36m  File \u001b[0;32m\"<tokenize>\"\u001b[0;36m, line \u001b[0;32m15\u001b[0m\n\u001b[0;31m    '''You can add elements to either the beginning,\u001b[0m\n\u001b[0m    ^\u001b[0m\n\u001b[0;31mIndentationError\u001b[0m\u001b[0;31m:\u001b[0m unindent does not match any outer indentation level\n"
     ]
    }
   ],
   "source": [
    "# A single node of a singly linked list\n",
    "class Node:\n",
    "    \n",
    "  # constructor\n",
    "  def __init__(self, data = None, next=None): \n",
    "    self.data = data\n",
    "    self.next = next\n",
    "\n",
    "# A Linked List class with a single head node\n",
    "class LinkedList:\n",
    "    \n",
    "    # constructor\n",
    "    def __init__(self):  \n",
    "        self.head = None\n",
    "\n",
    "    \n",
    "    # insertion method for the linked list\n",
    "    # You can add elements to either the beginning,middle or end of the linked list.\n",
    "\n",
    "      def insertAtEnd(self, data):\n",
    "            \"\"\"\n",
    "                Insert at end\n",
    "                -----------\n",
    "                Store data\n",
    "                Traverse to last node\n",
    "                Change next of last node to recently created node\n",
    "                ---\n",
    "            \"\"\"\n",
    "            newNode = Node(data)\n",
    "            if(self.head):\n",
    "                current = self.head\n",
    "                while(current.next):\n",
    "                    current = current.next\n",
    "\n",
    "                current.next = newNode\n",
    "            else:\n",
    "                self.head = newNode\n",
    "\n",
    "      # print method for the linked list\n",
    "\n",
    "      def printLL(self):\n",
    "            \"\"\"\n",
    "                Traverse - access each element of the linked list\n",
    "                ------\n",
    "                How it works\n",
    "                ------------\n",
    "                - we keep the current(temp) to the next one and display \n",
    "                it's contents\n",
    "\n",
    "                When the current(temp) is null, we know that we've reached the end of the\n",
    "                list so we get out of the while loop\n",
    "                ----------  \n",
    "            \"\"\"\n",
    "            current = self.head\n",
    "            print('List Elements are-')\n",
    "\n",
    "            while(current):\n",
    "\n",
    "                print('--->',current.data)\n",
    "\n",
    "                current = current.next\n",
    "\n",
    "# Singly Linked List with insertion and print methods\n",
    "LL = LinkedList()\n",
    "\n",
    "LL.insertAtEnd(3) # insert at the end\n",
    "LL.insertAtEnd(4)\n",
    "LL.insertAtEnd(5)\n",
    "LL.printLL()"
   ]
  },
  {
   "cell_type": "markdown",
   "id": "352714f7-7d7c-4a66-be18-73243a4e8576",
   "metadata": {},
   "source": [
    "---"
   ]
  },
  {
   "cell_type": "markdown",
   "id": "50ce3413-0ac0-4e88-9c22-1ce3ab3bff46",
   "metadata": {},
   "source": [
    "#\n",
    "#\n",
    "#\n",
    "#\n",
    "#\n",
    "#\n",
    "#\n",
    "#"
   ]
  },
  {
   "cell_type": "markdown",
   "id": "28f440df-8498-44a5-8d20-79ace028ada3",
   "metadata": {},
   "source": [
    "### Doubly linked list:\n",
    "- Each node contains the data we want to store, as well as next and previous pointers to the node's neighboring elements. \n",
    "- Doubly linked lists support traversal in both directions.\n",
    "\n",
    "Note: Common interview question: Implement a linked list.\n",
    "\n",
    "Nodes for doubly linked lists need next and previous pointers."
   ]
  },
  {
   "cell_type": "markdown",
   "id": "9b6c81fd-f797-4669-a19d-7fcd559ebd49",
   "metadata": {},
   "source": [
    "<img src=\"images/doubly.png\" width=\"400\" align=\"center\" />"
   ]
  },
  {
   "cell_type": "code",
   "execution_count": null,
   "id": "b706cc16-993e-4f2c-b626-b714f37c008b",
   "metadata": {},
   "outputs": [],
   "source": []
  }
 ],
 "metadata": {
  "kernelspec": {
   "display_name": "Python 3",
   "language": "python",
   "name": "python3"
  },
  "language_info": {
   "codemirror_mode": {
    "name": "ipython",
    "version": 3
   },
   "file_extension": ".py",
   "mimetype": "text/x-python",
   "name": "python",
   "nbconvert_exporter": "python",
   "pygments_lexer": "ipython3",
   "version": "3.9.10"
  },
  "widgets": {
   "application/vnd.jupyter.widget-state+json": {
    "state": {},
    "version_major": 2,
    "version_minor": 0
   }
  }
 },
 "nbformat": 4,
 "nbformat_minor": 5
}
