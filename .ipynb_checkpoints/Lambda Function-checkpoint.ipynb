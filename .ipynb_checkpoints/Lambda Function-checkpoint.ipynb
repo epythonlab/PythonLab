{
 "cells": [
  {
   "cell_type": "markdown",
   "metadata": {
    "init_cell": true
   },
   "source": [
    "<center>\n",
    "    <img src=\"images/logo.jpg\" width=\"150\" alt=\"EPYTHON LAB logo\"  />\n",
    "</center>\n",
    "<hr>\n",
    "\n",
    "<h2 id='string' align='center'>Lambda Function </h2>"
   ]
  },
  {
   "cell_type": "markdown",
   "metadata": {},
   "source": [
    "### What is Function?\n",
    "\n",
    "> A function is a block of code which only runs when it is called. You can pass data, known as parameters, into a function. A function can return data as a result.\n",
    "\n",
    "> A function is a block of organized, reusable code that is used to perform a single, related action. As you already know, Python gives you many built-in functions like `print(), max(), min(), sum(), etc`. but you can also create your own functions."
   ]
  },
  {
   "cell_type": "markdown",
   "metadata": {},
   "source": [
    "<br>"
   ]
  },
  {
   "cell_type": "markdown",
   "metadata": {},
   "source": [
    "You can write your very own Python functions using the `def` keyword, **function headers, docstrings, and function bodies**. However, there's a quicker way to write functions on the fly, and these are called lambda functions because you use the keyword **lambda**."
   ]
  },
  {
   "cell_type": "markdown",
   "metadata": {},
   "source": [
    "#### Example"
   ]
  },
  {
   "cell_type": "markdown",
   "metadata": {},
   "source": [
    "Let's define a function `raise_to_power` that can be able to calculate the power the number. The function takes two arguments `(x and y)` and return the result of `x ** y`."
   ]
  },
  {
   "cell_type": "code",
   "execution_count": 45,
   "metadata": {},
   "outputs": [
    {
     "data": {
      "text/plain": [
       "8"
      ]
     },
     "execution_count": 45,
     "metadata": {},
     "output_type": "execute_result"
    }
   ],
   "source": [
    "# define your function here\n",
    "def raise_to_power(x, y):\n",
    "    \n",
    "    return x ** y\n",
    "\n",
    "# call the function here\n",
    "raise_to_power(2, 3)"
   ]
  },
  {
   "cell_type": "markdown",
   "metadata": {},
   "source": [
    "<hr>\n",
    "<div class=\"alert alert-success alertsuccess\" style=\"margin-top: 30px\">\n",
    "    [TIP]: <strong>A lambda function</strong> is a small anonymous function, which means that it is a function without a name. A lambda function can take any number of arguments, but can only have one expression.  It must have a return value.\n",
    "</div>\n",
    "<hr>"
   ]
  },
  {
   "cell_type": "markdown",
   "metadata": {},
   "source": [
    "Let's create a lambda function"
   ]
  },
  {
   "cell_type": "code",
   "execution_count": 13,
   "metadata": {},
   "outputs": [],
   "source": [
    "# general syntax\n",
    "function_name = lambda arguments: expression"
   ]
  },
  {
   "cell_type": "markdown",
   "metadata": {},
   "source": [
    "Some function definitions are simple enough that they can be converted to a lambda function. By doing this, you write fewer lines of code, which is pretty awesome and will come in handy, especially when you're writing and maintaining big programs."
   ]
  },
  {
   "cell_type": "markdown",
   "metadata": {},
   "source": [
    "Let's convert the `raise_to_power` function to `lambda`"
   ]
  },
  {
   "cell_type": "code",
   "execution_count": 61,
   "metadata": {},
   "outputs": [
    {
     "data": {
      "text/plain": [
       "8"
      ]
     },
     "execution_count": 61,
     "metadata": {},
     "output_type": "execute_result"
    }
   ],
   "source": [
    "# write your code here\n",
    "raise_to_power = lambda x, y : x**y\n",
    "\n",
    "raise_to_power(2, 3)"
   ]
  },
  {
   "cell_type": "markdown",
   "metadata": {},
   "source": [
    "As I mentioned above, the `lambda` functions allow you to write functions in a quick and dirty way, so I wouldn't advise you to use them all the time, but there are situations when they come in handy, like the example below."
   ]
  },
  {
   "cell_type": "markdown",
   "metadata": {},
   "source": [
    "## map() and lambda Function"
   ]
  },
  {
   "cell_type": "markdown",
   "metadata": {},
   "source": [
    "> `map()` function returns a map object(which is an iterator) of the results after applying the given function to each item of a given iterable (list, tuple etc.)\n",
    "\n",
    "\n",
    " > The `map()` function takes two arguments, a function and a sequence such as a list and applies the function over all the elements of the sequence. "
   ]
  },
  {
   "cell_type": "markdown",
   "metadata": {},
   "source": [
    "### Syntax :\n",
    "`map(function, iter)`"
   ]
  },
  {
   "cell_type": "markdown",
   "metadata": {},
   "source": [
    "**Example:**\n",
    "\n",
    "Let's use `map()` on the `lambda` function, which squares all elements of the `list`, and we store the result in `square_all`."
   ]
  },
  {
   "cell_type": "code",
   "execution_count": 72,
   "metadata": {},
   "outputs": [],
   "source": [
    "# write your code here\n",
    "nums = {2, 3, 4, 5, 6}\n",
    "\n",
    "square_all = map(lambda x : x ** 2, nums)\n"
   ]
  },
  {
   "cell_type": "code",
   "execution_count": 70,
   "metadata": {},
   "outputs": [
    {
     "data": {
      "text/plain": [
       "<map at 0x7f295adc7c10>"
      ]
     },
     "execution_count": 70,
     "metadata": {},
     "output_type": "execute_result"
    }
   ],
   "source": [
    "square_all"
   ]
  },
  {
   "cell_type": "markdown",
   "metadata": {},
   "source": [
    "Printing `square_all` reveals that its a map object, so to see what it returns, we use `list` to turn it into a `list` and print the result."
   ]
  },
  {
   "cell_type": "code",
   "execution_count": 73,
   "metadata": {},
   "outputs": [
    {
     "data": {
      "text/plain": [
       "[4, 9, 16, 25, 36]"
      ]
     },
     "execution_count": 73,
     "metadata": {},
     "output_type": "execute_result"
    }
   ],
   "source": [
    "# Your code here\n",
    "list(square_all)"
   ]
  },
  {
   "cell_type": "markdown",
   "metadata": {},
   "source": [
    "### if-else statement and lambda function"
   ]
  },
  {
   "cell_type": "markdown",
   "metadata": {},
   "source": [
    "Since a lambda function must have a return value for every valid input, we cannot define it with `if` but without `else` as we are not specifying what will we return if the `if-condition` will be `false` i.e. its else part.\n",
    "\n",
    "Let’s understand this with the following lambda function to `square a number only` if it is greater than `0` using `if` but without `else`."
   ]
  },
  {
   "cell_type": "code",
   "execution_count": 74,
   "metadata": {},
   "outputs": [
    {
     "ename": "SyntaxError",
     "evalue": "invalid syntax (<ipython-input-74-3e651940036b>, line 2)",
     "output_type": "error",
     "traceback": [
      "\u001b[0;36m  File \u001b[0;32m\"<ipython-input-74-3e651940036b>\"\u001b[0;36m, line \u001b[0;32m2\u001b[0m\n\u001b[0;31m    square = lambda x : x**x if x > 0\u001b[0m\n\u001b[0m                                     ^\u001b[0m\n\u001b[0;31mSyntaxError\u001b[0m\u001b[0;31m:\u001b[0m invalid syntax\n"
     ]
    }
   ],
   "source": [
    "# Lambda function with if but without else\n",
    "square = lambda x : x**x if x > 0\n",
    "\n",
    "print(square(4))"
   ]
  },
  {
   "cell_type": "markdown",
   "metadata": {},
   "source": [
    "Let's rewrite the above code with `if-else` statement."
   ]
  },
  {
   "cell_type": "code",
   "execution_count": 75,
   "metadata": {},
   "outputs": [
    {
     "name": "stdout",
     "output_type": "stream",
     "text": [
      "4\n"
     ]
    }
   ],
   "source": [
    "# lambda function with if-else statement\n",
    "square = lambda x: 0 if x==0  else x**x\n",
    "\n",
    "print(square(2))"
   ]
  },
  {
   "cell_type": "markdown",
   "metadata": {},
   "source": [
    "Let's find the maximum number from the given two numbers. The lambda function takes two arguments `a and b` and then the expression evaluates and return the max number."
   ]
  },
  {
   "cell_type": "code",
   "execution_count": 76,
   "metadata": {},
   "outputs": [
    {
     "name": "stdout",
     "output_type": "stream",
     "text": [
      "2\n"
     ]
    }
   ],
   "source": [
    "# lambda function to find max number with if-else\n",
    "max_num = lambda a, b : a if(a > b) else b\n",
    " \n",
    "print(max_num(1, 2))"
   ]
  },
  {
   "cell_type": "markdown",
   "metadata": {},
   "source": [
    "<hr>\n",
    "\n",
    "*Copyright &copy; 2021 <a href=\"https://yooutube.com/c/epythonlab\">EPYTHON LAB</a>.  All rights reserved.*"
   ]
  }
 ],
 "metadata": {
  "kernelspec": {
   "display_name": "Python 3",
   "language": "python",
   "name": "python3"
  },
  "language_info": {
   "codemirror_mode": {
    "name": "ipython",
    "version": 3
   },
   "file_extension": ".py",
   "mimetype": "text/x-python",
   "name": "python",
   "nbconvert_exporter": "python",
   "pygments_lexer": "ipython3",
   "version": "3.8.3"
  }
 },
 "nbformat": 4,
 "nbformat_minor": 4
}
