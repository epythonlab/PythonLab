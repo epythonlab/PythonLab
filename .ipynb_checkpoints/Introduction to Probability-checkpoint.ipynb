{
 "cells": [
  {
   "cell_type": "markdown",
   "id": "697462a6-c9d7-42a6-99f2-851d8c0b42f3",
   "metadata": {},
   "source": [
    "<center>\n",
    "    <img src=\"images/logo.jpg\" width=\"150\" alt=\"EPYTHON LAB logo\"  />\n",
    "</center>"
   ]
  },
  {
   "cell_type": "markdown",
   "id": "7e1e76ce",
   "metadata": {},
   "source": [
    "# Introduction to Probability Distribution for Machine Learning"
   ]
  },
  {
   "cell_type": "markdown",
   "id": "40da03b4",
   "metadata": {},
   "source": [
    "> ## What is probability?"
   ]
  },
  {
   "cell_type": "markdown",
   "id": "3276addd",
   "metadata": {},
   "source": [
    ">The probability of an event refers to the **likelihood that the event will occur**. Mathematically, the probability that an event will occur is expressed as a number between **0 and 1**. Notionally, the probability of event `A` is represented by `P(A)`. If `P(A)` equals `0`, event `A` will almost definitely not occur."
   ]
  },
  {
   "cell_type": "markdown",
   "id": "66789489",
   "metadata": {},
   "source": [
    ">### is Probability used in ML?"
   ]
  },
  {
   "cell_type": "markdown",
   "id": "6ec273fc",
   "metadata": {},
   "source": [
    "> Probability is the **Bedrock of Machine Learning**\n",
    "\n",
    "> Algorithms are designed using probability (e.g. Naive Bayes). \n",
    "\n",
    "> Learning algorithms will make decisions using probability (e.g. information gain). \n",
    "\n",
    "> Sub-fields of study are built on probability (e.g. Bayesian networks)."
   ]
  },
  {
   "cell_type": "markdown",
   "id": "c84e4231",
   "metadata": {},
   "source": [
    "<hr>"
   ]
  },
  {
   "cell_type": "markdown",
   "id": "3e9a60c4",
   "metadata": {},
   "source": [
    "## Random Variables\n",
    "> represent random events"
   ]
  },
  {
   "cell_type": "markdown",
   "id": "37b54ab0",
   "metadata": {},
   "source": [
    ">**Exampple**: we could use a random variable to represent the outcome of a `die roll`: any number between `one` and `six`."
   ]
  },
  {
   "cell_type": "markdown",
   "id": "d984c35c-8839-4b97-8c71-0210201785b5",
   "metadata": {},
   "source": [
    "Example: a Coin flip -> assigning `head` a value of 1 and `tail` a value of 0"
   ]
  },
  {
   "cell_type": "markdown",
   "id": "1fc26054",
   "metadata": {},
   "source": [
    "We will use `random.choice(a, size, replace=True/False)` from the `numpy` library"
   ]
  },
  {
   "cell_type": "markdown",
   "id": "8ceb6798-0fe6-4dd3-8df8-9a7b892ef5e9",
   "metadata": {},
   "source": [
    "> `a` is a list or other object that has values we are sampling from\n",
    "\n",
    "> `size` is a number that represents how many values to choose\n",
    "\n",
    "> `replace` can be equal to `True or False`, and determines whether we keep a value in a after drawing it `(replace = True)` or remove it from the pool `(replace = False)`."
   ]
  },
  {
   "cell_type": "markdown",
   "id": "c9e55141-5c46-48af-be1b-b0c86d5e19e9",
   "metadata": {},
   "source": [
    "Let's try to see the outcome of rolling a fair die twice using `np.random.choice()`"
   ]
  },
  {
   "cell_type": "code",
   "execution_count": 19,
   "id": "b0afe057-06e7-4c7a-ad1a-12056b250936",
   "metadata": {},
   "outputs": [
    {
     "name": "stdout",
     "output_type": "stream",
     "text": [
      "[6 5]\n"
     ]
    }
   ],
   "source": [
    "# Write your code here\n",
    "import numpy as np\n",
    "die_6 = range(1, 7) # 7 is not included\n",
    "num_rolls = 2\n",
    "\n",
    "result_1 = np.random.choice(die_6, size=num_rolls, replace=True)\n",
    "print(result_1)"
   ]
  },
  {
   "cell_type": "markdown",
   "id": "64154028-b8d2-4ef2-86b4-53bc493a2666",
   "metadata": {},
   "source": [
    "What could be the outcome if we rolling the die 5 times?"
   ]
  },
  {
   "cell_type": "code",
   "execution_count": 20,
   "id": "0d5a6881-5b75-418d-baf4-a335d6522a9a",
   "metadata": {},
   "outputs": [
    {
     "name": "stdout",
     "output_type": "stream",
     "text": [
      "[2 3 1 4 4]\n"
     ]
    }
   ],
   "source": [
    "# write your code here\n",
    "result_2 = np.random.choice(die_6, size=5, replace=True)\n",
    "print(result_2)"
   ]
  },
  {
   "cell_type": "markdown",
   "id": "c812896f-b1a4-4bb2-aee5-e88f16d7de45",
   "metadata": {},
   "source": [
    "Example 2: Create a 12 sided die rolling 10 times."
   ]
  },
  {
   "cell_type": "code",
   "execution_count": 21,
   "id": "c9fc7c91-059c-42a4-a387-d252541a5cad",
   "metadata": {
    "scrolled": true
   },
   "outputs": [
    {
     "name": "stdout",
     "output_type": "stream",
     "text": [
      "[ 6 12  3  6 10  1  2  8  9 11]\n"
     ]
    }
   ],
   "source": [
    "# write your code here\n",
    "die_12 = range(1, 13)\n",
    "num_rolls = 10\n",
    "result_3 = np.random.choice(die_12, size=num_rolls, replace=True)\n",
    "print(result_3)"
   ]
  },
  {
   "cell_type": "markdown",
   "id": "fec66136",
   "metadata": {},
   "source": [
    "## Discrete and Continuous Random Variables\n"
   ]
  },
  {
   "cell_type": "markdown",
   "id": "69281868",
   "metadata": {},
   "source": [
    "> ### Discrete Random Variables\n",
    "> with a countable number of possible values"
   ]
  },
  {
   "cell_type": "markdown",
   "id": "04ed4666",
   "metadata": {},
   "source": [
    "Example: rolling a regular 6-sided die would be considered a discrete random variable because the outcome options are limited to the numbers on the die."
   ]
  },
  {
   "cell_type": "markdown",
   "id": "e3c76a55",
   "metadata": {},
   "source": [
    "<img src=\"images/die_6.gif\">"
   ]
  },
  {
   "cell_type": "markdown",
   "id": "2ce9db8f",
   "metadata": {},
   "source": [
    ">## Continuous Random Variable\n",
    "> when the possible values of a random variable are uncountable\n",
    "\n",
    "> measurement variables because measurement variables are more precise. example:meters, centimeters, millimeters, etc\n"
   ]
  },
  {
   "cell_type": "markdown",
   "id": "d9a3e21a",
   "metadata": {},
   "source": [
    "For example, the temperature in Addis Ababa on a randomly chosen day is a continuous random variable. We can always be more precise about the temperature by expanding to another decimal place `(96 degrees, 96.44 degrees, 96.437 degrees, etc.)`."
   ]
  },
  {
   "cell_type": "markdown",
   "id": "e4693ff4",
   "metadata": {},
   "source": [
    "**Question**\n",
    "\n",
    "1. Suppose you have a random variable that represents the time it takes a randomly selected person to run a mile. **Is this variable discrete or continuous?** \n",
    "\n",
    "2. Suppose you have a random variable that represents the individual pieces of candy a randomly selected child receives on a candy-giving holiday. **Is this variable discrete or continuous?**\n",
    "\n",
    "\n",
    "**N.B:** Post your answer in the comment box ex: 1. continuous if the answer is continuous else discrete\n"
   ]
  },
  {
   "cell_type": "markdown",
   "id": "f807177e-1469-43a1-b780-87e9606a278e",
   "metadata": {},
   "source": [
    "<hr>"
   ]
  },
  {
   "cell_type": "markdown",
   "id": "9cfd0f52-579b-419b-8663-dcd6cd18ff92",
   "metadata": {},
   "source": [
    "> ## Binomial Distribution"
   ]
  },
  {
   "cell_type": "markdown",
   "id": "4f0dc974-485e-465d-ab5e-2be6ecaac310",
   "metadata": {},
   "source": [
    "**Binomial distribution** is one of the most popular distributions in statistics, along with normal distribution. \n",
    "> It is a Discrete Distribution. It describes the outcome of binary scenarios, e.g. toss of a coin, it will either be **head or tails**.\n",
    "\n",
    "- Binomial distribution is a discrete probability distribution of a number of successes `(X)` in a sequence of independent experiments `(n)`\n",
    "\n",
    "- Each experiment has two possible outcomes: **success and failure**. Success outcome has a probability `p`, and failure has probability `(1−p)`."
   ]
  },
  {
   "cell_type": "markdown",
   "id": "654b044a-8255-432b-988b-825a99f33fca",
   "metadata": {},
   "source": [
    "### Calculating Probabilities using Python"
   ]
  },
  {
   "cell_type": "markdown",
   "id": "5d14f741-e05e-46e2-af98-8e9c7abca970",
   "metadata": {},
   "source": [
    "For example, suppose we flip a fair coin 10 times and count the number of heads. We can use the `binom.pmf()` function to calculate the probability of observing 6 heads as follows:"
   ]
  },
  {
   "cell_type": "code",
   "execution_count": 1,
   "id": "2aee1840-7f2c-4db9-a72d-1a92b31b51cf",
   "metadata": {},
   "outputs": [],
   "source": [
    "# import scipy here \n",
    "import scipy.stats as st"
   ]
  },
  {
   "cell_type": "markdown",
   "id": "13bb4e07-9812-44b4-9f4e-3140a207aff6",
   "metadata": {},
   "source": [
    "**Note**: **SciPy** provides algorithms for optimization, integration, interpolation, eigenvalue problems, algebraic equations, differential equations, statistics and many more..."
   ]
  },
  {
   "cell_type": "code",
   "execution_count": 3,
   "id": "b3577c8f-91c6-4c33-acff-916c8f269eed",
   "metadata": {},
   "outputs": [
    {
     "name": "stdout",
     "output_type": "stream",
     "text": [
      "0.2050781249999999\n",
      "0.7949218750000001\n"
     ]
    }
   ],
   "source": [
    "# write youre code here\n",
    "n = 10\n",
    "x = 6\n",
    "p = 0.5\n",
    "prob_1 = st.binom.pmf(x, n, p)\n",
    "print(prob_1)\n",
    "print(1-prob_1)"
   ]
  },
  {
   "cell_type": "markdown",
   "id": "7498f8b9-919c-405b-bcec-ad2538252629",
   "metadata": {},
   "source": [
    "**Note: A probability mass function (PMF)** is a type of probability distribution that defines the probability of observing a particular value of a discrete random variable. <BR>\n",
    "This method takes three values:\n",
    "> `x` the value of interest<br>\n",
    "> `n` the number of trials<br>\n",
    "> `p` the probability of success in each trial"
   ]
  },
  {
   "cell_type": "markdown",
   "id": "ee69ffa8-6241-495a-8f37-2652bacb651b",
   "metadata": {},
   "source": [
    "Plot the probability of flip a fair coin"
   ]
  },
  {
   "cell_type": "code",
   "execution_count": 2,
   "id": "e8e0ff90-a6ed-48e1-9d7d-aad9548b6046",
   "metadata": {},
   "outputs": [],
   "source": [
    "from matplotlib import pyplot as plt\n",
    "import ipywidgets as widgets\n"
   ]
  },
  {
   "cell_type": "code",
   "execution_count": 3,
   "id": "9ff6b010-4a13-430a-ae40-425c14e84585",
   "metadata": {},
   "outputs": [
    {
     "data": {
      "application/vnd.jupyter.widget-view+json": {
       "model_id": "336792a533ae439192c533264abc090f",
       "version_major": 2,
       "version_minor": 0
      },
      "text/plain": [
       "interactive(children=(IntSlider(value=10, description='Trials', max=10, min=1), Output()), _dom_classes=('widg…"
      ]
     },
     "metadata": {},
     "output_type": "display_data"
    }
   ],
   "source": [
    "@widgets.interact(x=widgets.IntSlider(min=1, max=10, step=1, value=10,description='Trials'))\n",
    "def plot_prob(x):\n",
    "    prob = []\n",
    "    for i in range(0, 11):\n",
    "        prob.append(st.binom.pmf(i, x, 0.5))\n",
    "    # plot\n",
    "    plt.figure(figsize=(6, 3))\n",
    "    plt.bar(range(0, 11), prob, color='#2f4f4f')\n",
    "    plt.xlabel('Number of Heads')\n",
    "    plt.ylabel('Probability')\n",
    "    plt.grid()\n",
    "    plt.xticks(range(0, 11))\n",
    "    plt.show()"
   ]
  },
  {
   "cell_type": "markdown",
   "id": "e27a0c93-87fc-4805-b705-002110637875",
   "metadata": {},
   "source": [
    "**Notice** that as `x` increases,  the bars get smaller. This is because the sum of the heights of all the bars will always equal `1`. So when x is larger, the number of heads we can observe increases, and the probability needs to be divided between more values."
   ]
  },
  {
   "cell_type": "markdown",
   "id": "b7b54d7b-e28e-4fda-9bd1-a721fe61ca0f",
   "metadata": {},
   "source": [
    "### Calculating Probability over a range"
   ]
  },
  {
   "cell_type": "markdown",
   "id": "07bfe8e2-9264-407a-974d-c39116d1e996",
   "metadata": {},
   "source": [
    "Example: Suppose we flip a fair coin 5 times, and want to know the probability of getting between 1 and 3 heads."
   ]
  },
  {
   "cell_type": "markdown",
   "id": "20b56fcd-e018-4db9-b286-a706ee204257",
   "metadata": {},
   "source": [
    "- We can calculate this using the following equation where `P(x)` is the probability of observing the number `x` successes (heads in this case):\n",
    "\n",
    "\\begin{aligned} P(1\\;to\\;3\\;heads) = P(1 <= X <= 3) \\\\ P(1\\;to\\;3\\;heads) = P(X=1) + P(X=2) + P(X=3) \\\\ \\\\P(1\\;to\\;3\\;heads) = 0.1562 + 0.3125 + 0.3125 \\\\ P(1\\;to\\;3\\;heads) = 0.7812 \\end{aligned} \n",
    "\n"
   ]
  },
  {
   "cell_type": "code",
   "execution_count": 4,
   "id": "cc90f1f7-2a12-4879-878c-042cbb93efa0",
   "metadata": {},
   "outputs": [
    {
     "name": "stdout",
     "output_type": "stream",
     "text": [
      "0.7812499999999996\n"
     ]
    }
   ],
   "source": [
    "# write your code\n",
    "import scipy.stats as stats\n",
    "\n",
    "prob = stats.binom.pmf(1, 5, 0.5 ) + stats.binom.pmf(2, 5, 0.5) + stats.binom.pmf(3, 5, 0.5)\n",
    "print(prob)"
   ]
  },
  {
   "cell_type": "code",
   "execution_count": 4,
   "id": "d17ecdd4-310d-47b8-be9b-ddcb6df2db3b",
   "metadata": {},
   "outputs": [
    {
     "name": "stdout",
     "output_type": "stream",
     "text": [
      "0.7812499999999996\n"
     ]
    }
   ],
   "source": [
    "prob = []\n",
    "for i in range(1, 4):\n",
    "    prob.append(stats.binom.pmf(i, 5, 0.5))\n",
    "    \n",
    "print(sum(prob))"
   ]
  },
  {
   "cell_type": "markdown",
   "id": "7224ebd3-5792-409f-a663-18c81d68b630",
   "metadata": {},
   "source": [
    "Example 2: If we want to know the probability of observing 8 or fewer heads from 10 coin flips, we need to add up the values from 0 to 8:\n",
    "\n",
    "\n",
    "\\begin{aligned} P(0\\;to\\;8\\;heads) + P(9\\;to\\;10\\;heads) = P(0\\;to\\;10\\;heads) = 1 \\\\ P(0\\;to\\;8\\;heads) = 1 - P(9\\;to\\;10\\;heads) \\end{aligned}\n"
   ]
  },
  {
   "cell_type": "code",
   "execution_count": 5,
   "id": "06967845-f5b9-4cdf-8670-0789090f1c7f",
   "metadata": {},
   "outputs": [
    {
     "name": "stdout",
     "output_type": "stream",
     "text": [
      "0.990234375\n"
     ]
    }
   ],
   "source": [
    "# Write your code here\n",
    "\n",
    "prob = 1 - stats.binom.pmf(9, 10, 0.5)\n",
    "print(prob)"
   ]
  },
  {
   "cell_type": "markdown",
   "id": "da440db9-3967-4ca8-b95e-fc4b68b27f5a",
   "metadata": {},
   "source": [
    "We can visualize this scenario with the probability mass function: we flip a fair coin 10 times, and want to know the probability of getting between 1 and 3 heads. We can visualize this scenario with the probability mass function:"
   ]
  },
  {
   "cell_type": "code",
   "execution_count": 6,
   "id": "bdc6cdef-c351-472b-993c-09a1c5b6c6f2",
   "metadata": {},
   "outputs": [],
   "source": [
    "from matplotlib import pyplot as plt\n",
    "import ipywidgets as widgets\n"
   ]
  },
  {
   "cell_type": "code",
   "execution_count": 5,
   "id": "c384bb85-1cd9-4e48-9d85-0d33b936a162",
   "metadata": {},
   "outputs": [
    {
     "data": {
      "application/vnd.jupyter.widget-view+json": {
       "model_id": "3d86263c3c3b45e99e1f0006819faa45",
       "version_major": 2,
       "version_minor": 0
      },
      "text/plain": [
       "interactive(children=(IntRangeSlider(value=(1, 3), description='Heads:', max=10), Output()), _dom_classes=('wi…"
      ]
     },
     "metadata": {},
     "output_type": "display_data"
    }
   ],
   "source": [
    "@widgets.interact(x=widgets.IntRangeSlider(value=[1, 3], min=0, max=10,\n",
    "                                          description='Heads:'))\n",
    "def plot_prob(x):\n",
    "    \n",
    "    prob_1 = [] # calculate probability 0 to 10\n",
    "    prob_2 = [] # probability in the range\n",
    "    for i in range(0, 11):\n",
    "        prob_1.append(stats.binom.pmf(i, 10, 0.5))\n",
    "        \n",
    "    #print(sum(prob_1))\n",
    "    for i in range(x[0], x[1]+1):\n",
    "        prob_2.append(stats.binom.pmf(i, 10, 0.5))\n",
    "    print(\"Probability of between {} and {} heads: {}%\". format(x[0], x[1],\n",
    "                                                               round(sum(prob_2)* 100, 2)))\n",
    "    # let's visualize bar plot\n",
    "    plt.figure(figsize=(6, 3))\n",
    "    plt.bar(range(0, 11), prob_1, color='#2f4f4f')\n",
    "    plt.bar(range(x[0], x[1]+1), prob_2, color='green')\n",
    "    plt.title(\"Binomial Distribution: Calculating Probability over a Range\")\n",
    "    plt.ylabel('Probability')\n",
    "    plt.xlabel('Number of Heads')\n",
    "    plt.xticks(range(0, 11))\n",
    "    plt.grid()\n",
    "    plt.show()\n",
    "    "
   ]
  },
  {
   "cell_type": "markdown",
   "id": "046fb00b-707c-4521-9b61-f5591484968d",
   "metadata": {},
   "source": [
    "## Cumulative Distribution Function"
   ]
  },
  {
   "cell_type": "markdown",
   "id": "4af5a17c-f418-453f-bee7-b21f0bcfefb0",
   "metadata": {},
   "source": [
    "> derived from the **probability mass function**.\n",
    "\n",
    "> However, instead of the probability of observing a specific value, the cumulative distribution function gives the probability of observing a specific value **OR LESS**."
   ]
  },
  {
   "cell_type": "markdown",
   "id": "e155888b-8685-4696-a3d7-9b2dc751eb0e",
   "metadata": {},
   "source": [
    "As previously discussed, the probabilities for all possible values in a given probability distribution add up to 1. The value of a cumulative distribution function at a given value is equal to the sum of the probabilities lower than it, with a value of 1 for the largest possible number."
   ]
  },
  {
   "cell_type": "markdown",
   "id": "e694ec8c-dd9a-44fa-8dfa-568e1d922e36",
   "metadata": {},
   "source": [
    "```{math}\n",
    "If x1 < x2 →CDF(x1) < CDF(x2)\n",
    "```"
   ]
  },
  {
   "cell_type": "markdown",
   "id": "ef6017f5-54f8-488b-990f-e607244cfb99",
   "metadata": {},
   "source": [
    "### Calculating using cumulative distribution function in Python"
   ]
  },
  {
   "cell_type": "markdown",
   "id": "1e18a3d3-c29d-44fc-94c0-122f30943d8e",
   "metadata": {},
   "source": [
    "**Example 1**: Calculating the probability of observing 3 or fewer heads from 10 fair coin flips (0 to 3 heads) mathematically looks like the following:"
   ]
  },
  {
   "cell_type": "markdown",
   "id": "5dcdea5a-4835-4506-8e6f-8de18014aaf7",
   "metadata": {},
   "source": [
    "```{math}\n",
    "P(3 or fewer heads) = P(0 to 3 heads)\n",
    "```"
   ]
  },
  {
   "cell_type": "code",
   "execution_count": 16,
   "id": "fce02ddb-5364-4857-8749-f678c8a2c96c",
   "metadata": {},
   "outputs": [],
   "source": [
    "# import scipy.stats\n",
    "import scipy.stats as stats"
   ]
  },
  {
   "cell_type": "code",
   "execution_count": 17,
   "id": "fec4afaf-5775-45a8-8742-c080cb4355d8",
   "metadata": {},
   "outputs": [
    {
     "name": "stdout",
     "output_type": "stream",
     "text": [
      "0.171875\n"
     ]
    }
   ],
   "source": [
    "# write your code here\n",
    "prob_1 = stats.binom.cdf(3, 10, 0.5)\n",
    "print(prob_1)"
   ]
  },
  {
   "cell_type": "code",
   "execution_count": 18,
   "id": "90ef62a6-bc55-4f34-af68-7fcb4dbd38f4",
   "metadata": {},
   "outputs": [
    {
     "name": "stdout",
     "output_type": "stream",
     "text": [
      "0.17187500000000006\n"
     ]
    }
   ],
   "source": [
    "# compare to pmf\n",
    "prob_1 = stats.binom.pmf(0, 10, 0.5) + stats.binom.pmf(1, 10, 0.5) +\\\n",
    "stats.binom.pmf(2, 10, 0.5) + stats.binom.pmf(3, 10, 0.5)\n",
    "print(prob_1)"
   ]
  },
  {
   "cell_type": "markdown",
   "id": "38ffd4b8-6429-4a74-9866-2ae7dd4dcdb6",
   "metadata": {},
   "source": [
    "We can use `binom.cdf()` method from the `scipy.stats` library to calculate the cumulative distribution function. This method takes 3 values:\n",
    "\n",
    "`x`: the value of interest, looking for the probability of this value or less <br>\n",
    "`n`: the sample size<br>\n",
    "`p`: the probability of success"
   ]
  },
  {
   "cell_type": "markdown",
   "id": "6af80a52-c20f-44db-9ecf-cd6b7868669f",
   "metadata": {},
   "source": [
    "**Example 2**: Calculating the probability of observing between 4 and 8 heads from 10 fair coin flips can be thought of as taking the difference of the value of the cumulative distribution function at 8 from the cumulative distribution function at 3:"
   ]
  },
  {
   "cell_type": "markdown",
   "id": "941e8a82-37d9-4978-b7a2-588083cf9ef1",
   "metadata": {},
   "source": [
    "```{math}\n",
    "P(4 to 8 Heads) = P(0 to 8 Heads) - P(0 to 3 Heads)\n",
    "```"
   ]
  },
  {
   "cell_type": "code",
   "execution_count": 19,
   "id": "14250b0b-9c6e-4938-9770-78f9599e629a",
   "metadata": {},
   "outputs": [
    {
     "name": "stdout",
     "output_type": "stream",
     "text": [
      "0.8173828125\n"
     ]
    }
   ],
   "source": [
    "# write your code here\n",
    "prob_2 = stats.binom.cdf(8, 10, 0.5) - stats.binom.cdf(3, 10, 0.5)\n",
    "print(prob_2)"
   ]
  },
  {
   "cell_type": "markdown",
   "id": "b852903a-f173-41b7-b6d3-05c62cbf316e",
   "metadata": {},
   "source": [
    "**Example 3**: To calculate the probability of observing more than 6 heads from 10 fair coin flips we subtract the value of the cumulative distribution function at 6 from 1. Mathematically, this looks like the following:"
   ]
  },
  {
   "cell_type": "markdown",
   "id": "df9bb7bc-8142-4fb0-92cd-8ee48e0d3dcd",
   "metadata": {},
   "source": [
    "```{math}\n",
    "P(more than 6 heads) = 1 - P(6 or fewer heads)\n",
    "```"
   ]
  },
  {
   "cell_type": "code",
   "execution_count": 21,
   "id": "f0f60dd7-8365-4fad-98c7-889e4e82d8f7",
   "metadata": {},
   "outputs": [
    {
     "name": "stdout",
     "output_type": "stream",
     "text": [
      "0.171875\n"
     ]
    }
   ],
   "source": [
    "# write your code here\n",
    "prob_3 = 1- stats.binom.cdf(6, 10, 0.5)\n",
    "print(prob_3)"
   ]
  },
  {
   "cell_type": "markdown",
   "id": "1a610c91-1f44-4781-ace4-935d4216f67f",
   "metadata": {},
   "source": [
    "Note that “more than 6 heads” does not include 6."
   ]
  },
  {
   "cell_type": "markdown",
   "id": "ba33ec14-3568-48c6-93b8-07e91beac6b4",
   "metadata": {},
   "source": [
    "## Probability Density Functions"
   ]
  },
  {
   "cell_type": "markdown",
   "id": "aea7a774-fe0b-4ca6-8c78-f6933053429e",
   "metadata": {},
   "source": [
    "> define the probability distributions of continuous random variables and span across all possible values that the given random variable can take on."
   ]
  },
  {
   "cell_type": "markdown",
   "id": "d43f4f5f-aed4-4a39-90e9-e8f9b8a0755b",
   "metadata": {},
   "source": [
    "![image.webp](images/pdf.webp)"
   ]
  },
  {
   "cell_type": "markdown",
   "id": "f4f50d92-9ae7-45e4-a115-828be4fdb93b",
   "metadata": {},
   "source": [
    "We can calculate the area under the curve using the cumulative distribution function for the given probability function.\n"
   ]
  },
  {
   "cell_type": "markdown",
   "id": "9aa28fe9-2586-46c5-be79-bd486b92f220",
   "metadata": {},
   "source": [
    "For example, heights fall under a type of probability distribution called a **normal distribution**. The parameters for the normal distribution are the **mean and the standard deviation, and we use the form Normal(mean, standard deviation)** as shorthand.\n",
    "\n",
    "We know that women’s heights have a mean of 167.64 cm with a standard deviation of 8 cm, which makes them fall under the Normal(167.64, 8) distribution."
   ]
  },
  {
   "attachments": {
    "93f996e6-2fbd-480f-85d9-f3258003ebba.png": {
     "image/png": "[encoded data removed]"
    }
   },
   "cell_type": "markdown",
   "id": "e5c249df-0efb-483c-92d1-a954355fdab8",
   "metadata": {},
   "source": [
    "![image.png](attachment:93f996e6-2fbd-480f-85d9-f3258003ebba.png)"
   ]
  },
  {
   "cell_type": "markdown",
   "id": "0644a804-9012-4565-811f-c0c4692d8b03",
   "metadata": {},
   "source": [
    "Let’s say we want to know the probability that a randomly chosen woman is less than 158 cm tall. We can use the cumulative distribution function to calculate the area under the probability density function curve from 0 to 158 to find that probability."
   ]
  },
  {
   "cell_type": "markdown",
   "id": "837ac84a-620d-44b1-a8e0-fcd0df0b3bd9",
   "metadata": {},
   "source": [
    "We can calculate the area of the blue region in Python using the `norm.cdf(x, loc, scale)` method from the `scipy.stats` library. This method takes on 3 values:\n",
    "\n",
    "`x`: the value of interest<br>\n",
    "`loc`: the mean of the probability distribution<br>\n",
    "`scale`: the standard deviation of the probability distribution"
   ]
  },
  {
   "cell_type": "code",
   "execution_count": 1,
   "id": "31f8c010-b89f-41c8-849b-e2d91157f842",
   "metadata": {},
   "outputs": [],
   "source": [
    "# import scipy.stats\n",
    "import scipy.stats as stats"
   ]
  },
  {
   "cell_type": "code",
   "execution_count": 2,
   "id": "9301aaa6-70dd-4b78-acac-cfd166d8e6ae",
   "metadata": {},
   "outputs": [
    {
     "name": "stdout",
     "output_type": "stream",
     "text": [
      "0.11999735789901239\n"
     ]
    }
   ],
   "source": [
    "# write your code here\n",
    "prob = stats.norm.cdf(158, 167.4, 8)\n",
    "print(prob)"
   ]
  },
  {
   "cell_type": "markdown",
   "id": "fdf66255-3dd0-4f47-9e94-010810c26088",
   "metadata": {},
   "source": [
    "### Probability Density Functions and Cumulative Distribution Function"
   ]
  },
  {
   "cell_type": "markdown",
   "id": "dea8d2ed-c6d3-4bba-9404-97f2b90c388e",
   "metadata": {},
   "source": [
    "We can take the difference between two overlapping ranges to calculate the probability that a random selection will be within a range of values for continuous distributions. This is essentially the same process as calculating the probability of a range of values for discrete distributions."
   ]
  },
  {
   "cell_type": "markdown",
   "id": "33635bf7-4d52-4445-b6f3-f3fbd8360422",
   "metadata": {},
   "source": [
    "**Example 1**: The weather in the Addis Ababa follows a Normal distribution with a mean of 20 degrees Celcius and a standard deviation of 3 degrees.\n",
    "\n",
    "What is  the probability that the weather on a randomly selected day will be between 18 to 25 degrees Celcius?`\n"
   ]
  },
  {
   "cell_type": "code",
   "execution_count": 3,
   "id": "95cf39b9-4e42-40bd-8099-493fdefb9f1c",
   "metadata": {},
   "outputs": [
    {
     "name": "stdout",
     "output_type": "stream",
     "text": [
      "0.6997171101802624\n"
     ]
    }
   ],
   "source": [
    "# write your code here\n",
    "prob = stats.norm.cdf(25, 20, 3) - stats.norm.cdf(18, 20, 3)\n",
    "print(prob)"
   ]
  },
  {
   "cell_type": "markdown",
   "id": "476114cb-c496-40f2-8486-3feab211b580",
   "metadata": {},
   "source": [
    "**Example 2:** Using the same weather information about the Addis Ababa, and find the probability that the weather on a randomly selected day will be greater than 24 degrees Celsius."
   ]
  },
  {
   "cell_type": "code",
   "execution_count": 4,
   "id": "7f7b0741-fdd2-4e74-967f-0c6a6f5eb90a",
   "metadata": {},
   "outputs": [
    {
     "name": "stdout",
     "output_type": "stream",
     "text": [
      "0.09121121972586788\n"
     ]
    }
   ],
   "source": [
    "# write your code here\n",
    "prob = 1- stats.norm.cdf(24, 20, 3)\n",
    "print(prob)"
   ]
  },
  {
   "cell_type": "markdown",
   "id": "6ce2b870-5a08-4e76-89db-e22ff99c9c99",
   "metadata": {},
   "source": [
    "## Summary"
   ]
  },
  {
   "cell_type": "markdown",
   "id": "7d06c16b-09ec-4839-8d70-d448764c1565",
   "metadata": {},
   "source": [
    "We've finished our introduction to probability distributions for Machine Learning\n",
    "\n",
    "- We've covered about different types of random variables\n",
    "\n",
    "- Calculated the probability of specific events using probability mass functions (discrete random variable)\n",
    "\n",
    "- Calculated the probability of ranges using probability mass functions and cumulative distribution functions (discrete random variable)\n",
    "\n",
    "- Calculated the probability of ranges using probability density functions and cumulative distribution functions (continuous random variable)\n"
   ]
  },
  {
   "cell_type": "markdown",
   "id": "def301cb-ac26-4004-bae5-f84f7e4398d9",
   "metadata": {},
   "source": [
    "**Exercises 1** : sampling from a 12-sided die - randomly select 5 "
   ]
  },
  {
   "cell_type": "code",
   "execution_count": 7,
   "id": "db1e103b-4f1b-4a25-a7b5-9541e761bc35",
   "metadata": {},
   "outputs": [
    {
     "name": "stdout",
     "output_type": "stream",
     "text": [
      "[ 9  7  9 11  6]\n"
     ]
    }
   ],
   "source": [
    "# write your code here\n",
    "import numpy as np\n",
    "res = np.random.choice(range(1, 13), 5, replace=True)\n",
    "print(res)"
   ]
  },
  {
   "cell_type": "markdown",
   "id": "7902cad1-a6df-42b5-9a1c-b653e18fb41d",
   "metadata": {},
   "source": [
    "**Exercise 2**:\n",
    "\n",
    "find probability of 6 heads from 10 fair coin flips using binomial probability mass function"
   ]
  },
  {
   "cell_type": "code",
   "execution_count": 8,
   "id": "5917d033-9991-4766-af6b-371229fcc032",
   "metadata": {},
   "outputs": [
    {
     "name": "stdout",
     "output_type": "stream",
     "text": [
      "0.2050781249999999\n"
     ]
    }
   ],
   "source": [
    "# write your code here\n",
    "import scipy.stats as stats\n",
    "prob = stats.binom.pmf(6, 10, 0.5)\n",
    "print(prob)"
   ]
  },
  {
   "cell_type": "markdown",
   "id": "52b16ee2-651f-4e3f-8591-ee40d438cf69",
   "metadata": {},
   "source": [
    "**Exercise 3**:\n",
    "\n",
    "1. find probability of between 2 to 4 heads from 10 coin flips using binomial probability mass function\n",
    "\n",
    "`P(X = 2) + P(X = 3) + P(X = 4)`"
   ]
  },
  {
   "cell_type": "code",
   "execution_count": 9,
   "id": "18889a88-6a6c-4dbc-be46-2f478edc407b",
   "metadata": {},
   "outputs": [
    {
     "name": "stdout",
     "output_type": "stream",
     "text": [
      "0.36621093749999994\n"
     ]
    }
   ],
   "source": [
    "# write your code here\n",
    "prob = stats.binom.pmf(2, 10, 0.5) +\\\n",
    "stats.binom.pmf(3, 10, 0.5) + \\\n",
    "stats.binom.pmf(4, 10, 0.5)\n",
    "\n",
    "print(prob)\n"
   ]
  },
  {
   "cell_type": "markdown",
   "id": "e5702376-d1de-4a3b-9296-11229c95a4db",
   "metadata": {},
   "source": [
    "2. find probability of between 0 to 8 heads from 10 coin flips\n",
    "\n",
    "`1 - (P(X = 9) + P(X = 10))`"
   ]
  },
  {
   "cell_type": "code",
   "execution_count": 10,
   "id": "5e10d307-3a3a-420b-8871-3acab8b72322",
   "metadata": {},
   "outputs": [
    {
     "name": "stdout",
     "output_type": "stream",
     "text": [
      "0.9912109375\n"
     ]
    }
   ],
   "source": [
    "prob = 1- stats.binom.pmf(9, 10, 0.5) + stats.binom.pmf(10, 10, 0.5)\n",
    "print(prob)"
   ]
  },
  {
   "cell_type": "code",
   "execution_count": 12,
   "id": "c4fcaa2c-6820-4075-a943-58fd1965af26",
   "metadata": {},
   "outputs": [
    {
     "name": "stdout",
     "output_type": "stream",
     "text": [
      "0.9892578125\n"
     ]
    }
   ],
   "source": [
    "# write your code here\n",
    "prob = stats.binom.cdf(8, 10, 0.5)\n",
    "print(prob)"
   ]
  },
  {
   "cell_type": "markdown",
   "id": "84f2ae74-9e2f-43e6-9315-8ac398112695",
   "metadata": {},
   "source": [
    "**Exercise 4**:\n",
    "1. find probability of 6 or fewer heads from 10 coin flips using binomial cumulative distribution function\n"
   ]
  },
  {
   "cell_type": "code",
   "execution_count": 11,
   "id": "09c04d32-3ed4-4797-a5cd-4ac0f04d96ca",
   "metadata": {},
   "outputs": [
    {
     "name": "stdout",
     "output_type": "stream",
     "text": [
      "0.828125\n"
     ]
    }
   ],
   "source": [
    "# write your code here\n",
    "prob = stats.binom.cdf(6, 10, 0.5)\n",
    "print(prob)"
   ]
  },
  {
   "cell_type": "code",
   "execution_count": null,
   "id": "28355bd5-915e-401d-b593-c4aa702b822d",
   "metadata": {},
   "outputs": [],
   "source": []
  },
  {
   "cell_type": "markdown",
   "id": "7e740b62-a580-495e-a81f-c6b73ba8c121",
   "metadata": {},
   "source": [
    "2. find probability of  more than 6 heads from 10 coin flips\n",
    "\n"
   ]
  },
  {
   "cell_type": "code",
   "execution_count": 13,
   "id": "119be189-7161-4019-8634-b9249ac21967",
   "metadata": {},
   "outputs": [
    {
     "name": "stdout",
     "output_type": "stream",
     "text": [
      "0.171875\n"
     ]
    }
   ],
   "source": [
    "# write your code here\n",
    "prob = 1- stats.binom.cdf(6, 10, 0.5)\n",
    "print(prob)"
   ]
  },
  {
   "cell_type": "markdown",
   "id": "3cf516e1-a830-4366-bec8-86ddfb115062",
   "metadata": {},
   "source": [
    "3. find probability of between 4 and 8 heads from 10 coin flips"
   ]
  },
  {
   "cell_type": "code",
   "execution_count": 14,
   "id": "485d060a-306b-48b6-aee4-728050a46e39",
   "metadata": {},
   "outputs": [
    {
     "name": "stdout",
     "output_type": "stream",
     "text": [
      "0.6123046875\n"
     ]
    }
   ],
   "source": [
    "# write your code here\n",
    "prob = stats.binom.cdf(8, 10, 0.5) - stats.binom.cdf(4, 10, 0.5)\n",
    "print(prob)"
   ]
  },
  {
   "cell_type": "markdown",
   "id": "574df643-8275-46a4-9313-84e1a9b409e4",
   "metadata": {},
   "source": [
    "**Exercise 5**:\n",
    "The weather in the Addis Ababa follows a Normal distribution with a mean of 20 degrees Celcius and a standard deviation of 3.\n",
    "\n",
    "1.  what is probability of temprature being less than 14*C\n"
   ]
  },
  {
   "cell_type": "code",
   "execution_count": 15,
   "id": "ea070549-d02d-4728-a0ae-f851b2780ca1",
   "metadata": {},
   "outputs": [
    {
     "name": "stdout",
     "output_type": "stream",
     "text": [
      "0.022750131948179195\n"
     ]
    }
   ],
   "source": [
    "# write your code here\n",
    "prob = stats.norm.cdf(14, 20, 3)\n",
    "print(prob)"
   ]
  },
  {
   "cell_type": "markdown",
   "id": "3553e890-a818-4a90-b08d-252c7eaa30d0",
   "metadata": {},
   "source": [
    "2. what is probability of temprature being greater than 24*C "
   ]
  },
  {
   "cell_type": "code",
   "execution_count": 16,
   "id": "d7968c39-72c7-4faf-b2df-d3e8f41528bd",
   "metadata": {},
   "outputs": [
    {
     "name": "stdout",
     "output_type": "stream",
     "text": [
      "0.09121121972586788\n"
     ]
    }
   ],
   "source": [
    "# write your code here\n",
    "prob = 1- stats.norm.cdf(24, 20, 3)\n",
    "print(prob)\n"
   ]
  },
  {
   "cell_type": "markdown",
   "id": "7b28f305-1e83-42f5-9803-fd6cf7641cd6",
   "metadata": {},
   "source": [
    "3. what is probability of temprature between 21*C and  25*C"
   ]
  },
  {
   "cell_type": "code",
   "execution_count": 17,
   "id": "d0ac6654-c690-42b4-9b19-deec40d81c8b",
   "metadata": {},
   "outputs": [
    {
     "name": "stdout",
     "output_type": "stream",
     "text": [
      "0.32165098790894897\n"
     ]
    }
   ],
   "source": [
    "# write your code here\n",
    "\n",
    "prob = stats.norm.cdf(25, 20, 3) - stats.norm.cdf(21, 20, 3)\n",
    "print(prob)"
   ]
  },
  {
   "cell_type": "code",
   "execution_count": null,
   "id": "3d35f714-e06c-4ee2-8f6b-99265db83a0d",
   "metadata": {},
   "outputs": [],
   "source": []
  },
  {
   "cell_type": "markdown",
   "id": "932db185-1579-46e7-a0ea-ec4baf458af9",
   "metadata": {},
   "source": [
    "<hr>\n",
    "\n",
    "*Copyright &copy; 2022 EPYTHON LAB.  All rights reserved.*"
   ]
  }
 ],
 "metadata": {
  "kernelspec": {
   "display_name": "Python 3",
   "language": "python",
   "name": "python3"
  },
  "language_info": {
   "codemirror_mode": {
    "name": "ipython",
    "version": 3
   },
   "file_extension": ".py",
   "mimetype": "text/x-python",
   "name": "python",
   "nbconvert_exporter": "python",
   "pygments_lexer": "ipython3",
   "version": "3.9.10"
  },
  "toc-autonumbering": true,
  "toc-showcode": false,
  "toc-showmarkdowntxt": false,
  "toc-showtags": true,
  "widgets": {
   "application/vnd.jupyter.widget-state+json": {
    "state": {},
    "version_major": 2,
    "version_minor": 0
   }
  }
 },
 "nbformat": 4,
 "nbformat_minor": 5
}
