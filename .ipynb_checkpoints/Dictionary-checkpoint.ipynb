{
 "cells": [
  {
   "cell_type": "markdown",
   "metadata": {},
   "source": [
    "# Dictionary in Python"
   ]
  },
  {
   "cell_type": "markdown",
   "metadata": {},
   "source": [
    "<hr style=\"height:2;\">"
   ]
  },
  {
   "cell_type": "markdown",
   "metadata": {},
   "source": [
    "**Python** provides a lot of data types like `integer`, `double`, `boolean`, `string`, `tuple`, and `list`\n",
    "\n",
    "It also provides another composite data type called **dictionary** which is similar to the **list** that it is a collection of objects.\n",
    "\n",
    "Python dictionary is **unordered**, **changeable**, **indexed** collection of items"
   ]
  },
  {
   "cell_type": "markdown",
   "metadata": {},
   "source": [
    "Like **lists dictionaries** can easily be\n",
    "- changed,\n",
    "- shrunk\n",
    "- and grown without the necessity of making copies"
   ]
  },
  {
   "cell_type": "markdown",
   "metadata": {},
   "source": [
    "<hr>"
   ]
  },
  {
   "cell_type": "markdown",
   "metadata": {},
   "source": [
    "## Lists Vs Dictionaries"
   ]
  },
  {
   "cell_type": "markdown",
   "metadata": {},
   "source": [
    "## Similarities\n",
    "\n",
    "- Both are mutable.\n",
    "- Both are dynamic.\n",
    "- They can grow and shrink as needed.\n",
    "- Both can be nested.\n",
    "- A list can contain another list.\n",
    "- A dictionary can contain another dictionary.\n",
    "- A dictionary can also contain a list, and vice versa."
   ]
  },
  {
   "cell_type": "markdown",
   "metadata": {},
   "source": [
    "## Differences\n",
    "- Lists are ordered sets of while dictionaries are unordered sets of objects\n",
    "- Items in lists are accessed via thier positions while items in dictionaries are access via keys\n",
    "\n"
   ]
  },
  {
   "cell_type": "markdown",
   "metadata": {},
   "source": [
    "<hr>"
   ]
  },
  {
   "cell_type": "markdown",
   "metadata": {},
   "source": [
    "## Creating a dictionary"
   ]
  },
  {
   "cell_type": "markdown",
   "metadata": {},
   "source": [
    "`Syntax: d = {<key>: <value>, <key>: <value>, <key>: <value> }`"
   ]
  },
  {
   "cell_type": "markdown",
   "metadata": {},
   "source": [
    "Each key is\n",
    "- separated from its value by a colon `(:)`,\n",
    "- the items are separated by commas,\n",
    "- and the whole thing is enclosed in curly braces`{}`.\n",
    "- An empty dictionary without any items is written with\n",
    "- just two curly braces, like this: `{}`."
   ]
  },
  {
   "cell_type": "code",
   "execution_count": 2,
   "metadata": {},
   "outputs": [],
   "source": [
    "# Example: Create empty dictionary and print\n"
   ]
  },
  {
   "cell_type": "code",
   "execution_count": 3,
   "metadata": {},
   "outputs": [],
   "source": [
    "# Example 1: Create dictionary with integer keys and print\n",
    "\n",
    "\n",
    "# Example 2: Create dictionary with mixed keys and print\n",
    "\n",
    "\n",
    "# Example 3: Create dictionary using dict and print\n"
   ]
  },
  {
   "cell_type": "markdown",
   "metadata": {},
   "source": [
    "**Note**: While values can be of any data type and can repeat, keys must be of **immutable type (string, number or\n",
    "tuple with immutable elements)** and must be **unique**."
   ]
  },
  {
   "cell_type": "markdown",
   "metadata": {},
   "source": [
    "<hr>"
   ]
  },
  {
   "cell_type": "markdown",
   "metadata": {},
   "source": [
    "## Accessing Dictionary Elements"
   ]
  },
  {
   "cell_type": "markdown",
   "metadata": {},
   "source": [
    "While **indexing** is used with other container types to access values, dictionary uses keys.\n",
    "Key can be used either inside square brackets or with\n",
    "the `get()` method.\n",
    "\n",
    "The difference while using `get()` is that it returns `None`\n",
    "instead of `KeyError`, if the key is `not found`."
   ]
  },
  {
   "cell_type": "code",
   "execution_count": 4,
   "metadata": {},
   "outputs": [],
   "source": [
    "# Example 1: Create student profile and print the result\n",
    "\n",
    "# Access element by using dictionary item\n",
    "\n",
    "# access element by using get() method\n"
   ]
  },
  {
   "cell_type": "markdown",
   "metadata": {},
   "source": [
    "## Deleting dictionary elements\n",
    "\n",
    "- You can either remove individual dictionary elements or clear the entire contents of a dictionary using `clear()` function.\n",
    "\n",
    "- You can also delete entire dictionary in a single operation. To explicitly remove an entire dictionary, just use the `del` statement.\n",
    "- Other functions like `pop()` and `popitem()` can also be used for deleting specific values and arbitrary values from a Dictionary.\n"
   ]
  },
  {
   "cell_type": "code",
   "execution_count": 1,
   "metadata": {},
   "outputs": [],
   "source": [
    "# Eample 1: remove entry with key name \n",
    "\n",
    "\n",
    "# Example 2: Deleting a key using pop()\n",
    "\n",
    "\n",
    "# Example 3: Deleting a key using popitem()\n",
    "\n",
    "\n",
    "# Example 4: Remove the entire dictionary using clear()\n",
    "\n",
    "\n"
   ]
  },
  {
   "cell_type": "markdown",
   "metadata": {},
   "source": [
    "## Accessing all elements using Loop\n",
    "You can loop through a dictionary by using a `for loop`.\n",
    "\n",
    "When looping through a dictionary,the return value are the keys of the dictionary, but there\n",
    "are methods to return the values as well."
   ]
  },
  {
   "cell_type": "code",
   "execution_count": null,
   "metadata": {},
   "outputs": [],
   "source": [
    "# Example 1 : Create new dictionary and print all keys in the dictionary \n",
    "\n",
    "# Example 2: Print all values through a dictionary \n",
    "\n",
    "\n",
    "# Example 3: Print all values through a dictionary using values() method\n",
    "\n",
    "# Example 4: Print all keys and values through a dictionary using items() method\n",
    "\n"
   ]
  },
  {
   "cell_type": "markdown",
   "metadata": {},
   "source": [
    "## Nested Dictionary\n",
    "\n",
    "Nesting Dictionary means putting a dictionary inside another dictionary.\n",
    "\n",
    "Nesting is of great use as the kind of information we can\n",
    "model in programs is expanded greatly."
   ]
  },
  {
   "cell_type": "markdown",
   "metadata": {},
   "source": [
    "`nested_dict = { 'dict1': {'key_A': 'value_A'},\n",
    "'dict2': {'key_B': 'value_B'}}`\n",
    "                \n",
    "A Nested dictionary can be created by placing the comma-\n",
    "separated dictionaries enclosed withing braces."
   ]
  },
  {
   "cell_type": "code",
   "execution_count": null,
   "metadata": {},
   "outputs": [],
   "source": [
    "# Example 1: Create empty dictionary dict1\n",
    "\n",
    "# Example 2: Create empty nested dictionary inside dict1\n",
    "\n",
    "# Example 3: Adding element one at a time\n",
    "\n",
    "# Example 4: Adding whole dictionary\n",
    "\n"
   ]
  },
  {
   "cell_type": "markdown",
   "metadata": {},
   "source": [
    "## Reading Assignment\n",
    "#### Additional Built-in dictionary Functions and Methods"
   ]
  },
  {
   "cell_type": "markdown",
   "metadata": {},
   "source": [
    "`cmp(dict1, dict2)`, `len(dict)`, `str(dict)`, `type(variable)`, `copy()`, `clear()`, `keys()`, `fromkeys`,  `Updates`, `setdefault()`"
   ]
  }
 ],
 "metadata": {
  "kernelspec": {
   "display_name": "Python 3",
   "language": "python",
   "name": "python3"
  },
  "language_info": {
   "codemirror_mode": {
    "name": "ipython",
    "version": 3
   },
   "file_extension": ".py",
   "mimetype": "text/x-python",
   "name": "python",
   "nbconvert_exporter": "python",
   "pygments_lexer": "ipython3",
   "version": "3.9.9"
  },
  "widgets": {
   "application/vnd.jupyter.widget-state+json": {
    "state": {},
    "version_major": 2,
    "version_minor": 0
   }
  }
 },
 "nbformat": 4,
 "nbformat_minor": 4
}
