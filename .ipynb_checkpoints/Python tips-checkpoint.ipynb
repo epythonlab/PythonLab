{
 "cells": [
  {
   "cell_type": "markdown",
   "id": "f106c5ad-6fde-4f05-b3c7-7d2e56f1f85b",
   "metadata": {},
   "source": [
    "# Python Top Tips"
   ]
  },
  {
   "cell_type": "markdown",
   "id": "530853db-6295-46bf-b84c-9c410b8c27c9",
   "metadata": {},
   "source": [
    "> ## How to Convert Letters into Numbers"
   ]
  },
  {
   "cell_type": "markdown",
   "id": "83c18366-15c6-454f-b07f-ed873b7fbd92",
   "metadata": {},
   "source": [
    "We use `ord()` method to convert Letters into numbers\n"
   ]
  },
  {
   "cell_type": "code",
   "execution_count": 2,
   "id": "c2829db7-960b-4312-8e23-60f67667b721",
   "metadata": {},
   "outputs": [],
   "source": [
    "# Show some example here\n",
    "\"\"\"\n",
    "    the ord() method takes a single character as an input and \n",
    "    return an integer \n",
    "    representing the Unicode character\n",
    "\"\"\"\n",
    "\n",
    "\n",
    "\n"
   ]
  },
  {
   "cell_type": "markdown",
   "id": "c4e98a18-f6c7-4fe5-ad0d-8c60517d48e0",
   "metadata": {},
   "source": [
    "#\n",
    "#\n",
    "#\n",
    "#\n",
    "#\n",
    "#\n",
    "#\n",
    "#\n",
    "#\n",
    "#\n"
   ]
  },
  {
   "cell_type": "markdown",
   "id": "3a985563-7641-498b-84a0-b94de820f033",
   "metadata": {},
   "source": [
    "> # Extended Iterable Unpacking\n",
    "\n",
    "What is unpacking?\n",
    "\n",
    "**Unpacking** in Python refers to an operation that consists of assigning an iterable of values to a `tuple (or list )` of variables in a single assignment statement. \n",
    "\n",
    "- As a complement, the term packing can be used when we collect several values in a single variable using the iterable unpacking operator, `*` \n",
    "\n",
    "\n",
    "\n",
    "This was introduced in **PEP 3132**.\n",
    "\n",
    "It was proposed a changes to iterable unpacking syntax, allowing to specify a **“catch-all”** name which will be assigned a list of all items not assigned to a **“regular”** name.\n",
    "\n",
    "- Many algorithms require splitting a sequence in a “first, rest” pair. \n",
    "\n",
    "    `first, rest = seq[0], seq[1:]`, but with the new syntax,\n",
    "    \n",
    " - is replaced by the cleaner and probably more efficient:\n",
    "\n",
    "     `first, *rest = seq`\n",
    "\n",
    "The `*` operator is known, in this context, as the tuple (or iterable) unpacking operator. \n",
    "\n",
    "It extends the unpacking functionality to allow us to collect or pack multiple values in a single variable.\n"
   ]
  },
  {
   "cell_type": "markdown",
   "id": "2bb7aaad-dc29-46fb-9612-088777617e4e",
   "metadata": {},
   "source": [
    "For example, if `seq` is a sliceable sequence, all the following assignments are equivalent if `seq` has at least two elements:\n"
   ]
  },
  {
   "cell_type": "code",
   "execution_count": null,
   "id": "21dc5f7c-1c8e-4745-a84e-b4cf19f6af15",
   "metadata": {},
   "outputs": [],
   "source": [
    "a, b, c = seq[0], list(seq[1:-1]), seq[-1] # instead of using \n",
    "\n",
    "a, *b, c = seq # more efficient way\n",
    "\n",
    "[a, *b, c] = seq # in a list\n",
    "\n",
    "(a, *b, c) = seq # in a tuple"
   ]
  },
  {
   "cell_type": "markdown",
   "id": "c074fa8f-9bc9-4a7b-a925-004b0548bd81",
   "metadata": {},
   "source": [
    "It is an error (as it is currently) if the iterable doesn’t contain enough items to assign to all the mandatory expressions.\n",
    "\n",
    "It is also an error to use the starred expression as a lone assignment target, as in"
   ]
  },
  {
   "cell_type": "code",
   "execution_count": 21,
   "id": "037e1f7f-0bd7-4f26-b06d-cc317d7bce90",
   "metadata": {},
   "outputs": [
    {
     "ename": "SyntaxError",
     "evalue": "starred assignment target must be in a list or tuple (<ipython-input-21-94e038b43051>, line 1)",
     "output_type": "error",
     "traceback": [
      "\u001b[0;36m  File \u001b[0;32m\"<ipython-input-21-94e038b43051>\"\u001b[0;36m, line \u001b[0;32m1\u001b[0m\n\u001b[0;31m    *a = range(5) # error\u001b[0m\n\u001b[0m    ^\u001b[0m\n\u001b[0;31mSyntaxError\u001b[0m\u001b[0;31m:\u001b[0m starred assignment target must be in a list or tuple\n"
     ]
    }
   ],
   "source": [
    "*a = range(5) # error"
   ]
  },
  {
   "cell_type": "code",
   "execution_count": 22,
   "id": "3723c1b6-74ac-4538-b0c3-f4800d875e69",
   "metadata": {},
   "outputs": [
    {
     "data": {
      "text/plain": [
       "[0, 1, 2, 3, 4]"
      ]
     },
     "execution_count": 22,
     "metadata": {},
     "output_type": "execute_result"
    }
   ],
   "source": [
    "# however this is a valid\n",
    "*a, = range(5)\n",
    "a"
   ]
  },
  {
   "cell_type": "markdown",
   "id": "120d8af9-5603-438c-ba72-807e7a8816d9",
   "metadata": {},
   "source": [
    "Example"
   ]
  },
  {
   "cell_type": "code",
   "execution_count": 26,
   "id": "27bcf0f1-7776-4dc7-9be2-e76bb9d954b5",
   "metadata": {},
   "outputs": [
    {
     "name": "stdout",
     "output_type": "stream",
     "text": [
      "0\n",
      "4\n",
      "[1, 2, 3]\n"
     ]
    }
   ],
   "source": [
    "# extended iterable unpacking\n",
    "a, *b, c = range(5)\n",
    "print(a)\n",
    "print(c)\n",
    "print(b)"
   ]
  },
  {
   "cell_type": "markdown",
   "id": "41991a87-d101-431f-a228-853ce4ac3173",
   "metadata": {},
   "source": [
    "**Exercise**:"
   ]
  },
  {
   "cell_type": "markdown",
   "id": "95d7e3ce-eae4-4e79-a793-c7b7c042d599",
   "metadata": {},
   "source": [
    "Let's call a list `beautiful` if its **first element** is equal to its **last element**, or if a list is **empty**. \n",
    "\n",
    "Given a list `a`, your task is to chop off its first and its last element until it becomes beautiful. \n",
    "\n",
    "Implement a function that will make the given a beautiful as described, and return the resulting list as an answer.\n",
    "\n"
   ]
  },
  {
   "cell_type": "markdown",
   "id": "a9d401c4-1701-40e1-adb8-d42a6f954fc8",
   "metadata": {},
   "source": [
    "For example  `a = [3, 4, 2, 4, 38, 4, 5, 3, 2]`, the output should be\n",
    "`beautiful(a) = [4, 38, 4]`."
   ]
  },
  {
   "cell_type": "code",
   "execution_count": 30,
   "id": "2bc2e3fd-bd58-4898-9a83-b98ed5380900",
   "metadata": {},
   "outputs": [
    {
     "data": {
      "text/plain": [
       "[4, 38, 4]"
      ]
     },
     "execution_count": 30,
     "metadata": {},
     "output_type": "execute_result"
    }
   ],
   "source": [
    "a = [3, 4, 2, 4, 38, 4, 5, 3, 2]\n",
    "\n",
    "res = a[:]\n",
    "while res and res[0] != res[-1]:\n",
    "    first, *res, last = res\n",
    "\n",
    "res"
   ]
  },
  {
   "cell_type": "markdown",
   "id": "8a2ce2fb-fd8d-4c2b-8932-b56f661f45bb",
   "metadata": {},
   "source": [
    "> # Sort Dictionary By key & value"
   ]
  },
  {
   "cell_type": "code",
   "execution_count": 5,
   "id": "8e794821-98b7-4f5c-9fe3-018d648af21b",
   "metadata": {},
   "outputs": [],
   "source": [
    "# let's have list of fruit prices per kg\n",
    "fruits_info = {\n",
    "    'mango': 13.5,\n",
    "    'bannana': 10.4,\n",
    "    'orange': 8.9,\n",
    "    'avocado': 12.5,\n",
    "    'ananas' : 11.7\n",
    "}"
   ]
  },
  {
   "cell_type": "markdown",
   "id": "25863fb6-9825-4dc7-a99a-2afa388ddd39",
   "metadata": {},
   "source": [
    "> 1. Sort by key"
   ]
  },
  {
   "cell_type": "code",
   "execution_count": 46,
   "id": "ec016364-7809-460c-970f-36739632576d",
   "metadata": {},
   "outputs": [
    {
     "data": {
      "text/plain": [
       "['ananas', 'avocado', 'bannana', 'mango', 'orange']"
      ]
     },
     "execution_count": 46,
     "metadata": {},
     "output_type": "execute_result"
    }
   ],
   "source": [
    "sorted(fruits_info.keys())"
   ]
  },
  {
   "cell_type": "code",
   "execution_count": 47,
   "id": "47e21c5f-2e05-4c7a-9145-87a2908c9c7d",
   "metadata": {},
   "outputs": [
    {
     "name": "stdout",
     "output_type": "stream",
     "text": [
      "11.7\n",
      "12.5\n",
      "10.4\n",
      "13.5\n",
      "8.9\n"
     ]
    }
   ],
   "source": [
    "for key in sorted(fruits_info):\n",
    "    print(fruits_info[key])"
   ]
  },
  {
   "cell_type": "code",
   "execution_count": 49,
   "id": "da0c28b9-f927-4069-aba5-20cec80774fc",
   "metadata": {},
   "outputs": [
    {
     "data": {
      "text/plain": [
       "{'mango': 13.5,\n",
       " 'bannana': 10.4,\n",
       " 'orange': 8.9,\n",
       " 'avocado': 12.5,\n",
       " 'ananas': 11.7}"
      ]
     },
     "execution_count": 49,
     "metadata": {},
     "output_type": "execute_result"
    }
   ],
   "source": [
    "fruits_info"
   ]
  },
  {
   "cell_type": "code",
   "execution_count": 51,
   "id": "565d23ec-2c2d-4578-b77b-18324e6acbb7",
   "metadata": {},
   "outputs": [
    {
     "data": {
      "text/plain": [
       "['ananas', 'avocado', 'bannana', 'mango', 'orange']"
      ]
     },
     "execution_count": 51,
     "metadata": {},
     "output_type": "execute_result"
    }
   ],
   "source": [
    "sorted(fruits_info)"
   ]
  },
  {
   "cell_type": "code",
   "execution_count": 54,
   "id": "61d95d2e-99fd-4d22-9073-a2e40fbd2e3f",
   "metadata": {},
   "outputs": [
    {
     "data": {
      "text/plain": [
       "['orange', 'mango', 'bannana', 'avocado', 'ananas']"
      ]
     },
     "execution_count": 54,
     "metadata": {},
     "output_type": "execute_result"
    }
   ],
   "source": [
    "sorted(fruits_info, reverse=True)"
   ]
  },
  {
   "cell_type": "code",
   "execution_count": 55,
   "id": "0fe40372-3bcd-4a52-a45f-d652d3e5bd28",
   "metadata": {},
   "outputs": [
    {
     "name": "stdout",
     "output_type": "stream",
     "text": [
      "{'ananas': 11.7, 'avocado': 12.5, 'bannana': 10.4, 'mango': 13.5, 'orange': 8.9}\n"
     ]
    }
   ],
   "source": [
    "# show code here\n",
    "# Method 1: Using loop\n",
    "sorted_fruits = {key:fruits_info[key] for key in sorted(fruits_info, reverse=False)} # dictionary comprehension\n",
    "\n",
    "print(sorted_fruits)\n"
   ]
  },
  {
   "cell_type": "markdown",
   "id": "794ede50-d6cd-490d-855a-412bfec965db",
   "metadata": {},
   "source": [
    "> 2. Sort by values"
   ]
  },
  {
   "cell_type": "code",
   "execution_count": 57,
   "id": "03a4bbca-a241-455e-9b65-d739746e10c3",
   "metadata": {},
   "outputs": [
    {
     "name": "stdout",
     "output_type": "stream",
     "text": [
      "('ananas', 11.7)\n",
      "('avocado', 12.5)\n",
      "('bannana', 10.4)\n",
      "('mango', 13.5)\n",
      "('orange', 8.9)\n"
     ]
    }
   ],
   "source": [
    "for item in sorted(fruits_info.items()):\n",
    "    print(item)"
   ]
  },
  {
   "cell_type": "code",
   "execution_count": 59,
   "id": "933062a5-7901-4bec-b4af-5fb9142f5f3f",
   "metadata": {},
   "outputs": [
    {
     "name": "stdout",
     "output_type": "stream",
     "text": [
      "{'mango': 13.5, 'avocado': 12.5, 'ananas': 11.7, 'bannana': 10.4, 'orange': 8.9}\n"
     ]
    }
   ],
   "source": [
    "# show code here\n",
    "# Mehtod 1: Using lambda function\n",
    "\n",
    "sorted_fruits_by_value = dict(sorted(fruits_info.items(), key = lambda item: item[1], reverse=True))\n",
    "print(sorted_fruits_by_value)"
   ]
  },
  {
   "cell_type": "markdown",
   "id": "144dab6d-a002-4c08-82ef-2706f11569c6",
   "metadata": {},
   "source": [
    "> # String Formatting"
   ]
  },
  {
   "cell_type": "markdown",
   "id": "67d536d5-0dc5-4e6d-91c7-ad566cb634bc",
   "metadata": {},
   "source": [
    "String formatting is also known as **String interpolation**. \n",
    "\n",
    "It is the process of **inserting a custom string or variable**in predefined text."
   ]
  },
  {
   "cell_type": "markdown",
   "id": "c74b615b-9145-4f40-8026-6401957b3560",
   "metadata": {},
   "source": [
    "There are three commonly used string formatting:\n",
    "\n",
    "1. Formatting with `%` Operator.\n",
    "2. Formatting with `format()` string method.\n",
    "3. Formatting with string literals, called `f-strings`."
   ]
  },
  {
   "cell_type": "markdown",
   "id": "bb8ba694-7dbe-4d43-b339-4cc941cae4e9",
   "metadata": {},
   "source": [
    "### Using `%` Operator"
   ]
  },
  {
   "cell_type": "code",
   "execution_count": 51,
   "id": "681e5bb4-1986-4302-8021-f27af89deaa2",
   "metadata": {},
   "outputs": [
    {
     "name": "stdout",
     "output_type": "stream",
     "text": [
      "My name is Asibeh. I am 32 years old\n"
     ]
    }
   ],
   "source": [
    "# show example here\n",
    "name = 'Asibeh'\n",
    "age = 32\n",
    "print('My name is %s. I am %d years old'%(name, age))"
   ]
  },
  {
   "cell_type": "markdown",
   "id": "1aec576b-dbed-4c50-843d-3d9945fd36d1",
   "metadata": {},
   "source": [
    "**Note** : `%s` is used for string, `%d` is for integer and `%f` is for floating-point values."
   ]
  },
  {
   "cell_type": "markdown",
   "id": "601cd7be-87ec-4c2f-98d2-756fc356b937",
   "metadata": {},
   "source": [
    "### Float precision with the placeholder method\n"
   ]
  },
  {
   "cell_type": "code",
   "execution_count": 53,
   "id": "d25381a9-165e-4661-a701-1342c3f0d9a7",
   "metadata": {},
   "outputs": [
    {
     "name": "stdout",
     "output_type": "stream",
     "text": [
      "The pi 3.123\n"
     ]
    }
   ],
   "source": [
    "# show example here\n",
    "pi = 3.123456\n",
    "print('The pi %0.3f'%pi)"
   ]
  },
  {
   "cell_type": "markdown",
   "id": "93637bde-5f42-449f-89c8-38887c1152c6",
   "metadata": {},
   "source": [
    "**Note**: `%a.bf` is used to format floating-point values"
   ]
  },
  {
   "cell_type": "markdown",
   "id": "00360174-b581-48f5-90ef-3c85b70bc9f7",
   "metadata": {},
   "source": [
    "## using `format()` method"
   ]
  },
  {
   "cell_type": "markdown",
   "id": "577f955e-7930-445d-926f-40f9142a7d0b",
   "metadata": {},
   "source": [
    "`Syntax: ‘String here {} then also {}’.format(‘something1′,’something2’)`"
   ]
  },
  {
   "cell_type": "code",
   "execution_count": 56,
   "id": "88a39556-7896-4204-9303-9034d28553a3",
   "metadata": {},
   "outputs": [
    {
     "name": "stdout",
     "output_type": "stream",
     "text": [
      "My name is Asibeh. I am 32 years old.\n"
     ]
    }
   ],
   "source": [
    "# show example here\n",
    "name = 'Asibeh'\n",
    "age = 32\n",
    "print('My name is {}. I am {} years old.'.format(name, age))"
   ]
  },
  {
   "cell_type": "code",
   "execution_count": 63,
   "id": "a66be579-d567-46ac-9118-18f4d64218a6",
   "metadata": {},
   "outputs": [
    {
     "name": "stdout",
     "output_type": "stream",
     "text": [
      "2 + 2\n"
     ]
    }
   ],
   "source": [
    "a = 2.3456\n",
    "b = 1.655\n",
    "print('{0:.0f} + {1:.0f}'.format(a, b))"
   ]
  },
  {
   "cell_type": "markdown",
   "id": "d973bd78-a7aa-4003-a184-8069c4555329",
   "metadata": {},
   "source": [
    "## using `F-strings`\n",
    "This string formatter was introduced in **PEP 498** know as **Literal String Interpolation** or more commonly as **F-strings**\n",
    "\n",
    "- because of the leading `f` character preceding the string literal\n",
    " \n",
    "\n",
    "- The idea behind f-strings is to make string interpolation simpler."
   ]
  },
  {
   "cell_type": "code",
   "execution_count": 65,
   "id": "26c99d9c-eff2-4915-a6f4-a31225e6e7f8",
   "metadata": {},
   "outputs": [
    {
     "name": "stdout",
     "output_type": "stream",
     "text": [
      "My name is Asibeh. I am 32 years old.\n"
     ]
    }
   ],
   "source": [
    "# show example here\n",
    "name = 'Asibeh'\n",
    "age = 32\n",
    "print(f'My name is {name}. I am {age} years old.')"
   ]
  },
  {
   "cell_type": "markdown",
   "id": "b55b6f4f-ea13-4d72-8578-a5cba5d2fb14",
   "metadata": {},
   "source": [
    "> ## Manipulating Files and Directories in Python"
   ]
  },
  {
   "cell_type": "markdown",
   "id": "2d0952ee-0b18-4372-bfab-ed5f5b7bc432",
   "metadata": {},
   "source": [
    "# `os` module"
   ]
  },
  {
   "cell_type": "code",
   "execution_count": 19,
   "id": "e93f272c-e384-4c5e-b386-0ed63542e394",
   "metadata": {},
   "outputs": [],
   "source": [
    "import os"
   ]
  },
  {
   "cell_type": "markdown",
   "id": "cd2619df-e03e-4742-bd67-ca75fdba260c",
   "metadata": {},
   "source": [
    "1. Getting the current working directory"
   ]
  },
  {
   "cell_type": "code",
   "execution_count": 21,
   "id": "6fe3ee86-7f28-42a9-a5c7-23bdbc3ccccc",
   "metadata": {},
   "outputs": [
    {
     "data": {
      "text/plain": [
       "'/home/noh/Desktop'"
      ]
     },
     "execution_count": 21,
     "metadata": {},
     "output_type": "execute_result"
    }
   ],
   "source": [
    "os.getcwd() # C:\\Home/Desktop/"
   ]
  },
  {
   "cell_type": "markdown",
   "id": "abccd3e8-1368-4a0d-8b2f-088911dd90fd",
   "metadata": {},
   "source": [
    "2. Create new directory"
   ]
  },
  {
   "cell_type": "code",
   "execution_count": 22,
   "id": "3303d204-7436-4613-9c0c-1d3657a19077",
   "metadata": {},
   "outputs": [],
   "source": [
    "os.mkdir('python')"
   ]
  },
  {
   "cell_type": "markdown",
   "id": "ae5eccdf-aa05-4bbf-8d2b-65612211731b",
   "metadata": {},
   "source": [
    "3. Change the current working directory to 'python'"
   ]
  },
  {
   "cell_type": "code",
   "execution_count": 23,
   "id": "f1bf6ade-4d68-4070-ad94-02e203976bee",
   "metadata": {},
   "outputs": [],
   "source": [
    "os.chdir('python') #/home/Desktop/"
   ]
  },
  {
   "cell_type": "code",
   "execution_count": 24,
   "id": "628b2704-c9ea-4a5d-ae1d-2533b437424c",
   "metadata": {},
   "outputs": [
    {
     "data": {
      "text/plain": [
       "'/home/noh/Desktop/python'"
      ]
     },
     "execution_count": 24,
     "metadata": {},
     "output_type": "execute_result"
    }
   ],
   "source": [
    "os.getcwd()"
   ]
  },
  {
   "cell_type": "code",
   "execution_count": 25,
   "id": "1b8b3d68-6a20-49c8-ad6f-592ca07f8550",
   "metadata": {},
   "outputs": [],
   "source": [
    "os.mkdir('p2')"
   ]
  },
  {
   "cell_type": "markdown",
   "id": "2716c9ee-9b2b-4e75-8d0c-0c4ec2e88036",
   "metadata": {},
   "source": [
    "4. remove the directory"
   ]
  },
  {
   "cell_type": "code",
   "execution_count": 26,
   "id": "e1935cfd-cc6f-43c7-baa4-474e5ec0d5e0",
   "metadata": {},
   "outputs": [],
   "source": [
    "os.rmdir('p2')"
   ]
  },
  {
   "cell_type": "code",
   "execution_count": 34,
   "id": "5496d064-365e-4cb5-887f-6d0201e6cef6",
   "metadata": {},
   "outputs": [],
   "source": [
    "if not os.path.exists('p3'):\n",
    "    os.mkdir('p3')\n",
    "else:\n",
    "    print('The directory exists.')\n",
    "    "
   ]
  },
  {
   "cell_type": "markdown",
   "id": "ba7c16d7-70b9-41a9-8be0-9eee86854d2b",
   "metadata": {},
   "source": [
    "5. List the contents of the directory"
   ]
  },
  {
   "cell_type": "code",
   "execution_count": 38,
   "id": "6497518f-45e7-4980-befc-82df484d6d41",
   "metadata": {},
   "outputs": [
    {
     "name": "stdout",
     "output_type": "stream",
     "text": [
      "p3\n",
      "p2\n"
     ]
    }
   ],
   "source": [
    "list_dir = os.listdir() # 'C:\\Home\\Des'\n",
    "for dr in list_dir:\n",
    "    print(dr)"
   ]
  },
  {
   "cell_type": "code",
   "execution_count": 39,
   "id": "e722b25c-7aa9-4e29-888b-c6d4eceeee96",
   "metadata": {},
   "outputs": [],
   "source": [
    "os.chdir('p2')"
   ]
  },
  {
   "cell_type": "code",
   "execution_count": 40,
   "id": "9f953c00-c942-47a1-92b2-a4dbc759a3cc",
   "metadata": {},
   "outputs": [
    {
     "data": {
      "text/plain": [
       "'/home/noh/Desktop/python/p2'"
      ]
     },
     "execution_count": 40,
     "metadata": {},
     "output_type": "execute_result"
    }
   ],
   "source": [
    "os.getcwd()"
   ]
  },
  {
   "cell_type": "code",
   "execution_count": 45,
   "id": "140f109e-34a7-42ff-a23f-500212999bfb",
   "metadata": {},
   "outputs": [],
   "source": [
    "#os.chdir('/home/noh/Desktop/python/')"
   ]
  },
  {
   "cell_type": "code",
   "execution_count": 41,
   "id": "5b95e33a-835f-44eb-a399-8e3d4b169a2e",
   "metadata": {},
   "outputs": [],
   "source": [
    "with open('f1.txt', 'w') as f:\n",
    "    f.write(f'A file is create at {os.getcwd()}')"
   ]
  },
  {
   "cell_type": "code",
   "execution_count": 42,
   "id": "5a13c69e-de27-427e-8f0c-05a0098993fb",
   "metadata": {},
   "outputs": [],
   "source": [
    "os.remove('f1.txt') #os.rmdir('')"
   ]
  },
  {
   "cell_type": "code",
   "execution_count": 43,
   "id": "81f7e155-06de-482f-81ab-a838fe05c88a",
   "metadata": {},
   "outputs": [],
   "source": [
    "os.rmdir('/home/noh/Desktop/python/p2')"
   ]
  },
  {
   "cell_type": "code",
   "execution_count": 46,
   "id": "ac3d7204-2ae3-4361-87f2-54652493a47d",
   "metadata": {},
   "outputs": [],
   "source": [
    "os.chdir('p3')"
   ]
  },
  {
   "cell_type": "code",
   "execution_count": 47,
   "id": "7e740617-2a60-44ca-9579-edced51bc271",
   "metadata": {},
   "outputs": [
    {
     "data": {
      "text/plain": [
       "'/home/noh/Desktop/python/p3'"
      ]
     },
     "execution_count": 47,
     "metadata": {},
     "output_type": "execute_result"
    }
   ],
   "source": [
    "os.getcwd()"
   ]
  },
  {
   "cell_type": "markdown",
   "id": "a2cca0f4-4bc1-4aae-834e-1cebe15ccee7",
   "metadata": {},
   "source": [
    "> # Python's Type Hinting"
   ]
  },
  {
   "cell_type": "markdown",
   "id": "57df487e-5bc6-4140-947e-03b20aee35c9",
   "metadata": {},
   "source": [
    "Python uses dynamic typing, in which variables, parameters, and return values of a function can be any type.\n",
    "\n",
    "- Python’s type hints provide you with optional static typing to leverage the best of both static and dynamic typing.\n",
    "\n",
    "- Type hinting is a formal solution to statically indicate the type of a value within your Python code. \n",
    "- It was specified in **PEP 484** and introduced in **Python 3.5**.\n",
    "#\n",
    "\n",
    "Example: here's an example of a function that returns values without adding type hinting"
   ]
  },
  {
   "cell_type": "code",
   "execution_count": 1,
   "id": "96d32382-6014-434d-b3bb-cc1a704f17b0",
   "metadata": {},
   "outputs": [
    {
     "data": {
      "text/plain": [
       "'Hi, nice to meeting you Asibeh'"
      ]
     },
     "execution_count": 1,
     "metadata": {},
     "output_type": "execute_result"
    }
   ],
   "source": [
    "def greeting1(name):\n",
    "    \n",
    "    return f'Hi, nice to meeting you {name}'\n",
    "\n",
    "greeting1('Asibeh')"
   ]
  },
  {
   "cell_type": "markdown",
   "id": "88b8859b-0d93-47f9-9118-4db6fbf5b9f5",
   "metadata": {},
   "source": [
    "Here's a syntax for adding type hinting to a parameter and returns a function\n",
    "\n",
    "`parameter:type`\n",
    "`->type`\n",
    "\n",
    "#"
   ]
  },
  {
   "cell_type": "markdown",
   "id": "040590ea-f075-467a-9d76-af315ac99508",
   "metadata": {},
   "source": [
    "Here's an example of adding type information to a function `greeting2()` and you annotate the arguments and return values\n"
   ]
  },
  {
   "cell_type": "code",
   "execution_count": 2,
   "id": "04c509c3-2dba-4a68-8110-d634634e34fd",
   "metadata": {},
   "outputs": [
    {
     "data": {
      "text/plain": [
       "'Hi, nice to meet you Asibeh'"
      ]
     },
     "execution_count": 2,
     "metadata": {},
     "output_type": "execute_result"
    }
   ],
   "source": [
    "def greeting2(name:str)->str:\n",
    "    \n",
    "    return f'Hi, nice to meet you {name}'\n",
    "\n",
    "greeting2('Asibeh')\n",
    "    "
   ]
  },
  {
   "cell_type": "markdown",
   "id": "9d6835ce-c343-4fee-9f1b-86245ed4c11b",
   "metadata": {},
   "source": [
    "<h3 background='green'>Note: You can also use other built-in types such as <code>int, float, bool</code> etc </h3>"
   ]
  },
  {
   "cell_type": "code",
   "execution_count": 4,
   "id": "1653dd51-0944-4bb9-974f-9f6bd96f9619",
   "metadata": {},
   "outputs": [
    {
     "data": {
      "text/plain": [
       "6.5"
      ]
     },
     "execution_count": 4,
     "metadata": {},
     "output_type": "execute_result"
    }
   ],
   "source": [
    "from typing import Union\n",
    "\n",
    "def addNumber(num1:Union[int,float], num2:Union[int, float])->Union[float, int]:\n",
    "    return num1 + num2\n",
    "\n",
    "addNumber(4.2, 2.3)"
   ]
  },
  {
   "cell_type": "markdown",
   "id": "32f75e29-2c00-468d-bfbc-18c859c38023",
   "metadata": {
    "tags": []
   },
   "source": [
    "Here's another example of the function turns a text string into a **headline** by adding proper **capitalization and a decorative** line:"
   ]
  },
  {
   "cell_type": "code",
   "execution_count": 5,
   "id": "16016a63-a769-457b-bb31-b3eb9ef3e99e",
   "metadata": {},
   "outputs": [
    {
     "name": "stdout",
     "output_type": "stream",
     "text": [
      "Python Type Hinting Tutorial.\n",
      "-----------------------------\n",
      "************** Python Type Checking **************\n"
     ]
    }
   ],
   "source": [
    "def headline(text, align=True):\n",
    "    \n",
    "    if align:\n",
    "        \n",
    "        return f\"{text.title()}\\n{'-' * len(text)}\"\n",
    "    else:\n",
    "        return f\" {text.title()} \".center(50, '*')\n",
    "\n",
    "print(headline('python type hinting tutorial.'))\n",
    "print(headline('python type checking', align=False))"
   ]
  },
  {
   "cell_type": "markdown",
   "id": "3b8082ff-cc97-4aeb-844c-7f8bdcddd2ec",
   "metadata": {},
   "source": [
    "##\n"
   ]
  },
  {
   "cell_type": "markdown",
   "id": "032a3208-5fc1-4d01-9127-4d738d86cb95",
   "metadata": {},
   "source": [
    "Let's add type hints to the function `headline()` by annotating the arguments and the return value as follows:"
   ]
  },
  {
   "cell_type": "code",
   "execution_count": 4,
   "id": "bebf207f-8b42-4948-9406-df3cbc81896e",
   "metadata": {},
   "outputs": [
    {
     "name": "stdout",
     "output_type": "stream",
     "text": [
      "Python Type Checking\n",
      "--------------------\n",
      "************** Python Type Checking **************\n"
     ]
    }
   ],
   "source": [
    "def headline(text: str, align: bool = True)-> str:\n",
    "    \n",
    "    if align:\n",
    "        \n",
    "        return f\"{text.title()}\\n{'-' * len(text)}\"\n",
    "    else:\n",
    "        return f\" {text.title()} \".center(50, '*')\n",
    "\n",
    "print(headline('python type checking', align='left'))\n",
    "print(headline('python type checking', align=False))"
   ]
  },
  {
   "cell_type": "markdown",
   "id": "45f3c16b-9778-44ac-9807-5f8b490fd9bb",
   "metadata": {},
   "source": [
    "#\n",
    "\n",
    "## According to PEP 8, I recommend that you:\n",
    "\n",
    "- Use normal rules for colons, that is, no space before and one space after a colon (text: str).\n",
    "- Use spaces around the = sign when combining an argument annotation with a default value (align: bool = True).\n",
    "- Use spaces around the -> arrow (def headline(...) -> str)."
   ]
  },
  {
   "cell_type": "markdown",
   "id": "2b43c1f9-5dc6-490f-aa58-8216dd735719",
   "metadata": {},
   "source": [
    "---"
   ]
  },
  {
   "cell_type": "markdown",
   "id": "2dcc9fec-0b6b-4583-bdd3-683048936299",
   "metadata": {},
   "source": [
    "## Testing Your Code Before Deployment\n",
    ">Testing your code is essential before deployment."
   ]
  },
  {
   "cell_type": "markdown",
   "id": "f04051a5-8ec8-4ad5-8e7b-e6462b5009fd",
   "metadata": {},
   "source": [
    "## Unit tests"
   ]
  },
  {
   "cell_type": "markdown",
   "id": "d198b736-107b-4c45-a922-3dbcb858c0c9",
   "metadata": {},
   "source": [
    "The advantage of unit tests is that  \n",
    "- they are isolated from the rest of your program, and thus no dependencies are involved. \n",
    "- they don't require access to databases, APIs, or other external sources of information.\n",
    "\n",
    "- However, passing unit tests isn’t always enough to prove that your program is working successfully. \n",
    "\n",
    "The disadvantage of unit tests is that\n",
    "\n",
    "- In large program, all parts of the program not work properly, communicating, and transfering data between them correctly\n",
    "- however, when you start building larger programs, you will want to use integration tests as well."
   ]
  },
  {
   "cell_type": "markdown",
   "id": "7f489db8-5dc2-44e9-993c-b1c739d80384",
   "metadata": {},
   "source": [
    "#### install pytest library for unit-testing\n",
    "\n",
    "example in the model directory"
   ]
  },
  {
   "cell_type": "code",
   "execution_count": null,
   "id": "21e40a82-ca08-4cec-bf37-4e4a31bec90d",
   "metadata": {},
   "outputs": [],
   "source": [
    "# uncomment, the following line to install pytest\n",
    "#!pip install pytest"
   ]
  },
  {
   "cell_type": "markdown",
   "id": "5928b5e5-60be-4362-850a-4e3caf387656",
   "metadata": {},
   "source": [
    "## Find Common Elements in Two Lists in Python"
   ]
  },
  {
   "cell_type": "code",
   "execution_count": null,
   "id": "976c2280-be54-453e-922b-55d332ac1296",
   "metadata": {},
   "outputs": [],
   "source": [
    "\"\"\"\n",
    "    Let's assume you have two lists\n",
    "     each list contains list of numbers\n",
    "     You want to find common elements from the\n",
    "     two lists using three ways\n",
    "\n",
    "\"\"\"\n",
    "list_one = [3, 10, 25, 35, 20, 30, 40, 50]\n",
    "\n",
    "list_two = [20, 40, 22, 16, 30, 60, 5, 70, 100]\n",
    "\n",
    "# check the number of elements of both lists\n",
    "print(len(list_one))\n",
    "print(len(list_two))\n"
   ]
  },
  {
   "cell_type": "markdown",
   "id": "9876a9e9-ce29-49c4-8378-32ffb1ff0c9b",
   "metadata": {},
   "source": [
    "### 1. using `intersection()`"
   ]
  },
  {
   "cell_type": "code",
   "execution_count": null,
   "id": "f1d80c32-6dd1-4bba-8639-71c4025ba256",
   "metadata": {},
   "outputs": [],
   "source": [
    "# testing code here\n",
    "common_elements = set(list_one).intersection(list_two)\n",
    "print(common_elements)\n",
    "list(common_elements)"
   ]
  },
  {
   "cell_type": "markdown",
   "id": "72e61b4f-54f8-484b-8428-e7b98fdcf23e",
   "metadata": {},
   "source": [
    "### 2. using list comprehension"
   ]
  },
  {
   "cell_type": "code",
   "execution_count": null,
   "id": "109eb521-8006-4bb3-bed3-22d9b605e381",
   "metadata": {},
   "outputs": [],
   "source": [
    "# your code here\n",
    "common_elements = [i for i in list_one if i in list_two]\n",
    "print(common_elements)"
   ]
  },
  {
   "cell_type": "markdown",
   "id": "cbb127e0-20f6-4562-a701-7066c4a55bdc",
   "metadata": {},
   "source": [
    "### 3. using `&` operator"
   ]
  },
  {
   "cell_type": "code",
   "execution_count": null,
   "id": "b6e7f7ab-f516-4ae4-a925-ef0fc6318e78",
   "metadata": {},
   "outputs": [],
   "source": [
    "# your code here\n",
    "\n",
    "set_one = set(list_one)\n",
    "set_two = set(list_two)\n",
    "\n",
    "if set_one & set_two:\n",
    "    print(set_one & set_two)\n",
    "else:\n",
    "    print(\"No common elements\")"
   ]
  },
  {
   "cell_type": "markdown",
   "id": "1f997a6d-344d-4f8b-b1c2-c2e09eb6d54b",
   "metadata": {},
   "source": [
    "### Python's `reduce()` vs `accumulate()` function"
   ]
  },
  {
   "cell_type": "markdown",
   "id": "0e35c07f-9a73-4da1-a109-cd8960476269",
   "metadata": {},
   "source": [
    "`reduce()` function iterates over each item in a list, or any other iterable data type, and returns a single value. \n",
    "- It's one of the methods of the built-in `functools` class of Python."
   ]
  },
  {
   "cell_type": "markdown",
   "id": "07d31698-7d19-4d51-b854-843e3ec6a793",
   "metadata": {},
   "source": [
    "Here's an example of how to use reduce:"
   ]
  },
  {
   "cell_type": "code",
   "execution_count": null,
   "id": "dc490c54-044d-408b-a132-2849db78ccab",
   "metadata": {},
   "outputs": [],
   "source": [
    "from functools import reduce\n",
    "\n",
    "a = [2, 3, 4, 5, 1, 3]\n",
    "result = reduce(lambda x, y: x+y, a)\n",
    "\n",
    "print(result)"
   ]
  },
  {
   "cell_type": "markdown",
   "id": "a9ae5bcb-575c-4f7d-bc31-b292f49ec8e1",
   "metadata": {},
   "source": []
  },
  {
   "cell_type": "markdown",
   "id": "5b1b3270-8ff4-4ff9-8deb-dc754416be99",
   "metadata": {},
   "source": [
    "## <code><b style=\"color:'#345678';\">enumerate()</b></code> function in Python\n",
    "\n",
    "- It returns the length of an iterable and loops through its items simultaneously. \n",
    "\n",
    "- Thus, while printing each item in an iterable data type, it simultaneously outputs its index.\n"
   ]
  },
  {
   "cell_type": "markdown",
   "id": "6ea96fda-5a15-4c61-8116-fb91463954ca",
   "metadata": {},
   "source": [
    "Example: Assume that you want a user to see the list of items available in your database. You can pass them into a list and use the enumerate() function to return this as a numbered list.\n",
    "\n",
    "Here's how you can achieve this using the `enumerate()` method:"
   ]
  },
  {
   "cell_type": "code",
   "execution_count": null,
   "id": "64b23a75-ddb2-403f-8050-31709814d57c",
   "metadata": {
    "tags": []
   },
   "outputs": [],
   "source": [
    "# list of fruits\n",
    "fruits = ['Apple', 'Orange', 'Mango', 'Avocado', 'Banana']\n",
    "\n",
    "# you want to print the items along with its index as a numbered list\n",
    "for index, item in enumerate(fruits, start=1 ):\n",
    "    print(index, item)"
   ]
  },
  {
   "cell_type": "markdown",
   "id": "efc06d8e-7cd3-41a4-9936-2fa67b2686c9",
   "metadata": {},
   "source": [
    "An alternative way to print the items and their index using for loop\n"
   ]
  },
  {
   "cell_type": "code",
   "execution_count": null,
   "id": "3eca6669-3e81-4139-9639-d8ee847d3339",
   "metadata": {
    "tags": []
   },
   "outputs": [],
   "source": [
    "for i in range(len(fruits)):\n",
    "    print(i+1, fruits[i])"
   ]
  },
  {
   "cell_type": "markdown",
   "id": "52d1b663-54ca-446f-a2b4-cd44c5a4742a",
   "metadata": {},
   "source": [
    "## `eval()` function "
   ]
  },
  {
   "cell_type": "markdown",
   "id": "64edfeb1-737a-4150-9b89-bdb38d0dc9ff",
   "metadata": {},
   "source": [
    "`eval()` function uses to perform mathematical operations on integers or floats, even in their string forms. \n",
    "\n",
    "It's often helpful if a mathematical calculation is in a string format."
   ]
  },
  {
   "cell_type": "markdown",
   "id": "a85c566a-a1d1-4c46-9ff9-e5176e90c36f",
   "metadata": {},
   "source": [
    "Example: Here's how it works"
   ]
  },
  {
   "cell_type": "code",
   "execution_count": null,
   "id": "57a675ba-8534-41d6-88d1-758ff8a25747",
   "metadata": {
    "jupyter": {
     "source_hidden": true
    }
   },
   "outputs": [],
   "source": [
    "\"\"\"\n",
    "Let's assume you have a mathematical expression in\n",
    "string format\n",
    "and you wanna perform the result of the expression\n",
    "using eval()\n",
    "\"\"\"\n",
    "x = \"3+2**2\" # 3.2+4 = 7.2\n",
    "# when you print x as it is\n",
    "\n",
    "print(x)"
   ]
  },
  {
   "cell_type": "code",
   "execution_count": null,
   "id": "bd9ec049-8b4c-4e36-8d75-6495b62db0c4",
   "metadata": {
    "jupyter": {
     "source_hidden": true
    }
   },
   "outputs": [],
   "source": [
    "# using eval()\n",
    "re = eval(x) # convert the string into interger or float\n",
    "print(re)"
   ]
  },
  {
   "cell_type": "markdown",
   "id": "27f5c171-8dd4-4633-9afc-b3a1bb4beca6",
   "metadata": {},
   "source": [
    "## `map()` in Python"
   ]
  },
  {
   "cell_type": "markdown",
   "id": "c8b4cf26-2953-44af-b999-70fdd2759ad0",
   "metadata": {},
   "source": [
    "`map()` function returns a map object(which is an iterator) of the results after applying the given function to each item of a given iterable `(list, tuple etc.)`"
   ]
  },
  {
   "cell_type": "markdown",
   "id": "55cec5d9-9cba-4ec9-96d3-703ff46b4497",
   "metadata": {},
   "source": [
    "Syntax :\n",
    "\n",
    "`map(fun, iter)`"
   ]
  },
  {
   "cell_type": "markdown",
   "id": "bae3ad37-64d5-499a-93a3-15b2593754c5",
   "metadata": {},
   "source": [
    "Example: Add two lists using `map()` and `lambda` function\n"
   ]
  },
  {
   "cell_type": "code",
   "execution_count": null,
   "id": "d14bd1b1-e7de-480d-9b4a-2dae0bece0ac",
   "metadata": {
    "jupyter": {
     "source_hidden": true
    },
    "tags": []
   },
   "outputs": [],
   "source": [
    "def add_lists(lst1, lst2):\n",
    "    \n",
    "    result = map(lambda x, y : x + y , lst1, lst2)\n",
    "    \n",
    "    return result\n",
    "\n",
    "# call the function\n",
    "numbers1 = [1, 2, 3]\n",
    "numbers2 = [4, 5, 6]\n",
    "result = add_lists(numbers1, numbers2)\n",
    "print(set(result))"
   ]
  },
  {
   "cell_type": "code",
   "execution_count": null,
   "id": "f3d14a44-264b-42f5-aaf1-ae6e3e6597fc",
   "metadata": {
    "jupyter": {
     "source_hidden": true
    }
   },
   "outputs": [],
   "source": [
    "result\n"
   ]
  },
  {
   "cell_type": "code",
   "execution_count": null,
   "id": "9c851e85-814e-48e7-9cd2-0db89cfe1e33",
   "metadata": {
    "jupyter": {
     "source_hidden": true
    },
    "tags": []
   },
   "outputs": [],
   "source": [
    "print(list(result))"
   ]
  },
  {
   "cell_type": "markdown",
   "id": "61e34bca-6517-4c23-86a9-5d8ff340fe2e",
   "metadata": {},
   "source": [
    "# Python Top Tip : `reduce()` function"
   ]
  },
  {
   "cell_type": "markdown",
   "id": "e5070f64-6ea4-463f-a6cb-e0a743c07d44",
   "metadata": {},
   "source": [
    "The `reduce(fun,seq)` function is used to apply a particular function passed in its argument to all of the list elements mentioned in the sequence passed along.\n",
    "\n",
    "This function is defined in `functools` module."
   ]
  },
  {
   "cell_type": "markdown",
   "id": "41000b18-4ca1-4cbe-a95b-fd3166371a20",
   "metadata": {},
   "source": [
    "Example: Demonstrate working of `reduce()` "
   ]
  },
  {
   "cell_type": "code",
   "execution_count": null,
   "id": "2751fcd8-a259-4106-a3ec-e241e53fde20",
   "metadata": {
    "jupyter": {
     "source_hidden": true
    },
    "tags": []
   },
   "outputs": [],
   "source": [
    "import functools\n",
    "\n",
    "# initilize the list\n",
    "lst = [2, 3, 5, 7, 1, 4, 8, 9, 11, 34, 16]\n",
    "\n",
    "# find the sum of the sequence of the list\n",
    "\n",
    "sum_seq = functools.reduce(lambda x, y: x+y, lst)\n",
    "\n",
    "print(\"The sum of the list elements is:\", sum_seq)"
   ]
  },
  {
   "cell_type": "code",
   "execution_count": null,
   "id": "67edefa9-cbf1-4ca0-b0be-86a7a754d52e",
   "metadata": {
    "jupyter": {
     "source_hidden": true
    },
    "tags": []
   },
   "outputs": [],
   "source": [
    "# find the maximum element from the list\n",
    "max_el = functools.reduce(lambda x, y: x if x>y else y, lst)\n",
    "\n",
    "print(\"The max element is :\", max_el)\n"
   ]
  },
  {
   "cell_type": "code",
   "execution_count": null,
   "id": "acbf89e5-cf59-4449-9a85-c379051fba97",
   "metadata": {
    "jupyter": {
     "source_hidden": true
    },
    "tags": []
   },
   "outputs": [],
   "source": [
    "# find the minimum element from the list\n",
    "min_el = functools.reduce(lambda x,y: x if x<y else y, lst)\n",
    "\n",
    "print(\"The min element is :\", min_el)"
   ]
  },
  {
   "cell_type": "markdown",
   "id": "7b5c5850-fd87-40dd-b71c-dd11e65a5898",
   "metadata": {
    "tags": []
   },
   "source": [
    "##\n",
    "\n",
    "# Python Top Tips: \n",
    "> `yield` keyword in Python\n",
    "## "
   ]
  },
  {
   "cell_type": "markdown",
   "id": "af86b360-5b0a-4ea6-bcfc-2fa46a3cd80f",
   "metadata": {
    "tags": []
   },
   "source": [
    "What is `yield` in Python? \n",
    "\n",
    "The `yield` keyword in Python is similar to a return statement used for returning values or objects in Python. \n",
    "\n",
    "However, there is a slight difference. \n",
    "\n",
    "- The yield statement returns a generator object to the one who calls the function which contains yield, instead of simply returning a value."
   ]
  },
  {
   "cell_type": "markdown",
   "id": "707c16a7-e16a-4fb0-8893-ee7174a0529e",
   "metadata": {},
   "source": [
    "##\n",
    "\n",
    "Example: how to demonstrate the working of `yield`"
   ]
  },
  {
   "cell_type": "code",
   "execution_count": null,
   "id": "3d1c1022-dad8-449c-9fa5-c06bd07a4c2e",
   "metadata": {
    "jupyter": {
     "source_hidden": true
    }
   },
   "outputs": [],
   "source": [
    "def filter_even(numbers):\n",
    "\n",
    "       for number in range(numbers):\n",
    "            \n",
    "            if(number%2==0):\n",
    "                \n",
    "                yield number \n",
    "                \n",
    "\n",
    "# call the function\n",
    "even_numbers = filter_even(20)"
   ]
  },
  {
   "cell_type": "code",
   "execution_count": null,
   "id": "03a5ecbf-ad39-4374-92d3-8ceea4c74af5",
   "metadata": {
    "jupyter": {
     "source_hidden": true
    }
   },
   "outputs": [],
   "source": [
    "lst = [i for i in even_numbers]\n",
    "lst"
   ]
  },
  {
   "cell_type": "code",
   "execution_count": null,
   "id": "0214dd90-74b9-4f8f-8e7e-a35bc09330ac",
   "metadata": {
    "jupyter": {
     "source_hidden": true
    }
   },
   "outputs": [],
   "source": [
    "print(next(even_numbers))"
   ]
  },
  {
   "cell_type": "markdown",
   "id": "0bf2ee35-edaa-44a3-ac35-fabf1deaffa9",
   "metadata": {
    "tags": []
   },
   "source": [
    "## Difference between `pop()` and `remove()`"
   ]
  },
  {
   "cell_type": "code",
   "execution_count": null,
   "id": "8e123b3e-97d5-451e-a741-9f893ec3cfc2",
   "metadata": {},
   "outputs": [],
   "source": [
    "lists_number = [2, 3, 4, 3, 6, 7]\n"
   ]
  },
  {
   "cell_type": "code",
   "execution_count": null,
   "id": "1913ea1e-a7b1-46b8-90e2-70fa7445c865",
   "metadata": {},
   "outputs": [],
   "source": [
    "lists_number"
   ]
  },
  {
   "cell_type": "code",
   "execution_count": null,
   "id": "eb890d61-5b48-4680-8435-2b7fcdd63f15",
   "metadata": {},
   "outputs": [],
   "source": [
    "lists_number.pop(2)"
   ]
  },
  {
   "cell_type": "code",
   "execution_count": null,
   "id": "ff4cba3c-c12e-4193-a783-8d1ab00fdb6f",
   "metadata": {},
   "outputs": [],
   "source": [
    "lists_number"
   ]
  },
  {
   "cell_type": "code",
   "execution_count": null,
   "id": "cee6e466-5a52-44ad-8ad1-ff955f1d7526",
   "metadata": {},
   "outputs": [],
   "source": [
    "lists_number.remove(4)"
   ]
  },
  {
   "cell_type": "code",
   "execution_count": null,
   "id": "a231f6f4-2ad4-40a7-b494-b304b3187ec8",
   "metadata": {},
   "outputs": [],
   "source": [
    "lists_number"
   ]
  },
  {
   "cell_type": "code",
   "execution_count": null,
   "id": "c90063d6-f066-4e1f-90e4-7a8638106870",
   "metadata": {},
   "outputs": [],
   "source": []
  }
 ],
 "metadata": {
  "kernelspec": {
   "display_name": "Python 3",
   "language": "python",
   "name": "python3"
  },
  "language_info": {
   "codemirror_mode": {
    "name": "ipython",
    "version": 3
   },
   "file_extension": ".py",
   "mimetype": "text/x-python",
   "name": "python",
   "nbconvert_exporter": "python",
   "pygments_lexer": "ipython3",
   "version": "3.9.10"
  },
  "widgets": {
   "application/vnd.jupyter.widget-state+json": {
    "state": {},
    "version_major": 2,
    "version_minor": 0
   }
  }
 },
 "nbformat": 4,
 "nbformat_minor": 5
}
