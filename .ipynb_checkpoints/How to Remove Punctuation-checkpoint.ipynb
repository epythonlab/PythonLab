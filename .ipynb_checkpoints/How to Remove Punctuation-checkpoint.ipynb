{
 "cells": [
  {
   "cell_type": "markdown",
   "id": "c243cd4a-5502-4bd3-97cf-ec3f53d2b295",
   "metadata": {},
   "source": [
    "# How to Remove Punctuation from a String"
   ]
  },
  {
   "cell_type": "code",
   "execution_count": 13,
   "id": "04859040-8771-4ce4-b081-544eeb1bd90d",
   "metadata": {},
   "outputs": [],
   "source": [
    "# let assume we've a data which contains punctuations\n",
    "string_data = \"!Hi, welco?me [to] *EPYTHON?<LAB?.\""
   ]
  },
  {
   "cell_type": "markdown",
   "id": "0ae2d150-b314-408d-8e32-b65727486b62",
   "metadata": {},
   "source": [
    "### Method 1: Using `.translate()` method"
   ]
  },
  {
   "cell_type": "code",
   "execution_count": 6,
   "id": "4fb784e3-f4fe-40ea-ae0f-e9daae01d36b",
   "metadata": {},
   "outputs": [],
   "source": [
    "\"\"\"\n",
    "Solution \n",
    "\"\"\"\n",
    "import string\n",
    "\n",
    "def method1(data):\n",
    "    new_data = data.translate(str.maketrans('','', string.punctuation))\n",
    "    \n",
    "    return new_data"
   ]
  },
  {
   "cell_type": "code",
   "execution_count": 7,
   "id": "609476b5-7c08-4a05-ae9b-c7b87f4e5b2d",
   "metadata": {},
   "outputs": [
    {
     "name": "stdout",
     "output_type": "stream",
     "text": [
      "Hi welcome to EPYTHONLAB\n"
     ]
    }
   ],
   "source": [
    "# call the function and return the output\n",
    "print(method1(string_data))"
   ]
  },
  {
   "cell_type": "markdown",
   "id": "3a1dc77b-5377-4616-8db3-1e810f722aec",
   "metadata": {},
   "source": [
    "### Method 2: using `.replace()` method with foorloop"
   ]
  },
  {
   "cell_type": "code",
   "execution_count": 16,
   "id": "eba723fa-cb40-4c71-adf2-83d473df0ea0",
   "metadata": {},
   "outputs": [],
   "source": [
    "\"\"\"\n",
    "solution\n",
    "\"\"\"\n",
    "import string\n",
    "\n",
    "def method2(data):\n",
    "  \n",
    "    for character in string.punctuation:\n",
    "        data = data.replace(character, '')\n",
    "    \n",
    "    return data\n",
    "    "
   ]
  },
  {
   "cell_type": "code",
   "execution_count": 17,
   "id": "a838c658-96b4-423a-968f-79a91567315a",
   "metadata": {},
   "outputs": [
    {
     "name": "stdout",
     "output_type": "stream",
     "text": [
      "Hi welcome to EPYTHONLAB\n"
     ]
    }
   ],
   "source": [
    "# call function and return the result\n",
    "print(method2(string_data))"
   ]
  },
  {
   "cell_type": "markdown",
   "id": "a5b11bf3-1dd6-4ac5-a0ea-4fd561383ee9",
   "metadata": {},
   "source": [
    "## Method 3: using `re.sub()` method"
   ]
  },
  {
   "cell_type": "code",
   "execution_count": 25,
   "id": "10443745-cf94-4490-b854-6ddcf5c5a61c",
   "metadata": {},
   "outputs": [],
   "source": [
    "\"\"\"\n",
    "Solution\n",
    "\"\"\"\n",
    "import re\n",
    "def method3(data):\n",
    "    \n",
    "    return re.sub(r'[^\\w\\s]', '', data)"
   ]
  },
  {
   "cell_type": "code",
   "execution_count": 26,
   "id": "619a9b50-77c0-4dbc-a1fc-872ababc30f1",
   "metadata": {},
   "outputs": [
    {
     "name": "stdout",
     "output_type": "stream",
     "text": [
      "Hi welcome to EPYTHONLAB\n"
     ]
    }
   ],
   "source": [
    "# call the function and return the result\n",
    "print(method3(string_data))"
   ]
  },
  {
   "cell_type": "markdown",
   "id": "de8d98b0-6412-4fae-bb71-41420df3c2c8",
   "metadata": {},
   "source": [
    "## What is the fastest way to remove punctuation from a string?"
   ]
  },
  {
   "cell_type": "code",
   "execution_count": 28,
   "id": "de14ff7b-12b5-458d-9841-f1549c4a5901",
   "metadata": {},
   "outputs": [
    {
     "ename": "TypeError",
     "evalue": "method1() missing 1 required positional argument: 'data'",
     "output_type": "error",
     "traceback": [
      "\u001b[0;31m---------------------------------------------------------------------------\u001b[0m",
      "\u001b[0;31mTypeError\u001b[0m                                 Traceback (most recent call last)",
      "\u001b[0;32m<timed exec>\u001b[0m in \u001b[0;36m<module>\u001b[0;34m\u001b[0m\n",
      "\u001b[0;31mTypeError\u001b[0m: method1() missing 1 required positional argument: 'data'"
     ]
    }
   ],
   "source": [
    "%%time\n",
    "print(\"Time using method1:\", method1())\n",
    "print(\"Time using method2:\", method2())\n",
    "print(\"Time using method3:\", method3(string_data))"
   ]
  },
  {
   "cell_type": "code",
   "execution_count": null,
   "id": "824303ff-2218-4a11-854c-50a496414def",
   "metadata": {},
   "outputs": [],
   "source": []
  }
 ],
 "metadata": {
  "kernelspec": {
   "display_name": "Python 3",
   "language": "python",
   "name": "python3"
  },
  "language_info": {
   "codemirror_mode": {
    "name": "ipython",
    "version": 3
   },
   "file_extension": ".py",
   "mimetype": "text/x-python",
   "name": "python",
   "nbconvert_exporter": "python",
   "pygments_lexer": "ipython3",
   "version": "3.9.10"
  },
  "widgets": {
   "application/vnd.jupyter.widget-state+json": {
    "state": {},
    "version_major": 2,
    "version_minor": 0
   }
  }
 },
 "nbformat": 4,
 "nbformat_minor": 5
}
