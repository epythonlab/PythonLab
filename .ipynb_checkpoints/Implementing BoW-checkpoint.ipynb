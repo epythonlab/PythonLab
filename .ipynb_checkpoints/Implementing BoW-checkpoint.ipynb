{
 "cells": [
  {
   "cell_type": "markdown",
   "id": "2317e5dc-e700-4873-a86e-58d171861bf5",
   "metadata": {},
   "source": [
    "# Machine Learning Project : Implementing Bag of Words(BoW) without using sklearn Library"
   ]
  },
  {
   "cell_type": "markdown",
   "id": "54a43f52-9ae4-481d-9f90-9cfb14d74454",
   "metadata": {},
   "source": [
    "-------------------------------------------------"
   ]
  },
  {
   "cell_type": "markdown",
   "id": "528a80b1-05dc-4b99-a8b9-95dc09e44399",
   "metadata": {},
   "source": [
    "## Step 1: Convert all strings into thier lower case form"
   ]
  },
  {
   "cell_type": "code",
   "execution_count": 2,
   "id": "c12c7970-3d39-495e-83f6-b57d719ef5e7",
   "metadata": {},
   "outputs": [],
   "source": [
    "# the documents\n",
    "documents = [\"Hello\", \"How are you!\",\n",
    "            \"Wine money, win from home.\",\n",
    "            \"Call me now.\", \"Hello, Call hello you tomorrow?\"]"
   ]
  },
  {
   "cell_type": "code",
   "execution_count": 3,
   "id": "5b2fc1ad-c983-45d8-afb4-f8dbd443de23",
   "metadata": {
    "slideshow": {
     "slide_type": "slide"
    },
    "tags": []
   },
   "outputs": [],
   "source": [
    "lower_case_documents = [document.lower() for document in documents]"
   ]
  },
  {
   "cell_type": "code",
   "execution_count": 4,
   "id": "2635324a-8991-4aff-b5b6-bcca386cfbe7",
   "metadata": {},
   "outputs": [
    {
     "name": "stdout",
     "output_type": "stream",
     "text": [
      "['hello', 'how are you!', 'wine money, win from home.', 'call me now.', 'hello, call hello you tomorrow?']\n"
     ]
    }
   ],
   "source": [
    "print(lower_case_documents)"
   ]
  },
  {
   "cell_type": "markdown",
   "id": "ac3f5b41-f1eb-46b8-be78-b80064cba58b",
   "metadata": {},
   "source": [
    "----"
   ]
  },
  {
   "cell_type": "markdown",
   "id": "2070a8e9-9d23-4d28-9e77-2ecb6775f07c",
   "metadata": {},
   "source": [
    "## Step 2: Remove all Punctuation\n",
    "\n",
    "**Instructions:** Remove all punctuation from the strings in the document set. Save the strings into a list called `punctuation_documents`. "
   ]
  },
  {
   "cell_type": "code",
   "execution_count": null,
   "id": "c3a9421c-bb58-45f4-b178-35f2fc8699ef",
   "metadata": {},
   "outputs": [],
   "source": [
    "'''\n",
    "Solution\n",
    "'''\n"
   ]
  }
 ],
 "metadata": {
  "kernelspec": {
   "display_name": "Python 3",
   "language": "python",
   "name": "python3"
  },
  "language_info": {
   "codemirror_mode": {
    "name": "ipython",
    "version": 3
   },
   "file_extension": ".py",
   "mimetype": "text/x-python",
   "name": "python",
   "nbconvert_exporter": "python",
   "pygments_lexer": "ipython3",
   "version": "3.9.10"
  },
  "widgets": {
   "application/vnd.jupyter.widget-state+json": {
    "state": {},
    "version_major": 2,
    "version_minor": 0
   }
  }
 },
 "nbformat": 4,
 "nbformat_minor": 5
}
