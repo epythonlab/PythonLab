{
 "cells": [
  {
   "cell_type": "markdown",
   "id": "df8cddd8-ddb5-45e1-ab19-ca78e89ea336",
   "metadata": {},
   "source": [
    "# Data Wrangling\n",
    "\n",
    "## How to Deal with Missing Data?"
   ]
  },
  {
   "cell_type": "markdown",
   "id": "32058647-1718-4ea9-8504-6d3130f1a4cc",
   "metadata": {},
   "source": [
    "### Read the dataset|"
   ]
  },
  {
   "cell_type": "code",
   "execution_count": 1,
   "id": "f68081a4-da84-4629-8e3e-17f59d75f16c",
   "metadata": {},
   "outputs": [],
   "source": [
    "# import libraries\n",
    "import pandas as pd\n",
    "import numpy as np\n"
   ]
  },
  {
   "cell_type": "code",
   "execution_count": null,
   "id": "f1e81a98-5055-45ba-a92d-b81dc2bc31d0",
   "metadata": {},
   "outputs": [],
   "source": [
    "# read the dataset\n",
    "df = "
   ]
  }
 ],
 "metadata": {
  "kernelspec": {
   "display_name": "Python 3",
   "language": "python",
   "name": "python3"
  },
  "language_info": {
   "codemirror_mode": {
    "name": "ipython",
    "version": 3
   },
   "file_extension": ".py",
   "mimetype": "text/x-python",
   "name": "python",
   "nbconvert_exporter": "python",
   "pygments_lexer": "ipython3",
   "version": "3.9.10"
  },
  "widgets": {
   "application/vnd.jupyter.widget-state+json": {
    "state": {},
    "version_major": 2,
    "version_minor": 0
   }
  }
 },
 "nbformat": 4,
 "nbformat_minor": 5
}
