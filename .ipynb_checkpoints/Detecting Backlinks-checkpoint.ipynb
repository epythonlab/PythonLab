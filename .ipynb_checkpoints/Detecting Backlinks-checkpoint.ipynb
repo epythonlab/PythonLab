{
 "cells": [
  {
   "cell_type": "markdown",
   "id": "ea8d3d32-cf2a-4c97-a134-92cffb301d45",
   "metadata": {},
   "source": [
    "# How to Detect Backlinks using BeautifulSoup in Python"
   ]
  },
  {
   "cell_type": "code",
   "execution_count": 3,
   "id": "cb20b576-2921-4be5-ba64-af418c10d9c6",
   "metadata": {},
   "outputs": [],
   "source": [
    "from bs4 import BeautifulSoup as bs\n",
    "import requests\n",
    "import re\n",
    "import pandas as pd"
   ]
  },
  {
   "cell_type": "markdown",
   "id": "fd408019-5972-422f-92b6-466483802093",
   "metadata": {},
   "source": [
    "### What are backlinks?\n",
    "\n",
    "> **Backlinks** (also known as “inbound links”, “incoming links” or “one way links”) are links from one website to a page on another website. Google and other major search engines consider backlinks “votes” for a specific page. Pages with a high number of backlinks tend to have high organic search engine rankings."
   ]
  },
  {
   "cell_type": "code",
   "execution_count": 4,
   "id": "2ef4933c-c6f9-424c-bef3-232557397dc2",
   "metadata": {},
   "outputs": [],
   "source": [
    "# find the backlinks\n",
    "def detect_backlink(url, name):\n",
    "    \n",
    "    # send an http request\n",
    "    response = requests.get(url)\n",
    "    # get the html content using bs\n",
    "    html_content = bs(response.content, 'html.parser')\n",
    "    \n",
    "    # find links\n",
    "    http_links = html_content.find_all('a', href=re.compile(r\"^http\"))\n",
    "    \n",
    "    back_links = [link for link in http_links if link['href'].find(name)==-1]\n",
    "    \n",
    "    \n",
    "    return back_links\n"
   ]
  },
  {
   "cell_type": "markdown",
   "id": "d275eadd-036b-4e49-8bbb-b0ec970c426e",
   "metadata": {},
   "source": [
    "**Note** Regular expression: **A regular expression** is a sequence of characters that specifies a search pattern in text. Usually such patterns are used by string-searching algorithms for **\"find\" or \"find and replace\"** operations on strings, or for input validation."
   ]
  },
  {
   "cell_type": "code",
   "execution_count": 17,
   "id": "5019a928-fdbe-47e3-8696-1837cfe46794",
   "metadata": {},
   "outputs": [],
   "source": [
    "# call the function and get list of detected backlinks\n",
    "url = \"https://alibaba.com\"\n",
    "backlinks = detect_backlink(url, 'alibaba')"
   ]
  },
  {
   "cell_type": "code",
   "execution_count": 19,
   "id": "0e228ef2-291c-428d-9861-afd7665b13e1",
   "metadata": {},
   "outputs": [],
   "source": [
    "# parse the backlinks\n",
    "def parse_backlinks(backlinks=backlinks):\n",
    "    \n",
    "    # define an empty dctionary\n",
    "    back_links = {'title':[], 'link':[]}\n",
    "    \n",
    "    for link in backlinks:\n",
    "        url = link['href']\n",
    "        title = link.text\n",
    "        \n",
    "        back_links['title'].append(title.strip())\n",
    "        back_links['link'].append(url.strip())\n",
    "        \n",
    "    return back_links"
   ]
  },
  {
   "cell_type": "code",
   "execution_count": 20,
   "id": "7c457e06-cc76-4c30-bf0b-8a7ebf03bfce",
   "metadata": {},
   "outputs": [],
   "source": [
    "data = parse_backlinks()"
   ]
  },
  {
   "cell_type": "code",
   "execution_count": 21,
   "id": "1ff88597-3df8-444f-a453-60439a3c8e66",
   "metadata": {},
   "outputs": [
    {
     "data": {
      "text/plain": [
       "{'title': ['Get Paid for Your Feedback',\n",
       "  'Taobao Marketplace',\n",
       "  'Tmall.com',\n",
       "  'Juhuasuan',\n",
       "  'AliExpress',\n",
       "  '1688.com',\n",
       "  'Alimama',\n",
       "  'Fliggy',\n",
       "  'Tmall Taobao World',\n",
       "  'AliOS',\n",
       "  'AliTelecom',\n",
       "  'Autonavi',\n",
       "  'UCWeb',\n",
       "  'Umeng',\n",
       "  'Xiami',\n",
       "  'DingTalk',\n",
       "  'Alipay',\n",
       "  'Lazada',\n",
       "  '',\n",
       "  '浙公网安备 33010002000092号',\n",
       "  '浙B2-20120091-4'],\n",
       " 'link': ['https://www.surveymonkey.com/s/Alibaba_test_participants?tracelog=footer_feedback',\n",
       "  'http://www.taobao.com',\n",
       "  'http://www.tmall.com/',\n",
       "  'http://ju.taobao.com/',\n",
       "  'http://www.aliexpress.com/',\n",
       "  'http://www.1688.com',\n",
       "  'http://www.alimama.com/index.htm',\n",
       "  'https://www.fliggy.com/',\n",
       "  'https://g-sellercenter.taobao.com/mail',\n",
       "  'http://www.alios.cn/',\n",
       "  'http://www.aliqin.cn/',\n",
       "  'http://www.autonavi.com/',\n",
       "  'http://www.ucweb.com/',\n",
       "  'http://www.umeng.com/',\n",
       "  'http://www.xiami.com/',\n",
       "  'http://www.dingtalk.com/en',\n",
       "  'https://global.alipay.com/',\n",
       "  'http://taobao.lazada.sg/',\n",
       "  'http://idinfo.zjamr.zj.gov.cn//bscx.do?method=lzxx&id=3301083301080000022169',\n",
       "  'http://www.beian.gov.cn/portal/registerSystemInfo?recordcode=33010002000092',\n",
       "  'http://beian.miit.gov.cn']}"
      ]
     },
     "execution_count": 21,
     "metadata": {},
     "output_type": "execute_result"
    }
   ],
   "source": [
    "data"
   ]
  },
  {
   "cell_type": "code",
   "execution_count": 22,
   "id": "3d153d33-9339-4836-bcda-081065096682",
   "metadata": {},
   "outputs": [
    {
     "data": {
      "text/html": [
       "<div>\n",
       "<style scoped>\n",
       "    .dataframe tbody tr th:only-of-type {\n",
       "        vertical-align: middle;\n",
       "    }\n",
       "\n",
       "    .dataframe tbody tr th {\n",
       "        vertical-align: top;\n",
       "    }\n",
       "\n",
       "    .dataframe thead th {\n",
       "        text-align: right;\n",
       "    }\n",
       "</style>\n",
       "<table border=\"1\" class=\"dataframe\">\n",
       "  <thead>\n",
       "    <tr style=\"text-align: right;\">\n",
       "      <th></th>\n",
       "      <th>title</th>\n",
       "      <th>link</th>\n",
       "    </tr>\n",
       "  </thead>\n",
       "  <tbody>\n",
       "    <tr>\n",
       "      <th>0</th>\n",
       "      <td>Get Paid for Your Feedback</td>\n",
       "      <td>https://www.surveymonkey.com/s/Alibaba_test_pa...</td>\n",
       "    </tr>\n",
       "    <tr>\n",
       "      <th>1</th>\n",
       "      <td>Taobao Marketplace</td>\n",
       "      <td>http://www.taobao.com</td>\n",
       "    </tr>\n",
       "    <tr>\n",
       "      <th>2</th>\n",
       "      <td>Tmall.com</td>\n",
       "      <td>http://www.tmall.com/</td>\n",
       "    </tr>\n",
       "    <tr>\n",
       "      <th>3</th>\n",
       "      <td>Juhuasuan</td>\n",
       "      <td>http://ju.taobao.com/</td>\n",
       "    </tr>\n",
       "    <tr>\n",
       "      <th>4</th>\n",
       "      <td>AliExpress</td>\n",
       "      <td>http://www.aliexpress.com/</td>\n",
       "    </tr>\n",
       "    <tr>\n",
       "      <th>5</th>\n",
       "      <td>1688.com</td>\n",
       "      <td>http://www.1688.com</td>\n",
       "    </tr>\n",
       "    <tr>\n",
       "      <th>6</th>\n",
       "      <td>Alimama</td>\n",
       "      <td>http://www.alimama.com/index.htm</td>\n",
       "    </tr>\n",
       "    <tr>\n",
       "      <th>7</th>\n",
       "      <td>Fliggy</td>\n",
       "      <td>https://www.fliggy.com/</td>\n",
       "    </tr>\n",
       "    <tr>\n",
       "      <th>8</th>\n",
       "      <td>Tmall Taobao World</td>\n",
       "      <td>https://g-sellercenter.taobao.com/mail</td>\n",
       "    </tr>\n",
       "    <tr>\n",
       "      <th>9</th>\n",
       "      <td>AliOS</td>\n",
       "      <td>http://www.alios.cn/</td>\n",
       "    </tr>\n",
       "    <tr>\n",
       "      <th>10</th>\n",
       "      <td>AliTelecom</td>\n",
       "      <td>http://www.aliqin.cn/</td>\n",
       "    </tr>\n",
       "    <tr>\n",
       "      <th>11</th>\n",
       "      <td>Autonavi</td>\n",
       "      <td>http://www.autonavi.com/</td>\n",
       "    </tr>\n",
       "    <tr>\n",
       "      <th>12</th>\n",
       "      <td>UCWeb</td>\n",
       "      <td>http://www.ucweb.com/</td>\n",
       "    </tr>\n",
       "    <tr>\n",
       "      <th>13</th>\n",
       "      <td>Umeng</td>\n",
       "      <td>http://www.umeng.com/</td>\n",
       "    </tr>\n",
       "    <tr>\n",
       "      <th>14</th>\n",
       "      <td>Xiami</td>\n",
       "      <td>http://www.xiami.com/</td>\n",
       "    </tr>\n",
       "    <tr>\n",
       "      <th>15</th>\n",
       "      <td>DingTalk</td>\n",
       "      <td>http://www.dingtalk.com/en</td>\n",
       "    </tr>\n",
       "    <tr>\n",
       "      <th>16</th>\n",
       "      <td>Alipay</td>\n",
       "      <td>https://global.alipay.com/</td>\n",
       "    </tr>\n",
       "    <tr>\n",
       "      <th>17</th>\n",
       "      <td>Lazada</td>\n",
       "      <td>http://taobao.lazada.sg/</td>\n",
       "    </tr>\n",
       "    <tr>\n",
       "      <th>18</th>\n",
       "      <td></td>\n",
       "      <td>http://idinfo.zjamr.zj.gov.cn//bscx.do?method=...</td>\n",
       "    </tr>\n",
       "    <tr>\n",
       "      <th>19</th>\n",
       "      <td>浙公网安备 33010002000092号</td>\n",
       "      <td>http://www.beian.gov.cn/portal/registerSystemI...</td>\n",
       "    </tr>\n",
       "    <tr>\n",
       "      <th>20</th>\n",
       "      <td>浙B2-20120091-4</td>\n",
       "      <td>http://beian.miit.gov.cn</td>\n",
       "    </tr>\n",
       "  </tbody>\n",
       "</table>\n",
       "</div>"
      ],
      "text/plain": [
       "                         title  \\\n",
       "0   Get Paid for Your Feedback   \n",
       "1           Taobao Marketplace   \n",
       "2                    Tmall.com   \n",
       "3                    Juhuasuan   \n",
       "4                   AliExpress   \n",
       "5                     1688.com   \n",
       "6                      Alimama   \n",
       "7                       Fliggy   \n",
       "8           Tmall Taobao World   \n",
       "9                        AliOS   \n",
       "10                  AliTelecom   \n",
       "11                    Autonavi   \n",
       "12                       UCWeb   \n",
       "13                       Umeng   \n",
       "14                       Xiami   \n",
       "15                    DingTalk   \n",
       "16                      Alipay   \n",
       "17                      Lazada   \n",
       "18                               \n",
       "19       浙公网安备 33010002000092号   \n",
       "20              浙B2-20120091-4   \n",
       "\n",
       "                                                 link  \n",
       "0   https://www.surveymonkey.com/s/Alibaba_test_pa...  \n",
       "1                               http://www.taobao.com  \n",
       "2                               http://www.tmall.com/  \n",
       "3                               http://ju.taobao.com/  \n",
       "4                          http://www.aliexpress.com/  \n",
       "5                                 http://www.1688.com  \n",
       "6                    http://www.alimama.com/index.htm  \n",
       "7                             https://www.fliggy.com/  \n",
       "8              https://g-sellercenter.taobao.com/mail  \n",
       "9                                http://www.alios.cn/  \n",
       "10                              http://www.aliqin.cn/  \n",
       "11                           http://www.autonavi.com/  \n",
       "12                              http://www.ucweb.com/  \n",
       "13                              http://www.umeng.com/  \n",
       "14                              http://www.xiami.com/  \n",
       "15                         http://www.dingtalk.com/en  \n",
       "16                         https://global.alipay.com/  \n",
       "17                           http://taobao.lazada.sg/  \n",
       "18  http://idinfo.zjamr.zj.gov.cn//bscx.do?method=...  \n",
       "19  http://www.beian.gov.cn/portal/registerSystemI...  \n",
       "20                           http://beian.miit.gov.cn  "
      ]
     },
     "execution_count": 22,
     "metadata": {},
     "output_type": "execute_result"
    }
   ],
   "source": [
    "df = pd.DataFrame(data)\n",
    "df"
   ]
  },
  {
   "cell_type": "code",
   "execution_count": null,
   "id": "12d17755-837f-4652-9ad0-558aebf46444",
   "metadata": {},
   "outputs": [],
   "source": []
  },
  {
   "cell_type": "code",
   "execution_count": null,
   "id": "0dc77f4f-a8a3-4fb5-aada-f08d31fbf1ed",
   "metadata": {},
   "outputs": [],
   "source": []
  },
  {
   "cell_type": "code",
   "execution_count": null,
   "id": "554b3ff2-7974-4ab6-9f98-af72af05ab53",
   "metadata": {},
   "outputs": [],
   "source": []
  },
  {
   "cell_type": "code",
   "execution_count": 9,
   "id": "ebfc8df9-622d-473d-9cb8-a609f499c41e",
   "metadata": {},
   "outputs": [],
   "source": [
    "# url to scrape\n",
    "url = \"https://www.ebay.com/sch/i.html?_from=R40&_nkw=laptop&_sacat=175672&_ipg=60\""
   ]
  },
  {
   "cell_type": "code",
   "execution_count": 6,
   "id": "21a46a73-893e-4a59-bd27-eb56aa0799d9",
   "metadata": {},
   "outputs": [],
   "source": [
    "# get url data\n",
    "def get_url_data(url):\n",
    "    \n",
    "    # send a requests and get response\n",
    "    response = requests.get(url)\n",
    "    \n",
    "    return response.text\n",
    "        "
   ]
  },
  {
   "cell_type": "code",
   "execution_count": 10,
   "id": "5ed08430-5486-487a-9eb6-34800451942d",
   "metadata": {},
   "outputs": [],
   "source": [
    "# call the function\n",
    "if __name__==\"__main__\":\n",
    "    # assign url to variable\n",
    "    url = \"https://www.google.com\"\n",
    "    data = get_url_data(url)\n",
    "    #print(data)"
   ]
  },
  {
   "cell_type": "code",
   "execution_count": 12,
   "id": "7920625c-a487-4f20-b80c-5f2e118389cf",
   "metadata": {},
   "outputs": [],
   "source": [
    "# check backlink\n",
    "def check_backlink(url, backlink):\n",
    "    response = requests.get(url)\n",
    "    data = response.text\n",
    "    return data.find(backlink)\n"
   ]
  },
  {
   "cell_type": "code",
   "execution_count": 14,
   "id": "1bd3b16b-a0b2-4105-b9cf-50837792e573",
   "metadata": {},
   "outputs": [
    {
     "name": "stdout",
     "output_type": "stream",
     "text": [
      "Backlink not found\n"
     ]
    }
   ],
   "source": [
    "# call function\n",
    "if __name__==\"__main__\":\n",
    "    url =\"https://google.com\"\n",
    "    backlink = \"https://amazon.com\"\n",
    "    res = check_backlink(url, backlink)\n",
    "    if res == -1:\n",
    "        print(\"Backlink not found\")\n",
    "    else:\n",
    "        print(\"Backlink found\")"
   ]
  },
  {
   "cell_type": "code",
   "execution_count": 54,
   "id": "adf9d47c-f58d-4824-9efd-3f397652a89c",
   "metadata": {},
   "outputs": [],
   "source": [
    "backlinks = find_backlink(\"https://ebay.com\")"
   ]
  },
  {
   "cell_type": "code",
   "execution_count": 62,
   "id": "6cbe0c33-c9f8-4ed3-a03a-cfb7a45d1e13",
   "metadata": {},
   "outputs": [
    {
     "data": {
      "text/plain": [
       "[<a _exsp=\"m571.l2943\" class=\"thrd gf-i\" href=\"https://twitter.com/eBay\"><i class=\"gspr ictwg\"></i>Twitter</a>,\n",
       " <a aria-label=\"eBay Korea\" class=\"gf-if-a\" href=\"http://global.gmarket.co.kr/Home/Main\"><b class=\"flkr gf-if gspr\"></b><p>Korea</p></a>,\n",
       " <a aria-label=\"eBay Turkey\" class=\"gf-if-a\" href=\"https://www.gittigidiyor.com\"><b class=\"fltr gf-if gspr\"></b><p>Turkey</p></a>]"
      ]
     },
     "execution_count": 62,
     "metadata": {},
     "output_type": "execute_result"
    }
   ],
   "source": [
    "backlinks"
   ]
  },
  {
   "cell_type": "code",
   "execution_count": 64,
   "id": "4edbdcf3-9df8-4db3-b896-2d060f69c041",
   "metadata": {},
   "outputs": [
    {
     "name": "stdout",
     "output_type": "stream",
     "text": [
      "Twitter\n",
      "Korea\n",
      "Turkey\n"
     ]
    }
   ],
   "source": [
    "for link in backlinks:\n",
    "    print(link.text)"
   ]
  },
  {
   "cell_type": "code",
   "execution_count": 69,
   "id": "83e395ad-8a2a-4b9b-b9cb-a214bc471b69",
   "metadata": {},
   "outputs": [],
   "source": [
    "data = parse_backlinks()"
   ]
  },
  {
   "cell_type": "code",
   "execution_count": 70,
   "id": "5ea18f2c-1850-4c15-b70d-3a3054c917c6",
   "metadata": {},
   "outputs": [
    {
     "data": {
      "text/plain": [
       "{'title': ['Twitter', 'Korea', 'Turkey'],\n",
       " 'link': ['https://twitter.com/eBay',\n",
       "  'http://global.gmarket.co.kr/Home/Main',\n",
       "  'https://www.gittigidiyor.com']}"
      ]
     },
     "execution_count": 70,
     "metadata": {},
     "output_type": "execute_result"
    }
   ],
   "source": [
    "data"
   ]
  },
  {
   "cell_type": "code",
   "execution_count": 71,
   "id": "386d7b38-d407-4b81-83b0-db03be7e9dd6",
   "metadata": {},
   "outputs": [],
   "source": [
    "df = pd.DataFrame(data)"
   ]
  },
  {
   "cell_type": "code",
   "execution_count": 72,
   "id": "dd0ce0b7-73a1-4017-b43a-7ab5c08fdd98",
   "metadata": {},
   "outputs": [
    {
     "data": {
      "text/html": [
       "<div>\n",
       "<style scoped>\n",
       "    .dataframe tbody tr th:only-of-type {\n",
       "        vertical-align: middle;\n",
       "    }\n",
       "\n",
       "    .dataframe tbody tr th {\n",
       "        vertical-align: top;\n",
       "    }\n",
       "\n",
       "    .dataframe thead th {\n",
       "        text-align: right;\n",
       "    }\n",
       "</style>\n",
       "<table border=\"1\" class=\"dataframe\">\n",
       "  <thead>\n",
       "    <tr style=\"text-align: right;\">\n",
       "      <th></th>\n",
       "      <th>title</th>\n",
       "      <th>link</th>\n",
       "    </tr>\n",
       "  </thead>\n",
       "  <tbody>\n",
       "    <tr>\n",
       "      <th>0</th>\n",
       "      <td>Twitter</td>\n",
       "      <td>https://twitter.com/eBay</td>\n",
       "    </tr>\n",
       "    <tr>\n",
       "      <th>1</th>\n",
       "      <td>Korea</td>\n",
       "      <td>http://global.gmarket.co.kr/Home/Main</td>\n",
       "    </tr>\n",
       "    <tr>\n",
       "      <th>2</th>\n",
       "      <td>Turkey</td>\n",
       "      <td>https://www.gittigidiyor.com</td>\n",
       "    </tr>\n",
       "  </tbody>\n",
       "</table>\n",
       "</div>"
      ],
      "text/plain": [
       "     title                                   link\n",
       "0  Twitter               https://twitter.com/eBay\n",
       "1    Korea  http://global.gmarket.co.kr/Home/Main\n",
       "2   Turkey           https://www.gittigidiyor.com"
      ]
     },
     "execution_count": 72,
     "metadata": {},
     "output_type": "execute_result"
    }
   ],
   "source": [
    "df"
   ]
  },
  {
   "cell_type": "code",
   "execution_count": null,
   "id": "1fa51b08-ef2d-4332-aeb7-016cbfcba57a",
   "metadata": {},
   "outputs": [],
   "source": []
  }
 ],
 "metadata": {
  "kernelspec": {
   "display_name": "Python 3",
   "language": "python",
   "name": "python3"
  },
  "language_info": {
   "codemirror_mode": {
    "name": "ipython",
    "version": 3
   },
   "file_extension": ".py",
   "mimetype": "text/x-python",
   "name": "python",
   "nbconvert_exporter": "python",
   "pygments_lexer": "ipython3",
   "version": "3.9.10"
  },
  "widgets": {
   "application/vnd.jupyter.widget-state+json": {
    "state": {},
    "version_major": 2,
    "version_minor": 0
   }
  }
 },
 "nbformat": 4,
 "nbformat_minor": 5
}
