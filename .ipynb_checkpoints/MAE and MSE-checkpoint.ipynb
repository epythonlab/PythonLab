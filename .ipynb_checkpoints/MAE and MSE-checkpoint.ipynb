{
 "cells": [
  {
   "cell_type": "markdown",
   "id": "33e3de1a-5631-4dcf-b0b7-2e78ff170c57",
   "metadata": {},
   "source": [
    "# Mean Absolute Error and Mean Squared Error"
   ]
  },
  {
   "cell_type": "markdown",
   "id": "c6a03032-5583-4951-be10-f581b52f5b1d",
   "metadata": {},
   "source": [
    "What is Mean Absolute Error?"
   ]
  },
  {
   "cell_type": "markdown",
   "id": "249a6858-e6a4-4806-95b9-87210e454408",
   "metadata": {},
   "source": [
    "Inn statistics, mean absolute error `(MAE)` is a measure of errors between paired observations expressing the same phenomenon"
   ]
  },
  {
   "cell_type": "markdown",
   "id": "1a00e4c1-f3e4-4eac-afa8-4ad5ae51dcde",
   "metadata": {},
   "source": [
    "Examples of `Y` versus `X` include comparisons of predicted versus observed,"
   ]
  },
  {
   "cell_type": "markdown",
   "id": "8255955e-5b7f-48ca-883b-418815a573bd",
   "metadata": {},
   "source": [
    "$\\hat(Y) $"
   ]
  },
  {
   "cell_type": "code",
   "execution_count": null,
   "id": "bc68ae66-2121-4423-9ed2-2a643747188b",
   "metadata": {},
   "outputs": [],
   "source": [
    "# Calculate mean absolute error without sklearn\n",
    "def mae(ytrue, yhat):\n",
    "    \n",
    "    try:\n",
    "        if len(ytrue) == len(yhat):\n",
    "            error = sum([abs(y-yh) for (y, yh) in zip(ytrue, yhat)])/len(ytrue)\n",
    "            return error\n",
    "        else:\n",
    "            return \"the shape is not equal\"\n",
    "            \n",
    "    except TypeError as e:\n",
    "        return e\n",
    "\n",
    "# testing the function\n",
    "# equation:\n",
    "points = [(2, -2), (5, 6), (-4, -4), (-7, 1), (8, 14)]\n",
    "ytrue = [p[1] for p in points]\n",
    "yhat = []\n",
    "\n",
    "for x in [p[0] for p in points]:\n",
    "    yhat.append(1.2*x+2)\n",
    "    \n",
    "print(mae(ytrue, yhat))\n"
   ]
  }
 ],
 "metadata": {
  "kernelspec": {
   "display_name": "Python 3",
   "language": "python",
   "name": "python3"
  },
  "language_info": {
   "codemirror_mode": {
    "name": "ipython",
    "version": 3
   },
   "file_extension": ".py",
   "mimetype": "text/x-python",
   "name": "python",
   "nbconvert_exporter": "python",
   "pygments_lexer": "ipython3",
   "version": "3.9.10"
  },
  "widgets": {
   "application/vnd.jupyter.widget-state+json": {
    "state": {},
    "version_major": 2,
    "version_minor": 0
   }
  }
 },
 "nbformat": 4,
 "nbformat_minor": 5
}
