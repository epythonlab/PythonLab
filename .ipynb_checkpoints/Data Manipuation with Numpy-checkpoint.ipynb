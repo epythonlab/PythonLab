{
 "cells": [
  {
   "cell_type": "markdown",
   "id": "9fc2fc06-b6c5-4520-b4ba-370c960a309b",
   "metadata": {},
   "source": [
    "# Data Manipulation with Numpy"
   ]
  },
  {
   "cell_type": "markdown",
   "id": "b54d4615-400d-4004-8786-be7990e75436",
   "metadata": {},
   "source": [
    "**NumPy** is the fundamental package for scientific computing in Python. It is a Python library that provides a multidimensional array object, various derived objects (such as masked arrays and matrices), and an assortment of routines for fast operations on arrays, including mathematical, logical, shape manipulation, sorting, selecting, I/O, discrete Fourier transforms, basic linear algebra, basic statistical operations, random simulation and much more.\n",
    "\n",
    "NumPy is a library for the Python programming language, adding support for large, multi-dimensional arrays and matrices, along with a large collection of high-level mathematical functions to operate on these arrays"
   ]
  },
  {
   "cell_type": "code",
   "execution_count": 1,
   "id": "6506d52d-a30a-40f7-bebb-f10dbf429985",
   "metadata": {},
   "outputs": [],
   "source": [
    "# uncomment, the below line and run the cell to install numpy\n",
    "# !pip install numpy"
   ]
  },
  {
   "cell_type": "markdown",
   "id": "22abbe52-8bfa-4a99-a440-183fc65b1f7e",
   "metadata": {},
   "source": [
    "1. Import numpy"
   ]
  },
  {
   "cell_type": "code",
   "execution_count": 36,
   "id": "d8ac99c3-acb8-467b-8c41-a1e1e7a2e2e6",
   "metadata": {},
   "outputs": [],
   "source": [
    "# import numpy\n",
    "import numpy as np\n",
    "from numpy import array\n"
   ]
  },
  {
   "cell_type": "markdown",
   "id": "aadb3f55-59d0-435f-a1d4-e9128bae743c",
   "metadata": {},
   "source": [
    "2. create a one dimensional array"
   ]
  },
  {
   "cell_type": "code",
   "execution_count": 68,
   "id": "339480df-7add-4b78-ada3-2e2a9e63294d",
   "metadata": {},
   "outputs": [],
   "source": [
    "# create array\n",
    "arr = np.array([2, 3, 4, 1, 0, -2, 7, 8, 9, 12])"
   ]
  },
  {
   "cell_type": "code",
   "execution_count": 45,
   "id": "277d3e62-acbf-491d-8395-bf7b31b418ec",
   "metadata": {},
   "outputs": [
    {
     "data": {
      "text/plain": [
       "array([ 1,  7,  8,  9, 12])"
      ]
     },
     "execution_count": 45,
     "metadata": {},
     "output_type": "execute_result"
    }
   ],
   "source": [
    "arr[3:]"
   ]
  },
  {
   "cell_type": "code",
   "execution_count": 47,
   "id": "5007828e-1dad-4535-a767-c7052d56e27d",
   "metadata": {},
   "outputs": [
    {
     "data": {
      "text/plain": [
       "'for i in arr:\\n    print(i)'"
      ]
     },
     "execution_count": 47,
     "metadata": {},
     "output_type": "execute_result"
    }
   ],
   "source": [
    "\"\"\"for i in arr:\n",
    "    print(i)\"\"\""
   ]
  },
  {
   "cell_type": "code",
   "execution_count": 51,
   "id": "ad4eeaa9-3d88-4abe-a3f7-e4d0238b3e95",
   "metadata": {},
   "outputs": [],
   "source": [
    "#dir(arr)"
   ]
  },
  {
   "cell_type": "markdown",
   "id": "2d857ac2-df57-4b43-abe9-a22569ad72cf",
   "metadata": {},
   "source": [
    "check the dimension of the array"
   ]
  },
  {
   "cell_type": "code",
   "execution_count": 52,
   "id": "eb04b2de-9207-4212-aece-d197c2a2c30f",
   "metadata": {},
   "outputs": [
    {
     "data": {
      "text/plain": [
       "1"
      ]
     },
     "execution_count": 52,
     "metadata": {},
     "output_type": "execute_result"
    }
   ],
   "source": [
    "# check the dimension of the array\n",
    "arr.ndim"
   ]
  },
  {
   "cell_type": "markdown",
   "id": "e1e26148-b8e7-4162-b3b1-07be1d6bb85f",
   "metadata": {},
   "source": [
    "check the size of the array"
   ]
  },
  {
   "cell_type": "code",
   "execution_count": 54,
   "id": "6ea59f83-8a5c-477e-b29f-8f824486fcc6",
   "metadata": {},
   "outputs": [
    {
     "data": {
      "text/plain": [
       "8"
      ]
     },
     "execution_count": 54,
     "metadata": {},
     "output_type": "execute_result"
    }
   ],
   "source": [
    "# size of the array\n",
    "arr.size"
   ]
  },
  {
   "cell_type": "code",
   "execution_count": 56,
   "id": "aca1cf7a-da56-466e-b0fc-469217001164",
   "metadata": {},
   "outputs": [
    {
     "data": {
      "text/plain": [
       "8"
      ]
     },
     "execution_count": 56,
     "metadata": {},
     "output_type": "execute_result"
    }
   ],
   "source": [
    "len(arr)"
   ]
  },
  {
   "cell_type": "markdown",
   "id": "9ee6bfdd-60a3-4dab-90f5-8569cfcb503b",
   "metadata": {},
   "source": [
    "check the shape of the array"
   ]
  },
  {
   "cell_type": "code",
   "execution_count": 55,
   "id": "e2306aa6-b7b4-45f5-9548-b2eead4ea922",
   "metadata": {},
   "outputs": [
    {
     "data": {
      "text/plain": [
       "(8,)"
      ]
     },
     "execution_count": 55,
     "metadata": {},
     "output_type": "execute_result"
    }
   ],
   "source": [
    "# shape of the array\n",
    "arr.shape"
   ]
  },
  {
   "cell_type": "markdown",
   "id": "cbd98474-6538-4fd1-b8b7-778dca12c44d",
   "metadata": {},
   "source": [
    "Identify the type of the array"
   ]
  },
  {
   "cell_type": "code",
   "execution_count": 62,
   "id": "3e8dce3d-60a5-448f-86af-276c936342cb",
   "metadata": {},
   "outputs": [
    {
     "data": {
      "text/plain": [
       "dtype('int64')"
      ]
     },
     "execution_count": 62,
     "metadata": {},
     "output_type": "execute_result"
    }
   ],
   "source": [
    "# idntify the type of the array\n",
    "arr.dtype"
   ]
  },
  {
   "cell_type": "code",
   "execution_count": 63,
   "id": "8e6e0e05-5484-4d79-8dab-4d280d4d8a3b",
   "metadata": {},
   "outputs": [
    {
     "name": "stdout",
     "output_type": "stream",
     "text": [
      "[ 2  3  4  1  7  8  9 12]\n"
     ]
    }
   ],
   "source": [
    "print(arr)"
   ]
  },
  {
   "cell_type": "markdown",
   "id": "dcbcaca8-baa7-4e91-b78e-494573a38d60",
   "metadata": {},
   "source": [
    "sum of the array elements"
   ]
  },
  {
   "cell_type": "code",
   "execution_count": 69,
   "id": "b5ec6225-fbd1-4261-afa4-fcf9e1a1c909",
   "metadata": {},
   "outputs": [
    {
     "data": {
      "text/plain": [
       "44"
      ]
     },
     "execution_count": 69,
     "metadata": {},
     "output_type": "execute_result"
    }
   ],
   "source": [
    "# sum of array elements\n",
    "sum(arr)"
   ]
  },
  {
   "cell_type": "markdown",
   "id": "1ce4a36e-17a1-4f6d-8049-ec185d6e17ec",
   "metadata": {},
   "source": [
    "min and max elements from the array"
   ]
  },
  {
   "cell_type": "code",
   "execution_count": 71,
   "id": "f5ad1514-9960-4658-91ad-ff590f7b663f",
   "metadata": {},
   "outputs": [
    {
     "data": {
      "text/plain": [
       "-2"
      ]
     },
     "execution_count": 71,
     "metadata": {},
     "output_type": "execute_result"
    }
   ],
   "source": [
    "# print min and max \n",
    "min(arr)"
   ]
  },
  {
   "cell_type": "markdown",
   "id": "6e237763-728f-4a0e-b65b-8b5708f3f515",
   "metadata": {},
   "source": [
    "sort array elements\n"
   ]
  },
  {
   "cell_type": "code",
   "execution_count": 80,
   "id": "2e544f27-5d97-4402-9acf-5dea3e3c78a0",
   "metadata": {},
   "outputs": [
    {
     "data": {
      "text/plain": [
       "[12, 9, 8, 7, 4, 3, 2, 1, 0, -2]"
      ]
     },
     "execution_count": 80,
     "metadata": {},
     "output_type": "execute_result"
    }
   ],
   "source": [
    "# sort array \n",
    "sorted(arr, reverse=True)"
   ]
  },
  {
   "cell_type": "markdown",
   "id": "f0007529-6d28-4492-b64c-4fd2abb056f9",
   "metadata": {},
   "source": [
    "3. Create two dimensional array"
   ]
  },
  {
   "cell_type": "code",
   "execution_count": 93,
   "id": "1f6e2ed0-5765-4e78-84b8-310cb514f289",
   "metadata": {},
   "outputs": [],
   "source": [
    "# create two dimensional array\n",
    "arr_2d = np.array([\n",
    "    [2, 3, 6],\n",
    "    [3, 4, 5], \n",
    "    [3, 2, 4]\n",
    "])\n"
   ]
  },
  {
   "cell_type": "code",
   "execution_count": 96,
   "id": "95d25487-48b8-4661-8d7d-969fba0c3315",
   "metadata": {},
   "outputs": [
    {
     "data": {
      "text/plain": [
       "2"
      ]
     },
     "execution_count": 96,
     "metadata": {},
     "output_type": "execute_result"
    }
   ],
   "source": [
    "arr_2d.ndim"
   ]
  },
  {
   "cell_type": "code",
   "execution_count": 97,
   "id": "ed4507a2-437c-4f02-bcdf-4daa72215798",
   "metadata": {},
   "outputs": [
    {
     "data": {
      "text/plain": [
       "9"
      ]
     },
     "execution_count": 97,
     "metadata": {},
     "output_type": "execute_result"
    }
   ],
   "source": [
    "arr_2d.size"
   ]
  },
  {
   "cell_type": "code",
   "execution_count": 98,
   "id": "bd3f3f2b-d674-475c-a362-d039385c2bdf",
   "metadata": {},
   "outputs": [
    {
     "data": {
      "text/plain": [
       "(3, 3)"
      ]
     },
     "execution_count": 98,
     "metadata": {},
     "output_type": "execute_result"
    }
   ],
   "source": [
    "arr_2d.shape"
   ]
  },
  {
   "cell_type": "code",
   "execution_count": 99,
   "id": "4a3bb06e-7779-4807-8512-7cd5db1f805e",
   "metadata": {},
   "outputs": [
    {
     "data": {
      "text/plain": [
       "4"
      ]
     },
     "execution_count": 99,
     "metadata": {},
     "output_type": "execute_result"
    }
   ],
   "source": [
    "arr_2d[2][2]"
   ]
  },
  {
   "cell_type": "markdown",
   "id": "fb010b2e-bff7-4c54-8e0c-97ab0d271552",
   "metadata": {},
   "source": [
    "4. another way of create an array using `arange()`"
   ]
  },
  {
   "cell_type": "code",
   "execution_count": 123,
   "id": "cd270b40-1ee2-4224-8833-1122fbe09d89",
   "metadata": {},
   "outputs": [
    {
     "data": {
      "text/plain": [
       "array([[0., 1., 2., 3., 4.],\n",
       "       [5., 6., 7., 8., 9.]])"
      ]
     },
     "execution_count": 123,
     "metadata": {},
     "output_type": "execute_result"
    }
   ],
   "source": [
    "# another way of creating an array\n",
    "# arange() function\n",
    "arr_a = np.arange(0, 10, dtype=\"float64\").reshape(2, 5)\n",
    "arr_a"
   ]
  },
  {
   "cell_type": "markdown",
   "id": "42045a2e-a317-426a-bd3f-b03dde43584f",
   "metadata": {},
   "source": [
    "5. specify the data type of the array while creating the array using `dtype`"
   ]
  },
  {
   "cell_type": "code",
   "execution_count": 121,
   "id": "3e194a2e-0e7b-430e-876d-caa1af689496",
   "metadata": {},
   "outputs": [
    {
     "data": {
      "text/plain": [
       "array([2. , 3.1, 4. ])"
      ]
     },
     "execution_count": 121,
     "metadata": {},
     "output_type": "execute_result"
    }
   ],
   "source": [
    "ar = np.array([2.0, 3.1,4], dtype='float64')\n",
    "ar"
   ]
  },
  {
   "cell_type": "markdown",
   "id": "51c3eaa2-c170-45e0-9dd1-38e3e129da83",
   "metadata": {},
   "source": [
    "# Part II\n",
    "- adding\n",
    "- removing\n",
    "- modifying \n",
    "array elements\n"
   ]
  },
  {
   "cell_type": "code",
   "execution_count": 1,
   "id": "312a167e-3da5-4657-b442-52879b5507b2",
   "metadata": {},
   "outputs": [],
   "source": [
    "# import the numpy \n",
    "import numpy as np"
   ]
  },
  {
   "cell_type": "markdown",
   "id": "0ff28c36-7663-4f38-a36b-2af28b06e885",
   "metadata": {},
   "source": [
    "Let's create both one and two dimensional array"
   ]
  },
  {
   "cell_type": "code",
   "execution_count": 2,
   "id": "f4a19614-cfa3-4dea-bf13-876f09ba8a50",
   "metadata": {},
   "outputs": [
    {
     "data": {
      "text/plain": [
       "array([[ 2,  4,  6,  8, 10],\n",
       "       [12, 14, 16, 18, 20]])"
      ]
     },
     "execution_count": 2,
     "metadata": {},
     "output_type": "execute_result"
    }
   ],
   "source": [
    "# create one dimensional array\n",
    "arr_1d = np.arange(4, 20)\n",
    "\n",
    "# create two dimensional array\n",
    "\n",
    "arr_2d = np.arange(2, 21, 2).reshape(2, 5)\n",
    "arr_2d"
   ]
  },
  {
   "cell_type": "markdown",
   "id": "b9ffb709-6c93-4fb0-b3bb-07ac2bec11f9",
   "metadata": {},
   "source": [
    "## `append()` - appends values to the end of an array"
   ]
  },
  {
   "cell_type": "code",
   "execution_count": 37,
   "id": "abe4f3d3-d12d-4ea9-aa3d-12c68822a1be",
   "metadata": {},
   "outputs": [
    {
     "data": {
      "text/plain": [
       "array([[ 2,  4,  6,  8, 10, 10],\n",
       "       [12, 14, 16, 18, 20, 11]])"
      ]
     },
     "execution_count": 37,
     "metadata": {},
     "output_type": "execute_result"
    }
   ],
   "source": [
    "# append new values column wise\n",
    "\n",
    "new_1d= np.append(arr_1d, [10] )\n",
    "new_1d\n",
    "\n",
    "# append new vlaues row wise\n",
    "\n",
    "new_2d = np.append(arr_2d, np.arange(10, 12).reshape(2,1), axis=1)\n",
    "new_2d"
   ]
  },
  {
   "cell_type": "markdown",
   "id": "e8b8c8e4-7657-4b18-b45a-cdb57375a441",
   "metadata": {},
   "source": [
    "## `insert()` - insert elements into an array"
   ]
  },
  {
   "cell_type": "code",
   "execution_count": 21,
   "id": "9bbc09f3-b7be-4b1f-83b7-48872f9d3636",
   "metadata": {},
   "outputs": [
    {
     "data": {
      "text/plain": [
       "array([ 4,  5, 21,  6,  7,  8,  9, 10, 11, 12, 13, 14, 15, 16, 17, 18, 19])"
      ]
     },
     "execution_count": 21,
     "metadata": {},
     "output_type": "execute_result"
    }
   ],
   "source": [
    "# insert values\n",
    "new_1d = np.insert(arr_1d,   2, 21)\n",
    "new_1d\n",
    "new_2d = n"
   ]
  },
  {
   "cell_type": "markdown",
   "id": "a0a9d99f-560d-406e-ba75-7bea67f0bdcc",
   "metadata": {},
   "source": [
    "## `delete()` - delete elements from an array"
   ]
  },
  {
   "cell_type": "code",
   "execution_count": null,
   "id": "164d9a80-1a57-49cb-a213-d6c1b6329727",
   "metadata": {},
   "outputs": [],
   "source": [
    "# delete any element from the array\n"
   ]
  },
  {
   "cell_type": "markdown",
   "id": "1709b223-a038-465f-bfc9-14d62cfc7c77",
   "metadata": {},
   "source": [
    "## modify array elements\n"
   ]
  },
  {
   "cell_type": "code",
   "execution_count": 1,
   "id": "00fa4fb2-030c-4d23-a34c-368421c92cea",
   "metadata": {},
   "outputs": [],
   "source": [
    "# assing or modify array elements\n"
   ]
  },
  {
   "cell_type": "markdown",
   "id": "8ff57884-394b-4787-a265-6e8992118ef9",
   "metadata": {},
   "source": [
    "#\n",
    "#\n",
    "#\n",
    "#\n",
    "#\n",
    "#\n",
    "#\n",
    "#\n"
   ]
  },
  {
   "cell_type": "code",
   "execution_count": null,
   "id": "adee6575-5f71-4ef4-8882-c7998132f070",
   "metadata": {},
   "outputs": [],
   "source": []
  },
  {
   "cell_type": "code",
   "execution_count": 34,
   "id": "c62d4f8a-4e35-431d-9706-51ad222ab9df",
   "metadata": {},
   "outputs": [],
   "source": [
    "# zeros function\n",
    "a = np.zeros((2, 3))"
   ]
  },
  {
   "cell_type": "code",
   "execution_count": 35,
   "id": "89910c2f-06b4-4162-96fa-6837d5ba1454",
   "metadata": {},
   "outputs": [
    {
     "data": {
      "text/plain": [
       "array([[0., 0., 0.],\n",
       "       [0., 0., 0.]])"
      ]
     },
     "execution_count": 35,
     "metadata": {},
     "output_type": "execute_result"
    }
   ],
   "source": [
    "a"
   ]
  },
  {
   "cell_type": "code",
   "execution_count": 36,
   "id": "db9254e5-186b-43ab-a250-1fc12e039a58",
   "metadata": {},
   "outputs": [],
   "source": [
    "a = np.ones((3, 5))"
   ]
  },
  {
   "cell_type": "code",
   "execution_count": 37,
   "id": "2e134c62-05cc-491e-841c-9cf77b4ec862",
   "metadata": {},
   "outputs": [
    {
     "data": {
      "text/plain": [
       "array([[1., 1., 1., 1., 1.],\n",
       "       [1., 1., 1., 1., 1.],\n",
       "       [1., 1., 1., 1., 1.]])"
      ]
     },
     "execution_count": 37,
     "metadata": {},
     "output_type": "execute_result"
    }
   ],
   "source": [
    "a"
   ]
  },
  {
   "cell_type": "code",
   "execution_count": 38,
   "id": "0397adaa-0079-41e6-85bb-eda5291cab92",
   "metadata": {},
   "outputs": [],
   "source": [
    "e = np.empty((3, 4))"
   ]
  },
  {
   "cell_type": "code",
   "execution_count": 39,
   "id": "248862ba-c555-48b2-9caf-dc417b903298",
   "metadata": {},
   "outputs": [
    {
     "data": {
      "text/plain": [
       "array([[1.6442717e-316, 0.0000000e+000, 0.0000000e+000, 0.0000000e+000],\n",
       "       [0.0000000e+000, 0.0000000e+000, 0.0000000e+000, 0.0000000e+000],\n",
       "       [0.0000000e+000, 0.0000000e+000, 0.0000000e+000, 0.0000000e+000]])"
      ]
     },
     "execution_count": 39,
     "metadata": {},
     "output_type": "execute_result"
    }
   ],
   "source": [
    "e"
   ]
  },
  {
   "cell_type": "code",
   "execution_count": 40,
   "id": "19c6591a-63fe-4fba-891c-8057c77b8f92",
   "metadata": {},
   "outputs": [
    {
     "data": {
      "text/plain": [
       "dtype('float64')"
      ]
     },
     "execution_count": 40,
     "metadata": {},
     "output_type": "execute_result"
    }
   ],
   "source": [
    "e.dtype"
   ]
  },
  {
   "cell_type": "markdown",
   "id": "55ee10f8-775b-484c-8cf9-8515a62a8268",
   "metadata": {},
   "source": [
    "# Mathematical Functions"
   ]
  },
  {
   "cell_type": "markdown",
   "id": "f1dbf13b-1110-4017-99da-5efa6c4207c6",
   "metadata": {},
   "source": [
    "#### Elementwise vs matrices"
   ]
  },
  {
   "cell_type": "markdown",
   "id": "9ac18afa-6ccf-4fa7-8375-be061c7241d4",
   "metadata": {},
   "source": [
    "1. Add()\n",
    "2. Substract()\n",
    "3. multiply()\n",
    "4. divide()\n",
    "5. sqrt()\n",
    "6. product(dot)"
   ]
  },
  {
   "cell_type": "code",
   "execution_count": 1,
   "id": "d8c7343b-0e9a-470c-b4a6-d56466ca96c3",
   "metadata": {},
   "outputs": [],
   "source": [
    "import numpy as np"
   ]
  },
  {
   "cell_type": "code",
   "execution_count": 5,
   "id": "6570aede-c5e3-4163-8e99-41ccbcd9d360",
   "metadata": {},
   "outputs": [],
   "source": [
    "x = np.array([[2, 3, 4], [3, 4, 2]])\n",
    "y = np.array([[5, 3, 4], [3, 4, 5]], dtype=\"int64\")\n"
   ]
  },
  {
   "cell_type": "code",
   "execution_count": 12,
   "id": "a7c17557-26b2-4c81-9dc4-1ec9a4a10f3f",
   "metadata": {},
   "outputs": [
    {
     "name": "stdout",
     "output_type": "stream",
     "text": [
      "[[7 6 8]\n",
      " [6 8 7]]\n"
     ]
    }
   ],
   "source": [
    "# adding elements in the array \n",
    "# [[7, 6, 8], [6, 8, 7]]\n",
    "result = x + y\n",
    "result = np.add(x, y)\n",
    "print(result)"
   ]
  },
  {
   "cell_type": "code",
   "execution_count": 14,
   "id": "cba9cd45-d34e-4ae3-90dc-8aa9aea08492",
   "metadata": {},
   "outputs": [
    {
     "name": "stdout",
     "output_type": "stream",
     "text": [
      "[[3 0 0]\n",
      " [0 0 3]]\n"
     ]
    }
   ],
   "source": [
    "# subtract\n",
    "result = x - y\n",
    "result = np.subtract(y, x)\n",
    "# [[-3,0, 0 ], [0, 0, -3]]\n",
    "print(result)"
   ]
  },
  {
   "cell_type": "code",
   "execution_count": 16,
   "id": "fc02f0fb-750a-498a-a0db-aaeb10792035",
   "metadata": {},
   "outputs": [
    {
     "name": "stdout",
     "output_type": "stream",
     "text": [
      "[[10  9 16]\n",
      " [ 9 16 10]]\n"
     ]
    }
   ],
   "source": [
    "# multiply\n",
    "#[[10, 9, 16], [9, 16, 10]]\n",
    "result = x * y\n",
    "result = np.multiply(x, y)\n",
    "print(result)"
   ]
  },
  {
   "cell_type": "code",
   "execution_count": 18,
   "id": "223cc271-cdea-4e74-9243-bf46ba745c92",
   "metadata": {},
   "outputs": [
    {
     "name": "stdout",
     "output_type": "stream",
     "text": [
      "[[2.5 1.  1. ]\n",
      " [1.  1.  2.5]]\n"
     ]
    }
   ],
   "source": [
    "# divid\n",
    "result = x / y\n",
    "result = np.divide(y, x)\n",
    "print(result)"
   ]
  },
  {
   "cell_type": "code",
   "execution_count": 19,
   "id": "2230220f-8d28-4725-9e4d-abf7cbaa5514",
   "metadata": {},
   "outputs": [
    {
     "name": "stdout",
     "output_type": "stream",
     "text": [
      "[[2.5 1.  1. ]\n",
      " [1.  1.  2.5]]\n"
     ]
    }
   ],
   "source": [
    "resutl = np.sqrt(y)\n",
    "\n",
    "print(result)"
   ]
  },
  {
   "cell_type": "code",
   "execution_count": 3,
   "id": "3d59ae79-9ae8-4d8a-9991-208016f4835c",
   "metadata": {},
   "outputs": [],
   "source": [
    "# Matrices wise\n",
    "# dot()\n",
    "x = np.array([[3, 5], [2, 1]])\n",
    "y = np.array([[5, 1], [1, 2]])"
   ]
  },
  {
   "cell_type": "code",
   "execution_count": 4,
   "id": "e282fa15-a1b7-4ac5-a881-273651a8ecd6",
   "metadata": {},
   "outputs": [],
   "source": [
    "# define vectors\n",
    "v = np.array([2, 3])\n",
    "w = np.array([1, 4])\n"
   ]
  },
  {
   "cell_type": "code",
   "execution_count": 5,
   "id": "671e2b04-d22c-4024-bbbc-636f5c89b05b",
   "metadata": {},
   "outputs": [
    {
     "name": "stdout",
     "output_type": "stream",
     "text": [
      "14\n"
     ]
    }
   ],
   "source": [
    "result = v.dot(w)\n",
    "# 2*1 + 3*4 = 14\n",
    "# not [[2, 12]]\n",
    "print(result)"
   ]
  },
  {
   "cell_type": "code",
   "execution_count": 6,
   "id": "07c473d4-bd8a-4c6b-beee-df0e98c5aebb",
   "metadata": {},
   "outputs": [
    {
     "name": "stdout",
     "output_type": "stream",
     "text": [
      "[21  7]\n"
     ]
    }
   ],
   "source": [
    "# WHAT IS THE OUTPUT OF \n",
    "result = x.dot(v)\n",
    "# 3*5 + 5*1 = 20\n",
    "[3* 2 + 5*3, 2*2 + 1*3]\n",
    "print(result)"
   ]
  },
  {
   "cell_type": "code",
   "execution_count": 7,
   "id": "9c018595-a3fa-4d9b-928b-749090756d64",
   "metadata": {},
   "outputs": [
    {
     "name": "stdout",
     "output_type": "stream",
     "text": [
      "[[20 13]\n",
      " [11  4]]\n"
     ]
    }
   ],
   "source": [
    "result = x.dot(y)\n",
    "# [3*5 + 5*1, 3*1 + 5*2, 2* 5 + 1* 1, 2*1 + 1*2]\n",
    "print(result)\n"
   ]
  },
  {
   "cell_type": "code",
   "execution_count": 8,
   "id": "c563ebff-773f-4b7e-a781-7b6dc244e28f",
   "metadata": {},
   "outputs": [
    {
     "name": "stdout",
     "output_type": "stream",
     "text": [
      "[[20 13]\n",
      " [11  4]]\n"
     ]
    }
   ],
   "source": [
    "print(np.dot(x, y))"
   ]
  },
  {
   "cell_type": "code",
   "execution_count": 10,
   "id": "d3f73ab3-768a-4bfe-a474-a9ee5a12b858",
   "metadata": {},
   "outputs": [
    {
     "name": "stdout",
     "output_type": "stream",
     "text": [
      "13\n",
      "21\n",
      "[5 7 9]\n"
     ]
    }
   ],
   "source": [
    " # what is the output of np.sum(x)\n",
    "x = np.array([[2, 3, 4], \n",
    "              [3, 4, 5]])\n",
    "y = [2, 3, 4, 4] # list\n",
    "\n",
    "# there are three ways of sum of arrays elements\n",
    "\n",
    "print(np.sum(y))\n",
    "print(np.sum(x))\n",
    "\n",
    "# the sume of column elements\n",
    "print(np.sum(x, axis=0))\n",
    "# [5, 7, 9]"
   ]
  },
  {
   "cell_type": "code",
   "execution_count": 11,
   "id": "ad77a296-0636-4354-a453-fba099e2b640",
   "metadata": {},
   "outputs": [
    {
     "name": "stdout",
     "output_type": "stream",
     "text": [
      "[ 9 12]\n"
     ]
    }
   ],
   "source": [
    "print(np.sum(x, axis=1))\n",
    "# [9, 12]"
   ]
  },
  {
   "cell_type": "code",
   "execution_count": 12,
   "id": "abbef856-e5ad-4778-a664-9aaabdf60e19",
   "metadata": {},
   "outputs": [
    {
     "name": "stdout",
     "output_type": "stream",
     "text": [
      "13\n"
     ]
    }
   ],
   "source": [
    "s = 0\n",
    "for i in y:\n",
    "    s += i\n",
    "\n",
    "print(s)\n",
    "        "
   ]
  },
  {
   "cell_type": "code",
   "execution_count": 17,
   "id": "75ab3baf-3cf8-4057-aeff-d63f44928c52",
   "metadata": {},
   "outputs": [
    {
     "name": "stdout",
     "output_type": "stream",
     "text": [
      "2\n"
     ]
    },
    {
     "data": {
      "text/plain": [
       "array([[2, 3, 8],\n",
       "       [3, 2, 8],\n",
       "       [5, 1, 9],\n",
       "       [5, 6, 7]])"
      ]
     },
     "execution_count": 17,
     "metadata": {},
     "output_type": "execute_result"
    }
   ],
   "source": [
    " x = np.array([\n",
    "             [2, 3, 5, 5],\n",
    "            [3, 2, 1, 6],\n",
    "            [8, 8, 9, 7]])\n",
    "print(x.ndim)\n",
    "x.T"
   ]
  },
  {
   "cell_type": "code",
   "execution_count": 18,
   "id": "29325af5-e861-44e9-8390-c261ab199848",
   "metadata": {},
   "outputs": [
    {
     "name": "stdout",
     "output_type": "stream",
     "text": [
      "(3, 4)\n"
     ]
    }
   ],
   "source": [
    "# how many dimensions in this array\n",
    "print(x.shape)\n"
   ]
  },
  {
   "cell_type": "code",
   "execution_count": 19,
   "id": "96864cb5-26e3-4a63-bf38-3c089cec5bf0",
   "metadata": {},
   "outputs": [
    {
     "data": {
      "text/plain": [
       "12"
      ]
     },
     "execution_count": 19,
     "metadata": {},
     "output_type": "execute_result"
    }
   ],
   "source": [
    "x.size"
   ]
  },
  {
   "cell_type": "code",
   "execution_count": null,
   "id": "ec6107f4-fdbd-4b93-be8d-c5ad51f83f5c",
   "metadata": {},
   "outputs": [],
   "source": []
  }
 ],
 "metadata": {
  "kernelspec": {
   "display_name": "Python 3",
   "language": "python",
   "name": "python3"
  },
  "language_info": {
   "codemirror_mode": {
    "name": "ipython",
    "version": 3
   },
   "file_extension": ".py",
   "mimetype": "text/x-python",
   "name": "python",
   "nbconvert_exporter": "python",
   "pygments_lexer": "ipython3",
   "version": "3.9.10"
  },
  "widgets": {
   "application/vnd.jupyter.widget-state+json": {
    "state": {},
    "version_major": 2,
    "version_minor": 0
   }
  }
 },
 "nbformat": 4,
 "nbformat_minor": 5
}
