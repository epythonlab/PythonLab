{
 "cells": [
  {
   "cell_type": "markdown",
   "id": "5fdbb1a5-d195-4ab6-ba93-08d94e8f40b4",
   "metadata": {},
   "source": [
    "# Web Scraping with BeautifulSoup in Python"
   ]
  },
  {
   "cell_type": "code",
   "execution_count": null,
   "id": "78420917-136c-41eb-af45-fc212cb46df0",
   "metadata": {},
   "outputs": [],
   "source": [
    "!pip install bs4"
   ]
  },
  {
   "cell_type": "code",
   "execution_count": 32,
   "id": "9fc65c1e-e3d8-4287-9e80-5316e96acf0a",
   "metadata": {},
   "outputs": [],
   "source": [
    "# import libraries \n",
    "import requests\n",
    "from bs4 import BeautifulSoup as bs\n",
    "import pandas as pd"
   ]
  },
  {
   "cell_type": "code",
   "execution_count": 33,
   "id": "e5e8a4e1-0736-410a-ac55-35629c7a3142",
   "metadata": {},
   "outputs": [],
   "source": [
    "# url for scraping \n",
    "url = \"https://www.ebay.com/sch/i.html?_from=R40&_nkw=laptop&_sacat=175672&_ipg=60&_pgn=\""
   ]
  },
  {
   "cell_type": "code",
   "execution_count": 41,
   "id": "d0b4bc69-760d-4a7e-ba9e-caa810663cde",
   "metadata": {},
   "outputs": [],
   "source": [
    "# define function to get content per page\n",
    "def get_content_per_page(url, pages):\n",
    "    \n",
    "    html_contents = []\n",
    "    for i in pages:\n",
    "        webpage_response = requests.get(url+\"{}\".format(i))\n",
    "        \n",
    "        soup = bs(webpage_response.content, \"html.parser\")\n",
    "        \n",
    "        html_contents.append(soup)\n",
    "        \n",
    "\n",
    "        \n",
    "    return html_contents\n"
   ]
  },
  {
   "cell_type": "code",
   "execution_count": 61,
   "id": "d877db67-5d70-4a4d-801e-caafe9017d4a",
   "metadata": {},
   "outputs": [],
   "source": [
    "# call the function and pass arguments\n",
    "contents = get_content_per_page(url, [1, 2, 3, 4])"
   ]
  },
  {
   "cell_type": "code",
   "execution_count": 62,
   "id": "a4d71eb1-47af-4216-98bc-14789230c207",
   "metadata": {},
   "outputs": [],
   "source": [
    "#print(contents)"
   ]
  },
  {
   "cell_type": "code",
   "execution_count": null,
   "id": "070b5c93-707c-450e-aa8a-9f51b2da9c01",
   "metadata": {},
   "outputs": [],
   "source": []
  },
  {
   "cell_type": "code",
   "execution_count": 65,
   "id": "52b5ce0f-2cb6-4df2-816d-7b293ff11aeb",
   "metadata": {},
   "outputs": [],
   "source": [
    "# define function to get data per page\n",
    "def get_data_per_page(contents=contents):\n",
    "    \n",
    "    ebay_data = {'title':[], \"price\":[], 'location':[]}\n",
    "    \n",
    "    for content in contents:\n",
    "        for i in range(1, 61):\n",
    "            ul_entity = content.find(\"ul\", \n",
    "                                     {\"class\":\"srp-results srp-list clearfix\"}).find_all(\"li\", \n",
    "                                                                                         {\"data-view\":\"mi:1686|iid:{}\".format(i)})\n",
    "            \n",
    "            for li in ul_entity:\n",
    "                title = li.find(\"div\", {\"class\":\"s-item__info clearfix\"}).find(\"h3\", {\"class\":\"s-item__title\"}).text\n",
    "                \n",
    "    \n",
    "    return ebay_data"
   ]
  },
  {
   "cell_type": "code",
   "execution_count": 66,
   "id": "f6716649-9675-47c3-bf51-fc217e704fbc",
   "metadata": {},
   "outputs": [],
   "source": [
    "# call the function\n",
    "data = get_data_per_page()\n"
   ]
  },
  {
   "cell_type": "code",
   "execution_count": 67,
   "id": "8a8f7d97-caba-4faf-aab6-bc7d18932ee2",
   "metadata": {},
   "outputs": [],
   "source": [
    "# convert to pandas\n",
    "df = pd.DataFrame(data)\n"
   ]
  },
  {
   "cell_type": "code",
   "execution_count": 68,
   "id": "6d331d5c-6171-4fa6-9e27-55642aae632b",
   "metadata": {},
   "outputs": [
    {
     "data": {
      "text/html": [
       "<div>\n",
       "<style scoped>\n",
       "    .dataframe tbody tr th:only-of-type {\n",
       "        vertical-align: middle;\n",
       "    }\n",
       "\n",
       "    .dataframe tbody tr th {\n",
       "        vertical-align: top;\n",
       "    }\n",
       "\n",
       "    .dataframe thead th {\n",
       "        text-align: right;\n",
       "    }\n",
       "</style>\n",
       "<table border=\"1\" class=\"dataframe\">\n",
       "  <thead>\n",
       "    <tr style=\"text-align: right;\">\n",
       "      <th></th>\n",
       "      <th>title</th>\n",
       "      <th>price</th>\n",
       "      <th>location</th>\n",
       "    </tr>\n",
       "  </thead>\n",
       "  <tbody>\n",
       "    <tr>\n",
       "      <th>0</th>\n",
       "      <td>CHUWI 11.6'' Laptop Computer PC Windows 10 Hom...</td>\n",
       "      <td>$179.99</td>\n",
       "      <td>from United States</td>\n",
       "    </tr>\n",
       "    <tr>\n",
       "      <th>1</th>\n",
       "      <td>Dell Laptop Latitude Intel i5 16GB RAM 1TB HDD...</td>\n",
       "      <td>$209.95 to $429.95</td>\n",
       "      <td>from United States</td>\n",
       "    </tr>\n",
       "    <tr>\n",
       "      <th>2</th>\n",
       "      <td>HP Chromebook 14-SMB 14\" Laptop Intel Celeron ...</td>\n",
       "      <td>$47.98</td>\n",
       "      <td>from United States</td>\n",
       "    </tr>\n",
       "    <tr>\n",
       "      <th>3</th>\n",
       "      <td>HP ProBook 4430s 14\" Laptop Computer PC Celero...</td>\n",
       "      <td>$159.99</td>\n",
       "      <td>from United States</td>\n",
       "    </tr>\n",
       "    <tr>\n",
       "      <th>4</th>\n",
       "      <td>Lenovo Legion 5 17.3\" 144Hz Gaming Laptop R5-5...</td>\n",
       "      <td>$999.99</td>\n",
       "      <td>from United States</td>\n",
       "    </tr>\n",
       "    <tr>\n",
       "      <th>...</th>\n",
       "      <td>...</td>\n",
       "      <td>...</td>\n",
       "      <td>...</td>\n",
       "    </tr>\n",
       "    <tr>\n",
       "      <th>235</th>\n",
       "      <td>Google Pixelbook Go 13.3\" Not Pink 1.5GHz i7-8...</td>\n",
       "      <td>$637.99</td>\n",
       "      <td>from United States</td>\n",
       "    </tr>\n",
       "    <tr>\n",
       "      <th>236</th>\n",
       "      <td>New ListingDell XPS 15 9575 15.6\" UHD 4K Touch...</td>\n",
       "      <td>$791.99</td>\n",
       "      <td>from United States</td>\n",
       "    </tr>\n",
       "    <tr>\n",
       "      <th>237</th>\n",
       "      <td>New ListingLenovo ThinkPad P15s Gen 1 Laptop 1...</td>\n",
       "      <td>$1,149.95</td>\n",
       "      <td>from United States</td>\n",
       "    </tr>\n",
       "    <tr>\n",
       "      <th>238</th>\n",
       "      <td>New ListingHP ProBook 11 G2 11.6\" Laptop Intel...</td>\n",
       "      <td>$59.99</td>\n",
       "      <td>from United States</td>\n",
       "    </tr>\n",
       "    <tr>\n",
       "      <th>239</th>\n",
       "      <td>Dell Latitude E6540 Quad i7-4810MQ 2.80GHz 16G...</td>\n",
       "      <td>$289.95</td>\n",
       "      <td>from United States</td>\n",
       "    </tr>\n",
       "  </tbody>\n",
       "</table>\n",
       "<p>240 rows × 3 columns</p>\n",
       "</div>"
      ],
      "text/plain": [
       "                                                 title               price  \\\n",
       "0    CHUWI 11.6'' Laptop Computer PC Windows 10 Hom...             $179.99   \n",
       "1    Dell Laptop Latitude Intel i5 16GB RAM 1TB HDD...  $209.95 to $429.95   \n",
       "2    HP Chromebook 14-SMB 14\" Laptop Intel Celeron ...              $47.98   \n",
       "3    HP ProBook 4430s 14\" Laptop Computer PC Celero...             $159.99   \n",
       "4    Lenovo Legion 5 17.3\" 144Hz Gaming Laptop R5-5...             $999.99   \n",
       "..                                                 ...                 ...   \n",
       "235  Google Pixelbook Go 13.3\" Not Pink 1.5GHz i7-8...             $637.99   \n",
       "236  New ListingDell XPS 15 9575 15.6\" UHD 4K Touch...             $791.99   \n",
       "237  New ListingLenovo ThinkPad P15s Gen 1 Laptop 1...           $1,149.95   \n",
       "238  New ListingHP ProBook 11 G2 11.6\" Laptop Intel...              $59.99   \n",
       "239  Dell Latitude E6540 Quad i7-4810MQ 2.80GHz 16G...             $289.95   \n",
       "\n",
       "               location  \n",
       "0    from United States  \n",
       "1    from United States  \n",
       "2    from United States  \n",
       "3    from United States  \n",
       "4    from United States  \n",
       "..                  ...  \n",
       "235  from United States  \n",
       "236  from United States  \n",
       "237  from United States  \n",
       "238  from United States  \n",
       "239  from United States  \n",
       "\n",
       "[240 rows x 3 columns]"
      ]
     },
     "execution_count": 68,
     "metadata": {},
     "output_type": "execute_result"
    }
   ],
   "source": [
    "df"
   ]
  },
  {
   "cell_type": "code",
   "execution_count": null,
   "id": "22577877-b48e-4e4d-8cfc-269d81ff118d",
   "metadata": {},
   "outputs": [],
   "source": []
  }
 ],
 "metadata": {
  "kernelspec": {
   "display_name": "Python 3",
   "language": "python",
   "name": "python3"
  },
  "language_info": {
   "codemirror_mode": {
    "name": "ipython",
    "version": 3
   },
   "file_extension": ".py",
   "mimetype": "text/x-python",
   "name": "python",
   "nbconvert_exporter": "python",
   "pygments_lexer": "ipython3",
   "version": "3.9.10"
  },
  "widgets": {
   "application/vnd.jupyter.widget-state+json": {
    "state": {},
    "version_major": 2,
    "version_minor": 0
   }
  }
 },
 "nbformat": 4,
 "nbformat_minor": 5
}
