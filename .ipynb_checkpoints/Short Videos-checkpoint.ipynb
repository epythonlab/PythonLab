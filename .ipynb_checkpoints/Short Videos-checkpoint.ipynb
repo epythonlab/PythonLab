{
 "cells": [
  {
   "cell_type": "markdown",
   "id": "20799860-f6c8-4b62-8c14-2b299da9b091",
   "metadata": {},
   "source": [
    "## BMI Calcuator"
   ]
  },
  {
   "cell_type": "code",
   "execution_count": 66,
   "id": "ff2cb73b-1589-42ae-8591-4b5dda167a67",
   "metadata": {},
   "outputs": [
    {
     "name": "stdin",
     "output_type": "stream",
     "text": [
      "Enter your weight in kg: 100\n",
      "Enter your height in m: 10\n"
     ]
    },
    {
     "name": "stdout",
     "output_type": "stream",
     "text": [
      "Healthy\n"
     ]
    }
   ],
   "source": [
    "# epythonlab\n",
    "# function to calculate BMI\n",
    "def bmi_calc(w, h):\n",
    "    # calcualte the bmi\n",
    "    bmi = w / (h/100)**2\n",
    "    if bmi < 18.5:\n",
    "        return \"Underweight\"\n",
    "    elif bmi < 25.0 and bmi >= 18.5:\n",
    "        return \"Normal or Healthy\"\n",
    "    elif bmi >= 25.0 and bmi < 30.0:\n",
    "        return \"Overweight\"\n",
    "    else :\n",
    "        return \"Obesity\"\n",
    "# code drive\n",
    "weight = input(\"Enter your weight in kg:\")\n",
    "height = input(\"Enter your height in m:\")\n",
    "resutl = bmi_calc(int(weight), float(height))\n",
    "print(result)"
   ]
  },
  {
   "cell_type": "code",
   "execution_count": null,
   "id": "59661cfd-1c7b-4b64-95f0-9a094699487b",
   "metadata": {},
   "outputs": [],
   "source": []
  },
  {
   "cell_type": "markdown",
   "id": "9a63768d-0729-4029-819b-8ffa5cd627a2",
   "metadata": {},
   "source": [
    "##\n",
    "\n",
    "##\n",
    "\n",
    "##\n",
    "\n",
    "##\n",
    "##"
   ]
  },
  {
   "cell_type": "markdown",
   "id": "fe711e28-ea99-45e4-bcd1-498e327d54a9",
   "metadata": {},
   "source": [
    "## Countdown Timer"
   ]
  },
  {
   "cell_type": "code",
   "execution_count": 4,
   "id": "e097f58f-9f27-4d73-b484-514d405f896e",
   "metadata": {},
   "outputs": [
    {
     "name": "stdin",
     "output_type": "stream",
     "text": [
      "Enter time in seconds: 5\n"
     ]
    },
    {
     "name": "stdout",
     "output_type": "stream",
     "text": [
      "00:01\r"
     ]
    }
   ],
   "source": [
    "import time \n",
    "# count down function\n",
    "def countdown(t): \n",
    "    while t:\n",
    "        mins, secs = divmod(t, 60)\n",
    "        timer = '{:02d}:{:02d}'.format(mins, secs)\n",
    "        \n",
    "        print(timer, end='\\r')\n",
    "        \n",
    "        time.sleep(1) # sleep for 1 second\n",
    "        t -= 1 # decrease by 1 second\n",
    "\n",
    "# code drive\n",
    "t = input(\"Enter time in seconds:\")\n",
    "countdown(int(t)) # call function and pass time"
   ]
  },
  {
   "cell_type": "markdown",
   "id": "fcc1ac0c-e5c8-4833-a515-8cde5bc441e2",
   "metadata": {},
   "source": [
    "# Detect Your Language"
   ]
  },
  {
   "cell_type": "code",
   "execution_count": null,
   "id": "5fec411c-6e8e-4ab2-8bb2-970e0588262e",
   "metadata": {},
   "outputs": [],
   "source": [
    "# install the library\n",
    "pip install langdetect\n"
   ]
  },
  {
   "cell_type": "code",
   "execution_count": null,
   "id": "5ccad392-1a93-4367-8c84-e5c8031c659f",
   "metadata": {},
   "outputs": [],
   "source": [
    "# import the library\n",
    "from langdetect import detect\n",
    "\n",
    "# input the text in your language\n",
    "text = input(\"Text:\")\n",
    "\n",
    "print(\"Language detected:\", detect(text))"
   ]
  },
  {
   "cell_type": "markdown",
   "id": "9859cbae-2eaf-4fc8-9859-8f42e3851e64",
   "metadata": {
    "tags": []
   },
   "source": [
    "Check within a column if a certain value is contained from the list\n",
    "\n",
    "if found, return True else False in the new column"
   ]
  },
  {
   "cell_type": "code",
   "execution_count": null,
   "id": "c9b8f5b9-81bc-46e6-b17b-c98b7d81944b",
   "metadata": {},
   "outputs": [],
   "source": [
    "import pandas as pd\n",
    "import re\n",
    "d = {\n",
    "    \"customerId\": [1, 3, 3],\n",
    "    \"text\": [\"Something with Cat\", \"That is a huge dog\", \"Hello agian\"],\n",
    "}\n",
    "df = pd.DataFrame(data=d)\n",
    "df"
   ]
  },
  {
   "cell_type": "code",
   "execution_count": null,
   "id": "29437316-8be6-4408-94ec-e6403562370f",
   "metadata": {},
   "outputs": [],
   "source": [
    "# List items\n",
    "my_list = ['cat', 'dog', 'mouse']"
   ]
  },
  {
   "cell_type": "markdown",
   "id": "6bc5f786-ce77-40fb-8d2d-4315eb47ada0",
   "metadata": {},
   "source": [
    "Create pattern from the list"
   ]
  },
  {
   "cell_type": "code",
   "execution_count": null,
   "id": "6f6f9838-1ce1-43b5-9871-ad51b9a94864",
   "metadata": {},
   "outputs": [],
   "source": [
    "# use regular expression to create patter from the list\n",
    "pattern = re.compile(\"|\".join(my_list), re.IGNORECASE)"
   ]
  },
  {
   "cell_type": "markdown",
   "id": "ea15ef6e-c74e-4835-bde1-5c1154369d83",
   "metadata": {},
   "source": [
    "Check the dataframe column\n",
    "\n"
   ]
  },
  {
   "cell_type": "code",
   "execution_count": null,
   "id": "7f3c7000-16e4-4f60-a5c9-8da6d7730da8",
   "metadata": {},
   "outputs": [],
   "source": [
    "df['test'] = df['text'].apply(lambda x: True if pattern.search(x) else False)"
   ]
  },
  {
   "cell_type": "code",
   "execution_count": null,
   "id": "7b61e5e8-386f-4a49-af53-1c15e2592356",
   "metadata": {},
   "outputs": [],
   "source": [
    "df"
   ]
  },
  {
   "cell_type": "markdown",
   "id": "e39dc874-822d-4e9a-9dc7-8deb45a9e5d2",
   "metadata": {},
   "source": [
    "# Check leap year in Python"
   ]
  },
  {
   "cell_type": "code",
   "execution_count": null,
   "id": "74f4b87a-71df-445f-a79c-3e230b313fde",
   "metadata": {},
   "outputs": [],
   "source": [
    "def checkLeap(year):\n",
    "    \n",
    "    if ((year % 400 == 0) or\n",
    "       (year % 100 != 0) and\n",
    "       (year % 4 == 0)):\n",
    "        \n",
    "        print(\"Given year is leap year.\")\n",
    "    \n",
    "    else:\n",
    "        print(\"Given year is not leap year.\")\n",
    "    "
   ]
  },
  {
   "cell_type": "code",
   "execution_count": null,
   "id": "c92c7280-be58-4383-bf44-592277a7c583",
   "metadata": {},
   "outputs": [],
   "source": [
    "# call the funcction\n",
    "leap = checkLeap(2022)"
   ]
  },
  {
   "cell_type": "code",
   "execution_count": null,
   "id": "d6f61c50-6216-4711-989a-64316854b2a8",
   "metadata": {},
   "outputs": [],
   "source": [
    "checkLeap(2019)"
   ]
  },
  {
   "cell_type": "code",
   "execution_count": null,
   "id": "9fb72b5e-ff42-4a67-9982-86e5ae806e22",
   "metadata": {},
   "outputs": [],
   "source": []
  }
 ],
 "metadata": {
  "kernelspec": {
   "display_name": "Python 3",
   "language": "python",
   "name": "python3"
  },
  "language_info": {
   "codemirror_mode": {
    "name": "ipython",
    "version": 3
   },
   "file_extension": ".py",
   "mimetype": "text/x-python",
   "name": "python",
   "nbconvert_exporter": "python",
   "pygments_lexer": "ipython3",
   "version": "3.9.10"
  },
  "widgets": {
   "application/vnd.jupyter.widget-state+json": {
    "state": {},
    "version_major": 2,
    "version_minor": 0
   }
  }
 },
 "nbformat": 4,
 "nbformat_minor": 5
}
