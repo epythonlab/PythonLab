{
 "cells": [
  {
   "cell_type": "markdown",
   "metadata": {},
   "source": [
    "<center>\n",
    "    <img src=\"images/logo.jpg\" width=\"150\" alt=\"EPYTHON LAB logo\"  />\n",
    "</center>\n",
    "<hr>\n",
    "\n",
    "<div class=\"alert alert-success alertsuccess\" style=\"margin-top: 20px; font-size:2em;\">\n",
    "[01]:Introduction to Python\n",
    "</div>"
   ]
  },
  {
   "cell_type": "markdown",
   "metadata": {},
   "source": [
    "Python is a programming language. Like other languages, it gives us a way to communicate ideas. \n",
    "\n",
    "In the case of a programming language, these ideas are `commands` that people use to communicate with a computer!"
   ]
  },
  {
   "cell_type": "markdown",
   "metadata": {},
   "source": [
    "## Q: What is Python?"
   ]
  },
  {
   "cell_type": "markdown",
   "metadata": {},
   "source": [
    "**Python** is an **interpreted, object-oriented, high-level** programming language with dynamic semantics. \n",
    "\n",
    "**Pyhthon** is also a powerful **dynamic** typed programming language."
   ]
  },
  {
   "cell_type": "markdown",
   "metadata": {},
   "source": [
    "**Python** is a **high-level built in data structures**, combined with **dynamic typing** and **dynamic binding**, make it very attractive for Rapid Application Development, as well as for use as a scripting or glue language to connect existing components together. "
   ]
  },
  {
   "cell_type": "markdown",
   "metadata": {},
   "source": [
    "Python's simple, easy to learn syntax emphasizes readability and therefore reduces the cost of program maintenance. \n",
    "\n",
    "Python supports modules and packages, which encourages program modularity and code reuse. \n",
    "\n",
    "The Python interpreter and the extensive standard library are available in source or binary form without charge for all major platforms, and can be freely distributed. "
   ]
  },
  {
   "cell_type": "markdown",
   "metadata": {},
   "source": [
    "## Comments"
   ]
  },
  {
   "cell_type": "markdown",
   "metadata": {},
   "source": [
    "\n",
    "Ironically, the first thing we’re going to do is show how to tell a computer to ignore a part of a program. Text written in a program but not run by the computer is called a `comment`. \n",
    "\n",
    "Python interprets anything after a `#` as a comment."
   ]
  },
  {
   "cell_type": "code",
   "execution_count": 13,
   "metadata": {},
   "outputs": [],
   "source": [
    "# This is my first comment\n",
    "\n",
    "# This is my second comment"
   ]
  },
  {
   "cell_type": "markdown",
   "metadata": {},
   "source": [
    "**Comments can**: \n",
    "\n",
    "- Provide context for why something is written the way it is:\n",
    "\n",
    "- `#` This code will calculate the sum of two numbers:\n",
    "     `2 + 2`\n",
    "    \n",
    "- Help other people reading the code understand it faster: \n",
    " \n",
    "- Ignore a line of code and see how a program will run without it:"
   ]
  },
  {
   "cell_type": "code",
   "execution_count": 9,
   "metadata": {},
   "outputs": [
    {
     "data": {
      "text/plain": [
       "12"
      ]
     },
     "execution_count": 9,
     "metadata": {},
     "output_type": "execute_result"
    }
   ],
   "source": [
    "# This returns the sum of two numbers\n",
    "\"\"\"\n",
    "This is returns the sum of \n",
    "9 and 3\n",
    "\n",
    "\"\"\"\n",
    "9+3"
   ]
  },
  {
   "cell_type": "markdown",
   "metadata": {},
   "source": [
    "## Print Function"
   ]
  },
  {
   "cell_type": "markdown",
   "metadata": {},
   "source": [
    "**Print**\n",
    "\n",
    "Now what we’re going to do is teach our computer to communicate. \n",
    "\n",
    "The gift of speech is valuable: a computer can answer many questions we have about `how` or `why` or `what` it is doing. \n",
    "\n",
    "In Python, the `print()` function is used to tell a computer to talk. \n",
    "\n",
    "The message to be printed should be surrounded by quotes:"
   ]
  },
  {
   "cell_type": "code",
   "execution_count": 10,
   "metadata": {},
   "outputs": [
    {
     "name": "stdout",
     "output_type": "stream",
     "text": [
      "Hello world\n"
     ]
    }
   ],
   "source": [
    "# Print Hello world\n",
    "print(\"Hello world\")\n",
    "# std::cout<<\"Hello world\""
   ]
  },
  {
   "cell_type": "code",
   "execution_count": 11,
   "metadata": {},
   "outputs": [
    {
     "name": "stdout",
     "output_type": "stream",
     "text": [
      "7\n"
     ]
    }
   ],
   "source": [
    "print(3+4)"
   ]
  },
  {
   "cell_type": "code",
   "execution_count": 12,
   "metadata": {},
   "outputs": [
    {
     "name": "stdout",
     "output_type": "stream",
     "text": [
      "3+4\n"
     ]
    }
   ],
   "source": [
    "print(\"3+4\")"
   ]
  },
  {
   "cell_type": "code",
   "execution_count": 13,
   "metadata": {},
   "outputs": [
    {
     "name": "stdout",
     "output_type": "stream",
     "text": [
      "hello world\n"
     ]
    }
   ],
   "source": [
    "print('hello world')"
   ]
  },
  {
   "cell_type": "markdown",
   "metadata": {},
   "source": [
    "\n",
    "<br>\n",
    "<br>\n",
    "\n",
    "The `print()` function prints the specified message to the screen, or other standard output device. The message can be a string, or any other object, the object will be converted into a string before written to the screen."
   ]
  },
  {
   "cell_type": "markdown",
   "metadata": {},
   "source": [
    "## Strings"
   ]
  },
  {
   "cell_type": "markdown",
   "metadata": {},
   "source": [
    "\n",
    "Computer programmers refer to blocks of text as strings. \n",
    "\n",
    "In the above exercise, we created the string “Hello world!”. \n",
    "\n",
    "In Python a string is either surrounded by `double quotes` (\"Hello world\") or `single quotes` ('Hello world'). \n",
    "\n",
    "It doesn’t matter which kind you use, just be consistent."
   ]
  },
  {
   "cell_type": "code",
   "execution_count": 17,
   "metadata": {},
   "outputs": [
    {
     "name": "stdout",
     "output_type": "stream",
     "text": [
      "Hello World\n"
     ]
    }
   ],
   "source": [
    "print(\"Hello World\")"
   ]
  },
  {
   "cell_type": "code",
   "execution_count": 14,
   "metadata": {},
   "outputs": [
    {
     "name": "stdout",
     "output_type": "stream",
     "text": [
      "Hello world\n"
     ]
    }
   ],
   "source": [
    "print('Hello world')"
   ]
  },
  {
   "cell_type": "markdown",
   "metadata": {},
   "source": [
    "<hr/>\n",
    "<div class=\"alert alert-success alertsuccess\" style=\"margin-top: 20px; font-size:2em;\">\n",
    "[02]:Variables and Naming\n",
    "</div>\n",
    "<hr/>"
   ]
  },
  {
   "cell_type": "markdown",
   "metadata": {},
   "source": [
    "## Q: What are variables?"
   ]
  },
  {
   "cell_type": "markdown",
   "metadata": {},
   "source": [
    "Programming languages offer a method of storing data for reuse. \n",
    "\n",
    "If there is a **greeting we want to present**, **a date we need to reuse**, or a **user ID** we need to remember we can create a variable which can store a value. \n",
    "\n",
    "Variables are containers for storing data values in the computer memory.\n",
    "\n",
    "In Python, we assign variables by using the equals sign `(=)`.\n",
    "\n"
   ]
  },
  {
   "cell_type": "markdown",
   "metadata": {},
   "source": [
    "Unlike other programming languages, Python has no command for declaring a variable.\n",
    "\n",
    "A variable is created the moment you first assign a value to it."
   ]
  },
  {
   "cell_type": "code",
   "execution_count": 20,
   "metadata": {},
   "outputs": [
    {
     "name": "stdout",
     "output_type": "stream",
     "text": [
      "Hello there\n"
     ]
    }
   ],
   "source": [
    "\n",
    "message_string = \"Hello there\"\n",
    "\n",
    "# Prints \"Hello there\"\n",
    "print(message_string)"
   ]
  },
  {
   "cell_type": "code",
   "execution_count": null,
   "metadata": {},
   "outputs": [],
   "source": []
  },
  {
   "cell_type": "markdown",
   "metadata": {},
   "source": [
    "In the above example, we store the message `Hello there` in a variable called `message_string`."
   ]
  },
  {
   "cell_type": "markdown",
   "metadata": {},
   "source": [
    "Variables do not need to be declared with any particular type, and can even change type after they have been set."
   ]
  },
  {
   "cell_type": "code",
   "execution_count": 21,
   "metadata": {},
   "outputs": [
    {
     "name": "stdout",
     "output_type": "stream",
     "text": [
      "10\n"
     ]
    }
   ],
   "source": [
    "message_string = 10\n",
    "print(message_string)"
   ]
  },
  {
   "cell_type": "code",
   "execution_count": null,
   "metadata": {},
   "outputs": [],
   "source": [
    "# In c++ we can create variable \n",
    "# int x;\n",
    "# x = 10"
   ]
  },
  {
   "cell_type": "code",
   "execution_count": null,
   "metadata": {},
   "outputs": [],
   "source": []
  },
  {
   "cell_type": "markdown",
   "metadata": {},
   "source": [
    "<hr/>\n",
    "<div class=\"alert alert-success alertsuccess\" style=\"margin-top: 20px\">\n",
    "[Tip]: String variables can be declared either by using single or double quotes\n",
    "</div>\n",
    "<hr/>\n",
    "\n"
   ]
  },
  {
   "cell_type": "code",
   "execution_count": 23,
   "metadata": {},
   "outputs": [
    {
     "ename": "SyntaxError",
     "evalue": "invalid syntax (<ipython-input-23-01ae87c68887>, line 3)",
     "output_type": "error",
     "traceback": [
      "\u001b[0;36m  File \u001b[0;32m\"<ipython-input-23-01ae87c68887>\"\u001b[0;36m, line \u001b[0;32m3\u001b[0m\n\u001b[0;31m    first name = 'Asibeh'\u001b[0m\n\u001b[0m          ^\u001b[0m\n\u001b[0;31mSyntaxError\u001b[0m\u001b[0;31m:\u001b[0m invalid syntax\n"
     ]
    }
   ],
   "source": [
    "first_name = \"Asibeh\"\n",
    "# is the same as\n",
    "firstName = 'Asibeh'\n",
    "print(first_name)"
   ]
  },
  {
   "cell_type": "markdown",
   "metadata": {},
   "source": [
    "## Variable Names\n",
    "\n",
    "A variable can have a short name `(like x and y)` or a more descriptive name (age, first_name, total_volume). \n",
    "\n",
    "**Rules for Python variables:**\n",
    "\n",
    "- A variable name must start with a letter or the underscore character\n",
    "\n",
    "- Variables can’t have spaces or symbols in their names other than an underscore `(_)`.\n",
    "\n",
    "- They can’t begin with numbers but they can have numbers after the first letter `(e.g., cool_variable_5 is OK)`\n",
    "- A variable name can only contain `alpha-numeric` characters and underscores `(A-z, 0-9, and _ )`\n",
    "\n",
    "- Variable names are case-sensitive **(age, Age and AGE are three different variables)**\n"
   ]
  },
  {
   "cell_type": "code",
   "execution_count": 26,
   "metadata": {},
   "outputs": [],
   "source": [
    "age_12 = 23"
   ]
  },
  {
   "cell_type": "code",
   "execution_count": 28,
   "metadata": {},
   "outputs": [
    {
     "name": "stdout",
     "output_type": "stream",
     "text": [
      "32\n"
     ]
    }
   ],
   "source": [
    "age = 32\n",
    "Age = 33\n",
    "\n",
    "first_name = 'Asibeh'\n",
    "print(age)"
   ]
  },
  {
   "cell_type": "markdown",
   "metadata": {},
   "source": [
    " \n",
    "It’s no coincidence we call these creatures **variables**. If the context of a program changes, we can update a variable but perform the same logical process on it."
   ]
  },
  {
   "cell_type": "code",
   "execution_count": 31,
   "metadata": {},
   "outputs": [
    {
     "name": "stdout",
     "output_type": "stream",
     "text": [
      "Hello there\n",
      "Goodby\n"
     ]
    }
   ],
   "source": [
    "# Greeting\n",
    "message_string = \"Hello there\"\n",
    "\n",
    "print(message_string)\n",
    "# Farewell\n",
    "message_string = \"Goodby\"\n",
    "print(message_string)"
   ]
  },
  {
   "cell_type": "markdown",
   "metadata": {},
   "source": [
    "Above, we create the variable `message_string`, assign a welcome message, and print the greeting. After we greet the user, we want to wish them goodbye. We then update `message_string` to a departure message and print that out."
   ]
  },
  {
   "cell_type": "code",
   "execution_count": null,
   "metadata": {},
   "outputs": [],
   "source": [
    "x = 10\n",
    "x = 'Asibhe'\n",
    "x = 10.2"
   ]
  },
  {
   "cell_type": "markdown",
   "metadata": {},
   "source": [
    "**Exercise**: Which is a valid variable name?\n",
    "1. `2_x = 2`\n",
    "\n",
    "2. `first_name = 'Asibeh'`\n",
    "\n",
    "3. `#_age=30`\n",
    "\n",
    "4. `x_23 = 23`\n",
    "\n",
    "5. `_age_ = 30`\n",
    "6. `first name = 'Asibeh'`\n",
    "7. `last-name = 'Tenager'`\n",
    "8. `lastName ='Tenager'`"
   ]
  },
  {
   "cell_type": "markdown",
   "metadata": {},
   "source": [
    "<hr/>\n",
    "<div class=\"alert alert-success alertsuccess\" style=\"margin-top: 20px\">\n",
    "[Summary]: \n",
    "    \n",
    "    - Variables are nothing but named reserved locations to store values. This means that when you create a variable you reserve some space in memory.\n",
    "    \n",
    "    -Based on the data types of the variable, the interpreter allocates memory and decides what can be stored in the preserved space.\n",
    "    \n",
    "    -Therefore, by assigning different types of data to variables, you can store integers, floating points, strings or booleans in these variables. \n",
    "    \n",
    "</div>\n",
    "<hr/>\n"
   ]
  },
  {
   "cell_type": "markdown",
   "metadata": {},
   "source": [
    "<hr>\n",
    "\n",
    "*Copyright &copy; 2021 EPYTHON LAB.  All rights reserved.*"
   ]
  }
 ],
 "metadata": {
  "kernelspec": {
   "display_name": "Python 3",
   "language": "python",
   "name": "python3"
  },
  "language_info": {
   "codemirror_mode": {
    "name": "ipython",
    "version": 3
   },
   "file_extension": ".py",
   "mimetype": "text/x-python",
   "name": "python",
   "nbconvert_exporter": "python",
   "pygments_lexer": "ipython3",
   "version": "3.9.10"
  },
  "widgets": {
   "application/vnd.jupyter.widget-state+json": {
    "state": {},
    "version_major": 2,
    "version_minor": 0
   }
  }
 },
 "nbformat": 4,
 "nbformat_minor": 4
}
