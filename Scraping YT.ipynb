{
 "cells": [
  {
   "cell_type": "markdown",
   "id": "50b4e623-5633-470b-9509-99a4f6342cda",
   "metadata": {},
   "source": [
    "# How to Get Youtube Video Keywords in a few Lines of Code"
   ]
  },
  {
   "cell_type": "markdown",
   "id": "9250ecd6-7814-45dd-90fa-d9098df674d9",
   "metadata": {},
   "source": [
    "#### Step 1: install pytube library"
   ]
  },
  {
   "cell_type": "code",
   "execution_count": 1,
   "id": "9dfe6234-5e5d-488c-b70f-d4b2a50e221f",
   "metadata": {},
   "outputs": [],
   "source": [
    "# uncomment, the below line to install the libray\n",
    "\n",
    "#!pip install pytube"
   ]
  },
  {
   "cell_type": "markdown",
   "id": "3f3da3de-d092-48c0-b4cd-73db7204f9a2",
   "metadata": {},
   "source": [
    "### Step 2: Define the function to get keywords"
   ]
  },
  {
   "cell_type": "code",
   "execution_count": 46,
   "id": "9bbea6bf-db55-42c8-b746-b9c59aadb8ee",
   "metadata": {},
   "outputs": [],
   "source": [
    "# import pytube library\n",
    "from pytube import YouTube\n",
    "\n",
    "# define the function\n",
    "def get_keywords(url):\n",
    "    \n",
    "    # create an object\n",
    "    yt = YouTube(url)\n",
    "    \n",
    "    return yt.keywords"
   ]
  },
  {
   "cell_type": "code",
   "execution_count": 47,
   "id": "6aafc962-15bc-4388-8500-8e703b44be2a",
   "metadata": {},
   "outputs": [],
   "source": [
    "# call the function\n",
    "url = \"https://www.youtube.com/watch?v=lZAoFs75_cs&t=3305s\"\n",
    "l1 = []\n",
    "for k in get_keywords(url):\n",
    "    l1.append(k)"
   ]
  },
  {
   "cell_type": "code",
   "execution_count": 48,
   "id": "e268b9e9-00da-4e64-8e26-b3d3f4bf9f89",
   "metadata": {},
   "outputs": [],
   "source": [
    "l2 = []\n",
    "url = \"https://www.youtube.com/watch?v=HGOBQPFzWKo\"\n",
    "for k in get_keywords(url):\n",
    "    l2.append(k)"
   ]
  },
  {
   "cell_type": "code",
   "execution_count": 49,
   "id": "67a782e3-1309-4926-9c67-8f9e9a41d71a",
   "metadata": {},
   "outputs": [
    {
     "data": {
      "text/plain": [
       "['linux',\n",
       " 'kali linux',\n",
       " 'ethical hacking',\n",
       " 'hackers',\n",
       " 'bash',\n",
       " 'command line',\n",
       " 'terminal',\n",
       " 'linux tutorial',\n",
       " 'linux course',\n",
       " 'vmware',\n",
       " 'python course',\n",
       " 'python tutorial',\n",
       " 'python',\n",
       " 'intermediate python',\n",
       " 'python nprogramming']"
      ]
     },
     "execution_count": 49,
     "metadata": {},
     "output_type": "execute_result"
    }
   ],
   "source": [
    "lst = l1 + l2\n",
    "lst"
   ]
  },
  {
   "cell_type": "code",
   "execution_count": 50,
   "id": "a1ee6baf-5089-49de-8f5b-d27b2e528c73",
   "metadata": {},
   "outputs": [],
   "source": [
    "url = \"https://www.youtube.com/watch?v=mRMmlo_Uqcs\"\n",
    "l3 = []\n",
    "for k in get_keywords(url):\n",
    "    l3.append(k)"
   ]
  },
  {
   "cell_type": "code",
   "execution_count": 51,
   "id": "cc30822d-6337-4e19-9127-10691de54050",
   "metadata": {},
   "outputs": [
    {
     "data": {
      "text/plain": [
       "['Python',\n",
       " 'python for hackers',\n",
       " 'python for everyone',\n",
       " 'python for everybody',\n",
       " 'python right now',\n",
       " 'you need to learn python right now',\n",
       " 'learn python',\n",
       " 'python for beginners',\n",
       " 'python tutorial',\n",
       " 'python programming',\n",
       " 'how to learn python',\n",
       " 'python full course',\n",
       " 'python course',\n",
       " 'learn python programming',\n",
       " 'python tutorial for beginners',\n",
       " 'cyber security',\n",
       " 'ethical hacking',\n",
       " 'python 3',\n",
       " 'python language',\n",
       " 'python programming language',\n",
       " 'python crash course',\n",
       " 'python basics']"
      ]
     },
     "execution_count": 51,
     "metadata": {},
     "output_type": "execute_result"
    }
   ],
   "source": [
    "l3"
   ]
  },
  {
   "cell_type": "code",
   "execution_count": 52,
   "id": "ce261f61-b607-4ead-b4c8-a3e9167f2faf",
   "metadata": {},
   "outputs": [],
   "source": [
    "url =\"https://www.youtube.com/watch?v=kqtD5dpn9C8\"\n",
    "l4 = []\n",
    "for k in get_keywords(url):\n",
    "    l4.append(k)"
   ]
  },
  {
   "cell_type": "code",
   "execution_count": 53,
   "id": "99bd522d-ae51-4b97-a190-a167da939ac6",
   "metadata": {},
   "outputs": [
    {
     "data": {
      "text/plain": [
       "['code with mosh',\n",
       " 'introduction to python',\n",
       " 'learn python',\n",
       " 'learn python programming',\n",
       " 'mosh hamedani',\n",
       " 'programming',\n",
       " 'programming with mosh',\n",
       " 'python',\n",
       " 'python 2020',\n",
       " 'python 3',\n",
       " 'python basics',\n",
       " 'python course',\n",
       " 'python crash course',\n",
       " 'python for beginners',\n",
       " 'python from scratch',\n",
       " 'python programming',\n",
       " 'python tutorial',\n",
       " 'python tutorial for beginners',\n",
       " 'web development']"
      ]
     },
     "execution_count": 53,
     "metadata": {},
     "output_type": "execute_result"
    }
   ],
   "source": [
    "l4"
   ]
  },
  {
   "cell_type": "code",
   "execution_count": 54,
   "id": "471c4c3d-c9bb-4c9a-b519-60d87479559f",
   "metadata": {},
   "outputs": [],
   "source": [
    "l5 = []\n",
    "url = \"https://www.youtube.com/watch?v=rfscVS0vtbw\"\n",
    "for k in get_keywords(url):\n",
    "    l5.append(k)"
   ]
  },
  {
   "cell_type": "code",
   "execution_count": 55,
   "id": "a99201d6-ee57-49c3-a99e-159c5484bf88",
   "metadata": {},
   "outputs": [
    {
     "data": {
      "text/plain": [
       "['python',\n",
       " 'python tutorial',\n",
       " 'python language',\n",
       " 'python full course',\n",
       " 'python course',\n",
       " 'learn python',\n",
       " 'learn python programming',\n",
       " 'python tutorial for beginners',\n",
       " 'python tutorial 2018',\n",
       " 'python programming tutorial',\n",
       " 'python programming language',\n",
       " 'software development',\n",
       " 'programming tutorial',\n",
       " 'freecodecamp']"
      ]
     },
     "execution_count": 55,
     "metadata": {},
     "output_type": "execute_result"
    }
   ],
   "source": [
    "l5"
   ]
  },
  {
   "cell_type": "code",
   "execution_count": 56,
   "id": "fc12d82a-fa50-4e33-9432-c25ab06c558d",
   "metadata": {},
   "outputs": [],
   "source": [
    "l6 = []\n",
    "url = \"https://www.youtube.com/watch?v=Z1Yd7upQsXY\"\n",
    "for k in get_keywords(url):\n",
    "    l6.append(k)"
   ]
  },
  {
   "cell_type": "code",
   "execution_count": 57,
   "id": "97ec7f6d-2353-4216-913e-6686fc27c585",
   "metadata": {},
   "outputs": [
    {
     "data": {
      "text/plain": [
       "['python',\n",
       " 'python tutorial',\n",
       " 'programming',\n",
       " 'coding',\n",
       " 'coding tutorial for beginners',\n",
       " 'programming tutorial for beginners',\n",
       " 'javascript tutorial for beginners',\n",
       " 'java tutorial for beginners',\n",
       " 'C++ tutorial for beginners',\n",
       " 'python variables']"
      ]
     },
     "execution_count": 57,
     "metadata": {},
     "output_type": "execute_result"
    }
   ],
   "source": [
    "l6"
   ]
  },
  {
   "cell_type": "code",
   "execution_count": 58,
   "id": "745c69c6-225e-4c10-9398-6e5bf1ee9bee",
   "metadata": {},
   "outputs": [],
   "source": [
    "lst = l1+l2+l3+l4 + l5 + l6"
   ]
  },
  {
   "cell_type": "code",
   "execution_count": 59,
   "id": "ebe3c1df-6b10-46ac-a54b-67ceb286853c",
   "metadata": {},
   "outputs": [],
   "source": [
    "import pandas as pd\n",
    "df = pd.DataFrame(lst, columns=['tag'])\n",
    "df.drop_duplicates()\n",
    "df['tag'] = df.tag.apply(lambda x: x.strip())"
   ]
  },
  {
   "cell_type": "code",
   "execution_count": 61,
   "id": "496edb36-d081-48d6-8806-244b7b45e8df",
   "metadata": {},
   "outputs": [
    {
     "name": "stdout",
     "output_type": "stream",
     "text": [
      "linux ,\n",
      "kali linux ,\n",
      "ethical hacking ,\n",
      "hackers ,\n",
      "bash ,\n",
      "command line ,\n",
      "terminal ,\n",
      "linux tutorial ,\n",
      "linux course ,\n",
      "vmware ,\n",
      "python course ,\n",
      "python tutorial ,\n",
      "python ,\n",
      "intermediate python ,\n",
      "python nprogramming ,\n",
      "Python ,\n",
      "python for hackers ,\n",
      "python for everyone ,\n",
      "python for everybody ,\n",
      "python right now ,\n",
      "you need to learn python right now ,\n",
      "learn python ,\n",
      "python for beginners ,\n",
      "python programming ,\n",
      "how to learn python ,\n",
      "python full course ,\n",
      "learn python programming ,\n",
      "python tutorial for beginners ,\n",
      "cyber security ,\n",
      "python 3 ,\n",
      "python language ,\n",
      "python programming language ,\n",
      "python crash course ,\n",
      "python basics ,\n",
      "code with mosh ,\n",
      "introduction to python ,\n",
      "mosh hamedani ,\n",
      "programming ,\n",
      "programming with mosh ,\n",
      "python 2020 ,\n",
      "python from scratch ,\n",
      "web development ,\n",
      "python tutorial 2018 ,\n",
      "python programming tutorial ,\n",
      "software development ,\n",
      "programming tutorial ,\n",
      "freecodecamp ,\n",
      "coding ,\n",
      "coding tutorial for beginners ,\n",
      "programming tutorial for beginners ,\n",
      "javascript tutorial for beginners ,\n",
      "java tutorial for beginners ,\n",
      "C++ tutorial for beginners ,\n",
      "python variables ,\n"
     ]
    }
   ],
   "source": [
    "for l in list(df['tag'].drop_duplicates()):\n",
    "    print(l,\",\")"
   ]
  },
  {
   "cell_type": "code",
   "execution_count": null,
   "id": "3f598b32-d11a-43b1-916b-0fee5e2eb0b9",
   "metadata": {},
   "outputs": [],
   "source": []
  }
 ],
 "metadata": {
  "kernelspec": {
   "display_name": "Python 3",
   "language": "python",
   "name": "python3"
  },
  "language_info": {
   "codemirror_mode": {
    "name": "ipython",
    "version": 3
   },
   "file_extension": ".py",
   "mimetype": "text/x-python",
   "name": "python",
   "nbconvert_exporter": "python",
   "pygments_lexer": "ipython3",
   "version": "3.9.10"
  },
  "widgets": {
   "application/vnd.jupyter.widget-state+json": {
    "state": {},
    "version_major": 2,
    "version_minor": 0
   }
  }
 },
 "nbformat": 4,
 "nbformat_minor": 5
}
