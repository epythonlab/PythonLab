{
  "cells": [
    {
      "cell_type": "markdown",
      "metadata": {
        "id": "8wJVDYLMA8Ea"
      },
      "source": [
        "# Data Structure and Algorithm - Numpy Arrays in Python"
      ]
    },
    {
      "cell_type": "markdown",
      "source": [
        "## Introduction"
      ],
      "metadata": {
        "id": "ga4_D-nrqpUD"
      }
    },
    {
      "cell_type": "markdown",
      "source": [
        "An **array** is a collection of items stored at **contiguous memory **locations. It is a basic data structure in many programming languages, including Python. Arrays are used to store a collection of data items of the same data type. Each item in an array is accessed using an index."
      ],
      "metadata": {
        "id": "wSFMT984quTm"
      }
    },
    {
      "cell_type": "markdown",
      "source": [
        "## Creating an Array"
      ],
      "metadata": {
        "id": "b7Hp1pz8rECe"
      }
    },
    {
      "cell_type": "markdown",
      "source": [
        "In Python, there are two built-in data structures that can be used to store arrays: **lists** and **NumPy arrays**.\n",
        "-  **Lists** are more versatile and can store any type of data, while **NumPy** arrays are more efficient for storing numerical data."
      ],
      "metadata": {
        "id": "qYYHwHfTrGA_"
      }
    },
    {
      "cell_type": "markdown",
      "metadata": {
        "id": "YldgA7LEA8Ed"
      },
      "source": [
        "To create a list in Python, you use square brackets `[]`.\n",
        "\n",
        "For example:\n",
        "\n"
      ]
    },
    {
      "cell_type": "code",
      "source": [
        "my_list = [1, 2, 3, 4, 5]"
      ],
      "metadata": {
        "id": "Hr1XWc5nr6kb"
      },
      "execution_count": null,
      "outputs": []
    },
    {
      "cell_type": "markdown",
      "source": [
        "To create a NumPy array in Python, you use the `numpy` module and the `array()` function.\n",
        "\n",
        "For example:"
      ],
      "metadata": {
        "id": "f3Dmaa2TsAbF"
      }
    },
    {
      "cell_type": "code",
      "execution_count": 30,
      "metadata": {
        "tags": [],
        "id": "c6MOuCijA8Ef"
      },
      "outputs": [],
      "source": [
        "import numpy as np\n",
        "\n",
        "my_array = np.array([10, 20, 30, 40, 60])"
      ]
    },
    {
      "cell_type": "markdown",
      "source": [
        "## Accessing Elements of an Array\n",
        "\n",
        "Elements of an array are accessed using their index.\n",
        "- The index of an element is its position in the array.\n",
        "- The first element has an index of 0, the second element has an index of 1, and so on.\n",
        "\n",
        "To access an element of a NumPy array, you use square brackets `[]` and the element's index.\n",
        "\n",
        "For example:"
      ],
      "metadata": {
        "id": "SNvTqDSjsKyV"
      }
    },
    {
      "cell_type": "code",
      "execution_count": 8,
      "metadata": {
        "tags": [],
        "id": "t45o33-2A8Ek",
        "outputId": "f2766e36-1c9e-4409-cccf-d6e73242b837",
        "colab": {
          "base_uri": "https://localhost:8080/"
        }
      },
      "outputs": [
        {
          "output_type": "stream",
          "name": "stdout",
          "text": [
            "array index 0: 10\n",
            "array last element: 60\n"
          ]
        }
      ],
      "source": [
        "# example print array at index 0\n",
        "print(\"array index 0:\", my_array[0])\n",
        "print(\"array last element:\", my_array[-1])"
      ]
    },
    {
      "cell_type": "markdown",
      "metadata": {
        "id": "N6Ji1REyA8Ei"
      },
      "source": [
        "Print all array elements"
      ]
    },
    {
      "cell_type": "code",
      "execution_count": 15,
      "metadata": {
        "tags": [],
        "id": "zgoHLU08A8Ei",
        "outputId": "5e1f4923-21c0-44eb-d1d6-a6e27b2deeb7",
        "colab": {
          "base_uri": "https://localhost:8080/"
        }
      },
      "outputs": [
        {
          "output_type": "stream",
          "name": "stdout",
          "text": [
            "10\n",
            "20\n",
            "30\n",
            "40\n",
            "60\n"
          ]
        }
      ],
      "source": [
        "# print all array elements\n",
        "for i in my_array:\n",
        "    print(i)"
      ]
    },
    {
      "cell_type": "markdown",
      "metadata": {
        "id": "oMOEYrOLA8Ej"
      },
      "source": [
        "How many elements in the array?"
      ]
    },
    {
      "cell_type": "code",
      "execution_count": 16,
      "metadata": {
        "tags": [],
        "id": "w5pZlHYUA8Ej",
        "outputId": "1e7b0461-173b-4486-8290-cd4866acbef4",
        "colab": {
          "base_uri": "https://localhost:8080/"
        }
      },
      "outputs": [
        {
          "output_type": "stream",
          "name": "stdout",
          "text": [
            "5\n"
          ]
        }
      ],
      "source": [
        "# print the size of the array\n",
        "print(len(my_array))"
      ]
    },
    {
      "cell_type": "markdown",
      "source": [
        "## Modifying Elements of an Array\n",
        "\n",
        "Elements of an array can be modified using their index.\n",
        "- To modify an element of an array, you simply assign a new value to the element using its index.\n",
        "\n",
        "For example:"
      ],
      "metadata": {
        "id": "iwCmY079tLJk"
      }
    },
    {
      "cell_type": "code",
      "source": [
        "my_array[2] = 50"
      ],
      "metadata": {
        "id": "RNXOeyK2tV54"
      },
      "execution_count": 17,
      "outputs": []
    },
    {
      "cell_type": "markdown",
      "source": [
        "## Deleting Elements of an Array\n",
        "\n",
        "Elements of an array can be deleted using the del keyword.\n",
        "- To delete an element of a NumPy array, you use the `delete()` method.\n",
        "- The `delete()` method takes two arguments: the index of the element to delete and the axis along which to delete.\n",
        "- The axis argument defaults to 0, which means that the element will be deleted from the first axis.\n",
        "\n",
        "For example:"
      ],
      "metadata": {
        "id": "ib-9NXqPuF8N"
      }
    },
    {
      "cell_type": "code",
      "source": [
        "np.delete(my_array, 2)"
      ],
      "metadata": {
        "id": "Km6ThH5euo9L",
        "outputId": "a472b0e6-1f4c-4138-f11e-0a2795741eba",
        "colab": {
          "base_uri": "https://localhost:8080/"
        }
      },
      "execution_count": 18,
      "outputs": [
        {
          "output_type": "execute_result",
          "data": {
            "text/plain": [
              "array([10, 20, 40, 60])"
            ]
          },
          "metadata": {},
          "execution_count": 18
        }
      ]
    },
    {
      "cell_type": "markdown",
      "source": [
        "---"
      ],
      "metadata": {
        "id": "uneKbXLbo3ML"
      }
    }
  ],
  "metadata": {
    "kernelspec": {
      "display_name": "Python 3",
      "language": "python",
      "name": "python3"
    },
    "language_info": {
      "codemirror_mode": {
        "name": "ipython",
        "version": 3
      },
      "file_extension": ".py",
      "mimetype": "text/x-python",
      "name": "python",
      "nbconvert_exporter": "python",
      "pygments_lexer": "ipython3",
      "version": "3.9.10"
    },
    "colab": {
      "provenance": []
    }
  },
  "nbformat": 4,
  "nbformat_minor": 0
}