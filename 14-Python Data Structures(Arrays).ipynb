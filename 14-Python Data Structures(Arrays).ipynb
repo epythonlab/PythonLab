{
  "cells": [
    {
      "cell_type": "markdown",
      "metadata": {
        "id": "8wJVDYLMA8Ea"
      },
      "source": [
        "# Data Structure and Algorithm - Create Array without Numpy"
      ]
    },
    {
      "cell_type": "markdown",
      "metadata": {
        "id": "YldgA7LEA8Ed"
      },
      "source": [
        "Array is created by importing array module"
      ]
    },
    {
      "cell_type": "code",
      "execution_count": null,
      "metadata": {
        "tags": [],
        "id": "c6MOuCijA8Ef"
      },
      "outputs": [],
      "source": [
        "from array import *"
      ]
    },
    {
      "cell_type": "code",
      "execution_count": null,
      "metadata": {
        "tags": [],
        "id": "zW70i-b5A8Eg"
      },
      "outputs": [],
      "source": [
        "# create new array\n",
        "arr = array('i', [10, 20, 50, 30, 60])"
      ]
    },
    {
      "cell_type": "markdown",
      "metadata": {
        "id": "M9h8YJq8A8Eg"
      },
      "source": [
        "**Note:** `i` is a bytecode that represents unsighed integer of size 2 bytes"
      ]
    },
    {
      "cell_type": "code",
      "execution_count": null,
      "metadata": {
        "id": "r7g0nEgNA8Eh",
        "outputId": "ca5e84c9-fd64-4063-c7f7-c0a1b54b6626"
      },
      "outputs": [
        {
          "name": "stdout",
          "output_type": "stream",
          "text": [
            "['__add__', '__class__', '__contains__', '__copy__', '__deepcopy__', '__delattr__', '__delitem__', '__dir__', '__doc__', '__eq__', '__format__', '__ge__', '__getattribute__', '__getitem__', '__gt__', '__hash__', '__iadd__', '__imul__', '__init__', '__init_subclass__', '__iter__', '__le__', '__len__', '__lt__', '__mul__', '__ne__', '__new__', '__reduce__', '__reduce_ex__', '__repr__', '__rmul__', '__setattr__', '__setitem__', '__sizeof__', '__str__', '__subclasshook__', 'append', 'buffer_info', 'byteswap', 'count', 'extend', 'frombytes', 'fromfile', 'fromlist', 'fromunicode', 'index', 'insert', 'itemsize', 'pop', 'remove', 'reverse', 'tobytes', 'tofile', 'tolist', 'tounicode', 'typecode']\n"
          ]
        }
      ],
      "source": [
        "print(dir(arr))"
      ]
    },
    {
      "cell_type": "markdown",
      "metadata": {
        "id": "N6Ji1REyA8Ei"
      },
      "source": [
        "Print all array elements"
      ]
    },
    {
      "cell_type": "code",
      "execution_count": null,
      "metadata": {
        "tags": [],
        "id": "zgoHLU08A8Ei",
        "outputId": "5d186d2c-4fd9-438d-c148-17a5d4acc77f"
      },
      "outputs": [
        {
          "name": "stdout",
          "output_type": "stream",
          "text": [
            "10\n",
            "20\n",
            "50\n",
            "30\n",
            "60\n"
          ]
        }
      ],
      "source": [
        "# print all array elements\n",
        "for i in arr:\n",
        "    print(i)"
      ]
    },
    {
      "cell_type": "markdown",
      "metadata": {
        "id": "oMOEYrOLA8Ej"
      },
      "source": [
        "How many elements in the array?"
      ]
    },
    {
      "cell_type": "code",
      "execution_count": null,
      "metadata": {
        "tags": [],
        "id": "w5pZlHYUA8Ej",
        "outputId": "5c5e799f-130b-4cf1-ea58-80889ef6b323"
      },
      "outputs": [
        {
          "name": "stdout",
          "output_type": "stream",
          "text": [
            "5\n"
          ]
        }
      ],
      "source": [
        "# print the size of the array\n",
        "print(len(arr))"
      ]
    },
    {
      "cell_type": "markdown",
      "metadata": {
        "id": "fdQLg5O7A8Ej"
      },
      "source": [
        "## Accessing array element\n",
        "Accessing array elements by index of the array element"
      ]
    },
    {
      "cell_type": "code",
      "execution_count": null,
      "metadata": {
        "tags": [],
        "id": "t45o33-2A8Ek",
        "outputId": "ebf38e9f-0fff-4eea-bd29-279048d7d5de"
      },
      "outputs": [
        {
          "name": "stdout",
          "output_type": "stream",
          "text": [
            "array index 0: 10\n",
            "array last element: 30\n"
          ]
        }
      ],
      "source": [
        "# example print array at index 0\n",
        "print(\"array index 0:\", arr[0])\n",
        "print(\"array last element:\", arr[-2])"
      ]
    },
    {
      "cell_type": "markdown",
      "metadata": {
        "id": "6bbIjPi9A8Ek"
      },
      "source": [
        "## Insert new array element\n",
        "\n",
        "Inserting new array element using built-in `insert()` method"
      ]
    },
    {
      "cell_type": "code",
      "execution_count": null,
      "metadata": {
        "tags": [],
        "id": "Ho36q6iCA8Ek"
      },
      "outputs": [],
      "source": [
        "# adding 70 at index 2\n",
        "arr.insert(2, 70)"
      ]
    },
    {
      "cell_type": "code",
      "execution_count": null,
      "metadata": {
        "tags": [],
        "id": "qoHSA72lA8El",
        "outputId": "d54b7b02-3d2e-475a-f125-b19c2b426ba3"
      },
      "outputs": [
        {
          "name": "stdout",
          "output_type": "stream",
          "text": [
            "The new inserted array= 70\n"
          ]
        }
      ],
      "source": [
        "print(\"The new inserted array=\", arr[2])"
      ]
    },
    {
      "cell_type": "markdown",
      "metadata": {
        "id": "57X9HS_AA8El"
      },
      "source": [
        "Print all array elements after inserted new element"
      ]
    },
    {
      "cell_type": "code",
      "execution_count": null,
      "metadata": {
        "tags": [],
        "id": "JDH_nVZyA8El",
        "outputId": "8524d356-8f1b-4fd9-e0d0-a00e92dc42bf"
      },
      "outputs": [
        {
          "name": "stdout",
          "output_type": "stream",
          "text": [
            "All array elements after inserted new element:\n",
            "10\n",
            "20\n",
            "70\n",
            "50\n",
            "30\n",
            "60\n"
          ]
        }
      ],
      "source": [
        "print(\"All array elements after inserted new element:\")\n",
        "for i in arr:\n",
        "    print(i)"
      ]
    },
    {
      "cell_type": "markdown",
      "metadata": {
        "id": "693RZ5C9A8El"
      },
      "source": [
        "## Detele array element\n",
        "We can also delete array element using `remove()` method"
      ]
    },
    {
      "cell_type": "code",
      "execution_count": null,
      "metadata": {
        "tags": [],
        "id": "Yz30BC2eA8Em"
      },
      "outputs": [],
      "source": [
        "# remove element 70\n",
        "arr.remove(70)"
      ]
    },
    {
      "cell_type": "markdown",
      "metadata": {
        "id": "wbgFwYGbA8Em"
      },
      "source": [
        "Print all element after deleted an element"
      ]
    },
    {
      "cell_type": "code",
      "execution_count": null,
      "metadata": {
        "tags": [],
        "id": "hU9OeYmPA8Em",
        "outputId": "8b03b1a9-c87e-45cc-e2f9-c5bf4391f219"
      },
      "outputs": [
        {
          "name": "stdout",
          "output_type": "stream",
          "text": [
            "All array elements after deleted 70\n",
            "10\n",
            "20\n",
            "50\n",
            "30\n",
            "60\n"
          ]
        }
      ],
      "source": [
        "# print all array elements\n",
        "print(\"All array elements after deleted 70\")\n",
        "for i in arr:\n",
        "    print(i)"
      ]
    },
    {
      "cell_type": "markdown",
      "metadata": {
        "id": "F9xWJHInA8Em"
      },
      "source": [
        "## Array Searching Operation\n",
        "\n",
        "We can perform a array search by its value or index using `index()` method"
      ]
    },
    {
      "cell_type": "code",
      "execution_count": null,
      "metadata": {
        "tags": [],
        "id": "Gp-qY2YVA8En",
        "outputId": "c0dc2bbb-f2ff-4e3d-8585-504d59916df7"
      },
      "outputs": [
        {
          "name": "stdout",
          "output_type": "stream",
          "text": [
            "The index value of 30 is  3\n"
          ]
        }
      ],
      "source": [
        "print(\"The index value of 30 is \", arr.index(30))"
      ]
    },
    {
      "cell_type": "markdown",
      "metadata": {
        "id": "VhPaTWF7A8En"
      },
      "source": [
        "## Array update operation\n"
      ]
    },
    {
      "cell_type": "code",
      "execution_count": null,
      "metadata": {
        "tags": [],
        "id": "2bkzjz-dA8En"
      },
      "outputs": [],
      "source": [
        "# Update operation\n",
        "arr[2] = 80"
      ]
    },
    {
      "cell_type": "code",
      "execution_count": null,
      "metadata": {
        "id": "CYbUNt_NA8En",
        "outputId": "1f05b1b4-402b-450b-a41c-da1c7c7687d4"
      },
      "outputs": [
        {
          "name": "stdout",
          "output_type": "stream",
          "text": [
            "10\n",
            "20\n",
            "80\n",
            "30\n",
            "60\n"
          ]
        }
      ],
      "source": [
        "for i in arr:\n",
        "    print(i)"
      ]
    },
    {
      "cell_type": "code",
      "execution_count": null,
      "metadata": {
        "tags": [],
        "id": "Tn6Wauc9A8Eo",
        "outputId": "94a55e36-5a63-4704-f44b-fe14505f8c07"
      },
      "outputs": [
        {
          "name": "stdout",
          "output_type": "stream",
          "text": [
            "All array elements after updating\n",
            "Index\t Value\n",
            "\n",
            "0 \t 10\n",
            "1 \t 20\n",
            "2 \t 80\n",
            "3 \t 30\n",
            "4 \t 60\n"
          ]
        }
      ],
      "source": [
        "print(\"All array elements after updating\")\n",
        "print(\"Index\\t Value\\n\")\n",
        "for i in arr:\n",
        "    print(arr.index(i), \"\\t\", i)\n"
      ]
    },
    {
      "cell_type": "code",
      "execution_count": null,
      "metadata": {
        "id": "W8--GCcnA8Eo",
        "outputId": "3e5b7eed-c9bd-441e-9809-c249991610a2"
      },
      "outputs": [
        {
          "data": {
            "text/plain": [
              "60"
            ]
          },
          "execution_count": 19,
          "metadata": {},
          "output_type": "execute_result"
        }
      ],
      "source": [
        "arr.pop()"
      ]
    },
    {
      "cell_type": "code",
      "execution_count": null,
      "metadata": {
        "id": "_KwR853FA8Eo",
        "outputId": "dd60fb7f-feaf-4399-e990-6eb93ae5971d"
      },
      "outputs": [
        {
          "name": "stdout",
          "output_type": "stream",
          "text": [
            "10\n",
            "20\n",
            "80\n",
            "30\n"
          ]
        }
      ],
      "source": [
        "for i in arr:\n",
        "    print(i)"
      ]
    },
    {
      "cell_type": "code",
      "execution_count": null,
      "metadata": {
        "id": "c4RcB1WuA8Eo"
      },
      "outputs": [],
      "source": [
        "arr.reverse()"
      ]
    },
    {
      "cell_type": "code",
      "execution_count": null,
      "metadata": {
        "id": "GsmyIxoNA8Ep",
        "outputId": "3808fbec-8341-44dd-c800-1c801ec0b749"
      },
      "outputs": [
        {
          "data": {
            "text/plain": [
              "array('i', [30, 80, 20, 10])"
            ]
          },
          "execution_count": 23,
          "metadata": {},
          "output_type": "execute_result"
        }
      ],
      "source": [
        "arr"
      ]
    },
    {
      "cell_type": "markdown",
      "source": [
        "---"
      ],
      "metadata": {
        "id": "uneKbXLbo3ML"
      }
    }
  ],
  "metadata": {
    "kernelspec": {
      "display_name": "Python 3",
      "language": "python",
      "name": "python3"
    },
    "language_info": {
      "codemirror_mode": {
        "name": "ipython",
        "version": 3
      },
      "file_extension": ".py",
      "mimetype": "text/x-python",
      "name": "python",
      "nbconvert_exporter": "python",
      "pygments_lexer": "ipython3",
      "version": "3.9.10"
    },
    "colab": {
      "provenance": []
    }
  },
  "nbformat": 4,
  "nbformat_minor": 0
}