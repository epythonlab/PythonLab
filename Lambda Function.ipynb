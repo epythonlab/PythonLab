{
  "cells": [
    {
      "cell_type": "markdown",
      "metadata": {
        "init_cell": true,
        "id": "xeYVfBnIB6dV"
      },
      "source": [
        "<center>\n",
        "    <img src=\"https://github.com/epythonlab/PythonLab/blob/master/images/logo.jpg?raw=1\" width=\"150\" alt=\"EPYTHON LAB logo\"  />\n",
        "</center>\n",
        "<hr>\n",
        "\n",
        "<h2 id='string' align='center'>Lambda Function(Expresion) </h2>"
      ]
    },
    {
      "cell_type": "markdown",
      "metadata": {
        "id": "t1xf2z2CB6dc"
      },
      "source": [
        "<br>\n",
        "\n"
      ]
    },
    {
      "cell_type": "markdown",
      "metadata": {
        "id": "yOiJwE-QB6dc"
      },
      "source": [
        "You can write your very own Python functions using the `def` keyword, **function headers, docstrings, and function bodies**. However, there's a quicker way to write functions on the fly, and these are called lambda functions because you use the keyword **lambda**."
      ]
    },
    {
      "cell_type": "markdown",
      "source": [
        "You can use lambda expressions to create anonymous functions. That is, functions that don’t have a name. They are helpful for creating quick functions that aren’t needed later in your code. This can be especially useful for higher order functions, or functions that take in other functions as arguments."
      ],
      "metadata": {
        "id": "yU-0pe0tt_77"
      }
    },
    {
      "cell_type": "markdown",
      "metadata": {
        "id": "-ZJ5mDNVB6dd"
      },
      "source": [
        "#### Example"
      ]
    },
    {
      "cell_type": "markdown",
      "metadata": {
        "id": "7wqL_3HJB6dd"
      },
      "source": [
        "Let's define a function `raise_to_power` that can be able to calculate the power the number. The function takes two arguments `(x and y)` and return the result of `x ** y`."
      ]
    },
    {
      "cell_type": "code",
      "execution_count": null,
      "metadata": {
        "id": "mYHhwQs_B6de"
      },
      "outputs": [],
      "source": [
        "# define your function here\n",
        "def raise_to_power(x, y):\n",
        "    return x**y\n"
      ]
    },
    {
      "cell_type": "code",
      "execution_count": null,
      "metadata": {
        "id": "9ZP0DNYSB6dg",
        "outputId": "f13327bd-aaf9-4553-83d8-efc3ec1fe421"
      },
      "outputs": [
        {
          "data": {
            "text/plain": [
              "8"
            ]
          },
          "execution_count": 16,
          "metadata": {},
          "output_type": "execute_result"
        }
      ],
      "source": [
        "# call the function here\n",
        "raise_to_power(2, 3)"
      ]
    },
    {
      "cell_type": "markdown",
      "metadata": {
        "id": "OvneGtn7B6dj"
      },
      "source": [
        "<hr>\n",
        "<div class=\"alert alert-success alertsuccess\" style=\"margin-top: 30px\">\n",
        "    [TIP]: <strong>A lambda function</strong> is a small anonymous function, which means that it is a function without a name. A lambda function can take any number of arguments, but can only have one expression.  It must have a return value.\n",
        "</div>\n",
        "<hr>"
      ]
    },
    {
      "cell_type": "markdown",
      "metadata": {
        "id": "0SMbk8kKB6dk"
      },
      "source": [
        "Let's create a lambda function"
      ]
    },
    {
      "cell_type": "code",
      "execution_count": null,
      "metadata": {
        "id": "LizIP6dOB6dl"
      },
      "outputs": [],
      "source": [
        "# general syntax\n",
        "function_name = lambda arguments: expression"
      ]
    },
    {
      "cell_type": "markdown",
      "metadata": {
        "id": "ccSfMHn3B6dm"
      },
      "source": [
        "Some function definitions are simple enough that they can be converted to a lambda function. By doing this, you write fewer lines of code, which is pretty awesome and will come in handy, especially when you're writing and maintaining big programs."
      ]
    },
    {
      "cell_type": "markdown",
      "metadata": {
        "id": "VIOgJrzUB6dm"
      },
      "source": [
        "Let's convert the `raise_to_power` function to `lambda`"
      ]
    },
    {
      "cell_type": "code",
      "execution_count": null,
      "metadata": {
        "id": "N_zgo6xgB6dm"
      },
      "outputs": [],
      "source": [
        "# write your code here\n",
        "raise_to_power = lambda x, y: x**y\n"
      ]
    },
    {
      "cell_type": "code",
      "execution_count": null,
      "metadata": {
        "id": "xme1O-jXB6dn",
        "outputId": "aa26c735-92fc-477c-b948-2bb8d0cbd93f"
      },
      "outputs": [
        {
          "data": {
            "text/plain": [
              "8"
            ]
          },
          "execution_count": 18,
          "metadata": {},
          "output_type": "execute_result"
        }
      ],
      "source": [
        "raise_to_power(2, 3)"
      ]
    },
    {
      "cell_type": "markdown",
      "source": [
        "### Components of a Lambda Function\n"
      ],
      "metadata": {
        "id": "5t0SwcwIuyX6"
      }
    },
    {
      "cell_type": "markdown",
      "source": [
        "- The `lambda` keyword is used to indicate that this is a lambda expression.\n",
        "\n",
        "- Following `lambda` are one or more arguments for the anonymous function separated by commas, followed by a colon `:`. Similar to functions, the way the arguments are named in a lambda expression is arbitrary.\n",
        "- Last is an `expression` that is evaluated and returned in this function. This is a lot like an expression you might see as a return statement in a function.\n",
        "With this structure, lambda expressions aren’t ideal for complex functions, but can be very useful for short, simple functions."
      ],
      "metadata": {
        "id": "aP3eUn_Eu3z0"
      }
    },
    {
      "cell_type": "markdown",
      "metadata": {
        "id": "nnRqmZIIB6dn"
      },
      "source": [
        "As I mentioned above, the `lambda` functions allow you to write functions in a quick and dirty way, so I wouldn't advise you to use them all the time, but there are situations when they come in handy, like the example below."
      ]
    },
    {
      "cell_type": "markdown",
      "metadata": {
        "id": "192VEnQxB6do"
      },
      "source": [
        "## map() and lambda Function"
      ]
    },
    {
      "cell_type": "markdown",
      "metadata": {
        "id": "BUQMBipVB6do"
      },
      "source": [
        ">map() is a higher-order built-in function that takes a function and iterable as inputs(list, tuple,etc), and returns an iterator(map object) that applies the function to each element of the iterable.\n",
        "\n",
        "\n",
        " > The `map()` function takes two arguments, a function and a sequence such as a list and applies the function over all the elements of the sequence."
      ]
    },
    {
      "cell_type": "markdown",
      "metadata": {
        "id": "2yWBxWFrB6dp"
      },
      "source": [
        "### Syntax :\n",
        "`map(function, iter)`"
      ]
    },
    {
      "cell_type": "markdown",
      "metadata": {
        "id": "v9WcoWaYB6dp"
      },
      "source": [
        "**Example:**\n"
      ]
    },
    {
      "cell_type": "markdown",
      "source": [
        "The code below uses `map()` to find the `mean` of each list in numbers to create the list averages\n"
      ],
      "metadata": {
        "id": "C9ZT1gL1w3Sd"
      }
    },
    {
      "cell_type": "code",
      "execution_count": 4,
      "metadata": {
        "colab": {
          "base_uri": "https://localhost:8080/"
        },
        "id": "8GVcC7cpB6dq",
        "outputId": "079dabcd-cdb6-402c-9256-2631b7018eed"
      },
      "outputs": [
        {
          "output_type": "execute_result",
          "data": {
            "text/plain": [
              "[57.0, 58.2, 50.6, 27.2]"
            ]
          },
          "metadata": {},
          "execution_count": 4
        }
      ],
      "source": [
        "# write your code here\n",
        "\n",
        "numbers = [\n",
        "            [34, 63, 88, 71, 29],\n",
        "            [90, 78, 51, 27, 45],\n",
        "            [63, 37, 85, 46, 22],\n",
        "            [51, 22, 34, 11, 18]\n",
        "           ]\n",
        "# def mean(num_list):\n",
        "#     return sum(num_list) / len(num_list)\n",
        "\n",
        "# averages = list(map(mean, numbers))\n",
        "\n",
        "averages = map(lambda x: sum(x)/len(x), numbers)\n",
        "list(averages)"
      ]
    },
    {
      "cell_type": "markdown",
      "metadata": {
        "id": "cx5j19AQB6dq"
      },
      "source": [
        "Note that printing `averages` reveals that its a map object, so to see what it returns, we use `list` to turn it into a `list` and print the result."
      ]
    },
    {
      "cell_type": "markdown",
      "source": [
        "Here is another example that finds the square of list of numbers"
      ],
      "metadata": {
        "id": "sJuGw9cR4aHs"
      }
    },
    {
      "cell_type": "code",
      "execution_count": 5,
      "metadata": {
        "colab": {
          "base_uri": "https://localhost:8080/"
        },
        "id": "P4ZlEBqJB6dr",
        "outputId": "48a6559d-f7f6-4c44-d62b-f7d48b8cff8d"
      },
      "outputs": [
        {
          "output_type": "execute_result",
          "data": {
            "text/plain": [
              "[4, 9, 16, 25]"
            ]
          },
          "metadata": {},
          "execution_count": 5
        }
      ],
      "source": [
        "# Your code here\n",
        "nums = [2, 3, 4, 5]\n",
        "square_all = list(map(lambda x: x**2, nums))\n",
        "square_all"
      ]
    },
    {
      "cell_type": "markdown",
      "metadata": {
        "id": "gTLnCDdeB6ds"
      },
      "source": [
        "### if-else statement and lambda function"
      ]
    },
    {
      "cell_type": "markdown",
      "metadata": {
        "id": "uePo6AzxB6dt"
      },
      "source": [
        "Since a lambda function must have a return value for every valid input, we cannot define it with `if` but without `else` as we are not specifying what will we return if the `if-condition` will be `false` i.e. its else part.\n",
        "\n",
        "Let’s understand this with the following lambda function to `square a number only` if it is greater than `0` using `if` but without `else`."
      ]
    },
    {
      "cell_type": "code",
      "execution_count": null,
      "metadata": {
        "id": "t0pnbEoNB6dt",
        "outputId": "534d5d25-5bb9-40be-9cee-4cc26edc8811"
      },
      "outputs": [
        {
          "ename": "SyntaxError",
          "evalue": "invalid syntax (<ipython-input-22-8426b8212f9b>, line 2)",
          "output_type": "error",
          "traceback": [
            "\u001b[0;36m  File \u001b[0;32m\"<ipython-input-22-8426b8212f9b>\"\u001b[0;36m, line \u001b[0;32m2\u001b[0m\n\u001b[0;31m    square = lambda x: x**x if x>0\u001b[0m\n\u001b[0m                                  ^\u001b[0m\n\u001b[0;31mSyntaxError\u001b[0m\u001b[0;31m:\u001b[0m invalid syntax\n"
          ]
        }
      ],
      "source": [
        "# Lambda function with if but without else\n",
        "square = lambda x: x**x if x>0\n",
        "print(square(-2))"
      ]
    },
    {
      "cell_type": "markdown",
      "metadata": {
        "id": "UWC4VWGzB6du"
      },
      "source": [
        "Let's rewrite the above code with `if-else` statement."
      ]
    },
    {
      "cell_type": "code",
      "execution_count": null,
      "metadata": {
        "id": "Mf_UZa_zB6dv",
        "outputId": "1c98eaee-7ee7-4c1d-c4c7-3ee052d0bdbf"
      },
      "outputs": [
        {
          "name": "stdout",
          "output_type": "stream",
          "text": [
            "0\n"
          ]
        }
      ],
      "source": [
        "# lambda function with if-else statement\n",
        "square = lambda x: 0 if x ==0 else x**x\n",
        "\n",
        "print(square(0))"
      ]
    },
    {
      "cell_type": "markdown",
      "metadata": {
        "id": "wijdsRwjB6dv"
      },
      "source": [
        "Let's find the maximum number from the given two numbers. The lambda function takes two arguments `a and b` and then the expression evaluates and return the max number."
      ]
    },
    {
      "cell_type": "code",
      "execution_count": null,
      "metadata": {
        "id": "_fJ3_XRCB6dw",
        "outputId": "73f07070-bbc1-4955-bfd1-6d7e3d79cab8"
      },
      "outputs": [
        {
          "name": "stdout",
          "output_type": "stream",
          "text": [
            "6\n"
          ]
        }
      ],
      "source": [
        "# lambda function to find max number with if-else\n",
        "max_num = lambda a, b: a if(a>b) else b\n",
        "\n",
        "print(max_num(6, 5))"
      ]
    },
    {
      "cell_type": "markdown",
      "source": [
        "## Lambda with Filter"
      ],
      "metadata": {
        "id": "sCwfrTNT0Pb6"
      }
    },
    {
      "cell_type": "markdown",
      "source": [
        "\n",
        "`filter()` is a higher-order built-in function that takes a function and iterable as inputs(list, tuple, etc) and returns an iterator with the elements from the iterable for which the function returns `True`.\n"
      ],
      "metadata": {
        "id": "D_Zd1SqU0Ng8"
      }
    },
    {
      "cell_type": "markdown",
      "source": [
        "The code below uses `filter()` to get the `names` in `cities` that are fewer than `10` characters long to create the list `short_cities`.\n"
      ],
      "metadata": {
        "id": "SjUB6ATY0eT6"
      }
    },
    {
      "cell_type": "code",
      "source": [
        "cities = [\"New York City\", \"Los Angeles\", \"Chicago\", \"Mountain View\", \"Denver\", \"Boston\"]\n",
        "\n",
        "# def is_short(name):\n",
        "#     return len(name) < 10\n",
        "\n",
        "# short_cities = list(filter(is_short, cities))\n",
        "\n",
        "short_cities = filter(lambda name: len(name)>10, cities)\n",
        "list(short_cities)"
      ],
      "metadata": {
        "colab": {
          "base_uri": "https://localhost:8080/"
        },
        "id": "7ctyJ6dU0knE",
        "outputId": "00df9e5e-5f8e-42a8-f62b-e8a2d7222b5c"
      },
      "execution_count": 6,
      "outputs": [
        {
          "output_type": "execute_result",
          "data": {
            "text/plain": [
              "['New York City', 'Los Angeles', 'Mountain View']"
            ]
          },
          "metadata": {},
          "execution_count": 6
        }
      ]
    },
    {
      "cell_type": "markdown",
      "metadata": {
        "id": "LyuwxFtTB6dw"
      },
      "source": [
        "<hr>\n",
        "\n",
        "*Copyright &copy; 2021 <a href=\"https://yooutube.com/c/epythonlab\">EPYTHON LAB</a>.  All rights reserved.*"
      ]
    }
  ],
  "metadata": {
    "kernelspec": {
      "display_name": "Python 3",
      "language": "python",
      "name": "python3"
    },
    "language_info": {
      "codemirror_mode": {
        "name": "ipython",
        "version": 3
      },
      "file_extension": ".py",
      "mimetype": "text/x-python",
      "name": "python",
      "nbconvert_exporter": "python",
      "pygments_lexer": "ipython3",
      "version": "3.9.10"
    },
    "colab": {
      "provenance": []
    }
  },
  "nbformat": 4,
  "nbformat_minor": 0
}