{
  "cells": [
    {
      "cell_type": "markdown",
      "metadata": {
        "id": "lkTM_ub2b5GS"
      },
      "source": [
        "<center>\n",
        "    <img src=\"https://github.com/epythonlab/PythonLab/blob/master/images/logo.jpg?raw=1\" width=\"110\" alt=\"EPYTHON LAB logo\"  />\n",
        "</center>"
      ]
    },
    {
      "cell_type": "markdown",
      "metadata": {
        "id": "oZ8W2vrkb5GW"
      },
      "source": [
        "<h2 id=\"types_objects\" align=\"center\">Errors in Python</h2>"
      ]
    },
    {
      "cell_type": "markdown",
      "metadata": {
        "id": "FJKcDUsVb5GW"
      },
      "source": [
        "<p>Everyone prone to making mistakes. Everyone also typically in charge of creating computer programs. To compensate, programming languages attempt to understand and explain mistakes made in their programs.</p>"
      ]
    },
    {
      "cell_type": "markdown",
      "metadata": {
        "id": "br8aaGo5b5GX"
      },
      "source": [
        "<p>For many types of mistakes, Python will tell you that you have made a mistake by giving you an error message. It is important to read error messages carefully to really understand where you made a mistake and how you may go about correcting it.</p>\n",
        "<p>For example, if you spell <code>print</code> as <code>frint</code>, Python will display an error message. Give it a try:</p>\n"
      ]
    },
    {
      "cell_type": "code",
      "execution_count": null,
      "metadata": {
        "id": "il5lHSXYb5GY",
        "outputId": "ea5a9b4b-7296-4ce4-964b-67e9033ce54d"
      },
      "outputs": [
        {
          "name": "stdout",
          "output_type": "stream",
          "text": [
            "Hello, Python!\n"
          ]
        }
      ],
      "source": [
        "# Print string as error message\n",
        "print(\"Hello, Python!\")"
      ]
    },
    {
      "cell_type": "code",
      "execution_count": null,
      "metadata": {
        "id": "t9HALZ4Fb5Ga",
        "outputId": "d9f5b2b8-a53e-4cd4-d839-d99ba25f47b8"
      },
      "outputs": [
        {
          "name": "stdout",
          "output_type": "stream",
          "text": [
            "Hello\n"
          ]
        }
      ],
      "source": [
        "print(\"Hello\")"
      ]
    },
    {
      "cell_type": "markdown",
      "metadata": {
        "id": "FpUthx-8b5Gb"
      },
      "source": [
        "<p>Python refers to these mistakes as <i>errors</i> and will point to the location where an error occurred. When programs throw errors that we didn’t expect to encounter we call those errors <i>bugs</i>. Programmers call the process of updating the program so that it no longer produces unexpected errors <i>debugging</i>.</p>"
      ]
    },
    {
      "cell_type": "markdown",
      "metadata": {
        "id": "3sN9YQg8b5Gc"
      },
      "source": [
        "<p>The error message tells you:\n",
        "<ol>\n",
        "    <li>where the error occurred (more useful in large notebook cells or scripts), and</li>\n",
        "    <li>what kind of error it was (NameError)</li>\n",
        "</ol>\n",
        "<p>Here, Python attempted to run the function <code>frint</code>, but could not determine what <code>frint</code> is since it's not a built-in function and it has not been previously defined by us either.</p>\n"
      ]
    },
    {
      "cell_type": "markdown",
      "metadata": {
        "id": "F7uG8VADb5Gd"
      },
      "source": [
        "<p>Two common errors that we encounter while writing Python are <code>SyntaxError and NameError</code>.\n",
        "    <ol>\n",
        "        <li><code>SyntaxError</code> means there is something wrong with the way your program is written — punctuation that does not belong, a command where it is not expected, or a missing parenthesis can all trigger a <code>SyntaxError</code>.</li>\n",
        "        <li><code>A NameError</code> occurs when the Python interpreter sees a word it does not recognize. Code that contains something that looks like a variable but was never defined will throw a <code>NameError</code>.</li>\n",
        " </ol>\n",
        "</p>"
      ]
    },
    {
      "cell_type": "code",
      "execution_count": null,
      "metadata": {
        "id": "p-fbBPMAb5Gd",
        "outputId": "06c23e68-164c-4f96-d74f-abacd2bf54a4"
      },
      "outputs": [
        {
          "name": "stdout",
          "output_type": "stream",
          "text": [
            "8\n"
          ]
        }
      ],
      "source": [
        "x = 8\n",
        "print(x)"
      ]
    },
    {
      "cell_type": "markdown",
      "metadata": {
        "id": "gRPsVV7db5Ge"
      },
      "source": [
        "<p>\n",
        "    You'll notice that if we make a different type of mistake, by forgetting to close the string, we'll obtain a different error (i.e., a <code>SyntaxError</code>). Try it below:\n",
        "</p>\n"
      ]
    },
    {
      "cell_type": "code",
      "execution_count": null,
      "metadata": {
        "id": "7jfU4ym_b5Gf",
        "outputId": "65caef0c-5e6d-4df6-a76b-279d2d9bd42b"
      },
      "outputs": [
        {
          "name": "stdout",
          "output_type": "stream",
          "text": [
            "Hello, Python!\n"
          ]
        }
      ],
      "source": [
        "# Try to see build in error message\n",
        "\n",
        "print(\"Hello, Python!\")"
      ]
    },
    {
      "cell_type": "markdown",
      "metadata": {
        "id": "rtLnIrvKb5Gf"
      },
      "source": [
        "<h3 id=\"python_error\">Does Python know about your error before it runs your code?</h3>"
      ]
    },
    {
      "cell_type": "markdown",
      "metadata": {
        "id": "Y6M13Tidb5Gf"
      },
      "source": [
        "Python is what is called an <em>interpreted language</em>. Compiled languages examine your entire program at compile time, and are able to warn you about a whole class of errors prior to execution. In contrast, Python interprets your script line by line as it executes it. Python will stop executing the entire program when it encounters an error (unless the error is expected and handled by the programmer, a more advanced subject that we'll cover later on in this course).\n"
      ]
    },
    {
      "cell_type": "markdown",
      "metadata": {
        "id": "7B4foj-1b5Gg"
      },
      "source": [
        "Try to run the code in the cell below and see what happens:"
      ]
    },
    {
      "cell_type": "code",
      "execution_count": null,
      "metadata": {
        "id": "JYQUoTNGb5Gg",
        "outputId": "f32735ca-2173-43af-9cc4-21b84e0f2f86"
      },
      "outputs": [
        {
          "name": "stdout",
          "output_type": "stream",
          "text": [
            "This will be printed\n",
            "This will cause an error\n",
            "This will NOT be printed\n"
          ]
        }
      ],
      "source": [
        "# Print string and error to see the running order\n",
        "print(\"This will be printed\")\n",
        "print(\"This will cause an error\")\n",
        "print(\"This will NOT be printed\")"
      ]
    },
    {
      "cell_type": "markdown",
      "metadata": {
        "id": "AacJB4cMb5Gg"
      },
      "source": [
        "<h2 class='review'>Review</h2>\n",
        "\n",
        "We learned about errors and other valuable skills that will continue to serve us as we develop our programming skills.\n",
        "\n",
        "You can now:\n",
        "- Figure out the errors you encounter.\n",
        "- Understand and explain the types of errors in Python"
      ]
    },
    {
      "cell_type": "markdown",
      "source": [
        "---"
      ],
      "metadata": {
        "id": "1NxfnZ5CcI1w"
      }
    },
    {
      "cell_type": "markdown",
      "source": [
        "# Exception Handling in Python"
      ],
      "metadata": {
        "id": "MGTO2sTBcKwC"
      }
    },
    {
      "cell_type": "markdown",
      "source": [
        "## Exception Handling"
      ],
      "metadata": {
        "id": "LE5lBvv1cw3o"
      }
    },
    {
      "cell_type": "markdown",
      "source": [
        "Exception handling is a mechanism that allows programmers to handle errors and other exceptional events that occur during the execution of a program.\n",
        "\n",
        "By using exception handling, programmers can prevent errors from crashing their programs and can provide users with more informative feedback about what went wrong.\n",
        "\n",
        "The concept is present in many programming languages, including Python, Java, C++, and many others"
      ],
      "metadata": {
        "id": "P9OdIDx5cS4N"
      }
    },
    {
      "cell_type": "markdown",
      "metadata": {
        "id": "ngQUqmiab5Gg"
      },
      "source": [
        "<hr>\n",
        "\n",
        "*Copyright &copy; 2021 EPYTHON LAB.  All rights reserved.*"
      ]
    },
    {
      "cell_type": "markdown",
      "source": [
        "## There are three basic concepts in exception handling:"
      ],
      "metadata": {
        "id": "11yyuldmc0Po"
      }
    },
    {
      "cell_type": "markdown",
      "source": [
        "- **Exceptions:** An exception is an object that represents an error or other exceptional event. Exceptions are thrown by the program when an error occurs.\n",
        "- **Try blocks:** A try block is a block of code that is monitored for exceptions. If an exception is thrown while the code in a try block is being executed, the exception is handled by the appropriate catch block.\n",
        "- **Catch blocks:** A catch block is a block of code that is used to handle a specific type of exception. Catch blocks are associated with try blocks.\n"
      ],
      "metadata": {
        "id": "5xch_RFCdIKa"
      }
    },
    {
      "cell_type": "markdown",
      "source": [
        "In Python, exceptions are errors that occur during the execution of a program. They disrupt the normal flow of the program and can be handled using"
      ],
      "metadata": {
        "id": "5QoJ65blc2MU"
      }
    },
    {
      "cell_type": "markdown",
      "source": [
        "Syntax:\n",
        "\n",
        "\n",
        "```\n",
        "try:\n",
        "  // try block\n",
        "except:\n",
        "  // except block\n",
        "else:\n",
        "  // else block\n",
        "\n",
        "```\n",
        "\n"
      ],
      "metadata": {
        "id": "mSMgBArmdOY7"
      }
    },
    {
      "cell_type": "markdown",
      "source": [
        "## Example"
      ],
      "metadata": {
        "id": "QZxhnmi3fTRB"
      }
    },
    {
      "cell_type": "markdown",
      "source": [
        "### 1. Basic Exception Handling with `try` and `except`:"
      ],
      "metadata": {
        "id": "MDhr266OfVQF"
      }
    },
    {
      "cell_type": "code",
      "source": [
        "# The following example shows how exception handling\n",
        "# can be used to handle a division by zero error:\n",
        "try:\n",
        "  number = int(input(\"Enter a number: \"))\n",
        "  # code that might raise an exception\n",
        "  result = 10 / number\n",
        "  print(\"The result is\", result)\n",
        "except ZeroDivisionError:\n",
        "  # handle the specific exception\n",
        "  print(\"Error: Division by zero\")\n"
      ],
      "metadata": {
        "id": "Erf5Lgahd3iq",
        "outputId": "68dde750-8fea-4194-decb-f56a329a5eda",
        "colab": {
          "base_uri": "https://localhost:8080/"
        }
      },
      "execution_count": 4,
      "outputs": [
        {
          "output_type": "stream",
          "name": "stdout",
          "text": [
            "Enter a number: 4\n",
            "The result is 2.5\n"
          ]
        }
      ]
    },
    {
      "cell_type": "markdown",
      "source": [
        "#### Explanation:"
      ],
      "metadata": {
        "id": "otKjbsSMf1TK"
      }
    },
    {
      "cell_type": "markdown",
      "source": [
        "In this example, the try block contains the code that could potentially throw an exception. The `input()` function is used to get a number from the user. The `int()` function is then used to convert the user's input into an integer. If the user enters the number 0, the `int()` function will throw a ZeroDivisionError exception.\n",
        "\n",
        "The catch block is used to handle the ZeroDivisionError exception. If a ZeroDivisionError exception is thrown, the `print()` statement in the catch block will be executed. The `print()` statement will display the message **\"Division by zero is not allowed.\"**"
      ],
      "metadata": {
        "id": "N_mQXQUsf3iK"
      }
    },
    {
      "cell_type": "markdown",
      "source": [
        "### 2. Using else in Exception Handling::"
      ],
      "metadata": {
        "id": "isbtHSUGgDS6"
      }
    },
    {
      "cell_type": "code",
      "source": [
        "try:\n",
        "  number = int(input(\"Enter a number: \"))\n",
        "  result = 10 / number\n",
        "except ZeroDivisionError:\n",
        "  print(\"Division by zero is not allowed.\")\n",
        "else:\n",
        "  print(\"The result is\", result)\n"
      ],
      "metadata": {
        "id": "LWN_Nn7hg9tv",
        "outputId": "d68bea2f-d7f2-4679-8ddd-81289aba28d9",
        "colab": {
          "base_uri": "https://localhost:8080/"
        }
      },
      "execution_count": 8,
      "outputs": [
        {
          "output_type": "stream",
          "name": "stdout",
          "text": [
            "Enter a number: 0\n",
            "Division by zero is not allowed.\n"
          ]
        }
      ]
    },
    {
      "cell_type": "markdown",
      "source": [
        "#### Explanation"
      ],
      "metadata": {
        "id": "14boM2FGgnXh"
      }
    },
    {
      "cell_type": "markdown",
      "source": [
        "The `else` block is used to handle the case where no exception is thrown. If no exception is thrown, the `print()` statement in the else block will be executed. The `print()` statement will display the message \"The result is\" followed by the value of the result variable."
      ],
      "metadata": {
        "id": "GusZWd-4iJOT"
      }
    },
    {
      "cell_type": "markdown",
      "source": [
        "# Benefits of Exception Handling"
      ],
      "metadata": {
        "id": "oNBXAvDyicNF"
      }
    },
    {
      "cell_type": "markdown",
      "source": [
        "There are several benefits to using exception handling:\n",
        "\n",
        "- **Improved program reliability:** Exception handling can help to prevent errors from crashing programs. By handling errors gracefully, programs can continue to run even when errors occur.\n",
        "- **More informative error messages:** Exception handling can provide users with more informative error messages. By providing specific information about the error that occurred, users can better understand what went wrong and how to fix the problem.\n",
        "- **Improved code readability:** Exception handling can make code more readable by separating error-handling code from the normal flow of the program. This can make it easier for programmers to understand and maintain code."
      ],
      "metadata": {
        "id": "_eu93SMXijR7"
      }
    },
    {
      "cell_type": "markdown",
      "source": [
        "## Conclusion\n",
        "\n"
      ],
      "metadata": {
        "id": "bzNlHvrFitYV"
      }
    },
    {
      "cell_type": "markdown",
      "source": [
        "Exception handling is a powerful tool that can be used to improve the reliability, informativeness, and readability of programs. By utilizing these techniques, you can ensure that your programs handle errors gracefully and continue to run smoothly even when unexpected issues arise."
      ],
      "metadata": {
        "id": "p3wiVmOsiv8c"
      }
    }
  ],
  "metadata": {
    "kernelspec": {
      "display_name": "Python 3",
      "language": "python",
      "name": "python3"
    },
    "language_info": {
      "codemirror_mode": {
        "name": "ipython",
        "version": 3
      },
      "file_extension": ".py",
      "mimetype": "text/x-python",
      "name": "python",
      "nbconvert_exporter": "python",
      "pygments_lexer": "ipython3",
      "version": "3.9.10"
    },
    "colab": {
      "provenance": []
    }
  },
  "nbformat": 4,
  "nbformat_minor": 0
}