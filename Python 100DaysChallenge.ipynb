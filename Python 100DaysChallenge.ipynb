{
 "cells": [
  {
   "cell_type": "markdown",
   "id": "1d9f33c6-89cc-4058-b239-4e3fcae84687",
   "metadata": {},
   "source": [
    "# #100DaysOfCode\n",
    "## Day 1\n",
    "\n",
    "Given an array of strings, return another array containing all of its longest strings.\n",
    "\n",
    "For inputString = `[\"aba\", \"aa\", \"ad\", \"vcd\", \"aba\"]`, the output should be `[\"aba\", \"vcd\", \"aba\"]`."
   ]
  },
  {
   "cell_type": "code",
   "execution_count": 5,
   "id": "bc22f494-54be-4b4b-a024-4eed458e2d30",
   "metadata": {},
   "outputs": [
    {
     "data": {
      "text/plain": [
       "['abd', 'vcd', 'aba']"
      ]
     },
     "execution_count": 5,
     "metadata": {},
     "output_type": "execute_result"
    }
   ],
   "source": [
    "def longestString(inputString):\n",
    "    \n",
    "    # find the size of longest string from the inputstring\n",
    "    size = max([len(st) for st in inputString])\n",
    "    \n",
    "    # create an empty array\n",
    "    longest = []\n",
    "    \n",
    "    # iterating over inputString\n",
    "    for st in inputString:\n",
    "        # compare the size of each string with size\n",
    "        if size ==  len(st):\n",
    "            longest.append(st)\n",
    "    \n",
    "    return longest\n",
    "\n",
    "\n",
    "# testing code\n",
    "\n",
    "inputString = ['abd', 'aa', 'vcd', 'ad', 'aba']\n",
    "\n",
    "longestString(inputString)  "
   ]
  },
  {
   "cell_type": "markdown",
   "id": "85423327-69ab-4e97-8b12-ff4c96f8c8a4",
   "metadata": {},
   "source": [
    "# <font color='yellow'>#100DaysOfCode </font>\n",
    "### Day 2 : Find Maximal Difference of an Array\n",
    "\n",
    "\n",
    "Given an array of integers, find the maximal absolute difference between any two of its adjacent elements.\n",
    "\n",
    "Example:\n",
    "\n",
    "For `arr = [2, 4, 1, 0]`, the output should be = `3`.\n",
    "\n",
    "for `arr = [10, 11, 13]`, the output should be = `2` ."
   ]
  },
  {
   "cell_type": "code",
   "execution_count": 16,
   "id": "f615dd08-b17a-4b78-b253-bd652ee807f5",
   "metadata": {},
   "outputs": [
    {
     "data": {
      "text/plain": [
       "2"
      ]
     },
     "execution_count": 16,
     "metadata": {},
     "output_type": "execute_result"
    }
   ],
   "source": [
    "def solution(arr):\n",
    "    \"\"\"  TODO \"\"\"\n",
    "    # solution 1:\n",
    "    \"\"\"diff = [0] * len(arr)\n",
    "    \n",
    "    for i in range(len(arr)-1):\n",
    "        diff[i] = abs(arr[i] - arr[i+1])\"\"\"\n",
    "    \n",
    "    diff = []\n",
    "    for x, y in zip(arr, arr[1:]):\n",
    "        diff.append(abs(x-y))\n",
    "    \n",
    "    return max(diff)\n",
    "    \n",
    "\n",
    "# testing \n",
    "solution([2, 4, 1, 0])\n",
    "solution([10, 11, 13])"
   ]
  },
  {
   "cell_type": "markdown",
   "id": "3f54bccf-6956-4d6a-a956-9e4d79c7bcdb",
   "metadata": {},
   "source": [
    "# <font color='yellow'>#100DaysOfCode </font>\n",
    "### Day 3 : Determine isLucky or not based on Ticket Number\n"
   ]
  },
  {
   "cell_type": "markdown",
   "id": "ca58d125-4af9-4379-9b5e-4c1e0ee3a817",
   "metadata": {},
   "source": [
    "Ticket numbers usually consist of an even number of digits. A ticket number is considered lucky if the sum of the first half of the digits is equal to the sum of the second half.\n",
    "\n",
    "Given a ticket number n, determine if it's lucky or not.\n",
    "\n",
    "Example\n",
    "\n",
    "For `n = 1230`, the output should be `isLucky(n) = true`; \n",
    "\n",
    "For `n = 239017`, the output should be `isLucky(n) = false`. "
   ]
  },
  {
   "cell_type": "code",
   "execution_count": 5,
   "id": "bbd7ce41-9161-4208-abe5-6cf6dc29552f",
   "metadata": {},
   "outputs": [
    {
     "data": {
      "text/plain": [
       "False"
      ]
     },
     "execution_count": 5,
     "metadata": {},
     "output_type": "execute_result"
    }
   ],
   "source": [
    "def isLucky(n):\n",
    "    digit = str(n)\n",
    "    n = len(digit) // 2\n",
    "    \n",
    "    d1 = [int(i) for i in digit[:n]]\n",
    "    d2 = [int(i) for i in digit[-n:]]\n",
    "    \n",
    "    if sum(d1) == sum(d2):\n",
    "        return True\n",
    "    else:\n",
    "        return False\n",
    "\n",
    "# testing\n",
    "isLucky(239017)"
   ]
  },
  {
   "cell_type": "code",
   "execution_count": null,
   "id": "609af71b-5a86-4c28-aaf7-9fed82241d4a",
   "metadata": {},
   "outputs": [],
   "source": []
  }
 ],
 "metadata": {
  "kernelspec": {
   "display_name": "Python 3",
   "language": "python",
   "name": "python3"
  },
  "language_info": {
   "codemirror_mode": {
    "name": "ipython",
    "version": 3
   },
   "file_extension": ".py",
   "mimetype": "text/x-python",
   "name": "python",
   "nbconvert_exporter": "python",
   "pygments_lexer": "ipython3",
   "version": "3.9.10"
  },
  "widgets": {
   "application/vnd.jupyter.widget-state+json": {
    "state": {},
    "version_major": 2,
    "version_minor": 0
   }
  }
 },
 "nbformat": 4,
 "nbformat_minor": 5
}
