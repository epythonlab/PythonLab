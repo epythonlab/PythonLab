{
 "cells": [
  {
   "cell_type": "markdown",
   "id": "12ebb532-d944-4c77-abed-99caa25b7514",
   "metadata": {
    "tags": []
   },
   "source": [
    "# Very Useful Pandas Functions for Everyday Data Analysis"
   ]
  },
  {
   "cell_type": "markdown",
   "id": "cf3b4459-453a-42bd-9d0e-c5f546b582b0",
   "metadata": {
    "tags": []
   },
   "source": [
    "# Pandas `Str accessor`"
   ]
  },
  {
   "cell_type": "markdown",
   "id": "1d51d2a6-c9f3-452c-8422-e255e059711c",
   "metadata": {},
   "source": [
    "**Pandas** is a highly efficient library on textual data as well. The functions and methods under the `str accessor` provide flexible ways to filter rows based on strings."
   ]
  },
  {
   "cell_type": "markdown",
   "id": "2270adf1-9831-467e-a012-2eebcad2eb53",
   "metadata": {},
   "source": [
    "Q1: Lets assume your manager needs empoyee names that the names start with the letter `J` or ends with letter `n`.\n",
    "\n",
    "Q2. Your manager asked you to bring all the employee names that contains the letter `m` and startswith the letter `J`.\n",
    "\n",
    "\n",
    "How do you filter the rows from the dataframe?\n"
   ]
  },
  {
   "cell_type": "markdown",
   "id": "bbf8dda4-e18f-452d-ae81-95f3fa68aeae",
   "metadata": {},
   "source": [
    "Most commonly used `str accessors`\n",
    "1. `startswith()`\n",
    "2. `endswith()`\n",
    "3. `contains()`"
   ]
  },
  {
   "cell_type": "code",
   "execution_count": 1,
   "id": "d8c43b6c-6104-4e1d-b617-30ccf05e1930",
   "metadata": {},
   "outputs": [
    {
     "data": {
      "text/html": [
       "<div>\n",
       "<style scoped>\n",
       "    .dataframe tbody tr th:only-of-type {\n",
       "        vertical-align: middle;\n",
       "    }\n",
       "\n",
       "    .dataframe tbody tr th {\n",
       "        vertical-align: top;\n",
       "    }\n",
       "\n",
       "    .dataframe thead th {\n",
       "        text-align: right;\n",
       "    }\n",
       "</style>\n",
       "<table border=\"1\" class=\"dataframe\">\n",
       "  <thead>\n",
       "    <tr style=\"text-align: right;\">\n",
       "      <th></th>\n",
       "      <th>name</th>\n",
       "      <th>birth_date</th>\n",
       "      <th>country</th>\n",
       "    </tr>\n",
       "  </thead>\n",
       "  <tbody>\n",
       "    <tr>\n",
       "      <th>0</th>\n",
       "      <td>Spencer Carr</td>\n",
       "      <td>1937-12-16</td>\n",
       "      <td>South Africa</td>\n",
       "    </tr>\n",
       "    <tr>\n",
       "      <th>1</th>\n",
       "      <td>Gary Smith</td>\n",
       "      <td>2002-12-29</td>\n",
       "      <td>Bahrain</td>\n",
       "    </tr>\n",
       "    <tr>\n",
       "      <th>2</th>\n",
       "      <td>Jose Wilkinson</td>\n",
       "      <td>1989-05-14</td>\n",
       "      <td>Colombia</td>\n",
       "    </tr>\n",
       "    <tr>\n",
       "      <th>3</th>\n",
       "      <td>Robert Smith</td>\n",
       "      <td>2022-06-28</td>\n",
       "      <td>Saint Helena</td>\n",
       "    </tr>\n",
       "    <tr>\n",
       "      <th>4</th>\n",
       "      <td>Michelle Simmons</td>\n",
       "      <td>1993-02-10</td>\n",
       "      <td>Gibraltar</td>\n",
       "    </tr>\n",
       "    <tr>\n",
       "      <th>5</th>\n",
       "      <td>Kathy Martin</td>\n",
       "      <td>1983-08-05</td>\n",
       "      <td>Argentina</td>\n",
       "    </tr>\n",
       "    <tr>\n",
       "      <th>6</th>\n",
       "      <td>Carl Morgan</td>\n",
       "      <td>1993-12-26</td>\n",
       "      <td>Timor-Leste</td>\n",
       "    </tr>\n",
       "    <tr>\n",
       "      <th>7</th>\n",
       "      <td>Nicholas Woodard</td>\n",
       "      <td>1938-06-23</td>\n",
       "      <td>Armenia</td>\n",
       "    </tr>\n",
       "    <tr>\n",
       "      <th>8</th>\n",
       "      <td>Scott Atkins</td>\n",
       "      <td>1913-12-06</td>\n",
       "      <td>Moldova</td>\n",
       "    </tr>\n",
       "    <tr>\n",
       "      <th>9</th>\n",
       "      <td>Janet Pollard</td>\n",
       "      <td>1947-07-09</td>\n",
       "      <td>Ireland</td>\n",
       "    </tr>\n",
       "  </tbody>\n",
       "</table>\n",
       "</div>"
      ],
      "text/plain": [
       "               name  birth_date       country\n",
       "0      Spencer Carr  1937-12-16  South Africa\n",
       "1        Gary Smith  2002-12-29       Bahrain\n",
       "2    Jose Wilkinson  1989-05-14      Colombia\n",
       "3      Robert Smith  2022-06-28  Saint Helena\n",
       "4  Michelle Simmons  1993-02-10     Gibraltar\n",
       "5      Kathy Martin  1983-08-05     Argentina\n",
       "6       Carl Morgan  1993-12-26   Timor-Leste\n",
       "7  Nicholas Woodard  1938-06-23       Armenia\n",
       "8      Scott Atkins  1913-12-06       Moldova\n",
       "9     Janet Pollard  1947-07-09       Ireland"
      ]
     },
     "execution_count": 1,
     "metadata": {},
     "output_type": "execute_result"
    }
   ],
   "source": [
    "# import pandas\n",
    "import pandas as pd\n",
    "# read the data from csv\n",
    "df = pd.read_csv('person_info.csv')\n",
    "df"
   ]
  },
  {
   "cell_type": "markdown",
   "id": "38f04016-cac8-491f-a9e8-0dc474c3e0ea",
   "metadata": {},
   "source": [
    "Example 1:\n",
    "\n"
   ]
  },
  {
   "cell_type": "code",
   "execution_count": 2,
   "id": "e64d1fa8-0b2e-44d3-9669-c3ef721a8d33",
   "metadata": {},
   "outputs": [
    {
     "data": {
      "text/html": [
       "<div>\n",
       "<style scoped>\n",
       "    .dataframe tbody tr th:only-of-type {\n",
       "        vertical-align: middle;\n",
       "    }\n",
       "\n",
       "    .dataframe tbody tr th {\n",
       "        vertical-align: top;\n",
       "    }\n",
       "\n",
       "    .dataframe thead th {\n",
       "        text-align: right;\n",
       "    }\n",
       "</style>\n",
       "<table border=\"1\" class=\"dataframe\">\n",
       "  <thead>\n",
       "    <tr style=\"text-align: right;\">\n",
       "      <th></th>\n",
       "      <th>name</th>\n",
       "      <th>birth_date</th>\n",
       "      <th>country</th>\n",
       "    </tr>\n",
       "  </thead>\n",
       "  <tbody>\n",
       "    <tr>\n",
       "      <th>2</th>\n",
       "      <td>Jose Wilkinson</td>\n",
       "      <td>1989-05-14</td>\n",
       "      <td>Colombia</td>\n",
       "    </tr>\n",
       "    <tr>\n",
       "      <th>5</th>\n",
       "      <td>Kathy Martin</td>\n",
       "      <td>1983-08-05</td>\n",
       "      <td>Argentina</td>\n",
       "    </tr>\n",
       "    <tr>\n",
       "      <th>6</th>\n",
       "      <td>Carl Morgan</td>\n",
       "      <td>1993-12-26</td>\n",
       "      <td>Timor-Leste</td>\n",
       "    </tr>\n",
       "    <tr>\n",
       "      <th>9</th>\n",
       "      <td>Janet Pollard</td>\n",
       "      <td>1947-07-09</td>\n",
       "      <td>Ireland</td>\n",
       "    </tr>\n",
       "  </tbody>\n",
       "</table>\n",
       "</div>"
      ],
      "text/plain": [
       "             name  birth_date      country\n",
       "2  Jose Wilkinson  1989-05-14     Colombia\n",
       "5    Kathy Martin  1983-08-05    Argentina\n",
       "6     Carl Morgan  1993-12-26  Timor-Leste\n",
       "9   Janet Pollard  1947-07-09      Ireland"
      ]
     },
     "execution_count": 2,
     "metadata": {},
     "output_type": "execute_result"
    }
   ],
   "source": [
    "df[df.name.str.startswith('J') | df.name.str.endswith('n')]"
   ]
  },
  {
   "cell_type": "markdown",
   "id": "a7b454a3-a59d-430c-bbef-f4d3ccc7bbb3",
   "metadata": {},
   "source": [
    "The `contains()` function under the `str accessor` returns the values that contain a given set of characters."
   ]
  },
  {
   "cell_type": "markdown",
   "id": "c190bbc1-61ae-4bae-a85c-9a8ed998e891",
   "metadata": {},
   "source": [
    "Example 2:"
   ]
  },
  {
   "cell_type": "code",
   "execution_count": 4,
   "id": "e5552fd4-f287-46b7-846b-0e65874bbd6a",
   "metadata": {},
   "outputs": [
    {
     "data": {
      "text/html": [
       "<div>\n",
       "<style scoped>\n",
       "    .dataframe tbody tr th:only-of-type {\n",
       "        vertical-align: middle;\n",
       "    }\n",
       "\n",
       "    .dataframe tbody tr th {\n",
       "        vertical-align: top;\n",
       "    }\n",
       "\n",
       "    .dataframe thead th {\n",
       "        text-align: right;\n",
       "    }\n",
       "</style>\n",
       "<table border=\"1\" class=\"dataframe\">\n",
       "  <thead>\n",
       "    <tr style=\"text-align: right;\">\n",
       "      <th></th>\n",
       "      <th>name</th>\n",
       "      <th>birth_date</th>\n",
       "      <th>country</th>\n",
       "    </tr>\n",
       "  </thead>\n",
       "  <tbody>\n",
       "    <tr>\n",
       "      <th>0</th>\n",
       "      <td>Spencer Carr</td>\n",
       "      <td>1937-12-16</td>\n",
       "      <td>South Africa</td>\n",
       "    </tr>\n",
       "    <tr>\n",
       "      <th>2</th>\n",
       "      <td>Jose Wilkinson</td>\n",
       "      <td>1989-05-14</td>\n",
       "      <td>Colombia</td>\n",
       "    </tr>\n",
       "    <tr>\n",
       "      <th>4</th>\n",
       "      <td>Michelle Simmons</td>\n",
       "      <td>1993-02-10</td>\n",
       "      <td>Gibraltar</td>\n",
       "    </tr>\n",
       "    <tr>\n",
       "      <th>5</th>\n",
       "      <td>Kathy Martin</td>\n",
       "      <td>1983-08-05</td>\n",
       "      <td>Argentina</td>\n",
       "    </tr>\n",
       "    <tr>\n",
       "      <th>6</th>\n",
       "      <td>Carl Morgan</td>\n",
       "      <td>1993-12-26</td>\n",
       "      <td>Timor-Leste</td>\n",
       "    </tr>\n",
       "    <tr>\n",
       "      <th>8</th>\n",
       "      <td>Scott Atkins</td>\n",
       "      <td>1913-12-06</td>\n",
       "      <td>Moldova</td>\n",
       "    </tr>\n",
       "    <tr>\n",
       "      <th>9</th>\n",
       "      <td>Janet Pollard</td>\n",
       "      <td>1947-07-09</td>\n",
       "      <td>Ireland</td>\n",
       "    </tr>\n",
       "  </tbody>\n",
       "</table>\n",
       "</div>"
      ],
      "text/plain": [
       "               name  birth_date       country\n",
       "0      Spencer Carr  1937-12-16  South Africa\n",
       "2    Jose Wilkinson  1989-05-14      Colombia\n",
       "4  Michelle Simmons  1993-02-10     Gibraltar\n",
       "5      Kathy Martin  1983-08-05     Argentina\n",
       "6       Carl Morgan  1993-12-26   Timor-Leste\n",
       "8      Scott Atkins  1913-12-06       Moldova\n",
       "9     Janet Pollard  1947-07-09       Ireland"
      ]
     },
     "execution_count": 4,
     "metadata": {},
     "output_type": "execute_result"
    }
   ],
   "source": [
    "df[df.name.str.contains('n') | df.name.str.startswith('J')]"
   ]
  },
  {
   "cell_type": "markdown",
   "id": "1ad2360f-f834-4ed2-b1a9-a26e7e94890b",
   "metadata": {},
   "source": [
    "## Pandas Top Functions to Filtering Rows"
   ]
  },
  {
   "cell_type": "markdown",
   "id": "9e6eccb7-c31f-4111-b368-3064dc7d6c92",
   "metadata": {},
   "source": [
    "### 1. Logical Operator\n",
    "\n",
    "- You can use the logical operators on column values to filter rows."
   ]
  },
  {
   "cell_type": "code",
   "execution_count": 1,
   "id": "017282de-d789-497b-94af-933ea7a5cf05",
   "metadata": {},
   "outputs": [
    {
     "data": {
      "text/html": [
       "<div>\n",
       "<style scoped>\n",
       "    .dataframe tbody tr th:only-of-type {\n",
       "        vertical-align: middle;\n",
       "    }\n",
       "\n",
       "    .dataframe tbody tr th {\n",
       "        vertical-align: top;\n",
       "    }\n",
       "\n",
       "    .dataframe thead th {\n",
       "        text-align: right;\n",
       "    }\n",
       "</style>\n",
       "<table border=\"1\" class=\"dataframe\">\n",
       "  <thead>\n",
       "    <tr style=\"text-align: right;\">\n",
       "      <th></th>\n",
       "      <th>name</th>\n",
       "      <th>birth_date</th>\n",
       "      <th>country</th>\n",
       "    </tr>\n",
       "  </thead>\n",
       "  <tbody>\n",
       "    <tr>\n",
       "      <th>0</th>\n",
       "      <td>Spencer Carr</td>\n",
       "      <td>1937-12-16</td>\n",
       "      <td>South Africa</td>\n",
       "    </tr>\n",
       "    <tr>\n",
       "      <th>1</th>\n",
       "      <td>Gary Smith</td>\n",
       "      <td>2002-12-29</td>\n",
       "      <td>Bahrain</td>\n",
       "    </tr>\n",
       "    <tr>\n",
       "      <th>2</th>\n",
       "      <td>Jose Wilkinson</td>\n",
       "      <td>1989-05-14</td>\n",
       "      <td>Colombia</td>\n",
       "    </tr>\n",
       "    <tr>\n",
       "      <th>3</th>\n",
       "      <td>Robert Smith</td>\n",
       "      <td>2022-06-28</td>\n",
       "      <td>Saint Helena</td>\n",
       "    </tr>\n",
       "    <tr>\n",
       "      <th>4</th>\n",
       "      <td>Michelle Simmons</td>\n",
       "      <td>1993-02-10</td>\n",
       "      <td>Gibraltar</td>\n",
       "    </tr>\n",
       "    <tr>\n",
       "      <th>5</th>\n",
       "      <td>Kathy Martin</td>\n",
       "      <td>1983-08-05</td>\n",
       "      <td>Argentina</td>\n",
       "    </tr>\n",
       "    <tr>\n",
       "      <th>6</th>\n",
       "      <td>Carl Morgan</td>\n",
       "      <td>1993-12-26</td>\n",
       "      <td>Timor-Leste</td>\n",
       "    </tr>\n",
       "    <tr>\n",
       "      <th>7</th>\n",
       "      <td>Nicholas Woodard</td>\n",
       "      <td>1938-06-23</td>\n",
       "      <td>Armenia</td>\n",
       "    </tr>\n",
       "    <tr>\n",
       "      <th>8</th>\n",
       "      <td>Scott Atkins</td>\n",
       "      <td>1913-12-06</td>\n",
       "      <td>Moldova</td>\n",
       "    </tr>\n",
       "    <tr>\n",
       "      <th>9</th>\n",
       "      <td>Janet Pollard</td>\n",
       "      <td>1947-07-09</td>\n",
       "      <td>Ireland</td>\n",
       "    </tr>\n",
       "  </tbody>\n",
       "</table>\n",
       "</div>"
      ],
      "text/plain": [
       "               name  birth_date       country\n",
       "0      Spencer Carr  1937-12-16  South Africa\n",
       "1        Gary Smith  2002-12-29       Bahrain\n",
       "2    Jose Wilkinson  1989-05-14      Colombia\n",
       "3      Robert Smith  2022-06-28  Saint Helena\n",
       "4  Michelle Simmons  1993-02-10     Gibraltar\n",
       "5      Kathy Martin  1983-08-05     Argentina\n",
       "6       Carl Morgan  1993-12-26   Timor-Leste\n",
       "7  Nicholas Woodard  1938-06-23       Armenia\n",
       "8      Scott Atkins  1913-12-06       Moldova\n",
       "9     Janet Pollard  1947-07-09       Ireland"
      ]
     },
     "execution_count": 1,
     "metadata": {},
     "output_type": "execute_result"
    }
   ],
   "source": [
    "# import pandas\n",
    "import pandas as pd\n",
    "# read the data from csv\n",
    "df = pd.read_csv('person_info.csv')\n",
    "df"
   ]
  },
  {
   "cell_type": "markdown",
   "id": "d2bc9f58-e0ca-4b98-8237-563f83e1a23a",
   "metadata": {},
   "source": [
    "Fore instance, you can filter the `birht_date >= 1983-01-02`"
   ]
  },
  {
   "cell_type": "code",
   "execution_count": 2,
   "id": "cac04b04-0399-4286-aee8-d753c308e14f",
   "metadata": {},
   "outputs": [
    {
     "data": {
      "text/html": [
       "<div>\n",
       "<style scoped>\n",
       "    .dataframe tbody tr th:only-of-type {\n",
       "        vertical-align: middle;\n",
       "    }\n",
       "\n",
       "    .dataframe tbody tr th {\n",
       "        vertical-align: top;\n",
       "    }\n",
       "\n",
       "    .dataframe thead th {\n",
       "        text-align: right;\n",
       "    }\n",
       "</style>\n",
       "<table border=\"1\" class=\"dataframe\">\n",
       "  <thead>\n",
       "    <tr style=\"text-align: right;\">\n",
       "      <th></th>\n",
       "      <th>name</th>\n",
       "      <th>birth_date</th>\n",
       "      <th>country</th>\n",
       "    </tr>\n",
       "  </thead>\n",
       "  <tbody>\n",
       "    <tr>\n",
       "      <th>1</th>\n",
       "      <td>Gary Smith</td>\n",
       "      <td>2002-12-29</td>\n",
       "      <td>Bahrain</td>\n",
       "    </tr>\n",
       "    <tr>\n",
       "      <th>2</th>\n",
       "      <td>Jose Wilkinson</td>\n",
       "      <td>1989-05-14</td>\n",
       "      <td>Colombia</td>\n",
       "    </tr>\n",
       "    <tr>\n",
       "      <th>3</th>\n",
       "      <td>Robert Smith</td>\n",
       "      <td>2022-06-28</td>\n",
       "      <td>Saint Helena</td>\n",
       "    </tr>\n",
       "    <tr>\n",
       "      <th>4</th>\n",
       "      <td>Michelle Simmons</td>\n",
       "      <td>1993-02-10</td>\n",
       "      <td>Gibraltar</td>\n",
       "    </tr>\n",
       "    <tr>\n",
       "      <th>5</th>\n",
       "      <td>Kathy Martin</td>\n",
       "      <td>1983-08-05</td>\n",
       "      <td>Argentina</td>\n",
       "    </tr>\n",
       "    <tr>\n",
       "      <th>6</th>\n",
       "      <td>Carl Morgan</td>\n",
       "      <td>1993-12-26</td>\n",
       "      <td>Timor-Leste</td>\n",
       "    </tr>\n",
       "  </tbody>\n",
       "</table>\n",
       "</div>"
      ],
      "text/plain": [
       "               name  birth_date       country\n",
       "1        Gary Smith  2002-12-29       Bahrain\n",
       "2    Jose Wilkinson  1989-05-14      Colombia\n",
       "3      Robert Smith  2022-06-28  Saint Helena\n",
       "4  Michelle Simmons  1993-02-10     Gibraltar\n",
       "5      Kathy Martin  1983-08-05     Argentina\n",
       "6       Carl Morgan  1993-12-26   Timor-Leste"
      ]
     },
     "execution_count": 2,
     "metadata": {},
     "output_type": "execute_result"
    }
   ],
   "source": [
    "df[df.birth_date >= '1983-01-02']"
   ]
  },
  {
   "cell_type": "markdown",
   "id": "aeb5bf7e-e018-420a-b2bb-9bee56c83a8c",
   "metadata": {},
   "source": [
    "Only the `birth_date` that greater than the given date is filtered."
   ]
  },
  {
   "cell_type": "markdown",
   "id": "029b043b-d9e5-4676-a911-8b778c6608b8",
   "metadata": {},
   "source": [
    "### 2. Multiple logical operators\n",
    "- Pandas allows for combining multiple logical operators. \n",
    "\n",
    "\n",
    "For instance, you can apply conditions on both `name` and `birth_date` columns as below."
   ]
  },
  {
   "cell_type": "code",
   "execution_count": 3,
   "id": "47d74902-caa8-470e-8edd-3679fb855c63",
   "metadata": {},
   "outputs": [
    {
     "data": {
      "text/html": [
       "<div>\n",
       "<style scoped>\n",
       "    .dataframe tbody tr th:only-of-type {\n",
       "        vertical-align: middle;\n",
       "    }\n",
       "\n",
       "    .dataframe tbody tr th {\n",
       "        vertical-align: top;\n",
       "    }\n",
       "\n",
       "    .dataframe thead th {\n",
       "        text-align: right;\n",
       "    }\n",
       "</style>\n",
       "<table border=\"1\" class=\"dataframe\">\n",
       "  <thead>\n",
       "    <tr style=\"text-align: right;\">\n",
       "      <th></th>\n",
       "      <th>name</th>\n",
       "      <th>birth_date</th>\n",
       "      <th>country</th>\n",
       "    </tr>\n",
       "  </thead>\n",
       "  <tbody>\n",
       "    <tr>\n",
       "      <th>2</th>\n",
       "      <td>Jose Wilkinson</td>\n",
       "      <td>1989-05-14</td>\n",
       "      <td>Colombia</td>\n",
       "    </tr>\n",
       "    <tr>\n",
       "      <th>3</th>\n",
       "      <td>Robert Smith</td>\n",
       "      <td>2022-06-28</td>\n",
       "      <td>Saint Helena</td>\n",
       "    </tr>\n",
       "    <tr>\n",
       "      <th>4</th>\n",
       "      <td>Michelle Simmons</td>\n",
       "      <td>1993-02-10</td>\n",
       "      <td>Gibraltar</td>\n",
       "    </tr>\n",
       "    <tr>\n",
       "      <th>5</th>\n",
       "      <td>Kathy Martin</td>\n",
       "      <td>1983-08-05</td>\n",
       "      <td>Argentina</td>\n",
       "    </tr>\n",
       "  </tbody>\n",
       "</table>\n",
       "</div>"
      ],
      "text/plain": [
       "               name  birth_date       country\n",
       "2    Jose Wilkinson  1989-05-14      Colombia\n",
       "3      Robert Smith  2022-06-28  Saint Helena\n",
       "4  Michelle Simmons  1993-02-10     Gibraltar\n",
       "5      Kathy Martin  1983-08-05     Argentina"
      ]
     },
     "execution_count": 3,
     "metadata": {},
     "output_type": "execute_result"
    }
   ],
   "source": [
    "df[(df.name > 'John') & (df.birth_date >= '1983-01-02')]"
   ]
  },
  {
   "cell_type": "markdown",
   "id": "985f6fe6-66ec-4a06-b151-342af5bb77e0",
   "metadata": {},
   "source": [
    "Only the name come after 'John' and birth_date that greater than the given date is filtered."
   ]
  },
  {
   "cell_type": "markdown",
   "id": "1aa77561-cfe9-42c5-9ef5-99c5c9e3a66a",
   "metadata": {},
   "source": [
    "### 3. `isin()` method is the way of applying multiple condition for filtering. \n",
    "\n",
    "- For instance, you can filter the names that exist in a given list."
   ]
  },
  {
   "cell_type": "code",
   "execution_count": 4,
   "id": "76051e57-3b11-4517-8b7a-1ec1c1353453",
   "metadata": {},
   "outputs": [
    {
     "data": {
      "text/html": [
       "<div>\n",
       "<style scoped>\n",
       "    .dataframe tbody tr th:only-of-type {\n",
       "        vertical-align: middle;\n",
       "    }\n",
       "\n",
       "    .dataframe tbody tr th {\n",
       "        vertical-align: top;\n",
       "    }\n",
       "\n",
       "    .dataframe thead th {\n",
       "        text-align: right;\n",
       "    }\n",
       "</style>\n",
       "<table border=\"1\" class=\"dataframe\">\n",
       "  <thead>\n",
       "    <tr style=\"text-align: right;\">\n",
       "      <th></th>\n",
       "      <th>name</th>\n",
       "      <th>birth_date</th>\n",
       "      <th>country</th>\n",
       "    </tr>\n",
       "  </thead>\n",
       "  <tbody>\n",
       "    <tr>\n",
       "      <th>5</th>\n",
       "      <td>Kathy Martin</td>\n",
       "      <td>1983-08-05</td>\n",
       "      <td>Argentina</td>\n",
       "    </tr>\n",
       "    <tr>\n",
       "      <th>6</th>\n",
       "      <td>Carl Morgan</td>\n",
       "      <td>1993-12-26</td>\n",
       "      <td>Timor-Leste</td>\n",
       "    </tr>\n",
       "    <tr>\n",
       "      <th>8</th>\n",
       "      <td>Scott Atkins</td>\n",
       "      <td>1913-12-06</td>\n",
       "      <td>Moldova</td>\n",
       "    </tr>\n",
       "  </tbody>\n",
       "</table>\n",
       "</div>"
      ],
      "text/plain": [
       "           name  birth_date      country\n",
       "5  Kathy Martin  1983-08-05    Argentina\n",
       "6   Carl Morgan  1993-12-26  Timor-Leste\n",
       "8  Scott Atkins  1913-12-06      Moldova"
      ]
     },
     "execution_count": 4,
     "metadata": {},
     "output_type": "execute_result"
    }
   ],
   "source": [
    "name_lists = ['Carl Morgan', 'Kathy Martin', 'Scott Atkins']\n",
    "\n",
    "# filtering the rows that the name exists in the given lists\n",
    "df[df.name.isin(name_lists)]\n"
   ]
  },
  {
   "cell_type": "markdown",
   "id": "cc85aa6b-4a79-45fa-8fab-cc03bd5d07e2",
   "metadata": {},
   "source": [
    "### 4. The `query()` function offers a little more flexibility at writing the conditions for filtering. \n",
    "\n",
    "- You~df['name'].isin(name_list can pass the conditions as a string."
   ]
  },
  {
   "cell_type": "markdown",
   "id": "08b980c8-39ea-46f1-8544-fd5e06f20f6b",
   "metadata": {},
   "source": [
    "For instance, the following code returns the rows that belong to the birth_date between `1983-01-01` and `2022-01-01`"
   ]
  },
  {
   "cell_type": "code",
   "execution_count": 5,
   "id": "2c4cc706-ac3e-497c-9594-089c1c5f3390",
   "metadata": {},
   "outputs": [
    {
     "data": {
      "text/html": [
       "<div>\n",
       "<style scoped>\n",
       "    .dataframe tbody tr th:only-of-type {\n",
       "        vertical-align: middle;\n",
       "    }\n",
       "\n",
       "    .dataframe tbody tr th {\n",
       "        vertical-align: top;\n",
       "    }\n",
       "\n",
       "    .dataframe thead th {\n",
       "        text-align: right;\n",
       "    }\n",
       "</style>\n",
       "<table border=\"1\" class=\"dataframe\">\n",
       "  <thead>\n",
       "    <tr style=\"text-align: right;\">\n",
       "      <th></th>\n",
       "      <th>name</th>\n",
       "      <th>birth_date</th>\n",
       "      <th>country</th>\n",
       "    </tr>\n",
       "  </thead>\n",
       "  <tbody>\n",
       "    <tr>\n",
       "      <th>1</th>\n",
       "      <td>Gary Smith</td>\n",
       "      <td>2002-12-29</td>\n",
       "      <td>Bahrain</td>\n",
       "    </tr>\n",
       "    <tr>\n",
       "      <th>2</th>\n",
       "      <td>Jose Wilkinson</td>\n",
       "      <td>1989-05-14</td>\n",
       "      <td>Colombia</td>\n",
       "    </tr>\n",
       "    <tr>\n",
       "      <th>4</th>\n",
       "      <td>Michelle Simmons</td>\n",
       "      <td>1993-02-10</td>\n",
       "      <td>Gibraltar</td>\n",
       "    </tr>\n",
       "    <tr>\n",
       "      <th>5</th>\n",
       "      <td>Kathy Martin</td>\n",
       "      <td>1983-08-05</td>\n",
       "      <td>Argentina</td>\n",
       "    </tr>\n",
       "    <tr>\n",
       "      <th>6</th>\n",
       "      <td>Carl Morgan</td>\n",
       "      <td>1993-12-26</td>\n",
       "      <td>Timor-Leste</td>\n",
       "    </tr>\n",
       "  </tbody>\n",
       "</table>\n",
       "</div>"
      ],
      "text/plain": [
       "               name  birth_date      country\n",
       "1        Gary Smith  2002-12-29      Bahrain\n",
       "2    Jose Wilkinson  1989-05-14     Colombia\n",
       "4  Michelle Simmons  1993-02-10    Gibraltar\n",
       "5      Kathy Martin  1983-08-05    Argentina\n",
       "6       Carl Morgan  1993-12-26  Timor-Leste"
      ]
     },
     "execution_count": 5,
     "metadata": {},
     "output_type": "execute_result"
    }
   ],
   "source": [
    "df.query('birth_date > \"1983-01-01\" and birth_date < \"2022-01-01\"')"
   ]
  },
  {
   "cell_type": "markdown",
   "id": "f6b4c671-bb9f-4bdf-af53-6e91d4bb7bc4",
   "metadata": {},
   "source": [
    "### 5. `tidle(~)`\n",
    "\n",
    "- The tilde operator is used for `not` logic in filtering.\n",
    "\n",
    "- If you add the tilde operator before the filter expression, the rows that do not fit the condition are returned."
   ]
  },
  {
   "cell_type": "code",
   "execution_count": 6,
   "id": "385d756c-507a-4d1f-9cf0-ab5fc525c3cd",
   "metadata": {},
   "outputs": [
    {
     "data": {
      "text/html": [
       "<div>\n",
       "<style scoped>\n",
       "    .dataframe tbody tr th:only-of-type {\n",
       "        vertical-align: middle;\n",
       "    }\n",
       "\n",
       "    .dataframe tbody tr th {\n",
       "        vertical-align: top;\n",
       "    }\n",
       "\n",
       "    .dataframe thead th {\n",
       "        text-align: right;\n",
       "    }\n",
       "</style>\n",
       "<table border=\"1\" class=\"dataframe\">\n",
       "  <thead>\n",
       "    <tr style=\"text-align: right;\">\n",
       "      <th></th>\n",
       "      <th>name</th>\n",
       "      <th>birth_date</th>\n",
       "      <th>country</th>\n",
       "    </tr>\n",
       "  </thead>\n",
       "  <tbody>\n",
       "    <tr>\n",
       "      <th>0</th>\n",
       "      <td>Spencer Carr</td>\n",
       "      <td>1937-12-16</td>\n",
       "      <td>South Africa</td>\n",
       "    </tr>\n",
       "    <tr>\n",
       "      <th>1</th>\n",
       "      <td>Gary Smith</td>\n",
       "      <td>2002-12-29</td>\n",
       "      <td>Bahrain</td>\n",
       "    </tr>\n",
       "    <tr>\n",
       "      <th>2</th>\n",
       "      <td>Jose Wilkinson</td>\n",
       "      <td>1989-05-14</td>\n",
       "      <td>Colombia</td>\n",
       "    </tr>\n",
       "    <tr>\n",
       "      <th>3</th>\n",
       "      <td>Robert Smith</td>\n",
       "      <td>2022-06-28</td>\n",
       "      <td>Saint Helena</td>\n",
       "    </tr>\n",
       "    <tr>\n",
       "      <th>4</th>\n",
       "      <td>Michelle Simmons</td>\n",
       "      <td>1993-02-10</td>\n",
       "      <td>Gibraltar</td>\n",
       "    </tr>\n",
       "    <tr>\n",
       "      <th>7</th>\n",
       "      <td>Nicholas Woodard</td>\n",
       "      <td>1938-06-23</td>\n",
       "      <td>Armenia</td>\n",
       "    </tr>\n",
       "    <tr>\n",
       "      <th>9</th>\n",
       "      <td>Janet Pollard</td>\n",
       "      <td>1947-07-09</td>\n",
       "      <td>Ireland</td>\n",
       "    </tr>\n",
       "  </tbody>\n",
       "</table>\n",
       "</div>"
      ],
      "text/plain": [
       "               name  birth_date       country\n",
       "0      Spencer Carr  1937-12-16  South Africa\n",
       "1        Gary Smith  2002-12-29       Bahrain\n",
       "2    Jose Wilkinson  1989-05-14      Colombia\n",
       "3      Robert Smith  2022-06-28  Saint Helena\n",
       "4  Michelle Simmons  1993-02-10     Gibraltar\n",
       "7  Nicholas Woodard  1938-06-23       Armenia\n",
       "9     Janet Pollard  1947-07-09       Ireland"
      ]
     },
     "execution_count": 6,
     "metadata": {},
     "output_type": "execute_result"
    }
   ],
   "source": [
    "# example\n",
    "df[~df['name'].isin(name_lists)]"
   ]
  },
  {
   "cell_type": "markdown",
   "id": "b619151e-110c-40a3-a302-b54c11fb5de5",
   "metadata": {},
   "source": [
    "### 5. `Nlargest or nsmallest - in some cases you do not have a specific range for filtering but just need the largest and smallest values\n",
    "\n",
    " - `nsmallest` and `nlargest` allows you to filtering rows that have the smalest values or largest values in a column respectively. \n"
   ]
  },
  {
   "cell_type": "code",
   "execution_count": null,
   "id": "53f94540-e6d2-4ae6-9bec-da8c5391cd44",
   "metadata": {},
   "outputs": [],
   "source": []
  },
  {
   "cell_type": "markdown",
   "id": "3536c61a-1423-4c07-b33b-28b26ea33754",
   "metadata": {},
   "source": [
    "### Pandas DataFrame `mask()` vs `where()` Method"
   ]
  },
  {
   "cell_type": "markdown",
   "id": "476f9855-a696-45e0-8645-5e396223e206",
   "metadata": {},
   "source": [
    "The `mask()` method is an application of the `if-then` idiom. \n"
   ]
  },
  {
   "cell_type": "markdown",
   "id": "ea0a9013-507a-4abc-b89f-dc3b3534525d",
   "metadata": {},
   "source": [
    "`DataFrame.mask(cond, other=nan, inplace=False, axis=None, level=None, errors='raise', try_cast=NoDefault.no_default)`"
   ]
  },
  {
   "cell_type": "markdown",
   "id": "e9f5850e-7a13-47b4-b881-8e27d95f64ff",
   "metadata": {},
   "source": [
    "- For each element in the calling DataFrame, if `cond` is False the element is used; \n",
    "  otherwise the corresponding element from the DataFrame other is used."
   ]
  },
  {
   "cell_type": "markdown",
   "id": "feaba548-1232-4487-9c82-fc89bd863d73",
   "metadata": {},
   "source": [
    "### `where()` in Pandas\n",
    "\n",
    "Pandas `where()` method is used to check a DataFrame for one or more condition and return the result accordingly. \n",
    "\n",
    "- By default, the rows not satisfying the condition are filled with `NaN` value. \n",
    "\n"
   ]
  },
  {
   "cell_type": "markdown",
   "id": "d61511f4-1097-4685-9fd0-826a36005883",
   "metadata": {},
   "source": [
    "`DataFrame.where(cond, other=NoDefault.no_default, inplace=False, axis=None, level=None, errors='raise', try_cast=NoDefault.no_default)`"
   ]
  },
  {
   "cell_type": "markdown",
   "id": "035e5e97-4310-4386-b21f-f75cf085b882",
   "metadata": {},
   "source": [
    "Example: Filter the data where age is greater than 30"
   ]
  },
  {
   "cell_type": "code",
   "execution_count": null,
   "id": "55030443-dd53-49ad-a27e-70b8d14c02bf",
   "metadata": {},
   "outputs": [],
   "source": [
    "import pandas as pd\n",
    "\n",
    "data = {\n",
    "  \"age\": [50, 40, 30, 40, 20, 10, 30],\n",
    "  \"qualified\": [True, False, False, False, False, True, True]\n",
    "}\n",
    "df = pd.DataFrame(data)\n",
    "df"
   ]
  },
  {
   "cell_type": "code",
   "execution_count": null,
   "id": "0b1d5a20-ca1f-4036-8a9b-3242875c4393",
   "metadata": {},
   "outputs": [],
   "source": [
    "new_mask = df.mask(df['age'] > 30, axis=0)\n",
    "new_mask"
   ]
  },
  {
   "cell_type": "code",
   "execution_count": null,
   "id": "5c81fee8-ce99-4d63-9139-395f29345123",
   "metadata": {},
   "outputs": [],
   "source": [
    "df_where = df.where(df['age']>30, axis=0)\n",
    "df_where.dropna()"
   ]
  },
  {
   "cell_type": "markdown",
   "id": "761b5036-693a-4fab-86c1-e8bb65bcd11a",
   "metadata": {},
   "source": [
    " ## `pivot()` vs `pivot_table()`"
   ]
  },
  {
   "cell_type": "markdown",
   "id": "1eab3a5d-4280-4d6b-9451-fe4174ff6e93",
   "metadata": {},
   "source": [
    "What is `pivot()` function?\n",
    "\n",
    "- is used to reshaped a given DataFrame organized by given index / column values. "
   ]
  },
  {
   "cell_type": "markdown",
   "id": "8dd26d65-ba07-420b-afc5-3772374c8410",
   "metadata": {},
   "source": [
    "syntax:\n",
    "`pandas.pivot(data, index=None, columns=None, values=None)`"
   ]
  },
  {
   "cell_type": "markdown",
   "id": "ed5d4d46-56df-4b08-a847-9840e48bd39b",
   "metadata": {},
   "source": [
    "Example: "
   ]
  },
  {
   "cell_type": "code",
   "execution_count": null,
   "id": "67e93f4a-a84c-4753-a09d-3491d3fd1a60",
   "metadata": {
    "tags": []
   },
   "outputs": [],
   "source": [
    "import pandas as pd\n",
    "import numpy as np\n",
    "table = {\n",
    "        \"Item\": ['Item0', 'Item0', 'Item1', 'Item1'],\n",
    "         'CType':['Gold', 'Bronze', 'Gold', 'Silver'],\n",
    "         'USD': [1, 2, 3, 4],\n",
    "         'EU':[1.1, 2.2, 3.3, 4.4]\n",
    "        }\n",
    "\n",
    "df = pd.DataFrame(table)\n",
    "df"
   ]
  },
  {
   "cell_type": "markdown",
   "id": "97305382-657a-4013-bc1f-d6e76927be74",
   "metadata": {},
   "source": [
    "In such a table, it is not easy to see how the USD price varies over different customer types. You may like to reshape/pivot the table so that all USD prices for an item are on the row to compare more easily. "
   ]
  },
  {
   "cell_type": "code",
   "execution_count": null,
   "id": "125eb687-72b8-43f6-895f-0c780ea8a6d8",
   "metadata": {
    "tags": []
   },
   "outputs": [],
   "source": [
    "pivot_df = df.pivot(index='Item', \n",
    "                    columns='CType', \n",
    "                    values='USD')\n",
    "pivot_df"
   ]
  },
  {
   "cell_type": "markdown",
   "id": "e76dc53f-cbff-49f2-904b-b08c747e7d61",
   "metadata": {},
   "source": [
    "But `pivot()` function does not support data aggregation, multiple values will result in a MultiIndex in the columns."
   ]
  },
  {
   "cell_type": "markdown",
   "id": "e60eea44-a63f-453e-9279-9433fefe355f",
   "metadata": {},
   "source": [
    "The `pivot_table()` method comes to solve this problem. It works like pivot, but it aggregates the values from rows with duplicate entries for the specified columns. \n",
    "\n",
    "In other words, in the previous example we could have used the mean, the median or another aggregation function to compute a single value from the conflicting entries. \n",
    "\n",
    "This is depicted in the example below."
   ]
  },
  {
   "cell_type": "code",
   "execution_count": null,
   "id": "e8fa2832-6827-47d6-a21f-275cee4327f3",
   "metadata": {
    "tags": []
   },
   "outputs": [],
   "source": [
    "pivot_df = df.pivot_table(index='Item', \n",
    "                          columns='CType',\n",
    "                          values='USD', \n",
    "                          aggfunc=np.min).reset_index()\n",
    "pivot_df"
   ]
  },
  {
   "cell_type": "code",
   "execution_count": null,
   "id": "9c810220-5352-43ce-9e0d-e84e550593b0",
   "metadata": {
    "tags": []
   },
   "outputs": [],
   "source": [
    "data = {'indicator':[1, 2, 3,4, 5, 1, 2, 3, 4, 5],\n",
    "       'country':['Ethiopia', 'Ethiopia','Ethiopia', 'Ethiopia',\n",
    "                  'Ethiopia', 'Ethiopia','Ethiopia', 'Ethiopia',\n",
    "                  'Ethiopia', 'Ethiopia'],\n",
    "        'year':[2021, 2021, 2021, 2021, 2021, 2022, 2022, 2022, 2022, 2022],\n",
    "        'value':[6, 13, 10, 11, 5, 3, 2, 7, 3, 6]\n",
    "    }\n",
    "df = pd.DataFrame(data)\n",
    "df"
   ]
  },
  {
   "cell_type": "markdown",
   "id": "6c031760-c1f6-45f5-b41b-cf61e999ff50",
   "metadata": {},
   "source": [
    "I would like to transpose the table so that the values in the indicator name column are the new columns,"
   ]
  },
  {
   "cell_type": "code",
   "execution_count": null,
   "id": "01e43d76-db5c-4de8-8b52-f5ddec07c028",
   "metadata": {
    "tags": []
   },
   "outputs": [],
   "source": [
    "pd.pivot_table(df, values = 'value', \n",
    "               index=['country','year'], \n",
    "               columns = 'indicator').reset_index()"
   ]
  },
  {
   "cell_type": "markdown",
   "id": "ea399889-5909-407f-b195-1fbc63992081",
   "metadata": {},
   "source": [
    "In essence `pivot_table` is a generalisation of pivot, which allows you to aggregate multiple values with the same destination in the pivoted table."
   ]
  },
  {
   "cell_type": "markdown",
   "id": "92cd8f89-4002-4356-ba30-13886208ba69",
   "metadata": {},
   "source": [
    "## 1: `df.iloc and df.loc`"
   ]
  },
  {
   "cell_type": "markdown",
   "id": "c6c4dced-7b94-4f9b-a86d-e40f15331611",
   "metadata": {},
   "source": [
    "`df.iloc()` takes as a parameter the `rows and column` indices and gives you the subset of the DataFrame accordingly."
   ]
  },
  {
   "cell_type": "markdown",
   "id": "7dc0aa5d-e2e7-4d56-a760-920c76201546",
   "metadata": {},
   "source": [
    "Here, generate dummy data"
   ]
  },
  {
   "cell_type": "code",
   "execution_count": null,
   "id": "0b5d36f2-45d5-46b0-aa9d-58752480cd47",
   "metadata": {
    "jupyter": {
     "source_hidden": true
    }
   },
   "outputs": [],
   "source": [
    "import pandas as pd\n",
    "from faker import Faker\n",
    "\n",
    "faker = Faker()\n",
    "\"\"\"\n",
    "Generate fake data which includes\n",
    "- first_name, last_name, sex, email, birth_date, country\n",
    "\"\"\" \n",
    "# create empty dictionary\n",
    "dummy_data = {'name': [],\n",
    "              'birth_date':[], 'country':[]}\n",
    "# iterating over rows and append each data to the dict\n",
    "for i in range(10):\n",
    "    dummy_data['name'].append(faker.name())\n",
    "    dummy_data['birth_date'].append(faker.date_of_birth())\n",
    "    dummy_data['country'].append(faker.country())"
   ]
  },
  {
   "cell_type": "code",
   "execution_count": null,
   "id": "4aa34a03-1268-4a18-987e-a2aa5fdedbce",
   "metadata": {
    "jupyter": {
     "source_hidden": true
    }
   },
   "outputs": [],
   "source": [
    "# explore the data\n",
    "df = pd.DataFrame(dummy_data)\n",
    "# save this to csv file\n",
    "df.to_csv('person_info.csv', index=False)\n",
    "df"
   ]
  },
  {
   "cell_type": "markdown",
   "id": "cdcbd72e-f5b7-4612-9d3e-8be131e3bddd",
   "metadata": {},
   "source": [
    "Here, I am taking the first 4 rows of data and index 1st to index 3rd columns:"
   ]
  },
  {
   "cell_type": "code",
   "execution_count": null,
   "id": "aede7b19-ec54-4cd6-bb6e-707ae7457c7b",
   "metadata": {
    "jupyter": {
     "source_hidden": true
    }
   },
   "outputs": [],
   "source": [
    "df1 = df.iloc[:4, 1:3]\n",
    "df1"
   ]
  },
  {
   "cell_type": "markdown",
   "id": "1ac64eb0-fc5d-479e-ab63-fd2dfa22760a",
   "metadata": {},
   "source": [
    "2. `df.loc()`- does almost the similar operation as `.iloc()` function.\n",
    "\n",
    "But here you can specify exactly which row index you want and also the name of the columns you want in your subset.\n",
    "\n",
    "Here is an example:"
   ]
  },
  {
   "cell_type": "code",
   "execution_count": null,
   "id": "8eb43a6a-c6ce-466f-944d-a736497004b4",
   "metadata": {
    "jupyter": {
     "source_hidden": true
    }
   },
   "outputs": [],
   "source": [
    "df.loc[[2, 3, 4], ['name', 'birth_date']]"
   ]
  },
  {
   "cell_type": "markdown",
   "id": "5b38da36-f08a-42e2-a9fe-9f8882ccb598",
   "metadata": {},
   "source": [
    "##\n",
    "##\n",
    "##\n",
    "##"
   ]
  },
  {
   "cell_type": "markdown",
   "id": "1e690b3e-9e85-407f-af8e-1360d58dac63",
   "metadata": {},
   "source": [
    "# 2. `df.insert()`\n",
    "\n",
    "As the name of the function suggests, it inserts a column in the specified position. \n",
    "\n"
   ]
  },
  {
   "cell_type": "code",
   "execution_count": null,
   "id": "543037e9-a1f1-4c38-8b2c-5de017ce629e",
   "metadata": {
    "jupyter": {
     "source_hidden": true
    }
   },
   "outputs": [],
   "source": [
    "import pandas as pd"
   ]
  },
  {
   "cell_type": "code",
   "execution_count": null,
   "id": "84c0b046-4724-412f-9ba8-aa32a5b93ac2",
   "metadata": {
    "jupyter": {
     "source_hidden": true
    }
   },
   "outputs": [],
   "source": [
    "# read the data\n",
    "df = pd.read_csv('person_info.csv')"
   ]
  },
  {
   "cell_type": "code",
   "execution_count": null,
   "id": "91921b1a-37a7-4412-a919-4c5acb96d201",
   "metadata": {
    "jupyter": {
     "source_hidden": true
    }
   },
   "outputs": [],
   "source": [
    "df"
   ]
  },
  {
   "cell_type": "markdown",
   "id": "e0f4300f-7dca-4735-8362-de88221207fd",
   "metadata": {},
   "source": [
    "To demonstrate that I will first calculate the age of each person and create list of age that have the same lenght of our DataFrame:"
   ]
  },
  {
   "cell_type": "code",
   "execution_count": null,
   "id": "6408572b-e201-43a2-bb24-80ed979de1e8",
   "metadata": {
    "jupyter": {
     "source_hidden": true
    }
   },
   "outputs": [],
   "source": []
  }
 ],
 "metadata": {
  "kernelspec": {
   "display_name": "Python 3",
   "language": "python",
   "name": "python3"
  },
  "language_info": {
   "codemirror_mode": {
    "name": "ipython",
    "version": 3
   },
   "file_extension": ".py",
   "mimetype": "text/x-python",
   "name": "python",
   "nbconvert_exporter": "python",
   "pygments_lexer": "ipython3",
   "version": "3.9.10"
  },
  "widgets": {
   "application/vnd.jupyter.widget-state+json": {
    "state": {},
    "version_major": 2,
    "version_minor": 0
   }
  }
 },
 "nbformat": 4,
 "nbformat_minor": 5
}
