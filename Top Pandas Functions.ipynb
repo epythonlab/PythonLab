{
  "cells": [
    {
      "cell_type": "markdown",
      "metadata": {
        "id": "view-in-github",
        "colab_type": "text"
      },
      "source": [
        "<a href=\"https://colab.research.google.com/github/epythonlab/PythonLab/blob/master/Top%20Pandas%20Functions.ipynb\" target=\"_parent\"><img src=\"https://colab.research.google.com/assets/colab-badge.svg\" alt=\"Open In Colab\"/></a>"
      ]
    },
    {
      "cell_type": "markdown",
      "source": [
        "# How to merge data frames in Pandas?"
      ],
      "metadata": {
        "id": "4hA-8OaO1kKM"
      },
      "id": "4hA-8OaO1kKM"
    },
    {
      "cell_type": "markdown",
      "source": [
        "### To merge DataFrames in Pandas, you can use the `merge()` method. The `merge()` method takes two DataFrames as arguments and returns a new DataFrame that contains the rows from both DataFrames that have matching values in the columns that you specify."
      ],
      "metadata": {
        "id": "8Rx4FwO21rdL"
      },
      "id": "8Rx4FwO21rdL"
    },
    {
      "cell_type": "markdown",
      "source": [
        "### The following code shows how to merge two DataFrames in Pandas:"
      ],
      "metadata": {
        "id": "gaXYHYTh3-sS"
      },
      "id": "gaXYHYTh3-sS"
    },
    {
      "cell_type": "code",
      "source": [
        "import pandas as pd\n",
        "\n",
        "# Create two DataFrames\n",
        "df1 = pd.DataFrame({'A': [1, 2, 3], 'B': [4, 5, 6]})\n",
        "df2 = pd.DataFrame({'C': [7, 8, 9], 'D': [10, 11, 12]})\n",
        "df1"
      ],
      "metadata": {
        "id": "4_XS3L2B3_GS",
        "outputId": "0b8bb64a-9f9e-492d-d705-2f899c4fc2ca",
        "colab": {
          "base_uri": "https://localhost:8080/",
          "height": 143
        }
      },
      "id": "4_XS3L2B3_GS",
      "execution_count": 13,
      "outputs": [
        {
          "output_type": "execute_result",
          "data": {
            "text/plain": [
              "   A  B\n",
              "0  1  4\n",
              "1  2  5\n",
              "2  3  6"
            ],
            "text/html": [
              "\n",
              "  <div id=\"df-21c74be8-74e0-4977-a97f-457d9dddd66b\">\n",
              "    <div class=\"colab-df-container\">\n",
              "      <div>\n",
              "<style scoped>\n",
              "    .dataframe tbody tr th:only-of-type {\n",
              "        vertical-align: middle;\n",
              "    }\n",
              "\n",
              "    .dataframe tbody tr th {\n",
              "        vertical-align: top;\n",
              "    }\n",
              "\n",
              "    .dataframe thead th {\n",
              "        text-align: right;\n",
              "    }\n",
              "</style>\n",
              "<table border=\"1\" class=\"dataframe\">\n",
              "  <thead>\n",
              "    <tr style=\"text-align: right;\">\n",
              "      <th></th>\n",
              "      <th>A</th>\n",
              "      <th>B</th>\n",
              "    </tr>\n",
              "  </thead>\n",
              "  <tbody>\n",
              "    <tr>\n",
              "      <th>0</th>\n",
              "      <td>1</td>\n",
              "      <td>4</td>\n",
              "    </tr>\n",
              "    <tr>\n",
              "      <th>1</th>\n",
              "      <td>2</td>\n",
              "      <td>5</td>\n",
              "    </tr>\n",
              "    <tr>\n",
              "      <th>2</th>\n",
              "      <td>3</td>\n",
              "      <td>6</td>\n",
              "    </tr>\n",
              "  </tbody>\n",
              "</table>\n",
              "</div>\n",
              "      <button class=\"colab-df-convert\" onclick=\"convertToInteractive('df-21c74be8-74e0-4977-a97f-457d9dddd66b')\"\n",
              "              title=\"Convert this dataframe to an interactive table.\"\n",
              "              style=\"display:none;\">\n",
              "        \n",
              "  <svg xmlns=\"http://www.w3.org/2000/svg\" height=\"24px\"viewBox=\"0 0 24 24\"\n",
              "       width=\"24px\">\n",
              "    <path d=\"M0 0h24v24H0V0z\" fill=\"none\"/>\n",
              "    <path d=\"M18.56 5.44l.94 2.06.94-2.06 2.06-.94-2.06-.94-.94-2.06-.94 2.06-2.06.94zm-11 1L8.5 8.5l.94-2.06 2.06-.94-2.06-.94L8.5 2.5l-.94 2.06-2.06.94zm10 10l.94 2.06.94-2.06 2.06-.94-2.06-.94-.94-2.06-.94 2.06-2.06.94z\"/><path d=\"M17.41 7.96l-1.37-1.37c-.4-.4-.92-.59-1.43-.59-.52 0-1.04.2-1.43.59L10.3 9.45l-7.72 7.72c-.78.78-.78 2.05 0 2.83L4 21.41c.39.39.9.59 1.41.59.51 0 1.02-.2 1.41-.59l7.78-7.78 2.81-2.81c.8-.78.8-2.07 0-2.86zM5.41 20L4 18.59l7.72-7.72 1.47 1.35L5.41 20z\"/>\n",
              "  </svg>\n",
              "      </button>\n",
              "      \n",
              "  <style>\n",
              "    .colab-df-container {\n",
              "      display:flex;\n",
              "      flex-wrap:wrap;\n",
              "      gap: 12px;\n",
              "    }\n",
              "\n",
              "    .colab-df-convert {\n",
              "      background-color: #E8F0FE;\n",
              "      border: none;\n",
              "      border-radius: 50%;\n",
              "      cursor: pointer;\n",
              "      display: none;\n",
              "      fill: #1967D2;\n",
              "      height: 32px;\n",
              "      padding: 0 0 0 0;\n",
              "      width: 32px;\n",
              "    }\n",
              "\n",
              "    .colab-df-convert:hover {\n",
              "      background-color: #E2EBFA;\n",
              "      box-shadow: 0px 1px 2px rgba(60, 64, 67, 0.3), 0px 1px 3px 1px rgba(60, 64, 67, 0.15);\n",
              "      fill: #174EA6;\n",
              "    }\n",
              "\n",
              "    [theme=dark] .colab-df-convert {\n",
              "      background-color: #3B4455;\n",
              "      fill: #D2E3FC;\n",
              "    }\n",
              "\n",
              "    [theme=dark] .colab-df-convert:hover {\n",
              "      background-color: #434B5C;\n",
              "      box-shadow: 0px 1px 3px 1px rgba(0, 0, 0, 0.15);\n",
              "      filter: drop-shadow(0px 1px 2px rgba(0, 0, 0, 0.3));\n",
              "      fill: #FFFFFF;\n",
              "    }\n",
              "  </style>\n",
              "\n",
              "      <script>\n",
              "        const buttonEl =\n",
              "          document.querySelector('#df-21c74be8-74e0-4977-a97f-457d9dddd66b button.colab-df-convert');\n",
              "        buttonEl.style.display =\n",
              "          google.colab.kernel.accessAllowed ? 'block' : 'none';\n",
              "\n",
              "        async function convertToInteractive(key) {\n",
              "          const element = document.querySelector('#df-21c74be8-74e0-4977-a97f-457d9dddd66b');\n",
              "          const dataTable =\n",
              "            await google.colab.kernel.invokeFunction('convertToInteractive',\n",
              "                                                     [key], {});\n",
              "          if (!dataTable) return;\n",
              "\n",
              "          const docLinkHtml = 'Like what you see? Visit the ' +\n",
              "            '<a target=\"_blank\" href=https://colab.research.google.com/notebooks/data_table.ipynb>data table notebook</a>'\n",
              "            + ' to learn more about interactive tables.';\n",
              "          element.innerHTML = '';\n",
              "          dataTable['output_type'] = 'display_data';\n",
              "          await google.colab.output.renderOutput(dataTable, element);\n",
              "          const docLink = document.createElement('div');\n",
              "          docLink.innerHTML = docLinkHtml;\n",
              "          element.appendChild(docLink);\n",
              "        }\n",
              "      </script>\n",
              "    </div>\n",
              "  </div>\n",
              "  "
            ]
          },
          "metadata": {},
          "execution_count": 13
        }
      ]
    },
    {
      "cell_type": "code",
      "source": [
        "# Merge the DataFrames on the 'A' column\n",
        "df_merged = df1.merge(df2, on = 'A')\n",
        "\n",
        "# Print merged DataFrame\n",
        "print(df_merged)"
      ],
      "metadata": {
        "id": "9y84GGRc6vUv",
        "outputId": "7c08c590-08c9-488f-cc62-65fbd7c13700",
        "colab": {
          "base_uri": "https://localhost:8080/",
          "height": 397
        }
      },
      "id": "9y84GGRc6vUv",
      "execution_count": 17,
      "outputs": [
        {
          "output_type": "error",
          "ename": "KeyError",
          "evalue": "ignored",
          "traceback": [
            "\u001b[0;31m---------------------------------------------------------------------------\u001b[0m",
            "\u001b[0;31mKeyError\u001b[0m                                  Traceback (most recent call last)",
            "\u001b[0;32m<ipython-input-17-06dc3f886026>\u001b[0m in \u001b[0;36m<cell line: 2>\u001b[0;34m()\u001b[0m\n\u001b[1;32m      1\u001b[0m \u001b[0;31m# Merge the DataFrames on the 'A' column\u001b[0m\u001b[0;34m\u001b[0m\u001b[0;34m\u001b[0m\u001b[0m\n\u001b[0;32m----> 2\u001b[0;31m \u001b[0mdf_merged\u001b[0m \u001b[0;34m=\u001b[0m \u001b[0mdf1\u001b[0m\u001b[0;34m.\u001b[0m\u001b[0mmerge\u001b[0m\u001b[0;34m(\u001b[0m\u001b[0mdf2\u001b[0m\u001b[0;34m,\u001b[0m \u001b[0mon\u001b[0m \u001b[0;34m=\u001b[0m \u001b[0;34m'A'\u001b[0m\u001b[0;34m)\u001b[0m\u001b[0;34m\u001b[0m\u001b[0;34m\u001b[0m\u001b[0m\n\u001b[0m\u001b[1;32m      3\u001b[0m \u001b[0;34m\u001b[0m\u001b[0m\n\u001b[1;32m      4\u001b[0m \u001b[0;31m# Print merged DataFrame\u001b[0m\u001b[0;34m\u001b[0m\u001b[0;34m\u001b[0m\u001b[0m\n\u001b[1;32m      5\u001b[0m \u001b[0mprint\u001b[0m\u001b[0;34m(\u001b[0m\u001b[0mdf_merged\u001b[0m\u001b[0;34m)\u001b[0m\u001b[0;34m\u001b[0m\u001b[0;34m\u001b[0m\u001b[0m\n",
            "\u001b[0;32m/usr/local/lib/python3.10/dist-packages/pandas/core/frame.py\u001b[0m in \u001b[0;36mmerge\u001b[0;34m(self, right, how, on, left_on, right_on, left_index, right_index, sort, suffixes, copy, indicator, validate)\u001b[0m\n\u001b[1;32m  10091\u001b[0m         \u001b[0;32mfrom\u001b[0m \u001b[0mpandas\u001b[0m\u001b[0;34m.\u001b[0m\u001b[0mcore\u001b[0m\u001b[0;34m.\u001b[0m\u001b[0mreshape\u001b[0m\u001b[0;34m.\u001b[0m\u001b[0mmerge\u001b[0m \u001b[0;32mimport\u001b[0m \u001b[0mmerge\u001b[0m\u001b[0;34m\u001b[0m\u001b[0;34m\u001b[0m\u001b[0m\n\u001b[1;32m  10092\u001b[0m \u001b[0;34m\u001b[0m\u001b[0m\n\u001b[0;32m> 10093\u001b[0;31m         return merge(\n\u001b[0m\u001b[1;32m  10094\u001b[0m             \u001b[0mself\u001b[0m\u001b[0;34m,\u001b[0m\u001b[0;34m\u001b[0m\u001b[0;34m\u001b[0m\u001b[0m\n\u001b[1;32m  10095\u001b[0m             \u001b[0mright\u001b[0m\u001b[0;34m,\u001b[0m\u001b[0;34m\u001b[0m\u001b[0;34m\u001b[0m\u001b[0m\n",
            "\u001b[0;32m/usr/local/lib/python3.10/dist-packages/pandas/core/reshape/merge.py\u001b[0m in \u001b[0;36mmerge\u001b[0;34m(left, right, how, on, left_on, right_on, left_index, right_index, sort, suffixes, copy, indicator, validate)\u001b[0m\n\u001b[1;32m    108\u001b[0m     \u001b[0mvalidate\u001b[0m\u001b[0;34m:\u001b[0m \u001b[0mstr\u001b[0m \u001b[0;34m|\u001b[0m \u001b[0;32mNone\u001b[0m \u001b[0;34m=\u001b[0m \u001b[0;32mNone\u001b[0m\u001b[0;34m,\u001b[0m\u001b[0;34m\u001b[0m\u001b[0;34m\u001b[0m\u001b[0m\n\u001b[1;32m    109\u001b[0m ) -> DataFrame:\n\u001b[0;32m--> 110\u001b[0;31m     op = _MergeOperation(\n\u001b[0m\u001b[1;32m    111\u001b[0m         \u001b[0mleft\u001b[0m\u001b[0;34m,\u001b[0m\u001b[0;34m\u001b[0m\u001b[0;34m\u001b[0m\u001b[0m\n\u001b[1;32m    112\u001b[0m         \u001b[0mright\u001b[0m\u001b[0;34m,\u001b[0m\u001b[0;34m\u001b[0m\u001b[0;34m\u001b[0m\u001b[0m\n",
            "\u001b[0;32m/usr/local/lib/python3.10/dist-packages/pandas/core/reshape/merge.py\u001b[0m in \u001b[0;36m__init__\u001b[0;34m(self, left, right, how, on, left_on, right_on, axis, left_index, right_index, sort, suffixes, indicator, validate)\u001b[0m\n\u001b[1;32m    701\u001b[0m             \u001b[0mself\u001b[0m\u001b[0;34m.\u001b[0m\u001b[0mright_join_keys\u001b[0m\u001b[0;34m,\u001b[0m\u001b[0;34m\u001b[0m\u001b[0;34m\u001b[0m\u001b[0m\n\u001b[1;32m    702\u001b[0m             \u001b[0mself\u001b[0m\u001b[0;34m.\u001b[0m\u001b[0mjoin_names\u001b[0m\u001b[0;34m,\u001b[0m\u001b[0;34m\u001b[0m\u001b[0;34m\u001b[0m\u001b[0m\n\u001b[0;32m--> 703\u001b[0;31m         ) = self._get_merge_keys()\n\u001b[0m\u001b[1;32m    704\u001b[0m \u001b[0;34m\u001b[0m\u001b[0m\n\u001b[1;32m    705\u001b[0m         \u001b[0;31m# validate the merge keys dtypes. We may need to coerce\u001b[0m\u001b[0;34m\u001b[0m\u001b[0;34m\u001b[0m\u001b[0m\n",
            "\u001b[0;32m/usr/local/lib/python3.10/dist-packages/pandas/core/reshape/merge.py\u001b[0m in \u001b[0;36m_get_merge_keys\u001b[0;34m(self)\u001b[0m\n\u001b[1;32m   1160\u001b[0m                         \u001b[0mrk\u001b[0m \u001b[0;34m=\u001b[0m \u001b[0mcast\u001b[0m\u001b[0;34m(\u001b[0m\u001b[0mHashable\u001b[0m\u001b[0;34m,\u001b[0m \u001b[0mrk\u001b[0m\u001b[0;34m)\u001b[0m\u001b[0;34m\u001b[0m\u001b[0;34m\u001b[0m\u001b[0m\n\u001b[1;32m   1161\u001b[0m                         \u001b[0;32mif\u001b[0m \u001b[0mrk\u001b[0m \u001b[0;32mis\u001b[0m \u001b[0;32mnot\u001b[0m \u001b[0;32mNone\u001b[0m\u001b[0;34m:\u001b[0m\u001b[0;34m\u001b[0m\u001b[0;34m\u001b[0m\u001b[0m\n\u001b[0;32m-> 1162\u001b[0;31m                             \u001b[0mright_keys\u001b[0m\u001b[0;34m.\u001b[0m\u001b[0mappend\u001b[0m\u001b[0;34m(\u001b[0m\u001b[0mright\u001b[0m\u001b[0;34m.\u001b[0m\u001b[0m_get_label_or_level_values\u001b[0m\u001b[0;34m(\u001b[0m\u001b[0mrk\u001b[0m\u001b[0;34m)\u001b[0m\u001b[0;34m)\u001b[0m\u001b[0;34m\u001b[0m\u001b[0;34m\u001b[0m\u001b[0m\n\u001b[0m\u001b[1;32m   1163\u001b[0m                         \u001b[0;32melse\u001b[0m\u001b[0;34m:\u001b[0m\u001b[0;34m\u001b[0m\u001b[0;34m\u001b[0m\u001b[0m\n\u001b[1;32m   1164\u001b[0m                             \u001b[0;31m# work-around for merge_asof(right_index=True)\u001b[0m\u001b[0;34m\u001b[0m\u001b[0;34m\u001b[0m\u001b[0m\n",
            "\u001b[0;32m/usr/local/lib/python3.10/dist-packages/pandas/core/generic.py\u001b[0m in \u001b[0;36m_get_label_or_level_values\u001b[0;34m(self, key, axis)\u001b[0m\n\u001b[1;32m   1848\u001b[0m             )\n\u001b[1;32m   1849\u001b[0m         \u001b[0;32melse\u001b[0m\u001b[0;34m:\u001b[0m\u001b[0;34m\u001b[0m\u001b[0;34m\u001b[0m\u001b[0m\n\u001b[0;32m-> 1850\u001b[0;31m             \u001b[0;32mraise\u001b[0m \u001b[0mKeyError\u001b[0m\u001b[0;34m(\u001b[0m\u001b[0mkey\u001b[0m\u001b[0;34m)\u001b[0m\u001b[0;34m\u001b[0m\u001b[0;34m\u001b[0m\u001b[0m\n\u001b[0m\u001b[1;32m   1851\u001b[0m \u001b[0;34m\u001b[0m\u001b[0m\n\u001b[1;32m   1852\u001b[0m         \u001b[0;31m# Check for duplicates\u001b[0m\u001b[0;34m\u001b[0m\u001b[0;34m\u001b[0m\u001b[0m\n",
            "\u001b[0;31mKeyError\u001b[0m: 'A'"
          ]
        }
      ]
    },
    {
      "cell_type": "markdown",
      "source": [
        "As you can see, the `merge()` method returns a new DataFrame that contains the rows from both DataFrames that have matching values in the `A` column."
      ],
      "metadata": {
        "id": "Rltrbjp26UPL"
      },
      "id": "Rltrbjp26UPL"
    },
    {
      "cell_type": "markdown",
      "source": [
        "The `how` argument in pandas `merge()` method is used to specify the type of join to be performed.\n",
        "\n",
        "The following are the possible values for the `how` argument:\n"
      ],
      "metadata": {
        "id": "KP18i1st2J9Z"
      },
      "id": "KP18i1st2J9Z"
    },
    {
      "cell_type": "markdown",
      "source": [
        "* `inner`: this is the default join type\n",
        "\n",
        "> it returns the intersection of the rows from both data frames\n",
        "\n",
        "* `outer`: this returns the union of the rows from both dataframes.\n",
        "\n",
        "> any rows that do not have a match in the other dataframe will be filled with `nan` values\n",
        "\n",
        "* `left`: this returns all of the rows from left dataframe, along with any matching rows from the right dataframe.\n",
        "\n",
        "> any rows that do not have a match in the right dataframe will be filled with `nan` values\n",
        "\n",
        "* `right`: this returns all of the rows from the right dataframe, along with any matching rows from the left dataframe.\n",
        "\n",
        "> any rows that do not have a match in the left dataframe will be filled with `nan` values."
      ],
      "metadata": {
        "id": "bGehsjvV2eii"
      },
      "id": "bGehsjvV2eii"
    },
    {
      "cell_type": "code",
      "source": [],
      "metadata": {
        "id": "12OimYb13ayr"
      },
      "id": "12OimYb13ayr",
      "execution_count": null,
      "outputs": []
    },
    {
      "cell_type": "markdown",
      "source": [
        "# Pandas: Data aggregation with `groupby` and `agg` Functions\n",
        "\n",
        "In this tutorial, you will learn about how to aggregate data using groupby and agg functions.\n",
        "\n",
        "As a data scientist, it's common to perform aggregations on datasets to extract valuable insights.\n",
        "\n",
        "In Python, the pandas library provides powerful tools like data aggregation functions.\n",
        "\n",
        "`groupby()` is a powerful and versatile function of Python pandas library.\n",
        "\n",
        "It allows you to split your data into separate groups to perform computations to better analysis.\n",
        "\n",
        "It allow you to group a DataFrame by one or more columns and perform operations on the resulting groups.\n",
        "\n",
        "`agg()` is an alias for aggregate . Use the alias.\n",
        "\n",
        "It enables you to appy aggregation functions to grouped data."
      ],
      "metadata": {
        "id": "z6l6nhDUX9sN"
      },
      "id": "z6l6nhDUX9sN"
    },
    {
      "cell_type": "code",
      "source": [
        "# import pandas\n",
        "import pandas as pd\n",
        "# create a sample dataset\n",
        "data = pd.DataFrame({'gender': ['male', 'female', 'male', 'female',\n",
        "                             'male', 'male', 'female', 'female',\n",
        "                             'male', 'female', 'male', 'male'],\n",
        "                  'total': [40, 4, 20, 30,\n",
        "                            30, 12, 23, 34,\n",
        "                            34, 23, 4, 50]\n",
        "                  })\n",
        "# explore the data before aggregation\n",
        "#data"
      ],
      "metadata": {
        "id": "QRZn-W-NX82K"
      },
      "id": "QRZn-W-NX82K",
      "execution_count": null,
      "outputs": []
    },
    {
      "cell_type": "code",
      "source": [
        "# group the data by 'gender' and \n",
        "# calculate the sum, mean, and count the number of groups\n",
        "aggregated_data = data.groupby('gender').agg({\n",
        "    'total':['sum', 'mean', 'count']\n",
        "})\n",
        "aggregated_data"
      ],
      "metadata": {
        "id": "oNo4uMdXgvut",
        "outputId": "d25a6f4e-f650-49ad-d45c-1845e93cb2f3",
        "colab": {
          "base_uri": "https://localhost:8080/",
          "height": 175
        }
      },
      "id": "oNo4uMdXgvut",
      "execution_count": null,
      "outputs": [
        {
          "output_type": "execute_result",
          "data": {
            "text/plain": [
              "       total                 \n",
              "         sum       mean count\n",
              "gender                       \n",
              "female   114  22.800000     5\n",
              "male     109  15.571429     7"
            ],
            "text/html": [
              "\n",
              "  <div id=\"df-fa881a1f-8666-4b8d-998e-7e2b52ba527d\">\n",
              "    <div class=\"colab-df-container\">\n",
              "      <div>\n",
              "<style scoped>\n",
              "    .dataframe tbody tr th:only-of-type {\n",
              "        vertical-align: middle;\n",
              "    }\n",
              "\n",
              "    .dataframe tbody tr th {\n",
              "        vertical-align: top;\n",
              "    }\n",
              "\n",
              "    .dataframe thead tr th {\n",
              "        text-align: left;\n",
              "    }\n",
              "\n",
              "    .dataframe thead tr:last-of-type th {\n",
              "        text-align: right;\n",
              "    }\n",
              "</style>\n",
              "<table border=\"1\" class=\"dataframe\">\n",
              "  <thead>\n",
              "    <tr>\n",
              "      <th></th>\n",
              "      <th colspan=\"3\" halign=\"left\">total</th>\n",
              "    </tr>\n",
              "    <tr>\n",
              "      <th></th>\n",
              "      <th>sum</th>\n",
              "      <th>mean</th>\n",
              "      <th>count</th>\n",
              "    </tr>\n",
              "    <tr>\n",
              "      <th>gender</th>\n",
              "      <th></th>\n",
              "      <th></th>\n",
              "      <th></th>\n",
              "    </tr>\n",
              "  </thead>\n",
              "  <tbody>\n",
              "    <tr>\n",
              "      <th>female</th>\n",
              "      <td>114</td>\n",
              "      <td>22.800000</td>\n",
              "      <td>5</td>\n",
              "    </tr>\n",
              "    <tr>\n",
              "      <th>male</th>\n",
              "      <td>109</td>\n",
              "      <td>15.571429</td>\n",
              "      <td>7</td>\n",
              "    </tr>\n",
              "  </tbody>\n",
              "</table>\n",
              "</div>\n",
              "      <button class=\"colab-df-convert\" onclick=\"convertToInteractive('df-fa881a1f-8666-4b8d-998e-7e2b52ba527d')\"\n",
              "              title=\"Convert this dataframe to an interactive table.\"\n",
              "              style=\"display:none;\">\n",
              "        \n",
              "  <svg xmlns=\"http://www.w3.org/2000/svg\" height=\"24px\"viewBox=\"0 0 24 24\"\n",
              "       width=\"24px\">\n",
              "    <path d=\"M0 0h24v24H0V0z\" fill=\"none\"/>\n",
              "    <path d=\"M18.56 5.44l.94 2.06.94-2.06 2.06-.94-2.06-.94-.94-2.06-.94 2.06-2.06.94zm-11 1L8.5 8.5l.94-2.06 2.06-.94-2.06-.94L8.5 2.5l-.94 2.06-2.06.94zm10 10l.94 2.06.94-2.06 2.06-.94-2.06-.94-.94-2.06-.94 2.06-2.06.94z\"/><path d=\"M17.41 7.96l-1.37-1.37c-.4-.4-.92-.59-1.43-.59-.52 0-1.04.2-1.43.59L10.3 9.45l-7.72 7.72c-.78.78-.78 2.05 0 2.83L4 21.41c.39.39.9.59 1.41.59.51 0 1.02-.2 1.41-.59l7.78-7.78 2.81-2.81c.8-.78.8-2.07 0-2.86zM5.41 20L4 18.59l7.72-7.72 1.47 1.35L5.41 20z\"/>\n",
              "  </svg>\n",
              "      </button>\n",
              "      \n",
              "  <style>\n",
              "    .colab-df-container {\n",
              "      display:flex;\n",
              "      flex-wrap:wrap;\n",
              "      gap: 12px;\n",
              "    }\n",
              "\n",
              "    .colab-df-convert {\n",
              "      background-color: #E8F0FE;\n",
              "      border: none;\n",
              "      border-radius: 50%;\n",
              "      cursor: pointer;\n",
              "      display: none;\n",
              "      fill: #1967D2;\n",
              "      height: 32px;\n",
              "      padding: 0 0 0 0;\n",
              "      width: 32px;\n",
              "    }\n",
              "\n",
              "    .colab-df-convert:hover {\n",
              "      background-color: #E2EBFA;\n",
              "      box-shadow: 0px 1px 2px rgba(60, 64, 67, 0.3), 0px 1px 3px 1px rgba(60, 64, 67, 0.15);\n",
              "      fill: #174EA6;\n",
              "    }\n",
              "\n",
              "    [theme=dark] .colab-df-convert {\n",
              "      background-color: #3B4455;\n",
              "      fill: #D2E3FC;\n",
              "    }\n",
              "\n",
              "    [theme=dark] .colab-df-convert:hover {\n",
              "      background-color: #434B5C;\n",
              "      box-shadow: 0px 1px 3px 1px rgba(0, 0, 0, 0.15);\n",
              "      filter: drop-shadow(0px 1px 2px rgba(0, 0, 0, 0.3));\n",
              "      fill: #FFFFFF;\n",
              "    }\n",
              "  </style>\n",
              "\n",
              "      <script>\n",
              "        const buttonEl =\n",
              "          document.querySelector('#df-fa881a1f-8666-4b8d-998e-7e2b52ba527d button.colab-df-convert');\n",
              "        buttonEl.style.display =\n",
              "          google.colab.kernel.accessAllowed ? 'block' : 'none';\n",
              "\n",
              "        async function convertToInteractive(key) {\n",
              "          const element = document.querySelector('#df-fa881a1f-8666-4b8d-998e-7e2b52ba527d');\n",
              "          const dataTable =\n",
              "            await google.colab.kernel.invokeFunction('convertToInteractive',\n",
              "                                                     [key], {});\n",
              "          if (!dataTable) return;\n",
              "\n",
              "          const docLinkHtml = 'Like what you see? Visit the ' +\n",
              "            '<a target=\"_blank\" href=https://colab.research.google.com/notebooks/data_table.ipynb>data table notebook</a>'\n",
              "            + ' to learn more about interactive tables.';\n",
              "          element.innerHTML = '';\n",
              "          dataTable['output_type'] = 'display_data';\n",
              "          await google.colab.output.renderOutput(dataTable, element);\n",
              "          const docLink = document.createElement('div');\n",
              "          docLink.innerHTML = docLinkHtml;\n",
              "          element.appendChild(docLink);\n",
              "        }\n",
              "      </script>\n",
              "    </div>\n",
              "  </div>\n",
              "  "
            ]
          },
          "metadata": {},
          "execution_count": 9
        }
      ]
    },
    {
      "cell_type": "code",
      "source": [
        "# reset the index and rename the colums\n",
        "\n",
        "aggregated_data.reset_index(inplace=True)\n",
        "aggregated_data.columns = ['gender', 'sum', 'mean', 'count']\n",
        "aggregated_data"
      ],
      "metadata": {
        "id": "y7hP3L5PiE7h",
        "outputId": "2ea931be-fcb3-422e-ec86-bd951818499d",
        "colab": {
          "base_uri": "https://localhost:8080/",
          "height": 112
        }
      },
      "id": "y7hP3L5PiE7h",
      "execution_count": null,
      "outputs": [
        {
          "output_type": "execute_result",
          "data": {
            "text/plain": [
              "   gender  sum       mean  count\n",
              "0  female  114  22.800000      5\n",
              "1    male  109  15.571429      7"
            ],
            "text/html": [
              "\n",
              "  <div id=\"df-6bb2f11f-f657-4b41-8ea5-76b389e34a9f\">\n",
              "    <div class=\"colab-df-container\">\n",
              "      <div>\n",
              "<style scoped>\n",
              "    .dataframe tbody tr th:only-of-type {\n",
              "        vertical-align: middle;\n",
              "    }\n",
              "\n",
              "    .dataframe tbody tr th {\n",
              "        vertical-align: top;\n",
              "    }\n",
              "\n",
              "    .dataframe thead th {\n",
              "        text-align: right;\n",
              "    }\n",
              "</style>\n",
              "<table border=\"1\" class=\"dataframe\">\n",
              "  <thead>\n",
              "    <tr style=\"text-align: right;\">\n",
              "      <th></th>\n",
              "      <th>gender</th>\n",
              "      <th>sum</th>\n",
              "      <th>mean</th>\n",
              "      <th>count</th>\n",
              "    </tr>\n",
              "  </thead>\n",
              "  <tbody>\n",
              "    <tr>\n",
              "      <th>0</th>\n",
              "      <td>female</td>\n",
              "      <td>114</td>\n",
              "      <td>22.800000</td>\n",
              "      <td>5</td>\n",
              "    </tr>\n",
              "    <tr>\n",
              "      <th>1</th>\n",
              "      <td>male</td>\n",
              "      <td>109</td>\n",
              "      <td>15.571429</td>\n",
              "      <td>7</td>\n",
              "    </tr>\n",
              "  </tbody>\n",
              "</table>\n",
              "</div>\n",
              "      <button class=\"colab-df-convert\" onclick=\"convertToInteractive('df-6bb2f11f-f657-4b41-8ea5-76b389e34a9f')\"\n",
              "              title=\"Convert this dataframe to an interactive table.\"\n",
              "              style=\"display:none;\">\n",
              "        \n",
              "  <svg xmlns=\"http://www.w3.org/2000/svg\" height=\"24px\"viewBox=\"0 0 24 24\"\n",
              "       width=\"24px\">\n",
              "    <path d=\"M0 0h24v24H0V0z\" fill=\"none\"/>\n",
              "    <path d=\"M18.56 5.44l.94 2.06.94-2.06 2.06-.94-2.06-.94-.94-2.06-.94 2.06-2.06.94zm-11 1L8.5 8.5l.94-2.06 2.06-.94-2.06-.94L8.5 2.5l-.94 2.06-2.06.94zm10 10l.94 2.06.94-2.06 2.06-.94-2.06-.94-.94-2.06-.94 2.06-2.06.94z\"/><path d=\"M17.41 7.96l-1.37-1.37c-.4-.4-.92-.59-1.43-.59-.52 0-1.04.2-1.43.59L10.3 9.45l-7.72 7.72c-.78.78-.78 2.05 0 2.83L4 21.41c.39.39.9.59 1.41.59.51 0 1.02-.2 1.41-.59l7.78-7.78 2.81-2.81c.8-.78.8-2.07 0-2.86zM5.41 20L4 18.59l7.72-7.72 1.47 1.35L5.41 20z\"/>\n",
              "  </svg>\n",
              "      </button>\n",
              "      \n",
              "  <style>\n",
              "    .colab-df-container {\n",
              "      display:flex;\n",
              "      flex-wrap:wrap;\n",
              "      gap: 12px;\n",
              "    }\n",
              "\n",
              "    .colab-df-convert {\n",
              "      background-color: #E8F0FE;\n",
              "      border: none;\n",
              "      border-radius: 50%;\n",
              "      cursor: pointer;\n",
              "      display: none;\n",
              "      fill: #1967D2;\n",
              "      height: 32px;\n",
              "      padding: 0 0 0 0;\n",
              "      width: 32px;\n",
              "    }\n",
              "\n",
              "    .colab-df-convert:hover {\n",
              "      background-color: #E2EBFA;\n",
              "      box-shadow: 0px 1px 2px rgba(60, 64, 67, 0.3), 0px 1px 3px 1px rgba(60, 64, 67, 0.15);\n",
              "      fill: #174EA6;\n",
              "    }\n",
              "\n",
              "    [theme=dark] .colab-df-convert {\n",
              "      background-color: #3B4455;\n",
              "      fill: #D2E3FC;\n",
              "    }\n",
              "\n",
              "    [theme=dark] .colab-df-convert:hover {\n",
              "      background-color: #434B5C;\n",
              "      box-shadow: 0px 1px 3px 1px rgba(0, 0, 0, 0.15);\n",
              "      filter: drop-shadow(0px 1px 2px rgba(0, 0, 0, 0.3));\n",
              "      fill: #FFFFFF;\n",
              "    }\n",
              "  </style>\n",
              "\n",
              "      <script>\n",
              "        const buttonEl =\n",
              "          document.querySelector('#df-6bb2f11f-f657-4b41-8ea5-76b389e34a9f button.colab-df-convert');\n",
              "        buttonEl.style.display =\n",
              "          google.colab.kernel.accessAllowed ? 'block' : 'none';\n",
              "\n",
              "        async function convertToInteractive(key) {\n",
              "          const element = document.querySelector('#df-6bb2f11f-f657-4b41-8ea5-76b389e34a9f');\n",
              "          const dataTable =\n",
              "            await google.colab.kernel.invokeFunction('convertToInteractive',\n",
              "                                                     [key], {});\n",
              "          if (!dataTable) return;\n",
              "\n",
              "          const docLinkHtml = 'Like what you see? Visit the ' +\n",
              "            '<a target=\"_blank\" href=https://colab.research.google.com/notebooks/data_table.ipynb>data table notebook</a>'\n",
              "            + ' to learn more about interactive tables.';\n",
              "          element.innerHTML = '';\n",
              "          dataTable['output_type'] = 'display_data';\n",
              "          await google.colab.output.renderOutput(dataTable, element);\n",
              "          const docLink = document.createElement('div');\n",
              "          docLink.innerHTML = docLinkHtml;\n",
              "          element.appendChild(docLink);\n",
              "        }\n",
              "      </script>\n",
              "    </div>\n",
              "  </div>\n",
              "  "
            ]
          },
          "metadata": {},
          "execution_count": 10
        }
      ]
    },
    {
      "cell_type": "markdown",
      "id": "12ebb532-d944-4c77-abed-99caa25b7514",
      "metadata": {
        "tags": [],
        "id": "12ebb532-d944-4c77-abed-99caa25b7514"
      },
      "source": [
        "# Very Useful Pandas Functions for Everyday Data Analysis"
      ]
    },
    {
      "cell_type": "markdown",
      "id": "cf3b4459-453a-42bd-9d0e-c5f546b582b0",
      "metadata": {
        "tags": [],
        "id": "cf3b4459-453a-42bd-9d0e-c5f546b582b0"
      },
      "source": [
        "# Pandas `Str accessor`"
      ]
    },
    {
      "cell_type": "markdown",
      "id": "1d51d2a6-c9f3-452c-8422-e255e059711c",
      "metadata": {
        "id": "1d51d2a6-c9f3-452c-8422-e255e059711c"
      },
      "source": [
        "**Pandas** is a highly efficient library on textual data as well. The functions and methods under the `str accessor` provide flexible ways to filter rows based on strings."
      ]
    },
    {
      "cell_type": "markdown",
      "id": "2270adf1-9831-467e-a012-2eebcad2eb53",
      "metadata": {
        "id": "2270adf1-9831-467e-a012-2eebcad2eb53"
      },
      "source": [
        "Q1: Lets assume your manager needs empoyee names that the names start with the letter `J` or ends with letter `n`.\n",
        "\n",
        "Q2. Your manager asked you to bring all the employee names that contains the letter `m` and startswith the letter `J`.\n",
        "\n",
        "\n",
        "How do you filter the rows from the dataframe?\n"
      ]
    },
    {
      "cell_type": "markdown",
      "id": "bbf8dda4-e18f-452d-ae81-95f3fa68aeae",
      "metadata": {
        "id": "bbf8dda4-e18f-452d-ae81-95f3fa68aeae"
      },
      "source": [
        "Most commonly used `str accessors`\n",
        "1. `startswith()`\n",
        "2. `endswith()`\n",
        "3. `contains()`"
      ]
    },
    {
      "cell_type": "code",
      "execution_count": null,
      "id": "d8c43b6c-6104-4e1d-b617-30ccf05e1930",
      "metadata": {
        "id": "d8c43b6c-6104-4e1d-b617-30ccf05e1930",
        "outputId": "34f618ea-c70f-418c-f92c-f04de29e6096"
      },
      "outputs": [
        {
          "data": {
            "text/html": [
              "<div>\n",
              "<style scoped>\n",
              "    .dataframe tbody tr th:only-of-type {\n",
              "        vertical-align: middle;\n",
              "    }\n",
              "\n",
              "    .dataframe tbody tr th {\n",
              "        vertical-align: top;\n",
              "    }\n",
              "\n",
              "    .dataframe thead th {\n",
              "        text-align: right;\n",
              "    }\n",
              "</style>\n",
              "<table border=\"1\" class=\"dataframe\">\n",
              "  <thead>\n",
              "    <tr style=\"text-align: right;\">\n",
              "      <th></th>\n",
              "      <th>name</th>\n",
              "      <th>birth_date</th>\n",
              "      <th>country</th>\n",
              "    </tr>\n",
              "  </thead>\n",
              "  <tbody>\n",
              "    <tr>\n",
              "      <th>0</th>\n",
              "      <td>Spencer Carr</td>\n",
              "      <td>1937-12-16</td>\n",
              "      <td>South Africa</td>\n",
              "    </tr>\n",
              "    <tr>\n",
              "      <th>1</th>\n",
              "      <td>Gary Smith</td>\n",
              "      <td>2002-12-29</td>\n",
              "      <td>Bahrain</td>\n",
              "    </tr>\n",
              "    <tr>\n",
              "      <th>2</th>\n",
              "      <td>Jose Wilkinson</td>\n",
              "      <td>1989-05-14</td>\n",
              "      <td>Colombia</td>\n",
              "    </tr>\n",
              "    <tr>\n",
              "      <th>3</th>\n",
              "      <td>Robert Smith</td>\n",
              "      <td>2022-06-28</td>\n",
              "      <td>Saint Helena</td>\n",
              "    </tr>\n",
              "    <tr>\n",
              "      <th>4</th>\n",
              "      <td>Michelle Simmons</td>\n",
              "      <td>1993-02-10</td>\n",
              "      <td>Gibraltar</td>\n",
              "    </tr>\n",
              "    <tr>\n",
              "      <th>5</th>\n",
              "      <td>Kathy Martin</td>\n",
              "      <td>1983-08-05</td>\n",
              "      <td>Argentina</td>\n",
              "    </tr>\n",
              "    <tr>\n",
              "      <th>6</th>\n",
              "      <td>Carl Morgan</td>\n",
              "      <td>1993-12-26</td>\n",
              "      <td>Timor-Leste</td>\n",
              "    </tr>\n",
              "    <tr>\n",
              "      <th>7</th>\n",
              "      <td>Nicholas Woodard</td>\n",
              "      <td>1938-06-23</td>\n",
              "      <td>Armenia</td>\n",
              "    </tr>\n",
              "    <tr>\n",
              "      <th>8</th>\n",
              "      <td>Scott Atkins</td>\n",
              "      <td>1913-12-06</td>\n",
              "      <td>Moldova</td>\n",
              "    </tr>\n",
              "    <tr>\n",
              "      <th>9</th>\n",
              "      <td>Janet Pollard</td>\n",
              "      <td>1947-07-09</td>\n",
              "      <td>Ireland</td>\n",
              "    </tr>\n",
              "  </tbody>\n",
              "</table>\n",
              "</div>"
            ],
            "text/plain": [
              "               name  birth_date       country\n",
              "0      Spencer Carr  1937-12-16  South Africa\n",
              "1        Gary Smith  2002-12-29       Bahrain\n",
              "2    Jose Wilkinson  1989-05-14      Colombia\n",
              "3      Robert Smith  2022-06-28  Saint Helena\n",
              "4  Michelle Simmons  1993-02-10     Gibraltar\n",
              "5      Kathy Martin  1983-08-05     Argentina\n",
              "6       Carl Morgan  1993-12-26   Timor-Leste\n",
              "7  Nicholas Woodard  1938-06-23       Armenia\n",
              "8      Scott Atkins  1913-12-06       Moldova\n",
              "9     Janet Pollard  1947-07-09       Ireland"
            ]
          },
          "execution_count": 1,
          "metadata": {},
          "output_type": "execute_result"
        }
      ],
      "source": [
        "# import pandas\n",
        "import pandas as pd\n",
        "# read the data from csv\n",
        "df = pd.read_csv('person_info.csv')\n",
        "df"
      ]
    },
    {
      "cell_type": "markdown",
      "id": "38f04016-cac8-491f-a9e8-0dc474c3e0ea",
      "metadata": {
        "id": "38f04016-cac8-491f-a9e8-0dc474c3e0ea"
      },
      "source": [
        "Example 1:\n",
        "\n"
      ]
    },
    {
      "cell_type": "code",
      "execution_count": null,
      "id": "e64d1fa8-0b2e-44d3-9669-c3ef721a8d33",
      "metadata": {
        "id": "e64d1fa8-0b2e-44d3-9669-c3ef721a8d33",
        "outputId": "0fe952ee-9a40-4cd3-9cd5-8d9417422772"
      },
      "outputs": [
        {
          "data": {
            "text/html": [
              "<div>\n",
              "<style scoped>\n",
              "    .dataframe tbody tr th:only-of-type {\n",
              "        vertical-align: middle;\n",
              "    }\n",
              "\n",
              "    .dataframe tbody tr th {\n",
              "        vertical-align: top;\n",
              "    }\n",
              "\n",
              "    .dataframe thead th {\n",
              "        text-align: right;\n",
              "    }\n",
              "</style>\n",
              "<table border=\"1\" class=\"dataframe\">\n",
              "  <thead>\n",
              "    <tr style=\"text-align: right;\">\n",
              "      <th></th>\n",
              "      <th>name</th>\n",
              "      <th>birth_date</th>\n",
              "      <th>country</th>\n",
              "    </tr>\n",
              "  </thead>\n",
              "  <tbody>\n",
              "    <tr>\n",
              "      <th>2</th>\n",
              "      <td>Jose Wilkinson</td>\n",
              "      <td>1989-05-14</td>\n",
              "      <td>Colombia</td>\n",
              "    </tr>\n",
              "    <tr>\n",
              "      <th>5</th>\n",
              "      <td>Kathy Martin</td>\n",
              "      <td>1983-08-05</td>\n",
              "      <td>Argentina</td>\n",
              "    </tr>\n",
              "    <tr>\n",
              "      <th>6</th>\n",
              "      <td>Carl Morgan</td>\n",
              "      <td>1993-12-26</td>\n",
              "      <td>Timor-Leste</td>\n",
              "    </tr>\n",
              "    <tr>\n",
              "      <th>9</th>\n",
              "      <td>Janet Pollard</td>\n",
              "      <td>1947-07-09</td>\n",
              "      <td>Ireland</td>\n",
              "    </tr>\n",
              "  </tbody>\n",
              "</table>\n",
              "</div>"
            ],
            "text/plain": [
              "             name  birth_date      country\n",
              "2  Jose Wilkinson  1989-05-14     Colombia\n",
              "5    Kathy Martin  1983-08-05    Argentina\n",
              "6     Carl Morgan  1993-12-26  Timor-Leste\n",
              "9   Janet Pollard  1947-07-09      Ireland"
            ]
          },
          "execution_count": 2,
          "metadata": {},
          "output_type": "execute_result"
        }
      ],
      "source": [
        "df[df.name.str.startswith('J') | df.name.str.endswith('n')]"
      ]
    },
    {
      "cell_type": "markdown",
      "id": "a7b454a3-a59d-430c-bbef-f4d3ccc7bbb3",
      "metadata": {
        "id": "a7b454a3-a59d-430c-bbef-f4d3ccc7bbb3"
      },
      "source": [
        "The `contains()` function under the `str accessor` returns the values that contain a given set of characters."
      ]
    },
    {
      "cell_type": "markdown",
      "id": "c190bbc1-61ae-4bae-a85c-9a8ed998e891",
      "metadata": {
        "id": "c190bbc1-61ae-4bae-a85c-9a8ed998e891"
      },
      "source": [
        "Example 2:"
      ]
    },
    {
      "cell_type": "code",
      "execution_count": null,
      "id": "e5552fd4-f287-46b7-846b-0e65874bbd6a",
      "metadata": {
        "id": "e5552fd4-f287-46b7-846b-0e65874bbd6a",
        "outputId": "a3aa8279-b325-4b23-9d6b-ef503aed6a74"
      },
      "outputs": [
        {
          "data": {
            "text/html": [
              "<div>\n",
              "<style scoped>\n",
              "    .dataframe tbody tr th:only-of-type {\n",
              "        vertical-align: middle;\n",
              "    }\n",
              "\n",
              "    .dataframe tbody tr th {\n",
              "        vertical-align: top;\n",
              "    }\n",
              "\n",
              "    .dataframe thead th {\n",
              "        text-align: right;\n",
              "    }\n",
              "</style>\n",
              "<table border=\"1\" class=\"dataframe\">\n",
              "  <thead>\n",
              "    <tr style=\"text-align: right;\">\n",
              "      <th></th>\n",
              "      <th>name</th>\n",
              "      <th>birth_date</th>\n",
              "      <th>country</th>\n",
              "    </tr>\n",
              "  </thead>\n",
              "  <tbody>\n",
              "    <tr>\n",
              "      <th>0</th>\n",
              "      <td>Spencer Carr</td>\n",
              "      <td>1937-12-16</td>\n",
              "      <td>South Africa</td>\n",
              "    </tr>\n",
              "    <tr>\n",
              "      <th>2</th>\n",
              "      <td>Jose Wilkinson</td>\n",
              "      <td>1989-05-14</td>\n",
              "      <td>Colombia</td>\n",
              "    </tr>\n",
              "    <tr>\n",
              "      <th>4</th>\n",
              "      <td>Michelle Simmons</td>\n",
              "      <td>1993-02-10</td>\n",
              "      <td>Gibraltar</td>\n",
              "    </tr>\n",
              "    <tr>\n",
              "      <th>5</th>\n",
              "      <td>Kathy Martin</td>\n",
              "      <td>1983-08-05</td>\n",
              "      <td>Argentina</td>\n",
              "    </tr>\n",
              "    <tr>\n",
              "      <th>6</th>\n",
              "      <td>Carl Morgan</td>\n",
              "      <td>1993-12-26</td>\n",
              "      <td>Timor-Leste</td>\n",
              "    </tr>\n",
              "    <tr>\n",
              "      <th>8</th>\n",
              "      <td>Scott Atkins</td>\n",
              "      <td>1913-12-06</td>\n",
              "      <td>Moldova</td>\n",
              "    </tr>\n",
              "    <tr>\n",
              "      <th>9</th>\n",
              "      <td>Janet Pollard</td>\n",
              "      <td>1947-07-09</td>\n",
              "      <td>Ireland</td>\n",
              "    </tr>\n",
              "  </tbody>\n",
              "</table>\n",
              "</div>"
            ],
            "text/plain": [
              "               name  birth_date       country\n",
              "0      Spencer Carr  1937-12-16  South Africa\n",
              "2    Jose Wilkinson  1989-05-14      Colombia\n",
              "4  Michelle Simmons  1993-02-10     Gibraltar\n",
              "5      Kathy Martin  1983-08-05     Argentina\n",
              "6       Carl Morgan  1993-12-26   Timor-Leste\n",
              "8      Scott Atkins  1913-12-06       Moldova\n",
              "9     Janet Pollard  1947-07-09       Ireland"
            ]
          },
          "execution_count": 4,
          "metadata": {},
          "output_type": "execute_result"
        }
      ],
      "source": [
        "df[df.name.str.contains('n') | df.name.str.startswith('J')]"
      ]
    },
    {
      "cell_type": "markdown",
      "id": "1ad2360f-f834-4ed2-b1a9-a26e7e94890b",
      "metadata": {
        "id": "1ad2360f-f834-4ed2-b1a9-a26e7e94890b"
      },
      "source": [
        "## Pandas Top Functions to Filtering Rows"
      ]
    },
    {
      "cell_type": "markdown",
      "id": "9e6eccb7-c31f-4111-b368-3064dc7d6c92",
      "metadata": {
        "id": "9e6eccb7-c31f-4111-b368-3064dc7d6c92"
      },
      "source": [
        "### 1. Logical Operator\n",
        "\n",
        "- You can use the logical operators on column values to filter rows."
      ]
    },
    {
      "cell_type": "code",
      "execution_count": null,
      "id": "017282de-d789-497b-94af-933ea7a5cf05",
      "metadata": {
        "id": "017282de-d789-497b-94af-933ea7a5cf05",
        "outputId": "7fc07eda-c204-4b5b-b818-74cf63cc409d"
      },
      "outputs": [
        {
          "data": {
            "text/html": [
              "<div>\n",
              "<style scoped>\n",
              "    .dataframe tbody tr th:only-of-type {\n",
              "        vertical-align: middle;\n",
              "    }\n",
              "\n",
              "    .dataframe tbody tr th {\n",
              "        vertical-align: top;\n",
              "    }\n",
              "\n",
              "    .dataframe thead th {\n",
              "        text-align: right;\n",
              "    }\n",
              "</style>\n",
              "<table border=\"1\" class=\"dataframe\">\n",
              "  <thead>\n",
              "    <tr style=\"text-align: right;\">\n",
              "      <th></th>\n",
              "      <th>name</th>\n",
              "      <th>birth_date</th>\n",
              "      <th>country</th>\n",
              "    </tr>\n",
              "  </thead>\n",
              "  <tbody>\n",
              "    <tr>\n",
              "      <th>0</th>\n",
              "      <td>Spencer Carr</td>\n",
              "      <td>1937-12-16</td>\n",
              "      <td>South Africa</td>\n",
              "    </tr>\n",
              "    <tr>\n",
              "      <th>1</th>\n",
              "      <td>Gary Smith</td>\n",
              "      <td>2002-12-29</td>\n",
              "      <td>Bahrain</td>\n",
              "    </tr>\n",
              "    <tr>\n",
              "      <th>2</th>\n",
              "      <td>Jose Wilkinson</td>\n",
              "      <td>1989-05-14</td>\n",
              "      <td>Colombia</td>\n",
              "    </tr>\n",
              "    <tr>\n",
              "      <th>3</th>\n",
              "      <td>Robert Smith</td>\n",
              "      <td>2022-06-28</td>\n",
              "      <td>Saint Helena</td>\n",
              "    </tr>\n",
              "    <tr>\n",
              "      <th>4</th>\n",
              "      <td>Michelle Simmons</td>\n",
              "      <td>1993-02-10</td>\n",
              "      <td>Gibraltar</td>\n",
              "    </tr>\n",
              "    <tr>\n",
              "      <th>5</th>\n",
              "      <td>Kathy Martin</td>\n",
              "      <td>1983-08-05</td>\n",
              "      <td>Argentina</td>\n",
              "    </tr>\n",
              "    <tr>\n",
              "      <th>6</th>\n",
              "      <td>Carl Morgan</td>\n",
              "      <td>1993-12-26</td>\n",
              "      <td>Timor-Leste</td>\n",
              "    </tr>\n",
              "    <tr>\n",
              "      <th>7</th>\n",
              "      <td>Nicholas Woodard</td>\n",
              "      <td>1938-06-23</td>\n",
              "      <td>Armenia</td>\n",
              "    </tr>\n",
              "    <tr>\n",
              "      <th>8</th>\n",
              "      <td>Scott Atkins</td>\n",
              "      <td>1913-12-06</td>\n",
              "      <td>Moldova</td>\n",
              "    </tr>\n",
              "    <tr>\n",
              "      <th>9</th>\n",
              "      <td>Janet Pollard</td>\n",
              "      <td>1947-07-09</td>\n",
              "      <td>Ireland</td>\n",
              "    </tr>\n",
              "  </tbody>\n",
              "</table>\n",
              "</div>"
            ],
            "text/plain": [
              "               name  birth_date       country\n",
              "0      Spencer Carr  1937-12-16  South Africa\n",
              "1        Gary Smith  2002-12-29       Bahrain\n",
              "2    Jose Wilkinson  1989-05-14      Colombia\n",
              "3      Robert Smith  2022-06-28  Saint Helena\n",
              "4  Michelle Simmons  1993-02-10     Gibraltar\n",
              "5      Kathy Martin  1983-08-05     Argentina\n",
              "6       Carl Morgan  1993-12-26   Timor-Leste\n",
              "7  Nicholas Woodard  1938-06-23       Armenia\n",
              "8      Scott Atkins  1913-12-06       Moldova\n",
              "9     Janet Pollard  1947-07-09       Ireland"
            ]
          },
          "execution_count": 1,
          "metadata": {},
          "output_type": "execute_result"
        }
      ],
      "source": [
        "# import pandas\n",
        "import pandas as pd\n",
        "# read the data from csv\n",
        "df = pd.read_csv('person_info.csv')\n",
        "df"
      ]
    },
    {
      "cell_type": "markdown",
      "id": "d2bc9f58-e0ca-4b98-8237-563f83e1a23a",
      "metadata": {
        "id": "d2bc9f58-e0ca-4b98-8237-563f83e1a23a"
      },
      "source": [
        "Fore instance, you can filter the `birht_date >= 1983-01-02`"
      ]
    },
    {
      "cell_type": "code",
      "execution_count": null,
      "id": "cac04b04-0399-4286-aee8-d753c308e14f",
      "metadata": {
        "id": "cac04b04-0399-4286-aee8-d753c308e14f",
        "outputId": "9fac7065-dfec-43fb-fad1-e7cc86602e3b"
      },
      "outputs": [
        {
          "data": {
            "text/html": [
              "<div>\n",
              "<style scoped>\n",
              "    .dataframe tbody tr th:only-of-type {\n",
              "        vertical-align: middle;\n",
              "    }\n",
              "\n",
              "    .dataframe tbody tr th {\n",
              "        vertical-align: top;\n",
              "    }\n",
              "\n",
              "    .dataframe thead th {\n",
              "        text-align: right;\n",
              "    }\n",
              "</style>\n",
              "<table border=\"1\" class=\"dataframe\">\n",
              "  <thead>\n",
              "    <tr style=\"text-align: right;\">\n",
              "      <th></th>\n",
              "      <th>name</th>\n",
              "      <th>birth_date</th>\n",
              "      <th>country</th>\n",
              "    </tr>\n",
              "  </thead>\n",
              "  <tbody>\n",
              "    <tr>\n",
              "      <th>1</th>\n",
              "      <td>Gary Smith</td>\n",
              "      <td>2002-12-29</td>\n",
              "      <td>Bahrain</td>\n",
              "    </tr>\n",
              "    <tr>\n",
              "      <th>2</th>\n",
              "      <td>Jose Wilkinson</td>\n",
              "      <td>1989-05-14</td>\n",
              "      <td>Colombia</td>\n",
              "    </tr>\n",
              "    <tr>\n",
              "      <th>3</th>\n",
              "      <td>Robert Smith</td>\n",
              "      <td>2022-06-28</td>\n",
              "      <td>Saint Helena</td>\n",
              "    </tr>\n",
              "    <tr>\n",
              "      <th>4</th>\n",
              "      <td>Michelle Simmons</td>\n",
              "      <td>1993-02-10</td>\n",
              "      <td>Gibraltar</td>\n",
              "    </tr>\n",
              "    <tr>\n",
              "      <th>5</th>\n",
              "      <td>Kathy Martin</td>\n",
              "      <td>1983-08-05</td>\n",
              "      <td>Argentina</td>\n",
              "    </tr>\n",
              "    <tr>\n",
              "      <th>6</th>\n",
              "      <td>Carl Morgan</td>\n",
              "      <td>1993-12-26</td>\n",
              "      <td>Timor-Leste</td>\n",
              "    </tr>\n",
              "  </tbody>\n",
              "</table>\n",
              "</div>"
            ],
            "text/plain": [
              "               name  birth_date       country\n",
              "1        Gary Smith  2002-12-29       Bahrain\n",
              "2    Jose Wilkinson  1989-05-14      Colombia\n",
              "3      Robert Smith  2022-06-28  Saint Helena\n",
              "4  Michelle Simmons  1993-02-10     Gibraltar\n",
              "5      Kathy Martin  1983-08-05     Argentina\n",
              "6       Carl Morgan  1993-12-26   Timor-Leste"
            ]
          },
          "execution_count": 2,
          "metadata": {},
          "output_type": "execute_result"
        }
      ],
      "source": [
        "df[df.birth_date >= '1983-01-02']"
      ]
    },
    {
      "cell_type": "markdown",
      "id": "aeb5bf7e-e018-420a-b2bb-9bee56c83a8c",
      "metadata": {
        "id": "aeb5bf7e-e018-420a-b2bb-9bee56c83a8c"
      },
      "source": [
        "Only the `birth_date` that greater than the given date is filtered."
      ]
    },
    {
      "cell_type": "markdown",
      "id": "029b043b-d9e5-4676-a911-8b778c6608b8",
      "metadata": {
        "id": "029b043b-d9e5-4676-a911-8b778c6608b8"
      },
      "source": [
        "### 2. Multiple logical operators\n",
        "- Pandas allows for combining multiple logical operators. \n",
        "\n",
        "\n",
        "For instance, you can apply conditions on both `name` and `birth_date` columns as below."
      ]
    },
    {
      "cell_type": "code",
      "execution_count": null,
      "id": "47d74902-caa8-470e-8edd-3679fb855c63",
      "metadata": {
        "id": "47d74902-caa8-470e-8edd-3679fb855c63",
        "outputId": "28dee545-0db6-4f69-9380-6de2f9138fc0"
      },
      "outputs": [
        {
          "data": {
            "text/html": [
              "<div>\n",
              "<style scoped>\n",
              "    .dataframe tbody tr th:only-of-type {\n",
              "        vertical-align: middle;\n",
              "    }\n",
              "\n",
              "    .dataframe tbody tr th {\n",
              "        vertical-align: top;\n",
              "    }\n",
              "\n",
              "    .dataframe thead th {\n",
              "        text-align: right;\n",
              "    }\n",
              "</style>\n",
              "<table border=\"1\" class=\"dataframe\">\n",
              "  <thead>\n",
              "    <tr style=\"text-align: right;\">\n",
              "      <th></th>\n",
              "      <th>name</th>\n",
              "      <th>birth_date</th>\n",
              "      <th>country</th>\n",
              "    </tr>\n",
              "  </thead>\n",
              "  <tbody>\n",
              "    <tr>\n",
              "      <th>2</th>\n",
              "      <td>Jose Wilkinson</td>\n",
              "      <td>1989-05-14</td>\n",
              "      <td>Colombia</td>\n",
              "    </tr>\n",
              "    <tr>\n",
              "      <th>3</th>\n",
              "      <td>Robert Smith</td>\n",
              "      <td>2022-06-28</td>\n",
              "      <td>Saint Helena</td>\n",
              "    </tr>\n",
              "    <tr>\n",
              "      <th>4</th>\n",
              "      <td>Michelle Simmons</td>\n",
              "      <td>1993-02-10</td>\n",
              "      <td>Gibraltar</td>\n",
              "    </tr>\n",
              "    <tr>\n",
              "      <th>5</th>\n",
              "      <td>Kathy Martin</td>\n",
              "      <td>1983-08-05</td>\n",
              "      <td>Argentina</td>\n",
              "    </tr>\n",
              "  </tbody>\n",
              "</table>\n",
              "</div>"
            ],
            "text/plain": [
              "               name  birth_date       country\n",
              "2    Jose Wilkinson  1989-05-14      Colombia\n",
              "3      Robert Smith  2022-06-28  Saint Helena\n",
              "4  Michelle Simmons  1993-02-10     Gibraltar\n",
              "5      Kathy Martin  1983-08-05     Argentina"
            ]
          },
          "execution_count": 3,
          "metadata": {},
          "output_type": "execute_result"
        }
      ],
      "source": [
        "df[(df.name > 'John') & (df.birth_date >= '1983-01-02')]"
      ]
    },
    {
      "cell_type": "markdown",
      "id": "985f6fe6-66ec-4a06-b151-342af5bb77e0",
      "metadata": {
        "id": "985f6fe6-66ec-4a06-b151-342af5bb77e0"
      },
      "source": [
        "Only the name come after 'John' and birth_date that greater than the given date is filtered."
      ]
    },
    {
      "cell_type": "markdown",
      "id": "1aa77561-cfe9-42c5-9ef5-99c5c9e3a66a",
      "metadata": {
        "id": "1aa77561-cfe9-42c5-9ef5-99c5c9e3a66a"
      },
      "source": [
        "### 3. `isin()` method is the way of applying multiple condition for filtering. \n",
        "\n",
        "- For instance, you can filter the names that exist in a given list."
      ]
    },
    {
      "cell_type": "code",
      "execution_count": null,
      "id": "76051e57-3b11-4517-8b7a-1ec1c1353453",
      "metadata": {
        "id": "76051e57-3b11-4517-8b7a-1ec1c1353453",
        "outputId": "ebf3dc79-0290-4af6-99fd-8f5bda15c084"
      },
      "outputs": [
        {
          "data": {
            "text/html": [
              "<div>\n",
              "<style scoped>\n",
              "    .dataframe tbody tr th:only-of-type {\n",
              "        vertical-align: middle;\n",
              "    }\n",
              "\n",
              "    .dataframe tbody tr th {\n",
              "        vertical-align: top;\n",
              "    }\n",
              "\n",
              "    .dataframe thead th {\n",
              "        text-align: right;\n",
              "    }\n",
              "</style>\n",
              "<table border=\"1\" class=\"dataframe\">\n",
              "  <thead>\n",
              "    <tr style=\"text-align: right;\">\n",
              "      <th></th>\n",
              "      <th>name</th>\n",
              "      <th>birth_date</th>\n",
              "      <th>country</th>\n",
              "    </tr>\n",
              "  </thead>\n",
              "  <tbody>\n",
              "    <tr>\n",
              "      <th>5</th>\n",
              "      <td>Kathy Martin</td>\n",
              "      <td>1983-08-05</td>\n",
              "      <td>Argentina</td>\n",
              "    </tr>\n",
              "    <tr>\n",
              "      <th>6</th>\n",
              "      <td>Carl Morgan</td>\n",
              "      <td>1993-12-26</td>\n",
              "      <td>Timor-Leste</td>\n",
              "    </tr>\n",
              "    <tr>\n",
              "      <th>8</th>\n",
              "      <td>Scott Atkins</td>\n",
              "      <td>1913-12-06</td>\n",
              "      <td>Moldova</td>\n",
              "    </tr>\n",
              "  </tbody>\n",
              "</table>\n",
              "</div>"
            ],
            "text/plain": [
              "           name  birth_date      country\n",
              "5  Kathy Martin  1983-08-05    Argentina\n",
              "6   Carl Morgan  1993-12-26  Timor-Leste\n",
              "8  Scott Atkins  1913-12-06      Moldova"
            ]
          },
          "execution_count": 4,
          "metadata": {},
          "output_type": "execute_result"
        }
      ],
      "source": [
        "name_lists = ['Carl Morgan', 'Kathy Martin', 'Scott Atkins']\n",
        "\n",
        "# filtering the rows that the name exists in the given lists\n",
        "df[df.name.isin(name_lists)]\n"
      ]
    },
    {
      "cell_type": "markdown",
      "id": "cc85aa6b-4a79-45fa-8fab-cc03bd5d07e2",
      "metadata": {
        "id": "cc85aa6b-4a79-45fa-8fab-cc03bd5d07e2"
      },
      "source": [
        "### 4. The `query()` function offers a little more flexibility at writing the conditions for filtering. \n",
        "\n",
        "- You~df['name'].isin(name_list can pass the conditions as a string."
      ]
    },
    {
      "cell_type": "markdown",
      "id": "08b980c8-39ea-46f1-8544-fd5e06f20f6b",
      "metadata": {
        "id": "08b980c8-39ea-46f1-8544-fd5e06f20f6b"
      },
      "source": [
        "For instance, the following code returns the rows that belong to the birth_date between `1983-01-01` and `2022-01-01`"
      ]
    },
    {
      "cell_type": "code",
      "execution_count": null,
      "id": "2c4cc706-ac3e-497c-9594-089c1c5f3390",
      "metadata": {
        "id": "2c4cc706-ac3e-497c-9594-089c1c5f3390",
        "outputId": "2837bb1b-50f0-4708-da11-e4918d9b73c1"
      },
      "outputs": [
        {
          "data": {
            "text/html": [
              "<div>\n",
              "<style scoped>\n",
              "    .dataframe tbody tr th:only-of-type {\n",
              "        vertical-align: middle;\n",
              "    }\n",
              "\n",
              "    .dataframe tbody tr th {\n",
              "        vertical-align: top;\n",
              "    }\n",
              "\n",
              "    .dataframe thead th {\n",
              "        text-align: right;\n",
              "    }\n",
              "</style>\n",
              "<table border=\"1\" class=\"dataframe\">\n",
              "  <thead>\n",
              "    <tr style=\"text-align: right;\">\n",
              "      <th></th>\n",
              "      <th>name</th>\n",
              "      <th>birth_date</th>\n",
              "      <th>country</th>\n",
              "    </tr>\n",
              "  </thead>\n",
              "  <tbody>\n",
              "    <tr>\n",
              "      <th>1</th>\n",
              "      <td>Gary Smith</td>\n",
              "      <td>2002-12-29</td>\n",
              "      <td>Bahrain</td>\n",
              "    </tr>\n",
              "    <tr>\n",
              "      <th>2</th>\n",
              "      <td>Jose Wilkinson</td>\n",
              "      <td>1989-05-14</td>\n",
              "      <td>Colombia</td>\n",
              "    </tr>\n",
              "    <tr>\n",
              "      <th>4</th>\n",
              "      <td>Michelle Simmons</td>\n",
              "      <td>1993-02-10</td>\n",
              "      <td>Gibraltar</td>\n",
              "    </tr>\n",
              "    <tr>\n",
              "      <th>5</th>\n",
              "      <td>Kathy Martin</td>\n",
              "      <td>1983-08-05</td>\n",
              "      <td>Argentina</td>\n",
              "    </tr>\n",
              "    <tr>\n",
              "      <th>6</th>\n",
              "      <td>Carl Morgan</td>\n",
              "      <td>1993-12-26</td>\n",
              "      <td>Timor-Leste</td>\n",
              "    </tr>\n",
              "  </tbody>\n",
              "</table>\n",
              "</div>"
            ],
            "text/plain": [
              "               name  birth_date      country\n",
              "1        Gary Smith  2002-12-29      Bahrain\n",
              "2    Jose Wilkinson  1989-05-14     Colombia\n",
              "4  Michelle Simmons  1993-02-10    Gibraltar\n",
              "5      Kathy Martin  1983-08-05    Argentina\n",
              "6       Carl Morgan  1993-12-26  Timor-Leste"
            ]
          },
          "execution_count": 5,
          "metadata": {},
          "output_type": "execute_result"
        }
      ],
      "source": [
        "df.query('birth_date > \"1983-01-01\" and birth_date < \"2022-01-01\"')"
      ]
    },
    {
      "cell_type": "markdown",
      "id": "f6b4c671-bb9f-4bdf-af53-6e91d4bb7bc4",
      "metadata": {
        "id": "f6b4c671-bb9f-4bdf-af53-6e91d4bb7bc4"
      },
      "source": [
        "### 5. `tidle(~)`\n",
        "\n",
        "- The tilde operator is used for `not` logic in filtering.\n",
        "\n",
        "- If you add the tilde operator before the filter expression, the rows that do not fit the condition are returned."
      ]
    },
    {
      "cell_type": "code",
      "execution_count": null,
      "id": "385d756c-507a-4d1f-9cf0-ab5fc525c3cd",
      "metadata": {
        "id": "385d756c-507a-4d1f-9cf0-ab5fc525c3cd",
        "outputId": "44f379a8-d970-44ed-f7e4-5111c52d81ee"
      },
      "outputs": [
        {
          "data": {
            "text/html": [
              "<div>\n",
              "<style scoped>\n",
              "    .dataframe tbody tr th:only-of-type {\n",
              "        vertical-align: middle;\n",
              "    }\n",
              "\n",
              "    .dataframe tbody tr th {\n",
              "        vertical-align: top;\n",
              "    }\n",
              "\n",
              "    .dataframe thead th {\n",
              "        text-align: right;\n",
              "    }\n",
              "</style>\n",
              "<table border=\"1\" class=\"dataframe\">\n",
              "  <thead>\n",
              "    <tr style=\"text-align: right;\">\n",
              "      <th></th>\n",
              "      <th>name</th>\n",
              "      <th>birth_date</th>\n",
              "      <th>country</th>\n",
              "    </tr>\n",
              "  </thead>\n",
              "  <tbody>\n",
              "    <tr>\n",
              "      <th>0</th>\n",
              "      <td>Spencer Carr</td>\n",
              "      <td>1937-12-16</td>\n",
              "      <td>South Africa</td>\n",
              "    </tr>\n",
              "    <tr>\n",
              "      <th>1</th>\n",
              "      <td>Gary Smith</td>\n",
              "      <td>2002-12-29</td>\n",
              "      <td>Bahrain</td>\n",
              "    </tr>\n",
              "    <tr>\n",
              "      <th>2</th>\n",
              "      <td>Jose Wilkinson</td>\n",
              "      <td>1989-05-14</td>\n",
              "      <td>Colombia</td>\n",
              "    </tr>\n",
              "    <tr>\n",
              "      <th>3</th>\n",
              "      <td>Robert Smith</td>\n",
              "      <td>2022-06-28</td>\n",
              "      <td>Saint Helena</td>\n",
              "    </tr>\n",
              "    <tr>\n",
              "      <th>4</th>\n",
              "      <td>Michelle Simmons</td>\n",
              "      <td>1993-02-10</td>\n",
              "      <td>Gibraltar</td>\n",
              "    </tr>\n",
              "    <tr>\n",
              "      <th>7</th>\n",
              "      <td>Nicholas Woodard</td>\n",
              "      <td>1938-06-23</td>\n",
              "      <td>Armenia</td>\n",
              "    </tr>\n",
              "    <tr>\n",
              "      <th>9</th>\n",
              "      <td>Janet Pollard</td>\n",
              "      <td>1947-07-09</td>\n",
              "      <td>Ireland</td>\n",
              "    </tr>\n",
              "  </tbody>\n",
              "</table>\n",
              "</div>"
            ],
            "text/plain": [
              "               name  birth_date       country\n",
              "0      Spencer Carr  1937-12-16  South Africa\n",
              "1        Gary Smith  2002-12-29       Bahrain\n",
              "2    Jose Wilkinson  1989-05-14      Colombia\n",
              "3      Robert Smith  2022-06-28  Saint Helena\n",
              "4  Michelle Simmons  1993-02-10     Gibraltar\n",
              "7  Nicholas Woodard  1938-06-23       Armenia\n",
              "9     Janet Pollard  1947-07-09       Ireland"
            ]
          },
          "execution_count": 6,
          "metadata": {},
          "output_type": "execute_result"
        }
      ],
      "source": [
        "# example\n",
        "df[~df['name'].isin(name_lists)]"
      ]
    },
    {
      "cell_type": "markdown",
      "id": "b619151e-110c-40a3-a302-b54c11fb5de5",
      "metadata": {
        "id": "b619151e-110c-40a3-a302-b54c11fb5de5"
      },
      "source": [
        "### 5. `Nlargest or nsmallest - in some cases you do not have a specific range for filtering but just need the largest and smallest values\n",
        "\n",
        " - `nsmallest` and `nlargest` allows you to filtering rows that have the smalest values or largest values in a column respectively. \n"
      ]
    },
    {
      "cell_type": "code",
      "execution_count": null,
      "id": "53f94540-e6d2-4ae6-9bec-da8c5391cd44",
      "metadata": {
        "id": "53f94540-e6d2-4ae6-9bec-da8c5391cd44"
      },
      "outputs": [],
      "source": []
    },
    {
      "cell_type": "markdown",
      "id": "3536c61a-1423-4c07-b33b-28b26ea33754",
      "metadata": {
        "id": "3536c61a-1423-4c07-b33b-28b26ea33754"
      },
      "source": [
        "### Pandas DataFrame `mask()` vs `where()` Method"
      ]
    },
    {
      "cell_type": "markdown",
      "id": "476f9855-a696-45e0-8645-5e396223e206",
      "metadata": {
        "id": "476f9855-a696-45e0-8645-5e396223e206"
      },
      "source": [
        "The `mask()` method is an application of the `if-then` idiom. \n"
      ]
    },
    {
      "cell_type": "markdown",
      "id": "ea0a9013-507a-4abc-b89f-dc3b3534525d",
      "metadata": {
        "id": "ea0a9013-507a-4abc-b89f-dc3b3534525d"
      },
      "source": [
        "`DataFrame.mask(cond, other=nan, inplace=False, axis=None, level=None, errors='raise', try_cast=NoDefault.no_default)`"
      ]
    },
    {
      "cell_type": "markdown",
      "id": "e9f5850e-7a13-47b4-b881-8e27d95f64ff",
      "metadata": {
        "id": "e9f5850e-7a13-47b4-b881-8e27d95f64ff"
      },
      "source": [
        "- For each element in the calling DataFrame, if `cond` is False the element is used; \n",
        "  otherwise the corresponding element from the DataFrame other is used."
      ]
    },
    {
      "cell_type": "markdown",
      "id": "feaba548-1232-4487-9c82-fc89bd863d73",
      "metadata": {
        "id": "feaba548-1232-4487-9c82-fc89bd863d73"
      },
      "source": [
        "### `where()` in Pandas\n",
        "\n",
        "Pandas `where()` method is used to check a DataFrame for one or more condition and return the result accordingly. \n",
        "\n",
        "- By default, the rows not satisfying the condition are filled with `NaN` value. \n",
        "\n"
      ]
    },
    {
      "cell_type": "markdown",
      "id": "d61511f4-1097-4685-9fd0-826a36005883",
      "metadata": {
        "id": "d61511f4-1097-4685-9fd0-826a36005883"
      },
      "source": [
        "`DataFrame.where(cond, other=NoDefault.no_default, inplace=False, axis=None, level=None, errors='raise', try_cast=NoDefault.no_default)`"
      ]
    },
    {
      "cell_type": "markdown",
      "id": "035e5e97-4310-4386-b21f-f75cf085b882",
      "metadata": {
        "id": "035e5e97-4310-4386-b21f-f75cf085b882"
      },
      "source": [
        "Example: Filter the data where age is greater than 30"
      ]
    },
    {
      "cell_type": "code",
      "execution_count": null,
      "id": "55030443-dd53-49ad-a27e-70b8d14c02bf",
      "metadata": {
        "id": "55030443-dd53-49ad-a27e-70b8d14c02bf"
      },
      "outputs": [],
      "source": [
        "import pandas as pd\n",
        "\n",
        "data = {\n",
        "  \"age\": [50, 40, 30, 40, 20, 10, 30],\n",
        "  \"qualified\": [True, False, False, False, False, True, True]\n",
        "}\n",
        "df = pd.DataFrame(data)\n",
        "df"
      ]
    },
    {
      "cell_type": "code",
      "execution_count": null,
      "id": "0b1d5a20-ca1f-4036-8a9b-3242875c4393",
      "metadata": {
        "id": "0b1d5a20-ca1f-4036-8a9b-3242875c4393"
      },
      "outputs": [],
      "source": [
        "new_mask = df.mask(df['age'] > 30, axis=0)\n",
        "new_mask"
      ]
    },
    {
      "cell_type": "code",
      "execution_count": null,
      "id": "5c81fee8-ce99-4d63-9139-395f29345123",
      "metadata": {
        "id": "5c81fee8-ce99-4d63-9139-395f29345123"
      },
      "outputs": [],
      "source": [
        "df_where = df.where(df['age']>30, axis=0)\n",
        "df_where.dropna()"
      ]
    },
    {
      "cell_type": "markdown",
      "id": "761b5036-693a-4fab-86c1-e8bb65bcd11a",
      "metadata": {
        "id": "761b5036-693a-4fab-86c1-e8bb65bcd11a"
      },
      "source": [
        " ## `pivot()` vs `pivot_table()`"
      ]
    },
    {
      "cell_type": "markdown",
      "id": "1eab3a5d-4280-4d6b-9451-fe4174ff6e93",
      "metadata": {
        "id": "1eab3a5d-4280-4d6b-9451-fe4174ff6e93"
      },
      "source": [
        "What is `pivot()` function?\n",
        "\n",
        "- is used to reshaped a given DataFrame organized by given index / column values. "
      ]
    },
    {
      "cell_type": "markdown",
      "id": "8dd26d65-ba07-420b-afc5-3772374c8410",
      "metadata": {
        "id": "8dd26d65-ba07-420b-afc5-3772374c8410"
      },
      "source": [
        "syntax:\n",
        "`pandas.pivot(data, index=None, columns=None, values=None)`"
      ]
    },
    {
      "cell_type": "markdown",
      "id": "ed5d4d46-56df-4b08-a847-9840e48bd39b",
      "metadata": {
        "id": "ed5d4d46-56df-4b08-a847-9840e48bd39b"
      },
      "source": [
        "Example: "
      ]
    },
    {
      "cell_type": "code",
      "execution_count": null,
      "id": "67e93f4a-a84c-4753-a09d-3491d3fd1a60",
      "metadata": {
        "tags": [],
        "id": "67e93f4a-a84c-4753-a09d-3491d3fd1a60",
        "outputId": "679cdac5-5a83-46d0-b277-1bd4e1259f9d"
      },
      "outputs": [
        {
          "data": {
            "text/html": [
              "<div>\n",
              "<style scoped>\n",
              "    .dataframe tbody tr th:only-of-type {\n",
              "        vertical-align: middle;\n",
              "    }\n",
              "\n",
              "    .dataframe tbody tr th {\n",
              "        vertical-align: top;\n",
              "    }\n",
              "\n",
              "    .dataframe thead th {\n",
              "        text-align: right;\n",
              "    }\n",
              "</style>\n",
              "<table border=\"1\" class=\"dataframe\">\n",
              "  <thead>\n",
              "    <tr style=\"text-align: right;\">\n",
              "      <th></th>\n",
              "      <th>Item</th>\n",
              "      <th>CType</th>\n",
              "      <th>USD</th>\n",
              "      <th>EU</th>\n",
              "    </tr>\n",
              "  </thead>\n",
              "  <tbody>\n",
              "    <tr>\n",
              "      <th>0</th>\n",
              "      <td>Item0</td>\n",
              "      <td>Gold</td>\n",
              "      <td>1</td>\n",
              "      <td>1.1</td>\n",
              "    </tr>\n",
              "    <tr>\n",
              "      <th>1</th>\n",
              "      <td>Item0</td>\n",
              "      <td>Bronze</td>\n",
              "      <td>2</td>\n",
              "      <td>2.2</td>\n",
              "    </tr>\n",
              "    <tr>\n",
              "      <th>2</th>\n",
              "      <td>Item1</td>\n",
              "      <td>Gold</td>\n",
              "      <td>3</td>\n",
              "      <td>3.3</td>\n",
              "    </tr>\n",
              "    <tr>\n",
              "      <th>3</th>\n",
              "      <td>Item1</td>\n",
              "      <td>Silver</td>\n",
              "      <td>4</td>\n",
              "      <td>4.4</td>\n",
              "    </tr>\n",
              "  </tbody>\n",
              "</table>\n",
              "</div>"
            ],
            "text/plain": [
              "    Item   CType  USD   EU\n",
              "0  Item0    Gold    1  1.1\n",
              "1  Item0  Bronze    2  2.2\n",
              "2  Item1    Gold    3  3.3\n",
              "3  Item1  Silver    4  4.4"
            ]
          },
          "execution_count": 1,
          "metadata": {},
          "output_type": "execute_result"
        }
      ],
      "source": [
        "import pandas as pd\n",
        "import numpy as np\n",
        "table = {\n",
        "        \"Item\": ['Item0', 'Item0', 'Item1', 'Item1'],\n",
        "         'CType':['Gold', 'Bronze', 'Gold', 'Silver'],\n",
        "         'USD': [1, 2, 3, 4],\n",
        "         'EU':[1.1, 2.2, 3.3, 4.4]\n",
        "        }\n",
        "\n",
        "df = pd.DataFrame(table)\n",
        "df"
      ]
    },
    {
      "cell_type": "markdown",
      "id": "97305382-657a-4013-bc1f-d6e76927be74",
      "metadata": {
        "id": "97305382-657a-4013-bc1f-d6e76927be74"
      },
      "source": [
        "In such a table, it is not easy to see how the USD price varies over different customer types. You may like to reshape/pivot the table so that all USD prices for an item are on the row to compare more easily. "
      ]
    },
    {
      "cell_type": "code",
      "execution_count": null,
      "id": "125eb687-72b8-43f6-895f-0c780ea8a6d8",
      "metadata": {
        "tags": [],
        "id": "125eb687-72b8-43f6-895f-0c780ea8a6d8",
        "outputId": "a8ae36d0-deae-4801-a7d2-4cc2b37e3404"
      },
      "outputs": [
        {
          "data": {
            "text/html": [
              "<div>\n",
              "<style scoped>\n",
              "    .dataframe tbody tr th:only-of-type {\n",
              "        vertical-align: middle;\n",
              "    }\n",
              "\n",
              "    .dataframe tbody tr th {\n",
              "        vertical-align: top;\n",
              "    }\n",
              "\n",
              "    .dataframe thead th {\n",
              "        text-align: right;\n",
              "    }\n",
              "</style>\n",
              "<table border=\"1\" class=\"dataframe\">\n",
              "  <thead>\n",
              "    <tr style=\"text-align: right;\">\n",
              "      <th>CType</th>\n",
              "      <th>Bronze</th>\n",
              "      <th>Gold</th>\n",
              "      <th>Silver</th>\n",
              "    </tr>\n",
              "    <tr>\n",
              "      <th>Item</th>\n",
              "      <th></th>\n",
              "      <th></th>\n",
              "      <th></th>\n",
              "    </tr>\n",
              "  </thead>\n",
              "  <tbody>\n",
              "    <tr>\n",
              "      <th>Item0</th>\n",
              "      <td>2.0</td>\n",
              "      <td>1.0</td>\n",
              "      <td>NaN</td>\n",
              "    </tr>\n",
              "    <tr>\n",
              "      <th>Item1</th>\n",
              "      <td>NaN</td>\n",
              "      <td>3.0</td>\n",
              "      <td>4.0</td>\n",
              "    </tr>\n",
              "  </tbody>\n",
              "</table>\n",
              "</div>"
            ],
            "text/plain": [
              "CType  Bronze  Gold  Silver\n",
              "Item                       \n",
              "Item0     2.0   1.0     NaN\n",
              "Item1     NaN   3.0     4.0"
            ]
          },
          "execution_count": 2,
          "metadata": {},
          "output_type": "execute_result"
        }
      ],
      "source": [
        "pivot_df = df.pivot(index='Item', \n",
        "                    columns='CType', \n",
        "                    values='USD')\n",
        "pivot_df"
      ]
    },
    {
      "cell_type": "markdown",
      "id": "e76dc53f-cbff-49f2-904b-b08c747e7d61",
      "metadata": {
        "id": "e76dc53f-cbff-49f2-904b-b08c747e7d61"
      },
      "source": [
        "But `pivot()` function does not support data aggregation, multiple values will result in a MultiIndex in the columns."
      ]
    },
    {
      "cell_type": "markdown",
      "id": "e60eea44-a63f-453e-9279-9433fefe355f",
      "metadata": {
        "id": "e60eea44-a63f-453e-9279-9433fefe355f"
      },
      "source": [
        "The `pivot_table()` method comes to solve this problem. It works like pivot, but it aggregates the values from rows with duplicate entries for the specified columns. \n",
        "\n",
        "In other words, in the previous example we could have used the mean, the median or another aggregation function to compute a single value from the conflicting entries. \n",
        "\n",
        "This is depicted in the example below."
      ]
    },
    {
      "cell_type": "code",
      "execution_count": null,
      "id": "e8fa2832-6827-47d6-a21f-275cee4327f3",
      "metadata": {
        "tags": [],
        "id": "e8fa2832-6827-47d6-a21f-275cee4327f3"
      },
      "outputs": [],
      "source": [
        "pivot_df = df.pivot_table(index='Item', \n",
        "                          columns='CType',\n",
        "                          values='USD', \n",
        "                          aggfunc=np.min).reset_index()\n",
        "pivot_df"
      ]
    },
    {
      "cell_type": "code",
      "execution_count": null,
      "id": "9c810220-5352-43ce-9e0d-e84e550593b0",
      "metadata": {
        "tags": [],
        "id": "9c810220-5352-43ce-9e0d-e84e550593b0"
      },
      "outputs": [],
      "source": [
        "data = {'indicator':[1, 2, 3,4, 5, 1, 2, 3, 4, 5],\n",
        "       'country':['Ethiopia', 'Ethiopia','Ethiopia', 'Ethiopia',\n",
        "                  'Ethiopia', 'Ethiopia','Ethiopia', 'Ethiopia',\n",
        "                  'Ethiopia', 'Ethiopia'],\n",
        "        'year':[2021, 2021, 2021, 2021, 2021, 2022, 2022, 2022, 2022, 2022],\n",
        "        'value':[6, 13, 10, 11, 5, 3, 2, 7, 3, 6]\n",
        "    }\n",
        "df = pd.DataFrame(data)\n",
        "df"
      ]
    },
    {
      "cell_type": "markdown",
      "id": "6c031760-c1f6-45f5-b41b-cf61e999ff50",
      "metadata": {
        "id": "6c031760-c1f6-45f5-b41b-cf61e999ff50"
      },
      "source": [
        "I would like to transpose the table so that the values in the indicator name column are the new columns,"
      ]
    },
    {
      "cell_type": "code",
      "execution_count": null,
      "id": "01e43d76-db5c-4de8-8b52-f5ddec07c028",
      "metadata": {
        "tags": [],
        "id": "01e43d76-db5c-4de8-8b52-f5ddec07c028"
      },
      "outputs": [],
      "source": [
        "pd.pivot_table(df, values = 'value', \n",
        "               index=['country','year'], \n",
        "               columns = 'indicator').reset_index()"
      ]
    },
    {
      "cell_type": "markdown",
      "id": "ea399889-5909-407f-b195-1fbc63992081",
      "metadata": {
        "id": "ea399889-5909-407f-b195-1fbc63992081"
      },
      "source": [
        "In essence `pivot_table` is a generalisation of pivot, which allows you to aggregate multiple values with the same destination in the pivoted table."
      ]
    },
    {
      "cell_type": "markdown",
      "id": "92cd8f89-4002-4356-ba30-13886208ba69",
      "metadata": {
        "id": "92cd8f89-4002-4356-ba30-13886208ba69"
      },
      "source": [
        "## 1: `df.iloc and df.loc`"
      ]
    },
    {
      "cell_type": "markdown",
      "id": "c6c4dced-7b94-4f9b-a86d-e40f15331611",
      "metadata": {
        "id": "c6c4dced-7b94-4f9b-a86d-e40f15331611"
      },
      "source": [
        "`df.iloc()` takes as a parameter the `rows and column` indices and gives you the subset of the DataFrame accordingly."
      ]
    },
    {
      "cell_type": "markdown",
      "id": "7dc0aa5d-e2e7-4d56-a760-920c76201546",
      "metadata": {
        "id": "7dc0aa5d-e2e7-4d56-a760-920c76201546"
      },
      "source": [
        "Here, generate dummy data"
      ]
    },
    {
      "cell_type": "code",
      "execution_count": null,
      "id": "0b5d36f2-45d5-46b0-aa9d-58752480cd47",
      "metadata": {
        "tags": [],
        "id": "0b5d36f2-45d5-46b0-aa9d-58752480cd47"
      },
      "outputs": [],
      "source": [
        "import pandas as pd\n",
        "from faker import Faker\n",
        "\n",
        "faker = Faker()\n",
        "\"\"\"\n",
        "Generate fake data which includes\n",
        "- first_name, last_name, sex, email, birth_date, country\n",
        "\"\"\" \n",
        "# create empty dictionary\n",
        "dummy_data = {'name': [],\n",
        "              'birth_date':[], 'country':[]}\n",
        "# iterating over rows and append each data to the dict\n",
        "for i in range(10):\n",
        "    dummy_data['name'].append(faker.name())\n",
        "    dummy_data['birth_date'].append(faker.date_of_birth())\n",
        "    dummy_data['country'].append(faker.country())"
      ]
    },
    {
      "cell_type": "code",
      "execution_count": null,
      "id": "4aa34a03-1268-4a18-987e-a2aa5fdedbce",
      "metadata": {
        "tags": [],
        "id": "4aa34a03-1268-4a18-987e-a2aa5fdedbce",
        "outputId": "1173e66f-5cd5-4027-90ee-9c50184acae7"
      },
      "outputs": [
        {
          "data": {
            "text/html": [
              "<div>\n",
              "<style scoped>\n",
              "    .dataframe tbody tr th:only-of-type {\n",
              "        vertical-align: middle;\n",
              "    }\n",
              "\n",
              "    .dataframe tbody tr th {\n",
              "        vertical-align: top;\n",
              "    }\n",
              "\n",
              "    .dataframe thead th {\n",
              "        text-align: right;\n",
              "    }\n",
              "</style>\n",
              "<table border=\"1\" class=\"dataframe\">\n",
              "  <thead>\n",
              "    <tr style=\"text-align: right;\">\n",
              "      <th></th>\n",
              "      <th>name</th>\n",
              "      <th>birth_date</th>\n",
              "      <th>country</th>\n",
              "    </tr>\n",
              "  </thead>\n",
              "  <tbody>\n",
              "    <tr>\n",
              "      <th>0</th>\n",
              "      <td>Emily Andrade</td>\n",
              "      <td>1908-01-19</td>\n",
              "      <td>Tonga</td>\n",
              "    </tr>\n",
              "    <tr>\n",
              "      <th>1</th>\n",
              "      <td>Sarah Brown</td>\n",
              "      <td>1999-08-24</td>\n",
              "      <td>Cyprus</td>\n",
              "    </tr>\n",
              "    <tr>\n",
              "      <th>2</th>\n",
              "      <td>Christopher Hunter</td>\n",
              "      <td>1942-11-21</td>\n",
              "      <td>Thailand</td>\n",
              "    </tr>\n",
              "    <tr>\n",
              "      <th>3</th>\n",
              "      <td>Mrs. Christine Rojas</td>\n",
              "      <td>1961-04-08</td>\n",
              "      <td>Belgium</td>\n",
              "    </tr>\n",
              "    <tr>\n",
              "      <th>4</th>\n",
              "      <td>Samantha Lewis</td>\n",
              "      <td>2015-12-13</td>\n",
              "      <td>Luxembourg</td>\n",
              "    </tr>\n",
              "    <tr>\n",
              "      <th>5</th>\n",
              "      <td>Jennifer Graham</td>\n",
              "      <td>2000-08-11</td>\n",
              "      <td>Mexico</td>\n",
              "    </tr>\n",
              "    <tr>\n",
              "      <th>6</th>\n",
              "      <td>Christopher Ortiz</td>\n",
              "      <td>1935-08-31</td>\n",
              "      <td>Tokelau</td>\n",
              "    </tr>\n",
              "    <tr>\n",
              "      <th>7</th>\n",
              "      <td>Jonathon Gibson</td>\n",
              "      <td>2011-09-20</td>\n",
              "      <td>Afghanistan</td>\n",
              "    </tr>\n",
              "    <tr>\n",
              "      <th>8</th>\n",
              "      <td>Carmen Johnson</td>\n",
              "      <td>2018-11-29</td>\n",
              "      <td>Colombia</td>\n",
              "    </tr>\n",
              "    <tr>\n",
              "      <th>9</th>\n",
              "      <td>Janice Walsh</td>\n",
              "      <td>1956-04-07</td>\n",
              "      <td>Andorra</td>\n",
              "    </tr>\n",
              "  </tbody>\n",
              "</table>\n",
              "</div>"
            ],
            "text/plain": [
              "                   name  birth_date      country\n",
              "0         Emily Andrade  1908-01-19        Tonga\n",
              "1           Sarah Brown  1999-08-24       Cyprus\n",
              "2    Christopher Hunter  1942-11-21     Thailand\n",
              "3  Mrs. Christine Rojas  1961-04-08      Belgium\n",
              "4        Samantha Lewis  2015-12-13   Luxembourg\n",
              "5       Jennifer Graham  2000-08-11       Mexico\n",
              "6     Christopher Ortiz  1935-08-31      Tokelau\n",
              "7       Jonathon Gibson  2011-09-20  Afghanistan\n",
              "8        Carmen Johnson  2018-11-29     Colombia\n",
              "9          Janice Walsh  1956-04-07      Andorra"
            ]
          },
          "execution_count": 3,
          "metadata": {},
          "output_type": "execute_result"
        }
      ],
      "source": [
        "# explore the data\n",
        "df = pd.DataFrame(dummy_data)\n",
        "# save this to csv file\n",
        "df.to_csv('person_info.csv', index=False)\n",
        "df"
      ]
    },
    {
      "cell_type": "markdown",
      "id": "cdcbd72e-f5b7-4612-9d3e-8be131e3bddd",
      "metadata": {
        "id": "cdcbd72e-f5b7-4612-9d3e-8be131e3bddd"
      },
      "source": [
        "Here, I am taking the first 4 rows of data and index 1st to index 3rd columns:"
      ]
    },
    {
      "cell_type": "code",
      "execution_count": null,
      "id": "aede7b19-ec54-4cd6-bb6e-707ae7457c7b",
      "metadata": {
        "tags": [],
        "id": "aede7b19-ec54-4cd6-bb6e-707ae7457c7b",
        "outputId": "c3bfb557-9dfa-4c90-fbaa-4985aaacf0d3"
      },
      "outputs": [
        {
          "data": {
            "text/html": [
              "<div>\n",
              "<style scoped>\n",
              "    .dataframe tbody tr th:only-of-type {\n",
              "        vertical-align: middle;\n",
              "    }\n",
              "\n",
              "    .dataframe tbody tr th {\n",
              "        vertical-align: top;\n",
              "    }\n",
              "\n",
              "    .dataframe thead th {\n",
              "        text-align: right;\n",
              "    }\n",
              "</style>\n",
              "<table border=\"1\" class=\"dataframe\">\n",
              "  <thead>\n",
              "    <tr style=\"text-align: right;\">\n",
              "      <th></th>\n",
              "      <th>birth_date</th>\n",
              "      <th>country</th>\n",
              "    </tr>\n",
              "  </thead>\n",
              "  <tbody>\n",
              "    <tr>\n",
              "      <th>0</th>\n",
              "      <td>1908-01-19</td>\n",
              "      <td>Tonga</td>\n",
              "    </tr>\n",
              "    <tr>\n",
              "      <th>1</th>\n",
              "      <td>1999-08-24</td>\n",
              "      <td>Cyprus</td>\n",
              "    </tr>\n",
              "    <tr>\n",
              "      <th>2</th>\n",
              "      <td>1942-11-21</td>\n",
              "      <td>Thailand</td>\n",
              "    </tr>\n",
              "    <tr>\n",
              "      <th>3</th>\n",
              "      <td>1961-04-08</td>\n",
              "      <td>Belgium</td>\n",
              "    </tr>\n",
              "    <tr>\n",
              "      <th>4</th>\n",
              "      <td>2015-12-13</td>\n",
              "      <td>Luxembourg</td>\n",
              "    </tr>\n",
              "    <tr>\n",
              "      <th>5</th>\n",
              "      <td>2000-08-11</td>\n",
              "      <td>Mexico</td>\n",
              "    </tr>\n",
              "    <tr>\n",
              "      <th>6</th>\n",
              "      <td>1935-08-31</td>\n",
              "      <td>Tokelau</td>\n",
              "    </tr>\n",
              "    <tr>\n",
              "      <th>7</th>\n",
              "      <td>2011-09-20</td>\n",
              "      <td>Afghanistan</td>\n",
              "    </tr>\n",
              "    <tr>\n",
              "      <th>8</th>\n",
              "      <td>2018-11-29</td>\n",
              "      <td>Colombia</td>\n",
              "    </tr>\n",
              "    <tr>\n",
              "      <th>9</th>\n",
              "      <td>1956-04-07</td>\n",
              "      <td>Andorra</td>\n",
              "    </tr>\n",
              "  </tbody>\n",
              "</table>\n",
              "</div>"
            ],
            "text/plain": [
              "   birth_date      country\n",
              "0  1908-01-19        Tonga\n",
              "1  1999-08-24       Cyprus\n",
              "2  1942-11-21     Thailand\n",
              "3  1961-04-08      Belgium\n",
              "4  2015-12-13   Luxembourg\n",
              "5  2000-08-11       Mexico\n",
              "6  1935-08-31      Tokelau\n",
              "7  2011-09-20  Afghanistan\n",
              "8  2018-11-29     Colombia\n",
              "9  1956-04-07      Andorra"
            ]
          },
          "execution_count": 6,
          "metadata": {},
          "output_type": "execute_result"
        }
      ],
      "source": [
        "df1 = df.iloc[:, 1:]\n",
        "df1"
      ]
    },
    {
      "cell_type": "markdown",
      "id": "1ac64eb0-fc5d-479e-ab63-fd2dfa22760a",
      "metadata": {
        "id": "1ac64eb0-fc5d-479e-ab63-fd2dfa22760a"
      },
      "source": [
        "2. `df.loc()`- does almost the similar operation as `.iloc()` function.\n",
        "\n",
        "But here you can specify exactly which row index you want and also the name of the columns you want in your subset.\n",
        "\n",
        "Here is an example:"
      ]
    },
    {
      "cell_type": "code",
      "execution_count": null,
      "id": "8eb43a6a-c6ce-466f-944d-a736497004b4",
      "metadata": {
        "tags": [],
        "id": "8eb43a6a-c6ce-466f-944d-a736497004b4"
      },
      "outputs": [],
      "source": [
        "df.loc[[2, 3, 4], ['name', 'birth_date']]"
      ]
    },
    {
      "cell_type": "markdown",
      "id": "1e690b3e-9e85-407f-af8e-1360d58dac63",
      "metadata": {
        "id": "1e690b3e-9e85-407f-af8e-1360d58dac63"
      },
      "source": [
        "# 2. `df.insert()`\n",
        "\n",
        "As the name of the function suggests, it inserts a column in the specified position. \n",
        "\n"
      ]
    },
    {
      "cell_type": "code",
      "execution_count": null,
      "id": "543037e9-a1f1-4c38-8b2c-5de017ce629e",
      "metadata": {
        "jupyter": {
          "source_hidden": true
        },
        "id": "543037e9-a1f1-4c38-8b2c-5de017ce629e"
      },
      "outputs": [],
      "source": [
        "import pandas as pd"
      ]
    },
    {
      "cell_type": "code",
      "execution_count": null,
      "id": "84c0b046-4724-412f-9ba8-aa32a5b93ac2",
      "metadata": {
        "jupyter": {
          "source_hidden": true
        },
        "id": "84c0b046-4724-412f-9ba8-aa32a5b93ac2"
      },
      "outputs": [],
      "source": [
        "# read the data\n",
        "df = pd.read_csv('person_info.csv')"
      ]
    },
    {
      "cell_type": "code",
      "execution_count": null,
      "id": "91921b1a-37a7-4412-a919-4c5acb96d201",
      "metadata": {
        "jupyter": {
          "source_hidden": true
        },
        "id": "91921b1a-37a7-4412-a919-4c5acb96d201"
      },
      "outputs": [],
      "source": [
        "df"
      ]
    },
    {
      "cell_type": "markdown",
      "id": "e0f4300f-7dca-4735-8362-de88221207fd",
      "metadata": {
        "id": "e0f4300f-7dca-4735-8362-de88221207fd"
      },
      "source": [
        "To demonstrate that I will first calculate the age of each person and create list of age that have the same lenght of our DataFrame:"
      ]
    },
    {
      "cell_type": "code",
      "execution_count": null,
      "id": "6408572b-e201-43a2-bb24-80ed979de1e8",
      "metadata": {
        "jupyter": {
          "source_hidden": true
        },
        "id": "6408572b-e201-43a2-bb24-80ed979de1e8"
      },
      "outputs": [],
      "source": []
    }
  ],
  "metadata": {
    "kernelspec": {
      "display_name": "Python 3",
      "language": "python",
      "name": "python3"
    },
    "language_info": {
      "codemirror_mode": {
        "name": "ipython",
        "version": 3
      },
      "file_extension": ".py",
      "mimetype": "text/x-python",
      "name": "python",
      "nbconvert_exporter": "python",
      "pygments_lexer": "ipython3",
      "version": "3.9.10"
    },
    "colab": {
      "provenance": [],
      "include_colab_link": true
    }
  },
  "nbformat": 4,
  "nbformat_minor": 5
}