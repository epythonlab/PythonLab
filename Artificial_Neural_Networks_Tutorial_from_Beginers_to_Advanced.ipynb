{
  "nbformat": 4,
  "nbformat_minor": 0,
  "metadata": {
    "colab": {
      "provenance": [],
      "authorship_tag": "ABX9TyM6b0I8V6zj0zBJvzVYuSVw",
      "include_colab_link": true
    },
    "kernelspec": {
      "name": "python3",
      "display_name": "Python 3"
    },
    "language_info": {
      "name": "python"
    }
  },
  "cells": [
    {
      "cell_type": "markdown",
      "metadata": {
        "id": "view-in-github",
        "colab_type": "text"
      },
      "source": [
        "<a href=\"https://colab.research.google.com/github/epythonlab/PythonLab/blob/master/Artificial_Neural_Networks_Tutorial_from_Beginers_to_Advanced.ipynb\" target=\"_parent\"><img src=\"https://colab.research.google.com/assets/colab-badge.svg\" alt=\"Open In Colab\"/></a>"
      ]
    },
    {
      "cell_type": "markdown",
      "source": [
        "# Building a simple Neural Network with TensorFlow in Python"
      ],
      "metadata": {
        "id": "Nk8x2ow3ovGA"
      }
    },
    {
      "cell_type": "markdown",
      "source": [
        "## Intro"
      ],
      "metadata": {
        "id": "q6TwR-9Xo6xl"
      }
    },
    {
      "cell_type": "markdown",
      "source": [
        "Welcome to this tutorial on building a simple neural network in Python! In this video, I'll walk you through the basics of creating a neural network using **TensorFlow**. Stay tuned to gain a clear understanding of the fundamentals of neural networks with TensorFlow in Python"
      ],
      "metadata": {
        "id": "nFc24_ieo_cn"
      }
    },
    {
      "cell_type": "markdown",
      "source": [
        "## Steps:"
      ],
      "metadata": {
        "id": "Igxoxdrhp4Fc"
      }
    },
    {
      "cell_type": "markdown",
      "source": [
        "Here is the steps to build simple neural network in Python using the popular machine learning library **TensorFlow**"
      ],
      "metadata": {
        "id": "LIULbVvfpm2x"
      }
    },
    {
      "cell_type": "markdown",
      "source": [
        "### Step 1: Install tensorflow library"
      ],
      "metadata": {
        "id": "LDYELjAlp_na"
      }
    },
    {
      "cell_type": "code",
      "source": [],
      "metadata": {
        "id": "o9gU8TV_qEGK"
      },
      "execution_count": null,
      "outputs": []
    },
    {
      "cell_type": "markdown",
      "source": [
        "### Step 2: Import the necessary libraries"
      ],
      "metadata": {
        "id": "m63igxLiqF1x"
      }
    },
    {
      "cell_type": "code",
      "execution_count": null,
      "metadata": {
        "id": "FCMQA5e-opN1"
      },
      "outputs": [],
      "source": [
        "import tensorflow as tf\n",
        "import numpy as np"
      ]
    },
    {
      "cell_type": "markdown",
      "source": [
        "### Step 3: Create some training data\n",
        "- Generate synthetic data for training the model"
      ],
      "metadata": {
        "id": "_YwMcHijqLh_"
      }
    },
    {
      "cell_type": "code",
      "source": [
        "# Create some training data\n",
        "np.random.seed(0)\n",
        "X = np.random.rand(100, 1)\n",
        "y = 3 * X + 2 + 0.1 * np.random.randn(100, 1)\n"
      ],
      "metadata": {
        "id": "jduIjyweqWli"
      },
      "execution_count": null,
      "outputs": []
    },
    {
      "cell_type": "markdown",
      "source": [
        "#### Code explanation:"
      ],
      "metadata": {
        "id": "2svkWLv5tRzY"
      }
    },
    {
      "cell_type": "markdown",
      "source": [
        "I generated some synthetic data for training purposes, where the relationship between `X` and `y` is `y = 3*X + 2 + noise`"
      ],
      "metadata": {
        "id": "0v1jc05htUYb"
      }
    },
    {
      "cell_type": "markdown",
      "source": [
        "### Step 4: Define the architecture of the neural network"
      ],
      "metadata": {
        "id": "-uH3tnozqXYF"
      }
    },
    {
      "cell_type": "code",
      "source": [
        "# Define the architecture of the neural network\n",
        "model = tf.keras.Sequential([\n",
        "    tf.keras.layers.Dense(1, input_shape=(1,)),\n",
        "])"
      ],
      "metadata": {
        "id": "ZJVQkdyzqbiT"
      },
      "execution_count": null,
      "outputs": []
    },
    {
      "cell_type": "markdown",
      "source": [
        "#### Code Explanation:\n"
      ],
      "metadata": {
        "id": "i7696iirsNh0"
      }
    },
    {
      "cell_type": "markdown",
      "source": [
        "`tf.keras.Sequential`: Sequential is a simple way to build a neural network layer by layer. It allows you to create models layer-by-layer in a step-by-step fashion. Each layer has parameters that are learned during the training process.\n",
        "\n",
        "The Sequential model is the most straightforward model to use, but it is limited in that it does not allow you to create models that share layers or have multiple inputs or outputs."
      ],
      "metadata": {
        "id": "c1DCRIDGsShF"
      }
    },
    {
      "cell_type": "markdown",
      "source": [
        "`tf.keras.layers.Dense:` Dense is a type of layer used in a neural network. It is the basic layer in a neural network, also known as a fully connected layer. Each neuron in a dense layer receives input from all neurons in the previous layer, thus densely connected.\n",
        "\n",
        "The Dense layer performs a simple linear transformation on the input, followed by an activation function (if specified). In this example, I created a Dense layer with 1 unit (neuron) and specified an input shape of (1,), indicating that the input to this layer is a one-dimensional array."
      ],
      "metadata": {
        "id": "s_4EypRzsga7"
      }
    },
    {
      "cell_type": "markdown",
      "source": [
        "In summary,` tf.keras.Sequential` is used to create a linear stack of layers, and `tf.keras.layers.Dense` is one of the types of layers that can be added to the sequential model, providing the basic functionality of a fully connected neural network layer."
      ],
      "metadata": {
        "id": "_8sU-bXBs_L5"
      }
    },
    {
      "cell_type": "markdown",
      "source": [
        "### Step 5: Compile the model"
      ],
      "metadata": {
        "id": "4q0j1Cn_qc51"
      }
    },
    {
      "cell_type": "code",
      "source": [
        "# Compile the model\n",
        "model.compile(optimizer='sgd', loss='mse')"
      ],
      "metadata": {
        "id": "FeTIdOL0qyTJ"
      },
      "execution_count": null,
      "outputs": []
    },
    {
      "cell_type": "markdown",
      "source": [
        "#### Code Explanation:"
      ],
      "metadata": {
        "id": "yck45LZAuNt1"
      }
    },
    {
      "cell_type": "markdown",
      "source": [
        "The `model.compile` function configures the learning process for the neural network. Specifically, it uses stochastic gradient descent `('sgd')` as the optimizer and mean squared error `('mse')` as the loss function."
      ],
      "metadata": {
        "id": "Sp_lIP5MuQ5j"
      }
    },
    {
      "cell_type": "markdown",
      "source": [
        "### Step 6: Train the model"
      ],
      "metadata": {
        "id": "Po5H0CQtq1XC"
      }
    },
    {
      "cell_type": "code",
      "source": [
        "# Train the model\n",
        "model.fit(X, y, epochs=100)\n"
      ],
      "metadata": {
        "id": "bEQZBFcBq3Xc"
      },
      "execution_count": null,
      "outputs": []
    },
    {
      "cell_type": "markdown",
      "source": [
        "### Code Explanation:"
      ],
      "metadata": {
        "id": "qoslVnbju8fH"
      }
    },
    {
      "cell_type": "markdown",
      "source": [
        "An **epoch** refers to one complete pass through the entire training dataset during the training of a model. Each **epoch** consists of one forward pass and one backward pass of all the training examples.\n",
        "\n",
        "Training for multiple epochs allows the model to see the training data multiple times, which helps in improving the model's accuracy and generalization."
      ],
      "metadata": {
        "id": "6FAe-3AUu_xe"
      }
    },
    {
      "cell_type": "markdown",
      "source": [
        " `model.fit(X, y, epochs=100)` is used to train the neural network model on the provided training data (X and y) for a specified number of epochs (100 in this case). During each epoch, the model updates its parameters based on the training data and the configured loss function and optimizer.\n",
        "\n",
        " Training for multiple epochs helps the model to learn from the data and improve its ability to make accurate predictions on unseen data."
      ],
      "metadata": {
        "id": "1PluxZNAvVWn"
      }
    },
    {
      "cell_type": "markdown",
      "source": [
        "### Step 7: Make predictions"
      ],
      "metadata": {
        "id": "OdqMCKybq7Ol"
      }
    },
    {
      "cell_type": "code",
      "source": [
        "# Make predictions\n",
        "X_test = np.array([[0.2], [0.4], [0.6]])\n",
        "predictions = model.predict(X_test)\n",
        "print(predictions)"
      ],
      "metadata": {
        "id": "-l8ZTdSQq9fb"
      },
      "execution_count": null,
      "outputs": []
    },
    {
      "cell_type": "markdown",
      "source": [
        "## Outro"
      ],
      "metadata": {
        "id": "FnjUDoqwpPQG"
      }
    },
    {
      "cell_type": "markdown",
      "source": [
        "I hope you found this tutorial helpful in understanding the basics of neural networks. Don't forget to subscribe to the channel for more exciting tutorials and content on machine learning and artificial intelligence. Thank you for watching, and I'll see you in the next video!"
      ],
      "metadata": {
        "id": "aApzUbmdpSdH"
      }
    }
  ]
}